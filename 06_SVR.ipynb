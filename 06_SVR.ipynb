{
 "cells": [
  {
   "cell_type": "markdown",
   "id": "ad461639",
   "metadata": {},
   "source": [
    "## Predviđanje vrednosti bitkoina za DAYS_TO_PREDICT_SVR dana korišćenjem SVR\n",
    "\n",
    "**Korišćeni atributi:** Close\n",
    "\n",
    "**Napomena:** Podaci koji predstavljaju vrednosti bitkoina su dati u minutima.\n",
    "\n",
    "**Filtrirani podaci:** od 38.03.2021.\n",
    "\n",
    "**Koraci:**\n",
    "1. Učitavanje i pretprocesiranje podataka\n",
    "2. Filtriranje kolona\n",
    "3. Odredjivanje ciljne promenljive za svaki od skupova\n",
    "4. Podela skupa podataka i skaliranje\n",
    "5. Kreiranje i treniranje modela i računanje skora\n",
    "6. Izracunavanje metrika\n",
    "7. Predvidjanje poslednjih DAYS_TO_PREDICT_SVR dana"
   ]
  },
  {
   "cell_type": "markdown",
   "id": "5eff8df3",
   "metadata": {},
   "source": [
    "### Učitavanje biblioteka"
   ]
  },
  {
   "cell_type": "code",
   "execution_count": null,
   "id": "d83ee216",
   "metadata": {},
   "outputs": [],
   "source": [
    "import pandas as pd\n",
    "import numpy as np\n",
    "import matplotlib.pyplot as plt\n",
    "%matplotlib inline\n",
    "from sklearn.model_selection import train_test_split\n",
    "from sklearn.linear_model import LogisticRegression\n",
    "from sklearn import metrics\n",
    "from sklearn.metrics import classification_report\n",
    "from sklearn.svm import SVR\n",
    "from sklearn.preprocessing import MinMaxScaler\n",
    "from sklearn.metrics import r2_score\n",
    "from sklearn.metrics import mean_squared_error\n",
    "from sklearn.metrics import mean_absolute_error\n",
    "import pickle\n",
    "\n",
    "%run 02_Preprocessing_and_data_analysis.ipynb\n",
    "#%run 03_Utility_functions.ipynb"
   ]
  },
  {
   "cell_type": "code",
   "execution_count": 5,
   "id": "ccc13b6d",
   "metadata": {},
   "outputs": [],
   "source": [
    "DAYS_TO_PREDICT_SVR = 60"
   ]
  },
  {
   "cell_type": "markdown",
   "id": "5cb5eb32",
   "metadata": {},
   "source": [
    "### Učitavanje i pretprocesiranje skupa podataka"
   ]
  },
  {
   "cell_type": "code",
   "execution_count": 6,
   "id": "50b3c21f",
   "metadata": {},
   "outputs": [],
   "source": [
    "data = preprocess_data(file_name = 'bitstampUSD_1-min_data_2012-01-01_to_2021-03-31.csv')"
   ]
  },
  {
   "cell_type": "code",
   "execution_count": 7,
   "id": "f6b982f4",
   "metadata": {},
   "outputs": [],
   "source": [
    "data = filter_data(data, date_str = '2021-03-28')"
   ]
  },
  {
   "cell_type": "code",
   "execution_count": 8,
   "id": "8b091a2f",
   "metadata": {},
   "outputs": [
    {
     "data": {
      "text/html": [
       "<div>\n",
       "<style scoped>\n",
       "    .dataframe tbody tr th:only-of-type {\n",
       "        vertical-align: middle;\n",
       "    }\n",
       "\n",
       "    .dataframe tbody tr th {\n",
       "        vertical-align: top;\n",
       "    }\n",
       "\n",
       "    .dataframe thead th {\n",
       "        text-align: right;\n",
       "    }\n",
       "</style>\n",
       "<table border=\"1\" class=\"dataframe\">\n",
       "  <thead>\n",
       "    <tr style=\"text-align: right;\">\n",
       "      <th></th>\n",
       "      <th>Timestamp</th>\n",
       "      <th>Open</th>\n",
       "      <th>High</th>\n",
       "      <th>Low</th>\n",
       "      <th>Close</th>\n",
       "      <th>Volume_(BTC)</th>\n",
       "      <th>Volume_(Currency)</th>\n",
       "      <th>Weighted_Price</th>\n",
       "      <th>Date</th>\n",
       "    </tr>\n",
       "  </thead>\n",
       "  <tbody>\n",
       "    <tr>\n",
       "      <th>4854496</th>\n",
       "      <td>1616976000</td>\n",
       "      <td>55790.28</td>\n",
       "      <td>55822.98</td>\n",
       "      <td>55777.98</td>\n",
       "      <td>55804.36</td>\n",
       "      <td>1.731449</td>\n",
       "      <td>96636.546983</td>\n",
       "      <td>55812.518695</td>\n",
       "      <td>2021-03-29</td>\n",
       "    </tr>\n",
       "    <tr>\n",
       "      <th>4854497</th>\n",
       "      <td>1616976060</td>\n",
       "      <td>55822.98</td>\n",
       "      <td>55857.28</td>\n",
       "      <td>55822.98</td>\n",
       "      <td>55857.28</td>\n",
       "      <td>0.589603</td>\n",
       "      <td>32931.781301</td>\n",
       "      <td>55854.182542</td>\n",
       "      <td>2021-03-29</td>\n",
       "    </tr>\n",
       "    <tr>\n",
       "      <th>4854498</th>\n",
       "      <td>1616976120</td>\n",
       "      <td>55822.98</td>\n",
       "      <td>55829.04</td>\n",
       "      <td>55766.15</td>\n",
       "      <td>55779.04</td>\n",
       "      <td>2.729659</td>\n",
       "      <td>152263.034630</td>\n",
       "      <td>55780.964698</td>\n",
       "      <td>2021-03-29</td>\n",
       "    </tr>\n",
       "    <tr>\n",
       "      <th>4854500</th>\n",
       "      <td>1616976240</td>\n",
       "      <td>55766.15</td>\n",
       "      <td>55768.63</td>\n",
       "      <td>55766.15</td>\n",
       "      <td>55768.63</td>\n",
       "      <td>0.023738</td>\n",
       "      <td>1323.776861</td>\n",
       "      <td>55766.455065</td>\n",
       "      <td>2021-03-29</td>\n",
       "    </tr>\n",
       "    <tr>\n",
       "      <th>4854501</th>\n",
       "      <td>1616976300</td>\n",
       "      <td>55770.46</td>\n",
       "      <td>55778.48</td>\n",
       "      <td>55736.83</td>\n",
       "      <td>55742.20</td>\n",
       "      <td>0.389067</td>\n",
       "      <td>21692.454676</td>\n",
       "      <td>55755.006032</td>\n",
       "      <td>2021-03-29</td>\n",
       "    </tr>\n",
       "    <tr>\n",
       "      <th>...</th>\n",
       "      <td>...</td>\n",
       "      <td>...</td>\n",
       "      <td>...</td>\n",
       "      <td>...</td>\n",
       "      <td>...</td>\n",
       "      <td>...</td>\n",
       "      <td>...</td>\n",
       "      <td>...</td>\n",
       "      <td>...</td>\n",
       "    </tr>\n",
       "    <tr>\n",
       "      <th>4857372</th>\n",
       "      <td>1617148560</td>\n",
       "      <td>58714.31</td>\n",
       "      <td>58714.31</td>\n",
       "      <td>58686.00</td>\n",
       "      <td>58686.00</td>\n",
       "      <td>1.384487</td>\n",
       "      <td>81259.372187</td>\n",
       "      <td>58692.753339</td>\n",
       "      <td>2021-03-30</td>\n",
       "    </tr>\n",
       "    <tr>\n",
       "      <th>4857373</th>\n",
       "      <td>1617148620</td>\n",
       "      <td>58683.97</td>\n",
       "      <td>58693.43</td>\n",
       "      <td>58683.97</td>\n",
       "      <td>58685.81</td>\n",
       "      <td>7.294848</td>\n",
       "      <td>428158.146640</td>\n",
       "      <td>58693.226508</td>\n",
       "      <td>2021-03-30</td>\n",
       "    </tr>\n",
       "    <tr>\n",
       "      <th>4857374</th>\n",
       "      <td>1617148680</td>\n",
       "      <td>58693.43</td>\n",
       "      <td>58723.84</td>\n",
       "      <td>58693.43</td>\n",
       "      <td>58723.84</td>\n",
       "      <td>1.705682</td>\n",
       "      <td>100117.070370</td>\n",
       "      <td>58696.198496</td>\n",
       "      <td>2021-03-30</td>\n",
       "    </tr>\n",
       "    <tr>\n",
       "      <th>4857375</th>\n",
       "      <td>1617148740</td>\n",
       "      <td>58742.18</td>\n",
       "      <td>58770.38</td>\n",
       "      <td>58742.18</td>\n",
       "      <td>58760.59</td>\n",
       "      <td>0.720415</td>\n",
       "      <td>42332.958633</td>\n",
       "      <td>58761.866202</td>\n",
       "      <td>2021-03-30</td>\n",
       "    </tr>\n",
       "    <tr>\n",
       "      <th>4857376</th>\n",
       "      <td>1617148800</td>\n",
       "      <td>58767.75</td>\n",
       "      <td>58778.18</td>\n",
       "      <td>58755.97</td>\n",
       "      <td>58778.18</td>\n",
       "      <td>2.712831</td>\n",
       "      <td>159417.751000</td>\n",
       "      <td>58764.349363</td>\n",
       "      <td>2021-03-31</td>\n",
       "    </tr>\n",
       "  </tbody>\n",
       "</table>\n",
       "<p>2872 rows × 9 columns</p>\n",
       "</div>"
      ],
      "text/plain": [
       "          Timestamp      Open      High       Low     Close  Volume_(BTC)  \\\n",
       "4854496  1616976000  55790.28  55822.98  55777.98  55804.36      1.731449   \n",
       "4854497  1616976060  55822.98  55857.28  55822.98  55857.28      0.589603   \n",
       "4854498  1616976120  55822.98  55829.04  55766.15  55779.04      2.729659   \n",
       "4854500  1616976240  55766.15  55768.63  55766.15  55768.63      0.023738   \n",
       "4854501  1616976300  55770.46  55778.48  55736.83  55742.20      0.389067   \n",
       "...             ...       ...       ...       ...       ...           ...   \n",
       "4857372  1617148560  58714.31  58714.31  58686.00  58686.00      1.384487   \n",
       "4857373  1617148620  58683.97  58693.43  58683.97  58685.81      7.294848   \n",
       "4857374  1617148680  58693.43  58723.84  58693.43  58723.84      1.705682   \n",
       "4857375  1617148740  58742.18  58770.38  58742.18  58760.59      0.720415   \n",
       "4857376  1617148800  58767.75  58778.18  58755.97  58778.18      2.712831   \n",
       "\n",
       "         Volume_(Currency)  Weighted_Price        Date  \n",
       "4854496       96636.546983    55812.518695  2021-03-29  \n",
       "4854497       32931.781301    55854.182542  2021-03-29  \n",
       "4854498      152263.034630    55780.964698  2021-03-29  \n",
       "4854500        1323.776861    55766.455065  2021-03-29  \n",
       "4854501       21692.454676    55755.006032  2021-03-29  \n",
       "...                    ...             ...         ...  \n",
       "4857372       81259.372187    58692.753339  2021-03-30  \n",
       "4857373      428158.146640    58693.226508  2021-03-30  \n",
       "4857374      100117.070370    58696.198496  2021-03-30  \n",
       "4857375       42332.958633    58761.866202  2021-03-30  \n",
       "4857376      159417.751000    58764.349363  2021-03-31  \n",
       "\n",
       "[2872 rows x 9 columns]"
      ]
     },
     "execution_count": 8,
     "metadata": {},
     "output_type": "execute_result"
    }
   ],
   "source": [
    "data"
   ]
  },
  {
   "cell_type": "markdown",
   "id": "7005abb3",
   "metadata": {},
   "source": [
    "### Uklanjanje nepotrebnih kolona"
   ]
  },
  {
   "cell_type": "code",
   "execution_count": 9,
   "id": "71c5ec76",
   "metadata": {},
   "outputs": [
    {
     "data": {
      "text/html": [
       "<div>\n",
       "<style scoped>\n",
       "    .dataframe tbody tr th:only-of-type {\n",
       "        vertical-align: middle;\n",
       "    }\n",
       "\n",
       "    .dataframe tbody tr th {\n",
       "        vertical-align: top;\n",
       "    }\n",
       "\n",
       "    .dataframe thead th {\n",
       "        text-align: right;\n",
       "    }\n",
       "</style>\n",
       "<table border=\"1\" class=\"dataframe\">\n",
       "  <thead>\n",
       "    <tr style=\"text-align: right;\">\n",
       "      <th></th>\n",
       "      <th>Close</th>\n",
       "    </tr>\n",
       "  </thead>\n",
       "  <tbody>\n",
       "    <tr>\n",
       "      <th>4854496</th>\n",
       "      <td>55804.36</td>\n",
       "    </tr>\n",
       "    <tr>\n",
       "      <th>4854497</th>\n",
       "      <td>55857.28</td>\n",
       "    </tr>\n",
       "    <tr>\n",
       "      <th>4854498</th>\n",
       "      <td>55779.04</td>\n",
       "    </tr>\n",
       "    <tr>\n",
       "      <th>4854500</th>\n",
       "      <td>55768.63</td>\n",
       "    </tr>\n",
       "    <tr>\n",
       "      <th>4854501</th>\n",
       "      <td>55742.20</td>\n",
       "    </tr>\n",
       "  </tbody>\n",
       "</table>\n",
       "</div>"
      ],
      "text/plain": [
       "            Close\n",
       "4854496  55804.36\n",
       "4854497  55857.28\n",
       "4854498  55779.04\n",
       "4854500  55768.63\n",
       "4854501  55742.20"
      ]
     },
     "execution_count": 9,
     "metadata": {},
     "output_type": "execute_result"
    }
   ],
   "source": [
    "data = data.drop(['Timestamp', 'Open', 'High', 'Low', 'Volume_(BTC)','Volume_(Currency)','Weighted_Price', 'Date'], axis=1)\n",
    "data.head()"
   ]
  },
  {
   "cell_type": "markdown",
   "id": "98431f6b",
   "metadata": {},
   "source": [
    "### Vizuelni prikaz podataka"
   ]
  },
  {
   "cell_type": "code",
   "execution_count": 10,
   "id": "31b65a84",
   "metadata": {},
   "outputs": [
    {
     "data": {
      "image/png": "[encoded data removed]",
      "text/plain": [
       "<Figure size 432x288 with 1 Axes>"
      ]
     },
     "metadata": {
      "needs_background": "light"
     },
     "output_type": "display_data"
    }
   ],
   "source": [
    "plt.title('Vizuelni prikaz kolone \"Close\"')\n",
    "plt.hist(data['Close'],color='red')\n",
    "plt.xlabel('vrednost atributa \"Close\"')\n",
    "plt.ylabel('ukupan broj instanci')\n",
    "plt.show()"
   ]
  },
  {
   "cell_type": "markdown",
   "id": "8e197a36",
   "metadata": {},
   "source": [
    "Sa grafika se moze zakljuciti da najvise ima onih instanci cija je vrednost atributa 'Close' u intervalu [57000, 58000] i u intervalu [58500, 59000] (grubo)."
   ]
  },
  {
   "cell_type": "markdown",
   "id": "36dac49a",
   "metadata": {},
   "source": [
    "### **Odredjivanje ciljne promenljive**"
   ]
  },
  {
   "cell_type": "code",
   "execution_count": 11,
   "id": "cab6436d",
   "metadata": {},
   "outputs": [],
   "source": [
    "# Funkcija koja odredjuje skupove X i y (y je target promenljiva)\n",
    "# na osnovu datog skupa podataka i dana za predvidjanje, tako sto\n",
    "# kreira novu kolonu 'Predictions' u koju upisuje predvidjene vrednosti\n",
    "\n",
    "def determine_x_and_y(days_to_predict, data):\n",
    "    \n",
    "    data['Predictions'] = data[['Close']].shift(-days_to_predict)\n",
    "    \n",
    "    last_instance = len(data) - days_to_predict\n",
    "\n",
    "    X = data.drop(['Predictions'], 1)\n",
    "    X = np.array(X)\n",
    "    X = X[: last_instance]\n",
    "\n",
    "    y = data['Predictions']\n",
    "    y = np.array(y)\n",
    "    y = y[: last_instance]\n",
    "    \n",
    "    \n",
    "    # Vizuelni prikaz X i y\n",
    "    \n",
    "    plt.title('Vrednosti atributa X i ciljne promenljive y')\n",
    "    plt.plot(y, label = 'y', color = 'red')\n",
    "    plt.plot(X, label = 'X', color = 'darkorange')\n",
    "    #plt.xlabel('Timestamp')\n",
    "    plt.ylabel('Vrednost atributa \"Close\"')\n",
    "    plt.legend(loc = 'best')\n",
    "    plt.show()\n",
    "    \n",
    "    return X, y"
   ]
  },
  {
   "cell_type": "code",
   "execution_count": 12,
   "id": "637e5389",
   "metadata": {},
   "outputs": [
    {
     "data": {
      "image/png": "[encoded data removed]",
      "text/plain": [
       "<Figure size 432x288 with 1 Axes>"
      ]
     },
     "metadata": {
      "needs_background": "light"
     },
     "output_type": "display_data"
    }
   ],
   "source": [
    "X, y = determine_x_and_y(DAYS_TO_PREDICT_SVR, data)"
   ]
  },
  {
   "cell_type": "markdown",
   "id": "26342e9f",
   "metadata": {},
   "source": [
    "U narednim linijama koda (naredne dve linije) se može videti da ciljna promenljiva $y$ ima vrednosti koje se kreću od vrednosti 60. elementa atributa $X$."
   ]
  },
  {
   "cell_type": "code",
   "execution_count": 13,
   "id": "1d96fa1f",
   "metadata": {},
   "outputs": [
    {
     "data": {
      "text/plain": [
       "array([[55455.06],\n",
       "       [55457.06],\n",
       "       [55439.84],\n",
       "       ...,\n",
       "       [58703.26],\n",
       "       [58706.76],\n",
       "       [58705.95]])"
      ]
     },
     "execution_count": 13,
     "metadata": {},
     "output_type": "execute_result"
    }
   ],
   "source": [
    "X[59:]"
   ]
  },
  {
   "cell_type": "code",
   "execution_count": 14,
   "id": "75b50b21",
   "metadata": {},
   "outputs": [
    {
     "data": {
      "text/plain": [
       "array([55457.06, 55439.84, 55415.07, ..., 58723.84, 58760.59, 58778.18])"
      ]
     },
     "execution_count": 14,
     "metadata": {},
     "output_type": "execute_result"
    }
   ],
   "source": [
    "y"
   ]
  },
  {
   "cell_type": "markdown",
   "id": "c89c93e6",
   "metadata": {},
   "source": [
    "### **Podela skupa podataka i skaliranje**"
   ]
  },
  {
   "cell_type": "code",
   "execution_count": 40,
   "id": "68b30092",
   "metadata": {},
   "outputs": [],
   "source": [
    "# Funkcija koja vrsi podelu skupa podataka\n",
    "# na skupove za treniranje i testiranje\n",
    "\n",
    "def split_data(days, X, y, test_size):\n",
    "    \n",
    "    limit = len(X) - test_size\n",
    "    X_train = X[: limit]\n",
    "    y_train = y[: limit]\n",
    "    X_test = X[limit :]\n",
    "    y_test = y[limit :]\n",
    "    \n",
    "    \n",
    "    # Skaliranje\n",
    "    \n",
    "    scaler = MinMaxScaler()\n",
    "    X_train = scaler.fit_transform(X_train)\n",
    "    X_test = scaler.transform(X_test)\n",
    "    \n",
    "    # Vizuelni prikaz\n",
    "        \n",
    "    #plt.title('Train i test skup')\n",
    "    #plt.plot(X_train, label = 'X train')\n",
    "    #plt.plot(X_test, label = 'X test')\n",
    "    #plt.plot(y_train, label = 'y train')\n",
    "    #plt.plot(y_test, label = 'y test')\n",
    "    #plt.ylabel('Vrednost atributa \"Close\"')\n",
    "    #plt.legend(loc = 'best')\n",
    "    #plt.show()\n",
    "    \n",
    "    return X_train, X_test, y_train, y_test"
   ]
  },
  {
   "cell_type": "code",
   "execution_count": null,
   "id": "64b117b7",
   "metadata": {},
   "outputs": [],
   "source": []
  },
  {
   "cell_type": "markdown",
   "id": "fbc4d2cf",
   "metadata": {},
   "source": [
    "### Kreiranje i treniranje modela i računanje skora"
   ]
  },
  {
   "cell_type": "code",
   "execution_count": 41,
   "id": "8d02fb8f",
   "metadata": {},
   "outputs": [],
   "source": [
    "# Funkcija koja kreira model, trenira ga\n",
    "# i izracunava skor (r2 skor) modela\n",
    "\n",
    "def calculate_score(days, X, y, test_size = 100):\n",
    "    \n",
    "    X_train, X_test, y_train, y_test = split_data(days, X, y, test_size)\n",
    "    \n",
    "    # kreiranje Support Vector Machine (SVM) modela koristeci radial basis funkciju - rbf\n",
    "    svr_rbf = SVR(kernel = 'rbf', gamma = 0.00001)\n",
    "    \n",
    "    # kreiranje Support Vector Machine (SVM) modela koristeci poly funkciju\n",
    "    svr_poly = SVR(kernel='poly', epsilon=.2, coef0=1)\n",
    "    \n",
    "    # kreiranje Support Vector Machine (SVM) modela koristeci sigmoid funkciju\n",
    "    svr_sigmoid = SVR(kernel='sigmoid', C = 0.1, epsilon=.2)\n",
    "    \n",
    "    # kreiranje Support Vector Machine (SVM) modela koristeci linear funkciju\n",
    "    svr_linear = SVR(kernel='linear', C = 0.1, epsilon=.2)\n",
    "\n",
    "    # treniranje modela\n",
    "    svr_rbf.fit(X_train, y_train)\n",
    "    svr_poly.fit(X_train, y_train)\n",
    "    svr_sigmoid.fit(X_train, y_train)\n",
    "    svr_linear.fit(X_train, y_train)\n",
    "    \n",
    "    # racunanje r2 skora modela\n",
    "    svr_rbf_score = svr_rbf.score(X_test, y_test)\n",
    "    svr_poly_score = svr_poly.score(X_test, y_test)\n",
    "    svr_sigmoid_score = svr_sigmoid.score(X_test, y_test)\n",
    "    svr_linear_score = svr_linear.score(X_test, y_test)\n",
    "    \n",
    "    models = [svr_rbf, svr_poly, svr_sigmoid, svr_linear]\n",
    "    scores = [svr_rbf_score, svr_poly_score, svr_sigmoid_score, svr_linear_score]\n",
    "    \n",
    "    return models, scores, X_test, y_test"
   ]
  },
  {
   "cell_type": "code",
   "execution_count": 17,
   "id": "845c59ac",
   "metadata": {},
   "outputs": [
    {
     "data": {
      "text/html": [
       "<div>\n",
       "<style scoped>\n",
       "    .dataframe tbody tr th:only-of-type {\n",
       "        vertical-align: middle;\n",
       "    }\n",
       "\n",
       "    .dataframe tbody tr th {\n",
       "        vertical-align: top;\n",
       "    }\n",
       "\n",
       "    .dataframe thead th {\n",
       "        text-align: right;\n",
       "    }\n",
       "</style>\n",
       "<table border=\"1\" class=\"dataframe\">\n",
       "  <thead>\n",
       "    <tr style=\"text-align: right;\">\n",
       "      <th></th>\n",
       "      <th>Close</th>\n",
       "      <th>Predictions</th>\n",
       "    </tr>\n",
       "  </thead>\n",
       "  <tbody>\n",
       "    <tr>\n",
       "      <th>4854496</th>\n",
       "      <td>55804.36</td>\n",
       "      <td>55457.06</td>\n",
       "    </tr>\n",
       "    <tr>\n",
       "      <th>4854497</th>\n",
       "      <td>55857.28</td>\n",
       "      <td>55439.84</td>\n",
       "    </tr>\n",
       "    <tr>\n",
       "      <th>4854498</th>\n",
       "      <td>55779.04</td>\n",
       "      <td>55415.07</td>\n",
       "    </tr>\n",
       "    <tr>\n",
       "      <th>4854500</th>\n",
       "      <td>55768.63</td>\n",
       "      <td>55414.25</td>\n",
       "    </tr>\n",
       "    <tr>\n",
       "      <th>4854501</th>\n",
       "      <td>55742.20</td>\n",
       "      <td>55386.82</td>\n",
       "    </tr>\n",
       "  </tbody>\n",
       "</table>\n",
       "</div>"
      ],
      "text/plain": [
       "            Close  Predictions\n",
       "4854496  55804.36     55457.06\n",
       "4854497  55857.28     55439.84\n",
       "4854498  55779.04     55415.07\n",
       "4854500  55768.63     55414.25\n",
       "4854501  55742.20     55386.82"
      ]
     },
     "execution_count": 17,
     "metadata": {},
     "output_type": "execute_result"
    }
   ],
   "source": [
    "data.head()"
   ]
  },
  {
   "cell_type": "code",
   "execution_count": 42,
   "id": "519a6dd8",
   "metadata": {},
   "outputs": [],
   "source": [
    "# Izvrsavanje funkcije\n",
    "\n",
    "models, scores, X_test, y_test = calculate_score(days = DAYS_TO_PREDICT_SVR, X = X, y = y, test_size = 100)"
   ]
  },
  {
   "cell_type": "code",
   "execution_count": 19,
   "id": "f9bbe2e7",
   "metadata": {},
   "outputs": [],
   "source": [
    "# X_test[:5]"
   ]
  },
  {
   "cell_type": "code",
   "execution_count": 20,
   "id": "e643565c",
   "metadata": {},
   "outputs": [],
   "source": [
    "# Skorovi\n",
    "\n",
    "svr_rbf_score = scores[0]\n",
    "svr_poly_score = scores[1]\n",
    "svr_sigmoid_score = scores[2]\n",
    "svr_linear_score = scores[3]"
   ]
  },
  {
   "cell_type": "code",
   "execution_count": 21,
   "id": "6dc29f1a",
   "metadata": {},
   "outputs": [],
   "source": [
    "# Modeli\n",
    "\n",
    "svr_rbf = models[0]\n",
    "svr_poly = models[1]\n",
    "svr_sigmoid = models[2]\n",
    "svr_linear = models[3]"
   ]
  },
  {
   "cell_type": "code",
   "execution_count": 22,
   "id": "7375f4c2",
   "metadata": {},
   "outputs": [
    {
     "data": {
      "text/plain": [
       "(-140.53664902683028,\n",
       " -1.549573516069544,\n",
       " -142.10822814735718,\n",
       " -137.65154684940134)"
      ]
     },
     "execution_count": 22,
     "metadata": {},
     "output_type": "execute_result"
    }
   ],
   "source": [
    "# Drugi nacin za racunanje skora\n",
    "\n",
    "r2_score(y_test, svr_rbf.predict(X_test)), r2_score(y_test, svr_poly.predict(X_test)), r2_score(y_test, svr_sigmoid.predict(X_test)), r2_score(y_test, svr_linear.predict(X_test))"
   ]
  },
  {
   "cell_type": "markdown",
   "id": "08019814",
   "metadata": {},
   "source": [
    "### Vizuelni prikazi predvidjanja SVRa sa različitim kernelima"
   ]
  },
  {
   "cell_type": "code",
   "execution_count": 23,
   "id": "c0e1bd83",
   "metadata": {},
   "outputs": [
    {
     "data": {
      "image/png": "[encoded data removed]",
      "text/plain": [
       "<Figure size 432x288 with 1 Axes>"
      ]
     },
     "metadata": {
      "needs_background": "light"
     },
     "output_type": "display_data"
    }
   ],
   "source": [
    "# RBF\n",
    "\n",
    "svr_rbf_pred = svr_rbf.predict(X_test)\n",
    "plt.title('RBF')\n",
    "plt.ylabel('Vrednost atributa \"Close\"')\n",
    "plt.plot(svr_rbf_pred, label='predvidjeno')\n",
    "plt.plot(y_test, label = 'stvarno')\n",
    "plt.legend()\n",
    "plt.show()"
   ]
  },
  {
   "cell_type": "code",
   "execution_count": 24,
   "id": "4fa953d6",
   "metadata": {},
   "outputs": [
    {
     "data": {
      "image/png": "[encoded data removed]",
      "text/plain": [
       "<Figure size 432x288 with 1 Axes>"
      ]
     },
     "metadata": {
      "needs_background": "light"
     },
     "output_type": "display_data"
    }
   ],
   "source": [
    "# POLY\n",
    "\n",
    "svr_poly_pred = svr_poly.predict(X_test)\n",
    "plt.title('POLY')\n",
    "plt.ylabel('Vrednost atributa \"Close\"')\n",
    "plt.plot(svr_poly_pred, label = 'predvidjeno')\n",
    "plt.plot(y_test, label = 'stvarno')\n",
    "plt.legend()\n",
    "plt.show()"
   ]
  },
  {
   "cell_type": "code",
   "execution_count": 25,
   "id": "2bf3f9a8",
   "metadata": {},
   "outputs": [
    {
     "data": {
      "image/png": "[encoded data removed]",
      "text/plain": [
       "<Figure size 432x288 with 1 Axes>"
      ]
     },
     "metadata": {
      "needs_background": "light"
     },
     "output_type": "display_data"
    }
   ],
   "source": [
    "# SIGMOID\n",
    "\n",
    "svr_sigmoid_pred = svr_sigmoid.predict(X_test)\n",
    "plt.title('SIGMOID')\n",
    "plt.ylabel('Vrednost atributa \"Close\"')\n",
    "plt.plot(svr_sigmoid_pred, label = 'predvidjeno')\n",
    "plt.plot(y_test, label = 'stvarno')\n",
    "plt.legend()\n",
    "plt.show()"
   ]
  },
  {
   "cell_type": "code",
   "execution_count": 26,
   "id": "26b6ebd1",
   "metadata": {},
   "outputs": [
    {
     "data": {
      "image/png": "[encoded data removed]",
      "text/plain": [
       "<Figure size 432x288 with 1 Axes>"
      ]
     },
     "metadata": {
      "needs_background": "light"
     },
     "output_type": "display_data"
    }
   ],
   "source": [
    "# LINEAR\n",
    "\n",
    "svr_linear_pred = svr_linear.predict(X_test)\n",
    "plt.title('LINEAR')\n",
    "plt.ylabel('Vrednost atributa \"Close\"')\n",
    "plt.plot(svr_linear_pred, label='predvidjeno')\n",
    "plt.plot(y_test, label='stvarno')\n",
    "plt.legend()\n",
    "plt.show()"
   ]
  },
  {
   "cell_type": "markdown",
   "id": "44ea4739",
   "metadata": {},
   "source": [
    "### Vizuelni prikaz R2 skora"
   ]
  },
  {
   "cell_type": "code",
   "execution_count": 27,
   "id": "f8e73978",
   "metadata": {},
   "outputs": [
    {
     "data": {
      "image/png": "[encoded data removed]",
      "text/plain": [
       "<Figure size 432x288 with 1 Axes>"
      ]
     },
     "metadata": {
      "needs_background": "light"
     },
     "output_type": "display_data"
    }
   ],
   "source": [
    "plt.title('Vizuelni prikaz R2 skora')\n",
    "plt.ylabel('Vrednost R2 skora')\n",
    "plt.plot([svr_rbf_score, svr_poly_score, svr_sigmoid_score, svr_linear_score])\n",
    "plt.show()"
   ]
  },
  {
   "cell_type": "markdown",
   "id": "46b4eb8d",
   "metadata": {},
   "source": [
    "### Vizuelni prikaz MSE"
   ]
  },
  {
   "cell_type": "code",
   "execution_count": 28,
   "id": "1da7bb9a",
   "metadata": {},
   "outputs": [
    {
     "name": "stdout",
     "output_type": "stream",
     "text": [
      "MSE:\n",
      " 842520.0616504315 15492.555869386568 869601.2121116553 860051.4669584114\n"
     ]
    },
    {
     "data": {
      "image/png": "[encoded data removed]",
      "text/plain": [
       "<Figure size 432x288 with 1 Axes>"
      ]
     },
     "metadata": {
      "needs_background": "light"
     },
     "output_type": "display_data"
    }
   ],
   "source": [
    "print('MSE:\\n', mean_squared_error(y_test, svr_linear_pred), mean_squared_error(y_test, svr_poly_pred), mean_squared_error(y_test, svr_sigmoid_pred), mean_squared_error(y_test, svr_rbf_pred))\n",
    "\n",
    "plt.title('Vizuelni prikaz MSE')\n",
    "plt.ylabel('Vrednost MSE')\n",
    "plt.plot([mean_squared_error(y_test, svr_linear_pred), mean_squared_error(y_test, svr_poly_pred), mean_squared_error(y_test, svr_sigmoid_pred), mean_squared_error(y_test, svr_rbf_pred)])\n",
    "plt.show()"
   ]
  },
  {
   "cell_type": "markdown",
   "id": "df112602",
   "metadata": {},
   "source": [
    "### Vizuelni prikaz MAE"
   ]
  },
  {
   "cell_type": "code",
   "execution_count": 29,
   "id": "b67daaf4",
   "metadata": {},
   "outputs": [
    {
     "name": "stdout",
     "output_type": "stream",
     "text": [
      "MAE:\n",
      " 914.54350637936 103.66145851231289 929.2698065659783 924.1076387053442\n"
     ]
    },
    {
     "data": {
      "image/png": "[encoded data removed]",
      "text/plain": [
       "<Figure size 432x288 with 1 Axes>"
      ]
     },
     "metadata": {
      "needs_background": "light"
     },
     "output_type": "display_data"
    }
   ],
   "source": [
    "print('MAE:\\n', mean_absolute_error(y_test, svr_linear_pred), mean_absolute_error(y_test, svr_poly_pred), mean_absolute_error(y_test, svr_sigmoid_pred), mean_absolute_error(y_test, svr_rbf_pred))\n",
    "\n",
    "plt.title('Vizuelni prikaz MAE')\n",
    "plt.ylabel('Vrednost MAE')\n",
    "plt.plot([mean_absolute_error(y_test, svr_linear_pred), mean_absolute_error(y_test, svr_poly_pred), mean_absolute_error(y_test, svr_sigmoid_pred), mean_absolute_error(y_test, svr_rbf_pred)])\n",
    "plt.show()"
   ]
  },
  {
   "cell_type": "code",
   "execution_count": 30,
   "id": "26ab065d",
   "metadata": {},
   "outputs": [
    {
     "data": {
      "text/html": [
       "<div>\n",
       "<style scoped>\n",
       "    .dataframe tbody tr th:only-of-type {\n",
       "        vertical-align: middle;\n",
       "    }\n",
       "\n",
       "    .dataframe tbody tr th {\n",
       "        vertical-align: top;\n",
       "    }\n",
       "\n",
       "    .dataframe thead th {\n",
       "        text-align: right;\n",
       "    }\n",
       "</style>\n",
       "<table border=\"1\" class=\"dataframe\">\n",
       "  <thead>\n",
       "    <tr style=\"text-align: right;\">\n",
       "      <th></th>\n",
       "      <th>Close</th>\n",
       "      <th>Predictions</th>\n",
       "    </tr>\n",
       "  </thead>\n",
       "  <tbody>\n",
       "    <tr>\n",
       "      <th>4857372</th>\n",
       "      <td>58686.00</td>\n",
       "      <td>NaN</td>\n",
       "    </tr>\n",
       "    <tr>\n",
       "      <th>4857373</th>\n",
       "      <td>58685.81</td>\n",
       "      <td>NaN</td>\n",
       "    </tr>\n",
       "    <tr>\n",
       "      <th>4857374</th>\n",
       "      <td>58723.84</td>\n",
       "      <td>NaN</td>\n",
       "    </tr>\n",
       "    <tr>\n",
       "      <th>4857375</th>\n",
       "      <td>58760.59</td>\n",
       "      <td>NaN</td>\n",
       "    </tr>\n",
       "    <tr>\n",
       "      <th>4857376</th>\n",
       "      <td>58778.18</td>\n",
       "      <td>NaN</td>\n",
       "    </tr>\n",
       "  </tbody>\n",
       "</table>\n",
       "</div>"
      ],
      "text/plain": [
       "            Close  Predictions\n",
       "4857372  58686.00          NaN\n",
       "4857373  58685.81          NaN\n",
       "4857374  58723.84          NaN\n",
       "4857375  58760.59          NaN\n",
       "4857376  58778.18          NaN"
      ]
     },
     "execution_count": 30,
     "metadata": {},
     "output_type": "execute_result"
    }
   ],
   "source": [
    "data.tail()"
   ]
  },
  {
   "cell_type": "markdown",
   "id": "3861456b",
   "metadata": {},
   "source": [
    "### Predvidjanje vrednosti za skup od poslednjih n instanci skupa podataka za koje je 'Predictions' = NaN"
   ]
  },
  {
   "cell_type": "code",
   "execution_count": 31,
   "id": "b55184d4",
   "metadata": {},
   "outputs": [],
   "source": [
    "# data['Predictions'] = data[['Close']].shift(-n)\n",
    "# data"
   ]
  },
  {
   "cell_type": "code",
   "execution_count": 32,
   "id": "471a69d8",
   "metadata": {},
   "outputs": [],
   "source": [
    "# Kreiranje niza koji sadrzi poslednjih DAYS_TO_PREDICT_SVR dana\n",
    "# (redova/instanci) iz originalnog skupa podataka\n",
    "\n",
    "predictions_array = np.array(data.drop(['Predictions'],1))[-DAYS_TO_PREDICT_SVR:]\n",
    "# print(predictions_array)"
   ]
  },
  {
   "cell_type": "code",
   "execution_count": 33,
   "id": "62642ab1",
   "metadata": {},
   "outputs": [],
   "source": [
    "# Ispis stvarne vrednosti bitkoina u poslednjih n = 60 dana\n",
    "# Predvidjene vrednosti su NaN\n",
    "\n",
    "# print(data.tail(DAYS_TO_PREDICT_SVR))"
   ]
  },
  {
   "cell_type": "code",
   "execution_count": 34,
   "id": "03079a5b",
   "metadata": {},
   "outputs": [],
   "source": [
    "# Predvidjanje i ispis predvidjenih vrednosti\n",
    "# bitkoina u poslednjih DAYS_TO_PREDICT_SVR dana\n",
    "\n",
    "svm_n_last_day_predictions = svr_rbf.predict(predictions_array)\n",
    "# print(svm_n_last_day_predictions)"
   ]
  },
  {
   "cell_type": "code",
   "execution_count": 35,
   "id": "47b33948",
   "metadata": {},
   "outputs": [
    {
     "data": {
      "text/html": [
       "<div>\n",
       "<style scoped>\n",
       "    .dataframe tbody tr th:only-of-type {\n",
       "        vertical-align: middle;\n",
       "    }\n",
       "\n",
       "    .dataframe tbody tr th {\n",
       "        vertical-align: top;\n",
       "    }\n",
       "\n",
       "    .dataframe thead th {\n",
       "        text-align: right;\n",
       "    }\n",
       "</style>\n",
       "<table border=\"1\" class=\"dataframe\">\n",
       "  <thead>\n",
       "    <tr style=\"text-align: right;\">\n",
       "      <th></th>\n",
       "      <th>Close</th>\n",
       "      <th>Predictions</th>\n",
       "    </tr>\n",
       "  </thead>\n",
       "  <tbody>\n",
       "    <tr>\n",
       "      <th>4857315</th>\n",
       "      <td>58711.15</td>\n",
       "      <td>57787.068458</td>\n",
       "    </tr>\n",
       "    <tr>\n",
       "      <th>4857316</th>\n",
       "      <td>58657.09</td>\n",
       "      <td>57787.068458</td>\n",
       "    </tr>\n",
       "    <tr>\n",
       "      <th>4857317</th>\n",
       "      <td>58651.95</td>\n",
       "      <td>57787.068458</td>\n",
       "    </tr>\n",
       "    <tr>\n",
       "      <th>4857318</th>\n",
       "      <td>58665.72</td>\n",
       "      <td>57787.068458</td>\n",
       "    </tr>\n",
       "    <tr>\n",
       "      <th>4857319</th>\n",
       "      <td>58599.47</td>\n",
       "      <td>57787.068458</td>\n",
       "    </tr>\n",
       "  </tbody>\n",
       "</table>\n",
       "</div>"
      ],
      "text/plain": [
       "            Close   Predictions\n",
       "4857315  58711.15  57787.068458\n",
       "4857316  58657.09  57787.068458\n",
       "4857317  58651.95  57787.068458\n",
       "4857318  58665.72  57787.068458\n",
       "4857319  58599.47  57787.068458"
      ]
     },
     "execution_count": 35,
     "metadata": {},
     "output_type": "execute_result"
    }
   ],
   "source": [
    "# Kreiranje DataFrame-a 'predictions_df' i\n",
    "# dodavanje predvidjenih vrednosti u 'predictions_df'\n",
    "\n",
    "predictions_df = pd.DataFrame(data['Close'][-DAYS_TO_PREDICT_SVR:], columns = ['Close'])\n",
    "predictions_df['Predictions'] = svm_n_last_day_predictions\n",
    "predictions_df.head()"
   ]
  },
  {
   "cell_type": "code",
   "execution_count": 36,
   "id": "8e21e9c9",
   "metadata": {},
   "outputs": [
    {
     "data": {
      "text/html": [
       "<div>\n",
       "<style scoped>\n",
       "    .dataframe tbody tr th:only-of-type {\n",
       "        vertical-align: middle;\n",
       "    }\n",
       "\n",
       "    .dataframe tbody tr th {\n",
       "        vertical-align: top;\n",
       "    }\n",
       "\n",
       "    .dataframe thead th {\n",
       "        text-align: right;\n",
       "    }\n",
       "</style>\n",
       "<table border=\"1\" class=\"dataframe\">\n",
       "  <thead>\n",
       "    <tr style=\"text-align: right;\">\n",
       "      <th></th>\n",
       "      <th>Close</th>\n",
       "      <th>Predictions</th>\n",
       "    </tr>\n",
       "  </thead>\n",
       "  <tbody>\n",
       "    <tr>\n",
       "      <th>4854496</th>\n",
       "      <td>55804.36</td>\n",
       "      <td>55457.06</td>\n",
       "    </tr>\n",
       "    <tr>\n",
       "      <th>4854497</th>\n",
       "      <td>55857.28</td>\n",
       "      <td>55439.84</td>\n",
       "    </tr>\n",
       "    <tr>\n",
       "      <th>4854498</th>\n",
       "      <td>55779.04</td>\n",
       "      <td>55415.07</td>\n",
       "    </tr>\n",
       "    <tr>\n",
       "      <th>4854500</th>\n",
       "      <td>55768.63</td>\n",
       "      <td>55414.25</td>\n",
       "    </tr>\n",
       "    <tr>\n",
       "      <th>4854501</th>\n",
       "      <td>55742.20</td>\n",
       "      <td>55386.82</td>\n",
       "    </tr>\n",
       "  </tbody>\n",
       "</table>\n",
       "</div>"
      ],
      "text/plain": [
       "            Close  Predictions\n",
       "4854496  55804.36     55457.06\n",
       "4854497  55857.28     55439.84\n",
       "4854498  55779.04     55415.07\n",
       "4854500  55768.63     55414.25\n",
       "4854501  55742.20     55386.82"
      ]
     },
     "execution_count": 36,
     "metadata": {},
     "output_type": "execute_result"
    }
   ],
   "source": [
    "# Uklanjanje NaN vrednosti (nastale usled siftovanja)\n",
    "# iz originalnog DataFrame-a\n",
    "\n",
    "data = data.dropna()\n",
    "data.head()"
   ]
  },
  {
   "cell_type": "code",
   "execution_count": 37,
   "id": "fdc29e01",
   "metadata": {},
   "outputs": [
    {
     "data": {
      "text/html": [
       "<div>\n",
       "<style scoped>\n",
       "    .dataframe tbody tr th:only-of-type {\n",
       "        vertical-align: middle;\n",
       "    }\n",
       "\n",
       "    .dataframe tbody tr th {\n",
       "        vertical-align: top;\n",
       "    }\n",
       "\n",
       "    .dataframe thead th {\n",
       "        text-align: right;\n",
       "    }\n",
       "</style>\n",
       "<table border=\"1\" class=\"dataframe\">\n",
       "  <thead>\n",
       "    <tr style=\"text-align: right;\">\n",
       "      <th></th>\n",
       "      <th>Close</th>\n",
       "      <th>Predictions</th>\n",
       "    </tr>\n",
       "  </thead>\n",
       "  <tbody>\n",
       "    <tr>\n",
       "      <th>4854496</th>\n",
       "      <td>55804.36</td>\n",
       "      <td>55457.06</td>\n",
       "    </tr>\n",
       "    <tr>\n",
       "      <th>4854497</th>\n",
       "      <td>55857.28</td>\n",
       "      <td>55439.84</td>\n",
       "    </tr>\n",
       "    <tr>\n",
       "      <th>4854498</th>\n",
       "      <td>55779.04</td>\n",
       "      <td>55415.07</td>\n",
       "    </tr>\n",
       "    <tr>\n",
       "      <th>4854500</th>\n",
       "      <td>55768.63</td>\n",
       "      <td>55414.25</td>\n",
       "    </tr>\n",
       "    <tr>\n",
       "      <th>4854501</th>\n",
       "      <td>55742.20</td>\n",
       "      <td>55386.82</td>\n",
       "    </tr>\n",
       "  </tbody>\n",
       "</table>\n",
       "</div>"
      ],
      "text/plain": [
       "            Close  Predictions\n",
       "4854496  55804.36     55457.06\n",
       "4854497  55857.28     55439.84\n",
       "4854498  55779.04     55415.07\n",
       "4854500  55768.63     55414.25\n",
       "4854501  55742.20     55386.82"
      ]
     },
     "execution_count": 37,
     "metadata": {},
     "output_type": "execute_result"
    }
   ],
   "source": [
    "# Nadovezivanje kreiranog DataFrame-a na originalni DataFrame\n",
    "# (dodavanje predvidjenih vrednosti u originalni DataFrame)\n",
    "\n",
    "data = data.append(predictions_df)\n",
    "data.head()"
   ]
  },
  {
   "cell_type": "code",
   "execution_count": 38,
   "id": "626f6ce7",
   "metadata": {},
   "outputs": [],
   "source": [
    "# Provera\n",
    "\n",
    "# data.tail(DAYS_TO_PREDICT_SVR)"
   ]
  },
  {
   "cell_type": "code",
   "execution_count": 44,
   "id": "9e1c86a9",
   "metadata": {},
   "outputs": [],
   "source": [
    "# Cuvanje modela\n",
    "\n",
    "filename_1 = 'svr_rbf.sav'\n",
    "pickle.dump(svr_rbf, open(filename_1, 'wb'))\n",
    "\n",
    "filename_2 = 'svr_poly.sav'\n",
    "pickle.dump(svr_poly, open(filename_2, 'wb'))\n",
    "\n",
    "filename_3 = 'svr_sigmoid.sav'\n",
    "pickle.dump(svr_sigmoid, open(filename_3, 'wb'))\n",
    "\n",
    "filename_4 = 'svr_linear.sav'\n",
    "pickle.dump(svr_linear, open(filename_4, 'wb'))"
   ]
  },
  {
   "cell_type": "markdown",
   "id": "1a975da6",
   "metadata": {},
   "source": [
    "Zakljucak\n",
    "\n",
    "Koeficijent determinacije je negativna vrednost, sto nije pozeljno. Metrike kao sto su loss, MAE, MSE imaju velike vrednosti, sto takodje nije pozeljno."
   ]
  },
  {
   "cell_type": "code",
   "execution_count": null,
   "id": "3ed47db9",
   "metadata": {},
   "outputs": [],
   "source": []
  },
  {
   "cell_type": "code",
   "execution_count": null,
   "id": "c670df5a",
   "metadata": {},
   "outputs": [],
   "source": []
  }
 ],
 "metadata": {
  "kernelspec": {
   "display_name": "Python 3",
   "language": "python",
   "name": "python3"
  },
  "language_info": {
   "codemirror_mode": {
    "name": "ipython",
    "version": 3
   },
   "file_extension": ".py",
   "mimetype": "text/x-python",
   "name": "python",
   "nbconvert_exporter": "python",
   "pygments_lexer": "ipython3",
   "version": "3.9.5"
  }
 },
 "nbformat": 4,
 "nbformat_minor": 5
}
