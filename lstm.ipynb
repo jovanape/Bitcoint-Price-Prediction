{
  "nbformat": 4,
  "nbformat_minor": 0,
  "metadata": {
    "colab": {
      "name": "lstm.ipynb",
      "provenance": [],
      "collapsed_sections": [],
      "include_colab_link": true
    },
    "kernelspec": {
      "name": "python3",
      "display_name": "Python 3"
    },
    "language_info": {
      "name": "python"
    }
  },
  "cells": [
    {
      "cell_type": "markdown",
      "metadata": {
        "id": "view-in-github",
        "colab_type": "text"
      },
      "source": [
        "<a href=\"https://colab.research.google.com/github/jovanape/Bitcoint-Price-Prediction/blob/main/lstm.ipynb\" target=\"_parent\"><img src=\"https://colab.research.google.com/assets/colab-badge.svg\" alt=\"Open In Colab\"/></a>"
      ]
    },
    {
      "cell_type": "code",
      "metadata": {
        "id": "15RqVMEtCsQg"
      },
      "source": [
        "# Ucitavanje biblioteka\n",
        "import numpy as np \n",
        "import pandas as pd \n",
        "from matplotlib import pyplot as plt\n",
        "from sklearn.preprocessing import MinMaxScaler\n",
        "from keras.models import Sequential\n",
        "from keras.layers import Dense\n",
        "from keras.layers import LSTM\n",
        "from keras.layers import Dropout"
      ],
      "execution_count": 8,
      "outputs": []
    },
    {
      "cell_type": "code",
      "metadata": {
        "colab": {
          "base_uri": "https://localhost:8080/",
          "height": 435
        },
        "id": "VWESzQJZDR7m",
        "outputId": "bc6a4e68-228d-4eb4-976f-4c49cc2f1576"
      },
      "source": [
        "# Ucitavanje skupa podataka\n",
        "data = pd.read_csv('bitstampUSD_1-min_data_2012-01-01_to_2021-03-31.csv')\n",
        "data"
      ],
      "execution_count": 9,
      "outputs": [
        {
          "output_type": "execute_result",
          "data": {
            "text/html": [
              "<div>\n",
              "<style scoped>\n",
              "    .dataframe tbody tr th:only-of-type {\n",
              "        vertical-align: middle;\n",
              "    }\n",
              "\n",
              "    .dataframe tbody tr th {\n",
              "        vertical-align: top;\n",
              "    }\n",
              "\n",
              "    .dataframe thead th {\n",
              "        text-align: right;\n",
              "    }\n",
              "</style>\n",
              "<table border=\"1\" class=\"dataframe\">\n",
              "  <thead>\n",
              "    <tr style=\"text-align: right;\">\n",
              "      <th></th>\n",
              "      <th>Timestamp</th>\n",
              "      <th>Open</th>\n",
              "      <th>High</th>\n",
              "      <th>Low</th>\n",
              "      <th>Close</th>\n",
              "      <th>Volume_(BTC)</th>\n",
              "      <th>Volume_(Currency)</th>\n",
              "      <th>Weighted_Price</th>\n",
              "    </tr>\n",
              "  </thead>\n",
              "  <tbody>\n",
              "    <tr>\n",
              "      <th>0</th>\n",
              "      <td>1325317920</td>\n",
              "      <td>4.39</td>\n",
              "      <td>4.39</td>\n",
              "      <td>4.39</td>\n",
              "      <td>4.39</td>\n",
              "      <td>0.455581</td>\n",
              "      <td>2.000000</td>\n",
              "      <td>4.390000</td>\n",
              "    </tr>\n",
              "    <tr>\n",
              "      <th>1</th>\n",
              "      <td>1325317980</td>\n",
              "      <td>NaN</td>\n",
              "      <td>NaN</td>\n",
              "      <td>NaN</td>\n",
              "      <td>NaN</td>\n",
              "      <td>NaN</td>\n",
              "      <td>NaN</td>\n",
              "      <td>NaN</td>\n",
              "    </tr>\n",
              "    <tr>\n",
              "      <th>2</th>\n",
              "      <td>1325318040</td>\n",
              "      <td>NaN</td>\n",
              "      <td>NaN</td>\n",
              "      <td>NaN</td>\n",
              "      <td>NaN</td>\n",
              "      <td>NaN</td>\n",
              "      <td>NaN</td>\n",
              "      <td>NaN</td>\n",
              "    </tr>\n",
              "    <tr>\n",
              "      <th>3</th>\n",
              "      <td>1325318100</td>\n",
              "      <td>NaN</td>\n",
              "      <td>NaN</td>\n",
              "      <td>NaN</td>\n",
              "      <td>NaN</td>\n",
              "      <td>NaN</td>\n",
              "      <td>NaN</td>\n",
              "      <td>NaN</td>\n",
              "    </tr>\n",
              "    <tr>\n",
              "      <th>4</th>\n",
              "      <td>1325318160</td>\n",
              "      <td>NaN</td>\n",
              "      <td>NaN</td>\n",
              "      <td>NaN</td>\n",
              "      <td>NaN</td>\n",
              "      <td>NaN</td>\n",
              "      <td>NaN</td>\n",
              "      <td>NaN</td>\n",
              "    </tr>\n",
              "    <tr>\n",
              "      <th>...</th>\n",
              "      <td>...</td>\n",
              "      <td>...</td>\n",
              "      <td>...</td>\n",
              "      <td>...</td>\n",
              "      <td>...</td>\n",
              "      <td>...</td>\n",
              "      <td>...</td>\n",
              "      <td>...</td>\n",
              "    </tr>\n",
              "    <tr>\n",
              "      <th>4857372</th>\n",
              "      <td>1617148560</td>\n",
              "      <td>58714.31</td>\n",
              "      <td>58714.31</td>\n",
              "      <td>58686.00</td>\n",
              "      <td>58686.00</td>\n",
              "      <td>1.384487</td>\n",
              "      <td>81259.372187</td>\n",
              "      <td>58692.753339</td>\n",
              "    </tr>\n",
              "    <tr>\n",
              "      <th>4857373</th>\n",
              "      <td>1617148620</td>\n",
              "      <td>58683.97</td>\n",
              "      <td>58693.43</td>\n",
              "      <td>58683.97</td>\n",
              "      <td>58685.81</td>\n",
              "      <td>7.294848</td>\n",
              "      <td>428158.146640</td>\n",
              "      <td>58693.226508</td>\n",
              "    </tr>\n",
              "    <tr>\n",
              "      <th>4857374</th>\n",
              "      <td>1617148680</td>\n",
              "      <td>58693.43</td>\n",
              "      <td>58723.84</td>\n",
              "      <td>58693.43</td>\n",
              "      <td>58723.84</td>\n",
              "      <td>1.705682</td>\n",
              "      <td>100117.070370</td>\n",
              "      <td>58696.198496</td>\n",
              "    </tr>\n",
              "    <tr>\n",
              "      <th>4857375</th>\n",
              "      <td>1617148740</td>\n",
              "      <td>58742.18</td>\n",
              "      <td>58770.38</td>\n",
              "      <td>58742.18</td>\n",
              "      <td>58760.59</td>\n",
              "      <td>0.720415</td>\n",
              "      <td>42332.958633</td>\n",
              "      <td>58761.866202</td>\n",
              "    </tr>\n",
              "    <tr>\n",
              "      <th>4857376</th>\n",
              "      <td>1617148800</td>\n",
              "      <td>58767.75</td>\n",
              "      <td>58778.18</td>\n",
              "      <td>58755.97</td>\n",
              "      <td>58778.18</td>\n",
              "      <td>2.712831</td>\n",
              "      <td>159417.751000</td>\n",
              "      <td>58764.349363</td>\n",
              "    </tr>\n",
              "  </tbody>\n",
              "</table>\n",
              "<p>4857377 rows × 8 columns</p>\n",
              "</div>"
            ],
            "text/plain": [
              "          Timestamp      Open  ...  Volume_(Currency)  Weighted_Price\n",
              "0        1325317920      4.39  ...           2.000000        4.390000\n",
              "1        1325317980       NaN  ...                NaN             NaN\n",
              "2        1325318040       NaN  ...                NaN             NaN\n",
              "3        1325318100       NaN  ...                NaN             NaN\n",
              "4        1325318160       NaN  ...                NaN             NaN\n",
              "...             ...       ...  ...                ...             ...\n",
              "4857372  1617148560  58714.31  ...       81259.372187    58692.753339\n",
              "4857373  1617148620  58683.97  ...      428158.146640    58693.226508\n",
              "4857374  1617148680  58693.43  ...      100117.070370    58696.198496\n",
              "4857375  1617148740  58742.18  ...       42332.958633    58761.866202\n",
              "4857376  1617148800  58767.75  ...      159417.751000    58764.349363\n",
              "\n",
              "[4857377 rows x 8 columns]"
            ]
          },
          "metadata": {
            "tags": []
          },
          "execution_count": 9
        }
      ]
    },
    {
      "cell_type": "code",
      "metadata": {
        "colab": {
          "base_uri": "https://localhost:8080/",
          "height": 141
        },
        "id": "neNfZC0W2mMx",
        "outputId": "5e594b4e-3768-41a8-a59c-3dfacd10fab1"
      },
      "source": [
        "# Izracunavanje datuma\n",
        "\n",
        "# Kako je Timestamp broj sekundi izmedju\n",
        "# odredjenog datuma i 1. januara 1970 (UTC),\n",
        "# radi citljivosti, u narednom kodu je\n",
        "# Timestamp preveden u datum\n",
        "\n",
        "data['Date'] = pd.to_datetime(data['Timestamp'], unit='s').dt.date # samo datum (bez vremena)\n",
        "data.head(3)"
      ],
      "execution_count": 10,
      "outputs": [
        {
          "output_type": "execute_result",
          "data": {
            "text/html": [
              "<div>\n",
              "<style scoped>\n",
              "    .dataframe tbody tr th:only-of-type {\n",
              "        vertical-align: middle;\n",
              "    }\n",
              "\n",
              "    .dataframe tbody tr th {\n",
              "        vertical-align: top;\n",
              "    }\n",
              "\n",
              "    .dataframe thead th {\n",
              "        text-align: right;\n",
              "    }\n",
              "</style>\n",
              "<table border=\"1\" class=\"dataframe\">\n",
              "  <thead>\n",
              "    <tr style=\"text-align: right;\">\n",
              "      <th></th>\n",
              "      <th>Timestamp</th>\n",
              "      <th>Open</th>\n",
              "      <th>High</th>\n",
              "      <th>Low</th>\n",
              "      <th>Close</th>\n",
              "      <th>Volume_(BTC)</th>\n",
              "      <th>Volume_(Currency)</th>\n",
              "      <th>Weighted_Price</th>\n",
              "      <th>Date</th>\n",
              "    </tr>\n",
              "  </thead>\n",
              "  <tbody>\n",
              "    <tr>\n",
              "      <th>0</th>\n",
              "      <td>1325317920</td>\n",
              "      <td>4.39</td>\n",
              "      <td>4.39</td>\n",
              "      <td>4.39</td>\n",
              "      <td>4.39</td>\n",
              "      <td>0.455581</td>\n",
              "      <td>2.0</td>\n",
              "      <td>4.39</td>\n",
              "      <td>2011-12-31</td>\n",
              "    </tr>\n",
              "    <tr>\n",
              "      <th>1</th>\n",
              "      <td>1325317980</td>\n",
              "      <td>NaN</td>\n",
              "      <td>NaN</td>\n",
              "      <td>NaN</td>\n",
              "      <td>NaN</td>\n",
              "      <td>NaN</td>\n",
              "      <td>NaN</td>\n",
              "      <td>NaN</td>\n",
              "      <td>2011-12-31</td>\n",
              "    </tr>\n",
              "    <tr>\n",
              "      <th>2</th>\n",
              "      <td>1325318040</td>\n",
              "      <td>NaN</td>\n",
              "      <td>NaN</td>\n",
              "      <td>NaN</td>\n",
              "      <td>NaN</td>\n",
              "      <td>NaN</td>\n",
              "      <td>NaN</td>\n",
              "      <td>NaN</td>\n",
              "      <td>2011-12-31</td>\n",
              "    </tr>\n",
              "  </tbody>\n",
              "</table>\n",
              "</div>"
            ],
            "text/plain": [
              "    Timestamp  Open  High  ...  Volume_(Currency)  Weighted_Price        Date\n",
              "0  1325317920  4.39  4.39  ...                2.0            4.39  2011-12-31\n",
              "1  1325317980   NaN   NaN  ...                NaN             NaN  2011-12-31\n",
              "2  1325318040   NaN   NaN  ...                NaN             NaN  2011-12-31\n",
              "\n",
              "[3 rows x 9 columns]"
            ]
          },
          "metadata": {
            "tags": []
          },
          "execution_count": 10
        }
      ]
    },
    {
      "cell_type": "markdown",
      "metadata": {
        "id": "AnUuMmcjXE9l"
      },
      "source": [
        "Vise istih datuma - u nastavku ce biti izracunata srednja vrednost cene za svaki datum"
      ]
    },
    {
      "cell_type": "code",
      "metadata": {
        "colab": {
          "base_uri": "https://localhost:8080/",
          "height": 609
        },
        "id": "OFjYdbfBDaXo",
        "outputId": "bedccc92-4967-41de-b876-6083777ee49b"
      },
      "source": [
        "group = data.groupby('Date')\n",
        "data"
      ],
      "execution_count": 11,
      "outputs": [
        {
          "output_type": "execute_result",
          "data": {
            "text/html": [
              "<div>\n",
              "<style scoped>\n",
              "    .dataframe tbody tr th:only-of-type {\n",
              "        vertical-align: middle;\n",
              "    }\n",
              "\n",
              "    .dataframe tbody tr th {\n",
              "        vertical-align: top;\n",
              "    }\n",
              "\n",
              "    .dataframe thead th {\n",
              "        text-align: right;\n",
              "    }\n",
              "</style>\n",
              "<table border=\"1\" class=\"dataframe\">\n",
              "  <thead>\n",
              "    <tr style=\"text-align: right;\">\n",
              "      <th></th>\n",
              "      <th>Timestamp</th>\n",
              "      <th>Open</th>\n",
              "      <th>High</th>\n",
              "      <th>Low</th>\n",
              "      <th>Close</th>\n",
              "      <th>Volume_(BTC)</th>\n",
              "      <th>Volume_(Currency)</th>\n",
              "      <th>Weighted_Price</th>\n",
              "      <th>Date</th>\n",
              "    </tr>\n",
              "  </thead>\n",
              "  <tbody>\n",
              "    <tr>\n",
              "      <th>0</th>\n",
              "      <td>1325317920</td>\n",
              "      <td>4.39</td>\n",
              "      <td>4.39</td>\n",
              "      <td>4.39</td>\n",
              "      <td>4.39</td>\n",
              "      <td>0.455581</td>\n",
              "      <td>2.000000</td>\n",
              "      <td>4.390000</td>\n",
              "      <td>2011-12-31</td>\n",
              "    </tr>\n",
              "    <tr>\n",
              "      <th>1</th>\n",
              "      <td>1325317980</td>\n",
              "      <td>NaN</td>\n",
              "      <td>NaN</td>\n",
              "      <td>NaN</td>\n",
              "      <td>NaN</td>\n",
              "      <td>NaN</td>\n",
              "      <td>NaN</td>\n",
              "      <td>NaN</td>\n",
              "      <td>2011-12-31</td>\n",
              "    </tr>\n",
              "    <tr>\n",
              "      <th>2</th>\n",
              "      <td>1325318040</td>\n",
              "      <td>NaN</td>\n",
              "      <td>NaN</td>\n",
              "      <td>NaN</td>\n",
              "      <td>NaN</td>\n",
              "      <td>NaN</td>\n",
              "      <td>NaN</td>\n",
              "      <td>NaN</td>\n",
              "      <td>2011-12-31</td>\n",
              "    </tr>\n",
              "    <tr>\n",
              "      <th>3</th>\n",
              "      <td>1325318100</td>\n",
              "      <td>NaN</td>\n",
              "      <td>NaN</td>\n",
              "      <td>NaN</td>\n",
              "      <td>NaN</td>\n",
              "      <td>NaN</td>\n",
              "      <td>NaN</td>\n",
              "      <td>NaN</td>\n",
              "      <td>2011-12-31</td>\n",
              "    </tr>\n",
              "    <tr>\n",
              "      <th>4</th>\n",
              "      <td>1325318160</td>\n",
              "      <td>NaN</td>\n",
              "      <td>NaN</td>\n",
              "      <td>NaN</td>\n",
              "      <td>NaN</td>\n",
              "      <td>NaN</td>\n",
              "      <td>NaN</td>\n",
              "      <td>NaN</td>\n",
              "      <td>2011-12-31</td>\n",
              "    </tr>\n",
              "    <tr>\n",
              "      <th>...</th>\n",
              "      <td>...</td>\n",
              "      <td>...</td>\n",
              "      <td>...</td>\n",
              "      <td>...</td>\n",
              "      <td>...</td>\n",
              "      <td>...</td>\n",
              "      <td>...</td>\n",
              "      <td>...</td>\n",
              "      <td>...</td>\n",
              "    </tr>\n",
              "    <tr>\n",
              "      <th>4857372</th>\n",
              "      <td>1617148560</td>\n",
              "      <td>58714.31</td>\n",
              "      <td>58714.31</td>\n",
              "      <td>58686.00</td>\n",
              "      <td>58686.00</td>\n",
              "      <td>1.384487</td>\n",
              "      <td>81259.372187</td>\n",
              "      <td>58692.753339</td>\n",
              "      <td>2021-03-30</td>\n",
              "    </tr>\n",
              "    <tr>\n",
              "      <th>4857373</th>\n",
              "      <td>1617148620</td>\n",
              "      <td>58683.97</td>\n",
              "      <td>58693.43</td>\n",
              "      <td>58683.97</td>\n",
              "      <td>58685.81</td>\n",
              "      <td>7.294848</td>\n",
              "      <td>428158.146640</td>\n",
              "      <td>58693.226508</td>\n",
              "      <td>2021-03-30</td>\n",
              "    </tr>\n",
              "    <tr>\n",
              "      <th>4857374</th>\n",
              "      <td>1617148680</td>\n",
              "      <td>58693.43</td>\n",
              "      <td>58723.84</td>\n",
              "      <td>58693.43</td>\n",
              "      <td>58723.84</td>\n",
              "      <td>1.705682</td>\n",
              "      <td>100117.070370</td>\n",
              "      <td>58696.198496</td>\n",
              "      <td>2021-03-30</td>\n",
              "    </tr>\n",
              "    <tr>\n",
              "      <th>4857375</th>\n",
              "      <td>1617148740</td>\n",
              "      <td>58742.18</td>\n",
              "      <td>58770.38</td>\n",
              "      <td>58742.18</td>\n",
              "      <td>58760.59</td>\n",
              "      <td>0.720415</td>\n",
              "      <td>42332.958633</td>\n",
              "      <td>58761.866202</td>\n",
              "      <td>2021-03-30</td>\n",
              "    </tr>\n",
              "    <tr>\n",
              "      <th>4857376</th>\n",
              "      <td>1617148800</td>\n",
              "      <td>58767.75</td>\n",
              "      <td>58778.18</td>\n",
              "      <td>58755.97</td>\n",
              "      <td>58778.18</td>\n",
              "      <td>2.712831</td>\n",
              "      <td>159417.751000</td>\n",
              "      <td>58764.349363</td>\n",
              "      <td>2021-03-31</td>\n",
              "    </tr>\n",
              "  </tbody>\n",
              "</table>\n",
              "<p>4857377 rows × 9 columns</p>\n",
              "</div>"
            ],
            "text/plain": [
              "          Timestamp      Open  ...  Weighted_Price        Date\n",
              "0        1325317920      4.39  ...        4.390000  2011-12-31\n",
              "1        1325317980       NaN  ...             NaN  2011-12-31\n",
              "2        1325318040       NaN  ...             NaN  2011-12-31\n",
              "3        1325318100       NaN  ...             NaN  2011-12-31\n",
              "4        1325318160       NaN  ...             NaN  2011-12-31\n",
              "...             ...       ...  ...             ...         ...\n",
              "4857372  1617148560  58714.31  ...    58692.753339  2021-03-30\n",
              "4857373  1617148620  58683.97  ...    58693.226508  2021-03-30\n",
              "4857374  1617148680  58693.43  ...    58696.198496  2021-03-30\n",
              "4857375  1617148740  58742.18  ...    58761.866202  2021-03-30\n",
              "4857376  1617148800  58767.75  ...    58764.349363  2021-03-31\n",
              "\n",
              "[4857377 rows x 9 columns]"
            ]
          },
          "metadata": {
            "tags": []
          },
          "execution_count": 11
        }
      ]
    },
    {
      "cell_type": "code",
      "metadata": {
        "colab": {
          "base_uri": "https://localhost:8080/"
        },
        "id": "l2LpugCd2AGw",
        "outputId": "5a6ac343-2160-4458-ccfc-b51ebcd0563c"
      },
      "source": [
        "mean_price = group['Weighted_Price'].mean()\n",
        "mean_price"
      ],
      "execution_count": 12,
      "outputs": [
        {
          "output_type": "execute_result",
          "data": {
            "text/plain": [
              "Date\n",
              "2011-12-31        4.471603\n",
              "2012-01-01        4.806667\n",
              "2012-01-02        5.000000\n",
              "2012-01-03        5.252500\n",
              "2012-01-04        5.208159\n",
              "                  ...     \n",
              "2021-03-27    55193.357260\n",
              "2021-03-28    55832.958824\n",
              "2021-03-29    56913.993819\n",
              "2021-03-30    58346.912268\n",
              "2021-03-31    58764.349363\n",
              "Name: Weighted_Price, Length: 3376, dtype: float64"
            ]
          },
          "metadata": {
            "tags": []
          },
          "execution_count": 12
        }
      ]
    },
    {
      "cell_type": "code",
      "metadata": {
        "id": "San0g6k11YuN"
      },
      "source": [
        "# Podela podataka na trening i test\n",
        "# mean_price - prosecna cena po danima\n",
        "# Skupovi za trening i test su odatle izvedeni\n",
        "# Predvidjanje se vrsi za poslednjih prediction_days dana\n",
        "\n",
        "prediction_days = 60\n",
        "\n",
        "train = mean_price[:len(mean_price)-prediction_days]\n",
        "test = mean_price[len(mean_price)-prediction_days:]"
      ],
      "execution_count": 13,
      "outputs": []
    },
    {
      "cell_type": "code",
      "metadata": {
        "colab": {
          "base_uri": "https://localhost:8080/"
        },
        "id": "0-pRvMN1as4A",
        "outputId": "aedd56d3-1a9b-496e-812b-019a06d0e672"
      },
      "source": [
        "train.head(3)"
      ],
      "execution_count": 14,
      "outputs": [
        {
          "output_type": "execute_result",
          "data": {
            "text/plain": [
              "Date\n",
              "2011-12-31    4.471603\n",
              "2012-01-01    4.806667\n",
              "2012-01-02    5.000000\n",
              "Name: Weighted_Price, dtype: float64"
            ]
          },
          "metadata": {
            "tags": []
          },
          "execution_count": 14
        }
      ]
    },
    {
      "cell_type": "code",
      "metadata": {
        "colab": {
          "base_uri": "https://localhost:8080/"
        },
        "id": "nAzeoVs3cv8Q",
        "outputId": "85eb280c-6590-4160-9663-c05020607203"
      },
      "source": [
        "train.values"
      ],
      "execution_count": 15,
      "outputs": [
        {
          "output_type": "execute_result",
          "data": {
            "text/plain": [
              "array([4.47160287e+00, 4.80666667e+00, 5.00000000e+00, ...,\n",
              "       3.17938844e+04, 3.50514678e+04, 3.40537126e+04])"
            ]
          },
          "metadata": {
            "tags": []
          },
          "execution_count": 15
        }
      ]
    },
    {
      "cell_type": "markdown",
      "metadata": {
        "id": "qNoyNrtwd0mR"
      },
      "source": [
        "### **Pretprocesiranje podataka**"
      ]
    },
    {
      "cell_type": "code",
      "metadata": {
        "colab": {
          "base_uri": "https://localhost:8080/"
        },
        "id": "_4DSPKkCc22G",
        "outputId": "79cbcf2e-c530-4b70-fead-24a32035bb70"
      },
      "source": [
        "training_set = train.values\n",
        "training_set"
      ],
      "execution_count": 16,
      "outputs": [
        {
          "output_type": "execute_result",
          "data": {
            "text/plain": [
              "array([4.47160287e+00, 4.80666667e+00, 5.00000000e+00, ...,\n",
              "       3.17938844e+04, 3.50514678e+04, 3.40537126e+04])"
            ]
          },
          "metadata": {
            "tags": []
          },
          "execution_count": 16
        }
      ]
    },
    {
      "cell_type": "code",
      "metadata": {
        "colab": {
          "base_uri": "https://localhost:8080/"
        },
        "id": "dyohP6TPc3Xq",
        "outputId": "6bc3dc39-5e1d-46a8-f2e5-2cede269985b"
      },
      "source": [
        "training_set = np.reshape(training_set, (len(training_set), 1))\n",
        "training_set"
      ],
      "execution_count": 17,
      "outputs": [
        {
          "output_type": "execute_result",
          "data": {
            "text/plain": [
              "array([[4.47160287e+00],\n",
              "       [4.80666667e+00],\n",
              "       [5.00000000e+00],\n",
              "       ...,\n",
              "       [3.17938844e+04],\n",
              "       [3.50514678e+04],\n",
              "       [3.40537126e+04]])"
            ]
          },
          "metadata": {
            "tags": []
          },
          "execution_count": 17
        }
      ]
    },
    {
      "cell_type": "code",
      "metadata": {
        "id": "PLtuLetM1Zim",
        "colab": {
          "base_uri": "https://localhost:8080/"
        },
        "outputId": "1fcbed15-a2ff-4a4f-f3fa-23ccfe10e0f5"
      },
      "source": [
        "# Skaliranje podataka\n",
        "\n",
        "scaler = MinMaxScaler()\n",
        "training_set = scaler.fit_transform(training_set)\n",
        "\n",
        "X_train = training_set[0:len(training_set)-1]\n",
        "y_train = training_set[1:len(training_set)]\n",
        "\n",
        "X_train = np.reshape(X_train, (len(X_train), 1, 1))\n",
        "\n",
        "print('X_train:\\n', X_train)\n",
        "print('\\n')\n",
        "print('y_train:\\n', y_train)"
      ],
      "execution_count": 18,
      "outputs": [
        {
          "output_type": "stream",
          "text": [
            "X_train:\n",
            " [[[3.46453603e-06]]\n",
            "\n",
            " [[1.17600344e-05]]\n",
            "\n",
            " [[1.65465747e-05]]\n",
            "\n",
            " ...\n",
            "\n",
            " [[7.71089056e-01]]\n",
            "\n",
            " [[7.87044701e-01]]\n",
            "\n",
            " [[8.67695843e-01]]]\n",
            "\n",
            "\n",
            "y_train:\n",
            " [[1.17600344e-05]\n",
            " [1.65465747e-05]\n",
            " [2.27979614e-05]\n",
            " ...\n",
            " [7.87044701e-01]\n",
            " [8.67695843e-01]\n",
            " [8.42993453e-01]]\n"
          ],
          "name": "stdout"
        }
      ]
    },
    {
      "cell_type": "markdown",
      "metadata": {
        "id": "5xb-ZEzxaRLv"
      },
      "source": [
        "# **Kreiranje i treniranje mreže**"
      ]
    },
    {
      "cell_type": "markdown",
      "metadata": {
        "id": "dKsDSBy-lzfN"
      },
      "source": [
        "### **Kreiranje i treniranje prvog modela mreže**"
      ]
    },
    {
      "cell_type": "code",
      "metadata": {
        "id": "OJJ1HReH10jI",
        "colab": {
          "base_uri": "https://localhost:8080/"
        },
        "outputId": "bbe8e7ed-6832-40d1-9e6b-cc8016d33046"
      },
      "source": [
        "# Inicijalizacija RNN\n",
        "model = Sequential()\n",
        "\n",
        "# Dodavanje input i LSTM sloja\n",
        "model.add(LSTM(units = 4, activation = 'sigmoid', input_shape = (None, 1)))\n",
        "\n",
        "# Dodavanje izlaznog sloja\n",
        "model.add(Dense(units = 1))\n",
        "\n",
        "# Arhitektura mreze\n",
        "model.summary()"
      ],
      "execution_count": 19,
      "outputs": [
        {
          "output_type": "stream",
          "text": [
            "Model: \"sequential\"\n",
            "_________________________________________________________________\n",
            "Layer (type)                 Output Shape              Param #   \n",
            "=================================================================\n",
            "lstm (LSTM)                  (None, 4)                 96        \n",
            "_________________________________________________________________\n",
            "dense (Dense)                (None, 1)                 5         \n",
            "=================================================================\n",
            "Total params: 101\n",
            "Trainable params: 101\n",
            "Non-trainable params: 0\n",
            "_________________________________________________________________\n"
          ],
          "name": "stdout"
        }
      ]
    },
    {
      "cell_type": "code",
      "metadata": {
        "colab": {
          "base_uri": "https://localhost:8080/"
        },
        "id": "99DFza5xa-YY",
        "outputId": "04321ee5-195d-4773-b5eb-e7772007144b"
      },
      "source": [
        "# Kompilacija RNN\n",
        "model.compile(optimizer = 'adam', loss = 'mean_squared_error', metrics=['accuracy', 'mae'])\n",
        "\n",
        "# Treniranje RNN na trening skupu\n",
        "history = model.fit(X_train, y_train, batch_size = 1, epochs = 100, validation_split = 0.1, verbose = 2)"
      ],
      "execution_count": 20,
      "outputs": [
        {
          "output_type": "stream",
          "text": [
            "Epoch 1/100\n",
            "2983/2983 - 27s - loss: 0.0061 - accuracy: 3.3523e-04 - mae: 0.0633 - val_loss: 0.0410 - val_accuracy: 0.0000e+00 - val_mae: 0.1604\n",
            "Epoch 2/100\n",
            "2983/2983 - 3s - loss: 0.0011 - accuracy: 3.3523e-04 - mae: 0.0244 - val_loss: 0.0036 - val_accuracy: 0.0030 - val_mae: 0.0338\n",
            "Epoch 3/100\n",
            "2983/2983 - 4s - loss: 2.9518e-05 - accuracy: 3.3523e-04 - mae: 0.0029 - val_loss: 0.0021 - val_accuracy: 0.0030 - val_mae: 0.0199\n",
            "Epoch 4/100\n",
            "2983/2983 - 4s - loss: 2.5985e-05 - accuracy: 3.3523e-04 - mae: 0.0029 - val_loss: 0.0020 - val_accuracy: 0.0030 - val_mae: 0.0195\n",
            "Epoch 5/100\n",
            "2983/2983 - 4s - loss: 2.6957e-05 - accuracy: 3.3523e-04 - mae: 0.0029 - val_loss: 0.0021 - val_accuracy: 0.0030 - val_mae: 0.0207\n",
            "Epoch 6/100\n",
            "2983/2983 - 4s - loss: 2.7627e-05 - accuracy: 3.3523e-04 - mae: 0.0030 - val_loss: 0.0022 - val_accuracy: 0.0030 - val_mae: 0.0221\n",
            "Epoch 7/100\n",
            "2983/2983 - 4s - loss: 2.6810e-05 - accuracy: 3.3523e-04 - mae: 0.0030 - val_loss: 0.0022 - val_accuracy: 0.0030 - val_mae: 0.0216\n",
            "Epoch 8/100\n",
            "2983/2983 - 4s - loss: 2.7264e-05 - accuracy: 3.3523e-04 - mae: 0.0030 - val_loss: 0.0019 - val_accuracy: 0.0030 - val_mae: 0.0189\n",
            "Epoch 9/100\n",
            "2983/2983 - 4s - loss: 2.7369e-05 - accuracy: 3.3523e-04 - mae: 0.0031 - val_loss: 0.0020 - val_accuracy: 0.0030 - val_mae: 0.0216\n",
            "Epoch 10/100\n",
            "2983/2983 - 4s - loss: 2.7668e-05 - accuracy: 3.3523e-04 - mae: 0.0030 - val_loss: 0.0018 - val_accuracy: 0.0030 - val_mae: 0.0190\n",
            "Epoch 11/100\n",
            "2983/2983 - 4s - loss: 2.7623e-05 - accuracy: 3.3523e-04 - mae: 0.0031 - val_loss: 0.0019 - val_accuracy: 0.0030 - val_mae: 0.0196\n",
            "Epoch 12/100\n",
            "2983/2983 - 4s - loss: 2.7352e-05 - accuracy: 3.3523e-04 - mae: 0.0030 - val_loss: 0.0017 - val_accuracy: 0.0030 - val_mae: 0.0182\n",
            "Epoch 13/100\n",
            "2983/2983 - 4s - loss: 2.7445e-05 - accuracy: 3.3523e-04 - mae: 0.0031 - val_loss: 0.0016 - val_accuracy: 0.0030 - val_mae: 0.0173\n",
            "Epoch 14/100\n",
            "2983/2983 - 4s - loss: 2.7122e-05 - accuracy: 3.3523e-04 - mae: 0.0030 - val_loss: 0.0019 - val_accuracy: 0.0030 - val_mae: 0.0193\n",
            "Epoch 15/100\n",
            "2983/2983 - 3s - loss: 2.7756e-05 - accuracy: 3.3523e-04 - mae: 0.0030 - val_loss: 0.0018 - val_accuracy: 0.0030 - val_mae: 0.0197\n",
            "Epoch 16/100\n",
            "2983/2983 - 4s - loss: 2.7432e-05 - accuracy: 3.3523e-04 - mae: 0.0030 - val_loss: 0.0016 - val_accuracy: 0.0030 - val_mae: 0.0175\n",
            "Epoch 17/100\n",
            "2983/2983 - 4s - loss: 2.7565e-05 - accuracy: 3.3523e-04 - mae: 0.0030 - val_loss: 0.0018 - val_accuracy: 0.0030 - val_mae: 0.0186\n",
            "Epoch 18/100\n",
            "2983/2983 - 4s - loss: 2.7196e-05 - accuracy: 3.3523e-04 - mae: 0.0029 - val_loss: 0.0017 - val_accuracy: 0.0030 - val_mae: 0.0180\n",
            "Epoch 19/100\n",
            "2983/2983 - 4s - loss: 2.7342e-05 - accuracy: 3.3523e-04 - mae: 0.0030 - val_loss: 0.0016 - val_accuracy: 0.0030 - val_mae: 0.0175\n",
            "Epoch 20/100\n",
            "2983/2983 - 4s - loss: 2.7485e-05 - accuracy: 3.3523e-04 - mae: 0.0029 - val_loss: 0.0019 - val_accuracy: 0.0030 - val_mae: 0.0200\n",
            "Epoch 21/100\n",
            "2983/2983 - 4s - loss: 2.7170e-05 - accuracy: 3.3523e-04 - mae: 0.0031 - val_loss: 0.0017 - val_accuracy: 0.0030 - val_mae: 0.0182\n",
            "Epoch 22/100\n",
            "2983/2983 - 4s - loss: 2.7381e-05 - accuracy: 3.3523e-04 - mae: 0.0030 - val_loss: 0.0015 - val_accuracy: 0.0030 - val_mae: 0.0177\n",
            "Epoch 23/100\n",
            "2983/2983 - 4s - loss: 2.7289e-05 - accuracy: 3.3523e-04 - mae: 0.0030 - val_loss: 0.0015 - val_accuracy: 0.0030 - val_mae: 0.0189\n",
            "Epoch 24/100\n",
            "2983/2983 - 3s - loss: 2.7878e-05 - accuracy: 3.3523e-04 - mae: 0.0030 - val_loss: 0.0016 - val_accuracy: 0.0030 - val_mae: 0.0176\n",
            "Epoch 25/100\n",
            "2983/2983 - 4s - loss: 2.7120e-05 - accuracy: 3.3523e-04 - mae: 0.0030 - val_loss: 0.0017 - val_accuracy: 0.0030 - val_mae: 0.0177\n",
            "Epoch 26/100\n",
            "2983/2983 - 4s - loss: 2.7588e-05 - accuracy: 3.3523e-04 - mae: 0.0030 - val_loss: 0.0015 - val_accuracy: 0.0030 - val_mae: 0.0170\n",
            "Epoch 27/100\n",
            "2983/2983 - 4s - loss: 2.7257e-05 - accuracy: 3.3523e-04 - mae: 0.0030 - val_loss: 0.0016 - val_accuracy: 0.0030 - val_mae: 0.0174\n",
            "Epoch 28/100\n",
            "2983/2983 - 4s - loss: 2.8238e-05 - accuracy: 3.3523e-04 - mae: 0.0031 - val_loss: 0.0017 - val_accuracy: 0.0030 - val_mae: 0.0177\n",
            "Epoch 29/100\n",
            "2983/2983 - 4s - loss: 2.7048e-05 - accuracy: 3.3523e-04 - mae: 0.0029 - val_loss: 0.0017 - val_accuracy: 0.0030 - val_mae: 0.0194\n",
            "Epoch 30/100\n",
            "2983/2983 - 4s - loss: 2.7354e-05 - accuracy: 3.3523e-04 - mae: 0.0029 - val_loss: 0.0015 - val_accuracy: 0.0030 - val_mae: 0.0170\n",
            "Epoch 31/100\n",
            "2983/2983 - 4s - loss: 2.7754e-05 - accuracy: 3.3523e-04 - mae: 0.0030 - val_loss: 0.0015 - val_accuracy: 0.0030 - val_mae: 0.0167\n",
            "Epoch 32/100\n",
            "2983/2983 - 4s - loss: 2.8502e-05 - accuracy: 3.3523e-04 - mae: 0.0031 - val_loss: 0.0017 - val_accuracy: 0.0030 - val_mae: 0.0177\n",
            "Epoch 33/100\n",
            "2983/2983 - 4s - loss: 2.7160e-05 - accuracy: 3.3523e-04 - mae: 0.0030 - val_loss: 0.0016 - val_accuracy: 0.0030 - val_mae: 0.0171\n",
            "Epoch 34/100\n",
            "2983/2983 - 4s - loss: 2.7069e-05 - accuracy: 3.3523e-04 - mae: 0.0029 - val_loss: 0.0017 - val_accuracy: 0.0030 - val_mae: 0.0185\n",
            "Epoch 35/100\n",
            "2983/2983 - 4s - loss: 2.8285e-05 - accuracy: 3.3523e-04 - mae: 0.0031 - val_loss: 0.0016 - val_accuracy: 0.0030 - val_mae: 0.0174\n",
            "Epoch 36/100\n",
            "2983/2983 - 3s - loss: 2.7036e-05 - accuracy: 3.3523e-04 - mae: 0.0029 - val_loss: 0.0014 - val_accuracy: 0.0030 - val_mae: 0.0161\n",
            "Epoch 37/100\n",
            "2983/2983 - 4s - loss: 2.6882e-05 - accuracy: 3.3523e-04 - mae: 0.0029 - val_loss: 0.0016 - val_accuracy: 0.0030 - val_mae: 0.0174\n",
            "Epoch 38/100\n",
            "2983/2983 - 3s - loss: 2.7470e-05 - accuracy: 3.3523e-04 - mae: 0.0031 - val_loss: 0.0018 - val_accuracy: 0.0030 - val_mae: 0.0203\n",
            "Epoch 39/100\n",
            "2983/2983 - 4s - loss: 2.6943e-05 - accuracy: 3.3523e-04 - mae: 0.0029 - val_loss: 0.0015 - val_accuracy: 0.0030 - val_mae: 0.0171\n",
            "Epoch 40/100\n",
            "2983/2983 - 4s - loss: 2.7880e-05 - accuracy: 3.3523e-04 - mae: 0.0031 - val_loss: 0.0015 - val_accuracy: 0.0030 - val_mae: 0.0167\n",
            "Epoch 41/100\n",
            "2983/2983 - 3s - loss: 2.5802e-05 - accuracy: 3.3523e-04 - mae: 0.0029 - val_loss: 0.0014 - val_accuracy: 0.0030 - val_mae: 0.0167\n",
            "Epoch 42/100\n",
            "2983/2983 - 4s - loss: 2.7888e-05 - accuracy: 3.3523e-04 - mae: 0.0030 - val_loss: 0.0017 - val_accuracy: 0.0030 - val_mae: 0.0177\n",
            "Epoch 43/100\n",
            "2983/2983 - 3s - loss: 2.6699e-05 - accuracy: 3.3523e-04 - mae: 0.0030 - val_loss: 0.0018 - val_accuracy: 0.0030 - val_mae: 0.0194\n",
            "Epoch 44/100\n",
            "2983/2983 - 4s - loss: 2.6331e-05 - accuracy: 3.3523e-04 - mae: 0.0029 - val_loss: 0.0018 - val_accuracy: 0.0030 - val_mae: 0.0192\n",
            "Epoch 45/100\n",
            "2983/2983 - 4s - loss: 2.6844e-05 - accuracy: 3.3523e-04 - mae: 0.0029 - val_loss: 0.0015 - val_accuracy: 0.0030 - val_mae: 0.0166\n",
            "Epoch 46/100\n",
            "2983/2983 - 4s - loss: 2.7295e-05 - accuracy: 3.3523e-04 - mae: 0.0030 - val_loss: 0.0017 - val_accuracy: 0.0030 - val_mae: 0.0187\n",
            "Epoch 47/100\n",
            "2983/2983 - 4s - loss: 2.7794e-05 - accuracy: 3.3523e-04 - mae: 0.0030 - val_loss: 0.0017 - val_accuracy: 0.0030 - val_mae: 0.0179\n",
            "Epoch 48/100\n",
            "2983/2983 - 4s - loss: 2.6606e-05 - accuracy: 3.3523e-04 - mae: 0.0030 - val_loss: 0.0017 - val_accuracy: 0.0030 - val_mae: 0.0180\n",
            "Epoch 49/100\n",
            "2983/2983 - 4s - loss: 2.6712e-05 - accuracy: 3.3523e-04 - mae: 0.0030 - val_loss: 0.0013 - val_accuracy: 0.0030 - val_mae: 0.0172\n",
            "Epoch 50/100\n",
            "2983/2983 - 4s - loss: 2.6924e-05 - accuracy: 3.3523e-04 - mae: 0.0030 - val_loss: 0.0015 - val_accuracy: 0.0030 - val_mae: 0.0171\n",
            "Epoch 51/100\n",
            "2983/2983 - 4s - loss: 2.6572e-05 - accuracy: 3.3523e-04 - mae: 0.0029 - val_loss: 0.0017 - val_accuracy: 0.0030 - val_mae: 0.0181\n",
            "Epoch 52/100\n",
            "2983/2983 - 4s - loss: 2.7261e-05 - accuracy: 3.3523e-04 - mae: 0.0030 - val_loss: 0.0016 - val_accuracy: 0.0030 - val_mae: 0.0171\n",
            "Epoch 53/100\n",
            "2983/2983 - 3s - loss: 2.6828e-05 - accuracy: 3.3523e-04 - mae: 0.0029 - val_loss: 0.0017 - val_accuracy: 0.0030 - val_mae: 0.0182\n",
            "Epoch 54/100\n",
            "2983/2983 - 4s - loss: 2.5830e-05 - accuracy: 3.3523e-04 - mae: 0.0029 - val_loss: 0.0016 - val_accuracy: 0.0030 - val_mae: 0.0173\n",
            "Epoch 55/100\n",
            "2983/2983 - 4s - loss: 2.6842e-05 - accuracy: 3.3523e-04 - mae: 0.0030 - val_loss: 0.0014 - val_accuracy: 0.0030 - val_mae: 0.0162\n",
            "Epoch 56/100\n",
            "2983/2983 - 4s - loss: 2.7837e-05 - accuracy: 3.3523e-04 - mae: 0.0030 - val_loss: 0.0017 - val_accuracy: 0.0030 - val_mae: 0.0202\n",
            "Epoch 57/100\n",
            "2983/2983 - 3s - loss: 2.8003e-05 - accuracy: 3.3523e-04 - mae: 0.0030 - val_loss: 0.0015 - val_accuracy: 0.0030 - val_mae: 0.0174\n",
            "Epoch 58/100\n",
            "2983/2983 - 4s - loss: 2.6141e-05 - accuracy: 3.3523e-04 - mae: 0.0029 - val_loss: 0.0015 - val_accuracy: 0.0030 - val_mae: 0.0170\n",
            "Epoch 59/100\n",
            "2983/2983 - 4s - loss: 2.6829e-05 - accuracy: 3.3523e-04 - mae: 0.0029 - val_loss: 0.0015 - val_accuracy: 0.0030 - val_mae: 0.0169\n",
            "Epoch 60/100\n",
            "2983/2983 - 4s - loss: 2.7286e-05 - accuracy: 3.3523e-04 - mae: 0.0029 - val_loss: 0.0016 - val_accuracy: 0.0030 - val_mae: 0.0179\n",
            "Epoch 61/100\n",
            "2983/2983 - 3s - loss: 2.6915e-05 - accuracy: 3.3523e-04 - mae: 0.0029 - val_loss: 0.0016 - val_accuracy: 0.0030 - val_mae: 0.0172\n",
            "Epoch 62/100\n",
            "2983/2983 - 4s - loss: 2.7188e-05 - accuracy: 3.3523e-04 - mae: 0.0030 - val_loss: 0.0015 - val_accuracy: 0.0030 - val_mae: 0.0169\n",
            "Epoch 63/100\n",
            "2983/2983 - 4s - loss: 2.7377e-05 - accuracy: 3.3523e-04 - mae: 0.0030 - val_loss: 0.0015 - val_accuracy: 0.0030 - val_mae: 0.0168\n",
            "Epoch 64/100\n",
            "2983/2983 - 4s - loss: 2.7681e-05 - accuracy: 3.3523e-04 - mae: 0.0030 - val_loss: 0.0013 - val_accuracy: 0.0030 - val_mae: 0.0179\n",
            "Epoch 65/100\n",
            "2983/2983 - 4s - loss: 2.7041e-05 - accuracy: 3.3523e-04 - mae: 0.0029 - val_loss: 0.0016 - val_accuracy: 0.0030 - val_mae: 0.0174\n",
            "Epoch 66/100\n",
            "2983/2983 - 4s - loss: 2.6960e-05 - accuracy: 3.3523e-04 - mae: 0.0030 - val_loss: 0.0020 - val_accuracy: 0.0030 - val_mae: 0.0262\n",
            "Epoch 67/100\n",
            "2983/2983 - 3s - loss: 2.7182e-05 - accuracy: 3.3523e-04 - mae: 0.0030 - val_loss: 0.0015 - val_accuracy: 0.0030 - val_mae: 0.0172\n",
            "Epoch 68/100\n",
            "2983/2983 - 4s - loss: 2.7137e-05 - accuracy: 3.3523e-04 - mae: 0.0030 - val_loss: 0.0016 - val_accuracy: 0.0030 - val_mae: 0.0176\n",
            "Epoch 69/100\n",
            "2983/2983 - 4s - loss: 2.6856e-05 - accuracy: 3.3523e-04 - mae: 0.0030 - val_loss: 0.0016 - val_accuracy: 0.0030 - val_mae: 0.0177\n",
            "Epoch 70/100\n",
            "2983/2983 - 4s - loss: 2.6902e-05 - accuracy: 3.3523e-04 - mae: 0.0030 - val_loss: 0.0015 - val_accuracy: 0.0030 - val_mae: 0.0170\n",
            "Epoch 71/100\n",
            "2983/2983 - 4s - loss: 2.7221e-05 - accuracy: 3.3523e-04 - mae: 0.0030 - val_loss: 0.0016 - val_accuracy: 0.0030 - val_mae: 0.0173\n",
            "Epoch 72/100\n",
            "2983/2983 - 4s - loss: 2.6752e-05 - accuracy: 3.3523e-04 - mae: 0.0029 - val_loss: 0.0017 - val_accuracy: 0.0030 - val_mae: 0.0186\n",
            "Epoch 73/100\n",
            "2983/2983 - 4s - loss: 2.7130e-05 - accuracy: 3.3523e-04 - mae: 0.0030 - val_loss: 0.0016 - val_accuracy: 0.0030 - val_mae: 0.0184\n",
            "Epoch 74/100\n",
            "2983/2983 - 4s - loss: 2.6778e-05 - accuracy: 3.3523e-04 - mae: 0.0029 - val_loss: 0.0014 - val_accuracy: 0.0030 - val_mae: 0.0166\n",
            "Epoch 75/100\n",
            "2983/2983 - 3s - loss: 2.6808e-05 - accuracy: 3.3523e-04 - mae: 0.0030 - val_loss: 0.0016 - val_accuracy: 0.0030 - val_mae: 0.0172\n",
            "Epoch 76/100\n",
            "2983/2983 - 4s - loss: 2.7602e-05 - accuracy: 3.3523e-04 - mae: 0.0030 - val_loss: 0.0015 - val_accuracy: 0.0030 - val_mae: 0.0165\n",
            "Epoch 77/100\n",
            "2983/2983 - 4s - loss: 2.7113e-05 - accuracy: 3.3523e-04 - mae: 0.0030 - val_loss: 0.0014 - val_accuracy: 0.0030 - val_mae: 0.0165\n",
            "Epoch 78/100\n",
            "2983/2983 - 4s - loss: 2.6490e-05 - accuracy: 3.3523e-04 - mae: 0.0030 - val_loss: 0.0018 - val_accuracy: 0.0030 - val_mae: 0.0206\n",
            "Epoch 79/100\n",
            "2983/2983 - 4s - loss: 2.7596e-05 - accuracy: 3.3523e-04 - mae: 0.0030 - val_loss: 0.0016 - val_accuracy: 0.0030 - val_mae: 0.0174\n",
            "Epoch 80/100\n",
            "2983/2983 - 4s - loss: 2.7831e-05 - accuracy: 3.3523e-04 - mae: 0.0030 - val_loss: 0.0015 - val_accuracy: 0.0030 - val_mae: 0.0167\n",
            "Epoch 81/100\n",
            "2983/2983 - 4s - loss: 2.7011e-05 - accuracy: 3.3523e-04 - mae: 0.0029 - val_loss: 0.0013 - val_accuracy: 0.0030 - val_mae: 0.0164\n",
            "Epoch 82/100\n",
            "2983/2983 - 4s - loss: 2.6654e-05 - accuracy: 3.3523e-04 - mae: 0.0029 - val_loss: 0.0015 - val_accuracy: 0.0030 - val_mae: 0.0169\n",
            "Epoch 83/100\n",
            "2983/2983 - 4s - loss: 2.7296e-05 - accuracy: 3.3523e-04 - mae: 0.0029 - val_loss: 0.0015 - val_accuracy: 0.0030 - val_mae: 0.0168\n",
            "Epoch 84/100\n",
            "2983/2983 - 4s - loss: 2.7013e-05 - accuracy: 3.3523e-04 - mae: 0.0029 - val_loss: 0.0014 - val_accuracy: 0.0030 - val_mae: 0.0165\n",
            "Epoch 85/100\n",
            "2983/2983 - 4s - loss: 2.7335e-05 - accuracy: 3.3523e-04 - mae: 0.0030 - val_loss: 0.0018 - val_accuracy: 0.0030 - val_mae: 0.0212\n",
            "Epoch 86/100\n",
            "2983/2983 - 4s - loss: 2.6854e-05 - accuracy: 3.3523e-04 - mae: 0.0029 - val_loss: 0.0015 - val_accuracy: 0.0030 - val_mae: 0.0169\n",
            "Epoch 87/100\n",
            "2983/2983 - 4s - loss: 2.6790e-05 - accuracy: 3.3523e-04 - mae: 0.0030 - val_loss: 0.0015 - val_accuracy: 0.0030 - val_mae: 0.0176\n",
            "Epoch 88/100\n",
            "2983/2983 - 4s - loss: 2.6913e-05 - accuracy: 3.3523e-04 - mae: 0.0029 - val_loss: 0.0014 - val_accuracy: 0.0030 - val_mae: 0.0164\n",
            "Epoch 89/100\n",
            "2983/2983 - 4s - loss: 2.7327e-05 - accuracy: 3.3523e-04 - mae: 0.0030 - val_loss: 0.0014 - val_accuracy: 0.0030 - val_mae: 0.0165\n",
            "Epoch 90/100\n",
            "2983/2983 - 3s - loss: 2.6946e-05 - accuracy: 3.3523e-04 - mae: 0.0030 - val_loss: 0.0015 - val_accuracy: 0.0030 - val_mae: 0.0165\n",
            "Epoch 91/100\n",
            "2983/2983 - 4s - loss: 2.6428e-05 - accuracy: 3.3523e-04 - mae: 0.0029 - val_loss: 0.0014 - val_accuracy: 0.0030 - val_mae: 0.0161\n",
            "Epoch 92/100\n",
            "2983/2983 - 4s - loss: 2.7388e-05 - accuracy: 3.3523e-04 - mae: 0.0030 - val_loss: 0.0016 - val_accuracy: 0.0030 - val_mae: 0.0176\n",
            "Epoch 93/100\n",
            "2983/2983 - 4s - loss: 2.6839e-05 - accuracy: 3.3523e-04 - mae: 0.0031 - val_loss: 0.0014 - val_accuracy: 0.0030 - val_mae: 0.0161\n",
            "Epoch 94/100\n",
            "2983/2983 - 4s - loss: 2.6764e-05 - accuracy: 3.3523e-04 - mae: 0.0030 - val_loss: 0.0014 - val_accuracy: 0.0030 - val_mae: 0.0162\n",
            "Epoch 95/100\n",
            "2983/2983 - 4s - loss: 2.7395e-05 - accuracy: 3.3523e-04 - mae: 0.0030 - val_loss: 0.0016 - val_accuracy: 0.0030 - val_mae: 0.0196\n",
            "Epoch 96/100\n",
            "2983/2983 - 4s - loss: 2.7140e-05 - accuracy: 3.3523e-04 - mae: 0.0030 - val_loss: 0.0014 - val_accuracy: 0.0030 - val_mae: 0.0164\n",
            "Epoch 97/100\n",
            "2983/2983 - 4s - loss: 2.7041e-05 - accuracy: 3.3523e-04 - mae: 0.0029 - val_loss: 0.0017 - val_accuracy: 0.0030 - val_mae: 0.0194\n",
            "Epoch 98/100\n",
            "2983/2983 - 4s - loss: 2.7520e-05 - accuracy: 3.3523e-04 - mae: 0.0031 - val_loss: 0.0015 - val_accuracy: 0.0030 - val_mae: 0.0169\n",
            "Epoch 99/100\n",
            "2983/2983 - 4s - loss: 2.7085e-05 - accuracy: 3.3523e-04 - mae: 0.0030 - val_loss: 0.0014 - val_accuracy: 0.0030 - val_mae: 0.0164\n",
            "Epoch 100/100\n",
            "2983/2983 - 4s - loss: 2.6319e-05 - accuracy: 3.3523e-04 - mae: 0.0029 - val_loss: 0.0014 - val_accuracy: 0.0030 - val_mae: 0.0165\n"
          ],
          "name": "stdout"
        }
      ]
    },
    {
      "cell_type": "markdown",
      "metadata": {
        "id": "QF2laY7ff4RR"
      },
      "source": [
        "### **Kreiranje i treniranje drugog modela mreze**\n"
      ]
    },
    {
      "cell_type": "code",
      "metadata": {
        "colab": {
          "base_uri": "https://localhost:8080/"
        },
        "id": "HQur59lt0xwB",
        "outputId": "69cd9eb0-5cf3-446c-8dda-e2cdaf1697a4"
      },
      "source": [
        "# Inicijalizacija RNN\n",
        "model_2 = Sequential()\n",
        "\n",
        "# Dodavanje slojeva\n",
        "model_2.add(LSTM(units = 50, activation = 'relu', return_sequences = True, input_shape = (None, 1)))\n",
        "model_2.add(Dropout(0.2))\n",
        "model_2.add(LSTM(units = 60, activation = 'relu', return_sequences = True))\n",
        "model_2.add(Dropout(0.3))\n",
        "model_2.add(LSTM(units = 80, activation = 'relu', return_sequences = True))\n",
        "model_2.add(Dropout(0.4))\n",
        "model_2.add(LSTM(units = 120, activation = 'relu'))\n",
        "model_2.add(Dropout(0.5))\n",
        "model_2.add(Dense(units =1))\n",
        "\n",
        "# Arhitektura mreze\n",
        "model_2.summary()"
      ],
      "execution_count": 21,
      "outputs": [
        {
          "output_type": "stream",
          "text": [
            "Model: \"sequential_1\"\n",
            "_________________________________________________________________\n",
            "Layer (type)                 Output Shape              Param #   \n",
            "=================================================================\n",
            "lstm_1 (LSTM)                (None, None, 50)          10400     \n",
            "_________________________________________________________________\n",
            "dropout (Dropout)            (None, None, 50)          0         \n",
            "_________________________________________________________________\n",
            "lstm_2 (LSTM)                (None, None, 60)          26640     \n",
            "_________________________________________________________________\n",
            "dropout_1 (Dropout)          (None, None, 60)          0         \n",
            "_________________________________________________________________\n",
            "lstm_3 (LSTM)                (None, None, 80)          45120     \n",
            "_________________________________________________________________\n",
            "dropout_2 (Dropout)          (None, None, 80)          0         \n",
            "_________________________________________________________________\n",
            "lstm_4 (LSTM)                (None, 120)               96480     \n",
            "_________________________________________________________________\n",
            "dropout_3 (Dropout)          (None, 120)               0         \n",
            "_________________________________________________________________\n",
            "dense_1 (Dense)              (None, 1)                 121       \n",
            "=================================================================\n",
            "Total params: 178,761\n",
            "Trainable params: 178,761\n",
            "Non-trainable params: 0\n",
            "_________________________________________________________________\n"
          ],
          "name": "stdout"
        }
      ]
    },
    {
      "cell_type": "code",
      "metadata": {
        "colab": {
          "base_uri": "https://localhost:8080/"
        },
        "id": "7wAwTiofbC_x",
        "outputId": "5925963d-e095-4411-bdda-5eac42ad71f6"
      },
      "source": [
        "# Kompilacija RNN\n",
        "model_2.compile(optimizer = 'adam', loss = 'mean_squared_error', metrics=['accuracy', 'mae'])\n",
        "\n",
        "# Treniranje RNN na trening skupu\n",
        "history_2 = model_2.fit(X_train, y_train, batch_size = 20, epochs = 50, validation_split = 0.1, verbose = 2)"
      ],
      "execution_count": 22,
      "outputs": [
        {
          "output_type": "stream",
          "text": [
            "Epoch 1/50\n",
            "150/150 - 11s - loss: 0.0085 - accuracy: 3.3523e-04 - mae: 0.0741 - val_loss: 0.0996 - val_accuracy: 0.0000e+00 - val_mae: 0.2531\n",
            "Epoch 2/50\n",
            "150/150 - 1s - loss: 0.0025 - accuracy: 3.3523e-04 - mae: 0.0334 - val_loss: 0.0030 - val_accuracy: 0.0030 - val_mae: 0.0208\n",
            "Epoch 3/50\n",
            "150/150 - 1s - loss: 9.0269e-04 - accuracy: 3.3523e-04 - mae: 0.0183 - val_loss: 0.0014 - val_accuracy: 0.0030 - val_mae: 0.0323\n",
            "Epoch 4/50\n",
            "150/150 - 1s - loss: 8.5425e-04 - accuracy: 3.3523e-04 - mae: 0.0177 - val_loss: 0.0016 - val_accuracy: 0.0030 - val_mae: 0.0314\n",
            "Epoch 5/50\n",
            "150/150 - 1s - loss: 7.2233e-04 - accuracy: 3.3523e-04 - mae: 0.0165 - val_loss: 0.0015 - val_accuracy: 0.0030 - val_mae: 0.0209\n",
            "Epoch 6/50\n",
            "150/150 - 1s - loss: 6.8057e-04 - accuracy: 3.3523e-04 - mae: 0.0160 - val_loss: 0.0053 - val_accuracy: 0.0030 - val_mae: 0.0439\n",
            "Epoch 7/50\n",
            "150/150 - 1s - loss: 7.4108e-04 - accuracy: 3.3523e-04 - mae: 0.0166 - val_loss: 0.0061 - val_accuracy: 0.0030 - val_mae: 0.0403\n",
            "Epoch 8/50\n",
            "150/150 - 1s - loss: 6.9909e-04 - accuracy: 3.3523e-04 - mae: 0.0162 - val_loss: 0.0097 - val_accuracy: 0.0030 - val_mae: 0.0477\n",
            "Epoch 9/50\n",
            "150/150 - 1s - loss: 6.8305e-04 - accuracy: 3.3523e-04 - mae: 0.0159 - val_loss: 0.0082 - val_accuracy: 0.0030 - val_mae: 0.0436\n",
            "Epoch 10/50\n",
            "150/150 - 1s - loss: 6.4072e-04 - accuracy: 3.3523e-04 - mae: 0.0152 - val_loss: 0.0150 - val_accuracy: 0.0000e+00 - val_mae: 0.0647\n",
            "Epoch 11/50\n",
            "150/150 - 1s - loss: 6.3170e-04 - accuracy: 3.3523e-04 - mae: 0.0155 - val_loss: 0.0200 - val_accuracy: 0.0000e+00 - val_mae: 0.0650\n",
            "Epoch 12/50\n",
            "150/150 - 1s - loss: 6.0609e-04 - accuracy: 3.3523e-04 - mae: 0.0150 - val_loss: 0.0186 - val_accuracy: 0.0000e+00 - val_mae: 0.0653\n",
            "Epoch 13/50\n",
            "150/150 - 1s - loss: 6.4223e-04 - accuracy: 3.3523e-04 - mae: 0.0152 - val_loss: 0.0250 - val_accuracy: 0.0000e+00 - val_mae: 0.0736\n",
            "Epoch 14/50\n",
            "150/150 - 1s - loss: 5.9330e-04 - accuracy: 3.3523e-04 - mae: 0.0150 - val_loss: 0.0181 - val_accuracy: 0.0000e+00 - val_mae: 0.0579\n",
            "Epoch 15/50\n",
            "150/150 - 1s - loss: 6.1091e-04 - accuracy: 3.3523e-04 - mae: 0.0149 - val_loss: 0.0175 - val_accuracy: 0.0000e+00 - val_mae: 0.0563\n",
            "Epoch 16/50\n",
            "150/150 - 1s - loss: 6.2121e-04 - accuracy: 3.3523e-04 - mae: 0.0151 - val_loss: 0.0247 - val_accuracy: 0.0000e+00 - val_mae: 0.0740\n",
            "Epoch 17/50\n",
            "150/150 - 1s - loss: 5.8896e-04 - accuracy: 3.3523e-04 - mae: 0.0147 - val_loss: 0.0249 - val_accuracy: 0.0000e+00 - val_mae: 0.0673\n",
            "Epoch 18/50\n",
            "150/150 - 1s - loss: 5.2966e-04 - accuracy: 3.3523e-04 - mae: 0.0140 - val_loss: 0.0292 - val_accuracy: 0.0000e+00 - val_mae: 0.0724\n",
            "Epoch 19/50\n",
            "150/150 - 1s - loss: 5.7145e-04 - accuracy: 3.3523e-04 - mae: 0.0146 - val_loss: 0.0313 - val_accuracy: 0.0000e+00 - val_mae: 0.0761\n",
            "Epoch 20/50\n",
            "150/150 - 1s - loss: 5.6314e-04 - accuracy: 3.3523e-04 - mae: 0.0140 - val_loss: 0.0301 - val_accuracy: 0.0000e+00 - val_mae: 0.0746\n",
            "Epoch 21/50\n",
            "150/150 - 1s - loss: 5.5193e-04 - accuracy: 3.3523e-04 - mae: 0.0143 - val_loss: 0.0270 - val_accuracy: 0.0000e+00 - val_mae: 0.0710\n",
            "Epoch 22/50\n",
            "150/150 - 1s - loss: 4.8997e-04 - accuracy: 3.3523e-04 - mae: 0.0137 - val_loss: 0.0326 - val_accuracy: 0.0000e+00 - val_mae: 0.0775\n",
            "Epoch 23/50\n",
            "150/150 - 1s - loss: 5.5315e-04 - accuracy: 3.3523e-04 - mae: 0.0140 - val_loss: 0.0346 - val_accuracy: 0.0000e+00 - val_mae: 0.0804\n",
            "Epoch 24/50\n",
            "150/150 - 1s - loss: 5.2414e-04 - accuracy: 3.3523e-04 - mae: 0.0139 - val_loss: 0.0304 - val_accuracy: 0.0000e+00 - val_mae: 0.0743\n",
            "Epoch 25/50\n",
            "150/150 - 1s - loss: 5.5581e-04 - accuracy: 3.3523e-04 - mae: 0.0144 - val_loss: 0.0339 - val_accuracy: 0.0000e+00 - val_mae: 0.0791\n",
            "Epoch 26/50\n",
            "150/150 - 1s - loss: 5.0786e-04 - accuracy: 3.3523e-04 - mae: 0.0135 - val_loss: 0.0322 - val_accuracy: 0.0000e+00 - val_mae: 0.0765\n",
            "Epoch 27/50\n",
            "150/150 - 1s - loss: 5.2860e-04 - accuracy: 3.3523e-04 - mae: 0.0139 - val_loss: 0.0303 - val_accuracy: 0.0000e+00 - val_mae: 0.0762\n",
            "Epoch 28/50\n",
            "150/150 - 1s - loss: 4.6454e-04 - accuracy: 3.3523e-04 - mae: 0.0135 - val_loss: 0.0334 - val_accuracy: 0.0000e+00 - val_mae: 0.0888\n",
            "Epoch 29/50\n",
            "150/150 - 1s - loss: 5.3154e-04 - accuracy: 3.3523e-04 - mae: 0.0142 - val_loss: 0.0349 - val_accuracy: 0.0000e+00 - val_mae: 0.0813\n",
            "Epoch 30/50\n",
            "150/150 - 1s - loss: 5.1105e-04 - accuracy: 3.3523e-04 - mae: 0.0139 - val_loss: 0.0329 - val_accuracy: 0.0000e+00 - val_mae: 0.0830\n",
            "Epoch 31/50\n",
            "150/150 - 1s - loss: 4.6747e-04 - accuracy: 3.3523e-04 - mae: 0.0137 - val_loss: 0.0311 - val_accuracy: 0.0000e+00 - val_mae: 0.0754\n",
            "Epoch 32/50\n",
            "150/150 - 1s - loss: 4.9288e-04 - accuracy: 3.3523e-04 - mae: 0.0137 - val_loss: 0.0310 - val_accuracy: 0.0000e+00 - val_mae: 0.0752\n",
            "Epoch 33/50\n",
            "150/150 - 1s - loss: 5.1294e-04 - accuracy: 3.3523e-04 - mae: 0.0143 - val_loss: 0.0249 - val_accuracy: 0.0000e+00 - val_mae: 0.0716\n",
            "Epoch 34/50\n",
            "150/150 - 1s - loss: 5.0852e-04 - accuracy: 3.3523e-04 - mae: 0.0137 - val_loss: 0.0239 - val_accuracy: 0.0000e+00 - val_mae: 0.0701\n",
            "Epoch 35/50\n",
            "150/150 - 1s - loss: 4.6297e-04 - accuracy: 3.3523e-04 - mae: 0.0132 - val_loss: 0.0249 - val_accuracy: 0.0000e+00 - val_mae: 0.0701\n",
            "Epoch 36/50\n",
            "150/150 - 1s - loss: 5.2269e-04 - accuracy: 3.3523e-04 - mae: 0.0138 - val_loss: 0.0192 - val_accuracy: 0.0030 - val_mae: 0.0651\n",
            "Epoch 37/50\n",
            "150/150 - 1s - loss: 4.8623e-04 - accuracy: 3.3523e-04 - mae: 0.0135 - val_loss: 0.0216 - val_accuracy: 0.0030 - val_mae: 0.0754\n",
            "Epoch 38/50\n",
            "150/150 - 1s - loss: 4.9583e-04 - accuracy: 3.3523e-04 - mae: 0.0137 - val_loss: 0.0125 - val_accuracy: 0.0030 - val_mae: 0.0557\n",
            "Epoch 39/50\n",
            "150/150 - 1s - loss: 5.0397e-04 - accuracy: 3.3523e-04 - mae: 0.0138 - val_loss: 0.0120 - val_accuracy: 0.0030 - val_mae: 0.0548\n",
            "Epoch 40/50\n",
            "150/150 - 1s - loss: 4.5957e-04 - accuracy: 3.3523e-04 - mae: 0.0131 - val_loss: 0.0056 - val_accuracy: 0.0030 - val_mae: 0.0405\n",
            "Epoch 41/50\n",
            "150/150 - 1s - loss: 4.9450e-04 - accuracy: 3.3523e-04 - mae: 0.0137 - val_loss: 0.0037 - val_accuracy: 0.0030 - val_mae: 0.0358\n",
            "Epoch 42/50\n",
            "150/150 - 1s - loss: 4.9092e-04 - accuracy: 3.3523e-04 - mae: 0.0137 - val_loss: 0.0066 - val_accuracy: 0.0030 - val_mae: 0.0489\n",
            "Epoch 43/50\n",
            "150/150 - 1s - loss: 4.6360e-04 - accuracy: 3.3523e-04 - mae: 0.0133 - val_loss: 0.0039 - val_accuracy: 0.0030 - val_mae: 0.0315\n",
            "Epoch 44/50\n",
            "150/150 - 1s - loss: 4.5565e-04 - accuracy: 3.3523e-04 - mae: 0.0130 - val_loss: 0.0093 - val_accuracy: 0.0030 - val_mae: 0.0378\n",
            "Epoch 45/50\n",
            "150/150 - 1s - loss: 5.0199e-04 - accuracy: 3.3523e-04 - mae: 0.0138 - val_loss: 0.0278 - val_accuracy: 0.0030 - val_mae: 0.0652\n",
            "Epoch 46/50\n",
            "150/150 - 1s - loss: 4.6639e-04 - accuracy: 3.3523e-04 - mae: 0.0135 - val_loss: 0.0201 - val_accuracy: 0.0030 - val_mae: 0.0517\n",
            "Epoch 47/50\n",
            "150/150 - 1s - loss: 4.5517e-04 - accuracy: 3.3523e-04 - mae: 0.0134 - val_loss: 0.0063 - val_accuracy: 0.0030 - val_mae: 0.0390\n",
            "Epoch 48/50\n",
            "150/150 - 1s - loss: 4.7288e-04 - accuracy: 3.3523e-04 - mae: 0.0133 - val_loss: 0.0052 - val_accuracy: 0.0030 - val_mae: 0.0399\n",
            "Epoch 49/50\n",
            "150/150 - 1s - loss: 4.3559e-04 - accuracy: 3.3523e-04 - mae: 0.0129 - val_loss: 0.0276 - val_accuracy: 0.0030 - val_mae: 0.0564\n",
            "Epoch 50/50\n",
            "150/150 - 1s - loss: 4.8323e-04 - accuracy: 3.3523e-04 - mae: 0.0136 - val_loss: 0.0146 - val_accuracy: 0.0030 - val_mae: 0.0471\n"
          ],
          "name": "stdout"
        }
      ]
    },
    {
      "cell_type": "markdown",
      "metadata": {
        "id": "Z_7cfzXxmNax"
      },
      "source": [
        "# **Predviđanja mreža**"
      ]
    },
    {
      "cell_type": "markdown",
      "metadata": {
        "id": "gZZxOouxmWmx"
      },
      "source": [
        "### **Predvidjanje prvog modela mreže**"
      ]
    },
    {
      "cell_type": "code",
      "metadata": {
        "id": "N-hV_kuyXE0V"
      },
      "source": [
        "# Predvidjanje prvog modela mreze\n",
        "\n",
        "# Skup podataka za testiranje\n",
        "test_set = test.values\n",
        "test_data = np.reshape(test_set, (len(test_set), 1))\n",
        "\n",
        "# Skaliranje podataka skupa za testiranje\n",
        "test_data = scaler.transform(test_data)\n",
        "test_data = np.reshape(test_data, (len(test_data), 1, 1))\n",
        "\n",
        "# Odredjivanje ciljne promenljive\n",
        "X_test = test_data[0:len(test_data)-1]\n",
        "y_test = test_data[1:len(test_data)]"
      ],
      "execution_count": 29,
      "outputs": []
    },
    {
      "cell_type": "code",
      "metadata": {
        "colab": {
          "base_uri": "https://localhost:8080/"
        },
        "id": "sgWNlr1osRH0",
        "outputId": "8280ae7a-6646-4d31-ccb2-694bb897ed06"
      },
      "source": [
        "X_test.shape"
      ],
      "execution_count": 31,
      "outputs": [
        {
          "output_type": "execute_result",
          "data": {
            "text/plain": [
              "(59, 1, 1)"
            ]
          },
          "metadata": {
            "tags": []
          },
          "execution_count": 31
        }
      ]
    },
    {
      "cell_type": "code",
      "metadata": {
        "colab": {
          "base_uri": "https://localhost:8080/"
        },
        "id": "cgGGBcqesSI1",
        "outputId": "e0a49189-72b7-4827-de2f-f28e7bd15768"
      },
      "source": [
        "y_test.shape"
      ],
      "execution_count": 36,
      "outputs": [
        {
          "output_type": "execute_result",
          "data": {
            "text/plain": [
              "(59, 1, 1)"
            ]
          },
          "metadata": {
            "tags": []
          },
          "execution_count": 36
        }
      ]
    },
    {
      "cell_type": "code",
      "metadata": {
        "colab": {
          "base_uri": "https://localhost:8080/"
        },
        "id": "avDSfqrvsexi",
        "outputId": "49d5ace9-6c73-4c4d-b807-1d2bbccfea73"
      },
      "source": [
        "y_test_reshaped = np.reshape(y_test, (len(y_test), 1))\n",
        "y_test_reshaped.shape"
      ],
      "execution_count": 39,
      "outputs": [
        {
          "output_type": "execute_result",
          "data": {
            "text/plain": [
              "(59, 1)"
            ]
          },
          "metadata": {
            "tags": []
          },
          "execution_count": 39
        }
      ]
    },
    {
      "cell_type": "code",
      "metadata": {
        "colab": {
          "base_uri": "https://localhost:8080/"
        },
        "id": "WObw7cDtgzUL",
        "outputId": "9598391e-705c-45b1-9c0d-e5d3144670e4"
      },
      "source": [
        "# Predvidjanje 1. modela\n",
        "predicted_price = model.predict(X_test)\n",
        "predicted_price, predicted_price.shape"
      ],
      "execution_count": 40,
      "outputs": [
        {
          "output_type": "execute_result",
          "data": {
            "text/plain": [
              "(array([[0.73349375],\n",
              "        [0.73742336],\n",
              "        [0.75264627],\n",
              "        [0.77947414],\n",
              "        [0.79280907],\n",
              "        [0.7940062 ],\n",
              "        [0.822428  ],\n",
              "        [0.80834955],\n",
              "        [0.83932114],\n",
              "        [0.89854044],\n",
              "        [0.8897921 ],\n",
              "        [0.89450556],\n",
              "        [0.90730494],\n",
              "        [0.90419763],\n",
              "        [0.9164652 ],\n",
              "        [0.9097188 ],\n",
              "        [0.91865855],\n",
              "        [0.9363741 ],\n",
              "        [0.9442604 ],\n",
              "        [0.9534331 ],\n",
              "        [0.97588235],\n",
              "        [0.9808689 ],\n",
              "        [0.96524554],\n",
              "        [0.91975933],\n",
              "        [0.9270199 ],\n",
              "        [0.9286025 ],\n",
              "        [0.8982629 ],\n",
              "        [0.90283066],\n",
              "        [0.87975764],\n",
              "        [0.90766174],\n",
              "        [0.9166165 ],\n",
              "        [0.93235594],\n",
              "        [0.923539  ],\n",
              "        [0.9083727 ],\n",
              "        [0.9143935 ],\n",
              "        [0.9305795 ],\n",
              "        [0.9354227 ],\n",
              "        [0.9600536 ],\n",
              "        [0.96987027],\n",
              "        [0.97589093],\n",
              "        [0.97949654],\n",
              "        [0.9916913 ],\n",
              "        [1.0011337 ],\n",
              "        [0.9838161 ],\n",
              "        [0.96962696],\n",
              "        [0.9751347 ],\n",
              "        [0.9897223 ],\n",
              "        [0.9885865 ],\n",
              "        [0.9915562 ],\n",
              "        [0.98259133],\n",
              "        [0.97924274],\n",
              "        [0.965211  ],\n",
              "        [0.96814257],\n",
              "        [0.94605476],\n",
              "        [0.95461076],\n",
              "        [0.9686212 ],\n",
              "        [0.97296923],\n",
              "        [0.9800579 ],\n",
              "        [0.98896915]], dtype=float32), (59, 1))"
            ]
          },
          "metadata": {
            "tags": []
          },
          "execution_count": 40
        }
      ]
    },
    {
      "cell_type": "code",
      "metadata": {
        "colab": {
          "base_uri": "https://localhost:8080/"
        },
        "id": "uGvoKT0dg0Cb",
        "outputId": "df217f6d-f1cb-406d-e29a-d0c73e3012f8"
      },
      "source": [
        "# Primenjena je inverzna transformacija\n",
        "# kako bi se dobila pocetna forma cene\n",
        "\n",
        "predicted_real_price = scaler.inverse_transform(predicted_price)\n",
        "predicted_real_price"
      ],
      "execution_count": 41,
      "outputs": [
        {
          "output_type": "execute_result",
          "data": {
            "text/plain": [
              "array([[29630.904],\n",
              "       [29789.627],\n",
              "       [30404.496],\n",
              "       [31488.102],\n",
              "       [32026.713],\n",
              "       [32075.066],\n",
              "       [33223.05 ],\n",
              "       [32654.408],\n",
              "       [33905.383],\n",
              "       [36297.312],\n",
              "       [35943.957],\n",
              "       [36134.34 ],\n",
              "       [36651.32 ],\n",
              "       [36525.812],\n",
              "       [37021.312],\n",
              "       [36748.82 ],\n",
              "       [37109.902],\n",
              "       [37825.453],\n",
              "       [38143.99 ],\n",
              "       [38514.484],\n",
              "       [39421.234],\n",
              "       [39622.645],\n",
              "       [38991.6  ],\n",
              "       [37154.367],\n",
              "       [37447.63 ],\n",
              "       [37511.55 ],\n",
              "       [36286.1  ],\n",
              "       [36470.598],\n",
              "       [35538.656],\n",
              "       [36665.73 ],\n",
              "       [37027.42 ],\n",
              "       [37663.156],\n",
              "       [37307.03 ],\n",
              "       [36694.45 ],\n",
              "       [36937.633],\n",
              "       [37591.402],\n",
              "       [37787.027],\n",
              "       [38781.895],\n",
              "       [39178.4  ],\n",
              "       [39421.58 ],\n",
              "       [39567.215],\n",
              "       [40059.773],\n",
              "       [40441.164],\n",
              "       [39741.684],\n",
              "       [39168.57 ],\n",
              "       [39391.03 ],\n",
              "       [39980.242],\n",
              "       [39934.367],\n",
              "       [40054.316],\n",
              "       [39692.215],\n",
              "       [39556.96 ],\n",
              "       [38990.203],\n",
              "       [39108.613],\n",
              "       [38216.465],\n",
              "       [38562.05 ],\n",
              "       [39127.945],\n",
              "       [39303.57 ],\n",
              "       [39589.887],\n",
              "       [39949.82 ]], dtype=float32)"
            ]
          },
          "metadata": {
            "tags": []
          },
          "execution_count": 41
        }
      ]
    },
    {
      "cell_type": "code",
      "metadata": {
        "id": "5D0S8Jlfg1F1"
      },
      "source": [
        ""
      ],
      "execution_count": 25,
      "outputs": []
    },
    {
      "cell_type": "markdown",
      "metadata": {
        "id": "Tv4RPd0Jme3Y"
      },
      "source": [
        "### **Predvidjanje drugog modela mreže**"
      ]
    },
    {
      "cell_type": "code",
      "metadata": {
        "colab": {
          "base_uri": "https://localhost:8080/"
        },
        "id": "3Myu9iaPmvtC",
        "outputId": "3d156f76-42d8-4b88-afa7-4fe3c5f828e2"
      },
      "source": [
        "# Predvidjanje 2. modela\n",
        "\n",
        "# Skup podataka za testiranje isti kao kod 1. modela - X_test\n",
        "\n",
        "predicted_price_2 = model_2.predict(X_test)\n",
        "predicted_price_2\n",
        "\n",
        "# np.reshape(predicted_price_2, (len(predicted_price_2), 1, 1))\n"
      ],
      "execution_count": 42,
      "outputs": [
        {
          "output_type": "execute_result",
          "data": {
            "text/plain": [
              "array([[1.0718571],\n",
              "       [1.0931965],\n",
              "       [1.1807499],\n",
              "       [1.3543867],\n",
              "       [1.4507669],\n",
              "       [1.4597697],\n",
              "       [1.6911765],\n",
              "       [1.5723   ],\n",
              "       [1.8451427],\n",
              "       [2.496006 ],\n",
              "       [2.3880725],\n",
              "       [2.4456756],\n",
              "       [2.6086621],\n",
              "       [2.5681925],\n",
              "       [2.7314358],\n",
              "       [2.640508 ],\n",
              "       [2.7616196],\n",
              "       [3.0170932],\n",
              "       [3.1378527],\n",
              "       [3.2841449],\n",
              "       [3.6711514],\n",
              "       [3.7632427],\n",
              "       [3.482386 ],\n",
              "       [2.7768826],\n",
              "       [2.8795576],\n",
              "       [2.9024043],\n",
              "       [2.4925132],\n",
              "       [2.5505753],\n",
              "       [2.269628 ],\n",
              "       [2.613347 ],\n",
              "       [2.7335064],\n",
              "       [2.9572742],\n",
              "       [2.8299   ],\n",
              "       [2.6227036],\n",
              "       [2.7032082],\n",
              "       [2.9311843],\n",
              "       [3.0028267],\n",
              "       [3.3938365],\n",
              "       [3.5632129],\n",
              "       [3.6713088],\n",
              "       [3.7376616],\n",
              "       [3.9716892],\n",
              "       [4.1640005],\n",
              "       [3.8188176],\n",
              "       [3.5589137],\n",
              "       [3.6575468],\n",
              "       [3.9328527],\n",
              "       [3.9106383],\n",
              "       [3.9690106],\n",
              "       [3.7956197],\n",
              "       [3.7329507],\n",
              "       [3.4817886],\n",
              "       [3.5327992],\n",
              "       [3.1659644],\n",
              "       [3.3034003],\n",
              "       [3.5411968],\n",
              "       [3.6184363],\n",
              "       [3.7481058],\n",
              "       [3.9181075]], dtype=float32)"
            ]
          },
          "metadata": {
            "tags": []
          },
          "execution_count": 42
        }
      ]
    },
    {
      "cell_type": "code",
      "metadata": {
        "colab": {
          "base_uri": "https://localhost:8080/"
        },
        "id": "5ldheGuqmv65",
        "outputId": "ed863c98-2114-49bd-95a7-0893213e8070"
      },
      "source": [
        "# Primenjena je inverzna transformacija\n",
        "# kako bi se dobila pocetna forma cene\n",
        "\n",
        "predicted_real_price_2 = scaler.inverse_transform(predicted_price_2)\n",
        "predicted_real_price_2"
      ],
      "execution_count": 43,
      "outputs": [
        {
          "output_type": "execute_result",
          "data": {
            "text/plain": [
              "array([[ 43297.754],\n",
              "       [ 44159.676],\n",
              "       [ 47696.047],\n",
              "       [ 54709.418],\n",
              "       [ 58602.316],\n",
              "       [ 58965.95 ],\n",
              "       [ 68312.71 ],\n",
              "       [ 63511.16 ],\n",
              "       [ 74531.56 ],\n",
              "       [100820.61 ],\n",
              "       [ 96461.06 ],\n",
              "       [ 98787.71 ],\n",
              "       [105370.91 ],\n",
              "       [103736.3  ],\n",
              "       [110329.86 ],\n",
              "       [106657.19 ],\n",
              "       [111549.016],\n",
              "       [121867.86 ],\n",
              "       [126745.46 ],\n",
              "       [132654.36 ],\n",
              "       [148285.95 ],\n",
              "       [152005.61 ],\n",
              "       [140661.53 ],\n",
              "       [112165.51 ],\n",
              "       [116312.66 ],\n",
              "       [117235.46 ],\n",
              "       [100679.53 ],\n",
              "       [103024.72 ],\n",
              "       [ 91676.97 ],\n",
              "       [105560.13 ],\n",
              "       [110413.5  ],\n",
              "       [119451.71 ],\n",
              "       [114306.94 ],\n",
              "       [105938.055],\n",
              "       [109189.72 ],\n",
              "       [118397.914],\n",
              "       [121291.625],\n",
              "       [137084.9  ],\n",
              "       [143926.2  ],\n",
              "       [148292.31 ],\n",
              "       [150972.36 ],\n",
              "       [160424.98 ],\n",
              "       [168192.64 ],\n",
              "       [154250.34 ],\n",
              "       [143752.55 ],\n",
              "       [147736.44 ],\n",
              "       [158856.34 ],\n",
              "       [157959.08 ],\n",
              "       [160316.8  ],\n",
              "       [153313.36 ],\n",
              "       [150782.1  ],\n",
              "       [140637.39 ],\n",
              "       [142697.77 ],\n",
              "       [127880.92 ],\n",
              "       [133432.1  ],\n",
              "       [143036.95 ],\n",
              "       [146156.73 ],\n",
              "       [151394.22 ],\n",
              "       [158260.77 ]], dtype=float32)"
            ]
          },
          "metadata": {
            "tags": []
          },
          "execution_count": 43
        }
      ]
    },
    {
      "cell_type": "code",
      "metadata": {
        "id": "8YDvdUJinzSY"
      },
      "source": [
        ""
      ],
      "execution_count": 27,
      "outputs": []
    },
    {
      "cell_type": "markdown",
      "metadata": {
        "id": "QSTspEUToIeH"
      },
      "source": [
        "# **Vizuelni prikaz rezultata**"
      ]
    },
    {
      "cell_type": "markdown",
      "metadata": {
        "id": "MaSDd3v8oQFN"
      },
      "source": [
        "### **Vizuelni prikaz rezultata prvog modela mreze**"
      ]
    },
    {
      "cell_type": "code",
      "metadata": {
        "colab": {
          "base_uri": "https://localhost:8080/",
          "height": 542
        },
        "id": "qt7d1yJS2HQC",
        "outputId": "639a20e7-14d2-4c36-b1a7-cf5fa0094f96"
      },
      "source": [
        "# Vizuelni prikaz rezultata prvog modela mreze\n",
        "\n",
        "plt.figure(figsize=(15,9), dpi=100, facecolor='w', edgecolor='k')\n",
        "ax = plt.gca()\n",
        "\n",
        "plt.title('Vizuelni prikaz stvarne i predvidjene vrednosti BTC')\n",
        "plt.plot(y_test_reshaped, color = 'red', label = 'Stvarna vrednost BTC')\n",
        "plt.plot(predicted_real_price, color = 'green', label = 'Predvidjena vrednost BTC')\n",
        "\n",
        "test = test.reset_index()\n",
        "x = test.index\n",
        "\n",
        "plt.xticks(x, labels = test['Date'], rotation = 'vertical')\n",
        "plt.xlabel('Vremenski period')\n",
        "plt.ylabel('Cena BTC (USD)')\n",
        "plt.legend(loc='best')\n",
        "plt.show()"
      ],
      "execution_count": 44,
      "outputs": [
        {
          "output_type": "display_data",
          "data": {
            "image/png": "[encoded data removed]",
            "text/plain": [
              "<Figure size 1500x900 with 1 Axes>"
            ]
          },
          "metadata": {
            "tags": []
          }
        }
      ]
    },
    {
      "cell_type": "code",
      "metadata": {
        "colab": {
          "base_uri": "https://localhost:8080/",
          "height": 281
        },
        "id": "sok0QN8N2M-l",
        "outputId": "f68d6e2c-890a-4d90-bfc3-1f8ce025bdec"
      },
      "source": [
        "# Vizuelni prikaz gubitka (loss) tokom treniranja mreze\n",
        "\n",
        "plt.subplot(211)\n",
        "# plt.title('Gubitak (Loss)')\n",
        "epochs = range(len(history.history['loss']))\n",
        "plt.plot(epochs, history.history['loss'], label='Gubitak (loss) tokom treniranja')\n",
        "plt.plot(epochs, history.history['val_loss'], label='Gubitak (val_loss) tokom validacije')\n",
        "\n",
        "plt.legend()\n",
        "\n",
        "plt.title('Vizuelni prikaz gubitka (loss) i tacnosti (accuracy) mreze')\n",
        "\n",
        "# Vizuelni prikaz tacnosti (accuracy) tokom treniranja mreze\n",
        "plt.subplot(212)\n",
        "# plt.title('Tacnost (Accuracy)')\n",
        "plt.plot(epochs, history.history['accuracy'], label='Tacnost (accuracy) tokom treniranja')\n",
        "plt.plot(epochs, history.history['val_accuracy'], label='Tacnost (val_accuracy) tokom validacije')\n",
        "\n",
        "plt.legend()\n",
        "\n",
        "plt.show()"
      ],
      "execution_count": 45,
      "outputs": [
        {
          "output_type": "display_data",
          "data": {
            "image/png": "[encoded data removed]",
            "text/plain": [
              "<Figure size 432x288 with 2 Axes>"
            ]
          },
          "metadata": {
            "tags": [],
            "needs_background": "light"
          }
        }
      ]
    },
    {
      "cell_type": "code",
      "metadata": {
        "id": "T35MPqZGvQ9J"
      },
      "source": [
        "# Vizuelni prikaz MAE\n",
        "\n",
        "def plot_mae(history_):\n",
        "\n",
        "  epochs = range(len(history_.history['mae'])) # broj epoha\n",
        "  plt.title('Vizuelni prikaz MAE (mae')\n",
        "  plt.xlabel('broj epohe')\n",
        "  plt.ylabel('MAE')\n",
        "  \n",
        "  plt.plot(epochs, history_.history['mae'], label='MAE (mae) tokom treniranja')\n",
        "\n",
        "  if 'val_mae' in history_.history:\n",
        "    plt.plot(epochs, history_.history['val_mae'], label='MAE (val_mae) tokom treniranja sa validacijom')\n",
        "\n",
        "  plt.legend(loc = 'best')\n",
        "\n",
        "  plt.show()"
      ],
      "execution_count": 46,
      "outputs": []
    },
    {
      "cell_type": "code",
      "metadata": {
        "colab": {
          "base_uri": "https://localhost:8080/",
          "height": 295
        },
        "id": "l_DyWRvUdLB8",
        "outputId": "b8c3ea95-fb6c-4bab-a173-e6acc4094398"
      },
      "source": [
        "# MAE - sa validacijom\n",
        "\n",
        "plot_mae(history)"
      ],
      "execution_count": 47,
      "outputs": [
        {
          "output_type": "display_data",
          "data": {
            "image/png": "[encoded data removed]",
            "text/plain": [
              "<Figure size 432x288 with 1 Axes>"
            ]
          },
          "metadata": {
            "tags": [],
            "needs_background": "light"
          }
        }
      ]
    },
    {
      "cell_type": "code",
      "metadata": {
        "colab": {
          "base_uri": "https://localhost:8080/"
        },
        "id": "OGfHxBRSdN8z",
        "outputId": "51f26289-5721-4010-e91a-e0d8dcbd692c"
      },
      "source": [
        "# Loss, accuracy, MAE nad skupom za testiranje\n",
        "\n",
        "# (za model koji pri treniranju koristi validaciju\n",
        "# i za model koji pri treniranju ne koristi validaciju)\n",
        "\n",
        "test_metrics_val = model.evaluate(X_test, y_test)\n",
        "\n",
        "print('\\n\\nMetrike prilikom testiranja - model treniran sa validacijom\\n')\n",
        "print(model.metrics_names[0], test_metrics_val[0])\n",
        "print(model.metrics_names[1], test_metrics_val[1])\n",
        "print(model.metrics_names[2], test_metrics_val[2])"
      ],
      "execution_count": 48,
      "outputs": [
        {
          "output_type": "stream",
          "text": [
            "2/2 [==============================] - 1s 7ms/step - loss: 0.1197 - accuracy: 0.0000e+00 - mae: 0.3306\n",
            "\n",
            "\n",
            "Metrike prilikom testiranja - model treniran sa validacijom\n",
            "\n",
            "loss 0.11969908326864243\n",
            "accuracy 0.0\n",
            "mae 0.3305969834327698\n"
          ],
          "name": "stdout"
        }
      ]
    },
    {
      "cell_type": "code",
      "metadata": {
        "colab": {
          "base_uri": "https://localhost:8080/"
        },
        "id": "e84qmwHSdTl7",
        "outputId": "582165ad-53a7-4c97-a04f-3a416a9ba57a"
      },
      "source": [
        "# R2 skor nad skupom za testiranje\n",
        "\n",
        "from sklearn import metrics\n",
        "r2 = metrics.r2_score(predicted_real_price, y_test_reshaped)\n",
        "\n",
        "print('R2 skor prilikom testiranja - model treniran sa validacijom', r2)"
      ],
      "execution_count": 51,
      "outputs": [
        {
          "output_type": "stream",
          "text": [
            "R2 skor prilikom testiranja - model treniran sa validacijom -187.6392600948872\n"
          ],
          "name": "stdout"
        }
      ]
    },
    {
      "cell_type": "markdown",
      "metadata": {
        "id": "qcj_CuMtoZxO"
      },
      "source": [
        "### **Vizuelni prikaz rezultata drugog modela mreze**"
      ]
    },
    {
      "cell_type": "code",
      "metadata": {
        "colab": {
          "base_uri": "https://localhost:8080/",
          "height": 539
        },
        "id": "ncsxdtc0lsc4",
        "outputId": "2a5e3e13-9ab6-4cfe-a739-3c6622d70376"
      },
      "source": [
        "# Vizuelni prikaz rezultata drugog modela mreze\n",
        "\n",
        "plt.figure(figsize=(15,9), dpi=100, facecolor='w', edgecolor='k')\n",
        "ax_2 = plt.gca()\n",
        "\n",
        "plt.title('Vizuelni prikaz stvarne i predvidjene vrednosti BTC')\n",
        "plt.plot(y_test_reshaped, color = 'red', label = 'Stvarna vrednost BTC')\n",
        "plt.plot(predicted_real_price_2, color = 'green', label = 'Predvidjena vrednost BTC')\n",
        "\n",
        "test = test.reset_index()\n",
        "x = test.index\n",
        "\n",
        "plt.xticks(x, labels = test['Date'], rotation = 'vertical')\n",
        "plt.xlabel('Vremenski period')\n",
        "plt.ylabel('Cena BTC (USD)')\n",
        "plt.legend(loc='best')\n",
        "plt.show()"
      ],
      "execution_count": 52,
      "outputs": [
        {
          "output_type": "display_data",
          "data": {
            "image/png": "[encoded data removed]",
            "text/plain": [
              "<Figure size 1500x900 with 1 Axes>"
            ]
          },
          "metadata": {
            "tags": []
          }
        }
      ]
    },
    {
      "cell_type": "code",
      "metadata": {
        "colab": {
          "base_uri": "https://localhost:8080/",
          "height": 281
        },
        "id": "vDLe3IJIlsfJ",
        "outputId": "2aee13dd-b00d-4ff8-c6e8-da7c75a8a2bd"
      },
      "source": [
        "# Vizuelni prikaz gubitka (loss) tokom treniranja i validacije mreze\n",
        "\n",
        "plt.subplot(211)\n",
        "# plt.title('Gubitak (Loss)')\n",
        "epochs = range(len(history_2.history['loss']))\n",
        "plt.plot(epochs, history_2.history['loss'], label = 'Gubitak (loss) na trening skupu')\n",
        "plt.plot(epochs, history_2.history['val_loss'], label = 'Gubitak (val_loss) na validacionom skupu')\n",
        "plt.legend()\n",
        "\n",
        "plt.title('Vizuelni prikaz gubitka (loss) i tacnosti (accuracy) mreze')\n",
        "\n",
        "# Vizuelni prikaz tacnosti (accuracy) tokom treniranja i validacije mreze\n",
        "\n",
        "plt.subplot(212)\n",
        "# plt.title('Tacnost (Accuracy)')\n",
        "plt.plot(epochs, history_2.history['accuracy'], label = 'Tacnost (accuracy) na trening skupu')\n",
        "plt.plot(epochs, history_2.history['val_accuracy'], label = 'Tacnost (accuracy) na validacionom skupu')\n",
        "plt.legend()\n",
        "\n",
        "plt.show()"
      ],
      "execution_count": 53,
      "outputs": [
        {
          "output_type": "display_data",
          "data": {
            "image/png": "[encoded data removed]",
            "text/plain": [
              "<Figure size 432x288 with 2 Axes>"
            ]
          },
          "metadata": {
            "tags": [],
            "needs_background": "light"
          }
        }
      ]
    },
    {
      "cell_type": "code",
      "metadata": {
        "id": "vUk_A50ulsiX",
        "colab": {
          "base_uri": "https://localhost:8080/",
          "height": 295
        },
        "outputId": "4566efc9-1c9c-4476-d28e-25c81b725acf"
      },
      "source": [
        "# MAE - sa validacijom\n",
        "\n",
        "plot_mae(history_2)"
      ],
      "execution_count": 54,
      "outputs": [
        {
          "output_type": "display_data",
          "data": {
            "image/png": "[encoded data removed]",
            "text/plain": [
              "<Figure size 432x288 with 1 Axes>"
            ]
          },
          "metadata": {
            "tags": [],
            "needs_background": "light"
          }
        }
      ]
    },
    {
      "cell_type": "code",
      "metadata": {
        "colab": {
          "base_uri": "https://localhost:8080/"
        },
        "id": "fHexSci6hPVf",
        "outputId": "8995f528-6761-4221-f0d1-04eb353d9b2a"
      },
      "source": [
        "# Loss, accuracy, MAE nad skupom za testiranje\n",
        "\n",
        "# (za model koji pri treniranju koristi validaciju\n",
        "# i za model koji pri treniranju ne koristi validaciju)\n",
        "\n",
        "test_metrics_val_2 = model_2.evaluate(X_test, y_test)\n",
        "\n",
        "print('\\n\\nMetrike prilikom testiranja - model treniran sa validacijom\\n')\n",
        "print(model_2.metrics_names[0], test_metrics_val_2[0])\n",
        "print(model_2.metrics_names[1], test_metrics_val_2[1])\n",
        "print(model_2.metrics_names[2], test_metrics_val_2[2])"
      ],
      "execution_count": 55,
      "outputs": [
        {
          "output_type": "stream",
          "text": [
            "2/2 [==============================] - 2s 9ms/step - loss: 3.2652 - accuracy: 0.0000e+00 - mae: 1.6831\n",
            "\n",
            "\n",
            "Metrike prilikom testiranja - model treniran sa validacijom\n",
            "\n",
            "loss 3.2651803493499756\n",
            "accuracy 0.0\n",
            "mae 1.683052659034729\n"
          ],
          "name": "stdout"
        }
      ]
    },
    {
      "cell_type": "code",
      "metadata": {
        "colab": {
          "base_uri": "https://localhost:8080/"
        },
        "id": "qihsTpLEhPYO",
        "outputId": "ac175726-e32e-4bd3-f08d-bea17991fd22"
      },
      "source": [
        "# R2 skor nad skupom za testiranje\n",
        "\n",
        "r2_2 = metrics.r2_score(predicted_real_price_2, y_test_reshaped)\n",
        "\n",
        "print('R2 skor prilikom testiranja - model treniran sa validacijom', r2)"
      ],
      "execution_count": 57,
      "outputs": [
        {
          "output_type": "stream",
          "text": [
            "R2 skor prilikom testiranja - model treniran sa validacijom -187.6392600948872\n"
          ],
          "name": "stdout"
        }
      ]
    },
    {
      "cell_type": "code",
      "metadata": {
        "id": "_FcoAES7hPaZ"
      },
      "source": [
        ""
      ],
      "execution_count": 57,
      "outputs": []
    }
  ]
}