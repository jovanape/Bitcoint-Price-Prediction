{
  "nbformat": 4,
  "nbformat_minor": 0,
  "metadata": {
    "colab": {
      "name": "lstm.ipynb",
      "provenance": [],
      "collapsed_sections": [],
      "authorship_tag": "ABX9TyNAvsNFm4eDak+Eq7qFYHmu",
      "include_colab_link": true
    },
    "kernelspec": {
      "name": "python3",
      "display_name": "Python 3"
    },
    "language_info": {
      "name": "python"
    }
  },
  "cells": [
    {
      "cell_type": "markdown",
      "metadata": {
        "id": "view-in-github",
        "colab_type": "text"
      },
      "source": [
        "<a href=\"https://colab.research.google.com/github/jovanape/Bitcoint-Price-Prediction/blob/main/lstm.ipynb\" target=\"_parent\"><img src=\"https://colab.research.google.com/assets/colab-badge.svg\" alt=\"Open In Colab\"/></a>"
      ]
    },
    {
      "cell_type": "code",
      "metadata": {
        "id": "15RqVMEtCsQg"
      },
      "source": [
        "# Ucitavanje biblioteka\n",
        "import numpy as np \n",
        "import pandas as pd \n",
        "from matplotlib import pyplot as plt\n",
        "from sklearn.preprocessing import MinMaxScaler\n",
        "from keras.models import Sequential\n",
        "from keras.layers import Dense\n",
        "from keras.layers import LSTM"
      ],
      "execution_count": 165,
      "outputs": []
    },
    {
      "cell_type": "code",
      "metadata": {
        "colab": {
          "base_uri": "https://localhost:8080/",
          "height": 435
        },
        "id": "VWESzQJZDR7m",
        "outputId": "b622f555-2fd0-4b5b-f446-ae98119ec929"
      },
      "source": [
        "# Ucitavanje skupa podataka\n",
        "data = pd.read_csv('bitstampUSD_1-min_data_2012-01-01_to_2021-03-31.csv')\n",
        "data"
      ],
      "execution_count": 166,
      "outputs": [
        {
          "output_type": "execute_result",
          "data": {
            "text/html": [
              "<div>\n",
              "<style scoped>\n",
              "    .dataframe tbody tr th:only-of-type {\n",
              "        vertical-align: middle;\n",
              "    }\n",
              "\n",
              "    .dataframe tbody tr th {\n",
              "        vertical-align: top;\n",
              "    }\n",
              "\n",
              "    .dataframe thead th {\n",
              "        text-align: right;\n",
              "    }\n",
              "</style>\n",
              "<table border=\"1\" class=\"dataframe\">\n",
              "  <thead>\n",
              "    <tr style=\"text-align: right;\">\n",
              "      <th></th>\n",
              "      <th>Timestamp</th>\n",
              "      <th>Open</th>\n",
              "      <th>High</th>\n",
              "      <th>Low</th>\n",
              "      <th>Close</th>\n",
              "      <th>Volume_(BTC)</th>\n",
              "      <th>Volume_(Currency)</th>\n",
              "      <th>Weighted_Price</th>\n",
              "    </tr>\n",
              "  </thead>\n",
              "  <tbody>\n",
              "    <tr>\n",
              "      <th>0</th>\n",
              "      <td>1325317920</td>\n",
              "      <td>4.39</td>\n",
              "      <td>4.39</td>\n",
              "      <td>4.39</td>\n",
              "      <td>4.39</td>\n",
              "      <td>0.455581</td>\n",
              "      <td>2.000000</td>\n",
              "      <td>4.390000</td>\n",
              "    </tr>\n",
              "    <tr>\n",
              "      <th>1</th>\n",
              "      <td>1325317980</td>\n",
              "      <td>NaN</td>\n",
              "      <td>NaN</td>\n",
              "      <td>NaN</td>\n",
              "      <td>NaN</td>\n",
              "      <td>NaN</td>\n",
              "      <td>NaN</td>\n",
              "      <td>NaN</td>\n",
              "    </tr>\n",
              "    <tr>\n",
              "      <th>2</th>\n",
              "      <td>1325318040</td>\n",
              "      <td>NaN</td>\n",
              "      <td>NaN</td>\n",
              "      <td>NaN</td>\n",
              "      <td>NaN</td>\n",
              "      <td>NaN</td>\n",
              "      <td>NaN</td>\n",
              "      <td>NaN</td>\n",
              "    </tr>\n",
              "    <tr>\n",
              "      <th>3</th>\n",
              "      <td>1325318100</td>\n",
              "      <td>NaN</td>\n",
              "      <td>NaN</td>\n",
              "      <td>NaN</td>\n",
              "      <td>NaN</td>\n",
              "      <td>NaN</td>\n",
              "      <td>NaN</td>\n",
              "      <td>NaN</td>\n",
              "    </tr>\n",
              "    <tr>\n",
              "      <th>4</th>\n",
              "      <td>1325318160</td>\n",
              "      <td>NaN</td>\n",
              "      <td>NaN</td>\n",
              "      <td>NaN</td>\n",
              "      <td>NaN</td>\n",
              "      <td>NaN</td>\n",
              "      <td>NaN</td>\n",
              "      <td>NaN</td>\n",
              "    </tr>\n",
              "    <tr>\n",
              "      <th>...</th>\n",
              "      <td>...</td>\n",
              "      <td>...</td>\n",
              "      <td>...</td>\n",
              "      <td>...</td>\n",
              "      <td>...</td>\n",
              "      <td>...</td>\n",
              "      <td>...</td>\n",
              "      <td>...</td>\n",
              "    </tr>\n",
              "    <tr>\n",
              "      <th>4857372</th>\n",
              "      <td>1617148560</td>\n",
              "      <td>58714.31</td>\n",
              "      <td>58714.31</td>\n",
              "      <td>58686.00</td>\n",
              "      <td>58686.00</td>\n",
              "      <td>1.384487</td>\n",
              "      <td>81259.372187</td>\n",
              "      <td>58692.753339</td>\n",
              "    </tr>\n",
              "    <tr>\n",
              "      <th>4857373</th>\n",
              "      <td>1617148620</td>\n",
              "      <td>58683.97</td>\n",
              "      <td>58693.43</td>\n",
              "      <td>58683.97</td>\n",
              "      <td>58685.81</td>\n",
              "      <td>7.294848</td>\n",
              "      <td>428158.146640</td>\n",
              "      <td>58693.226508</td>\n",
              "    </tr>\n",
              "    <tr>\n",
              "      <th>4857374</th>\n",
              "      <td>1617148680</td>\n",
              "      <td>58693.43</td>\n",
              "      <td>58723.84</td>\n",
              "      <td>58693.43</td>\n",
              "      <td>58723.84</td>\n",
              "      <td>1.705682</td>\n",
              "      <td>100117.070370</td>\n",
              "      <td>58696.198496</td>\n",
              "    </tr>\n",
              "    <tr>\n",
              "      <th>4857375</th>\n",
              "      <td>1617148740</td>\n",
              "      <td>58742.18</td>\n",
              "      <td>58770.38</td>\n",
              "      <td>58742.18</td>\n",
              "      <td>58760.59</td>\n",
              "      <td>0.720415</td>\n",
              "      <td>42332.958633</td>\n",
              "      <td>58761.866202</td>\n",
              "    </tr>\n",
              "    <tr>\n",
              "      <th>4857376</th>\n",
              "      <td>1617148800</td>\n",
              "      <td>58767.75</td>\n",
              "      <td>58778.18</td>\n",
              "      <td>58755.97</td>\n",
              "      <td>58778.18</td>\n",
              "      <td>2.712831</td>\n",
              "      <td>159417.751000</td>\n",
              "      <td>58764.349363</td>\n",
              "    </tr>\n",
              "  </tbody>\n",
              "</table>\n",
              "<p>4857377 rows × 8 columns</p>\n",
              "</div>"
            ],
            "text/plain": [
              "          Timestamp      Open  ...  Volume_(Currency)  Weighted_Price\n",
              "0        1325317920      4.39  ...           2.000000        4.390000\n",
              "1        1325317980       NaN  ...                NaN             NaN\n",
              "2        1325318040       NaN  ...                NaN             NaN\n",
              "3        1325318100       NaN  ...                NaN             NaN\n",
              "4        1325318160       NaN  ...                NaN             NaN\n",
              "...             ...       ...  ...                ...             ...\n",
              "4857372  1617148560  58714.31  ...       81259.372187    58692.753339\n",
              "4857373  1617148620  58683.97  ...      428158.146640    58693.226508\n",
              "4857374  1617148680  58693.43  ...      100117.070370    58696.198496\n",
              "4857375  1617148740  58742.18  ...       42332.958633    58761.866202\n",
              "4857376  1617148800  58767.75  ...      159417.751000    58764.349363\n",
              "\n",
              "[4857377 rows x 8 columns]"
            ]
          },
          "metadata": {
            "tags": []
          },
          "execution_count": 166
        }
      ]
    },
    {
      "cell_type": "code",
      "metadata": {
        "colab": {
          "base_uri": "https://localhost:8080/",
          "height": 141
        },
        "id": "neNfZC0W2mMx",
        "outputId": "ae2a22c7-8c45-437f-e077-1ad379099e9a"
      },
      "source": [
        "# Izracunavanje datuma\n",
        "# Kako je Timestamp broj sekundi izmedju\n",
        "# odredjenog datuma i 1. januara 1970 (UTC),\n",
        "# u naredom kodu je Timestamp preveden u datum\n",
        "\n",
        "data['Date'] = pd.to_datetime(data['Timestamp'], unit='s').dt.date # samo datum (bez vremena)\n",
        "data.head(3)"
      ],
      "execution_count": 167,
      "outputs": [
        {
          "output_type": "execute_result",
          "data": {
            "text/html": [
              "<div>\n",
              "<style scoped>\n",
              "    .dataframe tbody tr th:only-of-type {\n",
              "        vertical-align: middle;\n",
              "    }\n",
              "\n",
              "    .dataframe tbody tr th {\n",
              "        vertical-align: top;\n",
              "    }\n",
              "\n",
              "    .dataframe thead th {\n",
              "        text-align: right;\n",
              "    }\n",
              "</style>\n",
              "<table border=\"1\" class=\"dataframe\">\n",
              "  <thead>\n",
              "    <tr style=\"text-align: right;\">\n",
              "      <th></th>\n",
              "      <th>Timestamp</th>\n",
              "      <th>Open</th>\n",
              "      <th>High</th>\n",
              "      <th>Low</th>\n",
              "      <th>Close</th>\n",
              "      <th>Volume_(BTC)</th>\n",
              "      <th>Volume_(Currency)</th>\n",
              "      <th>Weighted_Price</th>\n",
              "      <th>Date</th>\n",
              "    </tr>\n",
              "  </thead>\n",
              "  <tbody>\n",
              "    <tr>\n",
              "      <th>0</th>\n",
              "      <td>1325317920</td>\n",
              "      <td>4.39</td>\n",
              "      <td>4.39</td>\n",
              "      <td>4.39</td>\n",
              "      <td>4.39</td>\n",
              "      <td>0.455581</td>\n",
              "      <td>2.0</td>\n",
              "      <td>4.39</td>\n",
              "      <td>2011-12-31</td>\n",
              "    </tr>\n",
              "    <tr>\n",
              "      <th>1</th>\n",
              "      <td>1325317980</td>\n",
              "      <td>NaN</td>\n",
              "      <td>NaN</td>\n",
              "      <td>NaN</td>\n",
              "      <td>NaN</td>\n",
              "      <td>NaN</td>\n",
              "      <td>NaN</td>\n",
              "      <td>NaN</td>\n",
              "      <td>2011-12-31</td>\n",
              "    </tr>\n",
              "    <tr>\n",
              "      <th>2</th>\n",
              "      <td>1325318040</td>\n",
              "      <td>NaN</td>\n",
              "      <td>NaN</td>\n",
              "      <td>NaN</td>\n",
              "      <td>NaN</td>\n",
              "      <td>NaN</td>\n",
              "      <td>NaN</td>\n",
              "      <td>NaN</td>\n",
              "      <td>2011-12-31</td>\n",
              "    </tr>\n",
              "  </tbody>\n",
              "</table>\n",
              "</div>"
            ],
            "text/plain": [
              "    Timestamp  Open  High  ...  Volume_(Currency)  Weighted_Price        Date\n",
              "0  1325317920  4.39  4.39  ...                2.0            4.39  2011-12-31\n",
              "1  1325317980   NaN   NaN  ...                NaN             NaN  2011-12-31\n",
              "2  1325318040   NaN   NaN  ...                NaN             NaN  2011-12-31\n",
              "\n",
              "[3 rows x 9 columns]"
            ]
          },
          "metadata": {
            "tags": []
          },
          "execution_count": 167
        }
      ]
    },
    {
      "cell_type": "markdown",
      "metadata": {
        "id": "AnUuMmcjXE9l"
      },
      "source": [
        "Vise istih datuma - u nastavku ce biti izracunata srednja vrednost cene za svaki datum"
      ]
    },
    {
      "cell_type": "code",
      "metadata": {
        "colab": {
          "base_uri": "https://localhost:8080/"
        },
        "id": "OFjYdbfBDaXo",
        "outputId": "810f2342-4905-42a0-92aa-ed8f34b4ca15"
      },
      "source": [
        "group = data.groupby('Date')\n",
        "group"
      ],
      "execution_count": 168,
      "outputs": [
        {
          "output_type": "execute_result",
          "data": {
            "text/plain": [
              "<pandas.core.groupby.generic.DataFrameGroupBy object at 0x7f7b4244b710>"
            ]
          },
          "metadata": {
            "tags": []
          },
          "execution_count": 168
        }
      ]
    },
    {
      "cell_type": "code",
      "metadata": {
        "colab": {
          "base_uri": "https://localhost:8080/"
        },
        "id": "l2LpugCd2AGw",
        "outputId": "f5b2e386-ff92-41e1-ca7b-8930eb9c5f70"
      },
      "source": [
        "mean_price = group['Weighted_Price'].mean()\n",
        "mean_price"
      ],
      "execution_count": 169,
      "outputs": [
        {
          "output_type": "execute_result",
          "data": {
            "text/plain": [
              "Date\n",
              "2011-12-31        4.471603\n",
              "2012-01-01        4.806667\n",
              "2012-01-02        5.000000\n",
              "2012-01-03        5.252500\n",
              "2012-01-04        5.208159\n",
              "                  ...     \n",
              "2021-03-27    55193.357260\n",
              "2021-03-28    55832.958824\n",
              "2021-03-29    56913.993819\n",
              "2021-03-30    58346.912268\n",
              "2021-03-31    58764.349363\n",
              "Name: Weighted_Price, Length: 3376, dtype: float64"
            ]
          },
          "metadata": {
            "tags": []
          },
          "execution_count": 169
        }
      ]
    },
    {
      "cell_type": "code",
      "metadata": {
        "id": "San0g6k11YuN"
      },
      "source": [
        "# Podela podataka na trening i test\n",
        "# mean_price - cena po danima, u nastavku to obradjujemo\n",
        "\n",
        "prediction_days = 30\n",
        "\n",
        "train= mean_price[:len(mean_price)-prediction_days]\n",
        "test= mean_price[len(mean_price)-prediction_days:]\n",
        "# dataset_test"
      ],
      "execution_count": 170,
      "outputs": []
    },
    {
      "cell_type": "code",
      "metadata": {
        "colab": {
          "base_uri": "https://localhost:8080/"
        },
        "id": "0-pRvMN1as4A",
        "outputId": "19b22324-9875-4af8-ca22-b692e22af071"
      },
      "source": [
        "train.head(3)"
      ],
      "execution_count": 171,
      "outputs": [
        {
          "output_type": "execute_result",
          "data": {
            "text/plain": [
              "Date\n",
              "2011-12-31    4.471603\n",
              "2012-01-01    4.806667\n",
              "2012-01-02    5.000000\n",
              "Name: Weighted_Price, dtype: float64"
            ]
          },
          "metadata": {
            "tags": []
          },
          "execution_count": 171
        }
      ]
    },
    {
      "cell_type": "code",
      "metadata": {
        "colab": {
          "base_uri": "https://localhost:8080/"
        },
        "id": "nAzeoVs3cv8Q",
        "outputId": "6a56940c-c872-4ad7-92c1-529328aaa9f9"
      },
      "source": [
        "train.values"
      ],
      "execution_count": 172,
      "outputs": [
        {
          "output_type": "execute_result",
          "data": {
            "text/plain": [
              "array([4.47160287e+00, 4.80666667e+00, 5.00000000e+00, ...,\n",
              "       4.71302081e+04, 4.48184476e+04, 4.76415369e+04])"
            ]
          },
          "metadata": {
            "tags": []
          },
          "execution_count": 172
        }
      ]
    },
    {
      "cell_type": "markdown",
      "metadata": {
        "id": "qNoyNrtwd0mR"
      },
      "source": [
        "Pretprocesiranje podataka"
      ]
    },
    {
      "cell_type": "code",
      "metadata": {
        "colab": {
          "base_uri": "https://localhost:8080/"
        },
        "id": "_4DSPKkCc22G",
        "outputId": "fe3bbaac-b199-419f-fd5a-39f27d4faae0"
      },
      "source": [
        "training_set = train.values\n",
        "training_set"
      ],
      "execution_count": 173,
      "outputs": [
        {
          "output_type": "execute_result",
          "data": {
            "text/plain": [
              "array([4.47160287e+00, 4.80666667e+00, 5.00000000e+00, ...,\n",
              "       4.71302081e+04, 4.48184476e+04, 4.76415369e+04])"
            ]
          },
          "metadata": {
            "tags": []
          },
          "execution_count": 173
        }
      ]
    },
    {
      "cell_type": "code",
      "metadata": {
        "colab": {
          "base_uri": "https://localhost:8080/"
        },
        "id": "dyohP6TPc3Xq",
        "outputId": "543ef189-2821-4428-ef0e-4737fd8b97b6"
      },
      "source": [
        "training_set = np.reshape(training_set, (len(training_set), 1))\n",
        "training_set"
      ],
      "execution_count": 174,
      "outputs": [
        {
          "output_type": "execute_result",
          "data": {
            "text/plain": [
              "array([[4.47160287e+00],\n",
              "       [4.80666667e+00],\n",
              "       [5.00000000e+00],\n",
              "       ...,\n",
              "       [4.71302081e+04],\n",
              "       [4.48184476e+04],\n",
              "       [4.76415369e+04]])"
            ]
          },
          "metadata": {
            "tags": []
          },
          "execution_count": 174
        }
      ]
    },
    {
      "cell_type": "code",
      "metadata": {
        "id": "PLtuLetM1Zim",
        "colab": {
          "base_uri": "https://localhost:8080/"
        },
        "outputId": "eee3d5ec-2b5e-4631-98db-9b752e9159ee"
      },
      "source": [
        "# Skaliranje podataka\n",
        "\n",
        "scaler = MinMaxScaler()\n",
        "training_set = scaler.fit_transform(training_set)\n",
        "\n",
        "X_train = training_set[0:len(training_set)-1]\n",
        "y_train = training_set[1:len(training_set)]\n",
        "X_train"
      ],
      "execution_count": 175,
      "outputs": [
        {
          "output_type": "execute_result",
          "data": {
            "text/plain": [
              "array([[2.45345037e-06],\n",
              "       [8.32800133e-06],\n",
              "       [1.17176440e-05],\n",
              "       ...,\n",
              "       [8.17925242e-01],\n",
              "       [8.26240760e-01],\n",
              "       [7.85709509e-01]])"
            ]
          },
          "metadata": {
            "tags": []
          },
          "execution_count": 175
        }
      ]
    },
    {
      "cell_type": "code",
      "metadata": {
        "colab": {
          "base_uri": "https://localhost:8080/"
        },
        "id": "vfyOEJLmeMbQ",
        "outputId": "050a226c-e1a2-4a08-9169-dbc583e11a3a"
      },
      "source": [
        "X_train = np.reshape(X_train, (len(X_train), 1, 1))\n",
        "X_train"
      ],
      "execution_count": 176,
      "outputs": [
        {
          "output_type": "execute_result",
          "data": {
            "text/plain": [
              "array([[[2.45345037e-06]],\n",
              "\n",
              "       [[8.32800133e-06]],\n",
              "\n",
              "       [[1.17176440e-05]],\n",
              "\n",
              "       ...,\n",
              "\n",
              "       [[8.17925242e-01]],\n",
              "\n",
              "       [[8.26240760e-01]],\n",
              "\n",
              "       [[7.85709509e-01]]])"
            ]
          },
          "metadata": {
            "tags": []
          },
          "execution_count": 176
        }
      ]
    },
    {
      "cell_type": "code",
      "metadata": {
        "id": "OJJ1HReH10jI",
        "colab": {
          "base_uri": "https://localhost:8080/"
        },
        "outputId": "0e186d41-14de-41a0-db82-95193f601865"
      },
      "source": [
        "# Inicijalizacija RNN\n",
        "model = Sequential()\n",
        "\n",
        "# Dodavanje input i LSTM sloja\n",
        "model.add(LSTM(units = 4, activation = 'sigmoid', input_shape = (None, 1)))\n",
        "\n",
        "# Dodavanje izlaznog sloja\n",
        "model.add(Dense(units = 1))\n",
        "\n",
        "# Kompilacija RNN\n",
        "model.compile(optimizer = 'adam', loss = 'mean_squared_error', metrics=['accuracy'])\n",
        "\n",
        "# Treniranje RNN na trening skupu\n",
        "history = model.fit(X_train, y_train, batch_size = 1, epochs = 100, verbose = 2)"
      ],
      "execution_count": 177,
      "outputs": [
        {
          "output_type": "stream",
          "text": [
            "Epoch 1/100\n",
            "3345/3345 - 5s - loss: 0.0129 - accuracy: 2.9895e-04\n",
            "Epoch 2/100\n",
            "3345/3345 - 3s - loss: 0.0055 - accuracy: 5.9791e-04\n",
            "Epoch 3/100\n",
            "3345/3345 - 3s - loss: 8.6450e-04 - accuracy: 5.9791e-04\n",
            "Epoch 4/100\n",
            "3345/3345 - 3s - loss: 5.1673e-05 - accuracy: 5.9791e-04\n",
            "Epoch 5/100\n",
            "3345/3345 - 3s - loss: 4.9497e-05 - accuracy: 5.9791e-04\n",
            "Epoch 6/100\n",
            "3345/3345 - 3s - loss: 4.6597e-05 - accuracy: 5.9791e-04\n",
            "Epoch 7/100\n",
            "3345/3345 - 3s - loss: 4.5316e-05 - accuracy: 5.9791e-04\n",
            "Epoch 8/100\n",
            "3345/3345 - 3s - loss: 4.6852e-05 - accuracy: 5.9791e-04\n",
            "Epoch 9/100\n",
            "3345/3345 - 3s - loss: 4.4093e-05 - accuracy: 5.9791e-04\n",
            "Epoch 10/100\n",
            "3345/3345 - 3s - loss: 4.4693e-05 - accuracy: 5.9791e-04\n",
            "Epoch 11/100\n",
            "3345/3345 - 3s - loss: 4.5521e-05 - accuracy: 5.9791e-04\n",
            "Epoch 12/100\n",
            "3345/3345 - 3s - loss: 4.3294e-05 - accuracy: 5.9791e-04\n",
            "Epoch 13/100\n",
            "3345/3345 - 3s - loss: 4.4752e-05 - accuracy: 5.9791e-04\n",
            "Epoch 14/100\n",
            "3345/3345 - 3s - loss: 4.4004e-05 - accuracy: 5.9791e-04\n",
            "Epoch 15/100\n",
            "3345/3345 - 3s - loss: 4.4919e-05 - accuracy: 5.9791e-04\n",
            "Epoch 16/100\n",
            "3345/3345 - 3s - loss: 4.4190e-05 - accuracy: 5.9791e-04\n",
            "Epoch 17/100\n",
            "3345/3345 - 3s - loss: 4.4591e-05 - accuracy: 5.9791e-04\n",
            "Epoch 18/100\n",
            "3345/3345 - 3s - loss: 4.6006e-05 - accuracy: 5.9791e-04\n",
            "Epoch 19/100\n",
            "3345/3345 - 3s - loss: 4.5821e-05 - accuracy: 5.9791e-04\n",
            "Epoch 20/100\n",
            "3345/3345 - 3s - loss: 4.3705e-05 - accuracy: 5.9791e-04\n",
            "Epoch 21/100\n",
            "3345/3345 - 3s - loss: 4.6671e-05 - accuracy: 5.9791e-04\n",
            "Epoch 22/100\n",
            "3345/3345 - 3s - loss: 4.3847e-05 - accuracy: 5.9791e-04\n",
            "Epoch 23/100\n",
            "3345/3345 - 3s - loss: 4.2856e-05 - accuracy: 5.9791e-04\n",
            "Epoch 24/100\n",
            "3345/3345 - 3s - loss: 4.3767e-05 - accuracy: 5.9791e-04\n",
            "Epoch 25/100\n",
            "3345/3345 - 3s - loss: 4.4051e-05 - accuracy: 5.9791e-04\n",
            "Epoch 26/100\n",
            "3345/3345 - 3s - loss: 4.6172e-05 - accuracy: 5.9791e-04\n",
            "Epoch 27/100\n",
            "3345/3345 - 3s - loss: 4.4825e-05 - accuracy: 5.9791e-04\n",
            "Epoch 28/100\n",
            "3345/3345 - 3s - loss: 4.4579e-05 - accuracy: 5.9791e-04\n",
            "Epoch 29/100\n",
            "3345/3345 - 3s - loss: 4.5223e-05 - accuracy: 5.9791e-04\n",
            "Epoch 30/100\n",
            "3345/3345 - 3s - loss: 4.4841e-05 - accuracy: 5.9791e-04\n",
            "Epoch 31/100\n",
            "3345/3345 - 3s - loss: 4.4361e-05 - accuracy: 5.9791e-04\n",
            "Epoch 32/100\n",
            "3345/3345 - 3s - loss: 4.4946e-05 - accuracy: 5.9791e-04\n",
            "Epoch 33/100\n",
            "3345/3345 - 3s - loss: 4.4525e-05 - accuracy: 5.9791e-04\n",
            "Epoch 34/100\n",
            "3345/3345 - 3s - loss: 4.3302e-05 - accuracy: 5.9791e-04\n",
            "Epoch 35/100\n",
            "3345/3345 - 3s - loss: 4.5108e-05 - accuracy: 5.9791e-04\n",
            "Epoch 36/100\n",
            "3345/3345 - 3s - loss: 4.6168e-05 - accuracy: 5.9791e-04\n",
            "Epoch 37/100\n",
            "3345/3345 - 3s - loss: 4.5929e-05 - accuracy: 5.9791e-04\n",
            "Epoch 38/100\n",
            "3345/3345 - 3s - loss: 4.5409e-05 - accuracy: 5.9791e-04\n",
            "Epoch 39/100\n",
            "3345/3345 - 3s - loss: 4.3097e-05 - accuracy: 5.9791e-04\n",
            "Epoch 40/100\n",
            "3345/3345 - 3s - loss: 4.5731e-05 - accuracy: 5.9791e-04\n",
            "Epoch 41/100\n",
            "3345/3345 - 3s - loss: 4.3092e-05 - accuracy: 5.9791e-04\n",
            "Epoch 42/100\n",
            "3345/3345 - 3s - loss: 4.6191e-05 - accuracy: 5.9791e-04\n",
            "Epoch 43/100\n",
            "3345/3345 - 3s - loss: 4.5843e-05 - accuracy: 5.9791e-04\n",
            "Epoch 44/100\n",
            "3345/3345 - 3s - loss: 4.4527e-05 - accuracy: 5.9791e-04\n",
            "Epoch 45/100\n",
            "3345/3345 - 3s - loss: 4.5562e-05 - accuracy: 5.9791e-04\n",
            "Epoch 46/100\n",
            "3345/3345 - 3s - loss: 4.5471e-05 - accuracy: 5.9791e-04\n",
            "Epoch 47/100\n",
            "3345/3345 - 3s - loss: 4.6473e-05 - accuracy: 5.9791e-04\n",
            "Epoch 48/100\n",
            "3345/3345 - 3s - loss: 4.6015e-05 - accuracy: 5.9791e-04\n",
            "Epoch 49/100\n",
            "3345/3345 - 3s - loss: 4.5752e-05 - accuracy: 5.9791e-04\n",
            "Epoch 50/100\n",
            "3345/3345 - 3s - loss: 4.3032e-05 - accuracy: 5.9791e-04\n",
            "Epoch 51/100\n",
            "3345/3345 - 3s - loss: 4.4471e-05 - accuracy: 5.9791e-04\n",
            "Epoch 52/100\n",
            "3345/3345 - 3s - loss: 4.3505e-05 - accuracy: 5.9791e-04\n",
            "Epoch 53/100\n",
            "3345/3345 - 3s - loss: 4.4171e-05 - accuracy: 5.9791e-04\n",
            "Epoch 54/100\n",
            "3345/3345 - 3s - loss: 4.5625e-05 - accuracy: 5.9791e-04\n",
            "Epoch 55/100\n",
            "3345/3345 - 3s - loss: 4.4536e-05 - accuracy: 5.9791e-04\n",
            "Epoch 56/100\n",
            "3345/3345 - 3s - loss: 4.4203e-05 - accuracy: 5.9791e-04\n",
            "Epoch 57/100\n",
            "3345/3345 - 3s - loss: 4.3522e-05 - accuracy: 5.9791e-04\n",
            "Epoch 58/100\n",
            "3345/3345 - 3s - loss: 4.4296e-05 - accuracy: 5.9791e-04\n",
            "Epoch 59/100\n",
            "3345/3345 - 3s - loss: 4.4421e-05 - accuracy: 5.9791e-04\n",
            "Epoch 60/100\n",
            "3345/3345 - 3s - loss: 4.3770e-05 - accuracy: 5.9791e-04\n",
            "Epoch 61/100\n",
            "3345/3345 - 3s - loss: 4.6500e-05 - accuracy: 5.9791e-04\n",
            "Epoch 62/100\n",
            "3345/3345 - 3s - loss: 4.3100e-05 - accuracy: 5.9791e-04\n",
            "Epoch 63/100\n",
            "3345/3345 - 3s - loss: 4.4954e-05 - accuracy: 5.9791e-04\n",
            "Epoch 64/100\n",
            "3345/3345 - 3s - loss: 4.4498e-05 - accuracy: 5.9791e-04\n",
            "Epoch 65/100\n",
            "3345/3345 - 3s - loss: 4.5199e-05 - accuracy: 5.9791e-04\n",
            "Epoch 66/100\n",
            "3345/3345 - 3s - loss: 4.4019e-05 - accuracy: 5.9791e-04\n",
            "Epoch 67/100\n",
            "3345/3345 - 3s - loss: 4.4420e-05 - accuracy: 5.9791e-04\n",
            "Epoch 68/100\n",
            "3345/3345 - 3s - loss: 4.3680e-05 - accuracy: 5.9791e-04\n",
            "Epoch 69/100\n",
            "3345/3345 - 3s - loss: 4.3609e-05 - accuracy: 5.9791e-04\n",
            "Epoch 70/100\n",
            "3345/3345 - 3s - loss: 4.3955e-05 - accuracy: 5.9791e-04\n",
            "Epoch 71/100\n",
            "3345/3345 - 3s - loss: 4.3944e-05 - accuracy: 5.9791e-04\n",
            "Epoch 72/100\n",
            "3345/3345 - 3s - loss: 4.4237e-05 - accuracy: 5.9791e-04\n",
            "Epoch 73/100\n",
            "3345/3345 - 3s - loss: 4.3883e-05 - accuracy: 5.9791e-04\n",
            "Epoch 74/100\n",
            "3345/3345 - 3s - loss: 4.4390e-05 - accuracy: 5.9791e-04\n",
            "Epoch 75/100\n",
            "3345/3345 - 3s - loss: 4.3722e-05 - accuracy: 5.9791e-04\n",
            "Epoch 76/100\n",
            "3345/3345 - 3s - loss: 4.5609e-05 - accuracy: 5.9791e-04\n",
            "Epoch 77/100\n",
            "3345/3345 - 3s - loss: 4.2006e-05 - accuracy: 5.9791e-04\n",
            "Epoch 78/100\n",
            "3345/3345 - 3s - loss: 4.4884e-05 - accuracy: 5.9791e-04\n",
            "Epoch 79/100\n",
            "3345/3345 - 3s - loss: 4.6137e-05 - accuracy: 5.9791e-04\n",
            "Epoch 80/100\n",
            "3345/3345 - 3s - loss: 4.4513e-05 - accuracy: 5.9791e-04\n",
            "Epoch 81/100\n",
            "3345/3345 - 3s - loss: 4.3261e-05 - accuracy: 5.9791e-04\n",
            "Epoch 82/100\n",
            "3345/3345 - 3s - loss: 4.3691e-05 - accuracy: 5.9791e-04\n",
            "Epoch 83/100\n",
            "3345/3345 - 3s - loss: 4.3655e-05 - accuracy: 5.9791e-04\n",
            "Epoch 84/100\n",
            "3345/3345 - 3s - loss: 4.3937e-05 - accuracy: 5.9791e-04\n",
            "Epoch 85/100\n",
            "3345/3345 - 3s - loss: 4.1536e-05 - accuracy: 5.9791e-04\n",
            "Epoch 86/100\n",
            "3345/3345 - 3s - loss: 4.2732e-05 - accuracy: 5.9791e-04\n",
            "Epoch 87/100\n",
            "3345/3345 - 3s - loss: 4.5656e-05 - accuracy: 5.9791e-04\n",
            "Epoch 88/100\n",
            "3345/3345 - 3s - loss: 4.3536e-05 - accuracy: 5.9791e-04\n",
            "Epoch 89/100\n",
            "3345/3345 - 3s - loss: 4.4448e-05 - accuracy: 5.9791e-04\n",
            "Epoch 90/100\n",
            "3345/3345 - 3s - loss: 4.4468e-05 - accuracy: 5.9791e-04\n",
            "Epoch 91/100\n",
            "3345/3345 - 3s - loss: 4.5465e-05 - accuracy: 5.9791e-04\n",
            "Epoch 92/100\n",
            "3345/3345 - 3s - loss: 4.4232e-05 - accuracy: 5.9791e-04\n",
            "Epoch 93/100\n",
            "3345/3345 - 3s - loss: 4.3784e-05 - accuracy: 5.9791e-04\n",
            "Epoch 94/100\n",
            "3345/3345 - 3s - loss: 4.5461e-05 - accuracy: 5.9791e-04\n",
            "Epoch 95/100\n",
            "3345/3345 - 3s - loss: 4.4040e-05 - accuracy: 5.9791e-04\n",
            "Epoch 96/100\n",
            "3345/3345 - 3s - loss: 4.4320e-05 - accuracy: 5.9791e-04\n",
            "Epoch 97/100\n",
            "3345/3345 - 3s - loss: 4.1820e-05 - accuracy: 5.9791e-04\n",
            "Epoch 98/100\n",
            "3345/3345 - 3s - loss: 4.4789e-05 - accuracy: 5.9791e-04\n",
            "Epoch 99/100\n",
            "3345/3345 - 3s - loss: 4.3733e-05 - accuracy: 5.9791e-04\n",
            "Epoch 100/100\n",
            "3345/3345 - 3s - loss: 4.4455e-05 - accuracy: 5.9791e-04\n"
          ],
          "name": "stdout"
        }
      ]
    },
    {
      "cell_type": "code",
      "metadata": {
        "id": "HQur59lt0xwB"
      },
      "source": [
        ""
      ],
      "execution_count": 177,
      "outputs": []
    },
    {
      "cell_type": "code",
      "metadata": {
        "colab": {
          "base_uri": "https://localhost:8080/"
        },
        "id": "N-hV_kuyXE0V",
        "outputId": "eba63db9-7022-4e42-d668-2f3d7babf276"
      },
      "source": [
        "# Predvidjanje\n",
        "\n",
        "test_set = test.values\n",
        "\n",
        "test_data = np.reshape(test_set, (len(test_set), 1))\n",
        "test_data = sc.transform(test_data)\n",
        "test_data = np.reshape(test_data, (len(test_data), 1, 1))\n",
        "\n",
        "predicted_price = model.predict(test_data)\n",
        "predicted_price"
      ],
      "execution_count": 178,
      "outputs": [
        {
          "output_type": "execute_result",
          "data": {
            "text/plain": [
              "array([[0.84284574],\n",
              "       [0.8708058 ],\n",
              "       [0.8549582 ],\n",
              "       [0.82877666],\n",
              "       [0.83901477],\n",
              "       [0.8675732 ],\n",
              "       [0.8764342 ],\n",
              "       [0.92406726],\n",
              "       [0.9444032 ],\n",
              "       [0.95730984],\n",
              "       [0.96520853],\n",
              "       [0.99294066],\n",
              "       [1.015604  ],\n",
              "       [0.9748466 ],\n",
              "       [0.9438889 ],\n",
              "       [0.95566964],\n",
              "       [0.9883511 ],\n",
              "       [0.98572373],\n",
              "       [0.9926243 ],\n",
              "       [0.97209406],\n",
              "       [0.96464837],\n",
              "       [0.9346454 ],\n",
              "       [0.94076204],\n",
              "       [0.8964437 ],\n",
              "       [0.91314447],\n",
              "       [0.94176793],\n",
              "       [0.9510033 ],\n",
              "       [0.9664502 ],\n",
              "       [0.9866072 ],\n",
              "       [0.99241054]], dtype=float32)"
            ]
          },
          "metadata": {
            "tags": []
          },
          "execution_count": 178
        }
      ]
    },
    {
      "cell_type": "code",
      "metadata": {
        "colab": {
          "base_uri": "https://localhost:8080/"
        },
        "id": "uGvoKT0dg0Cb",
        "outputId": "a6a858aa-047f-41f7-ae67-b3a2f12f2570"
      },
      "source": [
        "predicted_real_price = scaler.inverse_transform(predicted_price)\n",
        "predicted_real_price"
      ],
      "execution_count": 179,
      "outputs": [
        {
          "output_type": "execute_result",
          "data": {
            "text/plain": [
              "array([[48077.297],\n",
              "       [49672.043],\n",
              "       [48768.15 ],\n",
              "       [47274.848],\n",
              "       [47858.793],\n",
              "       [49487.664],\n",
              "       [49993.066],\n",
              "       [52709.887],\n",
              "       [53869.777],\n",
              "       [54605.93 ],\n",
              "       [55056.44 ],\n",
              "       [56638.188],\n",
              "       [57930.824],\n",
              "       [55606.164],\n",
              "       [53840.445],\n",
              "       [54512.38 ],\n",
              "       [56376.414],\n",
              "       [56226.56 ],\n",
              "       [56620.14 ],\n",
              "       [55449.168],\n",
              "       [55024.492],\n",
              "       [53313.23 ],\n",
              "       [53662.1  ],\n",
              "       [51134.34 ],\n",
              "       [52086.89 ],\n",
              "       [53719.473],\n",
              "       [54246.227],\n",
              "       [55127.26 ],\n",
              "       [56276.945],\n",
              "       [56607.95 ]], dtype=float32)"
            ]
          },
          "metadata": {
            "tags": []
          },
          "execution_count": 179
        }
      ]
    },
    {
      "cell_type": "code",
      "metadata": {
        "id": "5D0S8Jlfg1F1"
      },
      "source": [
        ""
      ],
      "execution_count": 179,
      "outputs": []
    },
    {
      "cell_type": "code",
      "metadata": {
        "colab": {
          "base_uri": "https://localhost:8080/",
          "height": 543
        },
        "id": "qt7d1yJS2HQC",
        "outputId": "1108930c-3f53-444d-a071-213dc28b4d58"
      },
      "source": [
        "# Vizuelni prikaz rezultata\n",
        "\n",
        "plt.figure(figsize=(15,9), dpi=100, facecolor='w', edgecolor='k')\n",
        "ax = plt.gca()\n",
        "\n",
        "plt.title('Vizuelni prikaz stvarne i predvidjene vrednosti BTC')\n",
        "plt.plot(test_set, color = 'red', label = 'Stvarna vrednost BTC')\n",
        "plt.plot(predicted_real_price, color = 'green', label = 'Predvidjena vrednost BTC')\n",
        "\n",
        "test = test.reset_index()\n",
        "x = test.index\n",
        "\n",
        "plt.xticks(x, labels = test['Date'], rotation = 'vertical')\n",
        "plt.xlabel('Vremenski period')\n",
        "plt.ylabel('Cena BTC (USD)')\n",
        "plt.legend(loc='best')\n",
        "plt.show()"
      ],
      "execution_count": 180,
      "outputs": [
        {
          "output_type": "display_data",
          "data": {
            "image/png": "[encoded data removed]",
            "text/plain": [
              "<Figure size 1500x900 with 1 Axes>"
            ]
          },
          "metadata": {
            "tags": []
          }
        }
      ]
    },
    {
      "cell_type": "code",
      "metadata": {
        "id": "St9WcaeNhhnd"
      },
      "source": [
        ""
      ],
      "execution_count": 180,
      "outputs": []
    },
    {
      "cell_type": "code",
      "metadata": {
        "colab": {
          "base_uri": "https://localhost:8080/",
          "height": 336
        },
        "id": "sok0QN8N2M-l",
        "outputId": "9e73fa5e-48bc-4809-b4ee-eea854f96eb5"
      },
      "source": [
        "# Vizuelni prikaz gubitka (loss) tokom treniranja mreze\n",
        "plt.subplot()\n",
        "# plt.title('Gubitak (Loss)')\n",
        "plt.plot(history.history['loss'], label='gubitak (loss)')\n",
        "plt.legend()\n",
        "\n",
        "plt.title('Vizuelni prikaz gubitka (loss) i tacnosti (accuracy) mreze')\n",
        "\n",
        "# Vizuelni prikaz tacnosti (accuracy) tokom treniranja mreze\n",
        "plt.subplot()\n",
        "# plt.title('Tacnost (Accuracy)')\n",
        "plt.plot(history.history['accuracy'], label='tacnost (accuracy)')\n",
        "plt.legend()\n",
        "\n",
        "plt.show()"
      ],
      "execution_count": 200,
      "outputs": [
        {
          "output_type": "stream",
          "text": [
            "/usr/local/lib/python3.7/dist-packages/ipykernel_launcher.py:10: MatplotlibDeprecationWarning: Adding an axes using the same arguments as a previous axes currently reuses the earlier instance.  In a future version, a new instance will always be created and returned.  Meanwhile, this warning can be suppressed, and the future behavior ensured, by passing a unique label to each axes instance.\n",
            "  # Remove the CWD from sys.path while we load stuff.\n"
          ],
          "name": "stderr"
        },
        {
          "output_type": "display_data",
          "data": {
            "image/png": "[encoded data removed]",
            "text/plain": [
              "<Figure size 432x288 with 1 Axes>"
            ]
          },
          "metadata": {
            "tags": [],
            "needs_background": "light"
          }
        }
      ]
    },
    {
      "cell_type": "code",
      "metadata": {
        "id": "T35MPqZGvQ9J"
      },
      "source": [
        ""
      ],
      "execution_count": 181,
      "outputs": []
    },
    {
      "cell_type": "code",
      "metadata": {
        "id": "yZ8clY3GXFAz"
      },
      "source": [
        ""
      ],
      "execution_count": 181,
      "outputs": []
    },
    {
      "cell_type": "code",
      "metadata": {
        "id": "N4d-N_oWXFJ7"
      },
      "source": [
        ""
      ],
      "execution_count": 181,
      "outputs": []
    }
  ]
}