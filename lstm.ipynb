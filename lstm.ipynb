{
  "nbformat": 4,
  "nbformat_minor": 0,
  "metadata": {
    "colab": {
      "name": "lstm.ipynb",
      "provenance": [],
      "collapsed_sections": [],
      "include_colab_link": true
    },
    "kernelspec": {
      "display_name": "Python 3",
      "language": "python",
      "name": "python3"
    },
    "language_info": {
      "codemirror_mode": {
        "name": "ipython",
        "version": 3
      },
      "file_extension": ".py",
      "mimetype": "text/x-python",
      "name": "python",
      "nbconvert_exporter": "python",
      "pygments_lexer": "ipython3",
      "version": "3.9.5"
    }
  },
  "cells": [
    {
      "cell_type": "markdown",
      "metadata": {
        "id": "view-in-github",
        "colab_type": "text"
      },
      "source": [
        "<a href=\"https://colab.research.google.com/github/jovanape/Bitcoint-Price-Prediction/blob/main/lstm.ipynb\" target=\"_parent\"><img src=\"https://colab.research.google.com/assets/colab-badge.svg\" alt=\"Open In Colab\"/></a>"
      ]
    },
    {
      "cell_type": "markdown",
      "metadata": {
        "id": "ldPTFiinbc0T"
      },
      "source": [
        "# **Predvidjanje vrednosti bitkoina za naredni dan koriscenjem LSTM**\n",
        "### **Koraci:**\n",
        "1. Pretprocesiranje podataka\n",
        "2. Podela skupa podataka na skupove za trening, validaciju i test\n",
        "3. Odredjivanje ciljne promenljive za svaki od skupova\n",
        "4. Skaliranje podataka\n",
        "5. Kreiranje modela mreze (razmatrana su dva razlicita modela)\n",
        "6. Treniranje mreze\n",
        "7. Predvidjanje\n",
        "8. Evaluacija\n",
        "\n",
        "Podaci su dati u minutima, a za dalji rad u ovoj svesci koriscene su vrednosti bitkoina po danima. Najpre su podaci grupisani po datumu, a zatim je izracunata prosecna vrednost vrednosti bitkoina (datih za svaki minut) u toku jednog dana (i tako za svaki dan). Skupovi za trening, validaciju i testiranje se sastoje iz ovih, dobijenih, vrednosti bitkoina po danu."
      ]
    },
    {
      "cell_type": "markdown",
      "metadata": {
        "id": "KEmmLXTe-5wx"
      },
      "source": [
        "**Ucitavanje biblioteka**"
      ]
    },
    {
      "cell_type": "code",
      "metadata": {
        "id": "15RqVMEtCsQg"
      },
      "source": [
        "import numpy as np \n",
        "import pandas as pd \n",
        "from matplotlib import pyplot as plt\n",
        "from sklearn.preprocessing import MinMaxScaler\n",
        "from keras.models import Sequential\n",
        "from keras.layers import Dense\n",
        "from keras.layers import LSTM\n",
        "from keras.layers import Dropout\n",
        "from keras import callbacks\n",
        "from sklearn.metrics import r2_score\n",
        "from sklearn.metrics import mean_absolute_error\n",
        "from sklearn import metrics\n",
        "\n",
        "%run Preprocessing.ipynb\n",
        "%run Utility.ipynb"
      ],
      "execution_count": 309,
      "outputs": []
    },
    {
      "cell_type": "markdown",
      "metadata": {
        "id": "tiYhpvYx-3CC"
      },
      "source": [
        "**Pretprocesiranje**"
      ]
    },
    {
      "cell_type": "code",
      "metadata": {
        "id": "Fq5r__TjAlXX"
      },
      "source": [
        "data = preprocess_data(file_name = 'bitstampUSD_1-min_data_2012-01-01_to_2021-03-31.csv')"
      ],
      "execution_count": 310,
      "outputs": []
    },
    {
      "cell_type": "markdown",
      "metadata": {
        "id": "AnUuMmcjXE9l"
      },
      "source": [
        "**Računanje srednje vrednosti cene za svaki datum (dan)**\n"
      ]
    },
    {
      "cell_type": "code",
      "metadata": {
        "colab": {
          "base_uri": "https://localhost:8080/",
          "height": 617
        },
        "id": "OFjYdbfBDaXo",
        "outputId": "e4a9c63f-f933-441c-f7f5-cbb6098a53c1"
      },
      "source": [
        "group = data.groupby('Date')\n",
        "data"
      ],
      "execution_count": 312,
      "outputs": [
        {
          "output_type": "execute_result",
          "data": {
            "text/html": [
              "<div>\n",
              "<style scoped>\n",
              "    .dataframe tbody tr th:only-of-type {\n",
              "        vertical-align: middle;\n",
              "    }\n",
              "\n",
              "    .dataframe tbody tr th {\n",
              "        vertical-align: top;\n",
              "    }\n",
              "\n",
              "    .dataframe thead th {\n",
              "        text-align: right;\n",
              "    }\n",
              "</style>\n",
              "<table border=\"1\" class=\"dataframe\">\n",
              "  <thead>\n",
              "    <tr style=\"text-align: right;\">\n",
              "      <th></th>\n",
              "      <th>Timestamp</th>\n",
              "      <th>Open</th>\n",
              "      <th>High</th>\n",
              "      <th>Low</th>\n",
              "      <th>Close</th>\n",
              "      <th>Volume_(BTC)</th>\n",
              "      <th>Volume_(Currency)</th>\n",
              "      <th>Weighted_Price</th>\n",
              "      <th>Date</th>\n",
              "    </tr>\n",
              "  </thead>\n",
              "  <tbody>\n",
              "    <tr>\n",
              "      <th>0</th>\n",
              "      <td>1325317920</td>\n",
              "      <td>4.39</td>\n",
              "      <td>4.39</td>\n",
              "      <td>4.39</td>\n",
              "      <td>4.39</td>\n",
              "      <td>0.455581</td>\n",
              "      <td>2.000000</td>\n",
              "      <td>4.390000</td>\n",
              "      <td>2011-12-31</td>\n",
              "    </tr>\n",
              "    <tr>\n",
              "      <th>478</th>\n",
              "      <td>1325346600</td>\n",
              "      <td>4.39</td>\n",
              "      <td>4.39</td>\n",
              "      <td>4.39</td>\n",
              "      <td>4.39</td>\n",
              "      <td>48.000000</td>\n",
              "      <td>210.720000</td>\n",
              "      <td>4.390000</td>\n",
              "      <td>2011-12-31</td>\n",
              "    </tr>\n",
              "    <tr>\n",
              "      <th>547</th>\n",
              "      <td>1325350740</td>\n",
              "      <td>4.50</td>\n",
              "      <td>4.57</td>\n",
              "      <td>4.50</td>\n",
              "      <td>4.57</td>\n",
              "      <td>37.862297</td>\n",
              "      <td>171.380338</td>\n",
              "      <td>4.526411</td>\n",
              "      <td>2011-12-31</td>\n",
              "    </tr>\n",
              "    <tr>\n",
              "      <th>548</th>\n",
              "      <td>1325350800</td>\n",
              "      <td>4.58</td>\n",
              "      <td>4.58</td>\n",
              "      <td>4.58</td>\n",
              "      <td>4.58</td>\n",
              "      <td>9.000000</td>\n",
              "      <td>41.220000</td>\n",
              "      <td>4.580000</td>\n",
              "      <td>2011-12-31</td>\n",
              "    </tr>\n",
              "    <tr>\n",
              "      <th>1224</th>\n",
              "      <td>1325391360</td>\n",
              "      <td>4.58</td>\n",
              "      <td>4.58</td>\n",
              "      <td>4.58</td>\n",
              "      <td>4.58</td>\n",
              "      <td>1.502000</td>\n",
              "      <td>6.879160</td>\n",
              "      <td>4.580000</td>\n",
              "      <td>2012-01-01</td>\n",
              "    </tr>\n",
              "    <tr>\n",
              "      <th>...</th>\n",
              "      <td>...</td>\n",
              "      <td>...</td>\n",
              "      <td>...</td>\n",
              "      <td>...</td>\n",
              "      <td>...</td>\n",
              "      <td>...</td>\n",
              "      <td>...</td>\n",
              "      <td>...</td>\n",
              "      <td>...</td>\n",
              "    </tr>\n",
              "    <tr>\n",
              "      <th>4857372</th>\n",
              "      <td>1617148560</td>\n",
              "      <td>58714.31</td>\n",
              "      <td>58714.31</td>\n",
              "      <td>58686.00</td>\n",
              "      <td>58686.00</td>\n",
              "      <td>1.384487</td>\n",
              "      <td>81259.372187</td>\n",
              "      <td>58692.753339</td>\n",
              "      <td>2021-03-30</td>\n",
              "    </tr>\n",
              "    <tr>\n",
              "      <th>4857373</th>\n",
              "      <td>1617148620</td>\n",
              "      <td>58683.97</td>\n",
              "      <td>58693.43</td>\n",
              "      <td>58683.97</td>\n",
              "      <td>58685.81</td>\n",
              "      <td>7.294848</td>\n",
              "      <td>428158.146640</td>\n",
              "      <td>58693.226508</td>\n",
              "      <td>2021-03-30</td>\n",
              "    </tr>\n",
              "    <tr>\n",
              "      <th>4857374</th>\n",
              "      <td>1617148680</td>\n",
              "      <td>58693.43</td>\n",
              "      <td>58723.84</td>\n",
              "      <td>58693.43</td>\n",
              "      <td>58723.84</td>\n",
              "      <td>1.705682</td>\n",
              "      <td>100117.070370</td>\n",
              "      <td>58696.198496</td>\n",
              "      <td>2021-03-30</td>\n",
              "    </tr>\n",
              "    <tr>\n",
              "      <th>4857375</th>\n",
              "      <td>1617148740</td>\n",
              "      <td>58742.18</td>\n",
              "      <td>58770.38</td>\n",
              "      <td>58742.18</td>\n",
              "      <td>58760.59</td>\n",
              "      <td>0.720415</td>\n",
              "      <td>42332.958633</td>\n",
              "      <td>58761.866202</td>\n",
              "      <td>2021-03-30</td>\n",
              "    </tr>\n",
              "    <tr>\n",
              "      <th>4857376</th>\n",
              "      <td>1617148800</td>\n",
              "      <td>58767.75</td>\n",
              "      <td>58778.18</td>\n",
              "      <td>58755.97</td>\n",
              "      <td>58778.18</td>\n",
              "      <td>2.712831</td>\n",
              "      <td>159417.751000</td>\n",
              "      <td>58764.349363</td>\n",
              "      <td>2021-03-31</td>\n",
              "    </tr>\n",
              "  </tbody>\n",
              "</table>\n",
              "<p>3613769 rows × 9 columns</p>\n",
              "</div>"
            ],
            "text/plain": [
              "          Timestamp      Open  ...  Weighted_Price        Date\n",
              "0        1325317920      4.39  ...        4.390000  2011-12-31\n",
              "478      1325346600      4.39  ...        4.390000  2011-12-31\n",
              "547      1325350740      4.50  ...        4.526411  2011-12-31\n",
              "548      1325350800      4.58  ...        4.580000  2011-12-31\n",
              "1224     1325391360      4.58  ...        4.580000  2012-01-01\n",
              "...             ...       ...  ...             ...         ...\n",
              "4857372  1617148560  58714.31  ...    58692.753339  2021-03-30\n",
              "4857373  1617148620  58683.97  ...    58693.226508  2021-03-30\n",
              "4857374  1617148680  58693.43  ...    58696.198496  2021-03-30\n",
              "4857375  1617148740  58742.18  ...    58761.866202  2021-03-30\n",
              "4857376  1617148800  58767.75  ...    58764.349363  2021-03-31\n",
              "\n",
              "[3613769 rows x 9 columns]"
            ]
          },
          "metadata": {},
          "execution_count": 312
        }
      ]
    },
    {
      "cell_type": "code",
      "metadata": {
        "colab": {
          "base_uri": "https://localhost:8080/"
        },
        "id": "l2LpugCd2AGw",
        "outputId": "fd8da014-6bf5-43d8-8f62-d6f6e8018b3c"
      },
      "source": [
        "mean_price = group['Weighted_Price'].mean()\n",
        "mean_price"
      ],
      "execution_count": 313,
      "outputs": [
        {
          "output_type": "execute_result",
          "data": {
            "text/plain": [
              "Date\n",
              "2011-12-31        4.471603\n",
              "2012-01-01        4.806667\n",
              "2012-01-02        5.000000\n",
              "2012-01-03        5.252500\n",
              "2012-01-04        5.208159\n",
              "                  ...     \n",
              "2021-03-27    55193.357260\n",
              "2021-03-28    55832.958824\n",
              "2021-03-29    56913.993819\n",
              "2021-03-30    58346.912268\n",
              "2021-03-31    58764.349363\n",
              "Name: Weighted_Price, Length: 3376, dtype: float64"
            ]
          },
          "metadata": {},
          "execution_count": 313
        }
      ]
    },
    {
      "cell_type": "markdown",
      "metadata": {
        "id": "wSQquvxv_bTx"
      },
      "source": [
        "**Podela skupa podataka**"
      ]
    },
    {
      "cell_type": "code",
      "metadata": {
        "id": "San0g6k11YuN",
        "outputId": "99010aca-dc3f-417d-8475-454250827430",
        "colab": {
          "base_uri": "https://localhost:8080/"
        }
      },
      "source": [
        "# Podela podataka na trening, validacioni i test skup\n",
        "\n",
        "# mean_price - prosecna cena po danima\n",
        "\n",
        "# Merenja u skupu za treniranje prethode merenjima u validacionom skupu,\n",
        "# a ona zajedno, prethode merenjima u skupu za testiranje\n",
        "\n",
        "\n",
        "# Predvidjanje se vrsi za poslednjih prediction_days dana\n",
        "\n",
        "prediction_days = 60\n",
        "\n",
        "# Skupovi: train, validation i test\n",
        "\n",
        "train = mean_price[:len(mean_price) - 2 * prediction_days]\n",
        "validation = mean_price[len(mean_price) - 2 * prediction_days: len(mean_price) - prediction_days]\n",
        "test = mean_price[len(mean_price) - prediction_days:]\n",
        "\n",
        "# Dimenzije skupova\n",
        "\n",
        "train.shape, validation.shape, test.shape"
      ],
      "execution_count": 314,
      "outputs": [
        {
          "output_type": "execute_result",
          "data": {
            "text/plain": [
              "((3256,), (60,), (60,))"
            ]
          },
          "metadata": {},
          "execution_count": 314
        }
      ]
    },
    {
      "cell_type": "code",
      "metadata": {
        "id": "vwXN7guQ-PdK",
        "outputId": "56aed68f-47da-4f74-8b24-a4a7d66031bb",
        "colab": {
          "base_uri": "https://localhost:8080/",
          "height": 295
        }
      },
      "source": [
        "plot_train_and_validation_data(train, validation)"
      ],
      "execution_count": 342,
      "outputs": [
        {
          "output_type": "display_data",
          "data": {
            "image/png": "[encoded data removed]",
            "text/plain": [
              "<Figure size 432x288 with 1 Axes>"
            ]
          },
          "metadata": {
            "needs_background": "light"
          }
        }
      ]
    },
    {
      "cell_type": "code",
      "metadata": {
        "id": "zIFXi48RfDmt"
      },
      "source": [
        ""
      ],
      "execution_count": 315,
      "outputs": []
    },
    {
      "cell_type": "markdown",
      "metadata": {
        "id": "qNoyNrtwd0mR"
      },
      "source": [
        "**Odredjivanje ciljne promenljive**"
      ]
    },
    {
      "cell_type": "code",
      "metadata": {
        "id": "_4DSPKkCc22G"
      },
      "source": [
        "training_set = train.values\n",
        "validation_set = validation.values\n",
        "test_set = test.values"
      ],
      "execution_count": 316,
      "outputs": []
    },
    {
      "cell_type": "code",
      "metadata": {
        "id": "UYvm2d5Sjr9z",
        "outputId": "e0131e52-b2ea-458e-d998-002ec984e5a8",
        "colab": {
          "base_uri": "https://localhost:8080/"
        }
      },
      "source": [
        "training_set"
      ],
      "execution_count": 317,
      "outputs": [
        {
          "output_type": "execute_result",
          "data": {
            "text/plain": [
              "array([4.47160287e+00, 4.80666667e+00, 5.00000000e+00, ...,\n",
              "       1.79914198e+04, 1.89134780e+04, 1.92647219e+04])"
            ]
          },
          "metadata": {},
          "execution_count": 317
        }
      ]
    },
    {
      "cell_type": "code",
      "metadata": {
        "id": "dyohP6TPc3Xq"
      },
      "source": [
        "training_set = np.reshape(training_set, (len(training_set), 1))\n",
        "validation_set = np.reshape(validation_set, (len(validation_set), 1))\n",
        "test_set = np.reshape(test_set, (len(test_set), 1))"
      ],
      "execution_count": 318,
      "outputs": []
    },
    {
      "cell_type": "code",
      "metadata": {
        "id": "ldpJVR0VXJ4B",
        "outputId": "0b1eaa78-1df0-4c91-9f62-155eb63c1455",
        "colab": {
          "base_uri": "https://localhost:8080/"
        }
      },
      "source": [
        "# Skup za treniranje nakon primene np.reshape()\n",
        "\n",
        "training_set"
      ],
      "execution_count": 319,
      "outputs": [
        {
          "output_type": "execute_result",
          "data": {
            "text/plain": [
              "array([[4.47160287e+00],\n",
              "       [4.80666667e+00],\n",
              "       [5.00000000e+00],\n",
              "       ...,\n",
              "       [1.79914198e+04],\n",
              "       [1.89134780e+04],\n",
              "       [1.92647219e+04]])"
            ]
          },
          "metadata": {},
          "execution_count": 319
        }
      ]
    },
    {
      "cell_type": "code",
      "metadata": {
        "id": "PLtuLetM1Zim"
      },
      "source": [
        "# Odredjivanje ciljne promenljive na trening skupu\n",
        "\n",
        "X_train = training_set[0:len(training_set)-1]\n",
        "y_train = training_set[1:len(training_set)]\n",
        "\n",
        "\n",
        "# Odredjivanje ciljne promenljive na validacionom skupu\n",
        "\n",
        "X_validation = validation_set[0:len(validation_set)-1]\n",
        "y_validation = validation_set[1:len(validation_set)]\n",
        "\n",
        "\n",
        "# Odredjivanje ciljne promenljive na test skupu\n",
        "\n",
        "X_test = test_set[0:len(test_set)-1]\n",
        "y_test = test_set[1:len(test_set)]"
      ],
      "execution_count": 320,
      "outputs": []
    },
    {
      "cell_type": "code",
      "metadata": {
        "id": "Pl-ZUNL8jzj_",
        "outputId": "17511e6d-111d-4b1c-9b31-3033ae94e713",
        "colab": {
          "base_uri": "https://localhost:8080/"
        }
      },
      "source": [
        "X_test.shape, y_test.shape"
      ],
      "execution_count": 321,
      "outputs": [
        {
          "output_type": "execute_result",
          "data": {
            "text/plain": [
              "((59, 1), (59, 1))"
            ]
          },
          "metadata": {},
          "execution_count": 321
        }
      ]
    },
    {
      "cell_type": "code",
      "metadata": {
        "id": "mnUZm1fNj1DH",
        "outputId": "57864241-fe1f-4aa2-ba9e-9f911d4536f5",
        "colab": {
          "base_uri": "https://localhost:8080/"
        }
      },
      "source": [
        "X_train[:7]"
      ],
      "execution_count": 322,
      "outputs": [
        {
          "output_type": "execute_result",
          "data": {
            "text/plain": [
              "array([[4.47160287],\n",
              "       [4.80666667],\n",
              "       [5.        ],\n",
              "       [5.2525    ],\n",
              "       [5.20815931],\n",
              "       [6.28412715],\n",
              "       [6.43899905]])"
            ]
          },
          "metadata": {},
          "execution_count": 322
        }
      ]
    },
    {
      "cell_type": "code",
      "metadata": {
        "id": "ZEhq4-BCx3Kf",
        "outputId": "75be11e1-b3e0-4cb6-82da-8f4fb5a9e3fb",
        "colab": {
          "base_uri": "https://localhost:8080/"
        }
      },
      "source": [
        "y_train[:7]"
      ],
      "execution_count": 323,
      "outputs": [
        {
          "output_type": "execute_result",
          "data": {
            "text/plain": [
              "array([[4.80666667],\n",
              "       [5.        ],\n",
              "       [5.2525    ],\n",
              "       [5.20815931],\n",
              "       [6.28412715],\n",
              "       [6.43899905],\n",
              "       [6.8       ]])"
            ]
          },
          "metadata": {},
          "execution_count": 323
        }
      ]
    },
    {
      "cell_type": "markdown",
      "metadata": {
        "id": "mARJuqO6ZX8i"
      },
      "source": [
        "**Skaliranje podataka**"
      ]
    },
    {
      "cell_type": "code",
      "metadata": {
        "id": "WpYAYK1SYUGM"
      },
      "source": [
        "# Skaliranje podataka skupa za treniranje\n",
        "\n",
        "scaler = MinMaxScaler()\n",
        "X_train = scaler.fit_transform(X_train)\n",
        "X_train = np.reshape(X_train, (len(X_train), 1, 1))\n",
        "\n",
        "\n",
        "# Skaliranje podataka skupa za validaciju\n",
        "\n",
        "X_validation = scaler.transform(X_validation)\n",
        "X_validation = np.reshape(X_validation, (len(X_validation), 1, 1))\n",
        "\n",
        "\n",
        "# Skaliranje podataka skupa za testiranje\n",
        "\n",
        "X_test = scaler.transform(X_test)\n",
        "X_test = np.reshape(X_test, (len(X_test), 1, 1))"
      ],
      "execution_count": 325,
      "outputs": []
    },
    {
      "cell_type": "code",
      "metadata": {
        "id": "zuaUwcpM1NC0",
        "outputId": "ba7d4ad0-56e1-45c3-da0a-11f9c1bcec97",
        "colab": {
          "base_uri": "https://localhost:8080/"
        }
      },
      "source": [
        "X_train.shape, y_train.shape"
      ],
      "execution_count": 326,
      "outputs": [
        {
          "output_type": "execute_result",
          "data": {
            "text/plain": [
              "((3255, 1, 1), (3255, 1))"
            ]
          },
          "metadata": {},
          "execution_count": 326
        }
      ]
    },
    {
      "cell_type": "code",
      "metadata": {
        "id": "5Cz4kkl0kJTb",
        "outputId": "2a2bb4f5-2428-4c7f-84e2-f23a6369bed2",
        "colab": {
          "base_uri": "https://localhost:8080/"
        }
      },
      "source": [
        "X_train[:5]"
      ],
      "execution_count": 327,
      "outputs": [
        {
          "output_type": "execute_result",
          "data": {
            "text/plain": [
              "array([[[7.29524503e-06]],\n",
              "\n",
              "       [[2.47630077e-05]],\n",
              "\n",
              "       [[3.48419862e-05]],\n",
              "\n",
              "       [[4.80054798e-05]],\n",
              "\n",
              "       [[4.56938824e-05]]])"
            ]
          },
          "metadata": {},
          "execution_count": 327
        }
      ]
    },
    {
      "cell_type": "code",
      "metadata": {
        "id": "wfcXtpUPkPGS",
        "outputId": "3156b6f1-87be-40db-be6e-51ac6d42d695",
        "colab": {
          "base_uri": "https://localhost:8080/"
        }
      },
      "source": [
        "y_train[:5]"
      ],
      "execution_count": 328,
      "outputs": [
        {
          "output_type": "execute_result",
          "data": {
            "text/plain": [
              "array([[4.80666667],\n",
              "       [5.        ],\n",
              "       [5.2525    ],\n",
              "       [5.20815931],\n",
              "       [6.28412715]])"
            ]
          },
          "metadata": {},
          "execution_count": 328
        }
      ]
    },
    {
      "cell_type": "code",
      "metadata": {
        "id": "-88pQo9okXIx",
        "outputId": "fae377a9-6d86-4322-f43b-5b41992f4832",
        "colab": {
          "base_uri": "https://localhost:8080/"
        }
      },
      "source": [
        "y_test[:5]"
      ],
      "execution_count": 329,
      "outputs": [
        {
          "output_type": "execute_result",
          "data": {
            "text/plain": [
              "array([[33705.97519065],\n",
              "       [34713.69640011],\n",
              "       [36573.09481031],\n",
              "       [37541.54813242],\n",
              "       [37630.049214  ]])"
            ]
          },
          "metadata": {},
          "execution_count": 329
        }
      ]
    },
    {
      "cell_type": "code",
      "metadata": {
        "id": "LEHVA-SKyTiA"
      },
      "source": [
        ""
      ],
      "execution_count": 329,
      "outputs": []
    },
    {
      "cell_type": "markdown",
      "metadata": {
        "id": "5xb-ZEzxaRLv"
      },
      "source": [
        "**Kreiranje i treniranje mreže**"
      ]
    },
    {
      "cell_type": "code",
      "metadata": {
        "colab": {
          "base_uri": "https://localhost:8080/"
        },
        "id": "HQur59lt0xwB",
        "outputId": "61807e9d-5c9e-4e5c-c68d-0fdac99e70e9"
      },
      "source": [
        "# Inicijalizacija RNN\n",
        "model = Sequential()\n",
        "\n",
        "# Dodavanje slojeva\n",
        "model.add(LSTM(units = 50, activation = 'relu', return_sequences = True, input_shape = (None, 1)))\n",
        "model.add(Dropout(0.2))\n",
        "model.add(LSTM(units = 60, activation = 'relu', return_sequences = True))\n",
        "model.add(Dropout(0.3))\n",
        "model.add(LSTM(units = 80, activation = 'relu', return_sequences = True))\n",
        "model.add(Dropout(0.4))\n",
        "model.add(LSTM(units = 120, activation = 'relu'))\n",
        "model.add(Dropout(0.5))\n",
        "model.add(Dense(units =1))\n",
        "\n",
        "# Arhitektura mreze\n",
        "model.summary()"
      ],
      "execution_count": 330,
      "outputs": [
        {
          "output_type": "stream",
          "name": "stdout",
          "text": [
            "Model: \"sequential_8\"\n",
            "_________________________________________________________________\n",
            "Layer (type)                 Output Shape              Param #   \n",
            "=================================================================\n",
            "lstm_17 (LSTM)               (None, None, 50)          10400     \n",
            "_________________________________________________________________\n",
            "dropout_12 (Dropout)         (None, None, 50)          0         \n",
            "_________________________________________________________________\n",
            "lstm_18 (LSTM)               (None, None, 60)          26640     \n",
            "_________________________________________________________________\n",
            "dropout_13 (Dropout)         (None, None, 60)          0         \n",
            "_________________________________________________________________\n",
            "lstm_19 (LSTM)               (None, None, 80)          45120     \n",
            "_________________________________________________________________\n",
            "dropout_14 (Dropout)         (None, None, 80)          0         \n",
            "_________________________________________________________________\n",
            "lstm_20 (LSTM)               (None, 120)               96480     \n",
            "_________________________________________________________________\n",
            "dropout_15 (Dropout)         (None, 120)               0         \n",
            "_________________________________________________________________\n",
            "dense_8 (Dense)              (None, 1)                 121       \n",
            "=================================================================\n",
            "Total params: 178,761\n",
            "Trainable params: 178,761\n",
            "Non-trainable params: 0\n",
            "_________________________________________________________________\n"
          ]
        }
      ]
    },
    {
      "cell_type": "code",
      "metadata": {
        "colab": {
          "base_uri": "https://localhost:8080/"
        },
        "id": "7wAwTiofbC_x",
        "outputId": "75dba370-a304-45e1-c193-3b1cf1e0051d"
      },
      "source": [
        "# Kompilacija RNN\n",
        "model.compile(optimizer = 'adam', loss = 'mean_squared_error', metrics=['mse', 'mae'])\n",
        "\n",
        "# Rano zaustavljanje treninga\n",
        "callback = callbacks.EarlyStopping(monitor = 'loss', patience = 3)\n",
        "\n",
        "# Treniranje RNN na trening skupu uz koriscenje validacionog skupa\n",
        "history = model.fit(X_train, y_train, batch_size = 20, epochs = 50, validation_data = (X_validation, y_validation), verbose = 2, callbacks=[callback])"
      ],
      "execution_count": 331,
      "outputs": [
        {
          "output_type": "stream",
          "name": "stdout",
          "text": [
            "Epoch 1/50\n",
            "163/163 - 6s - loss: 27491866.0000 - mse: 27491866.0000 - mae: 3240.5933 - val_loss: 563094208.0000 - val_mse: 563094208.0000 - val_mae: 23063.2207\n",
            "Epoch 2/50\n",
            "163/163 - 1s - loss: 7152852.5000 - mse: 7152852.5000 - mae: 2193.2578 - val_loss: 4713951.5000 - val_mse: 4713951.0000 - val_mae: 1752.4603\n",
            "Epoch 3/50\n",
            "163/163 - 1s - loss: 2984567.7500 - mse: 2984567.7500 - mae: 1363.9703 - val_loss: 32512450.0000 - val_mse: 32512450.0000 - val_mae: 4492.0571\n",
            "Epoch 4/50\n",
            "163/163 - 1s - loss: 2452821.2500 - mse: 2452821.2500 - mae: 1152.7308 - val_loss: 44795252.0000 - val_mse: 44795252.0000 - val_mae: 5458.0288\n",
            "Epoch 5/50\n",
            "163/163 - 1s - loss: 2125411.5000 - mse: 2125411.5000 - mae: 1029.6080 - val_loss: 73825312.0000 - val_mse: 73825312.0000 - val_mae: 7310.6167\n",
            "Epoch 6/50\n",
            "163/163 - 1s - loss: 2169805.2500 - mse: 2169805.2500 - mae: 948.8442 - val_loss: 43923336.0000 - val_mse: 43923344.0000 - val_mae: 5368.4360\n",
            "Epoch 7/50\n",
            "163/163 - 1s - loss: 2061277.7500 - mse: 2061277.7500 - mae: 919.4100 - val_loss: 19044834.0000 - val_mse: 19044834.0000 - val_mae: 3098.3779\n",
            "Epoch 8/50\n",
            "163/163 - 1s - loss: 1738809.1250 - mse: 1738809.1250 - mae: 837.9659 - val_loss: 39254432.0000 - val_mse: 39254436.0000 - val_mae: 5037.9521\n",
            "Epoch 9/50\n",
            "163/163 - 1s - loss: 1784973.7500 - mse: 1784973.7500 - mae: 820.2136 - val_loss: 31517262.0000 - val_mse: 31517262.0000 - val_mae: 4416.3457\n",
            "Epoch 10/50\n",
            "163/163 - 1s - loss: 1947000.3750 - mse: 1947000.3750 - mae: 831.2227 - val_loss: 26953118.0000 - val_mse: 26953118.0000 - val_mae: 4026.2368\n",
            "Epoch 11/50\n",
            "163/163 - 1s - loss: 1636164.8750 - mse: 1636164.8750 - mae: 768.0519 - val_loss: 26802052.0000 - val_mse: 26802052.0000 - val_mae: 4016.6960\n",
            "Epoch 12/50\n",
            "163/163 - 1s - loss: 1509459.0000 - mse: 1509459.0000 - mae: 740.1490 - val_loss: 21547434.0000 - val_mse: 21547434.0000 - val_mae: 3456.9963\n",
            "Epoch 13/50\n",
            "163/163 - 1s - loss: 1537907.7500 - mse: 1537907.7500 - mae: 736.1722 - val_loss: 10428334.0000 - val_mse: 10428334.0000 - val_mae: 2163.5361\n",
            "Epoch 14/50\n",
            "163/163 - 1s - loss: 1641004.5000 - mse: 1641004.5000 - mae: 746.2032 - val_loss: 15329891.0000 - val_mse: 15329891.0000 - val_mae: 2745.6323\n",
            "Epoch 15/50\n",
            "163/163 - 1s - loss: 1632039.5000 - mse: 1632039.5000 - mae: 744.3553 - val_loss: 10940746.0000 - val_mse: 10940746.0000 - val_mae: 2202.3411\n"
          ]
        }
      ]
    },
    {
      "cell_type": "code",
      "metadata": {
        "id": "5Z_gsiVSBqUl"
      },
      "source": [
        ""
      ],
      "execution_count": null,
      "outputs": []
    },
    {
      "cell_type": "markdown",
      "metadata": {
        "id": "Z_7cfzXxmNax"
      },
      "source": [
        "**Predviđanja mreže**"
      ]
    },
    {
      "cell_type": "code",
      "metadata": {
        "colab": {
          "base_uri": "https://localhost:8080/"
        },
        "id": "3Myu9iaPmvtC",
        "outputId": "409aa5ad-9a40-4f3b-9783-296d60d84215"
      },
      "source": [
        "predicted_price = model.predict(X_test)\n",
        "predicted_price[:5]"
      ],
      "execution_count": 332,
      "outputs": [
        {
          "output_type": "execute_result",
          "data": {
            "text/plain": [
              "array([[36920.36 ],\n",
              "       [37272.793],\n",
              "       [38676.336],\n",
              "       [41310.582],\n",
              "       [42704.59 ]], dtype=float32)"
            ]
          },
          "metadata": {},
          "execution_count": 332
        }
      ]
    },
    {
      "cell_type": "code",
      "metadata": {
        "id": "8YDvdUJinzSY"
      },
      "source": [
        ""
      ],
      "execution_count": 333,
      "outputs": []
    },
    {
      "cell_type": "markdown",
      "metadata": {
        "id": "QSTspEUToIeH"
      },
      "source": [
        "**Vizuelni prikaz rezultata**"
      ]
    },
    {
      "cell_type": "code",
      "metadata": {
        "id": "ey1-Ev-Pq5Uv",
        "outputId": "7c17ae19-381c-4291-ccef-a3ae732cb161",
        "colab": {
          "base_uri": "https://localhost:8080/",
          "height": 542
        }
      },
      "source": [
        "plot_predicted_vs_real_data(real_values = y_test, predicted_values = predicted_price, test_data = test)"
      ],
      "execution_count": 335,
      "outputs": [
        {
          "output_type": "display_data",
          "data": {
            "image/png": "[encoded data removed]",
            "text/plain": [
              "<Figure size 1500x900 with 1 Axes>"
            ]
          },
          "metadata": {}
        }
      ]
    },
    {
      "cell_type": "code",
      "metadata": {
        "id": "t3BMmcSXq8Yj"
      },
      "source": [
        ""
      ],
      "execution_count": 335,
      "outputs": []
    },
    {
      "cell_type": "markdown",
      "metadata": {
        "id": "klyfGi3zA1A_"
      },
      "source": [
        "**Vizuelni prikaz funkcije gubitka, MSE i MAE tokom treniranja mreze**"
      ]
    },
    {
      "cell_type": "code",
      "metadata": {
        "colab": {
          "base_uri": "https://localhost:8080/",
          "height": 851
        },
        "id": "l_DyWRvUdLB8",
        "outputId": "23d72772-e06e-4f47-e290-71cf20615a60"
      },
      "source": [
        "# Loss\n",
        "\n",
        "plot_loss(history)\n",
        "\n",
        "\n",
        "# MSE\n",
        "\n",
        "plot_mse(history)\n",
        "\n",
        "\n",
        "# MAE\n",
        "\n",
        "plot_mae(history)"
      ],
      "execution_count": 337,
      "outputs": [
        {
          "output_type": "display_data",
          "data": {
            "image/png": "[encoded data removed]",
            "text/plain": [
              "<Figure size 432x288 with 1 Axes>"
            ]
          },
          "metadata": {
            "needs_background": "light"
          }
        },
        {
          "output_type": "display_data",
          "data": {
            "image/png": "[encoded data removed]",
            "text/plain": [
              "<Figure size 432x288 with 1 Axes>"
            ]
          },
          "metadata": {
            "needs_background": "light"
          }
        },
        {
          "output_type": "display_data",
          "data": {
            "image/png": "[encoded data removed]",
            "text/plain": [
              "<Figure size 432x288 with 1 Axes>"
            ]
          },
          "metadata": {
            "needs_background": "light"
          }
        }
      ]
    },
    {
      "cell_type": "markdown",
      "metadata": {
        "id": "htS6qG3MBDQR"
      },
      "source": [
        "**Funkcija gubitka, MSE i MAE nad skupom za testiranje**"
      ]
    },
    {
      "cell_type": "code",
      "metadata": {
        "colab": {
          "base_uri": "https://localhost:8080/"
        },
        "id": "OGfHxBRSdN8z",
        "outputId": "ee878ae2-b48b-4170-d9d8-e2463425fcb6"
      },
      "source": [
        "# (za model koji pri treniranju koristi validaciju\n",
        "# i za model koji pri treniranju ne koristi validaciju)\n",
        "\n",
        "test_metrics_val = model.evaluate(X_test, y_test)\n",
        "\n",
        "print('\\nMetrike prilikom testiranja\\n')\n",
        "print(model.metrics_names[0], test_metrics_val[0])\n",
        "print(model.metrics_names[1], test_metrics_val[1])\n",
        "print(model.metrics_names[2], test_metrics_val[2])"
      ],
      "execution_count": 343,
      "outputs": [
        {
          "output_type": "stream",
          "name": "stdout",
          "text": [
            "2/2 [==============================] - 0s 9ms/step - loss: 159045904.0000 - mse: 159045904.0000 - mae: 11667.7539\n",
            "\n",
            "Metrike prilikom testiranja\n",
            "\n",
            "loss 159045904.0\n",
            "mse 159045904.0\n",
            "mae 11667.75390625\n"
          ]
        }
      ]
    },
    {
      "cell_type": "markdown",
      "metadata": {
        "id": "LuUX64uFA-EG"
      },
      "source": [
        "**Koeficijent determinacije (R2 skor)**"
      ]
    },
    {
      "cell_type": "code",
      "metadata": {
        "colab": {
          "base_uri": "https://localhost:8080/"
        },
        "id": "e84qmwHSdTl7",
        "outputId": "f181e181-e045-49f8-d6f8-77b3441f9218"
      },
      "source": [
        "r2 = metrics.r2_score(predicted_price, y_test)\n",
        "print('R2 skor: ', r2)"
      ],
      "execution_count": 344,
      "outputs": [
        {
          "output_type": "stream",
          "name": "stdout",
          "text": [
            "R2 skor:  -0.35538685650642865\n"
          ]
        }
      ]
    },
    {
      "cell_type": "code",
      "metadata": {
        "id": "ua0Cf4AzB7ff"
      },
      "source": [
        ""
      ],
      "execution_count": null,
      "outputs": []
    }
  ]
}