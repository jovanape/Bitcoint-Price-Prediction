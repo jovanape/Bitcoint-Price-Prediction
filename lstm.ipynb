{
  "nbformat": 4,
  "nbformat_minor": 0,
  "metadata": {
    "colab": {
      "name": "lstm.ipynb",
      "provenance": [],
      "collapsed_sections": [],
      "include_colab_link": true
    },
    "kernelspec": {
      "name": "python3",
      "display_name": "Python 3"
    },
    "language_info": {
      "name": "python"
    }
  },
  "cells": [
    {
      "cell_type": "markdown",
      "metadata": {
        "id": "view-in-github",
        "colab_type": "text"
      },
      "source": [
        "<a href=\"https://colab.research.google.com/github/jovanape/Bitcoint-Price-Prediction/blob/main/lstm.ipynb\" target=\"_parent\"><img src=\"https://colab.research.google.com/assets/colab-badge.svg\" alt=\"Open In Colab\"/></a>"
      ]
    },
    {
      "cell_type": "code",
      "metadata": {
        "id": "15RqVMEtCsQg"
      },
      "source": [
        "# Ucitavanje biblioteka\n",
        "import numpy as np \n",
        "import pandas as pd \n",
        "from matplotlib import pyplot as plt\n",
        "from sklearn.preprocessing import MinMaxScaler\n",
        "from keras.models import Sequential\n",
        "from keras.layers import Dense\n",
        "from keras.layers import LSTM\n",
        "from keras.layers import Dropout"
      ],
      "execution_count": null,
      "outputs": []
    },
    {
      "cell_type": "code",
      "metadata": {
        "colab": {
          "base_uri": "https://localhost:8080/",
          "height": 435
        },
        "id": "VWESzQJZDR7m",
        "outputId": "a176062a-8337-4044-bfe3-608320c14784"
      },
      "source": [
        "# Ucitavanje skupa podataka\n",
        "data = pd.read_csv('bitstampUSD_1-min_data_2012-01-01_to_2021-03-31.csv')\n",
        "data"
      ],
      "execution_count": null,
      "outputs": [
        {
          "output_type": "execute_result",
          "data": {
            "text/html": [
              "<div>\n",
              "<style scoped>\n",
              "    .dataframe tbody tr th:only-of-type {\n",
              "        vertical-align: middle;\n",
              "    }\n",
              "\n",
              "    .dataframe tbody tr th {\n",
              "        vertical-align: top;\n",
              "    }\n",
              "\n",
              "    .dataframe thead th {\n",
              "        text-align: right;\n",
              "    }\n",
              "</style>\n",
              "<table border=\"1\" class=\"dataframe\">\n",
              "  <thead>\n",
              "    <tr style=\"text-align: right;\">\n",
              "      <th></th>\n",
              "      <th>Timestamp</th>\n",
              "      <th>Open</th>\n",
              "      <th>High</th>\n",
              "      <th>Low</th>\n",
              "      <th>Close</th>\n",
              "      <th>Volume_(BTC)</th>\n",
              "      <th>Volume_(Currency)</th>\n",
              "      <th>Weighted_Price</th>\n",
              "    </tr>\n",
              "  </thead>\n",
              "  <tbody>\n",
              "    <tr>\n",
              "      <th>0</th>\n",
              "      <td>1325317920</td>\n",
              "      <td>4.39</td>\n",
              "      <td>4.39</td>\n",
              "      <td>4.39</td>\n",
              "      <td>4.39</td>\n",
              "      <td>0.455581</td>\n",
              "      <td>2.000000</td>\n",
              "      <td>4.390000</td>\n",
              "    </tr>\n",
              "    <tr>\n",
              "      <th>1</th>\n",
              "      <td>1325317980</td>\n",
              "      <td>NaN</td>\n",
              "      <td>NaN</td>\n",
              "      <td>NaN</td>\n",
              "      <td>NaN</td>\n",
              "      <td>NaN</td>\n",
              "      <td>NaN</td>\n",
              "      <td>NaN</td>\n",
              "    </tr>\n",
              "    <tr>\n",
              "      <th>2</th>\n",
              "      <td>1325318040</td>\n",
              "      <td>NaN</td>\n",
              "      <td>NaN</td>\n",
              "      <td>NaN</td>\n",
              "      <td>NaN</td>\n",
              "      <td>NaN</td>\n",
              "      <td>NaN</td>\n",
              "      <td>NaN</td>\n",
              "    </tr>\n",
              "    <tr>\n",
              "      <th>3</th>\n",
              "      <td>1325318100</td>\n",
              "      <td>NaN</td>\n",
              "      <td>NaN</td>\n",
              "      <td>NaN</td>\n",
              "      <td>NaN</td>\n",
              "      <td>NaN</td>\n",
              "      <td>NaN</td>\n",
              "      <td>NaN</td>\n",
              "    </tr>\n",
              "    <tr>\n",
              "      <th>4</th>\n",
              "      <td>1325318160</td>\n",
              "      <td>NaN</td>\n",
              "      <td>NaN</td>\n",
              "      <td>NaN</td>\n",
              "      <td>NaN</td>\n",
              "      <td>NaN</td>\n",
              "      <td>NaN</td>\n",
              "      <td>NaN</td>\n",
              "    </tr>\n",
              "    <tr>\n",
              "      <th>...</th>\n",
              "      <td>...</td>\n",
              "      <td>...</td>\n",
              "      <td>...</td>\n",
              "      <td>...</td>\n",
              "      <td>...</td>\n",
              "      <td>...</td>\n",
              "      <td>...</td>\n",
              "      <td>...</td>\n",
              "    </tr>\n",
              "    <tr>\n",
              "      <th>4857372</th>\n",
              "      <td>1617148560</td>\n",
              "      <td>58714.31</td>\n",
              "      <td>58714.31</td>\n",
              "      <td>58686.00</td>\n",
              "      <td>58686.00</td>\n",
              "      <td>1.384487</td>\n",
              "      <td>81259.372187</td>\n",
              "      <td>58692.753339</td>\n",
              "    </tr>\n",
              "    <tr>\n",
              "      <th>4857373</th>\n",
              "      <td>1617148620</td>\n",
              "      <td>58683.97</td>\n",
              "      <td>58693.43</td>\n",
              "      <td>58683.97</td>\n",
              "      <td>58685.81</td>\n",
              "      <td>7.294848</td>\n",
              "      <td>428158.146640</td>\n",
              "      <td>58693.226508</td>\n",
              "    </tr>\n",
              "    <tr>\n",
              "      <th>4857374</th>\n",
              "      <td>1617148680</td>\n",
              "      <td>58693.43</td>\n",
              "      <td>58723.84</td>\n",
              "      <td>58693.43</td>\n",
              "      <td>58723.84</td>\n",
              "      <td>1.705682</td>\n",
              "      <td>100117.070370</td>\n",
              "      <td>58696.198496</td>\n",
              "    </tr>\n",
              "    <tr>\n",
              "      <th>4857375</th>\n",
              "      <td>1617148740</td>\n",
              "      <td>58742.18</td>\n",
              "      <td>58770.38</td>\n",
              "      <td>58742.18</td>\n",
              "      <td>58760.59</td>\n",
              "      <td>0.720415</td>\n",
              "      <td>42332.958633</td>\n",
              "      <td>58761.866202</td>\n",
              "    </tr>\n",
              "    <tr>\n",
              "      <th>4857376</th>\n",
              "      <td>1617148800</td>\n",
              "      <td>58767.75</td>\n",
              "      <td>58778.18</td>\n",
              "      <td>58755.97</td>\n",
              "      <td>58778.18</td>\n",
              "      <td>2.712831</td>\n",
              "      <td>159417.751000</td>\n",
              "      <td>58764.349363</td>\n",
              "    </tr>\n",
              "  </tbody>\n",
              "</table>\n",
              "<p>4857377 rows × 8 columns</p>\n",
              "</div>"
            ],
            "text/plain": [
              "          Timestamp      Open  ...  Volume_(Currency)  Weighted_Price\n",
              "0        1325317920      4.39  ...           2.000000        4.390000\n",
              "1        1325317980       NaN  ...                NaN             NaN\n",
              "2        1325318040       NaN  ...                NaN             NaN\n",
              "3        1325318100       NaN  ...                NaN             NaN\n",
              "4        1325318160       NaN  ...                NaN             NaN\n",
              "...             ...       ...  ...                ...             ...\n",
              "4857372  1617148560  58714.31  ...       81259.372187    58692.753339\n",
              "4857373  1617148620  58683.97  ...      428158.146640    58693.226508\n",
              "4857374  1617148680  58693.43  ...      100117.070370    58696.198496\n",
              "4857375  1617148740  58742.18  ...       42332.958633    58761.866202\n",
              "4857376  1617148800  58767.75  ...      159417.751000    58764.349363\n",
              "\n",
              "[4857377 rows x 8 columns]"
            ]
          },
          "metadata": {
            "tags": []
          },
          "execution_count": 251
        }
      ]
    },
    {
      "cell_type": "code",
      "metadata": {
        "colab": {
          "base_uri": "https://localhost:8080/",
          "height": 141
        },
        "id": "neNfZC0W2mMx",
        "outputId": "bfa89d21-b2c0-48ec-a1f8-49cc759d2a52"
      },
      "source": [
        "# Izracunavanje datuma\n",
        "\n",
        "# Kako je Timestamp broj sekundi izmedju\n",
        "# odredjenog datuma i 1. januara 1970 (UTC),\n",
        "# radi citljivosti, u narednom kodu je\n",
        "# Timestamp preveden u datum\n",
        "\n",
        "data['Date'] = pd.to_datetime(data['Timestamp'], unit='s').dt.date # samo datum (bez vremena)\n",
        "data.head(3)"
      ],
      "execution_count": null,
      "outputs": [
        {
          "output_type": "execute_result",
          "data": {
            "text/html": [
              "<div>\n",
              "<style scoped>\n",
              "    .dataframe tbody tr th:only-of-type {\n",
              "        vertical-align: middle;\n",
              "    }\n",
              "\n",
              "    .dataframe tbody tr th {\n",
              "        vertical-align: top;\n",
              "    }\n",
              "\n",
              "    .dataframe thead th {\n",
              "        text-align: right;\n",
              "    }\n",
              "</style>\n",
              "<table border=\"1\" class=\"dataframe\">\n",
              "  <thead>\n",
              "    <tr style=\"text-align: right;\">\n",
              "      <th></th>\n",
              "      <th>Timestamp</th>\n",
              "      <th>Open</th>\n",
              "      <th>High</th>\n",
              "      <th>Low</th>\n",
              "      <th>Close</th>\n",
              "      <th>Volume_(BTC)</th>\n",
              "      <th>Volume_(Currency)</th>\n",
              "      <th>Weighted_Price</th>\n",
              "      <th>Date</th>\n",
              "    </tr>\n",
              "  </thead>\n",
              "  <tbody>\n",
              "    <tr>\n",
              "      <th>0</th>\n",
              "      <td>1325317920</td>\n",
              "      <td>4.39</td>\n",
              "      <td>4.39</td>\n",
              "      <td>4.39</td>\n",
              "      <td>4.39</td>\n",
              "      <td>0.455581</td>\n",
              "      <td>2.0</td>\n",
              "      <td>4.39</td>\n",
              "      <td>2011-12-31</td>\n",
              "    </tr>\n",
              "    <tr>\n",
              "      <th>1</th>\n",
              "      <td>1325317980</td>\n",
              "      <td>NaN</td>\n",
              "      <td>NaN</td>\n",
              "      <td>NaN</td>\n",
              "      <td>NaN</td>\n",
              "      <td>NaN</td>\n",
              "      <td>NaN</td>\n",
              "      <td>NaN</td>\n",
              "      <td>2011-12-31</td>\n",
              "    </tr>\n",
              "    <tr>\n",
              "      <th>2</th>\n",
              "      <td>1325318040</td>\n",
              "      <td>NaN</td>\n",
              "      <td>NaN</td>\n",
              "      <td>NaN</td>\n",
              "      <td>NaN</td>\n",
              "      <td>NaN</td>\n",
              "      <td>NaN</td>\n",
              "      <td>NaN</td>\n",
              "      <td>2011-12-31</td>\n",
              "    </tr>\n",
              "  </tbody>\n",
              "</table>\n",
              "</div>"
            ],
            "text/plain": [
              "    Timestamp  Open  High  ...  Volume_(Currency)  Weighted_Price        Date\n",
              "0  1325317920  4.39  4.39  ...                2.0            4.39  2011-12-31\n",
              "1  1325317980   NaN   NaN  ...                NaN             NaN  2011-12-31\n",
              "2  1325318040   NaN   NaN  ...                NaN             NaN  2011-12-31\n",
              "\n",
              "[3 rows x 9 columns]"
            ]
          },
          "metadata": {
            "tags": []
          },
          "execution_count": 252
        }
      ]
    },
    {
      "cell_type": "markdown",
      "metadata": {
        "id": "AnUuMmcjXE9l"
      },
      "source": [
        "Vise istih datuma - u nastavku ce biti izracunata srednja vrednost cene za svaki datum"
      ]
    },
    {
      "cell_type": "code",
      "metadata": {
        "colab": {
          "base_uri": "https://localhost:8080/",
          "height": 609
        },
        "id": "OFjYdbfBDaXo",
        "outputId": "e0d661fd-3912-4127-c014-6e491b86ea1e"
      },
      "source": [
        "group = data.groupby('Date')\n",
        "data"
      ],
      "execution_count": null,
      "outputs": [
        {
          "output_type": "execute_result",
          "data": {
            "text/html": [
              "<div>\n",
              "<style scoped>\n",
              "    .dataframe tbody tr th:only-of-type {\n",
              "        vertical-align: middle;\n",
              "    }\n",
              "\n",
              "    .dataframe tbody tr th {\n",
              "        vertical-align: top;\n",
              "    }\n",
              "\n",
              "    .dataframe thead th {\n",
              "        text-align: right;\n",
              "    }\n",
              "</style>\n",
              "<table border=\"1\" class=\"dataframe\">\n",
              "  <thead>\n",
              "    <tr style=\"text-align: right;\">\n",
              "      <th></th>\n",
              "      <th>Timestamp</th>\n",
              "      <th>Open</th>\n",
              "      <th>High</th>\n",
              "      <th>Low</th>\n",
              "      <th>Close</th>\n",
              "      <th>Volume_(BTC)</th>\n",
              "      <th>Volume_(Currency)</th>\n",
              "      <th>Weighted_Price</th>\n",
              "      <th>Date</th>\n",
              "    </tr>\n",
              "  </thead>\n",
              "  <tbody>\n",
              "    <tr>\n",
              "      <th>0</th>\n",
              "      <td>1325317920</td>\n",
              "      <td>4.39</td>\n",
              "      <td>4.39</td>\n",
              "      <td>4.39</td>\n",
              "      <td>4.39</td>\n",
              "      <td>0.455581</td>\n",
              "      <td>2.000000</td>\n",
              "      <td>4.390000</td>\n",
              "      <td>2011-12-31</td>\n",
              "    </tr>\n",
              "    <tr>\n",
              "      <th>1</th>\n",
              "      <td>1325317980</td>\n",
              "      <td>NaN</td>\n",
              "      <td>NaN</td>\n",
              "      <td>NaN</td>\n",
              "      <td>NaN</td>\n",
              "      <td>NaN</td>\n",
              "      <td>NaN</td>\n",
              "      <td>NaN</td>\n",
              "      <td>2011-12-31</td>\n",
              "    </tr>\n",
              "    <tr>\n",
              "      <th>2</th>\n",
              "      <td>1325318040</td>\n",
              "      <td>NaN</td>\n",
              "      <td>NaN</td>\n",
              "      <td>NaN</td>\n",
              "      <td>NaN</td>\n",
              "      <td>NaN</td>\n",
              "      <td>NaN</td>\n",
              "      <td>NaN</td>\n",
              "      <td>2011-12-31</td>\n",
              "    </tr>\n",
              "    <tr>\n",
              "      <th>3</th>\n",
              "      <td>1325318100</td>\n",
              "      <td>NaN</td>\n",
              "      <td>NaN</td>\n",
              "      <td>NaN</td>\n",
              "      <td>NaN</td>\n",
              "      <td>NaN</td>\n",
              "      <td>NaN</td>\n",
              "      <td>NaN</td>\n",
              "      <td>2011-12-31</td>\n",
              "    </tr>\n",
              "    <tr>\n",
              "      <th>4</th>\n",
              "      <td>1325318160</td>\n",
              "      <td>NaN</td>\n",
              "      <td>NaN</td>\n",
              "      <td>NaN</td>\n",
              "      <td>NaN</td>\n",
              "      <td>NaN</td>\n",
              "      <td>NaN</td>\n",
              "      <td>NaN</td>\n",
              "      <td>2011-12-31</td>\n",
              "    </tr>\n",
              "    <tr>\n",
              "      <th>...</th>\n",
              "      <td>...</td>\n",
              "      <td>...</td>\n",
              "      <td>...</td>\n",
              "      <td>...</td>\n",
              "      <td>...</td>\n",
              "      <td>...</td>\n",
              "      <td>...</td>\n",
              "      <td>...</td>\n",
              "      <td>...</td>\n",
              "    </tr>\n",
              "    <tr>\n",
              "      <th>4857372</th>\n",
              "      <td>1617148560</td>\n",
              "      <td>58714.31</td>\n",
              "      <td>58714.31</td>\n",
              "      <td>58686.00</td>\n",
              "      <td>58686.00</td>\n",
              "      <td>1.384487</td>\n",
              "      <td>81259.372187</td>\n",
              "      <td>58692.753339</td>\n",
              "      <td>2021-03-30</td>\n",
              "    </tr>\n",
              "    <tr>\n",
              "      <th>4857373</th>\n",
              "      <td>1617148620</td>\n",
              "      <td>58683.97</td>\n",
              "      <td>58693.43</td>\n",
              "      <td>58683.97</td>\n",
              "      <td>58685.81</td>\n",
              "      <td>7.294848</td>\n",
              "      <td>428158.146640</td>\n",
              "      <td>58693.226508</td>\n",
              "      <td>2021-03-30</td>\n",
              "    </tr>\n",
              "    <tr>\n",
              "      <th>4857374</th>\n",
              "      <td>1617148680</td>\n",
              "      <td>58693.43</td>\n",
              "      <td>58723.84</td>\n",
              "      <td>58693.43</td>\n",
              "      <td>58723.84</td>\n",
              "      <td>1.705682</td>\n",
              "      <td>100117.070370</td>\n",
              "      <td>58696.198496</td>\n",
              "      <td>2021-03-30</td>\n",
              "    </tr>\n",
              "    <tr>\n",
              "      <th>4857375</th>\n",
              "      <td>1617148740</td>\n",
              "      <td>58742.18</td>\n",
              "      <td>58770.38</td>\n",
              "      <td>58742.18</td>\n",
              "      <td>58760.59</td>\n",
              "      <td>0.720415</td>\n",
              "      <td>42332.958633</td>\n",
              "      <td>58761.866202</td>\n",
              "      <td>2021-03-30</td>\n",
              "    </tr>\n",
              "    <tr>\n",
              "      <th>4857376</th>\n",
              "      <td>1617148800</td>\n",
              "      <td>58767.75</td>\n",
              "      <td>58778.18</td>\n",
              "      <td>58755.97</td>\n",
              "      <td>58778.18</td>\n",
              "      <td>2.712831</td>\n",
              "      <td>159417.751000</td>\n",
              "      <td>58764.349363</td>\n",
              "      <td>2021-03-31</td>\n",
              "    </tr>\n",
              "  </tbody>\n",
              "</table>\n",
              "<p>4857377 rows × 9 columns</p>\n",
              "</div>"
            ],
            "text/plain": [
              "          Timestamp      Open  ...  Weighted_Price        Date\n",
              "0        1325317920      4.39  ...        4.390000  2011-12-31\n",
              "1        1325317980       NaN  ...             NaN  2011-12-31\n",
              "2        1325318040       NaN  ...             NaN  2011-12-31\n",
              "3        1325318100       NaN  ...             NaN  2011-12-31\n",
              "4        1325318160       NaN  ...             NaN  2011-12-31\n",
              "...             ...       ...  ...             ...         ...\n",
              "4857372  1617148560  58714.31  ...    58692.753339  2021-03-30\n",
              "4857373  1617148620  58683.97  ...    58693.226508  2021-03-30\n",
              "4857374  1617148680  58693.43  ...    58696.198496  2021-03-30\n",
              "4857375  1617148740  58742.18  ...    58761.866202  2021-03-30\n",
              "4857376  1617148800  58767.75  ...    58764.349363  2021-03-31\n",
              "\n",
              "[4857377 rows x 9 columns]"
            ]
          },
          "metadata": {
            "tags": []
          },
          "execution_count": 253
        }
      ]
    },
    {
      "cell_type": "code",
      "metadata": {
        "colab": {
          "base_uri": "https://localhost:8080/"
        },
        "id": "l2LpugCd2AGw",
        "outputId": "704e2685-c421-4313-96f1-7ea6fde51aae"
      },
      "source": [
        "mean_price = group['Weighted_Price'].mean()\n",
        "mean_price"
      ],
      "execution_count": null,
      "outputs": [
        {
          "output_type": "execute_result",
          "data": {
            "text/plain": [
              "Date\n",
              "2011-12-31        4.471603\n",
              "2012-01-01        4.806667\n",
              "2012-01-02        5.000000\n",
              "2012-01-03        5.252500\n",
              "2012-01-04        5.208159\n",
              "                  ...     \n",
              "2021-03-27    55193.357260\n",
              "2021-03-28    55832.958824\n",
              "2021-03-29    56913.993819\n",
              "2021-03-30    58346.912268\n",
              "2021-03-31    58764.349363\n",
              "Name: Weighted_Price, Length: 3376, dtype: float64"
            ]
          },
          "metadata": {
            "tags": []
          },
          "execution_count": 254
        }
      ]
    },
    {
      "cell_type": "code",
      "metadata": {
        "id": "San0g6k11YuN"
      },
      "source": [
        "# Podela podataka na trening i test\n",
        "# mean_price - prosecna cena po danima\n",
        "# Skupovi za trening i test su odatle izvedeni\n",
        "# Predvidjanje se vrsi za poslednjih prediction_days dana\n",
        "\n",
        "prediction_days = 60\n",
        "\n",
        "train = mean_price[:len(mean_price)-prediction_days]\n",
        "test = mean_price[len(mean_price)-prediction_days:]"
      ],
      "execution_count": null,
      "outputs": []
    },
    {
      "cell_type": "code",
      "metadata": {
        "colab": {
          "base_uri": "https://localhost:8080/"
        },
        "id": "0-pRvMN1as4A",
        "outputId": "d5311b78-a2d3-4eb4-df97-a034e6738d5a"
      },
      "source": [
        "train.head(3)"
      ],
      "execution_count": null,
      "outputs": [
        {
          "output_type": "execute_result",
          "data": {
            "text/plain": [
              "Date\n",
              "2011-12-31    4.471603\n",
              "2012-01-01    4.806667\n",
              "2012-01-02    5.000000\n",
              "Name: Weighted_Price, dtype: float64"
            ]
          },
          "metadata": {
            "tags": []
          },
          "execution_count": 256
        }
      ]
    },
    {
      "cell_type": "code",
      "metadata": {
        "colab": {
          "base_uri": "https://localhost:8080/"
        },
        "id": "nAzeoVs3cv8Q",
        "outputId": "27d291f9-9d62-4d38-80a5-f2a17d579305"
      },
      "source": [
        "train.values"
      ],
      "execution_count": null,
      "outputs": [
        {
          "output_type": "execute_result",
          "data": {
            "text/plain": [
              "array([4.47160287e+00, 4.80666667e+00, 5.00000000e+00, ...,\n",
              "       4.71302081e+04, 4.48184476e+04, 4.76415369e+04])"
            ]
          },
          "metadata": {
            "tags": []
          },
          "execution_count": 257
        }
      ]
    },
    {
      "cell_type": "markdown",
      "metadata": {
        "id": "qNoyNrtwd0mR"
      },
      "source": [
        "### **Pretprocesiranje podataka**"
      ]
    },
    {
      "cell_type": "code",
      "metadata": {
        "colab": {
          "base_uri": "https://localhost:8080/"
        },
        "id": "_4DSPKkCc22G",
        "outputId": "a942b2ec-05ce-4c8d-c1b4-0b916a1b45a0"
      },
      "source": [
        "training_set = train.values\n",
        "training_set"
      ],
      "execution_count": null,
      "outputs": [
        {
          "output_type": "execute_result",
          "data": {
            "text/plain": [
              "array([4.47160287e+00, 4.80666667e+00, 5.00000000e+00, ...,\n",
              "       4.71302081e+04, 4.48184476e+04, 4.76415369e+04])"
            ]
          },
          "metadata": {
            "tags": []
          },
          "execution_count": 258
        }
      ]
    },
    {
      "cell_type": "code",
      "metadata": {
        "colab": {
          "base_uri": "https://localhost:8080/"
        },
        "id": "dyohP6TPc3Xq",
        "outputId": "0bb64d97-df7e-4fb1-841b-fd6c4cf516c0"
      },
      "source": [
        "training_set = np.reshape(training_set, (len(training_set), 1))\n",
        "training_set"
      ],
      "execution_count": null,
      "outputs": [
        {
          "output_type": "execute_result",
          "data": {
            "text/plain": [
              "array([[4.47160287e+00],\n",
              "       [4.80666667e+00],\n",
              "       [5.00000000e+00],\n",
              "       ...,\n",
              "       [4.71302081e+04],\n",
              "       [4.48184476e+04],\n",
              "       [4.76415369e+04]])"
            ]
          },
          "metadata": {
            "tags": []
          },
          "execution_count": 259
        }
      ]
    },
    {
      "cell_type": "code",
      "metadata": {
        "id": "PLtuLetM1Zim",
        "colab": {
          "base_uri": "https://localhost:8080/"
        },
        "outputId": "61452278-d0ab-47f0-a239-90d0e2cea15c"
      },
      "source": [
        "# Skaliranje podataka\n",
        "\n",
        "scaler = MinMaxScaler()\n",
        "training_set = scaler.fit_transform(training_set)\n",
        "\n",
        "X_train = training_set[0:len(training_set)-1]\n",
        "y_train = training_set[1:len(training_set)]\n",
        "\n",
        "X_train = np.reshape(X_train, (len(X_train), 1, 1))\n",
        "\n",
        "print('X_train:\\n', X_train)\n",
        "print('\\n')\n",
        "print('y_train:\\n', y_train)"
      ],
      "execution_count": null,
      "outputs": [
        {
          "output_type": "stream",
          "text": [
            "X_train:\n",
            " [[[2.45345037e-06]]\n",
            "\n",
            " [[8.32800133e-06]]\n",
            "\n",
            " [[1.17176440e-05]]\n",
            "\n",
            " ...\n",
            "\n",
            " [[8.17925242e-01]]\n",
            "\n",
            " [[8.26240760e-01]]\n",
            "\n",
            " [[7.85709509e-01]]]\n",
            "\n",
            "\n",
            "y_train:\n",
            " [[8.32800133e-06]\n",
            " [1.17176440e-05]\n",
            " [1.61446342e-05]\n",
            " ...\n",
            " [8.26240760e-01]\n",
            " [7.85709509e-01]\n",
            " [8.35205702e-01]]\n"
          ],
          "name": "stdout"
        }
      ]
    },
    {
      "cell_type": "markdown",
      "metadata": {
        "id": "5xb-ZEzxaRLv"
      },
      "source": [
        "# **Kreiranje i treniranje mreže**"
      ]
    },
    {
      "cell_type": "markdown",
      "metadata": {
        "id": "dKsDSBy-lzfN"
      },
      "source": [
        "### **Kreiranje i treniranje prvog modela mreže**"
      ]
    },
    {
      "cell_type": "code",
      "metadata": {
        "id": "OJJ1HReH10jI",
        "colab": {
          "base_uri": "https://localhost:8080/"
        },
        "outputId": "2e0e45fc-dbde-487d-fdc6-38ec8c60b9de"
      },
      "source": [
        "# Inicijalizacija RNN\n",
        "model = Sequential()\n",
        "\n",
        "# Dodavanje input i LSTM sloja\n",
        "model.add(LSTM(units = 4, activation = 'sigmoid', input_shape = (None, 1)))\n",
        "\n",
        "# Dodavanje izlaznog sloja\n",
        "model.add(Dense(units = 1))\n",
        "\n",
        "# Arhitektura mreze\n",
        "model.summary()"
      ],
      "execution_count": null,
      "outputs": [
        {
          "output_type": "stream",
          "text": [
            "Model: \"sequential_23\"\n",
            "_________________________________________________________________\n",
            "Layer (type)                 Output Shape              Param #   \n",
            "=================================================================\n",
            "lstm_71 (LSTM)               (None, 4)                 96        \n",
            "_________________________________________________________________\n",
            "dense_18 (Dense)             (None, 1)                 5         \n",
            "=================================================================\n",
            "Total params: 101\n",
            "Trainable params: 101\n",
            "Non-trainable params: 0\n",
            "_________________________________________________________________\n"
          ],
          "name": "stdout"
        }
      ]
    },
    {
      "cell_type": "code",
      "metadata": {
        "colab": {
          "base_uri": "https://localhost:8080/"
        },
        "id": "99DFza5xa-YY",
        "outputId": "3bae661d-bb5a-4896-d93a-1da57fb1b084"
      },
      "source": [
        "# Kompilacija RNN\n",
        "model.compile(optimizer = 'adam', loss = 'mean_squared_error', metrics=['accuracy', 'mae'])\n",
        "\n",
        "# Treniranje RNN na trening skupu\n",
        "history = model.fit(X_train, y_train, batch_size = 1, epochs = 100, validation_split = 0.1, verbose = 2)"
      ],
      "execution_count": null,
      "outputs": [
        {
          "output_type": "stream",
          "text": [
            "Epoch 1/100\n",
            "3010/3010 - 5s - loss: 0.0036 - accuracy: 3.3223e-04 - val_loss: 0.0638 - val_accuracy: 0.0000e+00\n",
            "Epoch 2/100\n",
            "3010/3010 - 3s - loss: 0.0014 - accuracy: 3.3223e-04 - val_loss: 0.0145 - val_accuracy: 0.0030\n",
            "Epoch 3/100\n",
            "3010/3010 - 3s - loss: 9.1075e-05 - accuracy: 3.3223e-04 - val_loss: 0.0033 - val_accuracy: 0.0030\n",
            "Epoch 4/100\n",
            "3010/3010 - 3s - loss: 1.3922e-05 - accuracy: 3.3223e-04 - val_loss: 0.0033 - val_accuracy: 0.0030\n",
            "Epoch 5/100\n",
            "3010/3010 - 2s - loss: 1.5089e-05 - accuracy: 3.3223e-04 - val_loss: 0.0033 - val_accuracy: 0.0030\n",
            "Epoch 6/100\n",
            "3010/3010 - 3s - loss: 1.5300e-05 - accuracy: 3.3223e-04 - val_loss: 0.0035 - val_accuracy: 0.0030\n",
            "Epoch 7/100\n",
            "3010/3010 - 3s - loss: 1.5812e-05 - accuracy: 3.3223e-04 - val_loss: 0.0032 - val_accuracy: 0.0030\n",
            "Epoch 8/100\n",
            "3010/3010 - 2s - loss: 1.5106e-05 - accuracy: 3.3223e-04 - val_loss: 0.0033 - val_accuracy: 0.0030\n",
            "Epoch 9/100\n",
            "3010/3010 - 3s - loss: 1.5874e-05 - accuracy: 3.3223e-04 - val_loss: 0.0033 - val_accuracy: 0.0030\n",
            "Epoch 10/100\n",
            "3010/3010 - 3s - loss: 1.4930e-05 - accuracy: 3.3223e-04 - val_loss: 0.0036 - val_accuracy: 0.0030\n",
            "Epoch 11/100\n",
            "3010/3010 - 3s - loss: 1.5498e-05 - accuracy: 3.3223e-04 - val_loss: 0.0037 - val_accuracy: 0.0030\n",
            "Epoch 12/100\n",
            "3010/3010 - 3s - loss: 1.5013e-05 - accuracy: 3.3223e-04 - val_loss: 0.0032 - val_accuracy: 0.0030\n",
            "Epoch 13/100\n",
            "3010/3010 - 3s - loss: 1.5097e-05 - accuracy: 3.3223e-04 - val_loss: 0.0035 - val_accuracy: 0.0030\n",
            "Epoch 14/100\n",
            "3010/3010 - 3s - loss: 1.4870e-05 - accuracy: 3.3223e-04 - val_loss: 0.0033 - val_accuracy: 0.0030\n",
            "Epoch 15/100\n",
            "3010/3010 - 2s - loss: 1.5730e-05 - accuracy: 3.3223e-04 - val_loss: 0.0033 - val_accuracy: 0.0030\n",
            "Epoch 16/100\n",
            "3010/3010 - 3s - loss: 1.5119e-05 - accuracy: 3.3223e-04 - val_loss: 0.0033 - val_accuracy: 0.0030\n",
            "Epoch 17/100\n",
            "3010/3010 - 3s - loss: 1.5047e-05 - accuracy: 3.3223e-04 - val_loss: 0.0033 - val_accuracy: 0.0030\n",
            "Epoch 18/100\n",
            "3010/3010 - 3s - loss: 1.5112e-05 - accuracy: 3.3223e-04 - val_loss: 0.0035 - val_accuracy: 0.0030\n",
            "Epoch 19/100\n",
            "3010/3010 - 3s - loss: 1.5240e-05 - accuracy: 3.3223e-04 - val_loss: 0.0034 - val_accuracy: 0.0030\n",
            "Epoch 20/100\n",
            "3010/3010 - 3s - loss: 1.4873e-05 - accuracy: 3.3223e-04 - val_loss: 0.0029 - val_accuracy: 0.0030\n",
            "Epoch 21/100\n",
            "3010/3010 - 3s - loss: 1.5565e-05 - accuracy: 3.3223e-04 - val_loss: 0.0032 - val_accuracy: 0.0030\n",
            "Epoch 22/100\n",
            "3010/3010 - 3s - loss: 1.5146e-05 - accuracy: 3.3223e-04 - val_loss: 0.0033 - val_accuracy: 0.0030\n",
            "Epoch 23/100\n",
            "3010/3010 - 3s - loss: 1.5729e-05 - accuracy: 3.3223e-04 - val_loss: 0.0033 - val_accuracy: 0.0030\n",
            "Epoch 24/100\n",
            "3010/3010 - 3s - loss: 1.4819e-05 - accuracy: 3.3223e-04 - val_loss: 0.0032 - val_accuracy: 0.0030\n",
            "Epoch 25/100\n",
            "3010/3010 - 3s - loss: 1.5711e-05 - accuracy: 3.3223e-04 - val_loss: 0.0033 - val_accuracy: 0.0030\n",
            "Epoch 26/100\n",
            "3010/3010 - 3s - loss: 1.4820e-05 - accuracy: 3.3223e-04 - val_loss: 0.0032 - val_accuracy: 0.0030\n",
            "Epoch 27/100\n",
            "3010/3010 - 2s - loss: 1.4672e-05 - accuracy: 3.3223e-04 - val_loss: 0.0036 - val_accuracy: 0.0030\n",
            "Epoch 28/100\n",
            "3010/3010 - 2s - loss: 1.5288e-05 - accuracy: 3.3223e-04 - val_loss: 0.0038 - val_accuracy: 0.0030\n",
            "Epoch 29/100\n",
            "3010/3010 - 3s - loss: 1.5278e-05 - accuracy: 3.3223e-04 - val_loss: 0.0034 - val_accuracy: 0.0030\n",
            "Epoch 30/100\n",
            "3010/3010 - 3s - loss: 1.4941e-05 - accuracy: 3.3223e-04 - val_loss: 0.0032 - val_accuracy: 0.0030\n",
            "Epoch 31/100\n",
            "3010/3010 - 3s - loss: 1.4996e-05 - accuracy: 3.3223e-04 - val_loss: 0.0033 - val_accuracy: 0.0030\n",
            "Epoch 32/100\n",
            "3010/3010 - 3s - loss: 1.5873e-05 - accuracy: 3.3223e-04 - val_loss: 0.0035 - val_accuracy: 0.0030\n",
            "Epoch 33/100\n",
            "3010/3010 - 3s - loss: 1.5171e-05 - accuracy: 3.3223e-04 - val_loss: 0.0033 - val_accuracy: 0.0030\n",
            "Epoch 34/100\n",
            "3010/3010 - 3s - loss: 1.5639e-05 - accuracy: 3.3223e-04 - val_loss: 0.0034 - val_accuracy: 0.0030\n",
            "Epoch 35/100\n",
            "3010/3010 - 3s - loss: 1.4899e-05 - accuracy: 3.3223e-04 - val_loss: 0.0031 - val_accuracy: 0.0030\n",
            "Epoch 36/100\n",
            "3010/3010 - 3s - loss: 1.5172e-05 - accuracy: 3.3223e-04 - val_loss: 0.0032 - val_accuracy: 0.0030\n",
            "Epoch 37/100\n",
            "3010/3010 - 3s - loss: 1.5242e-05 - accuracy: 3.3223e-04 - val_loss: 0.0033 - val_accuracy: 0.0030\n",
            "Epoch 38/100\n",
            "3010/3010 - 3s - loss: 1.5039e-05 - accuracy: 3.3223e-04 - val_loss: 0.0037 - val_accuracy: 0.0030\n",
            "Epoch 39/100\n",
            "3010/3010 - 3s - loss: 1.5138e-05 - accuracy: 3.3223e-04 - val_loss: 0.0035 - val_accuracy: 0.0030\n",
            "Epoch 40/100\n",
            "3010/3010 - 3s - loss: 1.4680e-05 - accuracy: 3.3223e-04 - val_loss: 0.0032 - val_accuracy: 0.0030\n",
            "Epoch 41/100\n",
            "3010/3010 - 3s - loss: 1.5269e-05 - accuracy: 3.3223e-04 - val_loss: 0.0035 - val_accuracy: 0.0030\n",
            "Epoch 42/100\n",
            "3010/3010 - 3s - loss: 1.5421e-05 - accuracy: 3.3223e-04 - val_loss: 0.0036 - val_accuracy: 0.0030\n",
            "Epoch 43/100\n",
            "3010/3010 - 3s - loss: 1.4896e-05 - accuracy: 3.3223e-04 - val_loss: 0.0035 - val_accuracy: 0.0030\n",
            "Epoch 44/100\n",
            "3010/3010 - 3s - loss: 1.5217e-05 - accuracy: 3.3223e-04 - val_loss: 0.0035 - val_accuracy: 0.0030\n",
            "Epoch 45/100\n",
            "3010/3010 - 3s - loss: 1.4832e-05 - accuracy: 3.3223e-04 - val_loss: 0.0036 - val_accuracy: 0.0030\n",
            "Epoch 46/100\n",
            "3010/3010 - 3s - loss: 1.4910e-05 - accuracy: 3.3223e-04 - val_loss: 0.0036 - val_accuracy: 0.0030\n",
            "Epoch 47/100\n",
            "3010/3010 - 3s - loss: 1.4519e-05 - accuracy: 3.3223e-04 - val_loss: 0.0034 - val_accuracy: 0.0030\n",
            "Epoch 48/100\n",
            "3010/3010 - 3s - loss: 1.5413e-05 - accuracy: 3.3223e-04 - val_loss: 0.0033 - val_accuracy: 0.0030\n",
            "Epoch 49/100\n",
            "3010/3010 - 3s - loss: 1.4804e-05 - accuracy: 3.3223e-04 - val_loss: 0.0035 - val_accuracy: 0.0030\n",
            "Epoch 50/100\n",
            "3010/3010 - 3s - loss: 1.4956e-05 - accuracy: 3.3223e-04 - val_loss: 0.0036 - val_accuracy: 0.0030\n",
            "Epoch 51/100\n",
            "3010/3010 - 3s - loss: 1.4453e-05 - accuracy: 3.3223e-04 - val_loss: 0.0035 - val_accuracy: 0.0030\n",
            "Epoch 52/100\n",
            "3010/3010 - 3s - loss: 1.5177e-05 - accuracy: 3.3223e-04 - val_loss: 0.0036 - val_accuracy: 0.0030\n",
            "Epoch 53/100\n",
            "3010/3010 - 3s - loss: 1.5014e-05 - accuracy: 3.3223e-04 - val_loss: 0.0035 - val_accuracy: 0.0030\n",
            "Epoch 54/100\n",
            "3010/3010 - 3s - loss: 1.5062e-05 - accuracy: 3.3223e-04 - val_loss: 0.0036 - val_accuracy: 0.0030\n",
            "Epoch 55/100\n",
            "3010/3010 - 3s - loss: 1.4906e-05 - accuracy: 3.3223e-04 - val_loss: 0.0035 - val_accuracy: 0.0030\n",
            "Epoch 56/100\n",
            "3010/3010 - 3s - loss: 1.4726e-05 - accuracy: 3.3223e-04 - val_loss: 0.0038 - val_accuracy: 0.0030\n",
            "Epoch 57/100\n",
            "3010/3010 - 3s - loss: 1.5177e-05 - accuracy: 3.3223e-04 - val_loss: 0.0039 - val_accuracy: 0.0030\n",
            "Epoch 58/100\n",
            "3010/3010 - 3s - loss: 1.4888e-05 - accuracy: 3.3223e-04 - val_loss: 0.0034 - val_accuracy: 0.0030\n",
            "Epoch 59/100\n",
            "3010/3010 - 3s - loss: 1.4958e-05 - accuracy: 3.3223e-04 - val_loss: 0.0036 - val_accuracy: 0.0030\n",
            "Epoch 60/100\n",
            "3010/3010 - 3s - loss: 1.4956e-05 - accuracy: 3.3223e-04 - val_loss: 0.0035 - val_accuracy: 0.0030\n",
            "Epoch 61/100\n",
            "3010/3010 - 3s - loss: 1.4700e-05 - accuracy: 3.3223e-04 - val_loss: 0.0034 - val_accuracy: 0.0030\n",
            "Epoch 62/100\n",
            "3010/3010 - 3s - loss: 1.4730e-05 - accuracy: 3.3223e-04 - val_loss: 0.0033 - val_accuracy: 0.0030\n",
            "Epoch 63/100\n",
            "3010/3010 - 3s - loss: 1.5286e-05 - accuracy: 3.3223e-04 - val_loss: 0.0038 - val_accuracy: 0.0030\n",
            "Epoch 64/100\n",
            "3010/3010 - 2s - loss: 1.4740e-05 - accuracy: 3.3223e-04 - val_loss: 0.0038 - val_accuracy: 0.0030\n",
            "Epoch 65/100\n",
            "3010/3010 - 3s - loss: 1.5066e-05 - accuracy: 3.3223e-04 - val_loss: 0.0033 - val_accuracy: 0.0030\n",
            "Epoch 66/100\n",
            "3010/3010 - 3s - loss: 1.5127e-05 - accuracy: 3.3223e-04 - val_loss: 0.0033 - val_accuracy: 0.0030\n",
            "Epoch 67/100\n",
            "3010/3010 - 2s - loss: 1.4553e-05 - accuracy: 3.3223e-04 - val_loss: 0.0033 - val_accuracy: 0.0030\n",
            "Epoch 68/100\n",
            "3010/3010 - 3s - loss: 1.4704e-05 - accuracy: 3.3223e-04 - val_loss: 0.0034 - val_accuracy: 0.0030\n",
            "Epoch 69/100\n",
            "3010/3010 - 3s - loss: 1.5136e-05 - accuracy: 3.3223e-04 - val_loss: 0.0035 - val_accuracy: 0.0030\n",
            "Epoch 70/100\n",
            "3010/3010 - 3s - loss: 1.5008e-05 - accuracy: 3.3223e-04 - val_loss: 0.0034 - val_accuracy: 0.0030\n",
            "Epoch 71/100\n",
            "3010/3010 - 3s - loss: 1.4646e-05 - accuracy: 3.3223e-04 - val_loss: 0.0038 - val_accuracy: 0.0030\n",
            "Epoch 72/100\n",
            "3010/3010 - 2s - loss: 1.5052e-05 - accuracy: 3.3223e-04 - val_loss: 0.0038 - val_accuracy: 0.0030\n",
            "Epoch 73/100\n",
            "3010/3010 - 3s - loss: 1.4684e-05 - accuracy: 3.3223e-04 - val_loss: 0.0037 - val_accuracy: 0.0030\n",
            "Epoch 74/100\n",
            "3010/3010 - 3s - loss: 1.4869e-05 - accuracy: 3.3223e-04 - val_loss: 0.0036 - val_accuracy: 0.0030\n",
            "Epoch 75/100\n",
            "3010/3010 - 3s - loss: 1.5052e-05 - accuracy: 3.3223e-04 - val_loss: 0.0037 - val_accuracy: 0.0030\n",
            "Epoch 76/100\n",
            "3010/3010 - 3s - loss: 1.4950e-05 - accuracy: 3.3223e-04 - val_loss: 0.0031 - val_accuracy: 0.0030\n",
            "Epoch 77/100\n",
            "3010/3010 - 3s - loss: 1.5023e-05 - accuracy: 3.3223e-04 - val_loss: 0.0034 - val_accuracy: 0.0030\n",
            "Epoch 78/100\n",
            "3010/3010 - 3s - loss: 1.5103e-05 - accuracy: 3.3223e-04 - val_loss: 0.0034 - val_accuracy: 0.0030\n",
            "Epoch 79/100\n",
            "3010/3010 - 3s - loss: 1.4448e-05 - accuracy: 3.3223e-04 - val_loss: 0.0036 - val_accuracy: 0.0030\n",
            "Epoch 80/100\n",
            "3010/3010 - 3s - loss: 1.5195e-05 - accuracy: 3.3223e-04 - val_loss: 0.0035 - val_accuracy: 0.0030\n",
            "Epoch 81/100\n",
            "3010/3010 - 3s - loss: 1.4465e-05 - accuracy: 3.3223e-04 - val_loss: 0.0035 - val_accuracy: 0.0030\n",
            "Epoch 82/100\n",
            "3010/3010 - 2s - loss: 1.5140e-05 - accuracy: 3.3223e-04 - val_loss: 0.0036 - val_accuracy: 0.0030\n",
            "Epoch 83/100\n",
            "3010/3010 - 3s - loss: 1.4816e-05 - accuracy: 3.3223e-04 - val_loss: 0.0035 - val_accuracy: 0.0030\n",
            "Epoch 84/100\n",
            "3010/3010 - 3s - loss: 1.4453e-05 - accuracy: 3.3223e-04 - val_loss: 0.0036 - val_accuracy: 0.0030\n",
            "Epoch 85/100\n",
            "3010/3010 - 3s - loss: 1.5182e-05 - accuracy: 3.3223e-04 - val_loss: 0.0037 - val_accuracy: 0.0030\n",
            "Epoch 86/100\n",
            "3010/3010 - 3s - loss: 1.5406e-05 - accuracy: 3.3223e-04 - val_loss: 0.0038 - val_accuracy: 0.0030\n",
            "Epoch 87/100\n",
            "3010/3010 - 3s - loss: 1.4854e-05 - accuracy: 3.3223e-04 - val_loss: 0.0034 - val_accuracy: 0.0030\n",
            "Epoch 88/100\n",
            "3010/3010 - 3s - loss: 1.4830e-05 - accuracy: 3.3223e-04 - val_loss: 0.0035 - val_accuracy: 0.0030\n",
            "Epoch 89/100\n",
            "3010/3010 - 3s - loss: 1.4907e-05 - accuracy: 3.3223e-04 - val_loss: 0.0036 - val_accuracy: 0.0030\n",
            "Epoch 90/100\n",
            "3010/3010 - 3s - loss: 1.4523e-05 - accuracy: 3.3223e-04 - val_loss: 0.0034 - val_accuracy: 0.0030\n",
            "Epoch 91/100\n",
            "3010/3010 - 3s - loss: 1.4753e-05 - accuracy: 3.3223e-04 - val_loss: 0.0034 - val_accuracy: 0.0030\n",
            "Epoch 92/100\n",
            "3010/3010 - 3s - loss: 1.4904e-05 - accuracy: 3.3223e-04 - val_loss: 0.0034 - val_accuracy: 0.0030\n",
            "Epoch 93/100\n",
            "3010/3010 - 3s - loss: 1.5224e-05 - accuracy: 3.3223e-04 - val_loss: 0.0037 - val_accuracy: 0.0030\n",
            "Epoch 94/100\n",
            "3010/3010 - 3s - loss: 1.4883e-05 - accuracy: 3.3223e-04 - val_loss: 0.0035 - val_accuracy: 0.0030\n",
            "Epoch 95/100\n",
            "3010/3010 - 3s - loss: 1.4734e-05 - accuracy: 3.3223e-04 - val_loss: 0.0033 - val_accuracy: 0.0030\n",
            "Epoch 96/100\n",
            "3010/3010 - 3s - loss: 1.4363e-05 - accuracy: 3.3223e-04 - val_loss: 0.0035 - val_accuracy: 0.0030\n",
            "Epoch 97/100\n",
            "3010/3010 - 3s - loss: 1.4733e-05 - accuracy: 3.3223e-04 - val_loss: 0.0035 - val_accuracy: 0.0030\n",
            "Epoch 98/100\n",
            "3010/3010 - 2s - loss: 1.4951e-05 - accuracy: 3.3223e-04 - val_loss: 0.0036 - val_accuracy: 0.0030\n",
            "Epoch 99/100\n",
            "3010/3010 - 3s - loss: 1.4754e-05 - accuracy: 3.3223e-04 - val_loss: 0.0036 - val_accuracy: 0.0030\n",
            "Epoch 100/100\n",
            "3010/3010 - 3s - loss: 1.4528e-05 - accuracy: 3.3223e-04 - val_loss: 0.0034 - val_accuracy: 0.0030\n"
          ],
          "name": "stdout"
        }
      ]
    },
    {
      "cell_type": "markdown",
      "metadata": {
        "id": "QF2laY7ff4RR"
      },
      "source": [
        "### **Kreiranje i treniranje drugog modela mreze**\n"
      ]
    },
    {
      "cell_type": "code",
      "metadata": {
        "colab": {
          "base_uri": "https://localhost:8080/"
        },
        "id": "HQur59lt0xwB",
        "outputId": "0a795b0e-e30d-4470-a402-57f699439f4e"
      },
      "source": [
        "# Inicijalizacija RNN\n",
        "model_2 = Sequential()\n",
        "\n",
        "# Dodavanje slojeva\n",
        "model_2.add(LSTM(units = 50, activation = 'relu', return_sequences = True, input_shape = (None, 1)))\n",
        "model_2.add(Dropout(0.2))\n",
        "model_2.add(LSTM(units = 60, activation = 'relu', return_sequences = True))\n",
        "model_2.add(Dropout(0.3))\n",
        "model_2.add(LSTM(units = 80, activation = 'relu', return_sequences = True))\n",
        "model_2.add(Dropout(0.4))\n",
        "model_2.add(LSTM(units = 120, activation = 'relu'))\n",
        "model_2.add(Dropout(0.5))\n",
        "model_2.add(Dense(units =1))\n",
        "\n",
        "# Arhitektura mreze\n",
        "model_2.summary()"
      ],
      "execution_count": null,
      "outputs": [
        {
          "output_type": "stream",
          "text": [
            "Model: \"sequential_24\"\n",
            "_________________________________________________________________\n",
            "Layer (type)                 Output Shape              Param #   \n",
            "=================================================================\n",
            "lstm_72 (LSTM)               (None, None, 50)          10400     \n",
            "_________________________________________________________________\n",
            "dropout_63 (Dropout)         (None, None, 50)          0         \n",
            "_________________________________________________________________\n",
            "lstm_73 (LSTM)               (None, None, 60)          26640     \n",
            "_________________________________________________________________\n",
            "dropout_64 (Dropout)         (None, None, 60)          0         \n",
            "_________________________________________________________________\n",
            "lstm_74 (LSTM)               (None, None, 80)          45120     \n",
            "_________________________________________________________________\n",
            "dropout_65 (Dropout)         (None, None, 80)          0         \n",
            "_________________________________________________________________\n",
            "lstm_75 (LSTM)               (None, 120)               96480     \n",
            "_________________________________________________________________\n",
            "dropout_66 (Dropout)         (None, 120)               0         \n",
            "_________________________________________________________________\n",
            "dense_19 (Dense)             (None, 1)                 121       \n",
            "=================================================================\n",
            "Total params: 178,761\n",
            "Trainable params: 178,761\n",
            "Non-trainable params: 0\n",
            "_________________________________________________________________\n"
          ],
          "name": "stdout"
        }
      ]
    },
    {
      "cell_type": "code",
      "metadata": {
        "colab": {
          "base_uri": "https://localhost:8080/"
        },
        "id": "7wAwTiofbC_x",
        "outputId": "88d06344-5062-4c97-a079-97b4f0278332"
      },
      "source": [
        "# Kompilacija RNN\n",
        "model_2.compile(optimizer = 'adam', loss = 'mean_squared_error', metrics=['accuracy', 'mae'])\n",
        "\n",
        "# Treniranje RNN na trening skupu\n",
        "history_2 = model_2.fit(X_train, y_train, batch_size = 20, epochs = 50, validation_split = 0.1, verbose = 2)"
      ],
      "execution_count": null,
      "outputs": [
        {
          "output_type": "stream",
          "text": [
            "Epoch 1/50\n",
            "151/151 - 8s - loss: 0.0043 - accuracy: 3.3223e-04 - val_loss: 0.1050 - val_accuracy: 0.0000e+00\n",
            "Epoch 2/50\n",
            "151/151 - 1s - loss: 0.0029 - accuracy: 3.3223e-04 - val_loss: 0.0131 - val_accuracy: 0.0030\n",
            "Epoch 3/50\n",
            "151/151 - 1s - loss: 4.9681e-04 - accuracy: 3.3223e-04 - val_loss: 0.0030 - val_accuracy: 0.0030\n",
            "Epoch 4/50\n",
            "151/151 - 1s - loss: 4.7945e-04 - accuracy: 3.3223e-04 - val_loss: 0.0077 - val_accuracy: 0.0030\n",
            "Epoch 5/50\n",
            "151/151 - 1s - loss: 4.6023e-04 - accuracy: 3.3223e-04 - val_loss: 0.0028 - val_accuracy: 0.0030\n",
            "Epoch 6/50\n",
            "151/151 - 1s - loss: 4.0209e-04 - accuracy: 3.3223e-04 - val_loss: 0.0085 - val_accuracy: 0.0030\n",
            "Epoch 7/50\n",
            "151/151 - 1s - loss: 3.6817e-04 - accuracy: 3.3223e-04 - val_loss: 0.0055 - val_accuracy: 0.0030\n",
            "Epoch 8/50\n",
            "151/151 - 1s - loss: 3.4737e-04 - accuracy: 3.3223e-04 - val_loss: 0.0126 - val_accuracy: 0.0030\n",
            "Epoch 9/50\n",
            "151/151 - 1s - loss: 3.6188e-04 - accuracy: 3.3223e-04 - val_loss: 0.0109 - val_accuracy: 0.0030\n",
            "Epoch 10/50\n",
            "151/151 - 1s - loss: 3.0583e-04 - accuracy: 3.3223e-04 - val_loss: 0.0105 - val_accuracy: 0.0030\n",
            "Epoch 11/50\n",
            "151/151 - 1s - loss: 3.2123e-04 - accuracy: 3.3223e-04 - val_loss: 0.0098 - val_accuracy: 0.0030\n",
            "Epoch 12/50\n",
            "151/151 - 1s - loss: 2.9391e-04 - accuracy: 3.3223e-04 - val_loss: 0.0093 - val_accuracy: 0.0030\n",
            "Epoch 13/50\n",
            "151/151 - 1s - loss: 3.0139e-04 - accuracy: 3.3223e-04 - val_loss: 0.0086 - val_accuracy: 0.0030\n",
            "Epoch 14/50\n",
            "151/151 - 1s - loss: 3.1383e-04 - accuracy: 3.3223e-04 - val_loss: 0.0190 - val_accuracy: 0.0000e+00\n",
            "Epoch 15/50\n",
            "151/151 - 1s - loss: 3.2406e-04 - accuracy: 3.3223e-04 - val_loss: 0.0180 - val_accuracy: 0.0000e+00\n",
            "Epoch 16/50\n",
            "151/151 - 1s - loss: 2.8954e-04 - accuracy: 3.3223e-04 - val_loss: 0.0192 - val_accuracy: 0.0000e+00\n",
            "Epoch 17/50\n",
            "151/151 - 1s - loss: 3.0213e-04 - accuracy: 3.3223e-04 - val_loss: 0.0212 - val_accuracy: 0.0000e+00\n",
            "Epoch 18/50\n",
            "151/151 - 1s - loss: 2.8191e-04 - accuracy: 3.3223e-04 - val_loss: 0.0191 - val_accuracy: 0.0000e+00\n",
            "Epoch 19/50\n",
            "151/151 - 1s - loss: 2.6900e-04 - accuracy: 3.3223e-04 - val_loss: 0.0211 - val_accuracy: 0.0000e+00\n",
            "Epoch 20/50\n",
            "151/151 - 1s - loss: 3.0391e-04 - accuracy: 3.3223e-04 - val_loss: 0.0252 - val_accuracy: 0.0000e+00\n",
            "Epoch 21/50\n",
            "151/151 - 1s - loss: 2.5785e-04 - accuracy: 3.3223e-04 - val_loss: 0.0295 - val_accuracy: 0.0000e+00\n",
            "Epoch 22/50\n",
            "151/151 - 1s - loss: 2.9874e-04 - accuracy: 3.3223e-04 - val_loss: 0.0303 - val_accuracy: 0.0000e+00\n",
            "Epoch 23/50\n",
            "151/151 - 1s - loss: 2.5760e-04 - accuracy: 3.3223e-04 - val_loss: 0.0310 - val_accuracy: 0.0000e+00\n",
            "Epoch 24/50\n",
            "151/151 - 1s - loss: 2.6337e-04 - accuracy: 3.3223e-04 - val_loss: 0.0324 - val_accuracy: 0.0000e+00\n",
            "Epoch 25/50\n",
            "151/151 - 1s - loss: 2.6479e-04 - accuracy: 3.3223e-04 - val_loss: 0.0368 - val_accuracy: 0.0000e+00\n",
            "Epoch 26/50\n",
            "151/151 - 1s - loss: 2.4962e-04 - accuracy: 3.3223e-04 - val_loss: 0.0377 - val_accuracy: 0.0000e+00\n",
            "Epoch 27/50\n",
            "151/151 - 1s - loss: 2.4360e-04 - accuracy: 3.3223e-04 - val_loss: 0.0391 - val_accuracy: 0.0000e+00\n",
            "Epoch 28/50\n",
            "151/151 - 1s - loss: 2.4895e-04 - accuracy: 3.3223e-04 - val_loss: 0.0408 - val_accuracy: 0.0000e+00\n",
            "Epoch 29/50\n",
            "151/151 - 1s - loss: 2.7219e-04 - accuracy: 3.3223e-04 - val_loss: 0.0567 - val_accuracy: 0.0000e+00\n",
            "Epoch 30/50\n",
            "151/151 - 1s - loss: 2.4735e-04 - accuracy: 3.3223e-04 - val_loss: 0.0515 - val_accuracy: 0.0000e+00\n",
            "Epoch 31/50\n",
            "151/151 - 1s - loss: 2.6640e-04 - accuracy: 3.3223e-04 - val_loss: 0.0545 - val_accuracy: 0.0000e+00\n",
            "Epoch 32/50\n",
            "151/151 - 1s - loss: 2.3724e-04 - accuracy: 3.3223e-04 - val_loss: 0.0638 - val_accuracy: 0.0000e+00\n",
            "Epoch 33/50\n",
            "151/151 - 1s - loss: 2.5910e-04 - accuracy: 3.3223e-04 - val_loss: 0.0660 - val_accuracy: 0.0000e+00\n",
            "Epoch 34/50\n",
            "151/151 - 1s - loss: 2.3314e-04 - accuracy: 3.3223e-04 - val_loss: 0.0627 - val_accuracy: 0.0000e+00\n",
            "Epoch 35/50\n",
            "151/151 - 1s - loss: 2.6210e-04 - accuracy: 3.3223e-04 - val_loss: 0.0597 - val_accuracy: 0.0000e+00\n",
            "Epoch 36/50\n",
            "151/151 - 1s - loss: 2.4605e-04 - accuracy: 3.3223e-04 - val_loss: 0.0597 - val_accuracy: 0.0000e+00\n",
            "Epoch 37/50\n",
            "151/151 - 1s - loss: 2.4350e-04 - accuracy: 3.3223e-04 - val_loss: 0.0615 - val_accuracy: 0.0000e+00\n",
            "Epoch 38/50\n",
            "151/151 - 1s - loss: 2.4174e-04 - accuracy: 3.3223e-04 - val_loss: 0.0614 - val_accuracy: 0.0000e+00\n",
            "Epoch 39/50\n",
            "151/151 - 1s - loss: 2.4024e-04 - accuracy: 3.3223e-04 - val_loss: 0.0637 - val_accuracy: 0.0000e+00\n",
            "Epoch 40/50\n",
            "151/151 - 1s - loss: 2.3599e-04 - accuracy: 3.3223e-04 - val_loss: 0.0622 - val_accuracy: 0.0000e+00\n",
            "Epoch 41/50\n",
            "151/151 - 1s - loss: 2.5516e-04 - accuracy: 3.3223e-04 - val_loss: 0.0651 - val_accuracy: 0.0000e+00\n",
            "Epoch 42/50\n",
            "151/151 - 1s - loss: 2.3624e-04 - accuracy: 3.3223e-04 - val_loss: 0.0651 - val_accuracy: 0.0000e+00\n",
            "Epoch 43/50\n",
            "151/151 - 1s - loss: 2.4163e-04 - accuracy: 3.3223e-04 - val_loss: 0.0683 - val_accuracy: 0.0000e+00\n",
            "Epoch 44/50\n",
            "151/151 - 1s - loss: 2.3432e-04 - accuracy: 3.3223e-04 - val_loss: 0.0693 - val_accuracy: 0.0000e+00\n",
            "Epoch 45/50\n",
            "151/151 - 1s - loss: 2.4250e-04 - accuracy: 3.3223e-04 - val_loss: 0.0697 - val_accuracy: 0.0000e+00\n",
            "Epoch 46/50\n",
            "151/151 - 1s - loss: 2.3887e-04 - accuracy: 3.3223e-04 - val_loss: 0.0671 - val_accuracy: 0.0000e+00\n",
            "Epoch 47/50\n",
            "151/151 - 1s - loss: 2.3060e-04 - accuracy: 3.3223e-04 - val_loss: 0.0638 - val_accuracy: 0.0000e+00\n",
            "Epoch 48/50\n",
            "151/151 - 1s - loss: 2.2101e-04 - accuracy: 3.3223e-04 - val_loss: 0.0636 - val_accuracy: 0.0000e+00\n",
            "Epoch 49/50\n",
            "151/151 - 1s - loss: 2.1151e-04 - accuracy: 3.3223e-04 - val_loss: 0.0671 - val_accuracy: 0.0000e+00\n",
            "Epoch 50/50\n",
            "151/151 - 1s - loss: 2.2648e-04 - accuracy: 3.3223e-04 - val_loss: 0.0607 - val_accuracy: 0.0000e+00\n"
          ],
          "name": "stdout"
        }
      ]
    },
    {
      "cell_type": "markdown",
      "metadata": {
        "id": "Z_7cfzXxmNax"
      },
      "source": [
        "# **Predviđanja mreža**"
      ]
    },
    {
      "cell_type": "markdown",
      "metadata": {
        "id": "gZZxOouxmWmx"
      },
      "source": [
        "### **Predvidjanje prvog modela mreže**"
      ]
    },
    {
      "cell_type": "code",
      "metadata": {
        "colab": {
          "base_uri": "https://localhost:8080/"
        },
        "id": "N-hV_kuyXE0V",
        "outputId": "47b49e92-0bbb-4795-9cda-195600b0a000"
      },
      "source": [
        "# Predvidjanje prvog modela mreze\n",
        "\n",
        "# Skup podataka za testiranje\n",
        "test_set = test.values\n",
        "test_data = np.reshape(test_set, (len(test_set), 1))\n",
        "\n",
        "# Skaliranje podataka skupa za testiranje\n",
        "test_data = scaler.transform(test_data)\n",
        "test_data = np.reshape(test_data, (len(test_data), 1, 1))\n",
        "\n",
        "# Odredjivanje ciljne promenljive\n",
        "X_test = test_data[0:len(test_data)-1]\n",
        "y_test = test_data[1:len(test_data)]"
      ],
      "execution_count": null,
      "outputs": [
        {
          "output_type": "execute_result",
          "data": {
            "text/plain": [
              "array([[0.667605  ],\n",
              "       [0.67992777],\n",
              "       [0.6730172 ],\n",
              "       [0.66117483],\n",
              "       [0.6658695 ],\n",
              "       [0.6785338 ],\n",
              "       [0.68233615],\n",
              "       [0.7017739 ],\n",
              "       [0.7095714 ],\n",
              "       [0.71436906],\n",
              "       [0.71724814],\n",
              "       [0.7270203 ],\n",
              "       [0.73462576],\n",
              "       [0.72070336],\n",
              "       [0.70937765],\n",
              "       [0.71376574],\n",
              "       [0.7254387 ],\n",
              "       [0.72452706],\n",
              "       [0.7269117 ],\n",
              "       [0.71972305],\n",
              "       [0.7170453 ],\n",
              "       [0.7058666 ],\n",
              "       [0.7081968 ],\n",
              "       [0.69070536],\n",
              "       [0.6974636 ],\n",
              "       [0.7085774 ],\n",
              "       [0.71203923],\n",
              "       [0.7176968 ],\n",
              "       [0.7248342 ],\n",
              "       [0.72683823]], dtype=float32)"
            ]
          },
          "metadata": {
            "tags": []
          },
          "execution_count": 265
        }
      ]
    },
    {
      "cell_type": "code",
      "metadata": {
        "id": "WObw7cDtgzUL"
      },
      "source": [
        "# Predvidjanje 1. modela\n",
        "predicted_price = model.predict(X_test)\n",
        "predicted_price"
      ],
      "execution_count": null,
      "outputs": []
    },
    {
      "cell_type": "code",
      "metadata": {
        "colab": {
          "base_uri": "https://localhost:8080/"
        },
        "id": "uGvoKT0dg0Cb",
        "outputId": "1994b4be-6f12-41c2-da72-3ae0c9122432"
      },
      "source": [
        "# Primenjena je inverzna transformacija\n",
        "# kako bi se dobila pocetna forma cene\n",
        "\n",
        "predicted_real_price = scaler.inverse_transform(predicted_price)\n",
        "predicted_real_price"
      ],
      "execution_count": null,
      "outputs": [
        {
          "output_type": "execute_result",
          "data": {
            "text/plain": [
              "array([[38082.18 ],\n",
              "       [38785.027],\n",
              "       [38390.87 ],\n",
              "       [37715.426],\n",
              "       [37983.19 ],\n",
              "       [38705.52 ],\n",
              "       [38922.395],\n",
              "       [40031.055],\n",
              "       [40475.797],\n",
              "       [40749.438],\n",
              "       [40913.652],\n",
              "       [41471.023],\n",
              "       [41904.81 ],\n",
              "       [41110.723],\n",
              "       [40464.746],\n",
              "       [40715.027],\n",
              "       [41380.812],\n",
              "       [41328.816],\n",
              "       [41464.83 ],\n",
              "       [41054.81 ],\n",
              "       [40902.082],\n",
              "       [40264.484],\n",
              "       [40397.395],\n",
              "       [39399.742],\n",
              "       [39785.207],\n",
              "       [40419.1  ],\n",
              "       [40616.555],\n",
              "       [40939.24 ],\n",
              "       [41346.332],\n",
              "       [41460.637]], dtype=float32)"
            ]
          },
          "metadata": {
            "tags": []
          },
          "execution_count": 266
        }
      ]
    },
    {
      "cell_type": "code",
      "metadata": {
        "id": "5D0S8Jlfg1F1"
      },
      "source": [
        ""
      ],
      "execution_count": null,
      "outputs": []
    },
    {
      "cell_type": "markdown",
      "metadata": {
        "id": "Tv4RPd0Jme3Y"
      },
      "source": [
        "### **Predvidjanje drugog modela mreže**"
      ]
    },
    {
      "cell_type": "code",
      "metadata": {
        "colab": {
          "base_uri": "https://localhost:8080/"
        },
        "id": "3Myu9iaPmvtC",
        "outputId": "07e71dc6-d030-4645-aaf2-73c9ac1ba035"
      },
      "source": [
        "# Predvidjanje 2. modela\n",
        "\n",
        "# Skup podataka za testiranje isti kao kod 1. modela - X_test\n",
        "\n",
        "predicted_price_2 = model_2.predict(X_test)\n",
        "predicted_price_2\n",
        "\n",
        "# np.reshape(predicted_price_2, (len(predicted_price_2), 1, 1))\n"
      ],
      "execution_count": null,
      "outputs": [
        {
          "output_type": "execute_result",
          "data": {
            "text/plain": [
              "array([[0.08920524],\n",
              "       [0.07952431],\n",
              "       [0.08489124],\n",
              "       [0.09444737],\n",
              "       [0.09060799],\n",
              "       [0.08059363],\n",
              "       [0.0776934 ],\n",
              "       [0.06374452],\n",
              "       [0.05860819],\n",
              "       [0.05561634],\n",
              "       [0.05386771],\n",
              "       [0.04741411],\n",
              "       [0.04243861],\n",
              "       [0.0516351 ],\n",
              "       [0.0587313 ],\n",
              "       [0.05598626],\n",
              "       [0.04847293],\n",
              "       [0.04908714],\n",
              "       [0.04748652],\n",
              "       [0.05226366],\n",
              "       [0.05399772],\n",
              "       [0.06101213],\n",
              "       [0.05949077],\n",
              "       [0.07150017],\n",
              "       [0.06670284],\n",
              "       [0.05924468],\n",
              "       [0.05705494],\n",
              "       [0.05357505],\n",
              "       [0.04887995],\n",
              "       [0.04753552]], dtype=float32)"
            ]
          },
          "metadata": {
            "tags": []
          },
          "execution_count": 267
        }
      ]
    },
    {
      "cell_type": "code",
      "metadata": {
        "colab": {
          "base_uri": "https://localhost:8080/"
        },
        "id": "5ldheGuqmv65",
        "outputId": "2ac1c191-967a-4c0d-b54c-3c205fdeceff"
      },
      "source": [
        "# Primenjena je inverzna transformacija\n",
        "# kako bi se dobila pocetna forma cene\n",
        "\n",
        "predicted_real_price_2 = scaler.inverse_transform(predicted_price_2)\n",
        "predicted_real_price_2"
      ],
      "execution_count": null,
      "outputs": [
        {
          "output_type": "execute_result",
          "data": {
            "text/plain": [
              "array([[5092.2856],\n",
              "       [4540.119 ],\n",
              "       [4846.2305],\n",
              "       [5391.279 ],\n",
              "       [5172.2935],\n",
              "       [4601.11  ],\n",
              "       [4435.691 ],\n",
              "       [3640.0952],\n",
              "       [3347.1372],\n",
              "       [3176.4927],\n",
              "       [3076.7566],\n",
              "       [2708.666 ],\n",
              "       [2424.881 ],\n",
              "       [2949.4167],\n",
              "       [3354.1592],\n",
              "       [3197.5918],\n",
              "       [2769.0579],\n",
              "       [2804.09  ],\n",
              "       [2712.7964],\n",
              "       [2985.2676],\n",
              "       [3084.1724],\n",
              "       [3484.2493],\n",
              "       [3397.4766],\n",
              "       [4082.4504],\n",
              "       [3808.828 ],\n",
              "       [3383.4407],\n",
              "       [3258.5457],\n",
              "       [3060.0647],\n",
              "       [2792.2727],\n",
              "       [2715.5908]], dtype=float32)"
            ]
          },
          "metadata": {
            "tags": []
          },
          "execution_count": 268
        }
      ]
    },
    {
      "cell_type": "code",
      "metadata": {
        "id": "8YDvdUJinzSY"
      },
      "source": [
        ""
      ],
      "execution_count": null,
      "outputs": []
    },
    {
      "cell_type": "markdown",
      "metadata": {
        "id": "QSTspEUToIeH"
      },
      "source": [
        "# **Vizuelni prikaz rezultata**"
      ]
    },
    {
      "cell_type": "markdown",
      "metadata": {
        "id": "MaSDd3v8oQFN"
      },
      "source": [
        "### **Vizuelni prikaz rezultata prvog modela mreze**"
      ]
    },
    {
      "cell_type": "code",
      "metadata": {
        "colab": {
          "base_uri": "https://localhost:8080/",
          "height": 543
        },
        "id": "qt7d1yJS2HQC",
        "outputId": "f348048a-6e83-4c86-f837-847a49895ba9"
      },
      "source": [
        "# Vizuelni prikaz rezultata prvog modela mreze\n",
        "\n",
        "plt.figure(figsize=(15,9), dpi=100, facecolor='w', edgecolor='k')\n",
        "ax = plt.gca()\n",
        "\n",
        "plt.title('Vizuelni prikaz stvarne i predvidjene vrednosti BTC')\n",
        "plt.plot(y_test, color = 'red', label = 'Stvarna vrednost BTC')\n",
        "plt.plot(predicted_real_price, color = 'green', label = 'Predvidjena vrednost BTC')\n",
        "\n",
        "test = test.reset_index()\n",
        "x = test.index\n",
        "\n",
        "plt.xticks(x, labels = test['Date'], rotation = 'vertical')\n",
        "plt.xlabel('Vremenski period')\n",
        "plt.ylabel('Cena BTC (USD)')\n",
        "plt.legend(loc='best')\n",
        "plt.show()"
      ],
      "execution_count": null,
      "outputs": [
        {
          "output_type": "display_data",
          "data": {
            "image/png": "[encoded data removed]",
            "text/plain": [
              "<Figure size 1500x900 with 1 Axes>"
            ]
          },
          "metadata": {
            "tags": []
          }
        }
      ]
    },
    {
      "cell_type": "code",
      "metadata": {
        "colab": {
          "base_uri": "https://localhost:8080/",
          "height": 281
        },
        "id": "sok0QN8N2M-l",
        "outputId": "a771414c-f603-4f29-8066-5d843a408bc4"
      },
      "source": [
        "# Vizuelni prikaz gubitka (loss) tokom treniranja mreze\n",
        "\n",
        "plt.subplot(211)\n",
        "# plt.title('Gubitak (Loss)')\n",
        "epochs = range(len(history.history['loss']))\n",
        "plt.plot(epochs, history.history['loss'], label='Gubitak (loss) tokom treniranja')\n",
        "plt.plot(epochs, history.history['val_loss'], label='Gubitak (val_loss) tokom validacije')\n",
        "\n",
        "plt.legend()\n",
        "\n",
        "plt.title('Vizuelni prikaz gubitka (loss) i tacnosti (accuracy) mreze')\n",
        "\n",
        "# Vizuelni prikaz tacnosti (accuracy) tokom treniranja mreze\n",
        "plt.subplot(212)\n",
        "# plt.title('Tacnost (Accuracy)')\n",
        "plt.plot(epochs, history.history['accuracy'], label='Tacnost (accuracy) tokom treniranja')\n",
        "plt.plot(epochs, history.history['val_accuracy'], label='Tacnost (val_accuracy) tokom validacije')\n",
        "\n",
        "plt.legend()\n",
        "\n",
        "plt.show()"
      ],
      "execution_count": null,
      "outputs": [
        {
          "output_type": "display_data",
          "data": {
            "image/png": "[encoded data removed]",
            "text/plain": [
              "<Figure size 432x288 with 2 Axes>"
            ]
          },
          "metadata": {
            "tags": [],
            "needs_background": "light"
          }
        }
      ]
    },
    {
      "cell_type": "code",
      "metadata": {
        "id": "T35MPqZGvQ9J"
      },
      "source": [
        "# Vizuelni prikaz MAE\n",
        "\n",
        "def plot_mae(history_):\n",
        "\n",
        "  epochs = range(len(history_.history['mae'])) # broj epoha\n",
        "  plt.title('Vizuelni prikaz MAE (mae')\n",
        "  plt.xlabel('broj epohe')\n",
        "  plt.ylabel('MAE')\n",
        "  \n",
        "  plt.plot(epochs, history_.history['mae'], label='MAE (mae) tokom treniranja')\n",
        "\n",
        "  if 'val_mae' in history_.history:\n",
        "    plt.plot(epochs, history_.history['val_mae'], label='MAE (val_mae) tokom treniranja sa validacijom')\n",
        "\n",
        "  plt.legend(loc = 'best')\n",
        "\n",
        "  plt.show()"
      ],
      "execution_count": 1,
      "outputs": []
    },
    {
      "cell_type": "code",
      "metadata": {
        "colab": {
          "base_uri": "https://localhost:8080/",
          "height": 201
        },
        "id": "l_DyWRvUdLB8",
        "outputId": "0b94c928-e3b9-4976-be3d-6843321423cd"
      },
      "source": [
        "# MAE - sa validacijom\n",
        "\n",
        "plot_mae(history)"
      ],
      "execution_count": 2,
      "outputs": [
        {
          "output_type": "error",
          "ename": "NameError",
          "evalue": "ignored",
          "traceback": [
            "\u001b[0;31m---------------------------------------------------------------------------\u001b[0m",
            "\u001b[0;31mNameError\u001b[0m                                 Traceback (most recent call last)",
            "\u001b[0;32m<ipython-input-2-e4f9cdfca8ec>\u001b[0m in \u001b[0;36m<module>\u001b[0;34m()\u001b[0m\n\u001b[1;32m      1\u001b[0m \u001b[0;31m# MAE\u001b[0m\u001b[0;34m\u001b[0m\u001b[0;34m\u001b[0m\u001b[0;34m\u001b[0m\u001b[0m\n\u001b[1;32m      2\u001b[0m \u001b[0;34m\u001b[0m\u001b[0m\n\u001b[0;32m----> 3\u001b[0;31m \u001b[0mplot_mae\u001b[0m\u001b[0;34m(\u001b[0m\u001b[0mhistory_no_validation\u001b[0m\u001b[0;34m)\u001b[0m\u001b[0;34m\u001b[0m\u001b[0;34m\u001b[0m\u001b[0m\n\u001b[0m",
            "\u001b[0;31mNameError\u001b[0m: name 'history_no_validation' is not defined"
          ]
        }
      ]
    },
    {
      "cell_type": "code",
      "metadata": {
        "colab": {
          "base_uri": "https://localhost:8080/",
          "height": 235
        },
        "id": "OGfHxBRSdN8z",
        "outputId": "54eb6f72-9b4d-497c-ac32-124f0fa238ae"
      },
      "source": [
        "# Loss, accuracy, MAE nad skupom za testiranje\n",
        "\n",
        "# (za model koji pri treniranju koristi validaciju\n",
        "# i za model koji pri treniranju ne koristi validaciju)\n",
        "\n",
        "test_metrics_val = model.evaluate(X_test, y_test)\n",
        "\n",
        "print('\\n\\nMetrike prilikom testiranja - model treniran sa validacijom\\n')\n",
        "print(model.metrics_names[0], test_metrics_val[0])\n",
        "print(model.metrics_names[1], test_metrics_val[1])\n",
        "print(model.metrics_names[2], test_metrics_val[2])"
      ],
      "execution_count": 4,
      "outputs": [
        {
          "output_type": "error",
          "ename": "NameError",
          "evalue": "ignored",
          "traceback": [
            "\u001b[0;31m---------------------------------------------------------------------------\u001b[0m",
            "\u001b[0;31mNameError\u001b[0m                                 Traceback (most recent call last)",
            "\u001b[0;32m<ipython-input-4-35a1c5292949>\u001b[0m in \u001b[0;36m<module>\u001b[0;34m()\u001b[0m\n\u001b[1;32m      4\u001b[0m \u001b[0;31m# i za model koji pri treniranju ne koristi validaciju)\u001b[0m\u001b[0;34m\u001b[0m\u001b[0;34m\u001b[0m\u001b[0;34m\u001b[0m\u001b[0m\n\u001b[1;32m      5\u001b[0m \u001b[0;34m\u001b[0m\u001b[0m\n\u001b[0;32m----> 6\u001b[0;31m \u001b[0mtest_metrics_no_val\u001b[0m \u001b[0;34m=\u001b[0m \u001b[0mnet_no_validation\u001b[0m\u001b[0;34m.\u001b[0m\u001b[0mevaluate\u001b[0m\u001b[0;34m(\u001b[0m\u001b[0mX_test\u001b[0m\u001b[0;34m,\u001b[0m \u001b[0my_test\u001b[0m\u001b[0;34m)\u001b[0m\u001b[0;34m\u001b[0m\u001b[0;34m\u001b[0m\u001b[0m\n\u001b[0m\u001b[1;32m      7\u001b[0m \u001b[0mtest_metrics_val\u001b[0m \u001b[0;34m=\u001b[0m \u001b[0mnet_validation\u001b[0m\u001b[0;34m.\u001b[0m\u001b[0mevaluate\u001b[0m\u001b[0;34m(\u001b[0m\u001b[0mX_test\u001b[0m\u001b[0;34m,\u001b[0m \u001b[0my_test\u001b[0m\u001b[0;34m)\u001b[0m\u001b[0;34m\u001b[0m\u001b[0;34m\u001b[0m\u001b[0m\n\u001b[1;32m      8\u001b[0m \u001b[0;34m\u001b[0m\u001b[0m\n",
            "\u001b[0;31mNameError\u001b[0m: name 'net_no_validation' is not defined"
          ]
        }
      ]
    },
    {
      "cell_type": "code",
      "metadata": {
        "colab": {
          "base_uri": "https://localhost:8080/",
          "height": 235
        },
        "id": "e84qmwHSdTl7",
        "outputId": "4310b1e3-1c23-4edd-f488-4615998a0cdc"
      },
      "source": [
        "# R2 skor nad skupom za testiranje\n",
        "\n",
        "r2 = metrics.r2_score(predicted_real_price, y_test)\n",
        "\n",
        "print('R2 skor prilikom testiranja - model treniran sa validacijom', r2)"
      ],
      "execution_count": 5,
      "outputs": [
        {
          "output_type": "error",
          "ename": "NameError",
          "evalue": "ignored",
          "traceback": [
            "\u001b[0;31m---------------------------------------------------------------------------\u001b[0m",
            "\u001b[0;31mNameError\u001b[0m                                 Traceback (most recent call last)",
            "\u001b[0;32m<ipython-input-5-7763c8ca9610>\u001b[0m in \u001b[0;36m<module>\u001b[0;34m()\u001b[0m\n\u001b[1;32m      1\u001b[0m \u001b[0;31m# R2 skor nad skupom za testiranje\u001b[0m\u001b[0;34m\u001b[0m\u001b[0;34m\u001b[0m\u001b[0;34m\u001b[0m\u001b[0m\n\u001b[1;32m      2\u001b[0m \u001b[0;34m\u001b[0m\u001b[0m\n\u001b[0;32m----> 3\u001b[0;31m \u001b[0mr2\u001b[0m \u001b[0;34m=\u001b[0m \u001b[0mmetrics\u001b[0m\u001b[0;34m.\u001b[0m\u001b[0mr2_score\u001b[0m\u001b[0;34m(\u001b[0m\u001b[0my_predicted_no_validation\u001b[0m\u001b[0;34m,\u001b[0m \u001b[0my_test\u001b[0m\u001b[0;34m)\u001b[0m\u001b[0;34m\u001b[0m\u001b[0;34m\u001b[0m\u001b[0m\n\u001b[0m\u001b[1;32m      4\u001b[0m \u001b[0mr2_val\u001b[0m \u001b[0;34m=\u001b[0m \u001b[0mmetrics\u001b[0m\u001b[0;34m.\u001b[0m\u001b[0mr2_score\u001b[0m\u001b[0;34m(\u001b[0m\u001b[0my_predicted_validation\u001b[0m\u001b[0;34m,\u001b[0m \u001b[0my_test\u001b[0m\u001b[0;34m)\u001b[0m\u001b[0;34m\u001b[0m\u001b[0;34m\u001b[0m\u001b[0m\n\u001b[1;32m      5\u001b[0m \u001b[0;34m\u001b[0m\u001b[0m\n",
            "\u001b[0;31mNameError\u001b[0m: name 'metrics' is not defined"
          ]
        }
      ]
    },
    {
      "cell_type": "markdown",
      "metadata": {
        "id": "qcj_CuMtoZxO"
      },
      "source": [
        "### **Vizuelni prikaz rezultata drugog modela mreze**"
      ]
    },
    {
      "cell_type": "code",
      "metadata": {
        "colab": {
          "base_uri": "https://localhost:8080/",
          "height": 543
        },
        "id": "ncsxdtc0lsc4",
        "outputId": "05ea2b53-c771-4a2e-986d-c0bc912f374c"
      },
      "source": [
        "# Vizuelni prikaz rezultata drugog modela mreze\n",
        "\n",
        "plt.figure(figsize=(15,9), dpi=100, facecolor='w', edgecolor='k')\n",
        "ax_2 = plt.gca()\n",
        "\n",
        "plt.title('Vizuelni prikaz stvarne i predvidjene vrednosti BTC')\n",
        "plt.plot(y_test, color = 'red', label = 'Stvarna vrednost BTC')\n",
        "plt.plot(predicted_real_price_2, color = 'green', label = 'Predvidjena vrednost BTC')\n",
        "\n",
        "test = test.reset_index()\n",
        "x = test.index\n",
        "\n",
        "plt.xticks(x, labels = test['Date'], rotation = 'vertical')\n",
        "plt.xlabel('Vremenski period')\n",
        "plt.ylabel('Cena BTC (USD)')\n",
        "plt.legend(loc='best')\n",
        "plt.show()"
      ],
      "execution_count": null,
      "outputs": [
        {
          "output_type": "display_data",
          "data": {
            "image/png": "[encoded data removed]",
            "text/plain": [
              "<Figure size 1500x900 with 1 Axes>"
            ]
          },
          "metadata": {
            "tags": []
          }
        }
      ]
    },
    {
      "cell_type": "code",
      "metadata": {
        "colab": {
          "base_uri": "https://localhost:8080/",
          "height": 281
        },
        "id": "vDLe3IJIlsfJ",
        "outputId": "aca2070f-795d-4a9b-d9ea-dc0013207d30"
      },
      "source": [
        "# Vizuelni prikaz gubitka (loss) tokom treniranja i validacije mreze\n",
        "\n",
        "plt.subplot(211)\n",
        "# plt.title('Gubitak (Loss)')\n",
        "epochs = range(len(history_2.history['loss']))\n",
        "plt.plot(epochs, history_2.history['loss'], label = 'Gubitak (loss) na trening skupu')\n",
        "plt.plot(epochs, history_2.history['val_loss'], label = 'Gubitak (val_loss) na validacionom skupu')\n",
        "plt.legend()\n",
        "\n",
        "plt.title('Vizuelni prikaz gubitka (loss) i tacnosti (accuracy) mreze')\n",
        "\n",
        "# Vizuelni prikaz tacnosti (accuracy) tokom treniranja i validacije mreze\n",
        "\n",
        "plt.subplot(212)\n",
        "# plt.title('Tacnost (Accuracy)')\n",
        "plt.plot(epochs, history_2.history['accuracy'], label = 'Tacnost (accuracy) na trening skupu')\n",
        "plt.plot(epochs, history_2.history['val_accuracy'], label = 'Tacnost (accuracy) na validacionom skupu')\n",
        "plt.legend()\n",
        "\n",
        "plt.show()"
      ],
      "execution_count": null,
      "outputs": [
        {
          "output_type": "display_data",
          "data": {
            "image/png": "[encoded data removed]",
            "text/plain": [
              "<Figure size 432x288 with 2 Axes>"
            ]
          },
          "metadata": {
            "tags": [],
            "needs_background": "light"
          }
        }
      ]
    },
    {
      "cell_type": "code",
      "metadata": {
        "id": "vUk_A50ulsiX"
      },
      "source": [
        "# MAE - sa validacijom\n",
        "\n",
        "plot_mae(history_2)"
      ],
      "execution_count": 5,
      "outputs": []
    },
    {
      "cell_type": "code",
      "metadata": {
        "id": "fHexSci6hPVf"
      },
      "source": [
        "# Loss, accuracy, MAE nad skupom za testiranje\n",
        "\n",
        "# (za model koji pri treniranju koristi validaciju\n",
        "# i za model koji pri treniranju ne koristi validaciju)\n",
        "\n",
        "test_metrics_val_2 = model_2.evaluate(X_test, y_test)\n",
        "\n",
        "print('\\n\\nMetrike prilikom testiranja - model treniran sa validacijom\\n')\n",
        "print(model_2.metrics_names[0], test_metrics_val_2[0])\n",
        "print(model_2.metrics_names[1], test_metrics_val_2[1])\n",
        "print(model_2.metrics_names[2], test_metrics_val_2[2])"
      ],
      "execution_count": 5,
      "outputs": []
    },
    {
      "cell_type": "code",
      "metadata": {
        "id": "qihsTpLEhPYO"
      },
      "source": [
        "# R2 skor nad skupom za testiranje\n",
        "\n",
        "r2_2 = metrics.r2_score(predicted_real_price_2, y_test)\n",
        "\n",
        "print('R2 skor prilikom testiranja - model treniran sa validacijom', r2)"
      ],
      "execution_count": 5,
      "outputs": []
    },
    {
      "cell_type": "code",
      "metadata": {
        "id": "_FcoAES7hPaZ"
      },
      "source": [
        ""
      ],
      "execution_count": 5,
      "outputs": []
    },
    {
      "cell_type": "code",
      "metadata": {
        "id": "t0RxjUKBhPc7"
      },
      "source": [
        ""
      ],
      "execution_count": 5,
      "outputs": []
    },
    {
      "cell_type": "code",
      "metadata": {
        "id": "lrE3M_58hPe5"
      },
      "source": [
        ""
      ],
      "execution_count": 5,
      "outputs": []
    },
    {
      "cell_type": "code",
      "metadata": {
        "id": "_oNyy916hPhA"
      },
      "source": [
        ""
      ],
      "execution_count": null,
      "outputs": []
    }
  ]
}