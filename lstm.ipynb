{
  "nbformat": 4,
  "nbformat_minor": 0,
  "metadata": {
    "colab": {
      "name": "lstm.ipynb",
      "provenance": [],
      "collapsed_sections": [],
      "include_colab_link": true
    },
    "kernelspec": {
      "name": "python3",
      "display_name": "Python 3"
    },
    "language_info": {
      "name": "python"
    }
  },
  "cells": [
    {
      "cell_type": "markdown",
      "metadata": {
        "id": "view-in-github",
        "colab_type": "text"
      },
      "source": [
        "<a href=\"https://colab.research.google.com/github/jovanape/Bitcoint-Price-Prediction/blob/main/lstm.ipynb\" target=\"_parent\"><img src=\"https://colab.research.google.com/assets/colab-badge.svg\" alt=\"Open In Colab\"/></a>"
      ]
    },
    {
      "cell_type": "code",
      "metadata": {
        "id": "15RqVMEtCsQg"
      },
      "source": [
        "# Ucitavanje biblioteka\n",
        "import numpy as np \n",
        "import pandas as pd \n",
        "from matplotlib import pyplot as plt\n",
        "from sklearn.preprocessing import MinMaxScaler\n",
        "from keras.models import Sequential\n",
        "from keras.layers import Dense\n",
        "from keras.layers import LSTM\n",
        "from keras.layers import Dropout\n",
        "from keras import callbacks\n",
        "from sklearn.metrics import r2_score\n",
        "from sklearn.metrics import mean_absolute_error\n",
        "from sklearn import metrics"
      ],
      "execution_count": 1,
      "outputs": []
    },
    {
      "cell_type": "code",
      "metadata": {
        "colab": {
          "base_uri": "https://localhost:8080/",
          "height": 443
        },
        "id": "VWESzQJZDR7m",
        "outputId": "bd6e761f-8b93-457b-a198-59a0cceef5b3"
      },
      "source": [
        "# Ucitavanje skupa podataka\n",
        "data = pd.read_csv('bitstampUSD_1-min_data_2012-01-01_to_2021-03-31.csv')\n",
        "data"
      ],
      "execution_count": 2,
      "outputs": [
        {
          "output_type": "execute_result",
          "data": {
            "text/html": [
              "<div>\n",
              "<style scoped>\n",
              "    .dataframe tbody tr th:only-of-type {\n",
              "        vertical-align: middle;\n",
              "    }\n",
              "\n",
              "    .dataframe tbody tr th {\n",
              "        vertical-align: top;\n",
              "    }\n",
              "\n",
              "    .dataframe thead th {\n",
              "        text-align: right;\n",
              "    }\n",
              "</style>\n",
              "<table border=\"1\" class=\"dataframe\">\n",
              "  <thead>\n",
              "    <tr style=\"text-align: right;\">\n",
              "      <th></th>\n",
              "      <th>Timestamp</th>\n",
              "      <th>Open</th>\n",
              "      <th>High</th>\n",
              "      <th>Low</th>\n",
              "      <th>Close</th>\n",
              "      <th>Volume_(BTC)</th>\n",
              "      <th>Volume_(Currency)</th>\n",
              "      <th>Weighted_Price</th>\n",
              "    </tr>\n",
              "  </thead>\n",
              "  <tbody>\n",
              "    <tr>\n",
              "      <th>0</th>\n",
              "      <td>1325317920</td>\n",
              "      <td>4.39</td>\n",
              "      <td>4.39</td>\n",
              "      <td>4.39</td>\n",
              "      <td>4.39</td>\n",
              "      <td>0.455581</td>\n",
              "      <td>2.000000</td>\n",
              "      <td>4.390000</td>\n",
              "    </tr>\n",
              "    <tr>\n",
              "      <th>1</th>\n",
              "      <td>1325317980</td>\n",
              "      <td>NaN</td>\n",
              "      <td>NaN</td>\n",
              "      <td>NaN</td>\n",
              "      <td>NaN</td>\n",
              "      <td>NaN</td>\n",
              "      <td>NaN</td>\n",
              "      <td>NaN</td>\n",
              "    </tr>\n",
              "    <tr>\n",
              "      <th>2</th>\n",
              "      <td>1325318040</td>\n",
              "      <td>NaN</td>\n",
              "      <td>NaN</td>\n",
              "      <td>NaN</td>\n",
              "      <td>NaN</td>\n",
              "      <td>NaN</td>\n",
              "      <td>NaN</td>\n",
              "      <td>NaN</td>\n",
              "    </tr>\n",
              "    <tr>\n",
              "      <th>3</th>\n",
              "      <td>1325318100</td>\n",
              "      <td>NaN</td>\n",
              "      <td>NaN</td>\n",
              "      <td>NaN</td>\n",
              "      <td>NaN</td>\n",
              "      <td>NaN</td>\n",
              "      <td>NaN</td>\n",
              "      <td>NaN</td>\n",
              "    </tr>\n",
              "    <tr>\n",
              "      <th>4</th>\n",
              "      <td>1325318160</td>\n",
              "      <td>NaN</td>\n",
              "      <td>NaN</td>\n",
              "      <td>NaN</td>\n",
              "      <td>NaN</td>\n",
              "      <td>NaN</td>\n",
              "      <td>NaN</td>\n",
              "      <td>NaN</td>\n",
              "    </tr>\n",
              "    <tr>\n",
              "      <th>...</th>\n",
              "      <td>...</td>\n",
              "      <td>...</td>\n",
              "      <td>...</td>\n",
              "      <td>...</td>\n",
              "      <td>...</td>\n",
              "      <td>...</td>\n",
              "      <td>...</td>\n",
              "      <td>...</td>\n",
              "    </tr>\n",
              "    <tr>\n",
              "      <th>4857372</th>\n",
              "      <td>1617148560</td>\n",
              "      <td>58714.31</td>\n",
              "      <td>58714.31</td>\n",
              "      <td>58686.00</td>\n",
              "      <td>58686.00</td>\n",
              "      <td>1.384487</td>\n",
              "      <td>81259.372187</td>\n",
              "      <td>58692.753339</td>\n",
              "    </tr>\n",
              "    <tr>\n",
              "      <th>4857373</th>\n",
              "      <td>1617148620</td>\n",
              "      <td>58683.97</td>\n",
              "      <td>58693.43</td>\n",
              "      <td>58683.97</td>\n",
              "      <td>58685.81</td>\n",
              "      <td>7.294848</td>\n",
              "      <td>428158.146640</td>\n",
              "      <td>58693.226508</td>\n",
              "    </tr>\n",
              "    <tr>\n",
              "      <th>4857374</th>\n",
              "      <td>1617148680</td>\n",
              "      <td>58693.43</td>\n",
              "      <td>58723.84</td>\n",
              "      <td>58693.43</td>\n",
              "      <td>58723.84</td>\n",
              "      <td>1.705682</td>\n",
              "      <td>100117.070370</td>\n",
              "      <td>58696.198496</td>\n",
              "    </tr>\n",
              "    <tr>\n",
              "      <th>4857375</th>\n",
              "      <td>1617148740</td>\n",
              "      <td>58742.18</td>\n",
              "      <td>58770.38</td>\n",
              "      <td>58742.18</td>\n",
              "      <td>58760.59</td>\n",
              "      <td>0.720415</td>\n",
              "      <td>42332.958633</td>\n",
              "      <td>58761.866202</td>\n",
              "    </tr>\n",
              "    <tr>\n",
              "      <th>4857376</th>\n",
              "      <td>1617148800</td>\n",
              "      <td>58767.75</td>\n",
              "      <td>58778.18</td>\n",
              "      <td>58755.97</td>\n",
              "      <td>58778.18</td>\n",
              "      <td>2.712831</td>\n",
              "      <td>159417.751000</td>\n",
              "      <td>58764.349363</td>\n",
              "    </tr>\n",
              "  </tbody>\n",
              "</table>\n",
              "<p>4857377 rows × 8 columns</p>\n",
              "</div>"
            ],
            "text/plain": [
              "          Timestamp      Open  ...  Volume_(Currency)  Weighted_Price\n",
              "0        1325317920      4.39  ...           2.000000        4.390000\n",
              "1        1325317980       NaN  ...                NaN             NaN\n",
              "2        1325318040       NaN  ...                NaN             NaN\n",
              "3        1325318100       NaN  ...                NaN             NaN\n",
              "4        1325318160       NaN  ...                NaN             NaN\n",
              "...             ...       ...  ...                ...             ...\n",
              "4857372  1617148560  58714.31  ...       81259.372187    58692.753339\n",
              "4857373  1617148620  58683.97  ...      428158.146640    58693.226508\n",
              "4857374  1617148680  58693.43  ...      100117.070370    58696.198496\n",
              "4857375  1617148740  58742.18  ...       42332.958633    58761.866202\n",
              "4857376  1617148800  58767.75  ...      159417.751000    58764.349363\n",
              "\n",
              "[4857377 rows x 8 columns]"
            ]
          },
          "metadata": {},
          "execution_count": 2
        }
      ]
    },
    {
      "cell_type": "code",
      "metadata": {
        "colab": {
          "base_uri": "https://localhost:8080/",
          "height": 143
        },
        "id": "neNfZC0W2mMx",
        "outputId": "2b8d2251-1eb8-450c-ed3e-c5058751cc61"
      },
      "source": [
        "# Izracunavanje datuma\n",
        "\n",
        "# Kako je Timestamp broj sekundi izmedju\n",
        "# odredjenog datuma i 1. januara 1970 (UTC),\n",
        "# radi citljivosti, u narednom kodu je\n",
        "# Timestamp preveden u datum\n",
        "\n",
        "data['Date'] = pd.to_datetime(data['Timestamp'], unit='s').dt.date # samo datum (bez vremena)\n",
        "data.head(3)"
      ],
      "execution_count": 3,
      "outputs": [
        {
          "output_type": "execute_result",
          "data": {
            "text/html": [
              "<div>\n",
              "<style scoped>\n",
              "    .dataframe tbody tr th:only-of-type {\n",
              "        vertical-align: middle;\n",
              "    }\n",
              "\n",
              "    .dataframe tbody tr th {\n",
              "        vertical-align: top;\n",
              "    }\n",
              "\n",
              "    .dataframe thead th {\n",
              "        text-align: right;\n",
              "    }\n",
              "</style>\n",
              "<table border=\"1\" class=\"dataframe\">\n",
              "  <thead>\n",
              "    <tr style=\"text-align: right;\">\n",
              "      <th></th>\n",
              "      <th>Timestamp</th>\n",
              "      <th>Open</th>\n",
              "      <th>High</th>\n",
              "      <th>Low</th>\n",
              "      <th>Close</th>\n",
              "      <th>Volume_(BTC)</th>\n",
              "      <th>Volume_(Currency)</th>\n",
              "      <th>Weighted_Price</th>\n",
              "      <th>Date</th>\n",
              "    </tr>\n",
              "  </thead>\n",
              "  <tbody>\n",
              "    <tr>\n",
              "      <th>0</th>\n",
              "      <td>1325317920</td>\n",
              "      <td>4.39</td>\n",
              "      <td>4.39</td>\n",
              "      <td>4.39</td>\n",
              "      <td>4.39</td>\n",
              "      <td>0.455581</td>\n",
              "      <td>2.0</td>\n",
              "      <td>4.39</td>\n",
              "      <td>2011-12-31</td>\n",
              "    </tr>\n",
              "    <tr>\n",
              "      <th>1</th>\n",
              "      <td>1325317980</td>\n",
              "      <td>NaN</td>\n",
              "      <td>NaN</td>\n",
              "      <td>NaN</td>\n",
              "      <td>NaN</td>\n",
              "      <td>NaN</td>\n",
              "      <td>NaN</td>\n",
              "      <td>NaN</td>\n",
              "      <td>2011-12-31</td>\n",
              "    </tr>\n",
              "    <tr>\n",
              "      <th>2</th>\n",
              "      <td>1325318040</td>\n",
              "      <td>NaN</td>\n",
              "      <td>NaN</td>\n",
              "      <td>NaN</td>\n",
              "      <td>NaN</td>\n",
              "      <td>NaN</td>\n",
              "      <td>NaN</td>\n",
              "      <td>NaN</td>\n",
              "      <td>2011-12-31</td>\n",
              "    </tr>\n",
              "  </tbody>\n",
              "</table>\n",
              "</div>"
            ],
            "text/plain": [
              "    Timestamp  Open  High  ...  Volume_(Currency)  Weighted_Price        Date\n",
              "0  1325317920  4.39  4.39  ...                2.0            4.39  2011-12-31\n",
              "1  1325317980   NaN   NaN  ...                NaN             NaN  2011-12-31\n",
              "2  1325318040   NaN   NaN  ...                NaN             NaN  2011-12-31\n",
              "\n",
              "[3 rows x 9 columns]"
            ]
          },
          "metadata": {},
          "execution_count": 3
        }
      ]
    },
    {
      "cell_type": "markdown",
      "metadata": {
        "id": "AnUuMmcjXE9l"
      },
      "source": [
        "Vise istih datuma - u nastavku ce biti izracunata srednja vrednost cene za svaki datum"
      ]
    },
    {
      "cell_type": "code",
      "metadata": {
        "colab": {
          "base_uri": "https://localhost:8080/",
          "height": 617
        },
        "id": "OFjYdbfBDaXo",
        "outputId": "7b639416-fa13-4bab-925f-e7cce615ae90"
      },
      "source": [
        "group = data.groupby('Date')\n",
        "data"
      ],
      "execution_count": 4,
      "outputs": [
        {
          "output_type": "execute_result",
          "data": {
            "text/html": [
              "<div>\n",
              "<style scoped>\n",
              "    .dataframe tbody tr th:only-of-type {\n",
              "        vertical-align: middle;\n",
              "    }\n",
              "\n",
              "    .dataframe tbody tr th {\n",
              "        vertical-align: top;\n",
              "    }\n",
              "\n",
              "    .dataframe thead th {\n",
              "        text-align: right;\n",
              "    }\n",
              "</style>\n",
              "<table border=\"1\" class=\"dataframe\">\n",
              "  <thead>\n",
              "    <tr style=\"text-align: right;\">\n",
              "      <th></th>\n",
              "      <th>Timestamp</th>\n",
              "      <th>Open</th>\n",
              "      <th>High</th>\n",
              "      <th>Low</th>\n",
              "      <th>Close</th>\n",
              "      <th>Volume_(BTC)</th>\n",
              "      <th>Volume_(Currency)</th>\n",
              "      <th>Weighted_Price</th>\n",
              "      <th>Date</th>\n",
              "    </tr>\n",
              "  </thead>\n",
              "  <tbody>\n",
              "    <tr>\n",
              "      <th>0</th>\n",
              "      <td>1325317920</td>\n",
              "      <td>4.39</td>\n",
              "      <td>4.39</td>\n",
              "      <td>4.39</td>\n",
              "      <td>4.39</td>\n",
              "      <td>0.455581</td>\n",
              "      <td>2.000000</td>\n",
              "      <td>4.390000</td>\n",
              "      <td>2011-12-31</td>\n",
              "    </tr>\n",
              "    <tr>\n",
              "      <th>1</th>\n",
              "      <td>1325317980</td>\n",
              "      <td>NaN</td>\n",
              "      <td>NaN</td>\n",
              "      <td>NaN</td>\n",
              "      <td>NaN</td>\n",
              "      <td>NaN</td>\n",
              "      <td>NaN</td>\n",
              "      <td>NaN</td>\n",
              "      <td>2011-12-31</td>\n",
              "    </tr>\n",
              "    <tr>\n",
              "      <th>2</th>\n",
              "      <td>1325318040</td>\n",
              "      <td>NaN</td>\n",
              "      <td>NaN</td>\n",
              "      <td>NaN</td>\n",
              "      <td>NaN</td>\n",
              "      <td>NaN</td>\n",
              "      <td>NaN</td>\n",
              "      <td>NaN</td>\n",
              "      <td>2011-12-31</td>\n",
              "    </tr>\n",
              "    <tr>\n",
              "      <th>3</th>\n",
              "      <td>1325318100</td>\n",
              "      <td>NaN</td>\n",
              "      <td>NaN</td>\n",
              "      <td>NaN</td>\n",
              "      <td>NaN</td>\n",
              "      <td>NaN</td>\n",
              "      <td>NaN</td>\n",
              "      <td>NaN</td>\n",
              "      <td>2011-12-31</td>\n",
              "    </tr>\n",
              "    <tr>\n",
              "      <th>4</th>\n",
              "      <td>1325318160</td>\n",
              "      <td>NaN</td>\n",
              "      <td>NaN</td>\n",
              "      <td>NaN</td>\n",
              "      <td>NaN</td>\n",
              "      <td>NaN</td>\n",
              "      <td>NaN</td>\n",
              "      <td>NaN</td>\n",
              "      <td>2011-12-31</td>\n",
              "    </tr>\n",
              "    <tr>\n",
              "      <th>...</th>\n",
              "      <td>...</td>\n",
              "      <td>...</td>\n",
              "      <td>...</td>\n",
              "      <td>...</td>\n",
              "      <td>...</td>\n",
              "      <td>...</td>\n",
              "      <td>...</td>\n",
              "      <td>...</td>\n",
              "      <td>...</td>\n",
              "    </tr>\n",
              "    <tr>\n",
              "      <th>4857372</th>\n",
              "      <td>1617148560</td>\n",
              "      <td>58714.31</td>\n",
              "      <td>58714.31</td>\n",
              "      <td>58686.00</td>\n",
              "      <td>58686.00</td>\n",
              "      <td>1.384487</td>\n",
              "      <td>81259.372187</td>\n",
              "      <td>58692.753339</td>\n",
              "      <td>2021-03-30</td>\n",
              "    </tr>\n",
              "    <tr>\n",
              "      <th>4857373</th>\n",
              "      <td>1617148620</td>\n",
              "      <td>58683.97</td>\n",
              "      <td>58693.43</td>\n",
              "      <td>58683.97</td>\n",
              "      <td>58685.81</td>\n",
              "      <td>7.294848</td>\n",
              "      <td>428158.146640</td>\n",
              "      <td>58693.226508</td>\n",
              "      <td>2021-03-30</td>\n",
              "    </tr>\n",
              "    <tr>\n",
              "      <th>4857374</th>\n",
              "      <td>1617148680</td>\n",
              "      <td>58693.43</td>\n",
              "      <td>58723.84</td>\n",
              "      <td>58693.43</td>\n",
              "      <td>58723.84</td>\n",
              "      <td>1.705682</td>\n",
              "      <td>100117.070370</td>\n",
              "      <td>58696.198496</td>\n",
              "      <td>2021-03-30</td>\n",
              "    </tr>\n",
              "    <tr>\n",
              "      <th>4857375</th>\n",
              "      <td>1617148740</td>\n",
              "      <td>58742.18</td>\n",
              "      <td>58770.38</td>\n",
              "      <td>58742.18</td>\n",
              "      <td>58760.59</td>\n",
              "      <td>0.720415</td>\n",
              "      <td>42332.958633</td>\n",
              "      <td>58761.866202</td>\n",
              "      <td>2021-03-30</td>\n",
              "    </tr>\n",
              "    <tr>\n",
              "      <th>4857376</th>\n",
              "      <td>1617148800</td>\n",
              "      <td>58767.75</td>\n",
              "      <td>58778.18</td>\n",
              "      <td>58755.97</td>\n",
              "      <td>58778.18</td>\n",
              "      <td>2.712831</td>\n",
              "      <td>159417.751000</td>\n",
              "      <td>58764.349363</td>\n",
              "      <td>2021-03-31</td>\n",
              "    </tr>\n",
              "  </tbody>\n",
              "</table>\n",
              "<p>4857377 rows × 9 columns</p>\n",
              "</div>"
            ],
            "text/plain": [
              "          Timestamp      Open  ...  Weighted_Price        Date\n",
              "0        1325317920      4.39  ...        4.390000  2011-12-31\n",
              "1        1325317980       NaN  ...             NaN  2011-12-31\n",
              "2        1325318040       NaN  ...             NaN  2011-12-31\n",
              "3        1325318100       NaN  ...             NaN  2011-12-31\n",
              "4        1325318160       NaN  ...             NaN  2011-12-31\n",
              "...             ...       ...  ...             ...         ...\n",
              "4857372  1617148560  58714.31  ...    58692.753339  2021-03-30\n",
              "4857373  1617148620  58683.97  ...    58693.226508  2021-03-30\n",
              "4857374  1617148680  58693.43  ...    58696.198496  2021-03-30\n",
              "4857375  1617148740  58742.18  ...    58761.866202  2021-03-30\n",
              "4857376  1617148800  58767.75  ...    58764.349363  2021-03-31\n",
              "\n",
              "[4857377 rows x 9 columns]"
            ]
          },
          "metadata": {},
          "execution_count": 4
        }
      ]
    },
    {
      "cell_type": "code",
      "metadata": {
        "colab": {
          "base_uri": "https://localhost:8080/"
        },
        "id": "l2LpugCd2AGw",
        "outputId": "271252b3-81fd-4dae-c906-9fb4d1176acf"
      },
      "source": [
        "mean_price = group['Weighted_Price'].mean()\n",
        "mean_price"
      ],
      "execution_count": 5,
      "outputs": [
        {
          "output_type": "execute_result",
          "data": {
            "text/plain": [
              "Date\n",
              "2011-12-31        4.471603\n",
              "2012-01-01        4.806667\n",
              "2012-01-02        5.000000\n",
              "2012-01-03        5.252500\n",
              "2012-01-04        5.208159\n",
              "                  ...     \n",
              "2021-03-27    55193.357260\n",
              "2021-03-28    55832.958824\n",
              "2021-03-29    56913.993819\n",
              "2021-03-30    58346.912268\n",
              "2021-03-31    58764.349363\n",
              "Name: Weighted_Price, Length: 3376, dtype: float64"
            ]
          },
          "metadata": {},
          "execution_count": 5
        }
      ]
    },
    {
      "cell_type": "code",
      "metadata": {
        "id": "San0g6k11YuN"
      },
      "source": [
        "# Podela podataka na trening i test\n",
        "# mean_price - prosecna cena po danima\n",
        "# Skupovi za trening i test su odatle izvedeni\n",
        "# Predvidjanje se vrsi za poslednjih prediction_days dana\n",
        "\n",
        "prediction_days = 60\n",
        "\n",
        "train = mean_price[:len(mean_price)-prediction_days]\n",
        "test = mean_price[len(mean_price)-prediction_days:]"
      ],
      "execution_count": 6,
      "outputs": []
    },
    {
      "cell_type": "code",
      "metadata": {
        "colab": {
          "base_uri": "https://localhost:8080/"
        },
        "id": "0-pRvMN1as4A",
        "outputId": "fb70cfad-b265-4543-c534-9d5cf4354f84"
      },
      "source": [
        "train.head(3)"
      ],
      "execution_count": 7,
      "outputs": [
        {
          "output_type": "execute_result",
          "data": {
            "text/plain": [
              "Date\n",
              "2011-12-31    4.471603\n",
              "2012-01-01    4.806667\n",
              "2012-01-02    5.000000\n",
              "Name: Weighted_Price, dtype: float64"
            ]
          },
          "metadata": {},
          "execution_count": 7
        }
      ]
    },
    {
      "cell_type": "code",
      "metadata": {
        "colab": {
          "base_uri": "https://localhost:8080/"
        },
        "id": "nAzeoVs3cv8Q",
        "outputId": "8e7463ac-7339-45d1-b928-22287105fe36"
      },
      "source": [
        "train.values"
      ],
      "execution_count": 8,
      "outputs": [
        {
          "output_type": "execute_result",
          "data": {
            "text/plain": [
              "array([4.47160287e+00, 4.80666667e+00, 5.00000000e+00, ...,\n",
              "       3.17938844e+04, 3.50514678e+04, 3.40537126e+04])"
            ]
          },
          "metadata": {},
          "execution_count": 8
        }
      ]
    },
    {
      "cell_type": "markdown",
      "metadata": {
        "id": "qNoyNrtwd0mR"
      },
      "source": [
        "### **Pretprocesiranje podataka**"
      ]
    },
    {
      "cell_type": "code",
      "metadata": {
        "colab": {
          "base_uri": "https://localhost:8080/"
        },
        "id": "_4DSPKkCc22G",
        "outputId": "cba3c2b6-527d-4777-806c-9ddc8df41759"
      },
      "source": [
        "training_set = train.values\n",
        "training_set"
      ],
      "execution_count": 9,
      "outputs": [
        {
          "output_type": "execute_result",
          "data": {
            "text/plain": [
              "array([4.47160287e+00, 4.80666667e+00, 5.00000000e+00, ...,\n",
              "       3.17938844e+04, 3.50514678e+04, 3.40537126e+04])"
            ]
          },
          "metadata": {},
          "execution_count": 9
        }
      ]
    },
    {
      "cell_type": "code",
      "metadata": {
        "colab": {
          "base_uri": "https://localhost:8080/"
        },
        "id": "dyohP6TPc3Xq",
        "outputId": "21a5a62d-c376-4fc8-b682-e741107fc81d"
      },
      "source": [
        "training_set = np.reshape(training_set, (len(training_set), 1))\n",
        "training_set"
      ],
      "execution_count": 10,
      "outputs": [
        {
          "output_type": "execute_result",
          "data": {
            "text/plain": [
              "array([[4.47160287e+00],\n",
              "       [4.80666667e+00],\n",
              "       [5.00000000e+00],\n",
              "       ...,\n",
              "       [3.17938844e+04],\n",
              "       [3.50514678e+04],\n",
              "       [3.40537126e+04]])"
            ]
          },
          "metadata": {},
          "execution_count": 10
        }
      ]
    },
    {
      "cell_type": "code",
      "metadata": {
        "id": "PLtuLetM1Zim",
        "colab": {
          "base_uri": "https://localhost:8080/"
        },
        "outputId": "3ea9705a-a8b4-414e-9bfc-4339546cc41a"
      },
      "source": [
        "# Skaliranje podataka ########### TODOTODOTODOTOODOTODOTODO Proveriti da li i y treba skalirati?!\n",
        "\n",
        "scaler = MinMaxScaler()\n",
        "training_set = scaler.fit_transform(training_set)\n",
        "\n",
        "X_train = training_set[0:len(training_set)-1]\n",
        "y_train = training_set[1:len(training_set)]\n",
        "\n",
        "X_train = np.reshape(X_train, (len(X_train), 1, 1))\n",
        "\n",
        "print('X_train:\\n', X_train)\n",
        "print('\\n')\n",
        "print('y_train:\\n', y_train)"
      ],
      "execution_count": 11,
      "outputs": [
        {
          "output_type": "stream",
          "text": [
            "X_train:\n",
            " [[[3.46453603e-06]]\n",
            "\n",
            " [[1.17600344e-05]]\n",
            "\n",
            " [[1.65465747e-05]]\n",
            "\n",
            " ...\n",
            "\n",
            " [[7.71089056e-01]]\n",
            "\n",
            " [[7.87044701e-01]]\n",
            "\n",
            " [[8.67695843e-01]]]\n",
            "\n",
            "\n",
            "y_train:\n",
            " [[1.17600344e-05]\n",
            " [1.65465747e-05]\n",
            " [2.27979614e-05]\n",
            " ...\n",
            " [7.87044701e-01]\n",
            " [8.67695843e-01]\n",
            " [8.42993453e-01]]\n"
          ],
          "name": "stdout"
        }
      ]
    },
    {
      "cell_type": "markdown",
      "metadata": {
        "id": "5xb-ZEzxaRLv"
      },
      "source": [
        "# **Kreiranje i treniranje mreže**"
      ]
    },
    {
      "cell_type": "markdown",
      "metadata": {
        "id": "dKsDSBy-lzfN"
      },
      "source": [
        "### **Kreiranje i treniranje prvog modela mreže**"
      ]
    },
    {
      "cell_type": "code",
      "metadata": {
        "id": "OJJ1HReH10jI",
        "colab": {
          "base_uri": "https://localhost:8080/"
        },
        "outputId": "8968b0d4-e51f-4d88-dfb3-e7036e70d1c6"
      },
      "source": [
        "# Inicijalizacija RNN\n",
        "model = Sequential()\n",
        "\n",
        "# Dodavanje input i LSTM sloja\n",
        "model.add(LSTM(units = 4, activation = 'sigmoid', input_shape = (None, 1)))\n",
        "\n",
        "# Dodavanje izlaznog sloja\n",
        "model.add(Dense(units = 1))\n",
        "\n",
        "# Arhitektura mreze\n",
        "model.summary()"
      ],
      "execution_count": 12,
      "outputs": [
        {
          "output_type": "stream",
          "text": [
            "Model: \"sequential\"\n",
            "_________________________________________________________________\n",
            "Layer (type)                 Output Shape              Param #   \n",
            "=================================================================\n",
            "lstm (LSTM)                  (None, 4)                 96        \n",
            "_________________________________________________________________\n",
            "dense (Dense)                (None, 1)                 5         \n",
            "=================================================================\n",
            "Total params: 101\n",
            "Trainable params: 101\n",
            "Non-trainable params: 0\n",
            "_________________________________________________________________\n"
          ],
          "name": "stdout"
        }
      ]
    },
    {
      "cell_type": "code",
      "metadata": {
        "colab": {
          "base_uri": "https://localhost:8080/"
        },
        "id": "99DFza5xa-YY",
        "outputId": "c97e1484-1caf-43ea-937d-a4289253818e"
      },
      "source": [
        "# Kompilacija RNN\n",
        "model.compile(optimizer = 'adam', loss = 'mean_squared_error', metrics=['mse', 'mae'])\n",
        "\n",
        "# Treniranje RNN na trening skupu\n",
        "history = model.fit(X_train, y_train, batch_size = 1, epochs = 100, validation_split = 0.1, verbose = 2)"
      ],
      "execution_count": 13,
      "outputs": [
        {
          "output_type": "stream",
          "text": [
            "Epoch 1/100\n",
            "2983/2983 - 5s - loss: 0.0083 - mse: 0.0083 - mae: 0.0723 - val_loss: 0.0713 - val_mse: 0.0713 - val_mae: 0.2154\n",
            "Epoch 2/100\n",
            "2983/2983 - 3s - loss: 0.0027 - mse: 0.0027 - mae: 0.0406 - val_loss: 0.0171 - val_mse: 0.0171 - val_mae: 0.0925\n",
            "Epoch 3/100\n",
            "2983/2983 - 3s - loss: 1.4347e-04 - mse: 1.4347e-04 - mae: 0.0070 - val_loss: 0.0056 - val_mse: 0.0056 - val_mae: 0.0335\n",
            "Epoch 4/100\n",
            "2983/2983 - 3s - loss: 3.1247e-05 - mse: 3.1247e-05 - mae: 0.0031 - val_loss: 0.0055 - val_mse: 0.0055 - val_mae: 0.0331\n",
            "Epoch 5/100\n",
            "2983/2983 - 3s - loss: 3.2498e-05 - mse: 3.2498e-05 - mae: 0.0032 - val_loss: 0.0053 - val_mse: 0.0053 - val_mae: 0.0324\n",
            "Epoch 6/100\n",
            "2983/2983 - 3s - loss: 3.1082e-05 - mse: 3.1082e-05 - mae: 0.0032 - val_loss: 0.0050 - val_mse: 0.0050 - val_mae: 0.0315\n",
            "Epoch 7/100\n",
            "2983/2983 - 3s - loss: 3.0997e-05 - mse: 3.0997e-05 - mae: 0.0032 - val_loss: 0.0051 - val_mse: 0.0051 - val_mae: 0.0333\n",
            "Epoch 8/100\n",
            "2983/2983 - 3s - loss: 3.0684e-05 - mse: 3.0684e-05 - mae: 0.0032 - val_loss: 0.0046 - val_mse: 0.0046 - val_mae: 0.0301\n",
            "Epoch 9/100\n",
            "2983/2983 - 3s - loss: 3.0177e-05 - mse: 3.0177e-05 - mae: 0.0030 - val_loss: 0.0042 - val_mse: 0.0042 - val_mae: 0.0281\n",
            "Epoch 10/100\n",
            "2983/2983 - 3s - loss: 2.9672e-05 - mse: 2.9672e-05 - mae: 0.0031 - val_loss: 0.0040 - val_mse: 0.0040 - val_mae: 0.0277\n",
            "Epoch 11/100\n",
            "2983/2983 - 3s - loss: 2.9000e-05 - mse: 2.9000e-05 - mae: 0.0030 - val_loss: 0.0040 - val_mse: 0.0040 - val_mae: 0.0279\n",
            "Epoch 12/100\n",
            "2983/2983 - 3s - loss: 2.8959e-05 - mse: 2.8959e-05 - mae: 0.0030 - val_loss: 0.0042 - val_mse: 0.0042 - val_mae: 0.0295\n",
            "Epoch 13/100\n",
            "2983/2983 - 3s - loss: 2.8817e-05 - mse: 2.8817e-05 - mae: 0.0030 - val_loss: 0.0041 - val_mse: 0.0041 - val_mae: 0.0287\n",
            "Epoch 14/100\n",
            "2983/2983 - 3s - loss: 2.8526e-05 - mse: 2.8526e-05 - mae: 0.0030 - val_loss: 0.0039 - val_mse: 0.0039 - val_mae: 0.0276\n",
            "Epoch 15/100\n",
            "2983/2983 - 3s - loss: 2.8694e-05 - mse: 2.8694e-05 - mae: 0.0030 - val_loss: 0.0035 - val_mse: 0.0035 - val_mae: 0.0255\n",
            "Epoch 16/100\n",
            "2983/2983 - 3s - loss: 2.8546e-05 - mse: 2.8546e-05 - mae: 0.0031 - val_loss: 0.0038 - val_mse: 0.0038 - val_mae: 0.0273\n",
            "Epoch 17/100\n",
            "2983/2983 - 3s - loss: 2.6694e-05 - mse: 2.6694e-05 - mae: 0.0029 - val_loss: 0.0036 - val_mse: 0.0036 - val_mae: 0.0260\n",
            "Epoch 18/100\n",
            "2983/2983 - 3s - loss: 2.7939e-05 - mse: 2.7939e-05 - mae: 0.0030 - val_loss: 0.0033 - val_mse: 0.0033 - val_mae: 0.0247\n",
            "Epoch 19/100\n",
            "2983/2983 - 3s - loss: 2.7900e-05 - mse: 2.7900e-05 - mae: 0.0030 - val_loss: 0.0034 - val_mse: 0.0034 - val_mae: 0.0258\n",
            "Epoch 20/100\n",
            "2983/2983 - 3s - loss: 2.8594e-05 - mse: 2.8594e-05 - mae: 0.0030 - val_loss: 0.0032 - val_mse: 0.0032 - val_mae: 0.0244\n",
            "Epoch 21/100\n",
            "2983/2983 - 3s - loss: 2.7269e-05 - mse: 2.7269e-05 - mae: 0.0030 - val_loss: 0.0032 - val_mse: 0.0032 - val_mae: 0.0244\n",
            "Epoch 22/100\n",
            "2983/2983 - 4s - loss: 2.7359e-05 - mse: 2.7359e-05 - mae: 0.0030 - val_loss: 0.0033 - val_mse: 0.0033 - val_mae: 0.0263\n",
            "Epoch 23/100\n",
            "2983/2983 - 4s - loss: 2.7673e-05 - mse: 2.7673e-05 - mae: 0.0030 - val_loss: 0.0033 - val_mse: 0.0033 - val_mae: 0.0256\n",
            "Epoch 24/100\n",
            "2983/2983 - 4s - loss: 2.7196e-05 - mse: 2.7196e-05 - mae: 0.0029 - val_loss: 0.0029 - val_mse: 0.0029 - val_mae: 0.0245\n",
            "Epoch 25/100\n",
            "2983/2983 - 4s - loss: 2.7636e-05 - mse: 2.7636e-05 - mae: 0.0030 - val_loss: 0.0030 - val_mse: 0.0030 - val_mae: 0.0240\n",
            "Epoch 26/100\n",
            "2983/2983 - 3s - loss: 2.7114e-05 - mse: 2.7114e-05 - mae: 0.0030 - val_loss: 0.0028 - val_mse: 0.0028 - val_mae: 0.0225\n",
            "Epoch 27/100\n",
            "2983/2983 - 4s - loss: 2.6756e-05 - mse: 2.6756e-05 - mae: 0.0029 - val_loss: 0.0029 - val_mse: 0.0029 - val_mae: 0.0230\n",
            "Epoch 28/100\n",
            "2983/2983 - 3s - loss: 2.6520e-05 - mse: 2.6520e-05 - mae: 0.0029 - val_loss: 0.0029 - val_mse: 0.0029 - val_mae: 0.0231\n",
            "Epoch 29/100\n",
            "2983/2983 - 4s - loss: 2.6768e-05 - mse: 2.6768e-05 - mae: 0.0030 - val_loss: 0.0029 - val_mse: 0.0029 - val_mae: 0.0234\n",
            "Epoch 30/100\n",
            "2983/2983 - 4s - loss: 2.7093e-05 - mse: 2.7093e-05 - mae: 0.0029 - val_loss: 0.0027 - val_mse: 0.0027 - val_mae: 0.0223\n",
            "Epoch 31/100\n",
            "2983/2983 - 4s - loss: 2.7308e-05 - mse: 2.7308e-05 - mae: 0.0030 - val_loss: 0.0029 - val_mse: 0.0029 - val_mae: 0.0239\n",
            "Epoch 32/100\n",
            "2983/2983 - 4s - loss: 2.6444e-05 - mse: 2.6444e-05 - mae: 0.0029 - val_loss: 0.0029 - val_mse: 0.0029 - val_mae: 0.0242\n",
            "Epoch 33/100\n",
            "2983/2983 - 4s - loss: 2.6709e-05 - mse: 2.6709e-05 - mae: 0.0030 - val_loss: 0.0028 - val_mse: 0.0028 - val_mae: 0.0231\n",
            "Epoch 34/100\n",
            "2983/2983 - 3s - loss: 2.6377e-05 - mse: 2.6377e-05 - mae: 0.0029 - val_loss: 0.0025 - val_mse: 0.0025 - val_mae: 0.0215\n",
            "Epoch 35/100\n",
            "2983/2983 - 3s - loss: 2.6976e-05 - mse: 2.6976e-05 - mae: 0.0029 - val_loss: 0.0027 - val_mse: 0.0027 - val_mae: 0.0245\n",
            "Epoch 36/100\n",
            "2983/2983 - 3s - loss: 2.6788e-05 - mse: 2.6788e-05 - mae: 0.0028 - val_loss: 0.0025 - val_mse: 0.0025 - val_mae: 0.0215\n",
            "Epoch 37/100\n",
            "2983/2983 - 3s - loss: 2.6120e-05 - mse: 2.6120e-05 - mae: 0.0029 - val_loss: 0.0026 - val_mse: 0.0026 - val_mae: 0.0216\n",
            "Epoch 38/100\n",
            "2983/2983 - 3s - loss: 2.6594e-05 - mse: 2.6594e-05 - mae: 0.0029 - val_loss: 0.0025 - val_mse: 0.0025 - val_mae: 0.0217\n",
            "Epoch 39/100\n",
            "2983/2983 - 3s - loss: 2.6339e-05 - mse: 2.6339e-05 - mae: 0.0029 - val_loss: 0.0025 - val_mse: 0.0025 - val_mae: 0.0214\n",
            "Epoch 40/100\n",
            "2983/2983 - 3s - loss: 2.6339e-05 - mse: 2.6339e-05 - mae: 0.0029 - val_loss: 0.0025 - val_mse: 0.0025 - val_mae: 0.0214\n",
            "Epoch 41/100\n",
            "2983/2983 - 3s - loss: 2.7120e-05 - mse: 2.7120e-05 - mae: 0.0030 - val_loss: 0.0025 - val_mse: 0.0025 - val_mae: 0.0212\n",
            "Epoch 42/100\n",
            "2983/2983 - 3s - loss: 2.6823e-05 - mse: 2.6823e-05 - mae: 0.0030 - val_loss: 0.0025 - val_mse: 0.0025 - val_mae: 0.0217\n",
            "Epoch 43/100\n",
            "2983/2983 - 3s - loss: 2.6373e-05 - mse: 2.6373e-05 - mae: 0.0029 - val_loss: 0.0023 - val_mse: 0.0023 - val_mae: 0.0209\n",
            "Epoch 44/100\n",
            "2983/2983 - 3s - loss: 2.6968e-05 - mse: 2.6968e-05 - mae: 0.0030 - val_loss: 0.0027 - val_mse: 0.0027 - val_mae: 0.0235\n",
            "Epoch 45/100\n",
            "2983/2983 - 3s - loss: 2.6472e-05 - mse: 2.6472e-05 - mae: 0.0030 - val_loss: 0.0023 - val_mse: 0.0023 - val_mae: 0.0207\n",
            "Epoch 46/100\n",
            "2983/2983 - 3s - loss: 2.6626e-05 - mse: 2.6626e-05 - mae: 0.0029 - val_loss: 0.0024 - val_mse: 0.0024 - val_mae: 0.0208\n",
            "Epoch 47/100\n",
            "2983/2983 - 3s - loss: 2.7482e-05 - mse: 2.7482e-05 - mae: 0.0030 - val_loss: 0.0023 - val_mse: 0.0023 - val_mae: 0.0207\n",
            "Epoch 48/100\n",
            "2983/2983 - 3s - loss: 2.6315e-05 - mse: 2.6315e-05 - mae: 0.0029 - val_loss: 0.0023 - val_mse: 0.0023 - val_mae: 0.0205\n",
            "Epoch 49/100\n",
            "2983/2983 - 3s - loss: 2.7111e-05 - mse: 2.7111e-05 - mae: 0.0030 - val_loss: 0.0022 - val_mse: 0.0022 - val_mae: 0.0211\n",
            "Epoch 50/100\n",
            "2983/2983 - 3s - loss: 2.7366e-05 - mse: 2.7366e-05 - mae: 0.0030 - val_loss: 0.0023 - val_mse: 0.0023 - val_mae: 0.0204\n",
            "Epoch 51/100\n",
            "2983/2983 - 3s - loss: 2.7268e-05 - mse: 2.7268e-05 - mae: 0.0030 - val_loss: 0.0025 - val_mse: 0.0025 - val_mae: 0.0217\n",
            "Epoch 52/100\n",
            "2983/2983 - 3s - loss: 2.6201e-05 - mse: 2.6201e-05 - mae: 0.0028 - val_loss: 0.0026 - val_mse: 0.0026 - val_mae: 0.0238\n",
            "Epoch 53/100\n",
            "2983/2983 - 3s - loss: 2.6870e-05 - mse: 2.6870e-05 - mae: 0.0029 - val_loss: 0.0026 - val_mse: 0.0026 - val_mae: 0.0238\n",
            "Epoch 54/100\n",
            "2983/2983 - 3s - loss: 2.6484e-05 - mse: 2.6484e-05 - mae: 0.0029 - val_loss: 0.0025 - val_mse: 0.0025 - val_mae: 0.0217\n",
            "Epoch 55/100\n",
            "2983/2983 - 4s - loss: 2.6773e-05 - mse: 2.6773e-05 - mae: 0.0029 - val_loss: 0.0025 - val_mse: 0.0025 - val_mae: 0.0254\n",
            "Epoch 56/100\n",
            "2983/2983 - 3s - loss: 2.7173e-05 - mse: 2.7173e-05 - mae: 0.0030 - val_loss: 0.0023 - val_mse: 0.0023 - val_mae: 0.0207\n",
            "Epoch 57/100\n",
            "2983/2983 - 3s - loss: 2.6923e-05 - mse: 2.6923e-05 - mae: 0.0030 - val_loss: 0.0021 - val_mse: 0.0021 - val_mae: 0.0214\n",
            "Epoch 58/100\n",
            "2983/2983 - 4s - loss: 2.6746e-05 - mse: 2.6746e-05 - mae: 0.0030 - val_loss: 0.0023 - val_mse: 0.0023 - val_mae: 0.0204\n",
            "Epoch 59/100\n",
            "2983/2983 - 3s - loss: 2.6076e-05 - mse: 2.6076e-05 - mae: 0.0029 - val_loss: 0.0023 - val_mse: 0.0023 - val_mae: 0.0206\n",
            "Epoch 60/100\n",
            "2983/2983 - 3s - loss: 2.6361e-05 - mse: 2.6361e-05 - mae: 0.0029 - val_loss: 0.0023 - val_mse: 0.0023 - val_mae: 0.0204\n",
            "Epoch 61/100\n",
            "2983/2983 - 3s - loss: 2.6808e-05 - mse: 2.6808e-05 - mae: 0.0029 - val_loss: 0.0022 - val_mse: 0.0022 - val_mae: 0.0209\n",
            "Epoch 62/100\n",
            "2983/2983 - 3s - loss: 2.7189e-05 - mse: 2.7189e-05 - mae: 0.0030 - val_loss: 0.0024 - val_mse: 0.0024 - val_mae: 0.0208\n",
            "Epoch 63/100\n",
            "2983/2983 - 3s - loss: 2.6459e-05 - mse: 2.6459e-05 - mae: 0.0029 - val_loss: 0.0025 - val_mse: 0.0025 - val_mae: 0.0235\n",
            "Epoch 64/100\n",
            "2983/2983 - 3s - loss: 2.6810e-05 - mse: 2.6810e-05 - mae: 0.0030 - val_loss: 0.0023 - val_mse: 0.0023 - val_mae: 0.0206\n",
            "Epoch 65/100\n",
            "2983/2983 - 3s - loss: 2.7108e-05 - mse: 2.7108e-05 - mae: 0.0030 - val_loss: 0.0024 - val_mse: 0.0024 - val_mae: 0.0214\n",
            "Epoch 66/100\n",
            "2983/2983 - 3s - loss: 2.6477e-05 - mse: 2.6477e-05 - mae: 0.0030 - val_loss: 0.0020 - val_mse: 0.0020 - val_mae: 0.0197\n",
            "Epoch 67/100\n",
            "2983/2983 - 3s - loss: 2.6144e-05 - mse: 2.6144e-05 - mae: 0.0029 - val_loss: 0.0025 - val_mse: 0.0025 - val_mae: 0.0234\n",
            "Epoch 68/100\n",
            "2983/2983 - 4s - loss: 2.6495e-05 - mse: 2.6495e-05 - mae: 0.0030 - val_loss: 0.0022 - val_mse: 0.0022 - val_mae: 0.0202\n",
            "Epoch 69/100\n",
            "2983/2983 - 3s - loss: 2.5654e-05 - mse: 2.5654e-05 - mae: 0.0028 - val_loss: 0.0025 - val_mse: 0.0025 - val_mae: 0.0218\n",
            "Epoch 70/100\n",
            "2983/2983 - 4s - loss: 2.7049e-05 - mse: 2.7049e-05 - mae: 0.0030 - val_loss: 0.0024 - val_mse: 0.0024 - val_mae: 0.0213\n",
            "Epoch 71/100\n",
            "2983/2983 - 4s - loss: 2.7074e-05 - mse: 2.7074e-05 - mae: 0.0030 - val_loss: 0.0022 - val_mse: 0.0022 - val_mae: 0.0200\n",
            "Epoch 72/100\n",
            "2983/2983 - 4s - loss: 2.6175e-05 - mse: 2.6175e-05 - mae: 0.0029 - val_loss: 0.0023 - val_mse: 0.0023 - val_mae: 0.0205\n",
            "Epoch 73/100\n",
            "2983/2983 - 4s - loss: 2.6901e-05 - mse: 2.6901e-05 - mae: 0.0030 - val_loss: 0.0024 - val_mse: 0.0024 - val_mae: 0.0207\n",
            "Epoch 74/100\n",
            "2983/2983 - 4s - loss: 2.6600e-05 - mse: 2.6600e-05 - mae: 0.0029 - val_loss: 0.0023 - val_mse: 0.0023 - val_mae: 0.0216\n",
            "Epoch 75/100\n",
            "2983/2983 - 4s - loss: 2.6339e-05 - mse: 2.6339e-05 - mae: 0.0029 - val_loss: 0.0022 - val_mse: 0.0022 - val_mae: 0.0200\n",
            "Epoch 76/100\n",
            "2983/2983 - 4s - loss: 2.6135e-05 - mse: 2.6135e-05 - mae: 0.0029 - val_loss: 0.0022 - val_mse: 0.0022 - val_mae: 0.0201\n",
            "Epoch 77/100\n",
            "2983/2983 - 4s - loss: 2.6202e-05 - mse: 2.6202e-05 - mae: 0.0029 - val_loss: 0.0023 - val_mse: 0.0023 - val_mae: 0.0202\n",
            "Epoch 78/100\n",
            "2983/2983 - 3s - loss: 2.6274e-05 - mse: 2.6274e-05 - mae: 0.0029 - val_loss: 0.0023 - val_mse: 0.0023 - val_mae: 0.0208\n",
            "Epoch 79/100\n",
            "2983/2983 - 3s - loss: 2.6450e-05 - mse: 2.6450e-05 - mae: 0.0029 - val_loss: 0.0022 - val_mse: 0.0022 - val_mae: 0.0200\n",
            "Epoch 80/100\n",
            "2983/2983 - 4s - loss: 2.5783e-05 - mse: 2.5783e-05 - mae: 0.0029 - val_loss: 0.0026 - val_mse: 0.0026 - val_mae: 0.0237\n",
            "Epoch 81/100\n",
            "2983/2983 - 4s - loss: 2.6562e-05 - mse: 2.6562e-05 - mae: 0.0029 - val_loss: 0.0024 - val_mse: 0.0024 - val_mae: 0.0216\n",
            "Epoch 82/100\n",
            "2983/2983 - 4s - loss: 2.6357e-05 - mse: 2.6357e-05 - mae: 0.0029 - val_loss: 0.0024 - val_mse: 0.0024 - val_mae: 0.0211\n",
            "Epoch 83/100\n",
            "2983/2983 - 4s - loss: 2.5657e-05 - mse: 2.5657e-05 - mae: 0.0029 - val_loss: 0.0021 - val_mse: 0.0021 - val_mae: 0.0210\n",
            "Epoch 84/100\n",
            "2983/2983 - 4s - loss: 2.6721e-05 - mse: 2.6721e-05 - mae: 0.0029 - val_loss: 0.0021 - val_mse: 0.0021 - val_mae: 0.0196\n",
            "Epoch 85/100\n",
            "2983/2983 - 4s - loss: 2.6580e-05 - mse: 2.6580e-05 - mae: 0.0029 - val_loss: 0.0024 - val_mse: 0.0024 - val_mae: 0.0209\n",
            "Epoch 86/100\n",
            "2983/2983 - 4s - loss: 2.6557e-05 - mse: 2.6557e-05 - mae: 0.0030 - val_loss: 0.0023 - val_mse: 0.0023 - val_mae: 0.0204\n",
            "Epoch 87/100\n",
            "2983/2983 - 4s - loss: 2.6566e-05 - mse: 2.6566e-05 - mae: 0.0029 - val_loss: 0.0022 - val_mse: 0.0022 - val_mae: 0.0202\n",
            "Epoch 88/100\n",
            "2983/2983 - 4s - loss: 2.6427e-05 - mse: 2.6427e-05 - mae: 0.0029 - val_loss: 0.0021 - val_mse: 0.0021 - val_mae: 0.0196\n",
            "Epoch 89/100\n",
            "2983/2983 - 4s - loss: 2.6547e-05 - mse: 2.6547e-05 - mae: 0.0029 - val_loss: 0.0025 - val_mse: 0.0025 - val_mae: 0.0217\n",
            "Epoch 90/100\n",
            "2983/2983 - 4s - loss: 2.6154e-05 - mse: 2.6154e-05 - mae: 0.0029 - val_loss: 0.0021 - val_mse: 0.0021 - val_mae: 0.0194\n",
            "Epoch 91/100\n",
            "2983/2983 - 4s - loss: 2.6365e-05 - mse: 2.6365e-05 - mae: 0.0029 - val_loss: 0.0023 - val_mse: 0.0023 - val_mae: 0.0203\n",
            "Epoch 92/100\n",
            "2983/2983 - 3s - loss: 2.6475e-05 - mse: 2.6475e-05 - mae: 0.0029 - val_loss: 0.0021 - val_mse: 0.0021 - val_mae: 0.0202\n",
            "Epoch 93/100\n",
            "2983/2983 - 4s - loss: 2.7190e-05 - mse: 2.7190e-05 - mae: 0.0030 - val_loss: 0.0022 - val_mse: 0.0022 - val_mae: 0.0197\n",
            "Epoch 94/100\n",
            "2983/2983 - 4s - loss: 2.6263e-05 - mse: 2.6263e-05 - mae: 0.0028 - val_loss: 0.0023 - val_mse: 0.0023 - val_mae: 0.0201\n",
            "Epoch 95/100\n",
            "2983/2983 - 4s - loss: 2.6181e-05 - mse: 2.6181e-05 - mae: 0.0029 - val_loss: 0.0023 - val_mse: 0.0023 - val_mae: 0.0207\n",
            "Epoch 96/100\n",
            "2983/2983 - 4s - loss: 2.6639e-05 - mse: 2.6639e-05 - mae: 0.0029 - val_loss: 0.0024 - val_mse: 0.0024 - val_mae: 0.0218\n",
            "Epoch 97/100\n",
            "2983/2983 - 4s - loss: 2.6266e-05 - mse: 2.6266e-05 - mae: 0.0029 - val_loss: 0.0021 - val_mse: 0.0021 - val_mae: 0.0200\n",
            "Epoch 98/100\n",
            "2983/2983 - 4s - loss: 2.6258e-05 - mse: 2.6258e-05 - mae: 0.0029 - val_loss: 0.0021 - val_mse: 0.0021 - val_mae: 0.0200\n",
            "Epoch 99/100\n",
            "2983/2983 - 4s - loss: 2.6619e-05 - mse: 2.6619e-05 - mae: 0.0030 - val_loss: 0.0023 - val_mse: 0.0023 - val_mae: 0.0202\n",
            "Epoch 100/100\n",
            "2983/2983 - 4s - loss: 2.5773e-05 - mse: 2.5773e-05 - mae: 0.0029 - val_loss: 0.0023 - val_mse: 0.0023 - val_mae: 0.0202\n"
          ],
          "name": "stdout"
        }
      ]
    },
    {
      "cell_type": "markdown",
      "metadata": {
        "id": "QF2laY7ff4RR"
      },
      "source": [
        "### **Kreiranje i treniranje drugog modela mreze**\n"
      ]
    },
    {
      "cell_type": "code",
      "metadata": {
        "colab": {
          "base_uri": "https://localhost:8080/"
        },
        "id": "HQur59lt0xwB",
        "outputId": "b03957a8-ad6b-4610-d393-3ab8e03ad279"
      },
      "source": [
        "# Inicijalizacija RNN\n",
        "model_2 = Sequential()\n",
        "\n",
        "# Dodavanje slojeva\n",
        "model_2.add(LSTM(units = 50, activation = 'relu', return_sequences = True, input_shape = (None, 1)))\n",
        "model_2.add(Dropout(0.2))\n",
        "model_2.add(LSTM(units = 60, activation = 'relu', return_sequences = True))\n",
        "model_2.add(Dropout(0.3))\n",
        "model_2.add(LSTM(units = 80, activation = 'relu', return_sequences = True))\n",
        "model_2.add(Dropout(0.4))\n",
        "model_2.add(LSTM(units = 120, activation = 'relu'))\n",
        "model_2.add(Dropout(0.5))\n",
        "model_2.add(Dense(units =1))\n",
        "\n",
        "# Arhitektura mreze\n",
        "model_2.summary()"
      ],
      "execution_count": 14,
      "outputs": [
        {
          "output_type": "stream",
          "text": [
            "Model: \"sequential_1\"\n",
            "_________________________________________________________________\n",
            "Layer (type)                 Output Shape              Param #   \n",
            "=================================================================\n",
            "lstm_1 (LSTM)                (None, None, 50)          10400     \n",
            "_________________________________________________________________\n",
            "dropout (Dropout)            (None, None, 50)          0         \n",
            "_________________________________________________________________\n",
            "lstm_2 (LSTM)                (None, None, 60)          26640     \n",
            "_________________________________________________________________\n",
            "dropout_1 (Dropout)          (None, None, 60)          0         \n",
            "_________________________________________________________________\n",
            "lstm_3 (LSTM)                (None, None, 80)          45120     \n",
            "_________________________________________________________________\n",
            "dropout_2 (Dropout)          (None, None, 80)          0         \n",
            "_________________________________________________________________\n",
            "lstm_4 (LSTM)                (None, 120)               96480     \n",
            "_________________________________________________________________\n",
            "dropout_3 (Dropout)          (None, 120)               0         \n",
            "_________________________________________________________________\n",
            "dense_1 (Dense)              (None, 1)                 121       \n",
            "=================================================================\n",
            "Total params: 178,761\n",
            "Trainable params: 178,761\n",
            "Non-trainable params: 0\n",
            "_________________________________________________________________\n"
          ],
          "name": "stdout"
        }
      ]
    },
    {
      "cell_type": "code",
      "metadata": {
        "colab": {
          "base_uri": "https://localhost:8080/"
        },
        "id": "7wAwTiofbC_x",
        "outputId": "f8575457-6fd6-4c2b-fa4c-6aaad8bdb3eb"
      },
      "source": [
        "# Kompilacija RNN\n",
        "model_2.compile(optimizer = 'adam', loss = 'mean_squared_error', metrics=['mse', 'mae'])\n",
        "\n",
        "# Rano zaustavljanje treninga\n",
        "callback = callbacks.EarlyStopping(monitor = 'loss', patience = 3)\n",
        "\n",
        "# Treniranje RNN na trening skupu\n",
        "history_2 = model_2.fit(X_train, y_train, batch_size = 20, epochs = 50, validation_split = 0.1, verbose = 2, callbacks=[callback])"
      ],
      "execution_count": 15,
      "outputs": [
        {
          "output_type": "stream",
          "text": [
            "Epoch 1/50\n",
            "150/150 - 7s - loss: 0.0083 - mse: 0.0083 - mae: 0.0731 - val_loss: 0.0716 - val_mse: 0.0716 - val_mae: 0.2157\n",
            "Epoch 2/50\n",
            "150/150 - 1s - loss: 0.0012 - mse: 0.0012 - mae: 0.0231 - val_loss: 0.0013 - val_mse: 0.0013 - val_mae: 0.0142\n",
            "Epoch 3/50\n",
            "150/150 - 1s - loss: 7.7263e-04 - mse: 7.7263e-04 - mae: 0.0174 - val_loss: 9.8986e-04 - val_mse: 9.8986e-04 - val_mae: 0.0255\n",
            "Epoch 4/50\n",
            "150/150 - 1s - loss: 7.8321e-04 - mse: 7.8321e-04 - mae: 0.0173 - val_loss: 0.0019 - val_mse: 0.0019 - val_mae: 0.0300\n",
            "Epoch 5/50\n",
            "150/150 - 1s - loss: 6.0044e-04 - mse: 6.0044e-04 - mae: 0.0158 - val_loss: 0.0016 - val_mse: 0.0016 - val_mae: 0.0229\n",
            "Epoch 6/50\n",
            "150/150 - 1s - loss: 6.6419e-04 - mse: 6.6419e-04 - mae: 0.0160 - val_loss: 0.0011 - val_mse: 0.0011 - val_mae: 0.0172\n",
            "Epoch 7/50\n",
            "150/150 - 1s - loss: 6.0964e-04 - mse: 6.0964e-04 - mae: 0.0158 - val_loss: 0.0036 - val_mse: 0.0036 - val_mae: 0.0422\n",
            "Epoch 8/50\n",
            "150/150 - 1s - loss: 6.3569e-04 - mse: 6.3569e-04 - mae: 0.0158 - val_loss: 0.0079 - val_mse: 0.0079 - val_mae: 0.0627\n"
          ],
          "name": "stdout"
        }
      ]
    },
    {
      "cell_type": "markdown",
      "metadata": {
        "id": "Z_7cfzXxmNax"
      },
      "source": [
        "# **Predviđanja mreža**"
      ]
    },
    {
      "cell_type": "markdown",
      "metadata": {
        "id": "gZZxOouxmWmx"
      },
      "source": [
        "### **Predvidjanje prvog modela mreže**"
      ]
    },
    {
      "cell_type": "code",
      "metadata": {
        "id": "N-hV_kuyXE0V"
      },
      "source": [
        "# Predvidjanje prvog modela mreze\n",
        "\n",
        "# Skup podataka za testiranje\n",
        "test_set = test.values\n",
        "test_data = np.reshape(test_set, (len(test_set), 1))\n",
        "\n",
        "test_data = np.reshape(test_data, (len(test_data), 1, 1))\n",
        "\n",
        "# Odredjivanje ciljne promenljive\n",
        "X_test = test_data[0:len(test_data)-1]\n",
        "y_test = test_data[1:len(test_data)]\n",
        "\n",
        "X_test = np.reshape(X_test, (len(X_test), 1))\n",
        "\n",
        "\n",
        "# Skaliranje podataka skupa za testiranje\n",
        "X_test = scaler.transform(X_test)\n",
        "\n",
        "X_test = np.reshape(X_test, (len(X_test), 1, 1))\n"
      ],
      "execution_count": 16,
      "outputs": []
    },
    {
      "cell_type": "code",
      "metadata": {
        "colab": {
          "base_uri": "https://localhost:8080/"
        },
        "id": "Eh1LMkRJuxR7",
        "outputId": "b22ecbb6-5429-4189-84d0-56e5be79e214"
      },
      "source": [
        "test_data[:5], test_data.shape"
      ],
      "execution_count": 17,
      "outputs": [
        {
          "output_type": "execute_result",
          "data": {
            "text/plain": [
              "(array([[[33450.93785876]],\n",
              " \n",
              "        [[33705.97519065]],\n",
              " \n",
              "        [[34713.69640011]],\n",
              " \n",
              "        [[36573.09481031]],\n",
              " \n",
              "        [[37541.54813242]]]), (60, 1, 1))"
            ]
          },
          "metadata": {},
          "execution_count": 17
        }
      ]
    },
    {
      "cell_type": "code",
      "metadata": {
        "colab": {
          "base_uri": "https://localhost:8080/"
        },
        "id": "sgWNlr1osRH0",
        "outputId": "686b0682-5a16-40b4-efbc-6743c30b3b09"
      },
      "source": [
        "X_test[:5], X_test.shape"
      ],
      "execution_count": 18,
      "outputs": [
        {
          "output_type": "execute_result",
          "data": {
            "text/plain": [
              "(array([[[0.82806998]],\n",
              " \n",
              "        [[0.83438418]],\n",
              " \n",
              "        [[0.85933331]],\n",
              " \n",
              "        [[0.90536823]],\n",
              " \n",
              "        [[0.92934517]]]), (59, 1, 1))"
            ]
          },
          "metadata": {},
          "execution_count": 18
        }
      ]
    },
    {
      "cell_type": "code",
      "metadata": {
        "colab": {
          "base_uri": "https://localhost:8080/"
        },
        "id": "cgGGBcqesSI1",
        "outputId": "95bbd2d9-8e04-4764-e643-d57f6e6aaff3"
      },
      "source": [
        "y_test[:5], y_test.shape"
      ],
      "execution_count": 19,
      "outputs": [
        {
          "output_type": "execute_result",
          "data": {
            "text/plain": [
              "(array([[[33705.97519065]],\n",
              " \n",
              "        [[34713.69640011]],\n",
              " \n",
              "        [[36573.09481031]],\n",
              " \n",
              "        [[37541.54813242]],\n",
              " \n",
              "        [[37630.049214  ]]]), (59, 1, 1))"
            ]
          },
          "metadata": {},
          "execution_count": 19
        }
      ]
    },
    {
      "cell_type": "code",
      "metadata": {
        "colab": {
          "base_uri": "https://localhost:8080/"
        },
        "id": "avDSfqrvsexi",
        "outputId": "2d49f3aa-f2f8-4ca2-f69b-52f16e88dcbf"
      },
      "source": [
        "y_test_reshaped = np.reshape(y_test, (len(y_test), 1))\n",
        "y_test_reshaped[:5], y_test_reshaped.shape"
      ],
      "execution_count": 20,
      "outputs": [
        {
          "output_type": "execute_result",
          "data": {
            "text/plain": [
              "(array([[33705.97519065],\n",
              "        [34713.69640011],\n",
              "        [36573.09481031],\n",
              "        [37541.54813242],\n",
              "        [37630.049214  ]]), (59, 1))"
            ]
          },
          "metadata": {},
          "execution_count": 20
        }
      ]
    },
    {
      "cell_type": "code",
      "metadata": {
        "colab": {
          "base_uri": "https://localhost:8080/"
        },
        "id": "WObw7cDtgzUL",
        "outputId": "fe9d5cd3-702d-456a-c041-a475d9bb7189"
      },
      "source": [
        "# Predvidjanje 1. modela\n",
        "predicted_price = model.predict(X_test)\n",
        "predicted_price[:5], predicted_price.shape"
      ],
      "execution_count": 21,
      "outputs": [
        {
          "output_type": "execute_result",
          "data": {
            "text/plain": [
              "(array([[0.70421344],\n",
              "        [0.7074915 ],\n",
              "        [0.72009724],\n",
              "        [0.74193835],\n",
              "        [0.7526101 ]], dtype=float32), (59, 1))"
            ]
          },
          "metadata": {},
          "execution_count": 21
        }
      ]
    },
    {
      "cell_type": "code",
      "metadata": {
        "colab": {
          "base_uri": "https://localhost:8080/"
        },
        "id": "uGvoKT0dg0Cb",
        "outputId": "d5aec915-fd9a-4c0b-8b4a-be5d7bb574a3"
      },
      "source": [
        "# Primenjena je inverzna transformacija\n",
        "# kako bi se dobila pocetna forma cene\n",
        "\n",
        "predicted_real_price = scaler.inverse_transform(predicted_price)\n",
        "predicted_real_price[:5]"
      ],
      "execution_count": 22,
      "outputs": [
        {
          "output_type": "execute_result",
          "data": {
            "text/plain": [
              "array([[28448.244],\n",
              "       [28580.648],\n",
              "       [29089.807],\n",
              "       [29971.992],\n",
              "       [30403.033]], dtype=float32)"
            ]
          },
          "metadata": {},
          "execution_count": 22
        }
      ]
    },
    {
      "cell_type": "code",
      "metadata": {
        "id": "5D0S8Jlfg1F1"
      },
      "source": [
        ""
      ],
      "execution_count": 22,
      "outputs": []
    },
    {
      "cell_type": "markdown",
      "metadata": {
        "id": "Tv4RPd0Jme3Y"
      },
      "source": [
        "### **Predvidjanje drugog modela mreže**"
      ]
    },
    {
      "cell_type": "code",
      "metadata": {
        "colab": {
          "base_uri": "https://localhost:8080/"
        },
        "id": "3Myu9iaPmvtC",
        "outputId": "7dcbb009-bb96-482c-9b22-0ff2d8c424cf"
      },
      "source": [
        "# Predvidjanje 2. modela\n",
        "\n",
        "# Skup podataka za testiranje isti kao kod 1. modela - X_test\n",
        "\n",
        "predicted_price_2 = model_2.predict(X_test)\n",
        "predicted_price_2[:5]\n",
        "\n",
        "# np.reshape(predicted_price_2, (len(predicted_price_2), 1, 1))\n"
      ],
      "execution_count": 23,
      "outputs": [
        {
          "output_type": "execute_result",
          "data": {
            "text/plain": [
              "array([[0.6107904 ],\n",
              "       [0.61423755],\n",
              "       [0.6276257 ],\n",
              "       [0.6513295 ],\n",
              "       [0.6631454 ]], dtype=float32)"
            ]
          },
          "metadata": {},
          "execution_count": 23
        }
      ]
    },
    {
      "cell_type": "code",
      "metadata": {
        "colab": {
          "base_uri": "https://localhost:8080/"
        },
        "id": "5ldheGuqmv65",
        "outputId": "78db57ee-22aa-43d8-bfb9-09c84370af67"
      },
      "source": [
        "# Primenjena je inverzna transformacija\n",
        "# kako bi se dobila pocetna forma cene\n",
        "\n",
        "predicted_real_price_2 = scaler.inverse_transform(predicted_price_2)\n",
        "predicted_real_price_2[:5]"
      ],
      "execution_count": 24,
      "outputs": [
        {
          "output_type": "execute_result",
          "data": {
            "text/plain": [
              "array([[24674.79 ],\n",
              "       [24814.023],\n",
              "       [25354.785],\n",
              "       [26312.207],\n",
              "       [26789.463]], dtype=float32)"
            ]
          },
          "metadata": {},
          "execution_count": 24
        }
      ]
    },
    {
      "cell_type": "code",
      "metadata": {
        "id": "8YDvdUJinzSY"
      },
      "source": [
        ""
      ],
      "execution_count": 24,
      "outputs": []
    },
    {
      "cell_type": "markdown",
      "metadata": {
        "id": "QSTspEUToIeH"
      },
      "source": [
        "# **Vizuelni prikaz rezultata**"
      ]
    },
    {
      "cell_type": "markdown",
      "metadata": {
        "id": "MaSDd3v8oQFN"
      },
      "source": [
        "### **Vizuelni prikaz rezultata prvog modela mreze**"
      ]
    },
    {
      "cell_type": "code",
      "metadata": {
        "colab": {
          "base_uri": "https://localhost:8080/",
          "height": 543
        },
        "id": "qt7d1yJS2HQC",
        "outputId": "57d2b80d-9b90-4567-847d-66d41dee1b46"
      },
      "source": [
        "# Vizuelni prikaz rezultata prvog modela mreze\n",
        "\n",
        "plt.figure(figsize=(15,9), dpi=100, facecolor='w', edgecolor='k')\n",
        "ax = plt.gca()\n",
        "\n",
        "plt.title('Vizuelni prikaz stvarne i predvidjene vrednosti BTC')\n",
        "plt.plot(y_test_reshaped, color = 'red', label = 'Stvarna vrednost BTC')\n",
        "plt.plot(predicted_real_price, color = 'green', label = 'Predvidjena vrednost BTC')\n",
        "\n",
        "test = test.reset_index()\n",
        "x = test.index\n",
        "\n",
        "plt.xticks(x, labels = test['Date'], rotation = 'vertical')\n",
        "plt.xlabel('Vremenski period')\n",
        "plt.ylabel('Cena BTC (USD)')\n",
        "plt.legend(loc='best')\n",
        "plt.show()"
      ],
      "execution_count": 25,
      "outputs": [
        {
          "output_type": "display_data",
          "data": {
            "image/png": "[encoded data removed]",
            "text/plain": [
              "<Figure size 1500x900 with 1 Axes>"
            ]
          },
          "metadata": {}
        }
      ]
    },
    {
      "cell_type": "code",
      "metadata": {
        "colab": {
          "base_uri": "https://localhost:8080/",
          "height": 281
        },
        "id": "sok0QN8N2M-l",
        "outputId": "c502a38a-217d-4469-8c3c-ce27a3da0b56"
      },
      "source": [
        "# Vizuelni prikaz gubitka (loss) tokom treniranja mreze\n",
        "\n",
        "plt.subplot(211)\n",
        "# plt.title('Gubitak (Loss)')\n",
        "epochs = range(len(history.history['loss']))\n",
        "plt.plot(epochs, history.history['loss'], label='Gubitak (loss) tokom treniranja')\n",
        "plt.plot(epochs, history.history['val_loss'], label='Gubitak (val_loss) tokom validacije')\n",
        "\n",
        "plt.legend()\n",
        "\n",
        "plt.title('Vizuelni prikaz gubitka (loss) i MSE (mse) mreze')\n",
        "\n",
        "# Vizuelni prikaz MSE (mse) tokom treniranja mreze\n",
        "plt.subplot(212)\n",
        "# plt.title('MSE (mse)')\n",
        "plt.plot(epochs, history.history['mse'], label='MSE (mse) tokom treniranja')\n",
        "plt.plot(epochs, history.history['val_mse'], label='MSE (val_mse) tokom validacije')\n",
        "\n",
        "plt.legend()\n",
        "\n",
        "plt.show()"
      ],
      "execution_count": 26,
      "outputs": [
        {
          "output_type": "display_data",
          "data": {
            "image/png": "[encoded data removed]",
            "text/plain": [
              "<Figure size 432x288 with 2 Axes>"
            ]
          },
          "metadata": {
            "needs_background": "light"
          }
        }
      ]
    },
    {
      "cell_type": "code",
      "metadata": {
        "id": "T35MPqZGvQ9J"
      },
      "source": [
        "# Vizuelni prikaz MAE\n",
        "\n",
        "def plot_mae(history_):\n",
        "\n",
        "  epochs = range(len(history_.history['mae'])) # broj epoha\n",
        "  plt.title('Vizuelni prikaz MAE (mae')\n",
        "  plt.xlabel('broj epohe')\n",
        "  plt.ylabel('MAE')\n",
        "  \n",
        "  plt.plot(epochs, history_.history['mae'], label='MAE (mae) tokom treniranja')\n",
        "\n",
        "  if 'val_mae' in history_.history:\n",
        "    plt.plot(epochs, history_.history['val_mae'], label='MAE (val_mae) tokom treniranja sa validacijom')\n",
        "\n",
        "  plt.legend(loc = 'best')\n",
        "\n",
        "  plt.show()"
      ],
      "execution_count": 27,
      "outputs": []
    },
    {
      "cell_type": "code",
      "metadata": {
        "colab": {
          "base_uri": "https://localhost:8080/",
          "height": 295
        },
        "id": "l_DyWRvUdLB8",
        "outputId": "79847238-e632-489b-f831-b063bbee1bf7"
      },
      "source": [
        "# MAE - sa validacijom\n",
        "\n",
        "plot_mae(history)"
      ],
      "execution_count": 28,
      "outputs": [
        {
          "output_type": "display_data",
          "data": {
            "image/png": "[encoded data removed]",
            "text/plain": [
              "<Figure size 432x288 with 1 Axes>"
            ]
          },
          "metadata": {
            "needs_background": "light"
          }
        }
      ]
    },
    {
      "cell_type": "code",
      "metadata": {
        "colab": {
          "base_uri": "https://localhost:8080/"
        },
        "id": "OGfHxBRSdN8z",
        "outputId": "890dd323-764b-4b39-87b5-9ece6ac460a8"
      },
      "source": [
        "# Loss, MSE, MAE nad skupom za testiranje\n",
        "\n",
        "# (za model koji pri treniranju koristi validaciju\n",
        "# i za model koji pri treniranju ne koristi validaciju)\n",
        "\n",
        "test_metrics_val = model.evaluate(X_test, y_test)\n",
        "\n",
        "print('\\n\\nMetrike prilikom testiranja - model treniran sa validacijom\\n')\n",
        "print(model.metrics_names[0], test_metrics_val[0])\n",
        "print(model.metrics_names[1], test_metrics_val[1])\n",
        "print(model.metrics_names[2], test_metrics_val[2])"
      ],
      "execution_count": 29,
      "outputs": [
        {
          "output_type": "stream",
          "text": [
            "2/2 [==============================] - 0s 7ms/step - loss: 2601838080.0000 - mse: 2601838080.0000 - mae: 50573.5078\n",
            "\n",
            "\n",
            "Metrike prilikom testiranja - model treniran sa validacijom\n",
            "\n",
            "loss 2601838080.0\n",
            "mse 2601838080.0\n",
            "mae 50573.5078125\n"
          ],
          "name": "stdout"
        }
      ]
    },
    {
      "cell_type": "code",
      "metadata": {
        "colab": {
          "base_uri": "https://localhost:8080/"
        },
        "id": "e84qmwHSdTl7",
        "outputId": "f134f448-e8d9-4a72-d69d-09212e5e7f21"
      },
      "source": [
        "# R2 skor nad skupom za testiranje\n",
        "\n",
        "r2 = metrics.r2_score(predicted_real_price, y_test_reshaped)\n",
        "\n",
        "print('R2 skor prilikom testiranja - model treniran sa validacijom', r2)"
      ],
      "execution_count": 30,
      "outputs": [
        {
          "output_type": "stream",
          "text": [
            "R2 skor prilikom testiranja - model treniran sa validacijom -73.89704814576555\n"
          ],
          "name": "stdout"
        }
      ]
    },
    {
      "cell_type": "markdown",
      "metadata": {
        "id": "qcj_CuMtoZxO"
      },
      "source": [
        "### **Vizuelni prikaz rezultata drugog modela mreze**"
      ]
    },
    {
      "cell_type": "code",
      "metadata": {
        "colab": {
          "base_uri": "https://localhost:8080/",
          "height": 543
        },
        "id": "ncsxdtc0lsc4",
        "outputId": "bb360ec3-b0f5-45da-b147-e9b0b34efcea"
      },
      "source": [
        "# Vizuelni prikaz rezultata drugog modela mreze\n",
        "\n",
        "plt.figure(figsize=(15,9), dpi=100, facecolor='w', edgecolor='k')\n",
        "ax_2 = plt.gca()\n",
        "\n",
        "plt.title('Vizuelni prikaz stvarne i predvidjene vrednosti BTC')\n",
        "plt.plot(y_test_reshaped, color = 'red', label = 'Stvarna vrednost BTC')\n",
        "plt.plot(predicted_real_price_2, color = 'green', label = 'Predvidjena vrednost BTC')\n",
        "\n",
        "test = test.reset_index()\n",
        "x = test.index\n",
        "\n",
        "plt.xticks(x, labels = test['Date'], rotation = 'vertical')\n",
        "plt.xlabel('Vremenski period')\n",
        "plt.ylabel('Cena BTC (USD)')\n",
        "plt.legend(loc='best')\n",
        "plt.show()"
      ],
      "execution_count": 31,
      "outputs": [
        {
          "output_type": "display_data",
          "data": {
            "image/png": "[encoded data removed]",
            "text/plain": [
              "<Figure size 1500x900 with 1 Axes>"
            ]
          },
          "metadata": {}
        }
      ]
    },
    {
      "cell_type": "code",
      "metadata": {
        "colab": {
          "base_uri": "https://localhost:8080/",
          "height": 281
        },
        "id": "vDLe3IJIlsfJ",
        "outputId": "bcaaac16-b002-4b59-c596-bb1003e8b43d"
      },
      "source": [
        "# Vizuelni prikaz gubitka (loss) tokom treniranja i validacije mreze\n",
        "\n",
        "plt.subplot(211)\n",
        "# plt.title('Gubitak (Loss)')\n",
        "epochs = range(len(history_2.history['loss']))\n",
        "plt.plot(epochs, history_2.history['loss'], label = 'Gubitak (loss) na trening skupu')\n",
        "plt.plot(epochs, history_2.history['val_loss'], label = 'Gubitak (val_loss) na validacionom skupu')\n",
        "plt.legend()\n",
        "\n",
        "plt.title('Vizuelni prikaz gubitka (loss) i MSE (mse) mreze')\n",
        "\n",
        "# Vizuelni prikaz MSE (mse) tokom treniranja i validacije mreze\n",
        "\n",
        "plt.subplot(212)\n",
        "# plt.title('MSE (mse)')\n",
        "plt.plot(epochs, history_2.history['mse'], label = 'MSE (mse) na trening skupu')\n",
        "plt.plot(epochs, history_2.history['val_mse'], label = 'MSE (mse) na validacionom skupu')\n",
        "plt.legend()\n",
        "\n",
        "plt.show()"
      ],
      "execution_count": 32,
      "outputs": [
        {
          "output_type": "display_data",
          "data": {
            "image/png": "[encoded data removed]",
            "text/plain": [
              "<Figure size 432x288 with 2 Axes>"
            ]
          },
          "metadata": {
            "needs_background": "light"
          }
        }
      ]
    },
    {
      "cell_type": "code",
      "metadata": {
        "id": "vUk_A50ulsiX",
        "colab": {
          "base_uri": "https://localhost:8080/",
          "height": 295
        },
        "outputId": "3317229b-717e-49ff-d272-e219032d9d6b"
      },
      "source": [
        "# MAE - sa validacijom\n",
        "\n",
        "plot_mae(history_2)"
      ],
      "execution_count": 33,
      "outputs": [
        {
          "output_type": "display_data",
          "data": {
            "image/png": "[encoded data removed]",
            "text/plain": [
              "<Figure size 432x288 with 1 Axes>"
            ]
          },
          "metadata": {
            "needs_background": "light"
          }
        }
      ]
    },
    {
      "cell_type": "code",
      "metadata": {
        "colab": {
          "base_uri": "https://localhost:8080/"
        },
        "id": "fHexSci6hPVf",
        "outputId": "24cf256b-5ee2-4086-d940-741483d97379"
      },
      "source": [
        "# Loss, MSE, MAE nad skupom za testiranje\n",
        "\n",
        "# (za model koji pri treniranju koristi validaciju\n",
        "# i za model koji pri treniranju ne koristi validaciju)\n",
        "\n",
        "test_metrics_val_2 = model_2.evaluate(X_test, y_test)\n",
        "\n",
        "print('\\n\\nMetrike prilikom testiranja - model treniran sa validacijom\\n')\n",
        "print(model_2.metrics_names[0], test_metrics_val_2[0])\n",
        "print(model_2.metrics_names[1], test_metrics_val_2[1])\n",
        "print(model_2.metrics_names[2], test_metrics_val_2[2])"
      ],
      "execution_count": 34,
      "outputs": [
        {
          "output_type": "stream",
          "text": [
            "2/2 [==============================] - 1s 9ms/step - loss: 2601845760.0000 - mse: 2601845760.0000 - mae: 50573.5859\n",
            "\n",
            "\n",
            "Metrike prilikom testiranja - model treniran sa validacijom\n",
            "\n",
            "loss 2601845760.0\n",
            "mse 2601845760.0\n",
            "mae 50573.5859375\n"
          ],
          "name": "stdout"
        }
      ]
    },
    {
      "cell_type": "code",
      "metadata": {
        "colab": {
          "base_uri": "https://localhost:8080/"
        },
        "id": "qihsTpLEhPYO",
        "outputId": "c58ce2ae-2e18-4f33-97e8-cf1070ddfe5b"
      },
      "source": [
        "# R2 skor nad skupom za testiranje\n",
        "\n",
        "r2_2 = metrics.r2_score(predicted_real_price_2, y_test_reshaped)\n",
        "\n",
        "print('R2 skor prilikom testiranja - model treniran sa validacijom', r2)"
      ],
      "execution_count": 35,
      "outputs": [
        {
          "output_type": "stream",
          "text": [
            "R2 skor prilikom testiranja - model treniran sa validacijom -73.89704814576555\n"
          ],
          "name": "stdout"
        }
      ]
    },
    {
      "cell_type": "code",
      "metadata": {
        "id": "_FcoAES7hPaZ"
      },
      "source": [
        ""
      ],
      "execution_count": 35,
      "outputs": []
    }
  ]
}