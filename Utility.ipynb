{
  "nbformat": 4,
  "nbformat_minor": 0,
  "metadata": {
    "colab": {
      "name": "Utility.ipynb",
      "provenance": [],
      "collapsed_sections": [],
      "include_colab_link": true
    },
    "kernelspec": {
      "display_name": "Python 3",
      "name": "python3"
    },
    "language_info": {
      "name": "python"
    }
  },
  "cells": [
    {
      "cell_type": "markdown",
      "metadata": {
        "id": "view-in-github",
        "colab_type": "text"
      },
      "source": [
        "<a href=\"https://colab.research.google.com/github/jovanape/Bitcoint-Price-Prediction/blob/main/Utility.ipynb\" target=\"_parent\"><img src=\"https://colab.research.google.com/assets/colab-badge.svg\" alt=\"Open In Colab\"/></a>"
      ]
    },
    {
      "cell_type": "markdown",
      "metadata": {
        "id": "4_6hHjWjjzos"
      },
      "source": [
        "# **Predvidjanje vrednosti Bitcoina pomocu GRU (Gated Recurrent Unit), RNN**\n",
        "\n",
        "**Atributi:** Close\n",
        "\n",
        "**Filtrirani podaci:** od 28.03.2021."
      ]
    },
    {
      "cell_type": "markdown",
      "metadata": {
        "id": "krvFQDwvkBdX"
      },
      "source": [
        "## **Ucitavanje biblioteka**"
      ]
    },
    {
      "cell_type": "code",
      "metadata": {
        "id": "iaSuiXq3HP1y"
      },
      "source": [
        "# Ucitavanje biblioteka\n",
        "\n",
        "import numpy as np \n",
        "import pandas as pd \n",
        "from matplotlib import pyplot as plt\n",
        "from sklearn.preprocessing import MinMaxScaler\n",
        "from keras.models import Sequential\n",
        "from keras.layers import Dense\n",
        "from keras.layers import LSTM\n",
        "from keras.layers import Dense, Dropout, Activation, Flatten,Reshape\n",
        "from keras.layers import Conv1D, MaxPooling1D, LeakyReLU\n",
        "#from keras.utils import np_utils\n",
        "from keras.layers import GRU,CuDNNGRU\n",
        "from keras.callbacks import CSVLogger, ModelCheckpoint\n",
        "#import h5py\n",
        "import os\n",
        "from keras.losses import MeanSquaredError\n",
        "#import tensorflow as tf\n",
        "#from keras.backend.tensorflow_backend import set_session"
      ],
      "execution_count": null,
      "outputs": []
    },
    {
      "cell_type": "markdown",
      "metadata": {
        "id": "uJHmdAZWkeLL"
      },
      "source": [
        "### **Podela skupa podataka**"
      ]
    },
    {
      "cell_type": "code",
      "metadata": {
        "id": "dhZQvDybJsOg"
      },
      "source": [
        "# Definicija funkcije za podelu podataka na train i test skup\n",
        "\n",
        "def data_split(data, test_size = 0, days_to_predict = 0):\n",
        "\n",
        "  if test_size == 0 and days_to_predict == 0:\n",
        "    print('Uneti vrednost za jedan od parametara test_size ili days_to_predict.\\n')\n",
        "    return\n",
        "  elif test_size == 0: # dato je days_to_predict\n",
        "    test_limit = len(data) - prediction_days\n",
        "  else: # dato je test_size ili oba parametra\n",
        "    test_limit = len(data) - int(test_size * len(data))\n",
        "\n",
        "  train = data[:test_limit]\n",
        "  test = data[test_limit:]\n",
        "  \n",
        "  return train, test"
      ],
      "execution_count": null,
      "outputs": []
    },
    {
      "cell_type": "markdown",
      "metadata": {
        "id": "ttRI2EHVkikR"
      },
      "source": [
        "### **Vizualizacija podataka**"
      ]
    },
    {
      "cell_type": "code",
      "metadata": {
        "id": "rCH1LLR7hUWc"
      },
      "source": [
        "# Definicija funkcije za vizuelni prikaz train i test podataka\n",
        "\n",
        "def plot_data(train_data = train['Close'], test_data = test['Close']):\n",
        "\n",
        "  fig, ax = plt.subplots(1, figsize=(16, 9))\n",
        "  ax.plot(train_data, label='trening', linewidth=2)\n",
        "  ax.plot(test_data, label='test', linewidth=2)\n",
        "  ax.set_ylabel('cena [USD]', fontsize=14)\n",
        "  ax.set_title(label = 'Vizuelni prikaz skupova za trening i test', fontsize=18)\n",
        "  ax.legend(loc='best', fontsize=18)\n",
        "\n",
        "  #data = data.reset_index()\n",
        "  #x = data.index\n",
        "  #ax.set_xticks(range(87724))\n"
      ],
      "execution_count": null,
      "outputs": []
    },
    {
      "cell_type": "markdown",
      "metadata": {
        "id": "dZw1y3Dxk1bt"
      },
      "source": [
        "## **Priprema trening skupa**"
      ]
    },
    {
      "cell_type": "markdown",
      "metadata": {
        "id": "vI9Ehz9mlQu2"
      },
      "source": [
        "###**Filtriranje atributa train skupa**"
      ]
    },
    {
      "cell_type": "code",
      "metadata": {
        "id": "bLfZvfLHiph9"
      },
      "source": [
        "# Izbacivanje nepotrebnih kolona (atributa) iz train skupa\n",
        "\n",
        "def filter_train_set(train):\n",
        "  train_ = train.drop(['Open', 'High', 'Low', 'Date', 'Volume_(BTC)', 'Volume_(Currency)', 'Weighted_Price', 'Timestamp'], axis = 1)\n",
        "  print('Filtriran trening skup:\\n', train_.head())\n",
        "  print('\\nBroj atributa pre i nakon izbacivanja:\\n', train.shape[1], train_.shape[1])\n",
        "  return train_"
      ],
      "execution_count": 1,
      "outputs": []
    },
    {
      "cell_type": "markdown",
      "metadata": {
        "id": "aos7IhTSlJ_c"
      },
      "source": [
        "###**Skaliranje train skupa**"
      ]
    },
    {
      "cell_type": "code",
      "metadata": {
        "id": "3F3uP_YAjuAb",
        "colab": {
          "base_uri": "https://localhost:8080/"
        },
        "outputId": "c124814b-6251-4492-cfd4-64a21378da21"
      },
      "source": [
        "# Skaliranje trening skupa\n",
        "\n",
        "def scale_train(train_):\n",
        "  scaler = MinMaxScaler(feature_range=(0, 1))\n",
        "  train_ = scaler.fit_transform(train_)\n",
        "  return scaler, train_"
      ],
      "execution_count": null,
      "outputs": [
        {
          "output_type": "execute_result",
          "data": {
            "text/plain": [
              "array([[0.19947492],\n",
              "       [0.21134984],\n",
              "       [0.19379327],\n",
              "       ...,\n",
              "       [0.84805843],\n",
              "       [0.84788789],\n",
              "       [0.86661356]])"
            ]
          },
          "metadata": {
            "tags": []
          },
          "execution_count": 16
        }
      ]
    },
    {
      "cell_type": "markdown",
      "metadata": {
        "id": "InbjlC2IlFqc"
      },
      "source": [
        "###**Odredjivanje ciljne promenljive na train skupu**\n"
      ]
    },
    {
      "cell_type": "code",
      "metadata": {
        "id": "4x8ADxLLj2Gh"
      },
      "source": [
        "# Odredjivanje ciljne promenljive na train skupu\n",
        "\n",
        "def get_x_and_y():\n",
        "  X_train = []\n",
        "  y_train = []\n",
        "\n",
        "  for i in range(60, train_.shape[0]):\n",
        "    X_train.append(train_[i-60:i])\n",
        "    y_train.append(train_[i,0])\n",
        "\n",
        "  return X_train, y_train"
      ],
      "execution_count": null,
      "outputs": []
    },
    {
      "cell_type": "markdown",
      "metadata": {
        "id": "30h12bNEmP83"
      },
      "source": [
        "## **Kompilacija i treniranje mreze**"
      ]
    },
    {
      "cell_type": "code",
      "metadata": {
        "id": "W1PIqBXAb8LA",
        "colab": {
          "base_uri": "https://localhost:8080/",
          "height": 253
        },
        "outputId": "d55137e6-0d69-4bb1-dd1f-8f2105f524e1"
      },
      "source": [
        "# Definicija funkcije za kompilaciju i treniranje mreze\n",
        "# Treniranje je moguce vrsiti sa ili bez validacije\n",
        "\n",
        "def compile_and_fit(validation_data, validation_labels, optimizer = 'adam', loss = 'mean_squared_error', metrics = ['mse', 'mae'], X_train_ = X_train, y_train_ = y_train, epochs = 20, validation = 0.1, batch_size = 50, patience = 3):\n",
        "\n",
        "  net.compile(loss = loss, optimizer = optimizer, metrics = metrics)\n",
        "\n",
        "  callback = callbacks.EarlyStopping(monitor = 'loss', patience = patience)\n",
        "\n",
        "  if validation == 0:\n",
        "    history = net.fit(X_train_, y_train_, batch_size = batch_size, epochs = epochs, callbacks = [CSVLogger(output_file_name + '.csv', append = True), ModelCheckpoint('weights/' + output_file_name+'-{epoch:02d}-{val_loss:.5f}.hdf5', monitor = 'val_loss', verbose = 1, mode = 'min'), callback])\n",
        "  else:\n",
        "    history = net.fit(X_train_, y_train_, batch_size = batch_size, validation_data = (validation_data, validation_labels), epochs = epochs, callbacks=[CSVLogger(output_file_name + '.csv', append = True), ModelCheckpoint('weights/' + output_file_name + '-{epoch:02d}-{val_loss:.5f}.hdf5', monitor = 'val_loss', verbose = 1, mode = 'min'), callback])\n",
        "\n",
        "  return history, net\n"
      ],
      "execution_count": 2,
      "outputs": [
        {
          "output_type": "error",
          "ename": "NameError",
          "evalue": "ignored",
          "traceback": [
            "\u001b[0;31m---------------------------------------------------------------------------\u001b[0m",
            "\u001b[0;31mNameError\u001b[0m                                 Traceback (most recent call last)",
            "\u001b[0;32m<ipython-input-2-1d72391eb3cf>\u001b[0m in \u001b[0;36m<module>\u001b[0;34m()\u001b[0m\n\u001b[1;32m      2\u001b[0m \u001b[0;31m# Treniranje je moguce vrsiti sa ili bez validacije\u001b[0m\u001b[0;34m\u001b[0m\u001b[0;34m\u001b[0m\u001b[0;34m\u001b[0m\u001b[0m\n\u001b[1;32m      3\u001b[0m \u001b[0;34m\u001b[0m\u001b[0m\n\u001b[0;32m----> 4\u001b[0;31m \u001b[0;32mdef\u001b[0m \u001b[0mcompile_and_fit\u001b[0m\u001b[0;34m(\u001b[0m\u001b[0mvalidation_data\u001b[0m\u001b[0;34m,\u001b[0m \u001b[0mvalidation_labels\u001b[0m\u001b[0;34m,\u001b[0m \u001b[0moptimizer\u001b[0m \u001b[0;34m=\u001b[0m \u001b[0;34m'adam'\u001b[0m\u001b[0;34m,\u001b[0m \u001b[0mloss\u001b[0m \u001b[0;34m=\u001b[0m \u001b[0;34m'mean_squared_error'\u001b[0m\u001b[0;34m,\u001b[0m \u001b[0mmetrics\u001b[0m \u001b[0;34m=\u001b[0m \u001b[0;34m[\u001b[0m\u001b[0;34m'mse'\u001b[0m\u001b[0;34m,\u001b[0m \u001b[0;34m'mae'\u001b[0m\u001b[0;34m]\u001b[0m\u001b[0;34m,\u001b[0m \u001b[0mX_train_\u001b[0m \u001b[0;34m=\u001b[0m \u001b[0mX_train\u001b[0m\u001b[0;34m,\u001b[0m \u001b[0my_train_\u001b[0m \u001b[0;34m=\u001b[0m \u001b[0my_train\u001b[0m\u001b[0;34m,\u001b[0m \u001b[0mepochs\u001b[0m \u001b[0;34m=\u001b[0m \u001b[0;36m20\u001b[0m\u001b[0;34m,\u001b[0m \u001b[0mvalidation\u001b[0m \u001b[0;34m=\u001b[0m \u001b[0;36m0.1\u001b[0m\u001b[0;34m,\u001b[0m \u001b[0mbatch_size\u001b[0m \u001b[0;34m=\u001b[0m \u001b[0;36m50\u001b[0m\u001b[0;34m,\u001b[0m \u001b[0mpatience\u001b[0m \u001b[0;34m=\u001b[0m \u001b[0;36m3\u001b[0m\u001b[0;34m)\u001b[0m\u001b[0;34m:\u001b[0m\u001b[0;34m\u001b[0m\u001b[0;34m\u001b[0m\u001b[0m\n\u001b[0m\u001b[1;32m      5\u001b[0m \u001b[0;34m\u001b[0m\u001b[0m\n\u001b[1;32m      6\u001b[0m   \u001b[0mnet\u001b[0m\u001b[0;34m.\u001b[0m\u001b[0mcompile\u001b[0m\u001b[0;34m(\u001b[0m\u001b[0mloss\u001b[0m \u001b[0;34m=\u001b[0m \u001b[0mloss\u001b[0m\u001b[0;34m,\u001b[0m \u001b[0moptimizer\u001b[0m \u001b[0;34m=\u001b[0m \u001b[0moptimizer\u001b[0m\u001b[0;34m,\u001b[0m \u001b[0mmetrics\u001b[0m \u001b[0;34m=\u001b[0m \u001b[0mmetrics\u001b[0m\u001b[0;34m)\u001b[0m\u001b[0;34m\u001b[0m\u001b[0;34m\u001b[0m\u001b[0m\n",
            "\u001b[0;31mNameError\u001b[0m: name 'X_train' is not defined"
          ]
        }
      ]
    },
    {
      "cell_type": "markdown",
      "metadata": {
        "id": "A25LJ6fZBaby"
      },
      "source": [
        "## **Priprema test skupa**"
      ]
    },
    {
      "cell_type": "markdown",
      "metadata": {
        "id": "gbS6pt_LnUdP"
      },
      "source": [
        "### **Filtriranje atributa test skupa**"
      ]
    },
    {
      "cell_type": "code",
      "metadata": {
        "id": "XP-aXyi7MbNA"
      },
      "source": [
        "# Izbacivanje nepotrebnih kolona (atributa) iz test skupa\n",
        "\n",
        "def filter_test_set(test_):\n",
        "  test_ = test.drop(['Open', 'High', 'Low', 'Date', 'Volume_(BTC)', 'Volume_(Currency)', 'Weighted_Price', 'Timestamp'], axis = 1)\n",
        "  return test_"
      ],
      "execution_count": null,
      "outputs": []
    },
    {
      "cell_type": "markdown",
      "metadata": {
        "id": "MxVP5EpOr4fL"
      },
      "source": [
        "### **Odredjivanje ciljne promenljive na test skupu**"
      ]
    },
    {
      "cell_type": "code",
      "metadata": {
        "id": "M09aM4LOrnrr"
      },
      "source": [
        "# Odredjivanje ciljne (target) promenljive na test skupu\n",
        "\n",
        "def get_x_and_y():\n",
        "\n",
        "  X_test = []\n",
        "  y_test = []\n",
        "\n",
        "  for i in range(60, test_.shape[0]):\n",
        "    X_test.append(test_[i-60:i])\n",
        "    y_test.append(test_[i,0])\n",
        "\n",
        "  return X_test, y_test"
      ],
      "execution_count": null,
      "outputs": []
    },
    {
      "cell_type": "markdown",
      "metadata": {
        "id": "Vtwv1-mtsie5"
      },
      "source": [
        "## **Vizualizacija rezultata predvidjanja i metrika**"
      ]
    },
    {
      "cell_type": "code",
      "metadata": {
        "id": "rpuCAGCxzAat"
      },
      "source": [
        "# Vizuelni prikaz rezultata modela mreze\n",
        "\n",
        "def plot_real_vs_predicted_data(test_set, predicted_set, caption):\n",
        "\n",
        "  fig, ax = plt.subplots(1, figsize=(16, 9))\n",
        "  ax.plot(test_set, label='Stvarna vrednost BTC', linewidth=2)\n",
        "  ax.plot(predicted_set, label='Predvidjena vrednost BTC', linewidth=2)\n",
        "  ax.set_xlabel('Timestamp', fontsize=14)\n",
        "  ax.set_ylabel('Cena [USD]', fontsize=14)\n",
        "  ax.set_title(label = caption, fontsize=18)\n",
        "  ax.legend(loc='best', fontsize=18)\n",
        "\n",
        "  # test = test.reset_index()\n",
        "  # x = test.index\n"
      ],
      "execution_count": null,
      "outputs": []
    },
    {
      "cell_type": "code",
      "metadata": {
        "id": "JLp_Ems1zAja"
      },
      "source": [
        "# Vizuelni prikaz gubitka, MSE i MAE tokom treniranja mreze\n",
        "\n",
        "\n",
        "# Vizuelni prikaz gubitka\n",
        "\n",
        "def plot_loss(history_):\n",
        "\n",
        "  epochs = range(len(history_.history['loss'])) # broj epoha\n",
        "\n",
        "  plt.title('Vizuelni prikaz gubitka (loss) i MSE (mse) mreze')\n",
        "\n",
        "  plt.subplot(211)\n",
        "  \n",
        "  plt.plot(epochs, history_.history['loss'], label='Gubitak (loss) tokom treniranja')\n",
        "\n",
        "  if 'val_loss' in history_.history:\n",
        "    plt.plot(epochs, history_.history['val_loss'], label='Gubitak (val_loss) tokom validacije')\n",
        "  \n",
        "  plt.legend()\n",
        "\n",
        "\n",
        "# Vizuelni prikaz MSE\n",
        "\n",
        "def plot_mse(history_):\n",
        "\n",
        "  epochs = range(len(history_.history['mse'])) # broj epoha\n",
        "\n",
        "  plt.title('Vizuelni prikaz srednjekvadratne greske (MSE) mreze')\n",
        "\n",
        "  plt.subplot(212)\n",
        "\n",
        "  plt.plot(epochs, history_.history['mse'], label='MSE (mse) tokom treniranja')\n",
        "  \n",
        "  if 'val_mse' in history_.history:\n",
        "    plt.plot(epochs, history_.history['val_mse'], label='MSE (val_mse) tokom validacije')\n",
        "  \n",
        "  plt.legend()\n",
        "\n",
        "  plt.show()\n",
        "\n",
        "\n",
        "# Vizuelni prikaz MAE\n",
        "\n",
        "def plot_mae(history_):\n",
        "\n",
        "  epochs = range(len(history_.history['mae'])) # broj epoha\n",
        "  plt.title('Vizuelni prikaz MAE (mae')\n",
        "  plt.xlabel('broj epohe')\n",
        "  plt.ylabel('MAE')\n",
        "  \n",
        "  plt.plot(epochs, history_.history['mae'], label='MAE (mae) tokom treniranja')\n",
        "\n",
        "  if 'val_mae' in history_.history:\n",
        "    plt.plot(epochs, history_.history['val_mae'], label='MAE (val_mae) tokom treniranja sa validacijom')\n",
        "\n",
        "  plt.legend(loc = 'best')\n",
        "\n",
        "  plt.show()"
      ],
      "execution_count": null,
      "outputs": []
    },
    {
      "cell_type": "code",
      "metadata": {
        "id": "RaYK8nlpZMgk"
      },
      "source": [
        ""
      ],
      "execution_count": null,
      "outputs": []
    }
  ]
}