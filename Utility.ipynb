{
 "cells": [
  {
   "cell_type": "markdown",
   "metadata": {
    "colab_type": "text",
    "id": "view-in-github"
   },
   "source": [
    "<a href=\"https://colab.research.google.com/github/jovanape/Bitcoint-Price-Prediction/blob/main/Utility.ipynb\" target=\"_parent\"><img src=\"https://colab.research.google.com/assets/colab-badge.svg\" alt=\"Open In Colab\"/></a>"
   ]
  },
  {
   "cell_type": "markdown",
   "metadata": {
    "id": "4_6hHjWjjzos"
   },
   "source": [
    "# **U ovom fajlu su implementirane sve pomocne funkcije**"
   ]
  },
  {
   "cell_type": "markdown",
   "metadata": {
    "id": "krvFQDwvkBdX"
   },
   "source": [
    "### **Ucitavanje biblioteka**"
   ]
  },
  {
   "cell_type": "code",
   "execution_count": null,
   "metadata": {
    "id": "iaSuiXq3HP1y"
   },
   "outputs": [],
   "source": [
    "import numpy as np \n",
    "import pandas as pd \n",
    "from matplotlib import pyplot as plt\n",
    "from sklearn.preprocessing import MinMaxScaler\n",
    "from keras.models import Sequential\n",
    "from keras.layers import Dense\n",
    "from keras.layers import LSTM\n",
    "from keras.layers import Dense, Dropout, Activation, Flatten,Reshape\n",
    "from keras.layers import Conv1D, MaxPooling1D, LeakyReLU\n",
    "from keras.layers import GRU,CuDNNGRU\n",
    "from keras.callbacks import CSVLogger, ModelCheckpoint\n",
    "import os\n",
    "from keras.losses import MeanSquaredError"
   ]
  },
  {
   "cell_type": "markdown",
   "metadata": {
    "id": "uJHmdAZWkeLL"
   },
   "source": [
    "### **Podela skupa podataka**"
   ]
  },
  {
   "cell_type": "code",
   "execution_count": null,
   "metadata": {
    "id": "dhZQvDybJsOg"
   },
   "outputs": [],
   "source": [
    "# Definicija funkcije za podelu podataka na train i test skup\n",
    "# Ista se moze iskoristiti za podelu train skupa na train i validacioni skup\n",
    "# Parametar test_size prestavlja procenat test skupa (odnosno validacionog)\n",
    "\n",
    "def data_split(data, test_size = 0):\n",
    "\n",
    "  if test_size <= 0:\n",
    "    print('Vrednost parametra test_size mora biti strogo veca od 0.\\n')\n",
    "    return\n",
    "  else: # test_size > 0\n",
    "    test_limit = len(data) - int(test_size * len(data))\n",
    "\n",
    "  train = data[:test_limit]\n",
    "  test = data[test_limit:]\n",
    "  \n",
    "  return train, test"
   ]
  },
  {
   "cell_type": "markdown",
   "metadata": {
    "id": "ttRI2EHVkikR"
   },
   "source": [
    "### **Vizualizacija podataka - trening i validacionog skupa**"
   ]
  },
  {
   "cell_type": "code",
   "execution_count": null,
   "metadata": {
    "id": "rCH1LLR7hUWc"
   },
   "outputs": [],
   "source": [
    "# Vizuelni prikaz trening i validacionog skupa\n",
    "\n",
    "# Ovaj prikaz sluzi da prikaze da se podaci koji pripadaju trening skupu\n",
    "# nalaze vremenski pre podataka koji pripadaju skupu za validaciju\n",
    "\n",
    "def plot_train_and_validation_data(train, validation):\n",
    "  plt.title('Podaci za trening i validaciju')\n",
    "  plt.xlabel('vreme')\n",
    "  plt.ylabel('vrednost bitkoina')\n",
    "  plt.plot(train, c = 'lime')\n",
    "  plt.plot(validation, c = 'orchid')\n",
    "  plt.show()"
   ]
  },
  {
   "cell_type": "markdown",
   "metadata": {
    "id": "30h12bNEmP83"
   },
   "source": [
    "### **Kompilacija i treniranje mreze**"
   ]
  },
  {
   "cell_type": "code",
   "execution_count": null,
   "metadata": {
    "colab": {
     "base_uri": "https://localhost:8080/",
     "height": 253
    },
    "id": "W1PIqBXAb8LA",
    "outputId": "d55137e6-0d69-4bb1-dd1f-8f2105f524e1"
   },
   "outputs": [],
   "source": [
    "# Definicija funkcije za kompilaciju i treniranje mreze\n",
    "# Treniranje je moguce vrsiti sa ili bez validacije\n",
    "\n",
    "def compile_and_fit(optimizer, loss, metrics, X_train, y_train, epochs, batch_size, validation = 1, X_validation = None, y_validation = None, patience = 3):\n",
    "\n",
    "  net.compile(optimizer = optimizer, loss = loss, metrics = metrics)\n",
    "\n",
    "  callback = callbacks.EarlyStopping(monitor = 'loss', patience = patience)\n",
    "\n",
    "  if validation == 0: # bez validacije\n",
    "    history = net.fit(X_train, y_train, epochs = epochs, batch_size = batch_size, callbacks=[callback])\n",
    "  else: # sa validacijom\n",
    "    history = net.fit(X_train, y_train, epochs = epochs, validation_data = (X_validation, y_validation), batch_size = batch_size, callbacks=[callback])\n",
    "\n",
    "  return history, net"
   ]
  },
  {
   "cell_type": "markdown",
   "metadata": {
    "id": "Vtwv1-mtsie5"
   },
   "source": [
    "### **Vizualizacija rezultata predvidjanja i metrika**"
   ]
  },
  {
   "cell_type": "code",
   "execution_count": null,
   "metadata": {
    "id": "rpuCAGCxzAat"
   },
   "outputs": [],
   "source": [
    "# Vizuelni prikaz rezultata predvidjenih vrednosti mreze i stvarnih vrednosti\n",
    "\n",
    "def plot_predicted_vs_real_data(real_values, predicted_values, test_data):\n",
    "  plt.figure(figsize=(15,9), dpi=100, facecolor='w', edgecolor='k')\n",
    "  ax = plt.gca()\n",
    "\n",
    "  plt.title('Vizuelni prikaz stvarne i predvidjene vrednosti BTC')\n",
    "  plt.plot(real_values, color = 'pink', label = 'Stvarna vrednost BTC')\n",
    "  plt.plot(predicted_values, color = 'darkorange', label = 'Predvidjena vrednost BTC')\n",
    "\n",
    "  test_data = test_data.reset_index()\n",
    "  x = test_data.index\n",
    "\n",
    "  plt.xticks(x, labels = test_data['Date'], rotation = 'vertical')\n",
    "  plt.xlabel('Vremenski period')\n",
    "  plt.ylabel('Cena BTC (USD)')\n",
    "  plt.legend(loc='best')\n",
    "  plt.show()\n",
    "\n",
    "\n",
    "# Vizuelni prikaz rezultata modela mreze\n",
    "\n",
    "def simple_plot_real_vs_predicted_data(test_set, predicted_set):\n",
    "  \n",
    "  plt.plot(test_set, label='Stvarna vrednost BTC', linewidth=2)\n",
    "  plt.plot(predicted_set, label='Predvidjena vrednost BTC', linewidth=2)\n",
    "  plt.xlabel('Redni broj instance', fontsize=14)\n",
    "  plt.ylabel('Cena [USD]', fontsize=14)\n",
    "  plt.title(label = 'Vizuelni prikaz stvarne i predvidjene vrednosti BTC', fontsize=18)\n",
    "  plt.legend(loc='best', fontsize=18)\n",
    "  plt.show()\n",
    "\n",
    "  # test = test.reset_index()\n",
    "  # x = test.index"
   ]
  },
  {
   "cell_type": "code",
   "execution_count": null,
   "metadata": {
    "id": "RaYK8nlpZMgk"
   },
   "outputs": [],
   "source": [
    "# Vizuelni prikaz gubitka (loss) tokom treniranja mreze\n",
    "\n",
    "def plot_loss(history):\n",
    "  plt.title('Vizuelni prikaz gubitka (loss)')\n",
    "  plt.xlabel('broj epohe')\n",
    "  plt.ylabel('Loss')\n",
    "  epochs = range(len(history.history['loss']))\n",
    "  plt.plot(epochs, history.history['loss'], label='Gubitak (loss) tokom treniranja')\n",
    "  if 'val_loss' in history.history:\n",
    "    plt.plot(epochs, history.history['val_loss'], label='Gubitak (val_loss) tokom validacije')\n",
    "  plt.legend(loc = 'best')\n",
    "  plt.show()\n",
    "\n",
    "\n",
    "# Vizuelni prikaz srednje kvadratne greske (MSE) tokom treniranja mreze\n",
    "\n",
    "def plot_mse(history):\n",
    "  plt.title('Vizuelni prikaz srednje kvadratne greske (MSE)')\n",
    "  plt.xlabel('broj epohe')\n",
    "  plt.ylabel('MSE')\n",
    "  epochs = range(len(history.history['mse']))\n",
    "  plt.plot(epochs, history.history['mse'], label='MSE tokom treniranja')\n",
    "  if 'val_mse' in history.history:\n",
    "    plt.plot(epochs, history.history['val_mse'], label='MSE (val_mse) tokom validacije')\n",
    "  plt.legend(loc = 'best')\n",
    "  plt.show()\n",
    "\n",
    "\n",
    "# Vizuelni prikaz srednje apsolutne greske (MAE) tokom treniranja mreze\n",
    "\n",
    "def plot_mae(history):\n",
    "  plt.title('Vizuelni prikaz srednje apsolutne greske (MAE)')\n",
    "  plt.xlabel('broj epohe')\n",
    "  plt.ylabel('MAE')\n",
    "  epochs = range(len(history.history['mae'])) # broj epoha\n",
    "  plt.plot(epochs, history.history['mae'], label='MAE tokom treniranja')\n",
    "  if 'val_mae' in history.history:\n",
    "    plt.plot(epochs, history.history['val_mae'], label='MAE (val_mae) tokom treniranja sa validacijom')\n",
    "  plt.legend(loc = 'best')\n",
    "  plt.show()"
   ]
  },
  {
   "cell_type": "code",
   "execution_count": null,
   "metadata": {},
   "outputs": [],
   "source": []
  },
  {
   "cell_type": "code",
   "execution_count": null,
   "metadata": {},
   "outputs": [],
   "source": []
  }
 ],
 "metadata": {
  "colab": {
   "collapsed_sections": [],
   "include_colab_link": true,
   "name": "Utility.ipynb",
   "provenance": []
  },
  "kernelspec": {
   "display_name": "Python 3",
   "language": "python",
   "name": "python3"
  },
  "language_info": {
   "codemirror_mode": {
    "name": "ipython",
    "version": 3
   },
   "file_extension": ".py",
   "mimetype": "text/x-python",
   "name": "python",
   "nbconvert_exporter": "python",
   "pygments_lexer": "ipython3",
   "version": "3.9.5"
  }
 },
 "nbformat": 4,
 "nbformat_minor": 1
}
