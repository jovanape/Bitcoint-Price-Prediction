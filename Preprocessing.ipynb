{
 "cells": [
  {
   "cell_type": "markdown",
   "metadata": {
    "colab_type": "text",
    "id": "view-in-github"
   },
   "source": [
    "<a href=\"https://colab.research.google.com/github/jovanape/Bitcoint-Price-Prediction/blob/main/Preprocessing.ipynb\" target=\"_parent\"><img src=\"https://colab.research.google.com/assets/colab-badge.svg\" alt=\"Open In Colab\"/></a>"
   ]
  },
  {
   "cell_type": "markdown",
   "metadata": {
    "id": "4_6hHjWjjzos"
   },
   "source": [
    "# **Pretprocesiranje podataka**"
   ]
  },
  {
   "cell_type": "markdown",
   "metadata": {
    "id": "krvFQDwvkBdX"
   },
   "source": [
    "### **Učitavanje biblioteka**"
   ]
  },
  {
   "cell_type": "code",
   "execution_count": null,
   "metadata": {
    "id": "iaSuiXq3HP1y"
   },
   "outputs": [],
   "source": [
    "# Ucitavanje biblioteka\n",
    "\n",
    "import numpy as np \n",
    "import pandas as pd \n",
    "from matplotlib import pyplot as plt\n",
    "import os"
   ]
  },
  {
   "cell_type": "code",
   "execution_count": null,
   "metadata": {},
   "outputs": [],
   "source": [
    "DAYS_TO_PREDICT = 60"
   ]
  },
  {
   "cell_type": "markdown",
   "metadata": {
    "id": "QsGhjvltjWcA"
   },
   "source": [
    "### **Učitavanje skupa podataka i uklanjanje NaN vrednosti**"
   ]
  },
  {
   "cell_type": "code",
   "execution_count": null,
   "metadata": {
    "colab": {
     "base_uri": "https://localhost:8080/",
     "height": 202
    },
    "id": "_r4bteeIUcND",
    "outputId": "38c0966f-4712-407b-e9c6-15a7bb05ec41"
   },
   "outputs": [],
   "source": [
    "def preprocess_data(file_name = 'bitstampUSD_1-min_data_2012-01-01_to_2021-03-31.csv'):\n",
    "\n",
    "  # Ucitavanje skupa podataka\n",
    "  data = pd.read_csv(file_name)\n",
    "  #print('Prvih 5 instanci skupa podataka pre sredjivanja:\\n', data.head(5))\n",
    "\n",
    "  # Dimenzije DataFrame-a\n",
    "  #print('\\n\\nDimenzije skupa podataka pre sredjivanja:\\n', data.shape)\n",
    "\n",
    "  # Ciscenje podataka od NaN vrednosti\n",
    "  data = data.dropna()\n",
    "\n",
    "  # Kreiranje datuma\n",
    "  data['Date'] = pd.to_datetime(data['Timestamp'], unit='s').dt.date # samo datum (bez vremena)\n",
    "  #print('\\n\\nPrvih 5 instanci skupa podataka nakon sredjivanja:\\n', data.head(5))\n",
    "\n",
    "  # Dimenzije DataFrame-a\n",
    "  #print('\\n\\nDimenzije skupa podataka nakon sredjivanja:\\n', data.shape)\n",
    "\n",
    "  return data"
   ]
  },
  {
   "cell_type": "code",
   "execution_count": null,
   "metadata": {},
   "outputs": [],
   "source": [
    "data = preprocess_data(file_name = 'bitstampUSD_1-min_data_2012-01-01_to_2021-03-31.csv')\n",
    "data"
   ]
  },
  {
   "cell_type": "markdown",
   "metadata": {},
   "source": [
    "### Filtriranje podataka"
   ]
  },
  {
   "cell_type": "code",
   "execution_count": null,
   "metadata": {},
   "outputs": [],
   "source": [
    "def filter_data(data, date_str = '2021-03-28'):\n",
    "    \n",
    "    # Filtriranje podataka\n",
    "    data = data.loc[data['Date'] > pd.to_datetime(date_str)]\n",
    "    #print('\\nPrvih 5 instanci skupa podataka nakon filtriranja:\\n', data.head(5))\n",
    "\n",
    "    # Dimenzije DataFrame-a\n",
    "    #print('\\n\\nDimenzije skupa podataka nakon filtriranja:\\n', data.shape)\n",
    "    \n",
    "    return data"
   ]
  },
  {
   "cell_type": "code",
   "execution_count": null,
   "metadata": {},
   "outputs": [],
   "source": [
    "data = filter_data(data, date_str = '2021-03-28')\n",
    "data"
   ]
  },
  {
   "cell_type": "markdown",
   "metadata": {},
   "source": [
    "### Podela skupa podataka"
   ]
  },
  {
   "cell_type": "code",
   "execution_count": null,
   "metadata": {},
   "outputs": [],
   "source": [
    "def data_split(data, test_size = 0):\n",
    "\n",
    "  if test_size <= 0:\n",
    "    print('Vrednost parametra test_size mora biti strogo veca od 0.\\n')\n",
    "    return\n",
    "  else: # test_size > 0\n",
    "    test_limit = len(data) - int(test_size * len(data))\n",
    "\n",
    "  train = data[:test_limit]\n",
    "  test = data[test_limit:]\n",
    "  \n",
    "  return train, test"
   ]
  },
  {
   "cell_type": "markdown",
   "metadata": {},
   "source": [
    "### Odredjivanje ciljne promenljive"
   ]
  },
  {
   "cell_type": "code",
   "execution_count": null,
   "metadata": {},
   "outputs": [],
   "source": [
    "def determine_x_and_y(dataset):\n",
    "  X = []\n",
    "  y = []\n",
    "\n",
    "  df = pd.DataFrame()\n",
    "\n",
    "  for i in range(60, dataset.shape[0]):\n",
    "    X.append(dataset[i-60:i])\n",
    "    y.append(dataset[i,0])\n",
    "  \n",
    "  return X, y"
   ]
  },
  {
   "cell_type": "markdown",
   "metadata": {},
   "source": [
    "### Vizuelni prikaz trening i validacionog skupa"
   ]
  },
  {
   "cell_type": "code",
   "execution_count": null,
   "metadata": {},
   "outputs": [],
   "source": [
    "def plot_train_and_validation_data(train, validation):\n",
    "  plt.title('Podaci za trening i validaciju')\n",
    "  plt.xlabel('vreme')\n",
    "  plt.ylabel('vrednost bitkoina')\n",
    "  plt.plot(train, c = 'lime')\n",
    "  plt.plot(validation, c = 'orchid')\n",
    "  plt.show()"
   ]
  },
  {
   "cell_type": "markdown",
   "metadata": {},
   "source": [
    "### Skaliranje podataka - rnn"
   ]
  },
  {
   "cell_type": "code",
   "execution_count": null,
   "metadata": {},
   "outputs": [],
   "source": [
    "def scale_columns(X_train_df, X_validation_df, X_test_df):\n",
    "    \n",
    "    scaler0 = MinMaxScaler(feature_range=(0, 1))\n",
    "    scaler1 = MinMaxScaler(feature_range=(0, 1))\n",
    "    scaler2 = MinMaxScaler(feature_range=(0, 1))\n",
    "    scaler3 = MinMaxScaler(feature_range=(0, 1))\n",
    "\n",
    "    X_train_df[0] = scaler0.fit_transform(X_train_df[0].to_numpy().reshape(-1,1))\n",
    "    X_train_df[1] = scaler1.fit_transform(X_train_df[1].to_numpy().reshape(-1,1))\n",
    "    X_train_df[2] = scaler2.fit_transform(X_train_df[2].to_numpy().reshape(-1,1))\n",
    "    X_train_df[3] = scaler3.fit_transform(X_train_df[3].to_numpy().reshape(-1,1))\n",
    "\n",
    "    X_validation_df[0] = scaler0.transform(X_validation_df[0].to_numpy().reshape(-1,1))\n",
    "    X_validation_df[1] = scaler1.transform(X_validation_df[1].to_numpy().reshape(-1,1))\n",
    "    X_validation_df[2] = scaler2.transform(X_validation_df[2].to_numpy().reshape(-1,1))\n",
    "    X_validation_df[3] = scaler3.transform(X_validation_df[3].to_numpy().reshape(-1,1))\n",
    "\n",
    "    X_test_df[0] = scaler0.transform(X_test_df[0].to_numpy().reshape(-1,1))\n",
    "    X_test_df[1] = scaler1.transform(X_test_df[1].to_numpy().reshape(-1,1))\n",
    "    X_test_df[2] = scaler2.transform(X_test_df[2].to_numpy().reshape(-1,1))\n",
    "    X_test_df[3] = scaler3.transform(X_test_df[3].to_numpy().reshape(-1,1))\n",
    "    \n",
    "    return X_train_df, X_validation_df, X_test_df"
   ]
  },
  {
   "cell_type": "markdown",
   "metadata": {},
   "source": [
    "### **Informacije o skupu podataka**"
   ]
  },
  {
   "cell_type": "code",
   "execution_count": null,
   "metadata": {},
   "outputs": [],
   "source": [
    "#data.info()"
   ]
  },
  {
   "cell_type": "markdown",
   "metadata": {},
   "source": [
    "### **Statistike o atributima skupa podataka**"
   ]
  },
  {
   "cell_type": "code",
   "execution_count": null,
   "metadata": {},
   "outputs": [],
   "source": [
    "#data.describe"
   ]
  },
  {
   "cell_type": "code",
   "execution_count": null,
   "metadata": {},
   "outputs": [],
   "source": []
  }
 ],
 "metadata": {
  "colab": {
   "collapsed_sections": [],
   "include_colab_link": true,
   "name": "Preprocessing.ipynb",
   "provenance": []
  },
  "kernelspec": {
   "display_name": "Python 3",
   "language": "python",
   "name": "python3"
  },
  "language_info": {
   "codemirror_mode": {
    "name": "ipython",
    "version": 3
   },
   "file_extension": ".py",
   "mimetype": "text/x-python",
   "name": "python",
   "nbconvert_exporter": "python",
   "pygments_lexer": "ipython3",
   "version": "3.9.5"
  }
 },
 "nbformat": 4,
 "nbformat_minor": 1
}
