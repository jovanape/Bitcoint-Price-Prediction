{
 "cells": [
  {
   "cell_type": "markdown",
   "metadata": {
    "colab_type": "text",
    "id": "view-in-github"
   },
   "source": [
    "<a href=\"https://colab.research.google.com/github/jovanape/Bitcoint-Price-Prediction/blob/main/Preprocessing.ipynb\" target=\"_parent\"><img src=\"https://colab.research.google.com/assets/colab-badge.svg\" alt=\"Open In Colab\"/></a>"
   ]
  },
  {
   "cell_type": "markdown",
   "metadata": {
    "id": "4_6hHjWjjzos"
   },
   "source": [
    "# **Pretprocesiranje podataka**"
   ]
  },
  {
   "cell_type": "markdown",
   "metadata": {
    "id": "krvFQDwvkBdX"
   },
   "source": [
    "## **Ucitavanje biblioteka**"
   ]
  },
  {
   "cell_type": "code",
   "execution_count": 1,
   "metadata": {
    "id": "iaSuiXq3HP1y"
   },
   "outputs": [],
   "source": [
    "# Ucitavanje biblioteka\n",
    "\n",
    "import numpy as np \n",
    "import pandas as pd \n",
    "from matplotlib import pyplot as plt\n",
    "import os"
   ]
  },
  {
   "cell_type": "markdown",
   "metadata": {
    "id": "QsGhjvltjWcA"
   },
   "source": [
    "## **Ucitavanje skupa podataka i pretprocesiranje**"
   ]
  },
  {
   "cell_type": "code",
   "execution_count": 2,
   "metadata": {
    "colab": {
     "base_uri": "https://localhost:8080/",
     "height": 202
    },
    "id": "_r4bteeIUcND",
    "outputId": "38c0966f-4712-407b-e9c6-15a7bb05ec41"
   },
   "outputs": [],
   "source": [
    "def preprocess_data(file_name = 'bitstampUSD_1-min_data_2012-01-01_to_2021-03-31.csv'):\n",
    "\n",
    "  # Ucitavanje skupa podataka\n",
    "  data = pd.read_csv(file_name)\n",
    "  print('Prvih 5 instanci skupa podataka pre sredjivanja:\\n', data.head(5))\n",
    "\n",
    "  # Dimenzije DataFrame-a\n",
    "  print('\\nDimenzije skupa podataka pre sredjivanja:\\n', data.shape)\n",
    "\n",
    "  # Ciscenje podataka od NaN vrednosti\n",
    "  data = data.dropna()\n",
    "\n",
    "  # Kreiranje datuma\n",
    "  data['Date'] = pd.to_datetime(data['Timestamp'], unit='s').dt.date # samo datum (bez vremena)\n",
    "\n",
    "  # Filtriranje podataka\n",
    "  data = data.loc[data['Date'] > pd.to_datetime('2021-03-28')]\n",
    "  print('\\nPrvih 5 instanci skupa podataka nakon sredjivanja:\\n', data.head(5))\n",
    "\n",
    "  # Dimenzije DataFrame-a\n",
    "  print('\\nDimenzije skupa podataka nakon sredjivanja:\\n', data.shape)\n",
    "\n",
    "  return data"
   ]
  },
  {
   "cell_type": "code",
   "execution_count": 5,
   "metadata": {},
   "outputs": [
    {
     "name": "stdout",
     "output_type": "stream",
     "text": [
      "Prvih 5 instanci skupa podataka pre sredjivanja:\n",
      "     Timestamp  Open  High   Low  Close  Volume_(BTC)  Volume_(Currency)  \\\n",
      "0  1325317920  4.39  4.39  4.39   4.39      0.455581                2.0   \n",
      "1  1325317980   NaN   NaN   NaN    NaN           NaN                NaN   \n",
      "2  1325318040   NaN   NaN   NaN    NaN           NaN                NaN   \n",
      "3  1325318100   NaN   NaN   NaN    NaN           NaN                NaN   \n",
      "4  1325318160   NaN   NaN   NaN    NaN           NaN                NaN   \n",
      "\n",
      "   Weighted_Price  \n",
      "0            4.39  \n",
      "1             NaN  \n",
      "2             NaN  \n",
      "3             NaN  \n",
      "4             NaN  \n",
      "\n",
      "Dimenzije skupa podataka pre sredjivanja:\n",
      " (4857377, 8)\n",
      "\n",
      "Prvih 5 instanci skupa podataka nakon sredjivanja:\n",
      "           Timestamp      Open      High       Low     Close  Volume_(BTC)  \\\n",
      "4854496  1616976000  55790.28  55822.98  55777.98  55804.36      1.731449   \n",
      "4854497  1616976060  55822.98  55857.28  55822.98  55857.28      0.589603   \n",
      "4854498  1616976120  55822.98  55829.04  55766.15  55779.04      2.729659   \n",
      "4854500  1616976240  55766.15  55768.63  55766.15  55768.63      0.023738   \n",
      "4854501  1616976300  55770.46  55778.48  55736.83  55742.20      0.389067   \n",
      "\n",
      "         Volume_(Currency)  Weighted_Price        Date  \n",
      "4854496       96636.546983    55812.518695  2021-03-29  \n",
      "4854497       32931.781301    55854.182542  2021-03-29  \n",
      "4854498      152263.034630    55780.964698  2021-03-29  \n",
      "4854500        1323.776861    55766.455065  2021-03-29  \n",
      "4854501       21692.454676    55755.006032  2021-03-29  \n",
      "\n",
      "Dimenzije skupa podataka nakon sredjivanja:\n",
      " (2872, 9)\n"
     ]
    }
   ],
   "source": [
    "data = preprocess_data(file_name = 'bitstampUSD_1-min_data_2012-01-01_to_2021-03-31.csv')"
   ]
  },
  {
   "cell_type": "code",
   "execution_count": 6,
   "metadata": {},
   "outputs": [
    {
     "name": "stdout",
     "output_type": "stream",
     "text": [
      "<class 'pandas.core.frame.DataFrame'>\n",
      "Int64Index: 2872 entries, 4854496 to 4857376\n",
      "Data columns (total 9 columns):\n",
      " #   Column             Non-Null Count  Dtype  \n",
      "---  ------             --------------  -----  \n",
      " 0   Timestamp          2872 non-null   int64  \n",
      " 1   Open               2872 non-null   float64\n",
      " 2   High               2872 non-null   float64\n",
      " 3   Low                2872 non-null   float64\n",
      " 4   Close              2872 non-null   float64\n",
      " 5   Volume_(BTC)       2872 non-null   float64\n",
      " 6   Volume_(Currency)  2872 non-null   float64\n",
      " 7   Weighted_Price     2872 non-null   float64\n",
      " 8   Date               2872 non-null   object \n",
      "dtypes: float64(7), int64(1), object(1)\n",
      "memory usage: 224.4+ KB\n"
     ]
    }
   ],
   "source": [
    "data.info()"
   ]
  },
  {
   "cell_type": "code",
   "execution_count": 8,
   "metadata": {},
   "outputs": [
    {
     "data": {
      "text/plain": [
       "<bound method NDFrame.describe of           Timestamp      Open      High       Low     Close  Volume_(BTC)  \\\n",
       "4854496  1616976000  55790.28  55822.98  55777.98  55804.36      1.731449   \n",
       "4854497  1616976060  55822.98  55857.28  55822.98  55857.28      0.589603   \n",
       "4854498  1616976120  55822.98  55829.04  55766.15  55779.04      2.729659   \n",
       "4854500  1616976240  55766.15  55768.63  55766.15  55768.63      0.023738   \n",
       "4854501  1616976300  55770.46  55778.48  55736.83  55742.20      0.389067   \n",
       "...             ...       ...       ...       ...       ...           ...   \n",
       "4857372  1617148560  58714.31  58714.31  58686.00  58686.00      1.384487   \n",
       "4857373  1617148620  58683.97  58693.43  58683.97  58685.81      7.294848   \n",
       "4857374  1617148680  58693.43  58723.84  58693.43  58723.84      1.705682   \n",
       "4857375  1617148740  58742.18  58770.38  58742.18  58760.59      0.720415   \n",
       "4857376  1617148800  58767.75  58778.18  58755.97  58778.18      2.712831   \n",
       "\n",
       "         Volume_(Currency)  Weighted_Price        Date  \n",
       "4854496       96636.546983    55812.518695  2021-03-29  \n",
       "4854497       32931.781301    55854.182542  2021-03-29  \n",
       "4854498      152263.034630    55780.964698  2021-03-29  \n",
       "4854500        1323.776861    55766.455065  2021-03-29  \n",
       "4854501       21692.454676    55755.006032  2021-03-29  \n",
       "...                    ...             ...         ...  \n",
       "4857372       81259.372187    58692.753339  2021-03-30  \n",
       "4857373      428158.146640    58693.226508  2021-03-30  \n",
       "4857374      100117.070370    58696.198496  2021-03-30  \n",
       "4857375       42332.958633    58761.866202  2021-03-30  \n",
       "4857376      159417.751000    58764.349363  2021-03-31  \n",
       "\n",
       "[2872 rows x 9 columns]>"
      ]
     },
     "execution_count": 8,
     "metadata": {},
     "output_type": "execute_result"
    }
   ],
   "source": [
    "data.describe"
   ]
  },
  {
   "cell_type": "code",
   "execution_count": null,
   "metadata": {},
   "outputs": [],
   "source": []
  }
 ],
 "metadata": {
  "colab": {
   "collapsed_sections": [],
   "include_colab_link": true,
   "name": "Preprocessing.ipynb",
   "provenance": []
  },
  "kernelspec": {
   "display_name": "Python 3",
   "language": "python",
   "name": "python3"
  },
  "language_info": {
   "codemirror_mode": {
    "name": "ipython",
    "version": 3
   },
   "file_extension": ".py",
   "mimetype": "text/x-python",
   "name": "python",
   "nbconvert_exporter": "python",
   "pygments_lexer": "ipython3",
   "version": "3.9.5"
  }
 },
 "nbformat": 4,
 "nbformat_minor": 1
}
