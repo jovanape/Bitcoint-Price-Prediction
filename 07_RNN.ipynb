{
  "nbformat": 4,
  "nbformat_minor": 0,
  "metadata": {
    "colab": {
      "name": "07_RNN.ipynb",
      "provenance": [],
      "collapsed_sections": [],
      "include_colab_link": true
    },
    "kernelspec": {
      "display_name": "Python 3",
      "language": "python",
      "name": "python3"
    },
    "language_info": {
      "codemirror_mode": {
        "name": "ipython",
        "version": 3
      },
      "file_extension": ".py",
      "mimetype": "text/x-python",
      "name": "python",
      "nbconvert_exporter": "python",
      "pygments_lexer": "ipython3",
      "version": "3.9.5"
    }
  },
  "cells": [
    {
      "cell_type": "markdown",
      "metadata": {
        "id": "view-in-github",
        "colab_type": "text"
      },
      "source": [
        "<a href=\"https://colab.research.google.com/github/jovanape/Bitcoint-Price-Prediction/blob/main/07_RNN.ipynb\" target=\"_parent\"><img src=\"https://colab.research.google.com/assets/colab-badge.svg\" alt=\"Open In Colab\"/></a>"
      ]
    },
    {
      "cell_type": "markdown",
      "metadata": {
        "id": "4_6hHjWjjzos"
      },
      "source": [
        "# **Predviđanje vrednosti bitkoina korišćenjem RNN**\n",
        "\n",
        "**Korišćeni atributi:** Open, High, Low, Close\n",
        "\n",
        "**Filtrirani podaci:** od 28.03.2021.\n",
        "\n",
        "**Koraci:**\n",
        "1. Pretprocesiranje podataka\n",
        "2. Podela skupa podataka na skupove za trening, validaciju i test\n",
        "3. Filtriranje atributa (kolona)\n",
        "4. Odredjivanje ciljne promenljive za svaki od skupova\n",
        "5. Skaliranje podataka\n",
        "6. Kreiranje modela mreže\n",
        "7. Kompilacija i treniranje mreže\n",
        "8. Predvidjanje\n",
        "9. Evaluacija"
      ]
    },
    {
      "cell_type": "markdown",
      "metadata": {
        "id": "krvFQDwvkBdX"
      },
      "source": [
        "### **Učitavanje biblioteka**"
      ]
    },
    {
      "cell_type": "code",
      "metadata": {
        "id": "iaSuiXq3HP1y"
      },
      "source": [
        "import numpy as np \n",
        "import pandas as pd \n",
        "from matplotlib import pyplot as plt\n",
        "from sklearn.preprocessing import MinMaxScaler\n",
        "from keras.models import Sequential\n",
        "from keras.layers import Dense\n",
        "from keras.layers import LSTM\n",
        "from keras.layers import Dropout\n",
        "from keras import callbacks\n",
        "from sklearn import metrics\n",
        "from sklearn.metrics import r2_score\n",
        "from sklearn.metrics import mean_absolute_error\n",
        "\n",
        "%run 02_Preprocessing_and_data_analysis.ipynb\n",
        "%run 03_Utility_functions.ipynb"
      ],
      "execution_count": 109,
      "outputs": []
    },
    {
      "cell_type": "code",
      "metadata": {
        "id": "pE0T1mjA68FO"
      },
      "source": [
        "DAYS_TO_PREDICT = 60"
      ],
      "execution_count": 110,
      "outputs": []
    },
    {
      "cell_type": "markdown",
      "metadata": {
        "id": "QsGhjvltjWcA"
      },
      "source": [
        "### **Učitavanje skupa podataka i pretprocesiranje**"
      ]
    },
    {
      "cell_type": "code",
      "metadata": {
        "id": "sKo4Riq-DEF5"
      },
      "source": [
        "data = preprocess_data(file_name = 'bitstampUSD_1-min_data_2012-01-01_to_2021-03-31.csv')"
      ],
      "execution_count": 111,
      "outputs": []
    },
    {
      "cell_type": "code",
      "metadata": {
        "id": "xSHDaS1qFR92"
      },
      "source": [
        "data = filter_data(data, date_str = '2021-03-28')"
      ],
      "execution_count": 112,
      "outputs": []
    },
    {
      "cell_type": "code",
      "metadata": {
        "colab": {
          "base_uri": "https://localhost:8080/",
          "height": 421
        },
        "id": "_ZYGIYPB68FV",
        "outputId": "28e25070-3abd-42cb-81ef-914e3ae9591d"
      },
      "source": [
        "data"
      ],
      "execution_count": 113,
      "outputs": [
        {
          "output_type": "execute_result",
          "data": {
            "text/html": [
              "<div>\n",
              "<style scoped>\n",
              "    .dataframe tbody tr th:only-of-type {\n",
              "        vertical-align: middle;\n",
              "    }\n",
              "\n",
              "    .dataframe tbody tr th {\n",
              "        vertical-align: top;\n",
              "    }\n",
              "\n",
              "    .dataframe thead th {\n",
              "        text-align: right;\n",
              "    }\n",
              "</style>\n",
              "<table border=\"1\" class=\"dataframe\">\n",
              "  <thead>\n",
              "    <tr style=\"text-align: right;\">\n",
              "      <th></th>\n",
              "      <th>Timestamp</th>\n",
              "      <th>Open</th>\n",
              "      <th>High</th>\n",
              "      <th>Low</th>\n",
              "      <th>Close</th>\n",
              "      <th>Volume_(BTC)</th>\n",
              "      <th>Volume_(Currency)</th>\n",
              "      <th>Weighted_Price</th>\n",
              "      <th>Date</th>\n",
              "    </tr>\n",
              "  </thead>\n",
              "  <tbody>\n",
              "    <tr>\n",
              "      <th>4854496</th>\n",
              "      <td>1616976000</td>\n",
              "      <td>55790.28</td>\n",
              "      <td>55822.98</td>\n",
              "      <td>55777.98</td>\n",
              "      <td>55804.36</td>\n",
              "      <td>1.731449</td>\n",
              "      <td>96636.546983</td>\n",
              "      <td>55812.518695</td>\n",
              "      <td>2021-03-29</td>\n",
              "    </tr>\n",
              "    <tr>\n",
              "      <th>4854497</th>\n",
              "      <td>1616976060</td>\n",
              "      <td>55822.98</td>\n",
              "      <td>55857.28</td>\n",
              "      <td>55822.98</td>\n",
              "      <td>55857.28</td>\n",
              "      <td>0.589603</td>\n",
              "      <td>32931.781301</td>\n",
              "      <td>55854.182542</td>\n",
              "      <td>2021-03-29</td>\n",
              "    </tr>\n",
              "    <tr>\n",
              "      <th>4854498</th>\n",
              "      <td>1616976120</td>\n",
              "      <td>55822.98</td>\n",
              "      <td>55829.04</td>\n",
              "      <td>55766.15</td>\n",
              "      <td>55779.04</td>\n",
              "      <td>2.729659</td>\n",
              "      <td>152263.034630</td>\n",
              "      <td>55780.964698</td>\n",
              "      <td>2021-03-29</td>\n",
              "    </tr>\n",
              "    <tr>\n",
              "      <th>4854500</th>\n",
              "      <td>1616976240</td>\n",
              "      <td>55766.15</td>\n",
              "      <td>55768.63</td>\n",
              "      <td>55766.15</td>\n",
              "      <td>55768.63</td>\n",
              "      <td>0.023738</td>\n",
              "      <td>1323.776861</td>\n",
              "      <td>55766.455065</td>\n",
              "      <td>2021-03-29</td>\n",
              "    </tr>\n",
              "    <tr>\n",
              "      <th>4854501</th>\n",
              "      <td>1616976300</td>\n",
              "      <td>55770.46</td>\n",
              "      <td>55778.48</td>\n",
              "      <td>55736.83</td>\n",
              "      <td>55742.20</td>\n",
              "      <td>0.389067</td>\n",
              "      <td>21692.454676</td>\n",
              "      <td>55755.006032</td>\n",
              "      <td>2021-03-29</td>\n",
              "    </tr>\n",
              "    <tr>\n",
              "      <th>...</th>\n",
              "      <td>...</td>\n",
              "      <td>...</td>\n",
              "      <td>...</td>\n",
              "      <td>...</td>\n",
              "      <td>...</td>\n",
              "      <td>...</td>\n",
              "      <td>...</td>\n",
              "      <td>...</td>\n",
              "      <td>...</td>\n",
              "    </tr>\n",
              "    <tr>\n",
              "      <th>4857372</th>\n",
              "      <td>1617148560</td>\n",
              "      <td>58714.31</td>\n",
              "      <td>58714.31</td>\n",
              "      <td>58686.00</td>\n",
              "      <td>58686.00</td>\n",
              "      <td>1.384487</td>\n",
              "      <td>81259.372187</td>\n",
              "      <td>58692.753339</td>\n",
              "      <td>2021-03-30</td>\n",
              "    </tr>\n",
              "    <tr>\n",
              "      <th>4857373</th>\n",
              "      <td>1617148620</td>\n",
              "      <td>58683.97</td>\n",
              "      <td>58693.43</td>\n",
              "      <td>58683.97</td>\n",
              "      <td>58685.81</td>\n",
              "      <td>7.294848</td>\n",
              "      <td>428158.146640</td>\n",
              "      <td>58693.226508</td>\n",
              "      <td>2021-03-30</td>\n",
              "    </tr>\n",
              "    <tr>\n",
              "      <th>4857374</th>\n",
              "      <td>1617148680</td>\n",
              "      <td>58693.43</td>\n",
              "      <td>58723.84</td>\n",
              "      <td>58693.43</td>\n",
              "      <td>58723.84</td>\n",
              "      <td>1.705682</td>\n",
              "      <td>100117.070370</td>\n",
              "      <td>58696.198496</td>\n",
              "      <td>2021-03-30</td>\n",
              "    </tr>\n",
              "    <tr>\n",
              "      <th>4857375</th>\n",
              "      <td>1617148740</td>\n",
              "      <td>58742.18</td>\n",
              "      <td>58770.38</td>\n",
              "      <td>58742.18</td>\n",
              "      <td>58760.59</td>\n",
              "      <td>0.720415</td>\n",
              "      <td>42332.958633</td>\n",
              "      <td>58761.866202</td>\n",
              "      <td>2021-03-30</td>\n",
              "    </tr>\n",
              "    <tr>\n",
              "      <th>4857376</th>\n",
              "      <td>1617148800</td>\n",
              "      <td>58767.75</td>\n",
              "      <td>58778.18</td>\n",
              "      <td>58755.97</td>\n",
              "      <td>58778.18</td>\n",
              "      <td>2.712831</td>\n",
              "      <td>159417.751000</td>\n",
              "      <td>58764.349363</td>\n",
              "      <td>2021-03-31</td>\n",
              "    </tr>\n",
              "  </tbody>\n",
              "</table>\n",
              "<p>2872 rows × 9 columns</p>\n",
              "</div>"
            ],
            "text/plain": [
              "          Timestamp      Open  ...  Weighted_Price        Date\n",
              "4854496  1616976000  55790.28  ...    55812.518695  2021-03-29\n",
              "4854497  1616976060  55822.98  ...    55854.182542  2021-03-29\n",
              "4854498  1616976120  55822.98  ...    55780.964698  2021-03-29\n",
              "4854500  1616976240  55766.15  ...    55766.455065  2021-03-29\n",
              "4854501  1616976300  55770.46  ...    55755.006032  2021-03-29\n",
              "...             ...       ...  ...             ...         ...\n",
              "4857372  1617148560  58714.31  ...    58692.753339  2021-03-30\n",
              "4857373  1617148620  58683.97  ...    58693.226508  2021-03-30\n",
              "4857374  1617148680  58693.43  ...    58696.198496  2021-03-30\n",
              "4857375  1617148740  58742.18  ...    58761.866202  2021-03-30\n",
              "4857376  1617148800  58767.75  ...    58764.349363  2021-03-31\n",
              "\n",
              "[2872 rows x 9 columns]"
            ]
          },
          "metadata": {},
          "execution_count": 113
        }
      ]
    },
    {
      "cell_type": "markdown",
      "metadata": {
        "id": "uJHmdAZWkeLL"
      },
      "source": [
        "### **Podela skupa podataka**"
      ]
    },
    {
      "cell_type": "code",
      "metadata": {
        "id": "1n5kOU90PBHd"
      },
      "source": [
        "# Podela inicijalnog skupa podataka na train i test skup\n",
        "\n",
        "train, test = data_split(data, test_size = 0.2)\n",
        "\n",
        "\n",
        "# Podela train skupa podataka na train i validacioni skup\n",
        "\n",
        "train, validation = data_split(train, test_size = 0.2)"
      ],
      "execution_count": 114,
      "outputs": []
    },
    {
      "cell_type": "code",
      "metadata": {
        "colab": {
          "base_uri": "https://localhost:8080/"
        },
        "id": "juNgJZG7cnQS",
        "outputId": "3f3ca4b6-688e-4527-d2b9-66d5ce03b210"
      },
      "source": [
        "# Dimenzije train, validation i test skupa\n",
        "\n",
        "train.shape, validation.shape, test.shape"
      ],
      "execution_count": 115,
      "outputs": [
        {
          "output_type": "execute_result",
          "data": {
            "text/plain": [
              "((1839, 9), (459, 9), (574, 9))"
            ]
          },
          "metadata": {},
          "execution_count": 115
        }
      ]
    },
    {
      "cell_type": "markdown",
      "metadata": {
        "id": "ttRI2EHVkikR"
      },
      "source": [
        "### **Vizualizacija validacionog skupa i trening skupa**"
      ]
    },
    {
      "cell_type": "code",
      "metadata": {
        "colab": {
          "base_uri": "https://localhost:8080/",
          "height": 295
        },
        "id": "vlwad6fjfGSU",
        "outputId": "3c3b73b4-1af9-4657-c93a-f3a346a12814"
      },
      "source": [
        "plot_train_and_validation_data(train = train['Close'], validation = validation['Close'])"
      ],
      "execution_count": 116,
      "outputs": [
        {
          "output_type": "display_data",
          "data": {
            "image/png": "[encoded data removed]",
            "text/plain": [
              "<Figure size 432x288 with 1 Axes>"
            ]
          },
          "metadata": {
            "needs_background": "light"
          }
        }
      ]
    },
    {
      "cell_type": "markdown",
      "metadata": {
        "id": "dZw1y3Dxk1bt"
      },
      "source": [
        "### **Filtriranje trening, validacionog i test skupa**"
      ]
    },
    {
      "cell_type": "code",
      "metadata": {
        "id": "bLfZvfLHiph9"
      },
      "source": [
        "# Izbacivanje nepotrebnih kolona (atributa) iz trening skupa\n",
        "\n",
        "train_ = train.drop(['Date', 'Volume_(BTC)', 'Volume_(Currency)', 'Weighted_Price', 'Timestamp'], axis = 1)\n",
        "# train_.head(), train_.shape"
      ],
      "execution_count": 117,
      "outputs": []
    },
    {
      "cell_type": "code",
      "metadata": {
        "id": "Wz6OcXYTb55e"
      },
      "source": [
        "# Izbacivanje nepotrebnih kolona (atributa) iz validacionog skupa\n",
        "\n",
        "validation_ = validation.drop(['Date', 'Volume_(BTC)', 'Volume_(Currency)', 'Weighted_Price', 'Timestamp'], axis = 1)\n",
        "# validation_.head(), validation_.shape"
      ],
      "execution_count": 118,
      "outputs": []
    },
    {
      "cell_type": "code",
      "metadata": {
        "id": "tHzx1et4b7a5"
      },
      "source": [
        "# Izbacivanje nepotrebnih kolona (atributa) iz test skupa\n",
        "\n",
        "test_ = test.drop(['Date', 'Volume_(BTC)', 'Volume_(Currency)', 'Weighted_Price', 'Timestamp'], axis = 1)\n",
        "# test_.head(), test_.shape"
      ],
      "execution_count": 119,
      "outputs": []
    },
    {
      "cell_type": "code",
      "metadata": {
        "id": "_iWrck9Mvy_W"
      },
      "source": [
        "# Dimenzije train skupa - pre i nakon izbacivanja atributa\n",
        "\n",
        "# train.shape, train_.shape"
      ],
      "execution_count": 120,
      "outputs": []
    },
    {
      "cell_type": "code",
      "metadata": {
        "id": "bqK0XO-_aQya"
      },
      "source": [
        "# inverse = scaler.inverse_transform(normalized)"
      ],
      "execution_count": 121,
      "outputs": []
    },
    {
      "cell_type": "markdown",
      "metadata": {
        "id": "XV8HqlmhdHo4"
      },
      "source": [
        "### **Odredjivanje ciljne promenljive**"
      ]
    },
    {
      "cell_type": "code",
      "metadata": {
        "id": "YWNMbnmEdS7x"
      },
      "source": [
        "# Odredjivanje ciljne promenljive na train skupu\n",
        "\n",
        "X_train, y_train = determine_x_and_y(dataset = train_.to_numpy())\n",
        "\n",
        "\n",
        "# Odredjivanje ciljne promenljive na validacionom skupu\n",
        "\n",
        "X_validation, y_validation = determine_x_and_y(dataset = validation_.to_numpy())\n",
        "\n",
        "\n",
        "# Odredjivanje ciljne promenljive na test skupu\n",
        "\n",
        "X_test, y_test = determine_x_and_y(dataset = test_.to_numpy())"
      ],
      "execution_count": 122,
      "outputs": []
    },
    {
      "cell_type": "code",
      "metadata": {
        "id": "nUQRfqsd4BFf"
      },
      "source": [
        "# type(X_train)"
      ],
      "execution_count": 123,
      "outputs": []
    },
    {
      "cell_type": "code",
      "metadata": {
        "id": "lOCft5Zz3_4Z"
      },
      "source": [
        "X_train_df = pd.DataFrame(np.concatenate(X_train))\n",
        "# X_train_df"
      ],
      "execution_count": 124,
      "outputs": []
    },
    {
      "cell_type": "code",
      "metadata": {
        "id": "AagzrQIp5Vog"
      },
      "source": [
        "X_validation_df = pd.DataFrame(np.concatenate(X_validation))\n",
        "# X_validation_df"
      ],
      "execution_count": 125,
      "outputs": []
    },
    {
      "cell_type": "code",
      "metadata": {
        "id": "H6De08sM5WZM"
      },
      "source": [
        "X_test_df = pd.DataFrame(np.concatenate(X_test))\n",
        "# X_test_df"
      ],
      "execution_count": 126,
      "outputs": []
    },
    {
      "cell_type": "markdown",
      "metadata": {
        "id": "Y_YLg3YSEKq7"
      },
      "source": [
        "### **Skaliranje**"
      ]
    },
    {
      "cell_type": "code",
      "metadata": {
        "id": "aNDjAcGJ4KqE"
      },
      "source": [
        "X_train_df, X_validation_df, X_test_df = scale_columns(X_train_df, X_validation_df, X_test_df)"
      ],
      "execution_count": 127,
      "outputs": []
    },
    {
      "cell_type": "code",
      "metadata": {
        "id": "xDNEOJ6W6fOF"
      },
      "source": [
        "# Konverzija u numpy array\n",
        "\n",
        "X_train_np = X_train_df.to_numpy()\n",
        "X_validation_np = X_validation_df.to_numpy()\n",
        "X_test_np = X_test_df.to_numpy()\n",
        "\n",
        "# X_train_np.shape, X_validation_np.shape, X_test_np.shape"
      ],
      "execution_count": 128,
      "outputs": []
    },
    {
      "cell_type": "code",
      "metadata": {
        "id": "0ifKUrCh6hXx"
      },
      "source": [
        "# Podela trening skupa na blokove\n",
        "\n",
        "dim_train = int(X_train_np.shape[0] / DAYS_TO_PREDICT)\n",
        "\n",
        "X_train = np.array(np.split(X_train_np, dim_train))"
      ],
      "execution_count": 129,
      "outputs": []
    },
    {
      "cell_type": "code",
      "metadata": {
        "id": "evlI9FWu99Xz"
      },
      "source": [
        "# X_train.shape"
      ],
      "execution_count": 130,
      "outputs": []
    },
    {
      "cell_type": "code",
      "metadata": {
        "id": "xOLGsLHa8zp2"
      },
      "source": [
        "# Podela validacionog skupa na blokove\n",
        "\n",
        "dim_validation = int(X_validation_np.shape[0] / DAYS_TO_PREDICT)\n",
        "\n",
        "X_validation = np.array(np.split(X_validation_np, dim_validation))"
      ],
      "execution_count": 131,
      "outputs": []
    },
    {
      "cell_type": "code",
      "metadata": {
        "id": "g71d93eH947Q"
      },
      "source": [
        "# X_validation.shape"
      ],
      "execution_count": 132,
      "outputs": []
    },
    {
      "cell_type": "code",
      "metadata": {
        "id": "HsZyWYk9-A0F"
      },
      "source": [
        "# Podela test skupa na blokove\n",
        "\n",
        "dim_test = int(X_test_np.shape[0] / DAYS_TO_PREDICT)\n",
        "\n",
        "X_test = np.array(np.split(X_test_np, dim_test))"
      ],
      "execution_count": 133,
      "outputs": []
    },
    {
      "cell_type": "code",
      "metadata": {
        "id": "aLRsh8p8-A3E"
      },
      "source": [
        "# X_test.shape"
      ],
      "execution_count": 134,
      "outputs": []
    },
    {
      "cell_type": "code",
      "metadata": {
        "id": "FaSnACx2-exp"
      },
      "source": [
        "# X_train[1].shape"
      ],
      "execution_count": 135,
      "outputs": []
    },
    {
      "cell_type": "code",
      "metadata": {
        "id": "4kVVkqOWBY5N"
      },
      "source": [
        "# y_train[:5]"
      ],
      "execution_count": 136,
      "outputs": []
    },
    {
      "cell_type": "code",
      "metadata": {
        "id": "H3aYeuVpBs3H"
      },
      "source": [
        "# Konverzija u np.array\n",
        "\n",
        "y_train = np.array(y_train)\n",
        "y_validation = np.array(y_validation)\n",
        "y_test = np.array(y_test)"
      ],
      "execution_count": 137,
      "outputs": []
    },
    {
      "cell_type": "code",
      "metadata": {
        "id": "uJ-ULtT3y1vi"
      },
      "source": [
        "# Dimenzije X_train\n",
        "\n",
        "# X_train.shape, y_train.shape, X_validation.shape, y_validation.shape, X_test.shape, y_test.shape"
      ],
      "execution_count": 138,
      "outputs": []
    },
    {
      "cell_type": "markdown",
      "metadata": {
        "id": "v38-_t3flcLM"
      },
      "source": [
        "### **Kreiranje, kompilacija i treniranje mreže**"
      ]
    },
    {
      "cell_type": "markdown",
      "metadata": {
        "id": "HNthz4cil_oG"
      },
      "source": [
        "**Kreiranje mreže**"
      ]
    },
    {
      "cell_type": "code",
      "metadata": {
        "id": "lfeVY4ggy3Az"
      },
      "source": [
        "# Definicija funkcije koja kreira i vraca model mreze\n",
        "\n",
        "def build_net(input_1 = X_train.shape[1], input_2 = X_train.shape[2]):\n",
        "\n",
        "  net = Sequential()\n",
        "  net.add(LSTM(units = 50, activation = 'relu', return_sequences = True, input_shape = (input_1, input_2)))\n",
        "  net.add(Dropout(0.2))\n",
        "  net.add(LSTM(units = 60, activation = 'relu', return_sequences = True))\n",
        "  net.add(Dropout(0.3))\n",
        "\n",
        "  net.add(LSTM(units = 80, activation = 'relu', return_sequences = True))\n",
        "  net.add(Dropout(0.4))\n",
        "\n",
        "  net.add(LSTM(units = 120, activation = 'relu'))\n",
        "  net.add(Dropout(0.5))\n",
        "\n",
        "  net.add(Dense(units =1))\n",
        "  print(net.summary())\n",
        "\n",
        "  return net\n"
      ],
      "execution_count": 139,
      "outputs": []
    },
    {
      "cell_type": "code",
      "metadata": {
        "colab": {
          "base_uri": "https://localhost:8080/"
        },
        "id": "1UBUjLyNh5KP",
        "outputId": "0f754a56-a486-4345-fa2c-56702cacecff"
      },
      "source": [
        "# Kreiranje modela mreze\n",
        "\n",
        "net = build_net(input_1 = X_train.shape[1], input_2 = X_train.shape[2])"
      ],
      "execution_count": 140,
      "outputs": [
        {
          "output_type": "stream",
          "name": "stdout",
          "text": [
            "Model: \"sequential_4\"\n",
            "_________________________________________________________________\n",
            "Layer (type)                 Output Shape              Param #   \n",
            "=================================================================\n",
            "lstm_16 (LSTM)               (None, 60, 50)            11000     \n",
            "_________________________________________________________________\n",
            "dropout_16 (Dropout)         (None, 60, 50)            0         \n",
            "_________________________________________________________________\n",
            "lstm_17 (LSTM)               (None, 60, 60)            26640     \n",
            "_________________________________________________________________\n",
            "dropout_17 (Dropout)         (None, 60, 60)            0         \n",
            "_________________________________________________________________\n",
            "lstm_18 (LSTM)               (None, 60, 80)            45120     \n",
            "_________________________________________________________________\n",
            "dropout_18 (Dropout)         (None, 60, 80)            0         \n",
            "_________________________________________________________________\n",
            "lstm_19 (LSTM)               (None, 120)               96480     \n",
            "_________________________________________________________________\n",
            "dropout_19 (Dropout)         (None, 120)               0         \n",
            "_________________________________________________________________\n",
            "dense_4 (Dense)              (None, 1)                 121       \n",
            "=================================================================\n",
            "Total params: 179,361\n",
            "Trainable params: 179,361\n",
            "Non-trainable params: 0\n",
            "_________________________________________________________________\n",
            "None\n"
          ]
        }
      ]
    },
    {
      "cell_type": "markdown",
      "metadata": {
        "id": "30h12bNEmP83"
      },
      "source": [
        "**Kompilacija i treniranje mreže**"
      ]
    },
    {
      "cell_type": "code",
      "metadata": {
        "colab": {
          "base_uri": "https://localhost:8080/"
        },
        "id": "VWL-DLbIlrbw",
        "outputId": "a3080ed8-2adb-4de1-c144-7cbc862c8668"
      },
      "source": [
        "# Kompilacija i treniranje mreze bez validacije\n",
        "\n",
        "history_no_validation, net_no_validation = compile_and_fit(net, optimizer = 'adam', loss = 'mean_squared_error', metrics = ['mse', 'mae'], X_train = X_train, y_train = y_train, epochs = 20, batch_size = 50, validation = 0, patience = 3)\n",
        "\n",
        "\n",
        "# Kompilacija i treniranje mreze sa validacijom\n",
        "\n",
        "validation_data = (X_validation, y_validation)\n",
        "\n",
        "history_validation, net_validation = compile_and_fit(net, optimizer = 'adam', loss = 'mean_squared_error', metrics = ['mse', 'mae'], X_train = X_train, y_train = y_train, epochs = 20, batch_size = 50, validation = 1, validation_data = validation_data, patience = 3)\n"
      ],
      "execution_count": 141,
      "outputs": [
        {
          "output_type": "stream",
          "name": "stdout",
          "text": [
            "Epoch 1/20\n",
            "36/36 [==============================] - 12s 213ms/step - loss: 3118327040.0000 - mse: 3118327040.0000 - mae: 55526.3750\n",
            "Epoch 2/20\n",
            "36/36 [==============================] - 8s 212ms/step - loss: 6068576256.0000 - mse: 6068576256.0000 - mae: 60110.5977\n",
            "Epoch 3/20\n",
            "36/36 [==============================] - 8s 209ms/step - loss: 3236295168.0000 - mse: 3236295168.0000 - mae: 56865.6406\n",
            "Epoch 4/20\n",
            "36/36 [==============================] - 8s 210ms/step - loss: 2845415936.0000 - mse: 2845415936.0000 - mae: 51614.1875\n",
            "Epoch 5/20\n",
            "36/36 [==============================] - 8s 211ms/step - loss: 3257592832.0000 - mse: 3257592832.0000 - mae: 57066.1992\n",
            "Epoch 6/20\n",
            "36/36 [==============================] - 8s 211ms/step - loss: 3257596160.0000 - mse: 3257596160.0000 - mae: 57066.2305\n",
            "Epoch 7/20\n",
            "36/36 [==============================] - 8s 210ms/step - loss: 3257591808.0000 - mse: 3257591808.0000 - mae: 57066.1836\n",
            "Epoch 1/20\n",
            "36/36 [==============================] - 13s 242ms/step - loss: 3304440320.0000 - mse: 3304440320.0000 - mae: 56996.2422 - val_loss: 3449368320.0000 - val_mse: 3449368320.0000 - val_mae: 58729.3984\n",
            "Epoch 2/20\n",
            "36/36 [==============================] - 8s 228ms/step - loss: 3255653888.0000 - mse: 3255653888.0000 - mae: 56635.2188 - val_loss: 3449329408.0000 - val_mse: 3449329408.0000 - val_mae: 58729.0742\n",
            "Epoch 3/20\n",
            "36/36 [==============================] - 8s 227ms/step - loss: 3532127744.0000 - mse: 3532127744.0000 - mae: 57209.1836 - val_loss: 3381059840.0000 - val_mse: 3381059840.0000 - val_mae: 58145.0938\n",
            "Epoch 4/20\n",
            "36/36 [==============================] - 8s 226ms/step - loss: 3257594368.0000 - mse: 3257594368.0000 - mae: 57066.2109 - val_loss: 3449326336.0000 - val_mse: 3449326336.0000 - val_mae: 58729.0469\n",
            "Epoch 5/20\n",
            "36/36 [==============================] - 8s 227ms/step - loss: 13921502208.0000 - mse: 13921502208.0000 - mae: 68043.6797 - val_loss: 3449376512.0000 - val_mse: 3449376512.0000 - val_mae: 58729.4727\n"
          ]
        }
      ]
    },
    {
      "cell_type": "code",
      "metadata": {
        "id": "QGBTTxYTrqK9"
      },
      "source": [
        ""
      ],
      "execution_count": 141,
      "outputs": []
    },
    {
      "cell_type": "markdown",
      "metadata": {
        "id": "pjo3QnGVsKpt"
      },
      "source": [
        "### **Predvidjanje**"
      ]
    },
    {
      "cell_type": "code",
      "metadata": {
        "id": "IkU6jqFNrrUZ"
      },
      "source": [
        "# Predvidjanje za mrezu treniranu bez i sa validacijom\n",
        "\n",
        "# Bez validacije\n",
        "y_predicted_no_validation = net_no_validation.predict(X_test)\n",
        "#print('Predvidjene vrednosti - bez validacije:\\n', y_predicted_no_validation)\n",
        "\n",
        "# Sa validacijom\n",
        "y_predicted_validation = net_validation.predict(X_test)\n",
        "#print('\\nPredvidjene vrednosti - sa validacijom:\\n', y_predicted_validation)"
      ],
      "execution_count": 142,
      "outputs": []
    },
    {
      "cell_type": "markdown",
      "metadata": {
        "id": "Vtwv1-mtsie5"
      },
      "source": [
        "### **Vizualizacija rezultata predvidjanja**"
      ]
    },
    {
      "cell_type": "code",
      "metadata": {
        "colab": {
          "base_uri": "https://localhost:8080/",
          "height": 589
        },
        "id": "iEnWZYr6zAhG",
        "outputId": "8c5e7fd3-19e7-4403-bfae-f432038e3b56"
      },
      "source": [
        "# Plotovanje stvarne i predvidjene vrednosti\n",
        "\n",
        "# Bez validacije\n",
        "plot_real_vs_predicted_data(test_set = y_test, predicted_set = y_predicted_no_validation)\n",
        "\n",
        "# Sa validacijom\n",
        "plot_real_vs_predicted_data(y_test, y_predicted_validation)"
      ],
      "execution_count": 143,
      "outputs": [
        {
          "output_type": "display_data",
          "data": {
            "image/png": "[encoded data removed]",
            "text/plain": [
              "<Figure size 432x288 with 1 Axes>"
            ]
          },
          "metadata": {
            "needs_background": "light"
          }
        },
        {
          "output_type": "display_data",
          "data": {
            "image/png": "[encoded data removed]",
            "text/plain": [
              "<Figure size 432x288 with 1 Axes>"
            ]
          },
          "metadata": {
            "needs_background": "light"
          }
        }
      ]
    },
    {
      "cell_type": "markdown",
      "metadata": {
        "id": "auWEMtlo68Fy"
      },
      "source": [
        "### **Vizualizacija rezultata predvidjanja i metrika**"
      ]
    },
    {
      "cell_type": "markdown",
      "metadata": {
        "id": "Od-ZRc7h68Fy"
      },
      "source": [
        "### **Funkcija gubitka**"
      ]
    },
    {
      "cell_type": "code",
      "metadata": {
        "colab": {
          "base_uri": "https://localhost:8080/",
          "height": 218
        },
        "id": "1BSAAKGSzAlx",
        "outputId": "409467d4-e068-4e90-9939-a3f331013147"
      },
      "source": [
        "# Plotovanje funkcije gubitka tokom treniranja mreze\n",
        "\n",
        "plot_loss(history_ = history_no_validation)\n",
        "\n",
        "plot_loss(history_ = history_validation)"
      ],
      "execution_count": 144,
      "outputs": [
        {
          "output_type": "stream",
          "name": "stderr",
          "text": [
            "/usr/local/lib/python3.7/dist-packages/ipykernel_launcher.py:8: MatplotlibDeprecationWarning: Adding an axes using the same arguments as a previous axes currently reuses the earlier instance.  In a future version, a new instance will always be created and returned.  Meanwhile, this warning can be suppressed, and the future behavior ensured, by passing a unique label to each axes instance.\n",
            "  \n"
          ]
        },
        {
          "output_type": "display_data",
          "data": {
            "image/png": "[encoded data removed]",
            "text/plain": [
              "<Figure size 432x288 with 1 Axes>"
            ]
          },
          "metadata": {
            "needs_background": "light"
          }
        }
      ]
    },
    {
      "cell_type": "markdown",
      "metadata": {
        "id": "BkYbedhB68Fz"
      },
      "source": [
        "### **Srednja kvadratna greška**"
      ]
    },
    {
      "cell_type": "code",
      "metadata": {
        "colab": {
          "base_uri": "https://localhost:8080/",
          "height": 299
        },
        "id": "UK6q2t0r68Fz",
        "outputId": "01f22f3a-f9a1-4711-bdf5-6654a9dfc26a"
      },
      "source": [
        "# Plotovanje srednje kvadratne greske tokom treniranja mreze\n",
        "\n",
        "plot_mse(history_ = history_no_validation)\n",
        "\n",
        "plot_mse(history_ = history_validation)"
      ],
      "execution_count": 145,
      "outputs": [
        {
          "output_type": "display_data",
          "data": {
            "image/png": "[encoded data removed]",
            "text/plain": [
              "<Figure size 432x288 with 1 Axes>"
            ]
          },
          "metadata": {
            "needs_background": "light"
          }
        },
        {
          "output_type": "display_data",
          "data": {
            "image/png": "[encoded data removed]",
            "text/plain": [
              "<Figure size 432x288 with 1 Axes>"
            ]
          },
          "metadata": {
            "needs_background": "light"
          }
        }
      ]
    },
    {
      "cell_type": "markdown",
      "metadata": {
        "id": "XhiFgSPt68F0"
      },
      "source": [
        "### **Srednja apsolutna greška**"
      ]
    },
    {
      "cell_type": "code",
      "metadata": {
        "colab": {
          "base_uri": "https://localhost:8080/",
          "height": 573
        },
        "id": "UE6EjgvZUczz",
        "outputId": "b036b7d3-927c-43a4-a7cb-6c5fad1b1006"
      },
      "source": [
        "# Plotovanje srednje apsolutne greske tokom treniranja mreze\n",
        "\n",
        "plot_mae(history_no_validation)\n",
        "\n",
        "\n",
        "# Plotovanje srednje apsolutne greske tokom treniranja mreze sa validacijom\n",
        "\n",
        "plot_mae(history_validation)"
      ],
      "execution_count": 146,
      "outputs": [
        {
          "output_type": "display_data",
          "data": {
            "image/png": "[encoded data removed]",
            "text/plain": [
              "<Figure size 432x288 with 1 Axes>"
            ]
          },
          "metadata": {
            "needs_background": "light"
          }
        },
        {
          "output_type": "display_data",
          "data": {
            "image/png": "[encoded data removed]",
            "text/plain": [
              "<Figure size 432x288 with 1 Axes>"
            ]
          },
          "metadata": {
            "needs_background": "light"
          }
        }
      ]
    },
    {
      "cell_type": "code",
      "metadata": {
        "id": "7Xyxebz4UePl"
      },
      "source": [
        ""
      ],
      "execution_count": 146,
      "outputs": []
    },
    {
      "cell_type": "markdown",
      "metadata": {
        "id": "qd2lNAeE68F1"
      },
      "source": [
        "### **Loss, MSE, MAE**"
      ]
    },
    {
      "cell_type": "code",
      "metadata": {
        "colab": {
          "base_uri": "https://localhost:8080/"
        },
        "id": "Ui8qyCw2UiZ3",
        "outputId": "b2ae8edf-5cd8-4de4-8b4d-677afa8e8e0a"
      },
      "source": [
        "# Loss, MSE, MAE nad skupom za testiranje\n",
        "\n",
        "# (za model koji pri treniranju koristi validaciju\n",
        "# i za model koji pri treniranju ne koristi validaciju)\n",
        "\n",
        "test_metrics_no_val = net_no_validation.evaluate(X_test, y_test)\n",
        "test_metrics_val = net_validation.evaluate(X_test, y_test)\n",
        "\n",
        "print('\\nMetrike prilikom testiranja - model treniran bez validacije\\n')\n",
        "print(net_no_validation.metrics_names[0], test_metrics_no_val[0])\n",
        "print(net_no_validation.metrics_names[1], test_metrics_no_val[1])\n",
        "print(net_no_validation.metrics_names[2], test_metrics_no_val[2])\n",
        "\n",
        "print('\\n\\nMetrike prilikom testiranja - model treniran sa validacijom\\n')\n",
        "print(net_validation.metrics_names[0], test_metrics_val[0])\n",
        "print(net_validation.metrics_names[1], test_metrics_val[1])\n",
        "print(net_validation.metrics_names[2], test_metrics_val[2])"
      ],
      "execution_count": 147,
      "outputs": [
        {
          "output_type": "stream",
          "name": "stdout",
          "text": [
            "17/17 [==============================] - 1s 45ms/step - loss: 3452901632.0000 - mse: 3452901632.0000 - mae: 58761.2617\n",
            "17/17 [==============================] - 1s 44ms/step - loss: 3452901632.0000 - mse: 3452901632.0000 - mae: 58761.2617\n",
            "\n",
            "Metrike prilikom testiranja - model treniran bez validacije\n",
            "\n",
            "loss 3452901632.0\n",
            "mse 3452901632.0\n",
            "mae 58761.26171875\n",
            "\n",
            "\n",
            "Metrike prilikom testiranja - model treniran sa validacijom\n",
            "\n",
            "loss 3452901632.0\n",
            "mse 3452901632.0\n",
            "mae 58761.26171875\n"
          ]
        }
      ]
    },
    {
      "cell_type": "markdown",
      "metadata": {
        "id": "B5yXvEhQ68F3"
      },
      "source": [
        "### **Koeficijent determinacije (R2 skor)**"
      ]
    },
    {
      "cell_type": "code",
      "metadata": {
        "colab": {
          "base_uri": "https://localhost:8080/"
        },
        "id": "RQpYvBZyUpej",
        "outputId": "6d2528ec-b5d2-4fd2-9a2d-1ee1ab1f7adf"
      },
      "source": [
        "# R2 skor nad skupom za testiranje\n",
        "\n",
        "r2 = metrics.r2_score(y_predicted_no_validation, y_test)\n",
        "r2_val = metrics.r2_score(y_predicted_validation, y_test)\n",
        "\n",
        "print('R2 skor prilikom testiranja - model treniran bez validacije', r2)\n",
        "print('R2 skor prilikom testiranja - model treniran sa validacijom', r2_val)"
      ],
      "execution_count": 148,
      "outputs": [
        {
          "output_type": "stream",
          "name": "stdout",
          "text": [
            "R2 skor prilikom testiranja - model treniran bez validacije -5011024882884930.0\n",
            "R2 skor prilikom testiranja - model treniran sa validacijom -5011024882884930.0\n"
          ]
        }
      ]
    },
    {
      "cell_type": "code",
      "metadata": {
        "id": "wd7c20pFUryX"
      },
      "source": [
        "# Cuvanje modela\n",
        "\n",
        "net.save('rnn_model_01.hdf5')"
      ],
      "execution_count": 149,
      "outputs": []
    },
    {
      "cell_type": "markdown",
      "metadata": {
        "id": "ea4y0fArTIxA"
      },
      "source": [
        "### Zakljucak\n",
        "\n",
        "Koeficijent determinacije treba biti izmedju 0 i 1, a ovde se dobija negativna vrednost. Metrike loss, mse, mae imaju ogromne vrednosti. Ovaj model nije dobar."
      ]
    },
    {
      "cell_type": "code",
      "metadata": {
        "id": "8MxE0o8FRHb-"
      },
      "source": [
        ""
      ],
      "execution_count": 149,
      "outputs": []
    }
  ]
}