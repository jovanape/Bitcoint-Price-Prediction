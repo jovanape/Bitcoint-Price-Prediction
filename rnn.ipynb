{
 "cells": [
  {
   "cell_type": "markdown",
   "metadata": {
    "colab_type": "text",
    "id": "view-in-github"
   },
   "source": [
    "<a href=\"https://colab.research.google.com/github/jovanape/Bitcoint-Price-Prediction/blob/main/rnn.ipynb\" target=\"_parent\"><img src=\"https://colab.research.google.com/assets/colab-badge.svg\" alt=\"Open In Colab\"/></a>"
   ]
  },
  {
   "cell_type": "markdown",
   "metadata": {
    "id": "4_6hHjWjjzos"
   },
   "source": [
    "# **Predvidjanje vrednosti bitkoina korišćenjem RNN**\n",
    "\n",
    "**Korišćeni atributi:** Open, High, Low, Close\n",
    "\n",
    "**Filtrirani podaci:** od 28.03.2021."
   ]
  },
  {
   "cell_type": "markdown",
   "metadata": {
    "id": "krvFQDwvkBdX"
   },
   "source": [
    "### **Učitavanje biblioteka**"
   ]
  },
  {
   "cell_type": "code",
   "execution_count": 14,
   "metadata": {
    "id": "iaSuiXq3HP1y"
   },
   "outputs": [],
   "source": [
    "import numpy as np \n",
    "import pandas as pd \n",
    "from matplotlib import pyplot as plt\n",
    "from sklearn.preprocessing import MinMaxScaler\n",
    "from keras.models import Sequential\n",
    "from keras.layers import Dense\n",
    "from keras.layers import LSTM\n",
    "from keras.layers import Dropout\n",
    "from keras import callbacks\n",
    "from sklearn import metrics\n",
    "from sklearn.metrics import r2_score\n",
    "from sklearn.metrics import mean_absolute_error\n",
    "%run Preprocessing.ipynb\n",
    "%run Utility.ipynb"
   ]
  },
  {
   "cell_type": "code",
   "execution_count": null,
   "metadata": {},
   "outputs": [],
   "source": [
    "DAYS_TO_PREDICT = 60"
   ]
  },
  {
   "cell_type": "markdown",
   "metadata": {
    "id": "QsGhjvltjWcA"
   },
   "source": [
    "### **Učitavanje skupa podataka i pretprocesiranje**"
   ]
  },
  {
   "cell_type": "code",
   "execution_count": 15,
   "metadata": {
    "id": "sKo4Riq-DEF5"
   },
   "outputs": [],
   "source": [
    "data = preprocess_data(file_name = 'bitstampUSD_1-min_data_2012-01-01_to_2021-03-31.csv')"
   ]
  },
  {
   "cell_type": "code",
   "execution_count": 16,
   "metadata": {
    "colab": {
     "base_uri": "https://localhost:8080/"
    },
    "id": "xSHDaS1qFR92",
    "outputId": "5a614a87-3fdc-458a-fd64-04f3482dd301"
   },
   "outputs": [],
   "source": [
    "data = filter_data(data, date_str = '2021-03-28')"
   ]
  },
  {
   "cell_type": "code",
   "execution_count": 17,
   "metadata": {},
   "outputs": [
    {
     "data": {
      "text/html": [
       "<div>\n",
       "<style scoped>\n",
       "    .dataframe tbody tr th:only-of-type {\n",
       "        vertical-align: middle;\n",
       "    }\n",
       "\n",
       "    .dataframe tbody tr th {\n",
       "        vertical-align: top;\n",
       "    }\n",
       "\n",
       "    .dataframe thead th {\n",
       "        text-align: right;\n",
       "    }\n",
       "</style>\n",
       "<table border=\"1\" class=\"dataframe\">\n",
       "  <thead>\n",
       "    <tr style=\"text-align: right;\">\n",
       "      <th></th>\n",
       "      <th>Timestamp</th>\n",
       "      <th>Open</th>\n",
       "      <th>High</th>\n",
       "      <th>Low</th>\n",
       "      <th>Close</th>\n",
       "      <th>Volume_(BTC)</th>\n",
       "      <th>Volume_(Currency)</th>\n",
       "      <th>Weighted_Price</th>\n",
       "      <th>Date</th>\n",
       "    </tr>\n",
       "  </thead>\n",
       "  <tbody>\n",
       "    <tr>\n",
       "      <th>4854496</th>\n",
       "      <td>1616976000</td>\n",
       "      <td>55790.28</td>\n",
       "      <td>55822.98</td>\n",
       "      <td>55777.98</td>\n",
       "      <td>55804.36</td>\n",
       "      <td>1.731449</td>\n",
       "      <td>96636.546983</td>\n",
       "      <td>55812.518695</td>\n",
       "      <td>2021-03-29</td>\n",
       "    </tr>\n",
       "    <tr>\n",
       "      <th>4854497</th>\n",
       "      <td>1616976060</td>\n",
       "      <td>55822.98</td>\n",
       "      <td>55857.28</td>\n",
       "      <td>55822.98</td>\n",
       "      <td>55857.28</td>\n",
       "      <td>0.589603</td>\n",
       "      <td>32931.781301</td>\n",
       "      <td>55854.182542</td>\n",
       "      <td>2021-03-29</td>\n",
       "    </tr>\n",
       "    <tr>\n",
       "      <th>4854498</th>\n",
       "      <td>1616976120</td>\n",
       "      <td>55822.98</td>\n",
       "      <td>55829.04</td>\n",
       "      <td>55766.15</td>\n",
       "      <td>55779.04</td>\n",
       "      <td>2.729659</td>\n",
       "      <td>152263.034630</td>\n",
       "      <td>55780.964698</td>\n",
       "      <td>2021-03-29</td>\n",
       "    </tr>\n",
       "    <tr>\n",
       "      <th>4854500</th>\n",
       "      <td>1616976240</td>\n",
       "      <td>55766.15</td>\n",
       "      <td>55768.63</td>\n",
       "      <td>55766.15</td>\n",
       "      <td>55768.63</td>\n",
       "      <td>0.023738</td>\n",
       "      <td>1323.776861</td>\n",
       "      <td>55766.455065</td>\n",
       "      <td>2021-03-29</td>\n",
       "    </tr>\n",
       "    <tr>\n",
       "      <th>4854501</th>\n",
       "      <td>1616976300</td>\n",
       "      <td>55770.46</td>\n",
       "      <td>55778.48</td>\n",
       "      <td>55736.83</td>\n",
       "      <td>55742.20</td>\n",
       "      <td>0.389067</td>\n",
       "      <td>21692.454676</td>\n",
       "      <td>55755.006032</td>\n",
       "      <td>2021-03-29</td>\n",
       "    </tr>\n",
       "    <tr>\n",
       "      <th>...</th>\n",
       "      <td>...</td>\n",
       "      <td>...</td>\n",
       "      <td>...</td>\n",
       "      <td>...</td>\n",
       "      <td>...</td>\n",
       "      <td>...</td>\n",
       "      <td>...</td>\n",
       "      <td>...</td>\n",
       "      <td>...</td>\n",
       "    </tr>\n",
       "    <tr>\n",
       "      <th>4857372</th>\n",
       "      <td>1617148560</td>\n",
       "      <td>58714.31</td>\n",
       "      <td>58714.31</td>\n",
       "      <td>58686.00</td>\n",
       "      <td>58686.00</td>\n",
       "      <td>1.384487</td>\n",
       "      <td>81259.372187</td>\n",
       "      <td>58692.753339</td>\n",
       "      <td>2021-03-30</td>\n",
       "    </tr>\n",
       "    <tr>\n",
       "      <th>4857373</th>\n",
       "      <td>1617148620</td>\n",
       "      <td>58683.97</td>\n",
       "      <td>58693.43</td>\n",
       "      <td>58683.97</td>\n",
       "      <td>58685.81</td>\n",
       "      <td>7.294848</td>\n",
       "      <td>428158.146640</td>\n",
       "      <td>58693.226508</td>\n",
       "      <td>2021-03-30</td>\n",
       "    </tr>\n",
       "    <tr>\n",
       "      <th>4857374</th>\n",
       "      <td>1617148680</td>\n",
       "      <td>58693.43</td>\n",
       "      <td>58723.84</td>\n",
       "      <td>58693.43</td>\n",
       "      <td>58723.84</td>\n",
       "      <td>1.705682</td>\n",
       "      <td>100117.070370</td>\n",
       "      <td>58696.198496</td>\n",
       "      <td>2021-03-30</td>\n",
       "    </tr>\n",
       "    <tr>\n",
       "      <th>4857375</th>\n",
       "      <td>1617148740</td>\n",
       "      <td>58742.18</td>\n",
       "      <td>58770.38</td>\n",
       "      <td>58742.18</td>\n",
       "      <td>58760.59</td>\n",
       "      <td>0.720415</td>\n",
       "      <td>42332.958633</td>\n",
       "      <td>58761.866202</td>\n",
       "      <td>2021-03-30</td>\n",
       "    </tr>\n",
       "    <tr>\n",
       "      <th>4857376</th>\n",
       "      <td>1617148800</td>\n",
       "      <td>58767.75</td>\n",
       "      <td>58778.18</td>\n",
       "      <td>58755.97</td>\n",
       "      <td>58778.18</td>\n",
       "      <td>2.712831</td>\n",
       "      <td>159417.751000</td>\n",
       "      <td>58764.349363</td>\n",
       "      <td>2021-03-31</td>\n",
       "    </tr>\n",
       "  </tbody>\n",
       "</table>\n",
       "<p>2872 rows × 9 columns</p>\n",
       "</div>"
      ],
      "text/plain": [
       "          Timestamp      Open      High       Low     Close  Volume_(BTC)  \\\n",
       "4854496  1616976000  55790.28  55822.98  55777.98  55804.36      1.731449   \n",
       "4854497  1616976060  55822.98  55857.28  55822.98  55857.28      0.589603   \n",
       "4854498  1616976120  55822.98  55829.04  55766.15  55779.04      2.729659   \n",
       "4854500  1616976240  55766.15  55768.63  55766.15  55768.63      0.023738   \n",
       "4854501  1616976300  55770.46  55778.48  55736.83  55742.20      0.389067   \n",
       "...             ...       ...       ...       ...       ...           ...   \n",
       "4857372  1617148560  58714.31  58714.31  58686.00  58686.00      1.384487   \n",
       "4857373  1617148620  58683.97  58693.43  58683.97  58685.81      7.294848   \n",
       "4857374  1617148680  58693.43  58723.84  58693.43  58723.84      1.705682   \n",
       "4857375  1617148740  58742.18  58770.38  58742.18  58760.59      0.720415   \n",
       "4857376  1617148800  58767.75  58778.18  58755.97  58778.18      2.712831   \n",
       "\n",
       "         Volume_(Currency)  Weighted_Price        Date  \n",
       "4854496       96636.546983    55812.518695  2021-03-29  \n",
       "4854497       32931.781301    55854.182542  2021-03-29  \n",
       "4854498      152263.034630    55780.964698  2021-03-29  \n",
       "4854500        1323.776861    55766.455065  2021-03-29  \n",
       "4854501       21692.454676    55755.006032  2021-03-29  \n",
       "...                    ...             ...         ...  \n",
       "4857372       81259.372187    58692.753339  2021-03-30  \n",
       "4857373      428158.146640    58693.226508  2021-03-30  \n",
       "4857374      100117.070370    58696.198496  2021-03-30  \n",
       "4857375       42332.958633    58761.866202  2021-03-30  \n",
       "4857376      159417.751000    58764.349363  2021-03-31  \n",
       "\n",
       "[2872 rows x 9 columns]"
      ]
     },
     "execution_count": 17,
     "metadata": {},
     "output_type": "execute_result"
    }
   ],
   "source": [
    "data"
   ]
  },
  {
   "cell_type": "markdown",
   "metadata": {
    "id": "uJHmdAZWkeLL"
   },
   "source": [
    "### **Podela skupa podataka**"
   ]
  },
  {
   "cell_type": "code",
   "execution_count": 18,
   "metadata": {
    "id": "1n5kOU90PBHd"
   },
   "outputs": [],
   "source": [
    "# Podela inicijalnog skupa podataka na train i test skup\n",
    "\n",
    "train, test = data_split(data, test_size = 0.2)\n",
    "\n",
    "\n",
    "# Podela train skupa podataka na train i validacioni skup\n",
    "\n",
    "train, validation = data_split(train, test_size = 0.2)"
   ]
  },
  {
   "cell_type": "code",
   "execution_count": 686,
   "metadata": {
    "colab": {
     "base_uri": "https://localhost:8080/"
    },
    "id": "juNgJZG7cnQS",
    "outputId": "c5de6be0-f663-454e-c3e0-ee17c0f6a2e0"
   },
   "outputs": [
    {
     "data": {
      "text/plain": [
       "((1839, 9), (459, 9), (574, 9))"
      ]
     },
     "execution_count": 686,
     "metadata": {},
     "output_type": "execute_result"
    }
   ],
   "source": [
    "# Dimenzije train, validation i test skupa\n",
    "\n",
    "train.shape, validation.shape, test.shape"
   ]
  },
  {
   "cell_type": "markdown",
   "metadata": {
    "id": "ttRI2EHVkikR"
   },
   "source": [
    "### **Vizualizacija validacionog skupa i trening skupa**"
   ]
  },
  {
   "cell_type": "code",
   "execution_count": 688,
   "metadata": {
    "colab": {
     "base_uri": "https://localhost:8080/",
     "height": 295
    },
    "id": "vlwad6fjfGSU",
    "outputId": "7bbd1b21-e341-4acf-cc0d-1ac5232ed39b"
   },
   "outputs": [
    {
     "data": {
      "image/png": "[encoded data removed]",
      "text/plain": [
       "<Figure size 432x288 with 1 Axes>"
      ]
     },
     "metadata": {
      "needs_background": "light"
     },
     "output_type": "display_data"
    }
   ],
   "source": [
    "plot_train_and_validation_data(train = train['Close'], validation = validation['Close'])"
   ]
  },
  {
   "cell_type": "markdown",
   "metadata": {
    "id": "dZw1y3Dxk1bt"
   },
   "source": [
    "### **Filtriranje trening, validacionog i test skupa**"
   ]
  },
  {
   "cell_type": "code",
   "execution_count": 689,
   "metadata": {
    "colab": {
     "base_uri": "https://localhost:8080/"
    },
    "id": "bLfZvfLHiph9",
    "outputId": "538e3bdb-38f9-4c6c-ddbf-a36c2da16f5f"
   },
   "outputs": [
    {
     "data": {
      "text/plain": [
       "(             Open      High       Low     Close\n",
       " 4854496  55790.28  55822.98  55777.98  55804.36\n",
       " 4854497  55822.98  55857.28  55822.98  55857.28\n",
       " 4854498  55822.98  55829.04  55766.15  55779.04\n",
       " 4854500  55766.15  55768.63  55766.15  55768.63\n",
       " 4854501  55770.46  55778.48  55736.83  55742.20, (1839, 4))"
      ]
     },
     "execution_count": 689,
     "metadata": {},
     "output_type": "execute_result"
    }
   ],
   "source": [
    "# Izbacivanje nepotrebnih kolona (atributa) iz trening skupa\n",
    "\n",
    "train_ = train.drop(['Date', 'Volume_(BTC)', 'Volume_(Currency)', 'Weighted_Price', 'Timestamp'], axis = 1)\n",
    "train_.head(), train_.shape"
   ]
  },
  {
   "cell_type": "code",
   "execution_count": 690,
   "metadata": {
    "colab": {
     "base_uri": "https://localhost:8080/"
    },
    "id": "Wz6OcXYTb55e",
    "outputId": "1ed37b46-1c16-4d53-962e-4de0462a97bc"
   },
   "outputs": [
    {
     "data": {
      "text/plain": [
       "(             Open      High       Low     Close\n",
       " 4856341  57798.86  58000.00  57796.80  58000.00\n",
       " 4856342  57993.11  58075.40  57970.05  58060.96\n",
       " 4856343  58059.31  58147.08  58052.67  58103.06\n",
       " 4856344  58103.06  58252.64  58095.24  58207.57\n",
       " 4856345  58221.20  58221.20  58118.48  58159.93, (459, 4))"
      ]
     },
     "execution_count": 690,
     "metadata": {},
     "output_type": "execute_result"
    }
   ],
   "source": [
    "# Izbacivanje nepotrebnih kolona (atributa) iz validacionog skupa\n",
    "\n",
    "validation_ = validation.drop(['Date', 'Volume_(BTC)', 'Volume_(Currency)', 'Weighted_Price', 'Timestamp'], axis = 1)\n",
    "validation_.head(), validation_.shape"
   ]
  },
  {
   "cell_type": "code",
   "execution_count": 691,
   "metadata": {
    "colab": {
     "base_uri": "https://localhost:8080/"
    },
    "id": "tHzx1et4b7a5",
    "outputId": "f5e61acf-4a92-4fa9-e44f-bb91f907b70a"
   },
   "outputs": [
    {
     "data": {
      "text/plain": [
       "(             Open      High       Low     Close\n",
       " 4856801  58799.01  58799.01  58730.34  58747.90\n",
       " 4856802  58751.13  58825.89  58736.68  58825.89\n",
       " 4856803  58814.40  58849.95  58808.56  58828.09\n",
       " 4856804  58830.57  58849.80  58815.39  58835.62\n",
       " 4856805  58849.61  58900.00  58849.61  58900.00, (574, 4))"
      ]
     },
     "execution_count": 691,
     "metadata": {},
     "output_type": "execute_result"
    }
   ],
   "source": [
    "# Izbacivanje nepotrebnih kolona (atributa) iz test skupa\n",
    "\n",
    "test_ = test.drop(['Date', 'Volume_(BTC)', 'Volume_(Currency)', 'Weighted_Price', 'Timestamp'], axis = 1)\n",
    "test_.head(), test_.shape"
   ]
  },
  {
   "cell_type": "code",
   "execution_count": 692,
   "metadata": {
    "colab": {
     "base_uri": "https://localhost:8080/"
    },
    "id": "_iWrck9Mvy_W",
    "outputId": "e01fdca8-10d0-4e33-8937-f42bb6d6cbff"
   },
   "outputs": [
    {
     "data": {
      "text/plain": [
       "((1839, 9), (1839, 4))"
      ]
     },
     "execution_count": 692,
     "metadata": {},
     "output_type": "execute_result"
    }
   ],
   "source": [
    "# Dimenzije train skupa - pre i nakon izbacivanja atributa\n",
    "\n",
    "train.shape, train_.shape"
   ]
  },
  {
   "cell_type": "code",
   "execution_count": 693,
   "metadata": {
    "id": "bqK0XO-_aQya"
   },
   "outputs": [],
   "source": [
    "# inverse = scaler.inverse_transform(normalized)"
   ]
  },
  {
   "cell_type": "markdown",
   "metadata": {
    "id": "XV8HqlmhdHo4"
   },
   "source": [
    "### **Odredjivanje ciljne promenljive**"
   ]
  },
  {
   "cell_type": "code",
   "execution_count": 695,
   "metadata": {
    "id": "YWNMbnmEdS7x"
   },
   "outputs": [],
   "source": [
    "# Odredjivanje ciljne promenljive na train skupu\n",
    "\n",
    "X_train, y_train = determine_x_and_y(dataset = train_.to_numpy())\n",
    "\n",
    "\n",
    "# Odredjivanje ciljne promenljive na validacionom skupu\n",
    "\n",
    "X_validation, y_validation = determine_x_and_y(dataset = validation_.to_numpy())\n",
    "\n",
    "\n",
    "# Odredjivanje ciljne promenljive na test skupu\n",
    "\n",
    "X_test, y_test = determine_x_and_y(dataset = test_.to_numpy())"
   ]
  },
  {
   "cell_type": "code",
   "execution_count": 696,
   "metadata": {
    "colab": {
     "base_uri": "https://localhost:8080/"
    },
    "id": "nUQRfqsd4BFf",
    "outputId": "88237ba3-42ac-4b46-e659-fb8e60133492"
   },
   "outputs": [
    {
     "data": {
      "text/plain": [
       "list"
      ]
     },
     "execution_count": 696,
     "metadata": {},
     "output_type": "execute_result"
    }
   ],
   "source": [
    "type(X_train)"
   ]
  },
  {
   "cell_type": "code",
   "execution_count": 697,
   "metadata": {
    "colab": {
     "base_uri": "https://localhost:8080/",
     "height": 421
    },
    "id": "lOCft5Zz3_4Z",
    "outputId": "67d1113f-5282-426b-bfba-87b47b86bef4"
   },
   "outputs": [
    {
     "data": {
      "text/html": [
       "<div>\n",
       "<style scoped>\n",
       "    .dataframe tbody tr th:only-of-type {\n",
       "        vertical-align: middle;\n",
       "    }\n",
       "\n",
       "    .dataframe tbody tr th {\n",
       "        vertical-align: top;\n",
       "    }\n",
       "\n",
       "    .dataframe thead th {\n",
       "        text-align: right;\n",
       "    }\n",
       "</style>\n",
       "<table border=\"1\" class=\"dataframe\">\n",
       "  <thead>\n",
       "    <tr style=\"text-align: right;\">\n",
       "      <th></th>\n",
       "      <th>0</th>\n",
       "      <th>1</th>\n",
       "      <th>2</th>\n",
       "      <th>3</th>\n",
       "    </tr>\n",
       "  </thead>\n",
       "  <tbody>\n",
       "    <tr>\n",
       "      <th>0</th>\n",
       "      <td>55790.28</td>\n",
       "      <td>55822.98</td>\n",
       "      <td>55777.98</td>\n",
       "      <td>55804.36</td>\n",
       "    </tr>\n",
       "    <tr>\n",
       "      <th>1</th>\n",
       "      <td>55822.98</td>\n",
       "      <td>55857.28</td>\n",
       "      <td>55822.98</td>\n",
       "      <td>55857.28</td>\n",
       "    </tr>\n",
       "    <tr>\n",
       "      <th>2</th>\n",
       "      <td>55822.98</td>\n",
       "      <td>55829.04</td>\n",
       "      <td>55766.15</td>\n",
       "      <td>55779.04</td>\n",
       "    </tr>\n",
       "    <tr>\n",
       "      <th>3</th>\n",
       "      <td>55766.15</td>\n",
       "      <td>55768.63</td>\n",
       "      <td>55766.15</td>\n",
       "      <td>55768.63</td>\n",
       "    </tr>\n",
       "    <tr>\n",
       "      <th>4</th>\n",
       "      <td>55770.46</td>\n",
       "      <td>55778.48</td>\n",
       "      <td>55736.83</td>\n",
       "      <td>55742.20</td>\n",
       "    </tr>\n",
       "    <tr>\n",
       "      <th>...</th>\n",
       "      <td>...</td>\n",
       "      <td>...</td>\n",
       "      <td>...</td>\n",
       "      <td>...</td>\n",
       "    </tr>\n",
       "    <tr>\n",
       "      <th>106735</th>\n",
       "      <td>57706.41</td>\n",
       "      <td>57714.26</td>\n",
       "      <td>57696.51</td>\n",
       "      <td>57712.15</td>\n",
       "    </tr>\n",
       "    <tr>\n",
       "      <th>106736</th>\n",
       "      <td>57693.10</td>\n",
       "      <td>57703.07</td>\n",
       "      <td>57686.59</td>\n",
       "      <td>57695.65</td>\n",
       "    </tr>\n",
       "    <tr>\n",
       "      <th>106737</th>\n",
       "      <td>57681.79</td>\n",
       "      <td>57724.38</td>\n",
       "      <td>57681.79</td>\n",
       "      <td>57692.12</td>\n",
       "    </tr>\n",
       "    <tr>\n",
       "      <th>106738</th>\n",
       "      <td>57694.14</td>\n",
       "      <td>57709.17</td>\n",
       "      <td>57694.14</td>\n",
       "      <td>57709.17</td>\n",
       "    </tr>\n",
       "    <tr>\n",
       "      <th>106739</th>\n",
       "      <td>57688.23</td>\n",
       "      <td>57694.78</td>\n",
       "      <td>57683.40</td>\n",
       "      <td>57691.34</td>\n",
       "    </tr>\n",
       "  </tbody>\n",
       "</table>\n",
       "<p>106740 rows × 4 columns</p>\n",
       "</div>"
      ],
      "text/plain": [
       "               0         1         2         3\n",
       "0       55790.28  55822.98  55777.98  55804.36\n",
       "1       55822.98  55857.28  55822.98  55857.28\n",
       "2       55822.98  55829.04  55766.15  55779.04\n",
       "3       55766.15  55768.63  55766.15  55768.63\n",
       "4       55770.46  55778.48  55736.83  55742.20\n",
       "...          ...       ...       ...       ...\n",
       "106735  57706.41  57714.26  57696.51  57712.15\n",
       "106736  57693.10  57703.07  57686.59  57695.65\n",
       "106737  57681.79  57724.38  57681.79  57692.12\n",
       "106738  57694.14  57709.17  57694.14  57709.17\n",
       "106739  57688.23  57694.78  57683.40  57691.34\n",
       "\n",
       "[106740 rows x 4 columns]"
      ]
     },
     "execution_count": 697,
     "metadata": {},
     "output_type": "execute_result"
    }
   ],
   "source": [
    "X_train_df = pd.DataFrame(np.concatenate(X_train))\n",
    "X_train_df"
   ]
  },
  {
   "cell_type": "code",
   "execution_count": 698,
   "metadata": {
    "colab": {
     "base_uri": "https://localhost:8080/",
     "height": 421
    },
    "id": "AagzrQIp5Vog",
    "outputId": "cf7efab8-1053-4363-ad50-7704e79734a4"
   },
   "outputs": [
    {
     "data": {
      "text/html": [
       "<div>\n",
       "<style scoped>\n",
       "    .dataframe tbody tr th:only-of-type {\n",
       "        vertical-align: middle;\n",
       "    }\n",
       "\n",
       "    .dataframe tbody tr th {\n",
       "        vertical-align: top;\n",
       "    }\n",
       "\n",
       "    .dataframe thead th {\n",
       "        text-align: right;\n",
       "    }\n",
       "</style>\n",
       "<table border=\"1\" class=\"dataframe\">\n",
       "  <thead>\n",
       "    <tr style=\"text-align: right;\">\n",
       "      <th></th>\n",
       "      <th>0</th>\n",
       "      <th>1</th>\n",
       "      <th>2</th>\n",
       "      <th>3</th>\n",
       "    </tr>\n",
       "  </thead>\n",
       "  <tbody>\n",
       "    <tr>\n",
       "      <th>0</th>\n",
       "      <td>57798.86</td>\n",
       "      <td>58000.00</td>\n",
       "      <td>57796.80</td>\n",
       "      <td>58000.00</td>\n",
       "    </tr>\n",
       "    <tr>\n",
       "      <th>1</th>\n",
       "      <td>57993.11</td>\n",
       "      <td>58075.40</td>\n",
       "      <td>57970.05</td>\n",
       "      <td>58060.96</td>\n",
       "    </tr>\n",
       "    <tr>\n",
       "      <th>2</th>\n",
       "      <td>58059.31</td>\n",
       "      <td>58147.08</td>\n",
       "      <td>58052.67</td>\n",
       "      <td>58103.06</td>\n",
       "    </tr>\n",
       "    <tr>\n",
       "      <th>3</th>\n",
       "      <td>58103.06</td>\n",
       "      <td>58252.64</td>\n",
       "      <td>58095.24</td>\n",
       "      <td>58207.57</td>\n",
       "    </tr>\n",
       "    <tr>\n",
       "      <th>4</th>\n",
       "      <td>58221.20</td>\n",
       "      <td>58221.20</td>\n",
       "      <td>58118.48</td>\n",
       "      <td>58159.93</td>\n",
       "    </tr>\n",
       "    <tr>\n",
       "      <th>...</th>\n",
       "      <td>...</td>\n",
       "      <td>...</td>\n",
       "      <td>...</td>\n",
       "      <td>...</td>\n",
       "    </tr>\n",
       "    <tr>\n",
       "      <th>23935</th>\n",
       "      <td>58846.95</td>\n",
       "      <td>58850.77</td>\n",
       "      <td>58784.20</td>\n",
       "      <td>58790.24</td>\n",
       "    </tr>\n",
       "    <tr>\n",
       "      <th>23936</th>\n",
       "      <td>58808.81</td>\n",
       "      <td>58810.29</td>\n",
       "      <td>58700.00</td>\n",
       "      <td>58736.74</td>\n",
       "    </tr>\n",
       "    <tr>\n",
       "      <th>23937</th>\n",
       "      <td>58728.76</td>\n",
       "      <td>58786.71</td>\n",
       "      <td>58688.63</td>\n",
       "      <td>58779.95</td>\n",
       "    </tr>\n",
       "    <tr>\n",
       "      <th>23938</th>\n",
       "      <td>58784.11</td>\n",
       "      <td>58784.11</td>\n",
       "      <td>58694.74</td>\n",
       "      <td>58694.74</td>\n",
       "    </tr>\n",
       "    <tr>\n",
       "      <th>23939</th>\n",
       "      <td>58702.02</td>\n",
       "      <td>58713.33</td>\n",
       "      <td>58670.00</td>\n",
       "      <td>58693.98</td>\n",
       "    </tr>\n",
       "  </tbody>\n",
       "</table>\n",
       "<p>23940 rows × 4 columns</p>\n",
       "</div>"
      ],
      "text/plain": [
       "              0         1         2         3\n",
       "0      57798.86  58000.00  57796.80  58000.00\n",
       "1      57993.11  58075.40  57970.05  58060.96\n",
       "2      58059.31  58147.08  58052.67  58103.06\n",
       "3      58103.06  58252.64  58095.24  58207.57\n",
       "4      58221.20  58221.20  58118.48  58159.93\n",
       "...         ...       ...       ...       ...\n",
       "23935  58846.95  58850.77  58784.20  58790.24\n",
       "23936  58808.81  58810.29  58700.00  58736.74\n",
       "23937  58728.76  58786.71  58688.63  58779.95\n",
       "23938  58784.11  58784.11  58694.74  58694.74\n",
       "23939  58702.02  58713.33  58670.00  58693.98\n",
       "\n",
       "[23940 rows x 4 columns]"
      ]
     },
     "execution_count": 698,
     "metadata": {},
     "output_type": "execute_result"
    }
   ],
   "source": [
    "X_validation_df = pd.DataFrame(np.concatenate(X_validation))\n",
    "X_validation_df"
   ]
  },
  {
   "cell_type": "code",
   "execution_count": 699,
   "metadata": {
    "colab": {
     "base_uri": "https://localhost:8080/",
     "height": 421
    },
    "id": "H6De08sM5WZM",
    "outputId": "3985c293-0073-4631-d7c9-4879414af9fd"
   },
   "outputs": [
    {
     "data": {
      "text/html": [
       "<div>\n",
       "<style scoped>\n",
       "    .dataframe tbody tr th:only-of-type {\n",
       "        vertical-align: middle;\n",
       "    }\n",
       "\n",
       "    .dataframe tbody tr th {\n",
       "        vertical-align: top;\n",
       "    }\n",
       "\n",
       "    .dataframe thead th {\n",
       "        text-align: right;\n",
       "    }\n",
       "</style>\n",
       "<table border=\"1\" class=\"dataframe\">\n",
       "  <thead>\n",
       "    <tr style=\"text-align: right;\">\n",
       "      <th></th>\n",
       "      <th>0</th>\n",
       "      <th>1</th>\n",
       "      <th>2</th>\n",
       "      <th>3</th>\n",
       "    </tr>\n",
       "  </thead>\n",
       "  <tbody>\n",
       "    <tr>\n",
       "      <th>0</th>\n",
       "      <td>58799.01</td>\n",
       "      <td>58799.01</td>\n",
       "      <td>58730.34</td>\n",
       "      <td>58747.90</td>\n",
       "    </tr>\n",
       "    <tr>\n",
       "      <th>1</th>\n",
       "      <td>58751.13</td>\n",
       "      <td>58825.89</td>\n",
       "      <td>58736.68</td>\n",
       "      <td>58825.89</td>\n",
       "    </tr>\n",
       "    <tr>\n",
       "      <th>2</th>\n",
       "      <td>58814.40</td>\n",
       "      <td>58849.95</td>\n",
       "      <td>58808.56</td>\n",
       "      <td>58828.09</td>\n",
       "    </tr>\n",
       "    <tr>\n",
       "      <th>3</th>\n",
       "      <td>58830.57</td>\n",
       "      <td>58849.80</td>\n",
       "      <td>58815.39</td>\n",
       "      <td>58835.62</td>\n",
       "    </tr>\n",
       "    <tr>\n",
       "      <th>4</th>\n",
       "      <td>58849.61</td>\n",
       "      <td>58900.00</td>\n",
       "      <td>58849.61</td>\n",
       "      <td>58900.00</td>\n",
       "    </tr>\n",
       "    <tr>\n",
       "      <th>...</th>\n",
       "      <td>...</td>\n",
       "      <td>...</td>\n",
       "      <td>...</td>\n",
       "      <td>...</td>\n",
       "    </tr>\n",
       "    <tr>\n",
       "      <th>30835</th>\n",
       "      <td>58742.18</td>\n",
       "      <td>58742.18</td>\n",
       "      <td>58714.31</td>\n",
       "      <td>58714.31</td>\n",
       "    </tr>\n",
       "    <tr>\n",
       "      <th>30836</th>\n",
       "      <td>58714.31</td>\n",
       "      <td>58714.31</td>\n",
       "      <td>58686.00</td>\n",
       "      <td>58686.00</td>\n",
       "    </tr>\n",
       "    <tr>\n",
       "      <th>30837</th>\n",
       "      <td>58683.97</td>\n",
       "      <td>58693.43</td>\n",
       "      <td>58683.97</td>\n",
       "      <td>58685.81</td>\n",
       "    </tr>\n",
       "    <tr>\n",
       "      <th>30838</th>\n",
       "      <td>58693.43</td>\n",
       "      <td>58723.84</td>\n",
       "      <td>58693.43</td>\n",
       "      <td>58723.84</td>\n",
       "    </tr>\n",
       "    <tr>\n",
       "      <th>30839</th>\n",
       "      <td>58742.18</td>\n",
       "      <td>58770.38</td>\n",
       "      <td>58742.18</td>\n",
       "      <td>58760.59</td>\n",
       "    </tr>\n",
       "  </tbody>\n",
       "</table>\n",
       "<p>30840 rows × 4 columns</p>\n",
       "</div>"
      ],
      "text/plain": [
       "              0         1         2         3\n",
       "0      58799.01  58799.01  58730.34  58747.90\n",
       "1      58751.13  58825.89  58736.68  58825.89\n",
       "2      58814.40  58849.95  58808.56  58828.09\n",
       "3      58830.57  58849.80  58815.39  58835.62\n",
       "4      58849.61  58900.00  58849.61  58900.00\n",
       "...         ...       ...       ...       ...\n",
       "30835  58742.18  58742.18  58714.31  58714.31\n",
       "30836  58714.31  58714.31  58686.00  58686.00\n",
       "30837  58683.97  58693.43  58683.97  58685.81\n",
       "30838  58693.43  58723.84  58693.43  58723.84\n",
       "30839  58742.18  58770.38  58742.18  58760.59\n",
       "\n",
       "[30840 rows x 4 columns]"
      ]
     },
     "execution_count": 699,
     "metadata": {},
     "output_type": "execute_result"
    }
   ],
   "source": [
    "X_test_df = pd.DataFrame(np.concatenate(X_test))\n",
    "X_test_df"
   ]
  },
  {
   "cell_type": "markdown",
   "metadata": {
    "id": "Y_YLg3YSEKq7"
   },
   "source": [
    "### **Skaliranje**"
   ]
  },
  {
   "cell_type": "code",
   "execution_count": 700,
   "metadata": {
    "id": "aNDjAcGJ4KqE"
   },
   "outputs": [],
   "source": [
    "X_train_df, X_validation_df, X_test_df = scale_columns(X_train_df, X_validation_df, X_test_df)"
   ]
  },
  {
   "cell_type": "code",
   "execution_count": 701,
   "metadata": {
    "colab": {
     "base_uri": "https://localhost:8080/",
     "height": 421
    },
    "id": "9IcyJmc74yO4",
    "outputId": "08aca5de-c500-410c-a561-c890ee9726af"
   },
   "outputs": [
    {
     "data": {
      "text/html": [
       "<div>\n",
       "<style scoped>\n",
       "    .dataframe tbody tr th:only-of-type {\n",
       "        vertical-align: middle;\n",
       "    }\n",
       "\n",
       "    .dataframe tbody tr th {\n",
       "        vertical-align: top;\n",
       "    }\n",
       "\n",
       "    .dataframe thead th {\n",
       "        text-align: right;\n",
       "    }\n",
       "</style>\n",
       "<table border=\"1\" class=\"dataframe\">\n",
       "  <thead>\n",
       "    <tr style=\"text-align: right;\">\n",
       "      <th></th>\n",
       "      <th>0</th>\n",
       "      <th>1</th>\n",
       "      <th>2</th>\n",
       "      <th>3</th>\n",
       "    </tr>\n",
       "  </thead>\n",
       "  <tbody>\n",
       "    <tr>\n",
       "      <th>0</th>\n",
       "      <td>0.257199</td>\n",
       "      <td>0.253943</td>\n",
       "      <td>0.261410</td>\n",
       "      <td>0.261923</td>\n",
       "    </tr>\n",
       "    <tr>\n",
       "      <th>1</th>\n",
       "      <td>0.266861</td>\n",
       "      <td>0.263863</td>\n",
       "      <td>0.274694</td>\n",
       "      <td>0.277515</td>\n",
       "    </tr>\n",
       "    <tr>\n",
       "      <th>2</th>\n",
       "      <td>0.266861</td>\n",
       "      <td>0.255696</td>\n",
       "      <td>0.257918</td>\n",
       "      <td>0.254462</td>\n",
       "    </tr>\n",
       "    <tr>\n",
       "      <th>3</th>\n",
       "      <td>0.250069</td>\n",
       "      <td>0.238225</td>\n",
       "      <td>0.257918</td>\n",
       "      <td>0.251395</td>\n",
       "    </tr>\n",
       "    <tr>\n",
       "      <th>4</th>\n",
       "      <td>0.251343</td>\n",
       "      <td>0.241074</td>\n",
       "      <td>0.249263</td>\n",
       "      <td>0.243608</td>\n",
       "    </tr>\n",
       "    <tr>\n",
       "      <th>...</th>\n",
       "      <td>...</td>\n",
       "      <td>...</td>\n",
       "      <td>...</td>\n",
       "      <td>...</td>\n",
       "    </tr>\n",
       "    <tr>\n",
       "      <th>106735</th>\n",
       "      <td>0.823368</td>\n",
       "      <td>0.800907</td>\n",
       "      <td>0.827744</td>\n",
       "      <td>0.824039</td>\n",
       "    </tr>\n",
       "    <tr>\n",
       "      <th>106736</th>\n",
       "      <td>0.819435</td>\n",
       "      <td>0.797671</td>\n",
       "      <td>0.824816</td>\n",
       "      <td>0.819178</td>\n",
       "    </tr>\n",
       "    <tr>\n",
       "      <th>106737</th>\n",
       "      <td>0.816093</td>\n",
       "      <td>0.803834</td>\n",
       "      <td>0.823399</td>\n",
       "      <td>0.818138</td>\n",
       "    </tr>\n",
       "    <tr>\n",
       "      <th>106738</th>\n",
       "      <td>0.819742</td>\n",
       "      <td>0.799435</td>\n",
       "      <td>0.827044</td>\n",
       "      <td>0.823161</td>\n",
       "    </tr>\n",
       "    <tr>\n",
       "      <th>106739</th>\n",
       "      <td>0.817996</td>\n",
       "      <td>0.795273</td>\n",
       "      <td>0.823874</td>\n",
       "      <td>0.817908</td>\n",
       "    </tr>\n",
       "  </tbody>\n",
       "</table>\n",
       "<p>106740 rows × 4 columns</p>\n",
       "</div>"
      ],
      "text/plain": [
       "               0         1         2         3\n",
       "0       0.257199  0.253943  0.261410  0.261923\n",
       "1       0.266861  0.263863  0.274694  0.277515\n",
       "2       0.266861  0.255696  0.257918  0.254462\n",
       "3       0.250069  0.238225  0.257918  0.251395\n",
       "4       0.251343  0.241074  0.249263  0.243608\n",
       "...          ...       ...       ...       ...\n",
       "106735  0.823368  0.800907  0.827744  0.824039\n",
       "106736  0.819435  0.797671  0.824816  0.819178\n",
       "106737  0.816093  0.803834  0.823399  0.818138\n",
       "106738  0.819742  0.799435  0.827044  0.823161\n",
       "106739  0.817996  0.795273  0.823874  0.817908\n",
       "\n",
       "[106740 rows x 4 columns]"
      ]
     },
     "execution_count": 701,
     "metadata": {},
     "output_type": "execute_result"
    }
   ],
   "source": [
    "X_train_df"
   ]
  },
  {
   "cell_type": "code",
   "execution_count": 702,
   "metadata": {
    "colab": {
     "base_uri": "https://localhost:8080/",
     "height": 421
    },
    "id": "k8zSJsak6M52",
    "outputId": "7c646647-d789-42ce-c918-6410bef4a3a5"
   },
   "outputs": [
    {
     "data": {
      "text/html": [
       "<div>\n",
       "<style scoped>\n",
       "    .dataframe tbody tr th:only-of-type {\n",
       "        vertical-align: middle;\n",
       "    }\n",
       "\n",
       "    .dataframe tbody tr th {\n",
       "        vertical-align: top;\n",
       "    }\n",
       "\n",
       "    .dataframe thead th {\n",
       "        text-align: right;\n",
       "    }\n",
       "</style>\n",
       "<table border=\"1\" class=\"dataframe\">\n",
       "  <thead>\n",
       "    <tr style=\"text-align: right;\">\n",
       "      <th></th>\n",
       "      <th>0</th>\n",
       "      <th>1</th>\n",
       "      <th>2</th>\n",
       "      <th>3</th>\n",
       "    </tr>\n",
       "  </thead>\n",
       "  <tbody>\n",
       "    <tr>\n",
       "      <th>0</th>\n",
       "      <td>0.850685</td>\n",
       "      <td>0.883544</td>\n",
       "      <td>0.857349</td>\n",
       "      <td>0.908852</td>\n",
       "    </tr>\n",
       "    <tr>\n",
       "      <th>1</th>\n",
       "      <td>0.908081</td>\n",
       "      <td>0.905350</td>\n",
       "      <td>0.908491</td>\n",
       "      <td>0.926814</td>\n",
       "    </tr>\n",
       "    <tr>\n",
       "      <th>2</th>\n",
       "      <td>0.927641</td>\n",
       "      <td>0.926080</td>\n",
       "      <td>0.932879</td>\n",
       "      <td>0.939218</td>\n",
       "    </tr>\n",
       "    <tr>\n",
       "      <th>3</th>\n",
       "      <td>0.940568</td>\n",
       "      <td>0.956608</td>\n",
       "      <td>0.945446</td>\n",
       "      <td>0.970011</td>\n",
       "    </tr>\n",
       "    <tr>\n",
       "      <th>4</th>\n",
       "      <td>0.975476</td>\n",
       "      <td>0.947515</td>\n",
       "      <td>0.952306</td>\n",
       "      <td>0.955974</td>\n",
       "    </tr>\n",
       "    <tr>\n",
       "      <th>...</th>\n",
       "      <td>...</td>\n",
       "      <td>...</td>\n",
       "      <td>...</td>\n",
       "      <td>...</td>\n",
       "    </tr>\n",
       "    <tr>\n",
       "      <th>23935</th>\n",
       "      <td>1.160369</td>\n",
       "      <td>1.129589</td>\n",
       "      <td>1.148821</td>\n",
       "      <td>1.141691</td>\n",
       "    </tr>\n",
       "    <tr>\n",
       "      <th>23936</th>\n",
       "      <td>1.149100</td>\n",
       "      <td>1.117882</td>\n",
       "      <td>1.123966</td>\n",
       "      <td>1.125927</td>\n",
       "    </tr>\n",
       "    <tr>\n",
       "      <th>23937</th>\n",
       "      <td>1.125447</td>\n",
       "      <td>1.111063</td>\n",
       "      <td>1.120609</td>\n",
       "      <td>1.138659</td>\n",
       "    </tr>\n",
       "    <tr>\n",
       "      <th>23938</th>\n",
       "      <td>1.141801</td>\n",
       "      <td>1.110311</td>\n",
       "      <td>1.122413</td>\n",
       "      <td>1.113552</td>\n",
       "    </tr>\n",
       "    <tr>\n",
       "      <th>23939</th>\n",
       "      <td>1.117546</td>\n",
       "      <td>1.089841</td>\n",
       "      <td>1.115110</td>\n",
       "      <td>1.113328</td>\n",
       "    </tr>\n",
       "  </tbody>\n",
       "</table>\n",
       "<p>23940 rows × 4 columns</p>\n",
       "</div>"
      ],
      "text/plain": [
       "              0         1         2         3\n",
       "0      0.850685  0.883544  0.857349  0.908852\n",
       "1      0.908081  0.905350  0.908491  0.926814\n",
       "2      0.927641  0.926080  0.932879  0.939218\n",
       "3      0.940568  0.956608  0.945446  0.970011\n",
       "4      0.975476  0.947515  0.952306  0.955974\n",
       "...         ...       ...       ...       ...\n",
       "23935  1.160369  1.129589  1.148821  1.141691\n",
       "23936  1.149100  1.117882  1.123966  1.125927\n",
       "23937  1.125447  1.111063  1.120609  1.138659\n",
       "23938  1.141801  1.110311  1.122413  1.113552\n",
       "23939  1.117546  1.089841  1.115110  1.113328\n",
       "\n",
       "[23940 rows x 4 columns]"
      ]
     },
     "execution_count": 702,
     "metadata": {},
     "output_type": "execute_result"
    }
   ],
   "source": [
    "X_validation_df"
   ]
  },
  {
   "cell_type": "code",
   "execution_count": 703,
   "metadata": {
    "colab": {
     "base_uri": "https://localhost:8080/",
     "height": 421
    },
    "id": "9xVt-MrH6OdI",
    "outputId": "31f85101-89ad-451d-e1c5-4c5a91702042"
   },
   "outputs": [
    {
     "data": {
      "text/html": [
       "<div>\n",
       "<style scoped>\n",
       "    .dataframe tbody tr th:only-of-type {\n",
       "        vertical-align: middle;\n",
       "    }\n",
       "\n",
       "    .dataframe tbody tr th {\n",
       "        vertical-align: top;\n",
       "    }\n",
       "\n",
       "    .dataframe thead th {\n",
       "        text-align: right;\n",
       "    }\n",
       "</style>\n",
       "<table border=\"1\" class=\"dataframe\">\n",
       "  <thead>\n",
       "    <tr style=\"text-align: right;\">\n",
       "      <th></th>\n",
       "      <th>0</th>\n",
       "      <th>1</th>\n",
       "      <th>2</th>\n",
       "      <th>3</th>\n",
       "    </tr>\n",
       "  </thead>\n",
       "  <tbody>\n",
       "    <tr>\n",
       "      <th>0</th>\n",
       "      <td>1.146204</td>\n",
       "      <td>1.114620</td>\n",
       "      <td>1.132922</td>\n",
       "      <td>1.129216</td>\n",
       "    </tr>\n",
       "    <tr>\n",
       "      <th>1</th>\n",
       "      <td>1.132057</td>\n",
       "      <td>1.122394</td>\n",
       "      <td>1.134793</td>\n",
       "      <td>1.152195</td>\n",
       "    </tr>\n",
       "    <tr>\n",
       "      <th>2</th>\n",
       "      <td>1.150751</td>\n",
       "      <td>1.129352</td>\n",
       "      <td>1.156012</td>\n",
       "      <td>1.152843</td>\n",
       "    </tr>\n",
       "    <tr>\n",
       "      <th>3</th>\n",
       "      <td>1.155529</td>\n",
       "      <td>1.129308</td>\n",
       "      <td>1.158028</td>\n",
       "      <td>1.155062</td>\n",
       "    </tr>\n",
       "    <tr>\n",
       "      <th>4</th>\n",
       "      <td>1.161155</td>\n",
       "      <td>1.143826</td>\n",
       "      <td>1.168129</td>\n",
       "      <td>1.174031</td>\n",
       "    </tr>\n",
       "    <tr>\n",
       "      <th>...</th>\n",
       "      <td>...</td>\n",
       "      <td>...</td>\n",
       "      <td>...</td>\n",
       "      <td>...</td>\n",
       "    </tr>\n",
       "    <tr>\n",
       "      <th>30835</th>\n",
       "      <td>1.129412</td>\n",
       "      <td>1.098184</td>\n",
       "      <td>1.128190</td>\n",
       "      <td>1.119319</td>\n",
       "    </tr>\n",
       "    <tr>\n",
       "      <th>30836</th>\n",
       "      <td>1.121177</td>\n",
       "      <td>1.090124</td>\n",
       "      <td>1.119833</td>\n",
       "      <td>1.110977</td>\n",
       "    </tr>\n",
       "    <tr>\n",
       "      <th>30837</th>\n",
       "      <td>1.112213</td>\n",
       "      <td>1.084086</td>\n",
       "      <td>1.119234</td>\n",
       "      <td>1.110921</td>\n",
       "    </tr>\n",
       "    <tr>\n",
       "      <th>30838</th>\n",
       "      <td>1.115008</td>\n",
       "      <td>1.092880</td>\n",
       "      <td>1.122026</td>\n",
       "      <td>1.122126</td>\n",
       "    </tr>\n",
       "    <tr>\n",
       "      <th>30839</th>\n",
       "      <td>1.129412</td>\n",
       "      <td>1.106340</td>\n",
       "      <td>1.136417</td>\n",
       "      <td>1.132955</td>\n",
       "    </tr>\n",
       "  </tbody>\n",
       "</table>\n",
       "<p>30840 rows × 4 columns</p>\n",
       "</div>"
      ],
      "text/plain": [
       "              0         1         2         3\n",
       "0      1.146204  1.114620  1.132922  1.129216\n",
       "1      1.132057  1.122394  1.134793  1.152195\n",
       "2      1.150751  1.129352  1.156012  1.152843\n",
       "3      1.155529  1.129308  1.158028  1.155062\n",
       "4      1.161155  1.143826  1.168129  1.174031\n",
       "...         ...       ...       ...       ...\n",
       "30835  1.129412  1.098184  1.128190  1.119319\n",
       "30836  1.121177  1.090124  1.119833  1.110977\n",
       "30837  1.112213  1.084086  1.119234  1.110921\n",
       "30838  1.115008  1.092880  1.122026  1.122126\n",
       "30839  1.129412  1.106340  1.136417  1.132955\n",
       "\n",
       "[30840 rows x 4 columns]"
      ]
     },
     "execution_count": 703,
     "metadata": {},
     "output_type": "execute_result"
    }
   ],
   "source": [
    "X_test_df"
   ]
  },
  {
   "cell_type": "code",
   "execution_count": 704,
   "metadata": {
    "colab": {
     "base_uri": "https://localhost:8080/"
    },
    "id": "xDNEOJ6W6fOF",
    "outputId": "3a9707c9-b346-4dc5-d3cd-feb3c1fe5e36"
   },
   "outputs": [
    {
     "data": {
      "text/plain": [
       "((106740, 4), (23940, 4), (30840, 4))"
      ]
     },
     "execution_count": 704,
     "metadata": {},
     "output_type": "execute_result"
    }
   ],
   "source": [
    "# Konverzija u numpy array\n",
    "\n",
    "X_train_np = X_train_df.to_numpy()\n",
    "X_validation_np = X_validation_df.to_numpy()\n",
    "X_test_np = X_test_df.to_numpy()\n",
    "\n",
    "X_train_np.shape, X_validation_np.shape, X_test_np.shape"
   ]
  },
  {
   "cell_type": "code",
   "execution_count": 705,
   "metadata": {
    "id": "0ifKUrCh6hXx"
   },
   "outputs": [],
   "source": [
    "# Podela trening skupa na blokove\n",
    "\n",
    "dim_train = int(X_train_np.shape / DAYS_TO_PREDICT)\n",
    "\n",
    "X_train = np.array(np.split(X_train_np, dim_train))"
   ]
  },
  {
   "cell_type": "code",
   "execution_count": 706,
   "metadata": {
    "colab": {
     "base_uri": "https://localhost:8080/"
    },
    "id": "evlI9FWu99Xz",
    "outputId": "3fa24ce1-56f2-40a5-fb1d-df31a6621903"
   },
   "outputs": [
    {
     "data": {
      "text/plain": [
       "(1779, 60, 4)"
      ]
     },
     "execution_count": 706,
     "metadata": {},
     "output_type": "execute_result"
    }
   ],
   "source": [
    "X_train.shape"
   ]
  },
  {
   "cell_type": "code",
   "execution_count": 707,
   "metadata": {
    "id": "xOLGsLHa8zp2"
   },
   "outputs": [],
   "source": [
    "# Podela validacionog skupa na blokove\n",
    "\n",
    "dim_validation = int(X_validation_np.shape / DAYS_TO_PREDICT)\n",
    "\n",
    "X_validation = np.array(np.split(X_validation_np, dim_validation))"
   ]
  },
  {
   "cell_type": "code",
   "execution_count": 708,
   "metadata": {
    "colab": {
     "base_uri": "https://localhost:8080/"
    },
    "id": "g71d93eH947Q",
    "outputId": "8beb3bd7-5a51-47f3-fe3c-9e8bbeebfa02"
   },
   "outputs": [
    {
     "data": {
      "text/plain": [
       "(399, 60, 4)"
      ]
     },
     "execution_count": 708,
     "metadata": {},
     "output_type": "execute_result"
    }
   ],
   "source": [
    "X_validation.shape"
   ]
  },
  {
   "cell_type": "code",
   "execution_count": 709,
   "metadata": {
    "id": "HsZyWYk9-A0F"
   },
   "outputs": [],
   "source": [
    "# Podela test skupa na blokove\n",
    "\n",
    "dim_test = int(X_test_np.shape / DAYS_TO_PREDICT)\n",
    "\n",
    "X_test = np.array(np.split(X_test_np, dim_test))"
   ]
  },
  {
   "cell_type": "code",
   "execution_count": 710,
   "metadata": {
    "colab": {
     "base_uri": "https://localhost:8080/"
    },
    "id": "aLRsh8p8-A3E",
    "outputId": "d072b531-3f94-4319-8bdc-452736a24ebb"
   },
   "outputs": [
    {
     "data": {
      "text/plain": [
       "(514, 60, 4)"
      ]
     },
     "execution_count": 710,
     "metadata": {},
     "output_type": "execute_result"
    }
   ],
   "source": [
    "X_test.shape"
   ]
  },
  {
   "cell_type": "code",
   "execution_count": 711,
   "metadata": {
    "colab": {
     "base_uri": "https://localhost:8080/"
    },
    "id": "FaSnACx2-exp",
    "outputId": "ce2cd9c6-809f-4b9e-ee41-26e3d8408cef"
   },
   "outputs": [
    {
     "data": {
      "text/plain": [
       "(60, 4)"
      ]
     },
     "execution_count": 711,
     "metadata": {},
     "output_type": "execute_result"
    }
   ],
   "source": [
    "X_train[1].shape"
   ]
  },
  {
   "cell_type": "code",
   "execution_count": 712,
   "metadata": {
    "colab": {
     "base_uri": "https://localhost:8080/"
    },
    "id": "4kVVkqOWBY5N",
    "outputId": "437281ee-d490-4a90-cab9-d7a773386876"
   },
   "outputs": [
    {
     "data": {
      "text/plain": [
       "[55462.46, 55458.79, 55428.77, 55409.99, 55403.28]"
      ]
     },
     "execution_count": 712,
     "metadata": {},
     "output_type": "execute_result"
    }
   ],
   "source": [
    "y_train[:5]"
   ]
  },
  {
   "cell_type": "code",
   "execution_count": 713,
   "metadata": {
    "id": "H3aYeuVpBs3H"
   },
   "outputs": [],
   "source": [
    "# Konverzija u np.array\n",
    "\n",
    "y_train = np.array(y_train)\n",
    "y_validation = np.array(y_validation)\n",
    "y_test = np.array(y_test)"
   ]
  },
  {
   "cell_type": "code",
   "execution_count": 714,
   "metadata": {
    "colab": {
     "base_uri": "https://localhost:8080/"
    },
    "id": "uJ-ULtT3y1vi",
    "outputId": "df30a0c6-9e10-418f-f3c5-2aac887347ef"
   },
   "outputs": [
    {
     "data": {
      "text/plain": [
       "((1779, 60, 4), (1779,), (399, 60, 4), (399,), (514, 60, 4), (514,))"
      ]
     },
     "execution_count": 714,
     "metadata": {},
     "output_type": "execute_result"
    }
   ],
   "source": [
    "# Dimenzije X_train\n",
    "\n",
    "X_train.shape, y_train.shape, X_validation.shape, y_validation.shape, X_test.shape, y_test.shape"
   ]
  },
  {
   "cell_type": "code",
   "execution_count": 714,
   "metadata": {
    "id": "EdKLonlZ_F9Q"
   },
   "outputs": [],
   "source": []
  },
  {
   "cell_type": "markdown",
   "metadata": {
    "id": "v38-_t3flcLM"
   },
   "source": [
    "### **Kreiranje, kompilacija i treniranje mreže**"
   ]
  },
  {
   "cell_type": "markdown",
   "metadata": {
    "id": "HNthz4cil_oG"
   },
   "source": [
    "**Kreiranje mreže**"
   ]
  },
  {
   "cell_type": "code",
   "execution_count": 715,
   "metadata": {
    "id": "lfeVY4ggy3Az"
   },
   "outputs": [],
   "source": [
    "# Definicija funkcije koja kreira i vraca model mreze\n",
    "\n",
    "def build_net(input_1 = X_train.shape[1], input_2 = X_train.shape[2]):\n",
    "\n",
    "  net = Sequential()\n",
    "  net.add(LSTM(units = 50, activation = 'relu', return_sequences = True, input_shape = (input_1, input_2)))\n",
    "  net.add(Dropout(0.2))\n",
    "  net.add(LSTM(units = 60, activation = 'relu', return_sequences = True))\n",
    "  net.add(Dropout(0.3))\n",
    "\n",
    "  net.add(LSTM(units = 80, activation = 'relu', return_sequences = True))\n",
    "  net.add(Dropout(0.4))\n",
    "\n",
    "  net.add(LSTM(units = 120, activation = 'relu'))\n",
    "  net.add(Dropout(0.5))\n",
    "\n",
    "  net.add(Dense(units =1))\n",
    "  print(net.summary())\n",
    "\n",
    "  return net\n"
   ]
  },
  {
   "cell_type": "code",
   "execution_count": 716,
   "metadata": {
    "colab": {
     "base_uri": "https://localhost:8080/"
    },
    "id": "1UBUjLyNh5KP",
    "outputId": "34a2f26a-b270-49d2-c784-8a1e9dcc4424"
   },
   "outputs": [
    {
     "name": "stdout",
     "output_type": "stream",
     "text": [
      "Model: \"sequential_9\"\n",
      "_________________________________________________________________\n",
      "Layer (type)                 Output Shape              Param #   \n",
      "=================================================================\n",
      "lstm_33 (LSTM)               (None, 60, 50)            11000     \n",
      "_________________________________________________________________\n",
      "dropout_32 (Dropout)         (None, 60, 50)            0         \n",
      "_________________________________________________________________\n",
      "lstm_34 (LSTM)               (None, 60, 60)            26640     \n",
      "_________________________________________________________________\n",
      "dropout_33 (Dropout)         (None, 60, 60)            0         \n",
      "_________________________________________________________________\n",
      "lstm_35 (LSTM)               (None, 60, 80)            45120     \n",
      "_________________________________________________________________\n",
      "dropout_34 (Dropout)         (None, 60, 80)            0         \n",
      "_________________________________________________________________\n",
      "lstm_36 (LSTM)               (None, 120)               96480     \n",
      "_________________________________________________________________\n",
      "dropout_35 (Dropout)         (None, 120)               0         \n",
      "_________________________________________________________________\n",
      "dense_8 (Dense)              (None, 1)                 121       \n",
      "=================================================================\n",
      "Total params: 179,361\n",
      "Trainable params: 179,361\n",
      "Non-trainable params: 0\n",
      "_________________________________________________________________\n",
      "None\n"
     ]
    }
   ],
   "source": [
    "# Kreiranje modela mreze\n",
    "\n",
    "net = build_net(input_1 = X_train.shape[1], input_2 = X_train.shape[2])"
   ]
  },
  {
   "cell_type": "markdown",
   "metadata": {
    "id": "30h12bNEmP83"
   },
   "source": [
    "**Kompilacija i treniranje mreže**"
   ]
  },
  {
   "cell_type": "code",
   "execution_count": 718,
   "metadata": {
    "colab": {
     "base_uri": "https://localhost:8080/"
    },
    "id": "VWL-DLbIlrbw",
    "outputId": "b98d5e1f-0740-4c04-b303-0f8580d6d2e3"
   },
   "outputs": [
    {
     "name": "stdout",
     "output_type": "stream",
     "text": [
      "Epoch 1/20\n",
      "36/36 [==============================] - 12s 202ms/step - loss: 8654481408.0000 - mse: 8654481408.0000 - mae: 62830.2461\n",
      "Epoch 2/20\n",
      "36/36 [==============================] - 7s 201ms/step - loss: 3340903424.0000 - mse: 3340903424.0000 - mae: 56637.1680\n",
      "Epoch 3/20\n",
      "36/36 [==============================] - 7s 200ms/step - loss: 3257620992.0000 - mse: 3257620992.0000 - mae: 57066.4336\n",
      "Epoch 4/20\n",
      "36/36 [==============================] - 7s 199ms/step - loss: 3257619200.0000 - mse: 3257619200.0000 - mae: 57066.4297\n",
      "Epoch 5/20\n",
      "36/36 [==============================] - 7s 198ms/step - loss: 3257614592.0000 - mse: 3257614592.0000 - mae: 57066.3828\n",
      "Epoch 6/20\n",
      "36/36 [==============================] - 7s 195ms/step - loss: 3153724672.0000 - mse: 3153724672.0000 - mae: 55522.0000\n",
      "Epoch 7/20\n",
      "36/36 [==============================] - 7s 196ms/step - loss: 3257548800.0000 - mse: 3257548800.0000 - mae: 57065.8047\n",
      "Epoch 8/20\n",
      "36/36 [==============================] - 7s 199ms/step - loss: 2580161024.0000 - mse: 2580161024.0000 - mae: 48618.9688\n",
      "Epoch 9/20\n",
      "36/36 [==============================] - 7s 201ms/step - loss: 2950670080.0000 - mse: 2950670080.0000 - mae: 53305.3438\n",
      "Epoch 10/20\n",
      "36/36 [==============================] - 7s 200ms/step - loss: 3257632000.0000 - mse: 3257632000.0000 - mae: 57066.5469\n",
      "Epoch 11/20\n",
      "36/36 [==============================] - 7s 197ms/step - loss: 3087741184.0000 - mse: 3087741184.0000 - mae: 54575.1797\n",
      "Epoch 1/20\n",
      "36/36 [==============================] - 12s 225ms/step - loss: 3274950144.0000 - mse: 3274950144.0000 - mae: 56980.9297 - val_loss: 2784732160.0000 - val_mse: 2784732160.0000 - val_mae: 52364.2344\n",
      "Epoch 2/20\n",
      "36/36 [==============================] - 8s 216ms/step - loss: 8668745728.0000 - mse: 8668745728.0000 - mae: 61379.2656 - val_loss: 3449352448.0000 - val_mse: 3449352448.0000 - val_mae: 58729.2734\n",
      "Epoch 3/20\n",
      "36/36 [==============================] - 7s 208ms/step - loss: 3217775616.0000 - mse: 3217775616.0000 - mae: 55841.8125 - val_loss: 3448469760.0000 - val_mse: 3448469760.0000 - val_mae: 58721.7852\n",
      "Epoch 4/20\n",
      "36/36 [==============================] - 8s 210ms/step - loss: 3257440000.0000 - mse: 3257440000.0000 - mae: 57064.8555 - val_loss: 3436462848.0000 - val_mse: 3436462848.0000 - val_mae: 58619.8906\n",
      "Epoch 5/20\n",
      "36/36 [==============================] - 8s 211ms/step - loss: 2710003200.0000 - mse: 2710003200.0000 - mae: 50315.5586 - val_loss: 963313280.0000 - val_mse: 963313280.0000 - val_mae: 24718.5820\n",
      "Epoch 6/20\n",
      "36/36 [==============================] - 7s 206ms/step - loss: 1512872576.0000 - mse: 1512872576.0000 - mae: 34277.2773 - val_loss: 552527680.0000 - val_mse: 552527680.0000 - val_mae: 18448.4922\n",
      "Epoch 7/20\n",
      "36/36 [==============================] - 8s 221ms/step - loss: 1062679296.0000 - mse: 1062679296.0000 - mae: 27342.7559 - val_loss: 1519454464.0000 - val_mse: 1519454464.0000 - val_mae: 38548.4297\n",
      "Epoch 8/20\n",
      "36/36 [==============================] - 8s 216ms/step - loss: 957440192.0000 - mse: 957440192.0000 - mae: 26511.9121 - val_loss: 565413504.0000 - val_mse: 565413504.0000 - val_mae: 22761.5996\n",
      "Epoch 9/20\n",
      "36/36 [==============================] - 7s 205ms/step - loss: 589602432.0000 - mse: 589602432.0000 - mae: 20174.9414 - val_loss: 678070144.0000 - val_mse: 678070144.0000 - val_mae: 25549.0410\n",
      "Epoch 10/20\n",
      "36/36 [==============================] - 8s 215ms/step - loss: 518893312.0000 - mse: 518893312.0000 - mae: 18860.0234 - val_loss: 266236736.0000 - val_mse: 266236736.0000 - val_mae: 15699.5898\n",
      "Epoch 11/20\n",
      "36/36 [==============================] - 8s 211ms/step - loss: 458940992.0000 - mse: 458940992.0000 - mae: 17427.2578 - val_loss: 271547904.0000 - val_mse: 271547904.0000 - val_mae: 16138.3311\n",
      "Epoch 12/20\n",
      "36/36 [==============================] - 8s 210ms/step - loss: 391337536.0000 - mse: 391337536.0000 - mae: 15950.8721 - val_loss: 237645664.0000 - val_mse: 237645664.0000 - val_mae: 15230.9600\n",
      "Epoch 13/20\n",
      "36/36 [==============================] - 8s 210ms/step - loss: 632177344.0000 - mse: 632177344.0000 - mae: 20592.3379 - val_loss: 510277184.0000 - val_mse: 510277184.0000 - val_mae: 20853.6484\n",
      "Epoch 14/20\n",
      "36/36 [==============================] - 8s 213ms/step - loss: 725665664.0000 - mse: 725665664.0000 - mae: 22281.6484 - val_loss: 292881664.0000 - val_mse: 292881664.0000 - val_mae: 15009.3213\n",
      "Epoch 15/20\n",
      "36/36 [==============================] - 8s 223ms/step - loss: 493075872.0000 - mse: 493075872.0000 - mae: 18494.8828 - val_loss: 233949760.0000 - val_mse: 233949760.0000 - val_mae: 14332.9551\n"
     ]
    }
   ],
   "source": [
    "# Kompilacija i treniranje mreze bez validacije\n",
    "\n",
    "history_no_validation, net_no_validation = compile_and_fit(optimizer = 'adam', loss = 'mean_squared_error', metrics = ['mse', 'mae'], X_train = X_train, y_train = y_train, epochs = 20, batch_size = 50, validation = 0, patience = 3)\n",
    "\n",
    "\n",
    "# Kompilacija i treniranje mreze sa validacijom\n",
    "\n",
    "validation_data = (X_validation, y_validation)\n",
    "history_validation, net_validation = compile_and_fit(optimizer = 'adam', loss = 'mean_squared_error', metrics = ['mse', 'mae'], X_train = X_train, y_train = y_train, epochs = 20, batch_size = 50, validation = 1, validation_data = validation_data, patience = 3)\n"
   ]
  },
  {
   "cell_type": "code",
   "execution_count": 718,
   "metadata": {
    "id": "QGBTTxYTrqK9"
   },
   "outputs": [],
   "source": []
  },
  {
   "cell_type": "markdown",
   "metadata": {
    "id": "pjo3QnGVsKpt"
   },
   "source": [
    "### **Predvidjanje**"
   ]
  },
  {
   "cell_type": "code",
   "execution_count": 719,
   "metadata": {
    "id": "IkU6jqFNrrUZ"
   },
   "outputs": [],
   "source": [
    "# Predvidjanje za mrezu treniranu bez i sa validacijom\n",
    "\n",
    "# Bez validacije\n",
    "y_predicted_no_validation = net_no_validation.predict(X_test)\n",
    "#print('Predvidjene vrednosti - bez validacije:\\n', y_predicted_no_validation)\n",
    "\n",
    "# Sa validacijom\n",
    "y_predicted_validation = net_validation.predict(X_test)\n",
    "#print('\\nPredvidjene vrednosti - sa validacijom:\\n', y_predicted_validation)"
   ]
  },
  {
   "cell_type": "markdown",
   "metadata": {
    "id": "Vtwv1-mtsie5"
   },
   "source": [
    "### **Vizualizacija rezultata predvidjanja**"
   ]
  },
  {
   "cell_type": "code",
   "execution_count": 721,
   "metadata": {
    "colab": {
     "base_uri": "https://localhost:8080/",
     "height": 589
    },
    "id": "iEnWZYr6zAhG",
    "outputId": "ceb019da-e1e9-46f5-eb60-c4a7cb881ec7"
   },
   "outputs": [
    {
     "data": {
      "image/png": "[encoded data removed]",
      "text/plain": [
       "<Figure size 432x288 with 1 Axes>"
      ]
     },
     "metadata": {
      "needs_background": "light"
     },
     "output_type": "display_data"
    },
    {
     "data": {
      "image/png": "[encoded data removed]",
      "text/plain": [
       "<Figure size 432x288 with 1 Axes>"
      ]
     },
     "metadata": {
      "needs_background": "light"
     },
     "output_type": "display_data"
    }
   ],
   "source": [
    "# Plotovanje stvarne i predvidjene vrednosti\n",
    "\n",
    "# Bez validacije\n",
    "plot_real_vs_predicted_data(test_set = y_test, predicted_set = y_predicted_no_validation)\n",
    "\n",
    "# Sa validacijom\n",
    "plot_real_vs_predicted_data(y_test, y_predicted_validation)"
   ]
  },
  {
   "cell_type": "markdown",
   "metadata": {},
   "source": [
    "### **Vizualizacija rezultata predvidjanja i metrika**"
   ]
  },
  {
   "cell_type": "markdown",
   "metadata": {},
   "source": [
    "### **Funkcija gubitka**"
   ]
  },
  {
   "cell_type": "code",
   "execution_count": 21,
   "metadata": {
    "colab": {
     "base_uri": "https://localhost:8080/",
     "height": 535
    },
    "id": "1BSAAKGSzAlx",
    "outputId": "16a9c3e3-14f6-4385-c412-a34ccade5740"
   },
   "outputs": [
    {
     "ename": "NameError",
     "evalue": "name 'plot_loss' is not defined",
     "output_type": "error",
     "traceback": [
      "\u001b[1;31m---------------------------------------------------------------------------\u001b[0m",
      "\u001b[1;31mNameError\u001b[0m                                 Traceback (most recent call last)",
      "\u001b[1;32m<ipython-input-21-8a88a471ad1a>\u001b[0m in \u001b[0;36m<module>\u001b[1;34m\u001b[0m\n\u001b[0;32m      1\u001b[0m \u001b[1;31m# Plotovanje funkcije gubitka tokom treniranja mreze\u001b[0m\u001b[1;33m\u001b[0m\u001b[1;33m\u001b[0m\u001b[1;33m\u001b[0m\u001b[0m\n\u001b[0;32m      2\u001b[0m \u001b[1;33m\u001b[0m\u001b[0m\n\u001b[1;32m----> 3\u001b[1;33m \u001b[0mplot_loss\u001b[0m\u001b[1;33m(\u001b[0m\u001b[0mhistory_\u001b[0m \u001b[1;33m=\u001b[0m \u001b[0mhistory_no_validation\u001b[0m\u001b[1;33m)\u001b[0m\u001b[1;33m\u001b[0m\u001b[1;33m\u001b[0m\u001b[0m\n\u001b[0m\u001b[0;32m      4\u001b[0m \u001b[1;33m\u001b[0m\u001b[0m\n\u001b[0;32m      5\u001b[0m \u001b[0mplot_loss\u001b[0m\u001b[1;33m(\u001b[0m\u001b[0mhistory_\u001b[0m \u001b[1;33m=\u001b[0m \u001b[0mhistory_validation\u001b[0m\u001b[1;33m)\u001b[0m\u001b[1;33m\u001b[0m\u001b[1;33m\u001b[0m\u001b[0m\n",
      "\u001b[1;31mNameError\u001b[0m: name 'plot_loss' is not defined"
     ]
    }
   ],
   "source": [
    "# Plotovanje funkcije gubitka tokom treniranja mreze\n",
    "\n",
    "plot_loss(history_ = history_no_validation)\n",
    "\n",
    "plot_loss(history_ = history_validation)"
   ]
  },
  {
   "cell_type": "markdown",
   "metadata": {},
   "source": [
    "### **Srednja kvadratna greška**"
   ]
  },
  {
   "cell_type": "code",
   "execution_count": null,
   "metadata": {},
   "outputs": [],
   "source": [
    "# Plotovanje srednje kvadratne greske tokom treniranja mreze\n",
    "\n",
    "plot_mse(history_ = history_no_validation)\n",
    "\n",
    "plot_mse(history_ = history_validation)"
   ]
  },
  {
   "cell_type": "markdown",
   "metadata": {},
   "source": [
    "### **Srednja apsolutna greška**"
   ]
  },
  {
   "cell_type": "code",
   "execution_count": 725,
   "metadata": {
    "colab": {
     "base_uri": "https://localhost:8080/",
     "height": 295
    },
    "id": "UE6EjgvZUczz",
    "outputId": "5d6df543-3b36-4832-bd94-7db2303b178a"
   },
   "outputs": [
    {
     "data": {
      "image/png": "[encoded data removed]",
      "text/plain": [
       "<Figure size 432x288 with 1 Axes>"
      ]
     },
     "metadata": {
      "needs_background": "light"
     },
     "output_type": "display_data"
    }
   ],
   "source": [
    "# Plotovanje srednje apsolutne greske tokom treniranja mreze\n",
    "\n",
    "plot_mae(history_no_validation)\n",
    "\n",
    "\n",
    "# Plotovanje srednje apsolutne greske tokom treniranja mreze sa validacijom\n",
    "\n",
    "plot_mae(history_validation)"
   ]
  },
  {
   "cell_type": "code",
   "execution_count": 726,
   "metadata": {
    "colab": {
     "base_uri": "https://localhost:8080/",
     "height": 295
    },
    "id": "7Xyxebz4UePl",
    "outputId": "5311ff57-c2db-471c-9433-9d75d5cff4f3"
   },
   "outputs": [
    {
     "data": {
      "image/png": "[encoded data removed]",
      "text/plain": [
       "<Figure size 432x288 with 1 Axes>"
      ]
     },
     "metadata": {
      "needs_background": "light"
     },
     "output_type": "display_data"
    }
   ],
   "source": []
  },
  {
   "cell_type": "markdown",
   "metadata": {},
   "source": [
    "### **Loss, MSE, MAE**"
   ]
  },
  {
   "cell_type": "code",
   "execution_count": 727,
   "metadata": {
    "colab": {
     "base_uri": "https://localhost:8080/"
    },
    "id": "Ui8qyCw2UiZ3",
    "outputId": "0ad034c8-5e29-4bdd-d252-d79e0ee1ff8c"
   },
   "outputs": [
    {
     "name": "stdout",
     "output_type": "stream",
     "text": [
      "17/17 [==============================] - 1s 38ms/step - loss: 182966912.0000 - mse: 182966912.0000 - mae: 13449.7344\n",
      "17/17 [==============================] - 1s 39ms/step - loss: 182966912.0000 - mse: 182966912.0000 - mae: 13449.7344\n",
      "\n",
      "Metrike prilikom testiranja - model treniran bez validacije\n",
      "\n",
      "loss 182966912.0\n",
      "mse 182966912.0\n",
      "mae 13449.734375\n",
      "\n",
      "\n",
      "Metrike prilikom testiranja - model treniran sa validacijom\n",
      "\n",
      "loss 182966912.0\n",
      "mse 182966912.0\n",
      "mae 13449.734375\n"
     ]
    }
   ],
   "source": [
    "# Loss, MSE, MAE nad skupom za testiranje\n",
    "\n",
    "# (za model koji pri treniranju koristi validaciju\n",
    "# i za model koji pri treniranju ne koristi validaciju)\n",
    "\n",
    "test_metrics_no_val = net_no_validation.evaluate(X_test, y_test)\n",
    "test_metrics_val = net_validation.evaluate(X_test, y_test)\n",
    "\n",
    "print('\\nMetrike prilikom testiranja - model treniran bez validacije\\n')\n",
    "print(net_no_validation.metrics_names[0], test_metrics_no_val[0])\n",
    "print(net_no_validation.metrics_names[1], test_metrics_no_val[1])\n",
    "print(net_no_validation.metrics_names[2], test_metrics_no_val[2])\n",
    "\n",
    "print('\\n\\nMetrike prilikom testiranja - model treniran sa validacijom\\n')\n",
    "print(net_validation.metrics_names[0], test_metrics_val[0])\n",
    "print(net_validation.metrics_names[1], test_metrics_val[1])\n",
    "print(net_validation.metrics_names[2], test_metrics_val[2])"
   ]
  },
  {
   "cell_type": "markdown",
   "metadata": {},
   "source": [
    "### **Koeficijent determinacije (R2 skor)**"
   ]
  },
  {
   "cell_type": "code",
   "execution_count": 728,
   "metadata": {
    "colab": {
     "base_uri": "https://localhost:8080/"
    },
    "id": "RQpYvBZyUpej",
    "outputId": "22e3fa51-7519-4bec-9b65-0d1e95a7e48b"
   },
   "outputs": [
    {
     "name": "stdout",
     "output_type": "stream",
     "text": [
      "R2 skor prilikom testiranja - model treniran bez validacije -86.4027463905458\n",
      "R2 skor prilikom testiranja - model treniran sa validacijom -86.4027463905458\n"
     ]
    }
   ],
   "source": [
    "# R2 skor nad skupom za testiranje\n",
    "\n",
    "r2 = metrics.r2_score(y_predicted_no_validation, y_test)\n",
    "r2_val = metrics.r2_score(y_predicted_validation, y_test)\n",
    "\n",
    "print('R2 skor prilikom testiranja - model treniran bez validacije', r2)\n",
    "print('R2 skor prilikom testiranja - model treniran sa validacijom', r2_val)"
   ]
  },
  {
   "cell_type": "code",
   "execution_count": 171,
   "metadata": {
    "id": "wd7c20pFUryX"
   },
   "outputs": [],
   "source": []
  }
 ],
 "metadata": {
  "colab": {
   "collapsed_sections": [],
   "include_colab_link": true,
   "name": "rnn.ipynb",
   "provenance": []
  },
  "kernelspec": {
   "display_name": "Python 3",
   "language": "python",
   "name": "python3"
  },
  "language_info": {
   "codemirror_mode": {
    "name": "ipython",
    "version": 3
   },
   "file_extension": ".py",
   "mimetype": "text/x-python",
   "name": "python",
   "nbconvert_exporter": "python",
   "pygments_lexer": "ipython3",
   "version": "3.9.5"
  }
 },
 "nbformat": 4,
 "nbformat_minor": 1
}
