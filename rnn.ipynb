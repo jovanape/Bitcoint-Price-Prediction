{
  "nbformat": 4,
  "nbformat_minor": 0,
  "metadata": {
    "colab": {
      "name": "rnn.ipynb",
      "provenance": [],
      "collapsed_sections": [],
      "include_colab_link": true
    },
    "kernelspec": {
      "display_name": "Python 3",
      "language": "python",
      "name": "python3"
    },
    "language_info": {
      "codemirror_mode": {
        "name": "ipython",
        "version": 3
      },
      "file_extension": ".py",
      "mimetype": "text/x-python",
      "name": "python",
      "nbconvert_exporter": "python",
      "pygments_lexer": "ipython3",
      "version": "3.9.5"
    }
  },
  "cells": [
    {
      "cell_type": "markdown",
      "metadata": {
        "id": "view-in-github",
        "colab_type": "text"
      },
      "source": [
        "<a href=\"https://colab.research.google.com/github/jovanape/Bitcoint-Price-Prediction/blob/main/rnn.ipynb\" target=\"_parent\"><img src=\"https://colab.research.google.com/assets/colab-badge.svg\" alt=\"Open In Colab\"/></a>"
      ]
    },
    {
      "cell_type": "markdown",
      "metadata": {
        "id": "4_6hHjWjjzos"
      },
      "source": [
        "# **Predvidjanje vrednosti Bitcoina pomocu RNN**\n",
        "\n",
        "**Korisceni atributi:** Open, High, Low, Close\n",
        "\n",
        "**Filtrirani podaci:** od 28.03.2021."
      ]
    },
    {
      "cell_type": "markdown",
      "metadata": {
        "id": "krvFQDwvkBdX"
      },
      "source": [
        "## **Ucitavanje biblioteka**"
      ]
    },
    {
      "cell_type": "code",
      "metadata": {
        "id": "iaSuiXq3HP1y"
      },
      "source": [
        "# Ucitavanje biblioteka\n",
        "\n",
        "import numpy as np \n",
        "import pandas as pd \n",
        "from matplotlib import pyplot as plt\n",
        "from sklearn.preprocessing import MinMaxScaler\n",
        "from keras.models import Sequential\n",
        "from keras.layers import Dense\n",
        "from keras.layers import LSTM\n",
        "from keras.layers import Dropout\n",
        "from keras import callbacks\n",
        "from sklearn.metrics import r2_score\n",
        "from sklearn.metrics import mean_absolute_error\n",
        "#%run preprocessing.ipynb"
      ],
      "execution_count": 94,
      "outputs": []
    },
    {
      "cell_type": "markdown",
      "metadata": {
        "id": "QsGhjvltjWcA"
      },
      "source": [
        "## **Ucitavanje skupa podataka i pretprocesiranje**"
      ]
    },
    {
      "cell_type": "code",
      "metadata": {
        "id": "sKo4Riq-DEF5"
      },
      "source": [
        "#data = preprocess_data(file_name = 'bitstampUSD_1-min_data_2012-01-01_to_2021-03-31.csv')"
      ],
      "execution_count": 95,
      "outputs": []
    },
    {
      "cell_type": "code",
      "metadata": {
        "id": "xSHDaS1qFR92",
        "outputId": "4a05b17f-8988-4314-d195-b75114c6befc",
        "colab": {
          "base_uri": "https://localhost:8080/",
          "height": 755
        }
      },
      "source": [
        "##### DELETE\n",
        "\n",
        "file_name = 'bitstampUSD_1-min_data_2012-01-01_to_2021-03-31.csv'\n",
        "\n",
        "# Ucitavanje skupa podataka\n",
        "data = pd.read_csv(file_name)\n",
        "\n",
        "# Dimenzije DataFrame-a\n",
        "print('\\n\\nDimenzije skupa podataka pre sredjivanja:\\n', data.shape)\n",
        "\n",
        "# Ciscenje podataka od NaN vrednosti\n",
        "data = data.dropna()\n",
        "\n",
        "# Kreiranje datuma\n",
        "data['Date'] = pd.to_datetime(data['Timestamp'], unit='s').dt.date # samo datum (bez vremena)\n",
        "\n",
        "# Dimenzije DataFrame-a\n",
        "print('\\n\\nDimenzije skupa podataka nakon sredjivanja:\\n', data.shape)\n",
        "\n",
        "data"
      ],
      "execution_count": 96,
      "outputs": [
        {
          "output_type": "stream",
          "name": "stdout",
          "text": [
            "\n",
            "\n",
            "Dimenzije skupa podataka pre sredjivanja:\n",
            " (4857377, 8)\n",
            "\n",
            "\n",
            "Dimenzije skupa podataka nakon sredjivanja:\n",
            " (3613769, 9)\n"
          ]
        },
        {
          "output_type": "execute_result",
          "data": {
            "text/html": [
              "<div>\n",
              "<style scoped>\n",
              "    .dataframe tbody tr th:only-of-type {\n",
              "        vertical-align: middle;\n",
              "    }\n",
              "\n",
              "    .dataframe tbody tr th {\n",
              "        vertical-align: top;\n",
              "    }\n",
              "\n",
              "    .dataframe thead th {\n",
              "        text-align: right;\n",
              "    }\n",
              "</style>\n",
              "<table border=\"1\" class=\"dataframe\">\n",
              "  <thead>\n",
              "    <tr style=\"text-align: right;\">\n",
              "      <th></th>\n",
              "      <th>Timestamp</th>\n",
              "      <th>Open</th>\n",
              "      <th>High</th>\n",
              "      <th>Low</th>\n",
              "      <th>Close</th>\n",
              "      <th>Volume_(BTC)</th>\n",
              "      <th>Volume_(Currency)</th>\n",
              "      <th>Weighted_Price</th>\n",
              "      <th>Date</th>\n",
              "    </tr>\n",
              "  </thead>\n",
              "  <tbody>\n",
              "    <tr>\n",
              "      <th>0</th>\n",
              "      <td>1325317920</td>\n",
              "      <td>4.39</td>\n",
              "      <td>4.39</td>\n",
              "      <td>4.39</td>\n",
              "      <td>4.39</td>\n",
              "      <td>0.455581</td>\n",
              "      <td>2.000000</td>\n",
              "      <td>4.390000</td>\n",
              "      <td>2011-12-31</td>\n",
              "    </tr>\n",
              "    <tr>\n",
              "      <th>478</th>\n",
              "      <td>1325346600</td>\n",
              "      <td>4.39</td>\n",
              "      <td>4.39</td>\n",
              "      <td>4.39</td>\n",
              "      <td>4.39</td>\n",
              "      <td>48.000000</td>\n",
              "      <td>210.720000</td>\n",
              "      <td>4.390000</td>\n",
              "      <td>2011-12-31</td>\n",
              "    </tr>\n",
              "    <tr>\n",
              "      <th>547</th>\n",
              "      <td>1325350740</td>\n",
              "      <td>4.50</td>\n",
              "      <td>4.57</td>\n",
              "      <td>4.50</td>\n",
              "      <td>4.57</td>\n",
              "      <td>37.862297</td>\n",
              "      <td>171.380338</td>\n",
              "      <td>4.526411</td>\n",
              "      <td>2011-12-31</td>\n",
              "    </tr>\n",
              "    <tr>\n",
              "      <th>548</th>\n",
              "      <td>1325350800</td>\n",
              "      <td>4.58</td>\n",
              "      <td>4.58</td>\n",
              "      <td>4.58</td>\n",
              "      <td>4.58</td>\n",
              "      <td>9.000000</td>\n",
              "      <td>41.220000</td>\n",
              "      <td>4.580000</td>\n",
              "      <td>2011-12-31</td>\n",
              "    </tr>\n",
              "    <tr>\n",
              "      <th>1224</th>\n",
              "      <td>1325391360</td>\n",
              "      <td>4.58</td>\n",
              "      <td>4.58</td>\n",
              "      <td>4.58</td>\n",
              "      <td>4.58</td>\n",
              "      <td>1.502000</td>\n",
              "      <td>6.879160</td>\n",
              "      <td>4.580000</td>\n",
              "      <td>2012-01-01</td>\n",
              "    </tr>\n",
              "    <tr>\n",
              "      <th>...</th>\n",
              "      <td>...</td>\n",
              "      <td>...</td>\n",
              "      <td>...</td>\n",
              "      <td>...</td>\n",
              "      <td>...</td>\n",
              "      <td>...</td>\n",
              "      <td>...</td>\n",
              "      <td>...</td>\n",
              "      <td>...</td>\n",
              "    </tr>\n",
              "    <tr>\n",
              "      <th>4857372</th>\n",
              "      <td>1617148560</td>\n",
              "      <td>58714.31</td>\n",
              "      <td>58714.31</td>\n",
              "      <td>58686.00</td>\n",
              "      <td>58686.00</td>\n",
              "      <td>1.384487</td>\n",
              "      <td>81259.372187</td>\n",
              "      <td>58692.753339</td>\n",
              "      <td>2021-03-30</td>\n",
              "    </tr>\n",
              "    <tr>\n",
              "      <th>4857373</th>\n",
              "      <td>1617148620</td>\n",
              "      <td>58683.97</td>\n",
              "      <td>58693.43</td>\n",
              "      <td>58683.97</td>\n",
              "      <td>58685.81</td>\n",
              "      <td>7.294848</td>\n",
              "      <td>428158.146640</td>\n",
              "      <td>58693.226508</td>\n",
              "      <td>2021-03-30</td>\n",
              "    </tr>\n",
              "    <tr>\n",
              "      <th>4857374</th>\n",
              "      <td>1617148680</td>\n",
              "      <td>58693.43</td>\n",
              "      <td>58723.84</td>\n",
              "      <td>58693.43</td>\n",
              "      <td>58723.84</td>\n",
              "      <td>1.705682</td>\n",
              "      <td>100117.070370</td>\n",
              "      <td>58696.198496</td>\n",
              "      <td>2021-03-30</td>\n",
              "    </tr>\n",
              "    <tr>\n",
              "      <th>4857375</th>\n",
              "      <td>1617148740</td>\n",
              "      <td>58742.18</td>\n",
              "      <td>58770.38</td>\n",
              "      <td>58742.18</td>\n",
              "      <td>58760.59</td>\n",
              "      <td>0.720415</td>\n",
              "      <td>42332.958633</td>\n",
              "      <td>58761.866202</td>\n",
              "      <td>2021-03-30</td>\n",
              "    </tr>\n",
              "    <tr>\n",
              "      <th>4857376</th>\n",
              "      <td>1617148800</td>\n",
              "      <td>58767.75</td>\n",
              "      <td>58778.18</td>\n",
              "      <td>58755.97</td>\n",
              "      <td>58778.18</td>\n",
              "      <td>2.712831</td>\n",
              "      <td>159417.751000</td>\n",
              "      <td>58764.349363</td>\n",
              "      <td>2021-03-31</td>\n",
              "    </tr>\n",
              "  </tbody>\n",
              "</table>\n",
              "<p>3613769 rows × 9 columns</p>\n",
              "</div>"
            ],
            "text/plain": [
              "          Timestamp      Open  ...  Weighted_Price        Date\n",
              "0        1325317920      4.39  ...        4.390000  2011-12-31\n",
              "478      1325346600      4.39  ...        4.390000  2011-12-31\n",
              "547      1325350740      4.50  ...        4.526411  2011-12-31\n",
              "548      1325350800      4.58  ...        4.580000  2011-12-31\n",
              "1224     1325391360      4.58  ...        4.580000  2012-01-01\n",
              "...             ...       ...  ...             ...         ...\n",
              "4857372  1617148560  58714.31  ...    58692.753339  2021-03-30\n",
              "4857373  1617148620  58683.97  ...    58693.226508  2021-03-30\n",
              "4857374  1617148680  58693.43  ...    58696.198496  2021-03-30\n",
              "4857375  1617148740  58742.18  ...    58761.866202  2021-03-30\n",
              "4857376  1617148800  58767.75  ...    58764.349363  2021-03-31\n",
              "\n",
              "[3613769 rows x 9 columns]"
            ]
          },
          "metadata": {},
          "execution_count": 96
        }
      ]
    },
    {
      "cell_type": "markdown",
      "metadata": {
        "id": "uJHmdAZWkeLL"
      },
      "source": [
        "### **Podela skupa podataka**"
      ]
    },
    {
      "cell_type": "code",
      "metadata": {
        "id": "dhZQvDybJsOg"
      },
      "source": [
        "###### DELETE\n",
        "\n",
        "def data_split(data, test_size = 0):\n",
        "\n",
        "  if test_size <= 0:\n",
        "    print('Vrednost parametra test_size mora biti strogo veca od 0.\\n')\n",
        "    return\n",
        "  else: # test_size > 0\n",
        "    test_limit = len(data) - int(test_size * len(data))\n",
        "\n",
        "  train = data[:test_limit]\n",
        "  test = data[test_limit:]\n",
        "  \n",
        "  return train, test"
      ],
      "execution_count": 97,
      "outputs": []
    },
    {
      "cell_type": "code",
      "metadata": {
        "id": "1n5kOU90PBHd"
      },
      "source": [
        "# Podela inicijalnog skupa podataka na train i test skup\n",
        "\n",
        "train, test = data_split(data, test_size = 0.2)\n",
        "\n",
        "\n",
        "# Podela train skupa podataka na train i validacioni skup\n",
        "\n",
        "train, validation = data_split(train, test_size = 0.2)"
      ],
      "execution_count": 98,
      "outputs": []
    },
    {
      "cell_type": "code",
      "metadata": {
        "colab": {
          "base_uri": "https://localhost:8080/"
        },
        "id": "juNgJZG7cnQS",
        "outputId": "3410c4cc-593e-4141-8269-5eb26a35323c"
      },
      "source": [
        "# Dimenzije train, validation i test skupa\n",
        "\n",
        "train.shape, validation.shape, test.shape"
      ],
      "execution_count": 99,
      "outputs": [
        {
          "output_type": "execute_result",
          "data": {
            "text/plain": [
              "((2312813, 9), (578203, 9), (722753, 9))"
            ]
          },
          "metadata": {},
          "execution_count": 99
        }
      ]
    },
    {
      "cell_type": "markdown",
      "metadata": {
        "id": "ttRI2EHVkikR"
      },
      "source": [
        "### **Vizualizacija validacionog skupa i train skupa**"
      ]
    },
    {
      "cell_type": "code",
      "metadata": {
        "id": "rCH1LLR7hUWc"
      },
      "source": [
        "##### DELETE\n",
        "\n",
        "def plot_train_and_validation_data(train, validation):\n",
        "  plt.title('Podaci za trening i validaciju')\n",
        "  plt.xlabel('vreme')\n",
        "  plt.ylabel('vrednost bitkoina')\n",
        "  plt.plot(train, c = 'lime')\n",
        "  plt.plot(validation, c = 'orchid')\n",
        "  plt.show()"
      ],
      "execution_count": 100,
      "outputs": []
    },
    {
      "cell_type": "code",
      "metadata": {
        "colab": {
          "base_uri": "https://localhost:8080/",
          "height": 295
        },
        "id": "vlwad6fjfGSU",
        "outputId": "ee616531-1388-4ca5-bd06-4b686a981fd9"
      },
      "source": [
        "plot_train_and_validation_data(train = train['Close'], validation = validation['Close'])"
      ],
      "execution_count": 101,
      "outputs": [
        {
          "output_type": "display_data",
          "data": {
            "image/png": "[encoded data removed]",
            "text/plain": [
              "<Figure size 432x288 with 1 Axes>"
            ]
          },
          "metadata": {
            "needs_background": "light"
          }
        }
      ]
    },
    {
      "cell_type": "markdown",
      "metadata": {
        "id": "dZw1y3Dxk1bt"
      },
      "source": [
        "### **Filtriranje trening, validacionog i test skupa**"
      ]
    },
    {
      "cell_type": "code",
      "metadata": {
        "colab": {
          "base_uri": "https://localhost:8080/"
        },
        "id": "bLfZvfLHiph9",
        "outputId": "9887c5da-56a6-4cbb-dc8a-ba5550da1b9e"
      },
      "source": [
        "# Izbacivanje nepotrebnih kolona (atributa) iz trening skupa\n",
        "\n",
        "train_ = train.drop(['Date', 'Volume_(BTC)', 'Volume_(Currency)', 'Weighted_Price', 'Timestamp'], axis = 1)\n",
        "train_.head(), train_.shape"
      ],
      "execution_count": 102,
      "outputs": [
        {
          "output_type": "execute_result",
          "data": {
            "text/plain": [
              "(      Open  High   Low  Close\n",
              " 0     4.39  4.39  4.39   4.39\n",
              " 478   4.39  4.39  4.39   4.39\n",
              " 547   4.50  4.57  4.50   4.57\n",
              " 548   4.58  4.58  4.58   4.58\n",
              " 1224  4.58  4.58  4.58   4.58, (2312813, 4))"
            ]
          },
          "metadata": {},
          "execution_count": 102
        }
      ]
    },
    {
      "cell_type": "code",
      "metadata": {
        "id": "Wz6OcXYTb55e",
        "outputId": "e0a381af-ada5-41a2-c012-c6ed0a1e037e",
        "colab": {
          "base_uri": "https://localhost:8080/"
        }
      },
      "source": [
        "# Izbacivanje nepotrebnih kolona (atributa) iz validacionog skupa\n",
        "\n",
        "validation_ = validation.drop(['Date', 'Volume_(BTC)', 'Volume_(Currency)', 'Weighted_Price', 'Timestamp'], axis = 1)\n",
        "validation_.head(), validation_.shape"
      ],
      "execution_count": 103,
      "outputs": [
        {
          "output_type": "execute_result",
          "data": {
            "text/plain": [
              "(            Open     High      Low    Close\n",
              " 3515412  6324.17  6330.54  6324.17  6330.54\n",
              " 3515413  6328.17  6328.17  6321.47  6321.47\n",
              " 3515414  6330.37  6331.24  6330.37  6331.24\n",
              " 3515415  6334.31  6378.15  6334.31  6378.15\n",
              " 3515416  6378.48  6405.00  6378.15  6387.36, (578203, 4))"
            ]
          },
          "metadata": {},
          "execution_count": 103
        }
      ]
    },
    {
      "cell_type": "code",
      "metadata": {
        "id": "tHzx1et4b7a5",
        "outputId": "3682f532-9a1a-4896-c733-9680c155de59",
        "colab": {
          "base_uri": "https://localhost:8080/"
        }
      },
      "source": [
        "# Izbacivanje nepotrebnih kolona (atributa) iz test skupa\n",
        "\n",
        "test_ = test.drop(['Date', 'Volume_(BTC)', 'Volume_(Currency)', 'Weighted_Price', 'Timestamp'], axis = 1)\n",
        "test_.head(), test_.shape"
      ],
      "execution_count": 104,
      "outputs": [
        {
          "output_type": "execute_result",
          "data": {
            "text/plain": [
              "(            Open     High      Low    Close\n",
              " 4125128  9011.74  9014.99  9005.35  9014.99\n",
              " 4125129  9007.76  9013.45  9007.76  9013.45\n",
              " 4125130  9010.00  9010.00  9007.90  9007.90\n",
              " 4125131  9010.00  9015.00  9006.25  9008.90\n",
              " 4125132  9009.07  9015.00  9009.07  9015.00, (722753, 4))"
            ]
          },
          "metadata": {},
          "execution_count": 104
        }
      ]
    },
    {
      "cell_type": "code",
      "metadata": {
        "colab": {
          "base_uri": "https://localhost:8080/"
        },
        "id": "_iWrck9Mvy_W",
        "outputId": "169d02df-102a-4153-d5de-905e0ece551b"
      },
      "source": [
        "# Dimenzije train skupa - pre i nakon izbacivanja atributa\n",
        "\n",
        "train.shape, train_.shape"
      ],
      "execution_count": 105,
      "outputs": [
        {
          "output_type": "execute_result",
          "data": {
            "text/plain": [
              "((2312813, 9), (2312813, 4))"
            ]
          },
          "metadata": {},
          "execution_count": 105
        }
      ]
    },
    {
      "cell_type": "code",
      "metadata": {
        "id": "UWlIGVQuej5Z"
      },
      "source": [
        "#train_ = train_.values.tolist()\n",
        "#validation_ = validation_.values.tolist()\n",
        "#test_ = test_.values.tolist()"
      ],
      "execution_count": 106,
      "outputs": []
    },
    {
      "cell_type": "code",
      "metadata": {
        "id": "225TGWERe4g4"
      },
      "source": [
        "#len(train_)"
      ],
      "execution_count": 107,
      "outputs": []
    },
    {
      "cell_type": "code",
      "metadata": {
        "id": "jR4KZNf1fanA"
      },
      "source": [
        ""
      ],
      "execution_count": 107,
      "outputs": []
    },
    {
      "cell_type": "markdown",
      "metadata": {
        "id": "XV8HqlmhdHo4"
      },
      "source": [
        "**Odredjivanje ciljne promenljive na train skupu**"
      ]
    },
    {
      "cell_type": "code",
      "metadata": {
        "id": "opAhJH_BcsnT"
      },
      "source": [
        "##### DELETE\n",
        "\n",
        "def determine_x_and_y(dataset):\n",
        "  X = []\n",
        "  y = []\n",
        "\n",
        "  for i in range(60, dataset.shape[0]):\n",
        "    X.append(dataset[i-60:i])\n",
        "    y.append(dataset[i,0])\n",
        "  \n",
        "  return X, y"
      ],
      "execution_count": 108,
      "outputs": []
    },
    {
      "cell_type": "code",
      "metadata": {
        "id": "1jGXkRI1mYzm"
      },
      "source": [
        "#print(type(train_))\n",
        "#scaler = MinMaxScaler(feature_range=(0, 1))\n",
        "#train_ = scaler.fit_transform(train_)\n",
        "#train_\n",
        "#print(type(train_))"
      ],
      "execution_count": 109,
      "outputs": []
    },
    {
      "cell_type": "code",
      "metadata": {
        "id": "YWNMbnmEdS7x"
      },
      "source": [
        "# Odredjivanje ciljne promenljive na train skupu\n",
        "\n",
        "X_train, y_train = determine_x_and_y(dataset = train_.to_numpy())\n",
        "\n",
        "\n",
        "# Odredjivanje ciljne promenljive na validacionom skupu\n",
        "\n",
        "X_validation, y_validation = determine_x_and_y(dataset = validation_.to_numpy())\n",
        "\n",
        "\n",
        "# Odredjivanje ciljne promenljive na test skupu\n",
        "\n",
        "X_test, y_test = determine_x_and_y(dataset = test_.to_numpy())"
      ],
      "execution_count": 110,
      "outputs": []
    },
    {
      "cell_type": "code",
      "metadata": {
        "id": "tsVmW6qyk0u3",
        "outputId": "95896520-bcba-4427-f3cf-ea731e7a43d1",
        "colab": {
          "base_uri": "https://localhost:8080/",
          "height": 166
        }
      },
      "source": [
        "X_train.shape"
      ],
      "execution_count": 1,
      "outputs": [
        {
          "output_type": "error",
          "ename": "NameError",
          "evalue": "ignored",
          "traceback": [
            "\u001b[0;31m---------------------------------------------------------------------------\u001b[0m",
            "\u001b[0;31mNameError\u001b[0m                                 Traceback (most recent call last)",
            "\u001b[0;32m<ipython-input-1-d2ba684acd0f>\u001b[0m in \u001b[0;36m<module>\u001b[0;34m()\u001b[0m\n\u001b[0;32m----> 1\u001b[0;31m \u001b[0mX_train\u001b[0m\u001b[0;34m.\u001b[0m\u001b[0mshape\u001b[0m\u001b[0;34m\u001b[0m\u001b[0;34m\u001b[0m\u001b[0m\n\u001b[0m",
            "\u001b[0;31mNameError\u001b[0m: name 'X_train' is not defined"
          ]
        }
      ]
    },
    {
      "cell_type": "code",
      "metadata": {
        "id": "GrFO0L4uoMOJ"
      },
      "source": [
        "df = pd.DataFrame(data = X_train)"
      ],
      "execution_count": null,
      "outputs": []
    },
    {
      "cell_type": "markdown",
      "metadata": {
        "id": "aos7IhTSlJ_c"
      },
      "source": [
        "**Skaliranje train skupa**"
      ]
    },
    {
      "cell_type": "code",
      "metadata": {
        "id": "3F3uP_YAjuAb"
      },
      "source": [
        "# Skaliranje trening skupa\n",
        "\n",
        "scaler = MinMaxScaler(feature_range=(0, 1))\n",
        "X_train = scaler.fit_transform(X_train)\n",
        "X_train\n",
        "\n",
        "\n",
        "# Konverzija test skupa u np.array\n",
        "# X_test, y_test = np.array(X_test), np.array(y_test)"
      ],
      "execution_count": null,
      "outputs": []
    },
    {
      "cell_type": "code",
      "metadata": {
        "id": "4x8ADxLLj2Gh"
      },
      "source": [
        ""
      ],
      "execution_count": 11,
      "outputs": []
    },
    {
      "cell_type": "code",
      "metadata": {
        "id": "CBQE6zfhQJU4"
      },
      "source": [
        ""
      ],
      "execution_count": null,
      "outputs": []
    },
    {
      "cell_type": "code",
      "metadata": {
        "id": "gAG1YTd6yw34"
      },
      "source": [
        "# Konverzija u np.array\n",
        "\n",
        "X_train, y_train = np.array(X_train), np.array(y_train)"
      ],
      "execution_count": null,
      "outputs": []
    },
    {
      "cell_type": "code",
      "metadata": {
        "colab": {
          "base_uri": "https://localhost:8080/"
        },
        "id": "uJ-ULtT3y1vi",
        "outputId": "92655b8d-ac47-45d8-9c92-1bb0f2712aad"
      },
      "source": [
        "# Dimenzije X_train\n",
        "\n",
        "X_train.shape"
      ],
      "execution_count": null,
      "outputs": [
        {
          "data": {
            "text/plain": [
              "(2238, 60, 4)"
            ]
          },
          "execution_count": 36,
          "metadata": {},
          "output_type": "execute_result"
        }
      ]
    },
    {
      "cell_type": "markdown",
      "metadata": {
        "id": "v38-_t3flcLM"
      },
      "source": [
        "## **Kreiranje, kompilacija i treniranje mreze**"
      ]
    },
    {
      "cell_type": "markdown",
      "metadata": {
        "id": "HNthz4cil_oG"
      },
      "source": [
        "### **Kreiranje mreze**"
      ]
    },
    {
      "cell_type": "code",
      "metadata": {
        "id": "lfeVY4ggy3Az"
      },
      "source": [
        "# Definicija funkcije koja kreira i vraca model mreze\n",
        "\n",
        "def build_net(input_1 = X_train.shape[1], input_2 = X_train.shape[2]):\n",
        "\n",
        "  net = Sequential()\n",
        "  net.add(LSTM(units = 50, activation = 'relu', return_sequences = True, input_shape = (input_1, input_2)))\n",
        "  net.add(Dropout(0.2))\n",
        "  net.add(LSTM(units = 60, activation = 'relu', return_sequences = True))\n",
        "  net.add(Dropout(0.3))\n",
        "\n",
        "  net.add(LSTM(units = 80, activation = 'relu', return_sequences = True))\n",
        "  net.add(Dropout(0.4))\n",
        "\n",
        "  net.add(LSTM(units = 120, activation = 'relu'))\n",
        "  net.add(Dropout(0.5))\n",
        "\n",
        "  net.add(Dense(units =1))\n",
        "  print(net.summary())\n",
        "\n",
        "  return net\n"
      ],
      "execution_count": null,
      "outputs": []
    },
    {
      "cell_type": "code",
      "metadata": {
        "colab": {
          "base_uri": "https://localhost:8080/"
        },
        "id": "1UBUjLyNh5KP",
        "outputId": "99b9f83c-ae2f-48fc-d980-fd0f83694cd7"
      },
      "source": [
        "# Kreiranje modela mreze\n",
        "\n",
        "net = build_net(input_1 = X_train.shape[1], input_2 = X_train.shape[2])"
      ],
      "execution_count": null,
      "outputs": [
        {
          "name": "stdout",
          "output_type": "stream",
          "text": [
            "Model: \"sequential_1\"\n",
            "_________________________________________________________________\n",
            "Layer (type)                 Output Shape              Param #   \n",
            "=================================================================\n",
            "lstm_4 (LSTM)                (None, 60, 50)            11000     \n",
            "_________________________________________________________________\n",
            "dropout_4 (Dropout)          (None, 60, 50)            0         \n",
            "_________________________________________________________________\n",
            "lstm_5 (LSTM)                (None, 60, 60)            26640     \n",
            "_________________________________________________________________\n",
            "dropout_5 (Dropout)          (None, 60, 60)            0         \n",
            "_________________________________________________________________\n",
            "lstm_6 (LSTM)                (None, 60, 80)            45120     \n",
            "_________________________________________________________________\n",
            "dropout_6 (Dropout)          (None, 60, 80)            0         \n",
            "_________________________________________________________________\n",
            "lstm_7 (LSTM)                (None, 120)               96480     \n",
            "_________________________________________________________________\n",
            "dropout_7 (Dropout)          (None, 120)               0         \n",
            "_________________________________________________________________\n",
            "dense_1 (Dense)              (None, 1)                 121       \n",
            "=================================================================\n",
            "Total params: 179,361\n",
            "Trainable params: 179,361\n",
            "Non-trainable params: 0\n",
            "_________________________________________________________________\n",
            "None\n"
          ]
        }
      ]
    },
    {
      "cell_type": "markdown",
      "metadata": {
        "id": "30h12bNEmP83"
      },
      "source": [
        "### **Kompilacija i treniranje mreze**"
      ]
    },
    {
      "cell_type": "code",
      "metadata": {
        "id": "W1PIqBXAb8LA"
      },
      "source": [
        "# Definicija funkcije za kompilaciju i treniranje mreze\n",
        "# Treniranje je moguce vrsiti sa ili bez validacije\n",
        "\n",
        "def compile_and_fit(optimizer, loss, metrics, X_train, y_train, epochs, batch_size, validation = 1, X_validation = None, y_validation = None, patience = 3):\n",
        "\n",
        "  net.compile(optimizer = optimizer, loss = loss, metrics = metrics)\n",
        "\n",
        "  callback = callbacks.EarlyStopping(monitor = 'loss', patience = patience)\n",
        "\n",
        "  if validation == 0: # bez validacije\n",
        "    history = net.fit(X_train, y_train, epochs = epochs, batch_size = batch_size, callbacks=[callback])\n",
        "  else: # sa validacijom\n",
        "    history = net.fit(X_train, y_train, epochs = epochs, validation_data = (X_validation, y_validation), batch_size = batch_size, callbacks=[callback])\n",
        "\n",
        "  return history, net\n"
      ],
      "execution_count": null,
      "outputs": []
    },
    {
      "cell_type": "code",
      "metadata": {
        "colab": {
          "base_uri": "https://localhost:8080/"
        },
        "id": "VWL-DLbIlrbw",
        "outputId": "0f725fc8-3ead-46a9-f65e-d75be8f1ba43"
      },
      "source": [
        "# Kompilacija i treniranje mreze bez validacije\n",
        "\n",
        "history_no_validation, net_no_validation = compile_and_fit(optimizer = 'adam', loss = 'mean_squared_error', metrics = ['mse', 'mae'], X_train_ = X_train, y_train_ = y_train, epochs = 20, batch_size = 50, validation = 0, patience = 3)\n",
        "\n",
        "\n",
        "# Kompilacija i treniranje mreze sa validacijom\n",
        "\n",
        "history_validation, net_validation = compile_and_fit(optimizer = 'adam', loss = 'mean_squared_error', metrics = ['mse', 'mae'], X_train_ = X_train, y_train_ = y_train, epochs = 20, batch_size = 50, validation = 1, X_validation = X_validation, y_validation = y_validation, patience = 3)\n"
      ],
      "execution_count": null,
      "outputs": [
        {
          "name": "stdout",
          "output_type": "stream",
          "text": [
            "Epoch 1/20\n",
            "41/41 [==============================] - 13s 220ms/step - loss: 0.0602 - mse: 0.0602 - mae: 0.1858 - val_loss: 0.0052 - val_mse: 0.0052 - val_mae: 0.0671\n",
            "Epoch 2/20\n",
            "41/41 [==============================] - 8s 204ms/step - loss: 0.0129 - mse: 0.0129 - mae: 0.0896 - val_loss: 0.0010 - val_mse: 0.0010 - val_mae: 0.0261\n",
            "Epoch 3/20\n",
            "41/41 [==============================] - 8s 202ms/step - loss: 0.0108 - mse: 0.0108 - mae: 0.0784 - val_loss: 0.0134 - val_mse: 0.0134 - val_mae: 0.1127\n",
            "Epoch 4/20\n",
            "41/41 [==============================] - 8s 202ms/step - loss: 0.0088 - mse: 0.0088 - mae: 0.0710 - val_loss: 0.0109 - val_mse: 0.0109 - val_mae: 0.1011\n",
            "Epoch 5/20\n",
            "41/41 [==============================] - 8s 204ms/step - loss: 0.0080 - mse: 0.0080 - mae: 0.0672 - val_loss: 0.0208 - val_mse: 0.0208 - val_mae: 0.1419\n",
            "Epoch 6/20\n",
            "41/41 [==============================] - 8s 202ms/step - loss: 0.0078 - mse: 0.0078 - mae: 0.0664 - val_loss: 0.0258 - val_mse: 0.0258 - val_mae: 0.1586\n",
            "Epoch 7/20\n",
            "41/41 [==============================] - 8s 199ms/step - loss: 0.0071 - mse: 0.0071 - mae: 0.0629 - val_loss: 0.0162 - val_mse: 0.0162 - val_mae: 0.1246\n",
            "Epoch 8/20\n",
            "41/41 [==============================] - 8s 202ms/step - loss: 0.0077 - mse: 0.0077 - mae: 0.0662 - val_loss: 0.0291 - val_mse: 0.0291 - val_mae: 0.1686\n",
            "Epoch 9/20\n",
            "41/41 [==============================] - 8s 203ms/step - loss: 0.0072 - mse: 0.0072 - mae: 0.0641 - val_loss: 0.0143 - val_mse: 0.0143 - val_mae: 0.1169\n",
            "Epoch 10/20\n",
            "41/41 [==============================] - 8s 201ms/step - loss: 0.0065 - mse: 0.0065 - mae: 0.0611 - val_loss: 0.0254 - val_mse: 0.0254 - val_mae: 0.1572\n",
            "Epoch 11/20\n",
            "41/41 [==============================] - 8s 202ms/step - loss: 0.0066 - mse: 0.0066 - mae: 0.0611 - val_loss: 0.0079 - val_mse: 0.0079 - val_mae: 0.0851\n",
            "Epoch 12/20\n",
            "41/41 [==============================] - 8s 202ms/step - loss: 0.0066 - mse: 0.0066 - mae: 0.0604 - val_loss: 0.0172 - val_mse: 0.0172 - val_mae: 0.1286\n",
            "Epoch 13/20\n",
            "41/41 [==============================] - 8s 203ms/step - loss: 0.0061 - mse: 0.0061 - mae: 0.0584 - val_loss: 0.0293 - val_mse: 0.0293 - val_mae: 0.1694\n",
            "Epoch 14/20\n",
            "41/41 [==============================] - 8s 202ms/step - loss: 0.0059 - mse: 0.0059 - mae: 0.0574 - val_loss: 0.0312 - val_mse: 0.0312 - val_mae: 0.1749\n",
            "Epoch 15/20\n",
            "41/41 [==============================] - 8s 198ms/step - loss: 0.0058 - mse: 0.0058 - mae: 0.0571 - val_loss: 0.0221 - val_mse: 0.0221 - val_mae: 0.1467\n",
            "Epoch 16/20\n",
            "41/41 [==============================] - 8s 199ms/step - loss: 0.0056 - mse: 0.0056 - mae: 0.0556 - val_loss: 0.0122 - val_mse: 0.0122 - val_mae: 0.1077\n",
            "Epoch 17/20\n",
            "41/41 [==============================] - 8s 200ms/step - loss: 0.0063 - mse: 0.0063 - mae: 0.0595 - val_loss: 0.0116 - val_mse: 0.0116 - val_mae: 0.1049\n",
            "Epoch 18/20\n",
            "41/41 [==============================] - 8s 200ms/step - loss: 0.0058 - mse: 0.0058 - mae: 0.0567 - val_loss: 0.0450 - val_mse: 0.0450 - val_mae: 0.2107\n",
            "Epoch 19/20\n",
            "41/41 [==============================] - 8s 202ms/step - loss: 0.0055 - mse: 0.0055 - mae: 0.0551 - val_loss: 0.0197 - val_mse: 0.0197 - val_mae: 0.1383\n",
            "Epoch 20/20\n",
            "41/41 [==============================] - 8s 199ms/step - loss: 0.0052 - mse: 0.0052 - mae: 0.0541 - val_loss: 0.0180 - val_mse: 0.0180 - val_mae: 0.1321\n",
            "Epoch 1/20\n",
            "45/45 [==============================] - 13s 196ms/step - loss: 0.0066 - mse: 0.0066 - mae: 0.0611\n",
            "Epoch 2/20\n",
            "45/45 [==============================] - 9s 193ms/step - loss: 0.0063 - mse: 0.0063 - mae: 0.0595\n",
            "Epoch 3/20\n",
            "45/45 [==============================] - 9s 192ms/step - loss: 0.0056 - mse: 0.0056 - mae: 0.0559\n",
            "Epoch 4/20\n",
            "45/45 [==============================] - 9s 193ms/step - loss: 0.0049 - mse: 0.0049 - mae: 0.0531\n",
            "Epoch 5/20\n",
            "45/45 [==============================] - 9s 196ms/step - loss: 0.0049 - mse: 0.0049 - mae: 0.0524\n",
            "Epoch 6/20\n",
            "45/45 [==============================] - 9s 198ms/step - loss: 0.0053 - mse: 0.0053 - mae: 0.0549\n",
            "Epoch 7/20\n",
            "45/45 [==============================] - 9s 197ms/step - loss: 0.0052 - mse: 0.0052 - mae: 0.0541\n",
            "Epoch 8/20\n",
            "45/45 [==============================] - 9s 200ms/step - loss: 0.0054 - mse: 0.0054 - mae: 0.0564\n"
          ]
        }
      ]
    },
    {
      "cell_type": "code",
      "metadata": {
        "id": "QGBTTxYTrqK9"
      },
      "source": [
        ""
      ],
      "execution_count": null,
      "outputs": []
    },
    {
      "cell_type": "markdown",
      "metadata": {
        "id": "pjo3QnGVsKpt"
      },
      "source": [
        "## **Predvidjanje**"
      ]
    },
    {
      "cell_type": "code",
      "metadata": {
        "colab": {
          "base_uri": "https://localhost:8080/"
        },
        "id": "IkU6jqFNrrUZ",
        "outputId": "e0bfdfcb-f5c0-4c9a-9714-252e556b3bcd"
      },
      "source": [
        "# Predvidjanje za mrezu treniranu bez i sa validacijom\n",
        "\n",
        "# Bez validacije\n",
        "y_predicted_no_validation = net_no_validation.predict(X_test)\n",
        "print('Predvidjene vrednosti - bez validacije:\\n', y_predicted_no_validation)\n",
        "\n",
        "# Sa validacijom\n",
        "y_predicted_validation = net_validation.predict(X_test)\n",
        "print('\\nPredvidjene vrednosti - sa validacijom:\\n', y_predicted_validation)"
      ],
      "execution_count": null,
      "outputs": [
        {
          "name": "stdout",
          "output_type": "stream",
          "text": [
            "Predvidjene vrednosti - bez validacije:\n",
            " [[0.75165933]\n",
            " [0.7511229 ]\n",
            " [0.7502168 ]\n",
            " [0.74906045]\n",
            " [0.74779767]\n",
            " [0.74649435]\n",
            " [0.7451803 ]\n",
            " [0.7438466 ]\n",
            " [0.7424785 ]\n",
            " [0.7411187 ]\n",
            " [0.7398066 ]\n",
            " [0.7385264 ]\n",
            " [0.73724407]\n",
            " [0.73594105]\n",
            " [0.73457474]\n",
            " [0.7330907 ]\n",
            " [0.731538  ]\n",
            " [0.7300557 ]\n",
            " [0.7287609 ]\n",
            " [0.72772413]\n",
            " [0.72699255]\n",
            " [0.72654176]\n",
            " [0.72630775]\n",
            " [0.72618765]\n",
            " [0.7260579 ]\n",
            " [0.7257975 ]\n",
            " [0.72528523]\n",
            " [0.7243476 ]\n",
            " [0.7229243 ]\n",
            " [0.721063  ]\n",
            " [0.71888363]\n",
            " [0.7164924 ]\n",
            " [0.7140276 ]\n",
            " [0.7116976 ]\n",
            " [0.7096926 ]\n",
            " [0.7080289 ]\n",
            " [0.7067484 ]\n",
            " [0.7059063 ]\n",
            " [0.7054347 ]\n",
            " [0.7051353 ]\n",
            " [0.7047973 ]\n",
            " [0.7042917 ]\n",
            " [0.7036444 ]\n",
            " [0.7029725 ]\n",
            " [0.70242244]\n",
            " [0.7021992 ]\n",
            " [0.7025116 ]\n",
            " [0.70339465]\n",
            " [0.7046826 ]\n",
            " [0.7062165 ]\n",
            " [0.707914  ]\n",
            " [0.70969415]\n",
            " [0.71145654]\n",
            " [0.71314764]\n",
            " [0.71479434]\n",
            " [0.71636575]\n",
            " [0.7177921 ]\n",
            " [0.71896404]\n",
            " [0.7198368 ]\n",
            " [0.72037816]\n",
            " [0.720537  ]\n",
            " [0.720336  ]\n",
            " [0.7199187 ]\n",
            " [0.7194597 ]\n",
            " [0.71913826]\n",
            " [0.7190475 ]\n",
            " [0.7192003 ]\n",
            " [0.7195838 ]\n",
            " [0.72013575]\n",
            " [0.72080433]\n",
            " [0.7214914 ]\n",
            " [0.7220911 ]\n",
            " [0.7225581 ]\n",
            " [0.7228684 ]\n",
            " [0.7230137 ]\n",
            " [0.72303694]\n",
            " [0.7229617 ]\n",
            " [0.72274584]\n",
            " [0.7223553 ]\n",
            " [0.72187406]\n",
            " [0.7213998 ]\n",
            " [0.7209706 ]\n",
            " [0.7206367 ]\n",
            " [0.7205064 ]\n",
            " [0.7207654 ]\n",
            " [0.72149485]\n",
            " [0.7226388 ]\n",
            " [0.7240452 ]\n",
            " [0.7255606 ]\n",
            " [0.7270257 ]\n",
            " [0.72834235]\n",
            " [0.7294021 ]\n",
            " [0.7301049 ]\n",
            " [0.73040193]\n",
            " [0.7302771 ]\n",
            " [0.72984457]\n",
            " [0.7292939 ]\n",
            " [0.72880125]\n",
            " [0.7285468 ]\n",
            " [0.72860956]\n",
            " [0.7289342 ]\n",
            " [0.7294984 ]\n",
            " [0.73019505]\n",
            " [0.7308815 ]\n",
            " [0.73147315]\n",
            " [0.73189265]\n",
            " [0.73207253]\n",
            " [0.7320806 ]\n",
            " [0.7320306 ]\n",
            " [0.7319777 ]\n",
            " [0.7319223 ]\n",
            " [0.73183763]\n",
            " [0.73174214]\n",
            " [0.7317321 ]\n",
            " [0.7319128 ]\n",
            " [0.73235613]\n",
            " [0.733131  ]\n",
            " [0.7342267 ]\n",
            " [0.73555344]\n",
            " [0.7370153 ]\n",
            " [0.7385792 ]\n",
            " [0.7401958 ]\n",
            " [0.7417721 ]\n",
            " [0.74324083]\n",
            " [0.74452865]\n",
            " [0.7455623 ]\n",
            " [0.7462968 ]\n",
            " [0.74673516]\n",
            " [0.746905  ]\n",
            " [0.74687   ]\n",
            " [0.74669856]\n",
            " [0.74651545]\n",
            " [0.7464272 ]\n",
            " [0.74649936]\n",
            " [0.7467329 ]\n",
            " [0.7471076 ]\n",
            " [0.7475856 ]\n",
            " [0.74808925]\n",
            " [0.7485576 ]\n",
            " [0.7489249 ]\n",
            " [0.74912304]\n",
            " [0.74913895]\n",
            " [0.7490474 ]\n",
            " [0.7489164 ]\n",
            " [0.74875575]\n",
            " [0.7485522 ]\n",
            " [0.7483167 ]\n",
            " [0.7480705 ]\n",
            " [0.7478484 ]\n",
            " [0.7476517 ]\n",
            " [0.74745864]\n",
            " [0.7472116 ]\n",
            " [0.7468346 ]\n",
            " [0.7462125 ]\n",
            " [0.7453304 ]\n",
            " [0.74424464]\n",
            " [0.7430212 ]\n",
            " [0.74181736]\n",
            " [0.74077   ]\n",
            " [0.7399978 ]\n",
            " [0.73957676]\n",
            " [0.7396031 ]\n",
            " [0.7402419 ]\n",
            " [0.7415954 ]\n",
            " [0.7437608 ]\n",
            " [0.7468053 ]\n",
            " [0.7506296 ]\n",
            " [0.75497484]\n",
            " [0.7595361 ]\n",
            " [0.76408654]\n",
            " [0.76844263]\n",
            " [0.7724854 ]\n",
            " [0.7761167 ]\n",
            " [0.77930874]\n",
            " [0.7820304 ]\n",
            " [0.78426915]\n",
            " [0.78602976]\n",
            " [0.7873717 ]\n",
            " [0.78839976]\n",
            " [0.7892007 ]\n",
            " [0.7897913 ]\n",
            " [0.790201  ]\n",
            " [0.7904273 ]\n",
            " [0.7903901 ]\n",
            " [0.79010993]\n",
            " [0.78964186]\n",
            " [0.78898984]\n",
            " [0.78804183]\n",
            " [0.7866813 ]\n",
            " [0.7848317 ]\n",
            " [0.7825189 ]\n",
            " [0.77985156]\n",
            " [0.77701366]\n",
            " [0.77417535]\n",
            " [0.77144605]\n",
            " [0.7689404 ]\n",
            " [0.7667187 ]\n",
            " [0.7648471 ]\n",
            " [0.7633942 ]\n",
            " [0.7623806 ]\n",
            " [0.76170725]\n",
            " [0.76135975]\n",
            " [0.7613113 ]\n",
            " [0.7615229 ]\n",
            " [0.76197743]\n",
            " [0.76262164]\n",
            " [0.7633411 ]\n",
            " [0.7639615 ]\n",
            " [0.7643816 ]\n",
            " [0.7645543 ]\n",
            " [0.7644305 ]\n",
            " [0.76397014]\n",
            " [0.7632115 ]\n",
            " [0.7622135 ]\n",
            " [0.7610803 ]\n",
            " [0.75992626]\n",
            " [0.7588208 ]\n",
            " [0.7577829 ]\n",
            " [0.7567972 ]\n",
            " [0.75587994]\n",
            " [0.7551197 ]\n",
            " [0.7545458 ]\n",
            " [0.7540802 ]\n",
            " [0.75368047]\n",
            " [0.75335455]\n",
            " [0.75313747]\n",
            " [0.7530164 ]\n",
            " [0.75295216]\n",
            " [0.75284   ]\n",
            " [0.7525803 ]\n",
            " [0.75208926]\n",
            " [0.7513988 ]\n",
            " [0.7505789 ]\n",
            " [0.7496726 ]\n",
            " [0.748678  ]\n",
            " [0.7475819 ]\n",
            " [0.74643487]\n",
            " [0.74530447]\n",
            " [0.74424917]\n",
            " [0.7433605 ]\n",
            " [0.7427054 ]\n",
            " [0.7422893 ]\n",
            " [0.74207324]\n",
            " [0.7420679 ]\n",
            " [0.74228376]\n",
            " [0.7427671 ]\n",
            " [0.7435601 ]\n",
            " [0.74461   ]\n",
            " [0.7458374 ]\n",
            " [0.7473287 ]\n",
            " [0.74921924]\n",
            " [0.75155735]\n",
            " [0.75428784]\n",
            " [0.75721544]\n",
            " [0.7601654 ]\n",
            " [0.7629877 ]\n",
            " [0.7655195 ]\n",
            " [0.767603  ]\n",
            " [0.7691507 ]\n",
            " [0.7701552 ]\n",
            " [0.770647  ]\n",
            " [0.7707424 ]\n",
            " [0.7705907 ]\n",
            " [0.77028555]\n",
            " [0.7698868 ]\n",
            " [0.76944447]\n",
            " [0.76899326]\n",
            " [0.7685773 ]\n",
            " [0.76822406]\n",
            " [0.76795465]\n",
            " [0.7678163 ]\n",
            " [0.76781833]\n",
            " [0.76796895]\n",
            " [0.76828885]\n",
            " [0.7688113 ]\n",
            " [0.7696566 ]\n",
            " [0.77088004]\n",
            " [0.7723331 ]\n",
            " [0.7737671 ]\n",
            " [0.7749128 ]\n",
            " [0.7756047 ]\n",
            " [0.775736  ]\n",
            " [0.7752513 ]\n",
            " [0.7741361 ]\n",
            " [0.7723837 ]\n",
            " [0.7699746 ]\n",
            " [0.766935  ]\n",
            " [0.7632789 ]\n",
            " [0.75910085]\n",
            " [0.7545883 ]\n",
            " [0.7498532 ]\n",
            " [0.7450636 ]\n",
            " [0.7404958 ]\n",
            " [0.7364301 ]\n",
            " [0.73309475]\n",
            " [0.73064023]\n",
            " [0.72902626]\n",
            " [0.72812194]\n",
            " [0.72766495]\n",
            " [0.7273103 ]\n",
            " [0.72672707]\n",
            " [0.72575873]\n",
            " [0.7243839 ]\n",
            " [0.722634  ]\n",
            " [0.7205138 ]\n",
            " [0.7181342 ]\n",
            " [0.71573496]\n",
            " [0.7134914 ]\n",
            " [0.71144503]\n",
            " [0.7095779 ]\n",
            " [0.70781916]\n",
            " [0.70617884]\n",
            " [0.7047396 ]\n",
            " [0.7035153 ]\n",
            " [0.7025301 ]\n",
            " [0.70184577]\n",
            " [0.70149106]\n",
            " [0.70154476]\n",
            " [0.7020805 ]\n",
            " [0.7030839 ]\n",
            " [0.7045225 ]\n",
            " [0.7063671 ]\n",
            " [0.7085646 ]\n",
            " [0.7109977 ]\n",
            " [0.71354234]\n",
            " [0.7160906 ]\n",
            " [0.7184255 ]\n",
            " [0.72045195]\n",
            " [0.72218966]\n",
            " [0.7236825 ]\n",
            " [0.7249201 ]\n",
            " [0.72588694]\n",
            " [0.7265728 ]\n",
            " [0.72694665]\n",
            " [0.7269988 ]\n",
            " [0.7267609 ]\n",
            " [0.726238  ]\n",
            " [0.7254099 ]\n",
            " [0.72435194]\n",
            " [0.7232041 ]\n",
            " [0.72211015]\n",
            " [0.72114074]\n",
            " [0.72030205]\n",
            " [0.71957153]\n",
            " [0.71894413]\n",
            " [0.71847445]\n",
            " [0.718223  ]\n",
            " [0.7181902 ]\n",
            " [0.71836853]\n",
            " [0.7187764 ]\n",
            " [0.7193925 ]\n",
            " [0.7201744 ]\n",
            " [0.7210688 ]\n",
            " [0.7220174 ]\n",
            " [0.72296363]\n",
            " [0.72385246]\n",
            " [0.7246559 ]\n",
            " [0.725339  ]\n",
            " [0.7258534 ]\n",
            " [0.7261539 ]\n",
            " [0.72618335]\n",
            " [0.72591877]\n",
            " [0.725349  ]\n",
            " [0.7245747 ]\n",
            " [0.7237338 ]\n",
            " [0.7230044 ]\n",
            " [0.7225172 ]\n",
            " [0.72228473]\n",
            " [0.72226304]\n",
            " [0.7223798 ]\n",
            " [0.72258115]\n",
            " [0.72283584]\n",
            " [0.7231757 ]\n",
            " [0.7236467 ]\n",
            " [0.7242502 ]\n",
            " [0.72499335]\n",
            " [0.7258515 ]\n",
            " [0.7267712 ]\n",
            " [0.72766006]\n",
            " [0.7284427 ]\n",
            " [0.7290582 ]\n",
            " [0.72942406]\n",
            " [0.7294755 ]\n",
            " [0.72925484]\n",
            " [0.7288378 ]\n",
            " [0.72831786]\n",
            " [0.7278031 ]\n",
            " [0.7273913 ]\n",
            " [0.7271457 ]\n",
            " [0.72714925]\n",
            " [0.72755224]\n",
            " [0.72837013]\n",
            " [0.7294872 ]\n",
            " [0.73074216]\n",
            " [0.7319842 ]\n",
            " [0.73309624]\n",
            " [0.7340252 ]\n",
            " [0.73481756]\n",
            " [0.7355303 ]\n",
            " [0.7362185 ]\n",
            " [0.7368951 ]\n",
            " [0.7374887 ]\n",
            " [0.7379591 ]\n",
            " [0.7383926 ]\n",
            " [0.7388764 ]\n",
            " [0.7394559 ]\n",
            " [0.74015117]\n",
            " [0.7410061 ]\n",
            " [0.7420451 ]\n",
            " [0.74325675]\n",
            " [0.744626  ]\n",
            " [0.74611765]\n",
            " [0.7476645 ]\n",
            " [0.7491486 ]\n",
            " [0.7504435 ]\n",
            " [0.7514764 ]\n",
            " [0.75233036]\n",
            " [0.7531076 ]\n",
            " [0.75384194]\n",
            " [0.75452226]\n",
            " [0.7551335 ]\n",
            " [0.7556527 ]\n",
            " [0.75603276]\n",
            " [0.7562208 ]\n",
            " [0.7561898 ]\n",
            " [0.75593466]\n",
            " [0.75551873]\n",
            " [0.7549613 ]\n",
            " [0.75427586]\n",
            " [0.75346524]\n",
            " [0.75254047]\n",
            " [0.75150055]\n",
            " [0.7503171 ]\n",
            " [0.74894303]\n",
            " [0.7473863 ]\n",
            " [0.7457653 ]\n",
            " [0.7441845 ]\n",
            " [0.7426951 ]\n",
            " [0.7412919 ]\n",
            " [0.73996204]\n",
            " [0.738713  ]\n",
            " [0.7376146 ]\n",
            " [0.7366728 ]\n",
            " [0.7358531 ]\n",
            " [0.73507154]\n",
            " [0.7342349 ]\n",
            " [0.7333212 ]\n",
            " [0.73233324]\n",
            " [0.7313029 ]\n",
            " [0.73024994]\n",
            " [0.7292281 ]\n",
            " [0.7283091 ]\n",
            " [0.72752917]\n",
            " [0.72689825]\n",
            " [0.7264025 ]\n",
            " [0.72603846]\n",
            " [0.72574896]\n",
            " [0.72543746]\n",
            " [0.7250645 ]\n",
            " [0.72457576]\n",
            " [0.7239334 ]\n",
            " [0.72314733]\n",
            " [0.7222006 ]\n",
            " [0.7211092 ]\n",
            " [0.71994346]\n",
            " [0.718819  ]\n",
            " [0.7178992 ]\n",
            " [0.7173123 ]\n",
            " [0.7170939 ]\n",
            " [0.71724916]\n",
            " [0.71773094]\n",
            " [0.71843797]\n",
            " [0.7191996 ]\n",
            " [0.7198502 ]\n",
            " [0.7202703 ]\n",
            " [0.7204016 ]\n",
            " [0.7202843 ]\n",
            " [0.71997976]\n",
            " [0.71950716]\n",
            " [0.71889085]\n",
            " [0.7182253 ]\n",
            " [0.7176431 ]\n",
            " [0.71727735]\n",
            " [0.7172249 ]\n",
            " [0.7175366 ]\n",
            " [0.71822643]\n",
            " [0.7192227 ]\n",
            " [0.72045684]\n",
            " [0.7217944 ]\n",
            " [0.7231199 ]\n",
            " [0.7242698 ]\n",
            " [0.7250957 ]\n",
            " [0.72551423]\n",
            " [0.7254556 ]\n",
            " [0.72496057]\n",
            " [0.7240986 ]\n",
            " [0.72296304]\n",
            " [0.7216521 ]\n",
            " [0.72024626]\n",
            " [0.71880376]\n",
            " [0.7173738 ]\n",
            " [0.7160977 ]\n",
            " [0.71511984]\n",
            " [0.7145154 ]\n",
            " [0.7142545 ]\n",
            " [0.71430665]\n",
            " [0.7146291 ]\n",
            " [0.7152055 ]\n",
            " [0.7160551 ]\n",
            " [0.7171391 ]\n",
            " [0.71834916]\n",
            " [0.71956   ]\n",
            " [0.72071266]\n",
            " [0.7218407 ]]\n",
            "\n",
            "Predvidjene vrednosti - sa validacijom:\n",
            " [[0.75165933]\n",
            " [0.7511229 ]\n",
            " [0.7502168 ]\n",
            " [0.74906045]\n",
            " [0.74779767]\n",
            " [0.74649435]\n",
            " [0.7451803 ]\n",
            " [0.7438466 ]\n",
            " [0.7424785 ]\n",
            " [0.7411187 ]\n",
            " [0.7398066 ]\n",
            " [0.7385264 ]\n",
            " [0.73724407]\n",
            " [0.73594105]\n",
            " [0.73457474]\n",
            " [0.7330907 ]\n",
            " [0.731538  ]\n",
            " [0.7300557 ]\n",
            " [0.7287609 ]\n",
            " [0.72772413]\n",
            " [0.72699255]\n",
            " [0.72654176]\n",
            " [0.72630775]\n",
            " [0.72618765]\n",
            " [0.7260579 ]\n",
            " [0.7257975 ]\n",
            " [0.72528523]\n",
            " [0.7243476 ]\n",
            " [0.7229243 ]\n",
            " [0.721063  ]\n",
            " [0.71888363]\n",
            " [0.7164924 ]\n",
            " [0.7140276 ]\n",
            " [0.7116976 ]\n",
            " [0.7096926 ]\n",
            " [0.7080289 ]\n",
            " [0.7067484 ]\n",
            " [0.7059063 ]\n",
            " [0.7054347 ]\n",
            " [0.7051353 ]\n",
            " [0.7047973 ]\n",
            " [0.7042917 ]\n",
            " [0.7036444 ]\n",
            " [0.7029725 ]\n",
            " [0.70242244]\n",
            " [0.7021992 ]\n",
            " [0.7025116 ]\n",
            " [0.70339465]\n",
            " [0.7046826 ]\n",
            " [0.7062165 ]\n",
            " [0.707914  ]\n",
            " [0.70969415]\n",
            " [0.71145654]\n",
            " [0.71314764]\n",
            " [0.71479434]\n",
            " [0.71636575]\n",
            " [0.7177921 ]\n",
            " [0.71896404]\n",
            " [0.7198368 ]\n",
            " [0.72037816]\n",
            " [0.720537  ]\n",
            " [0.720336  ]\n",
            " [0.7199187 ]\n",
            " [0.7194597 ]\n",
            " [0.71913826]\n",
            " [0.7190475 ]\n",
            " [0.7192003 ]\n",
            " [0.7195838 ]\n",
            " [0.72013575]\n",
            " [0.72080433]\n",
            " [0.7214914 ]\n",
            " [0.7220911 ]\n",
            " [0.7225581 ]\n",
            " [0.7228684 ]\n",
            " [0.7230137 ]\n",
            " [0.72303694]\n",
            " [0.7229617 ]\n",
            " [0.72274584]\n",
            " [0.7223553 ]\n",
            " [0.72187406]\n",
            " [0.7213998 ]\n",
            " [0.7209706 ]\n",
            " [0.7206367 ]\n",
            " [0.7205064 ]\n",
            " [0.7207654 ]\n",
            " [0.72149485]\n",
            " [0.7226388 ]\n",
            " [0.7240452 ]\n",
            " [0.7255606 ]\n",
            " [0.7270257 ]\n",
            " [0.72834235]\n",
            " [0.7294021 ]\n",
            " [0.7301049 ]\n",
            " [0.73040193]\n",
            " [0.7302771 ]\n",
            " [0.72984457]\n",
            " [0.7292939 ]\n",
            " [0.72880125]\n",
            " [0.7285468 ]\n",
            " [0.72860956]\n",
            " [0.7289342 ]\n",
            " [0.7294984 ]\n",
            " [0.73019505]\n",
            " [0.7308815 ]\n",
            " [0.73147315]\n",
            " [0.73189265]\n",
            " [0.73207253]\n",
            " [0.7320806 ]\n",
            " [0.7320306 ]\n",
            " [0.7319777 ]\n",
            " [0.7319223 ]\n",
            " [0.73183763]\n",
            " [0.73174214]\n",
            " [0.7317321 ]\n",
            " [0.7319128 ]\n",
            " [0.73235613]\n",
            " [0.733131  ]\n",
            " [0.7342267 ]\n",
            " [0.73555344]\n",
            " [0.7370153 ]\n",
            " [0.7385792 ]\n",
            " [0.7401958 ]\n",
            " [0.7417721 ]\n",
            " [0.74324083]\n",
            " [0.74452865]\n",
            " [0.7455623 ]\n",
            " [0.7462968 ]\n",
            " [0.74673516]\n",
            " [0.746905  ]\n",
            " [0.74687   ]\n",
            " [0.74669856]\n",
            " [0.74651545]\n",
            " [0.7464272 ]\n",
            " [0.74649936]\n",
            " [0.7467329 ]\n",
            " [0.7471076 ]\n",
            " [0.7475856 ]\n",
            " [0.74808925]\n",
            " [0.7485576 ]\n",
            " [0.7489249 ]\n",
            " [0.74912304]\n",
            " [0.74913895]\n",
            " [0.7490474 ]\n",
            " [0.7489164 ]\n",
            " [0.74875575]\n",
            " [0.7485522 ]\n",
            " [0.7483167 ]\n",
            " [0.7480705 ]\n",
            " [0.7478484 ]\n",
            " [0.7476517 ]\n",
            " [0.74745864]\n",
            " [0.7472116 ]\n",
            " [0.7468346 ]\n",
            " [0.7462125 ]\n",
            " [0.7453304 ]\n",
            " [0.74424464]\n",
            " [0.7430212 ]\n",
            " [0.74181736]\n",
            " [0.74077   ]\n",
            " [0.7399978 ]\n",
            " [0.73957676]\n",
            " [0.7396031 ]\n",
            " [0.7402419 ]\n",
            " [0.7415954 ]\n",
            " [0.7437608 ]\n",
            " [0.7468053 ]\n",
            " [0.7506296 ]\n",
            " [0.75497484]\n",
            " [0.7595361 ]\n",
            " [0.76408654]\n",
            " [0.76844263]\n",
            " [0.7724854 ]\n",
            " [0.7761167 ]\n",
            " [0.77930874]\n",
            " [0.7820304 ]\n",
            " [0.78426915]\n",
            " [0.78602976]\n",
            " [0.7873717 ]\n",
            " [0.78839976]\n",
            " [0.7892007 ]\n",
            " [0.7897913 ]\n",
            " [0.790201  ]\n",
            " [0.7904273 ]\n",
            " [0.7903901 ]\n",
            " [0.79010993]\n",
            " [0.78964186]\n",
            " [0.78898984]\n",
            " [0.78804183]\n",
            " [0.7866813 ]\n",
            " [0.7848317 ]\n",
            " [0.7825189 ]\n",
            " [0.77985156]\n",
            " [0.77701366]\n",
            " [0.77417535]\n",
            " [0.77144605]\n",
            " [0.7689404 ]\n",
            " [0.7667187 ]\n",
            " [0.7648471 ]\n",
            " [0.7633942 ]\n",
            " [0.7623806 ]\n",
            " [0.76170725]\n",
            " [0.76135975]\n",
            " [0.7613113 ]\n",
            " [0.7615229 ]\n",
            " [0.76197743]\n",
            " [0.76262164]\n",
            " [0.7633411 ]\n",
            " [0.7639615 ]\n",
            " [0.7643816 ]\n",
            " [0.7645543 ]\n",
            " [0.7644305 ]\n",
            " [0.76397014]\n",
            " [0.7632115 ]\n",
            " [0.7622135 ]\n",
            " [0.7610803 ]\n",
            " [0.75992626]\n",
            " [0.7588208 ]\n",
            " [0.7577829 ]\n",
            " [0.7567972 ]\n",
            " [0.75587994]\n",
            " [0.7551197 ]\n",
            " [0.7545458 ]\n",
            " [0.7540802 ]\n",
            " [0.75368047]\n",
            " [0.75335455]\n",
            " [0.75313747]\n",
            " [0.7530164 ]\n",
            " [0.75295216]\n",
            " [0.75284   ]\n",
            " [0.7525803 ]\n",
            " [0.75208926]\n",
            " [0.7513988 ]\n",
            " [0.7505789 ]\n",
            " [0.7496726 ]\n",
            " [0.748678  ]\n",
            " [0.7475819 ]\n",
            " [0.74643487]\n",
            " [0.74530447]\n",
            " [0.74424917]\n",
            " [0.7433605 ]\n",
            " [0.7427054 ]\n",
            " [0.7422893 ]\n",
            " [0.74207324]\n",
            " [0.7420679 ]\n",
            " [0.74228376]\n",
            " [0.7427671 ]\n",
            " [0.7435601 ]\n",
            " [0.74461   ]\n",
            " [0.7458374 ]\n",
            " [0.7473287 ]\n",
            " [0.74921924]\n",
            " [0.75155735]\n",
            " [0.75428784]\n",
            " [0.75721544]\n",
            " [0.7601654 ]\n",
            " [0.7629877 ]\n",
            " [0.7655195 ]\n",
            " [0.767603  ]\n",
            " [0.7691507 ]\n",
            " [0.7701552 ]\n",
            " [0.770647  ]\n",
            " [0.7707424 ]\n",
            " [0.7705907 ]\n",
            " [0.77028555]\n",
            " [0.7698868 ]\n",
            " [0.76944447]\n",
            " [0.76899326]\n",
            " [0.7685773 ]\n",
            " [0.76822406]\n",
            " [0.76795465]\n",
            " [0.7678163 ]\n",
            " [0.76781833]\n",
            " [0.76796895]\n",
            " [0.76828885]\n",
            " [0.7688113 ]\n",
            " [0.7696566 ]\n",
            " [0.77088004]\n",
            " [0.7723331 ]\n",
            " [0.7737671 ]\n",
            " [0.7749128 ]\n",
            " [0.7756047 ]\n",
            " [0.775736  ]\n",
            " [0.7752513 ]\n",
            " [0.7741361 ]\n",
            " [0.7723837 ]\n",
            " [0.7699746 ]\n",
            " [0.766935  ]\n",
            " [0.7632789 ]\n",
            " [0.75910085]\n",
            " [0.7545883 ]\n",
            " [0.7498532 ]\n",
            " [0.7450636 ]\n",
            " [0.7404958 ]\n",
            " [0.7364301 ]\n",
            " [0.73309475]\n",
            " [0.73064023]\n",
            " [0.72902626]\n",
            " [0.72812194]\n",
            " [0.72766495]\n",
            " [0.7273103 ]\n",
            " [0.72672707]\n",
            " [0.72575873]\n",
            " [0.7243839 ]\n",
            " [0.722634  ]\n",
            " [0.7205138 ]\n",
            " [0.7181342 ]\n",
            " [0.71573496]\n",
            " [0.7134914 ]\n",
            " [0.71144503]\n",
            " [0.7095779 ]\n",
            " [0.70781916]\n",
            " [0.70617884]\n",
            " [0.7047396 ]\n",
            " [0.7035153 ]\n",
            " [0.7025301 ]\n",
            " [0.70184577]\n",
            " [0.70149106]\n",
            " [0.70154476]\n",
            " [0.7020805 ]\n",
            " [0.7030839 ]\n",
            " [0.7045225 ]\n",
            " [0.7063671 ]\n",
            " [0.7085646 ]\n",
            " [0.7109977 ]\n",
            " [0.71354234]\n",
            " [0.7160906 ]\n",
            " [0.7184255 ]\n",
            " [0.72045195]\n",
            " [0.72218966]\n",
            " [0.7236825 ]\n",
            " [0.7249201 ]\n",
            " [0.72588694]\n",
            " [0.7265728 ]\n",
            " [0.72694665]\n",
            " [0.7269988 ]\n",
            " [0.7267609 ]\n",
            " [0.726238  ]\n",
            " [0.7254099 ]\n",
            " [0.72435194]\n",
            " [0.7232041 ]\n",
            " [0.72211015]\n",
            " [0.72114074]\n",
            " [0.72030205]\n",
            " [0.71957153]\n",
            " [0.71894413]\n",
            " [0.71847445]\n",
            " [0.718223  ]\n",
            " [0.7181902 ]\n",
            " [0.71836853]\n",
            " [0.7187764 ]\n",
            " [0.7193925 ]\n",
            " [0.7201744 ]\n",
            " [0.7210688 ]\n",
            " [0.7220174 ]\n",
            " [0.72296363]\n",
            " [0.72385246]\n",
            " [0.7246559 ]\n",
            " [0.725339  ]\n",
            " [0.7258534 ]\n",
            " [0.7261539 ]\n",
            " [0.72618335]\n",
            " [0.72591877]\n",
            " [0.725349  ]\n",
            " [0.7245747 ]\n",
            " [0.7237338 ]\n",
            " [0.7230044 ]\n",
            " [0.7225172 ]\n",
            " [0.72228473]\n",
            " [0.72226304]\n",
            " [0.7223798 ]\n",
            " [0.72258115]\n",
            " [0.72283584]\n",
            " [0.7231757 ]\n",
            " [0.7236467 ]\n",
            " [0.7242502 ]\n",
            " [0.72499335]\n",
            " [0.7258515 ]\n",
            " [0.7267712 ]\n",
            " [0.72766006]\n",
            " [0.7284427 ]\n",
            " [0.7290582 ]\n",
            " [0.72942406]\n",
            " [0.7294755 ]\n",
            " [0.72925484]\n",
            " [0.7288378 ]\n",
            " [0.72831786]\n",
            " [0.7278031 ]\n",
            " [0.7273913 ]\n",
            " [0.7271457 ]\n",
            " [0.72714925]\n",
            " [0.72755224]\n",
            " [0.72837013]\n",
            " [0.7294872 ]\n",
            " [0.73074216]\n",
            " [0.7319842 ]\n",
            " [0.73309624]\n",
            " [0.7340252 ]\n",
            " [0.73481756]\n",
            " [0.7355303 ]\n",
            " [0.7362185 ]\n",
            " [0.7368951 ]\n",
            " [0.7374887 ]\n",
            " [0.7379591 ]\n",
            " [0.7383926 ]\n",
            " [0.7388764 ]\n",
            " [0.7394559 ]\n",
            " [0.74015117]\n",
            " [0.7410061 ]\n",
            " [0.7420451 ]\n",
            " [0.74325675]\n",
            " [0.744626  ]\n",
            " [0.74611765]\n",
            " [0.7476645 ]\n",
            " [0.7491486 ]\n",
            " [0.7504435 ]\n",
            " [0.7514764 ]\n",
            " [0.75233036]\n",
            " [0.7531076 ]\n",
            " [0.75384194]\n",
            " [0.75452226]\n",
            " [0.7551335 ]\n",
            " [0.7556527 ]\n",
            " [0.75603276]\n",
            " [0.7562208 ]\n",
            " [0.7561898 ]\n",
            " [0.75593466]\n",
            " [0.75551873]\n",
            " [0.7549613 ]\n",
            " [0.75427586]\n",
            " [0.75346524]\n",
            " [0.75254047]\n",
            " [0.75150055]\n",
            " [0.7503171 ]\n",
            " [0.74894303]\n",
            " [0.7473863 ]\n",
            " [0.7457653 ]\n",
            " [0.7441845 ]\n",
            " [0.7426951 ]\n",
            " [0.7412919 ]\n",
            " [0.73996204]\n",
            " [0.738713  ]\n",
            " [0.7376146 ]\n",
            " [0.7366728 ]\n",
            " [0.7358531 ]\n",
            " [0.73507154]\n",
            " [0.7342349 ]\n",
            " [0.7333212 ]\n",
            " [0.73233324]\n",
            " [0.7313029 ]\n",
            " [0.73024994]\n",
            " [0.7292281 ]\n",
            " [0.7283091 ]\n",
            " [0.72752917]\n",
            " [0.72689825]\n",
            " [0.7264025 ]\n",
            " [0.72603846]\n",
            " [0.72574896]\n",
            " [0.72543746]\n",
            " [0.7250645 ]\n",
            " [0.72457576]\n",
            " [0.7239334 ]\n",
            " [0.72314733]\n",
            " [0.7222006 ]\n",
            " [0.7211092 ]\n",
            " [0.71994346]\n",
            " [0.718819  ]\n",
            " [0.7178992 ]\n",
            " [0.7173123 ]\n",
            " [0.7170939 ]\n",
            " [0.71724916]\n",
            " [0.71773094]\n",
            " [0.71843797]\n",
            " [0.7191996 ]\n",
            " [0.7198502 ]\n",
            " [0.7202703 ]\n",
            " [0.7204016 ]\n",
            " [0.7202843 ]\n",
            " [0.71997976]\n",
            " [0.71950716]\n",
            " [0.71889085]\n",
            " [0.7182253 ]\n",
            " [0.7176431 ]\n",
            " [0.71727735]\n",
            " [0.7172249 ]\n",
            " [0.7175366 ]\n",
            " [0.71822643]\n",
            " [0.7192227 ]\n",
            " [0.72045684]\n",
            " [0.7217944 ]\n",
            " [0.7231199 ]\n",
            " [0.7242698 ]\n",
            " [0.7250957 ]\n",
            " [0.72551423]\n",
            " [0.7254556 ]\n",
            " [0.72496057]\n",
            " [0.7240986 ]\n",
            " [0.72296304]\n",
            " [0.7216521 ]\n",
            " [0.72024626]\n",
            " [0.71880376]\n",
            " [0.7173738 ]\n",
            " [0.7160977 ]\n",
            " [0.71511984]\n",
            " [0.7145154 ]\n",
            " [0.7142545 ]\n",
            " [0.71430665]\n",
            " [0.7146291 ]\n",
            " [0.7152055 ]\n",
            " [0.7160551 ]\n",
            " [0.7171391 ]\n",
            " [0.71834916]\n",
            " [0.71956   ]\n",
            " [0.72071266]\n",
            " [0.7218407 ]]\n"
          ]
        }
      ]
    },
    {
      "cell_type": "markdown",
      "metadata": {
        "id": "Vtwv1-mtsie5"
      },
      "source": [
        "## **Vizualizacija rezultata predvidjanja i metrika**"
      ]
    },
    {
      "cell_type": "code",
      "metadata": {
        "id": "rpuCAGCxzAat"
      },
      "source": [
        "# Vizuelni prikaz rezultata modela mreze\n",
        "\n",
        "def plot_real_vs_predicted_data(test_set, predicted_set):\n",
        "\n",
        "  fig, ax = plt.subplots(1, figsize=(16, 9))\n",
        "  ax.plot(test_set, label='Stvarna vrednost BTC', linewidth=2)\n",
        "  ax.plot(predicted_set, label='Predvidjena vrednost BTC', linewidth=2)\n",
        "  ax.set_xlabel('Redni broj instance', fontsize=14)\n",
        "  ax.set_ylabel('Cena [USD]', fontsize=14)\n",
        "  ax.set_title(label = 'Vizuelni prikaz stvarne i predvidjene vrednosti BTC', fontsize=18)\n",
        "  ax.legend(loc='best', fontsize=18)\n",
        "\n",
        "  # test = test.reset_index()\n",
        "  # x = test.index\n"
      ],
      "execution_count": null,
      "outputs": []
    },
    {
      "cell_type": "code",
      "metadata": {
        "colab": {
          "base_uri": "https://localhost:8080/",
          "height": 947
        },
        "id": "iEnWZYr6zAhG",
        "outputId": "1dc72f62-67cb-4f33-dbba-b5548f146c14"
      },
      "source": [
        "# Plotovanje stvarne i predvidjene vrednosti\n",
        "\n",
        "# Bez validacije\n",
        "plot_real_vs_predicted_data(test_set = y_test, predicted_set = y_predicted_no_validation)\n",
        "\n",
        "# Sa validacijom\n",
        "plot_real_vs_predicted_data(test_set = y_test, predicted_set = y_predicted_validation)"
      ],
      "execution_count": null,
      "outputs": [
        {
          "data": {
            "image/png": "[encoded data removed]",
            "text/plain": [
              "<Figure size 1152x648 with 1 Axes>"
            ]
          },
          "metadata": {
            "needs_background": "light"
          },
          "output_type": "display_data"
        },
        {
          "data": {
            "image/png": "[encoded data removed]",
            "text/plain": [
              "<Figure size 1152x648 with 1 Axes>"
            ]
          },
          "metadata": {
            "needs_background": "light"
          },
          "output_type": "display_data"
        }
      ]
    },
    {
      "cell_type": "code",
      "metadata": {
        "id": "JLp_Ems1zAja"
      },
      "source": [
        "# Vizuelni prikaz gubitka i tacnosti tokom treniranja mreze\n",
        "\n",
        "# Ukoliko je validacija nije koriscena tokom treniranja mreze,\n",
        "# onda parametar is_validation_used treba biti 0, a inace 1\n",
        "\n",
        "def plot_loss_and_mse(history_, is_validation_used):\n",
        "\n",
        "  epochs = range(len(history_.history['loss'])) # broj epoha\n",
        "\n",
        "  plt.title('Vizuelni prikaz gubitka (loss) i MSE (mse) mreze')\n",
        "\n",
        "\n",
        "  # Gubitak\n",
        "\n",
        "  plt.subplot(211)\n",
        "  \n",
        "  plt.plot(epochs, history_.history['loss'], label='Gubitak (loss) tokom treniranja')\n",
        "\n",
        "  if is_validation_used == 1:\n",
        "    plt.plot(epochs, history_.history['val_loss'], label='Gubitak (val_loss) tokom validacije')\n",
        "  \n",
        "  plt.legend()\n",
        "\n",
        "\n",
        "  # Tacnost\n",
        "\n",
        "  plt.subplot(212)\n",
        "\n",
        "  plt.plot(epochs, history_.history['mse'], label='MSE tokom treniranja')\n",
        "  \n",
        "  if is_validation_used == 1:\n",
        "    plt.plot(epochs, history_.history['val_mse'], label='MSE (val_mse) tokom validacije')\n",
        "  \n",
        "  plt.legend()\n",
        "\n",
        "  plt.show()\n"
      ],
      "execution_count": null,
      "outputs": []
    },
    {
      "cell_type": "code",
      "metadata": {
        "colab": {
          "base_uri": "https://localhost:8080/",
          "height": 513
        },
        "id": "1BSAAKGSzAlx",
        "outputId": "68900d99-1548-4935-9224-64b030bfd73a"
      },
      "source": [
        "# Plotovanje gubitka i tacnosti mreze tokom treniranja\n",
        "\n",
        "plot_loss_and_mse(history_ = history_no_validation, is_validation_used = 0)\n",
        "\n",
        "plot_loss_and_mse(history_ = history_validation, is_validation_used = 1)"
      ],
      "execution_count": null,
      "outputs": [
        {
          "data": {
            "image/png": "[encoded data removed]",
            "text/plain": [
              "<Figure size 432x288 with 2 Axes>"
            ]
          },
          "metadata": {
            "needs_background": "light"
          },
          "output_type": "display_data"
        },
        {
          "data": {
            "image/png": "[encoded data removed]",
            "text/plain": [
              "<Figure size 432x288 with 2 Axes>"
            ]
          },
          "metadata": {
            "needs_background": "light"
          },
          "output_type": "display_data"
        }
      ]
    },
    {
      "cell_type": "code",
      "metadata": {
        "id": "rBTlwpP9y8JY"
      },
      "source": [
        "# Vizuelni prikaz MAE\n",
        "\n",
        "def plot_mae(history_):\n",
        "\n",
        "  epochs = range(len(history_.history['mae'])) # broj epoha\n",
        "  plt.title('Vizuelni prikaz MAE (mae')\n",
        "  plt.xlabel('broj epohe')\n",
        "  plt.ylabel('MAE')\n",
        "  \n",
        "  plt.plot(epochs, history_.history['mae'], label='MAE (mae) tokom treniranja')\n",
        "\n",
        "  if 'val_mae' in history_.history:\n",
        "    plt.plot(epochs, history_.history['val_mae'], label='MAE (val_mae) tokom treniranja sa validacijom')\n",
        "\n",
        "  plt.legend(loc = 'best')\n",
        "\n",
        "  plt.show()\n"
      ],
      "execution_count": null,
      "outputs": []
    },
    {
      "cell_type": "code",
      "metadata": {
        "colab": {
          "base_uri": "https://localhost:8080/",
          "height": 295
        },
        "id": "UE6EjgvZUczz",
        "outputId": "e7662da9-7d96-4a22-a36a-3daff0749e3f"
      },
      "source": [
        "# MAE\n",
        "\n",
        "plot_mae(history_no_validation)"
      ],
      "execution_count": null,
      "outputs": [
        {
          "data": {
            "image/png": "[encoded data removed]",
            "text/plain": [
              "<Figure size 432x288 with 1 Axes>"
            ]
          },
          "metadata": {
            "needs_background": "light"
          },
          "output_type": "display_data"
        }
      ]
    },
    {
      "cell_type": "code",
      "metadata": {
        "colab": {
          "base_uri": "https://localhost:8080/",
          "height": 295
        },
        "id": "7Xyxebz4UePl",
        "outputId": "e3f84953-924e-414d-cab6-c581ade73065"
      },
      "source": [
        "# MAE - sa validacijom\n",
        "\n",
        "plot_mae(history_validation)"
      ],
      "execution_count": null,
      "outputs": [
        {
          "data": {
            "image/png": "[encoded data removed]",
            "text/plain": [
              "<Figure size 432x288 with 1 Axes>"
            ]
          },
          "metadata": {
            "needs_background": "light"
          },
          "output_type": "display_data"
        }
      ]
    },
    {
      "cell_type": "code",
      "metadata": {
        "colab": {
          "base_uri": "https://localhost:8080/"
        },
        "id": "Ui8qyCw2UiZ3",
        "outputId": "08ccff2d-27e0-4f06-eb39-1a82cefe615e"
      },
      "source": [
        "# Loss, MSE, MAE nad skupom za testiranje\n",
        "\n",
        "# (za model koji pri treniranju koristi validaciju\n",
        "# i za model koji pri treniranju ne koristi validaciju)\n",
        "\n",
        "test_metrics_no_val = net_no_validation.evaluate(X_test, y_test)\n",
        "test_metrics_val = net_validation.evaluate(X_test, y_test)\n",
        "\n",
        "print('\\nMetrike prilikom testiranja - model treniran bez validacije\\n')\n",
        "print(net_no_validation.metrics_names[0], test_metrics_no_val[0])\n",
        "print(net_no_validation.metrics_names[1], test_metrics_no_val[1])\n",
        "print(net_no_validation.metrics_names[2], test_metrics_no_val[2])\n",
        "\n",
        "print('\\n\\nMetrike prilikom testiranja - model treniran sa validacijom\\n')\n",
        "print(net_validation.metrics_names[0], test_metrics_val[0])\n",
        "print(net_validation.metrics_names[1], test_metrics_val[1])\n",
        "print(net_validation.metrics_names[2], test_metrics_val[2])"
      ],
      "execution_count": null,
      "outputs": [
        {
          "name": "stdout",
          "output_type": "stream",
          "text": [
            "17/17 [==============================] - 1s 38ms/step - loss: 0.0169 - mse: 0.0169 - mae: 0.1289\n",
            "17/17 [==============================] - 1s 38ms/step - loss: 0.0169 - mse: 0.0169 - mae: 0.1289\n",
            "\n",
            "Metrike prilikom testiranja - model treniran bez validacije\n",
            "\n",
            "loss 0.01694270223379135\n",
            "mse 0.01694270223379135\n",
            "mae 0.12892593443393707\n",
            "\n",
            "\n",
            "Metrike prilikom testiranja - model treniran sa validacijom\n",
            "\n",
            "loss 0.01694270223379135\n",
            "mse 0.01694270223379135\n",
            "mae 0.12892593443393707\n"
          ]
        }
      ]
    },
    {
      "cell_type": "code",
      "metadata": {
        "colab": {
          "base_uri": "https://localhost:8080/"
        },
        "id": "RQpYvBZyUpej",
        "outputId": "325fb5e3-822a-45ce-9129-4ab778e9e68e"
      },
      "source": [
        "# R2 skor nad skupom za testiranje\n",
        "from sklearn import metrics\n",
        "\n",
        "r2 = metrics.r2_score(y_predicted_no_validation, y_test)\n",
        "r2_val = metrics.r2_score(y_predicted_validation, y_test)\n",
        "\n",
        "print('R2 skor prilikom testiranja - model treniran bez validacije', r2)\n",
        "print('R2 skor prilikom testiranja - model treniran sa validacijom', r2_val)"
      ],
      "execution_count": null,
      "outputs": [
        {
          "name": "stdout",
          "output_type": "stream",
          "text": [
            "R2 skor prilikom testiranja - model treniran bez validacije -40.31017036466142\n",
            "R2 skor prilikom testiranja - model treniran sa validacijom -40.31017036466142\n"
          ]
        }
      ]
    },
    {
      "cell_type": "code",
      "metadata": {
        "id": "wd7c20pFUryX"
      },
      "source": [
        ""
      ],
      "execution_count": null,
      "outputs": []
    }
  ]
}