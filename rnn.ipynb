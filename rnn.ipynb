{
  "nbformat": 4,
  "nbformat_minor": 0,
  "metadata": {
    "colab": {
      "name": "rnn.ipynb",
      "provenance": [],
      "collapsed_sections": [],
      "include_colab_link": true
    },
    "kernelspec": {
      "display_name": "Python 3",
      "language": "python",
      "name": "python3"
    },
    "language_info": {
      "codemirror_mode": {
        "name": "ipython",
        "version": 3
      },
      "file_extension": ".py",
      "mimetype": "text/x-python",
      "name": "python",
      "nbconvert_exporter": "python",
      "pygments_lexer": "ipython3",
      "version": "3.9.5"
    }
  },
  "cells": [
    {
      "cell_type": "markdown",
      "metadata": {
        "id": "view-in-github",
        "colab_type": "text"
      },
      "source": [
        "<a href=\"https://colab.research.google.com/github/jovanape/Bitcoint-Price-Prediction/blob/main/rnn.ipynb\" target=\"_parent\"><img src=\"https://colab.research.google.com/assets/colab-badge.svg\" alt=\"Open In Colab\"/></a>"
      ]
    },
    {
      "cell_type": "markdown",
      "metadata": {
        "id": "4_6hHjWjjzos"
      },
      "source": [
        "# **Predvidjanje vrednosti Bitcoina pomocu RNN**\n",
        "\n",
        "**Korisceni atributi:** Open, High, Low, Close\n",
        "\n",
        "**Filtrirani podaci:** od 28.03.2021."
      ]
    },
    {
      "cell_type": "markdown",
      "metadata": {
        "id": "krvFQDwvkBdX"
      },
      "source": [
        "## **Ucitavanje biblioteka**"
      ]
    },
    {
      "cell_type": "code",
      "metadata": {
        "id": "iaSuiXq3HP1y"
      },
      "source": [
        "# Ucitavanje biblioteka\n",
        "\n",
        "import numpy as np \n",
        "import pandas as pd \n",
        "from matplotlib import pyplot as plt\n",
        "from sklearn.preprocessing import MinMaxScaler\n",
        "from keras.models import Sequential\n",
        "from keras.layers import Dense\n",
        "from keras.layers import LSTM\n",
        "from keras.layers import Dropout\n",
        "from keras import callbacks\n",
        "from sklearn.metrics import r2_score\n",
        "from sklearn.metrics import mean_absolute_error\n",
        "#%run preprocessing.ipynb"
      ],
      "execution_count": 681,
      "outputs": []
    },
    {
      "cell_type": "markdown",
      "metadata": {
        "id": "QsGhjvltjWcA"
      },
      "source": [
        "## **Ucitavanje skupa podataka i pretprocesiranje**"
      ]
    },
    {
      "cell_type": "code",
      "metadata": {
        "id": "sKo4Riq-DEF5"
      },
      "source": [
        "#data = preprocess_data(file_name = 'bitstampUSD_1-min_data_2012-01-01_to_2021-03-31.csv')"
      ],
      "execution_count": 682,
      "outputs": []
    },
    {
      "cell_type": "code",
      "metadata": {
        "id": "xSHDaS1qFR92",
        "colab": {
          "base_uri": "https://localhost:8080/"
        },
        "outputId": "5a614a87-3fdc-458a-fd64-04f3482dd301"
      },
      "source": [
        "##### DELETE\n",
        "\n",
        "file_name = 'bitstampUSD_1-min_data_2012-01-01_to_2021-03-31.csv'\n",
        "\n",
        "# Ucitavanje skupa podataka\n",
        "data = pd.read_csv(file_name)\n",
        "\n",
        "# Dimenzije DataFrame-a\n",
        "print('\\n\\nDimenzije skupa podataka pre sredjivanja:\\n', data.shape)\n",
        "\n",
        "# Ciscenje podataka od NaN vrednosti\n",
        "data = data.dropna()\n",
        "\n",
        "# Kreiranje datuma\n",
        "data['Date'] = pd.to_datetime(data['Timestamp'], unit='s').dt.date # samo datum (bez vremena)\n",
        "\n",
        "\n",
        "# Filtriranje podataka\n",
        "data = data.loc[data['Date'] > pd.to_datetime('2021-03-28')]\n",
        "\n",
        "# Dimenzije DataFrame-a\n",
        "print('\\n\\nDimenzije skupa podataka nakon sredjivanja:\\n', data.shape)\n"
      ],
      "execution_count": 683,
      "outputs": [
        {
          "output_type": "stream",
          "name": "stdout",
          "text": [
            "\n",
            "\n",
            "Dimenzije skupa podataka pre sredjivanja:\n",
            " (4857377, 8)\n",
            "\n",
            "\n",
            "Dimenzije skupa podataka nakon sredjivanja:\n",
            " (2872, 9)\n"
          ]
        }
      ]
    },
    {
      "cell_type": "markdown",
      "metadata": {
        "id": "uJHmdAZWkeLL"
      },
      "source": [
        "### **Podela skupa podataka**"
      ]
    },
    {
      "cell_type": "code",
      "metadata": {
        "id": "dhZQvDybJsOg"
      },
      "source": [
        "###### DELETE\n",
        "\n",
        "def data_split(data, test_size = 0):\n",
        "\n",
        "  if test_size <= 0:\n",
        "    print('Vrednost parametra test_size mora biti strogo veca od 0.\\n')\n",
        "    return\n",
        "  else: # test_size > 0\n",
        "    test_limit = len(data) - int(test_size * len(data))\n",
        "\n",
        "  train = data[:test_limit]\n",
        "  test = data[test_limit:]\n",
        "  \n",
        "  return train, test"
      ],
      "execution_count": 684,
      "outputs": []
    },
    {
      "cell_type": "code",
      "metadata": {
        "id": "1n5kOU90PBHd"
      },
      "source": [
        "# Podela inicijalnog skupa podataka na train i test skup\n",
        "\n",
        "train, test = data_split(data, test_size = 0.2)\n",
        "\n",
        "\n",
        "# Podela train skupa podataka na train i validacioni skup\n",
        "\n",
        "train, validation = data_split(train, test_size = 0.2)"
      ],
      "execution_count": 685,
      "outputs": []
    },
    {
      "cell_type": "code",
      "metadata": {
        "colab": {
          "base_uri": "https://localhost:8080/"
        },
        "id": "juNgJZG7cnQS",
        "outputId": "c5de6be0-f663-454e-c3e0-ee17c0f6a2e0"
      },
      "source": [
        "# Dimenzije train, validation i test skupa\n",
        "\n",
        "train.shape, validation.shape, test.shape"
      ],
      "execution_count": 686,
      "outputs": [
        {
          "output_type": "execute_result",
          "data": {
            "text/plain": [
              "((1839, 9), (459, 9), (574, 9))"
            ]
          },
          "metadata": {},
          "execution_count": 686
        }
      ]
    },
    {
      "cell_type": "markdown",
      "metadata": {
        "id": "ttRI2EHVkikR"
      },
      "source": [
        "### **Vizualizacija validacionog skupa i train skupa**"
      ]
    },
    {
      "cell_type": "code",
      "metadata": {
        "id": "rCH1LLR7hUWc"
      },
      "source": [
        "##### DELETE\n",
        "\n",
        "def plot_train_and_validation_data(train, validation):\n",
        "  plt.title('Podaci za trening i validaciju')\n",
        "  plt.xlabel('vreme')\n",
        "  plt.ylabel('vrednost bitkoina')\n",
        "  plt.plot(train, c = 'lime')\n",
        "  plt.plot(validation, c = 'orchid')\n",
        "  plt.show()"
      ],
      "execution_count": 687,
      "outputs": []
    },
    {
      "cell_type": "code",
      "metadata": {
        "colab": {
          "base_uri": "https://localhost:8080/",
          "height": 295
        },
        "id": "vlwad6fjfGSU",
        "outputId": "7bbd1b21-e341-4acf-cc0d-1ac5232ed39b"
      },
      "source": [
        "plot_train_and_validation_data(train = train['Close'], validation = validation['Close'])"
      ],
      "execution_count": 688,
      "outputs": [
        {
          "output_type": "display_data",
          "data": {
            "image/png": "[encoded data removed]",
            "text/plain": [
              "<Figure size 432x288 with 1 Axes>"
            ]
          },
          "metadata": {
            "needs_background": "light"
          }
        }
      ]
    },
    {
      "cell_type": "markdown",
      "metadata": {
        "id": "dZw1y3Dxk1bt"
      },
      "source": [
        "### **Filtriranje trening, validacionog i test skupa**"
      ]
    },
    {
      "cell_type": "code",
      "metadata": {
        "colab": {
          "base_uri": "https://localhost:8080/"
        },
        "id": "bLfZvfLHiph9",
        "outputId": "538e3bdb-38f9-4c6c-ddbf-a36c2da16f5f"
      },
      "source": [
        "# Izbacivanje nepotrebnih kolona (atributa) iz trening skupa\n",
        "\n",
        "train_ = train.drop(['Date', 'Volume_(BTC)', 'Volume_(Currency)', 'Weighted_Price', 'Timestamp'], axis = 1)\n",
        "train_.head(), train_.shape"
      ],
      "execution_count": 689,
      "outputs": [
        {
          "output_type": "execute_result",
          "data": {
            "text/plain": [
              "(             Open      High       Low     Close\n",
              " 4854496  55790.28  55822.98  55777.98  55804.36\n",
              " 4854497  55822.98  55857.28  55822.98  55857.28\n",
              " 4854498  55822.98  55829.04  55766.15  55779.04\n",
              " 4854500  55766.15  55768.63  55766.15  55768.63\n",
              " 4854501  55770.46  55778.48  55736.83  55742.20, (1839, 4))"
            ]
          },
          "metadata": {},
          "execution_count": 689
        }
      ]
    },
    {
      "cell_type": "code",
      "metadata": {
        "id": "Wz6OcXYTb55e",
        "colab": {
          "base_uri": "https://localhost:8080/"
        },
        "outputId": "1ed37b46-1c16-4d53-962e-4de0462a97bc"
      },
      "source": [
        "# Izbacivanje nepotrebnih kolona (atributa) iz validacionog skupa\n",
        "\n",
        "validation_ = validation.drop(['Date', 'Volume_(BTC)', 'Volume_(Currency)', 'Weighted_Price', 'Timestamp'], axis = 1)\n",
        "validation_.head(), validation_.shape"
      ],
      "execution_count": 690,
      "outputs": [
        {
          "output_type": "execute_result",
          "data": {
            "text/plain": [
              "(             Open      High       Low     Close\n",
              " 4856341  57798.86  58000.00  57796.80  58000.00\n",
              " 4856342  57993.11  58075.40  57970.05  58060.96\n",
              " 4856343  58059.31  58147.08  58052.67  58103.06\n",
              " 4856344  58103.06  58252.64  58095.24  58207.57\n",
              " 4856345  58221.20  58221.20  58118.48  58159.93, (459, 4))"
            ]
          },
          "metadata": {},
          "execution_count": 690
        }
      ]
    },
    {
      "cell_type": "code",
      "metadata": {
        "id": "tHzx1et4b7a5",
        "colab": {
          "base_uri": "https://localhost:8080/"
        },
        "outputId": "f5e61acf-4a92-4fa9-e44f-bb91f907b70a"
      },
      "source": [
        "# Izbacivanje nepotrebnih kolona (atributa) iz test skupa\n",
        "\n",
        "test_ = test.drop(['Date', 'Volume_(BTC)', 'Volume_(Currency)', 'Weighted_Price', 'Timestamp'], axis = 1)\n",
        "test_.head(), test_.shape"
      ],
      "execution_count": 691,
      "outputs": [
        {
          "output_type": "execute_result",
          "data": {
            "text/plain": [
              "(             Open      High       Low     Close\n",
              " 4856801  58799.01  58799.01  58730.34  58747.90\n",
              " 4856802  58751.13  58825.89  58736.68  58825.89\n",
              " 4856803  58814.40  58849.95  58808.56  58828.09\n",
              " 4856804  58830.57  58849.80  58815.39  58835.62\n",
              " 4856805  58849.61  58900.00  58849.61  58900.00, (574, 4))"
            ]
          },
          "metadata": {},
          "execution_count": 691
        }
      ]
    },
    {
      "cell_type": "code",
      "metadata": {
        "colab": {
          "base_uri": "https://localhost:8080/"
        },
        "id": "_iWrck9Mvy_W",
        "outputId": "e01fdca8-10d0-4e33-8937-f42bb6d6cbff"
      },
      "source": [
        "# Dimenzije train skupa - pre i nakon izbacivanja atributa\n",
        "\n",
        "train.shape, train_.shape"
      ],
      "execution_count": 692,
      "outputs": [
        {
          "output_type": "execute_result",
          "data": {
            "text/plain": [
              "((1839, 9), (1839, 4))"
            ]
          },
          "metadata": {},
          "execution_count": 692
        }
      ]
    },
    {
      "cell_type": "code",
      "metadata": {
        "id": "bqK0XO-_aQya"
      },
      "source": [
        "# inverse = scaler.inverse_transform(normalized)"
      ],
      "execution_count": 693,
      "outputs": []
    },
    {
      "cell_type": "markdown",
      "metadata": {
        "id": "XV8HqlmhdHo4"
      },
      "source": [
        "**Odredjivanje ciljne promenljive na train skupu**"
      ]
    },
    {
      "cell_type": "code",
      "metadata": {
        "id": "opAhJH_BcsnT"
      },
      "source": [
        "##### DELETE\n",
        "\n",
        "def determine_x_and_y(dataset):\n",
        "  X = []\n",
        "  y = []\n",
        "\n",
        "  df = pd.DataFrame()\n",
        "\n",
        "  for i in range(60, dataset.shape[0]):\n",
        "    X.append(dataset[i-60:i])\n",
        "    y.append(dataset[i,0])\n",
        "  \n",
        "  return X, y"
      ],
      "execution_count": 694,
      "outputs": []
    },
    {
      "cell_type": "code",
      "metadata": {
        "id": "YWNMbnmEdS7x"
      },
      "source": [
        "# Odredjivanje ciljne promenljive na train skupu\n",
        "\n",
        "X_train, y_train = determine_x_and_y(dataset = train_.to_numpy())\n",
        "\n",
        "\n",
        "# Odredjivanje ciljne promenljive na validacionom skupu\n",
        "\n",
        "X_validation, y_validation = determine_x_and_y(dataset = validation_.to_numpy())\n",
        "\n",
        "\n",
        "# Odredjivanje ciljne promenljive na test skupu\n",
        "\n",
        "X_test, y_test = determine_x_and_y(dataset = test_.to_numpy())"
      ],
      "execution_count": 695,
      "outputs": []
    },
    {
      "cell_type": "code",
      "metadata": {
        "id": "nUQRfqsd4BFf",
        "outputId": "88237ba3-42ac-4b46-e659-fb8e60133492",
        "colab": {
          "base_uri": "https://localhost:8080/"
        }
      },
      "source": [
        "type(X_train)"
      ],
      "execution_count": 696,
      "outputs": [
        {
          "output_type": "execute_result",
          "data": {
            "text/plain": [
              "list"
            ]
          },
          "metadata": {},
          "execution_count": 696
        }
      ]
    },
    {
      "cell_type": "code",
      "metadata": {
        "id": "lOCft5Zz3_4Z",
        "outputId": "67d1113f-5282-426b-bfba-87b47b86bef4",
        "colab": {
          "base_uri": "https://localhost:8080/",
          "height": 421
        }
      },
      "source": [
        "X_train_df = pd.DataFrame(np.concatenate(X_train))\n",
        "X_train_df"
      ],
      "execution_count": 697,
      "outputs": [
        {
          "output_type": "execute_result",
          "data": {
            "text/html": [
              "<div>\n",
              "<style scoped>\n",
              "    .dataframe tbody tr th:only-of-type {\n",
              "        vertical-align: middle;\n",
              "    }\n",
              "\n",
              "    .dataframe tbody tr th {\n",
              "        vertical-align: top;\n",
              "    }\n",
              "\n",
              "    .dataframe thead th {\n",
              "        text-align: right;\n",
              "    }\n",
              "</style>\n",
              "<table border=\"1\" class=\"dataframe\">\n",
              "  <thead>\n",
              "    <tr style=\"text-align: right;\">\n",
              "      <th></th>\n",
              "      <th>0</th>\n",
              "      <th>1</th>\n",
              "      <th>2</th>\n",
              "      <th>3</th>\n",
              "    </tr>\n",
              "  </thead>\n",
              "  <tbody>\n",
              "    <tr>\n",
              "      <th>0</th>\n",
              "      <td>55790.28</td>\n",
              "      <td>55822.98</td>\n",
              "      <td>55777.98</td>\n",
              "      <td>55804.36</td>\n",
              "    </tr>\n",
              "    <tr>\n",
              "      <th>1</th>\n",
              "      <td>55822.98</td>\n",
              "      <td>55857.28</td>\n",
              "      <td>55822.98</td>\n",
              "      <td>55857.28</td>\n",
              "    </tr>\n",
              "    <tr>\n",
              "      <th>2</th>\n",
              "      <td>55822.98</td>\n",
              "      <td>55829.04</td>\n",
              "      <td>55766.15</td>\n",
              "      <td>55779.04</td>\n",
              "    </tr>\n",
              "    <tr>\n",
              "      <th>3</th>\n",
              "      <td>55766.15</td>\n",
              "      <td>55768.63</td>\n",
              "      <td>55766.15</td>\n",
              "      <td>55768.63</td>\n",
              "    </tr>\n",
              "    <tr>\n",
              "      <th>4</th>\n",
              "      <td>55770.46</td>\n",
              "      <td>55778.48</td>\n",
              "      <td>55736.83</td>\n",
              "      <td>55742.20</td>\n",
              "    </tr>\n",
              "    <tr>\n",
              "      <th>...</th>\n",
              "      <td>...</td>\n",
              "      <td>...</td>\n",
              "      <td>...</td>\n",
              "      <td>...</td>\n",
              "    </tr>\n",
              "    <tr>\n",
              "      <th>106735</th>\n",
              "      <td>57706.41</td>\n",
              "      <td>57714.26</td>\n",
              "      <td>57696.51</td>\n",
              "      <td>57712.15</td>\n",
              "    </tr>\n",
              "    <tr>\n",
              "      <th>106736</th>\n",
              "      <td>57693.10</td>\n",
              "      <td>57703.07</td>\n",
              "      <td>57686.59</td>\n",
              "      <td>57695.65</td>\n",
              "    </tr>\n",
              "    <tr>\n",
              "      <th>106737</th>\n",
              "      <td>57681.79</td>\n",
              "      <td>57724.38</td>\n",
              "      <td>57681.79</td>\n",
              "      <td>57692.12</td>\n",
              "    </tr>\n",
              "    <tr>\n",
              "      <th>106738</th>\n",
              "      <td>57694.14</td>\n",
              "      <td>57709.17</td>\n",
              "      <td>57694.14</td>\n",
              "      <td>57709.17</td>\n",
              "    </tr>\n",
              "    <tr>\n",
              "      <th>106739</th>\n",
              "      <td>57688.23</td>\n",
              "      <td>57694.78</td>\n",
              "      <td>57683.40</td>\n",
              "      <td>57691.34</td>\n",
              "    </tr>\n",
              "  </tbody>\n",
              "</table>\n",
              "<p>106740 rows × 4 columns</p>\n",
              "</div>"
            ],
            "text/plain": [
              "               0         1         2         3\n",
              "0       55790.28  55822.98  55777.98  55804.36\n",
              "1       55822.98  55857.28  55822.98  55857.28\n",
              "2       55822.98  55829.04  55766.15  55779.04\n",
              "3       55766.15  55768.63  55766.15  55768.63\n",
              "4       55770.46  55778.48  55736.83  55742.20\n",
              "...          ...       ...       ...       ...\n",
              "106735  57706.41  57714.26  57696.51  57712.15\n",
              "106736  57693.10  57703.07  57686.59  57695.65\n",
              "106737  57681.79  57724.38  57681.79  57692.12\n",
              "106738  57694.14  57709.17  57694.14  57709.17\n",
              "106739  57688.23  57694.78  57683.40  57691.34\n",
              "\n",
              "[106740 rows x 4 columns]"
            ]
          },
          "metadata": {},
          "execution_count": 697
        }
      ]
    },
    {
      "cell_type": "code",
      "metadata": {
        "id": "AagzrQIp5Vog",
        "outputId": "cf7efab8-1053-4363-ad50-7704e79734a4",
        "colab": {
          "base_uri": "https://localhost:8080/",
          "height": 421
        }
      },
      "source": [
        "X_validation_df = pd.DataFrame(np.concatenate(X_validation))\n",
        "X_validation_df"
      ],
      "execution_count": 698,
      "outputs": [
        {
          "output_type": "execute_result",
          "data": {
            "text/html": [
              "<div>\n",
              "<style scoped>\n",
              "    .dataframe tbody tr th:only-of-type {\n",
              "        vertical-align: middle;\n",
              "    }\n",
              "\n",
              "    .dataframe tbody tr th {\n",
              "        vertical-align: top;\n",
              "    }\n",
              "\n",
              "    .dataframe thead th {\n",
              "        text-align: right;\n",
              "    }\n",
              "</style>\n",
              "<table border=\"1\" class=\"dataframe\">\n",
              "  <thead>\n",
              "    <tr style=\"text-align: right;\">\n",
              "      <th></th>\n",
              "      <th>0</th>\n",
              "      <th>1</th>\n",
              "      <th>2</th>\n",
              "      <th>3</th>\n",
              "    </tr>\n",
              "  </thead>\n",
              "  <tbody>\n",
              "    <tr>\n",
              "      <th>0</th>\n",
              "      <td>57798.86</td>\n",
              "      <td>58000.00</td>\n",
              "      <td>57796.80</td>\n",
              "      <td>58000.00</td>\n",
              "    </tr>\n",
              "    <tr>\n",
              "      <th>1</th>\n",
              "      <td>57993.11</td>\n",
              "      <td>58075.40</td>\n",
              "      <td>57970.05</td>\n",
              "      <td>58060.96</td>\n",
              "    </tr>\n",
              "    <tr>\n",
              "      <th>2</th>\n",
              "      <td>58059.31</td>\n",
              "      <td>58147.08</td>\n",
              "      <td>58052.67</td>\n",
              "      <td>58103.06</td>\n",
              "    </tr>\n",
              "    <tr>\n",
              "      <th>3</th>\n",
              "      <td>58103.06</td>\n",
              "      <td>58252.64</td>\n",
              "      <td>58095.24</td>\n",
              "      <td>58207.57</td>\n",
              "    </tr>\n",
              "    <tr>\n",
              "      <th>4</th>\n",
              "      <td>58221.20</td>\n",
              "      <td>58221.20</td>\n",
              "      <td>58118.48</td>\n",
              "      <td>58159.93</td>\n",
              "    </tr>\n",
              "    <tr>\n",
              "      <th>...</th>\n",
              "      <td>...</td>\n",
              "      <td>...</td>\n",
              "      <td>...</td>\n",
              "      <td>...</td>\n",
              "    </tr>\n",
              "    <tr>\n",
              "      <th>23935</th>\n",
              "      <td>58846.95</td>\n",
              "      <td>58850.77</td>\n",
              "      <td>58784.20</td>\n",
              "      <td>58790.24</td>\n",
              "    </tr>\n",
              "    <tr>\n",
              "      <th>23936</th>\n",
              "      <td>58808.81</td>\n",
              "      <td>58810.29</td>\n",
              "      <td>58700.00</td>\n",
              "      <td>58736.74</td>\n",
              "    </tr>\n",
              "    <tr>\n",
              "      <th>23937</th>\n",
              "      <td>58728.76</td>\n",
              "      <td>58786.71</td>\n",
              "      <td>58688.63</td>\n",
              "      <td>58779.95</td>\n",
              "    </tr>\n",
              "    <tr>\n",
              "      <th>23938</th>\n",
              "      <td>58784.11</td>\n",
              "      <td>58784.11</td>\n",
              "      <td>58694.74</td>\n",
              "      <td>58694.74</td>\n",
              "    </tr>\n",
              "    <tr>\n",
              "      <th>23939</th>\n",
              "      <td>58702.02</td>\n",
              "      <td>58713.33</td>\n",
              "      <td>58670.00</td>\n",
              "      <td>58693.98</td>\n",
              "    </tr>\n",
              "  </tbody>\n",
              "</table>\n",
              "<p>23940 rows × 4 columns</p>\n",
              "</div>"
            ],
            "text/plain": [
              "              0         1         2         3\n",
              "0      57798.86  58000.00  57796.80  58000.00\n",
              "1      57993.11  58075.40  57970.05  58060.96\n",
              "2      58059.31  58147.08  58052.67  58103.06\n",
              "3      58103.06  58252.64  58095.24  58207.57\n",
              "4      58221.20  58221.20  58118.48  58159.93\n",
              "...         ...       ...       ...       ...\n",
              "23935  58846.95  58850.77  58784.20  58790.24\n",
              "23936  58808.81  58810.29  58700.00  58736.74\n",
              "23937  58728.76  58786.71  58688.63  58779.95\n",
              "23938  58784.11  58784.11  58694.74  58694.74\n",
              "23939  58702.02  58713.33  58670.00  58693.98\n",
              "\n",
              "[23940 rows x 4 columns]"
            ]
          },
          "metadata": {},
          "execution_count": 698
        }
      ]
    },
    {
      "cell_type": "code",
      "metadata": {
        "id": "H6De08sM5WZM",
        "outputId": "3985c293-0073-4631-d7c9-4879414af9fd",
        "colab": {
          "base_uri": "https://localhost:8080/",
          "height": 421
        }
      },
      "source": [
        "X_test_df = pd.DataFrame(np.concatenate(X_test))\n",
        "X_test_df"
      ],
      "execution_count": 699,
      "outputs": [
        {
          "output_type": "execute_result",
          "data": {
            "text/html": [
              "<div>\n",
              "<style scoped>\n",
              "    .dataframe tbody tr th:only-of-type {\n",
              "        vertical-align: middle;\n",
              "    }\n",
              "\n",
              "    .dataframe tbody tr th {\n",
              "        vertical-align: top;\n",
              "    }\n",
              "\n",
              "    .dataframe thead th {\n",
              "        text-align: right;\n",
              "    }\n",
              "</style>\n",
              "<table border=\"1\" class=\"dataframe\">\n",
              "  <thead>\n",
              "    <tr style=\"text-align: right;\">\n",
              "      <th></th>\n",
              "      <th>0</th>\n",
              "      <th>1</th>\n",
              "      <th>2</th>\n",
              "      <th>3</th>\n",
              "    </tr>\n",
              "  </thead>\n",
              "  <tbody>\n",
              "    <tr>\n",
              "      <th>0</th>\n",
              "      <td>58799.01</td>\n",
              "      <td>58799.01</td>\n",
              "      <td>58730.34</td>\n",
              "      <td>58747.90</td>\n",
              "    </tr>\n",
              "    <tr>\n",
              "      <th>1</th>\n",
              "      <td>58751.13</td>\n",
              "      <td>58825.89</td>\n",
              "      <td>58736.68</td>\n",
              "      <td>58825.89</td>\n",
              "    </tr>\n",
              "    <tr>\n",
              "      <th>2</th>\n",
              "      <td>58814.40</td>\n",
              "      <td>58849.95</td>\n",
              "      <td>58808.56</td>\n",
              "      <td>58828.09</td>\n",
              "    </tr>\n",
              "    <tr>\n",
              "      <th>3</th>\n",
              "      <td>58830.57</td>\n",
              "      <td>58849.80</td>\n",
              "      <td>58815.39</td>\n",
              "      <td>58835.62</td>\n",
              "    </tr>\n",
              "    <tr>\n",
              "      <th>4</th>\n",
              "      <td>58849.61</td>\n",
              "      <td>58900.00</td>\n",
              "      <td>58849.61</td>\n",
              "      <td>58900.00</td>\n",
              "    </tr>\n",
              "    <tr>\n",
              "      <th>...</th>\n",
              "      <td>...</td>\n",
              "      <td>...</td>\n",
              "      <td>...</td>\n",
              "      <td>...</td>\n",
              "    </tr>\n",
              "    <tr>\n",
              "      <th>30835</th>\n",
              "      <td>58742.18</td>\n",
              "      <td>58742.18</td>\n",
              "      <td>58714.31</td>\n",
              "      <td>58714.31</td>\n",
              "    </tr>\n",
              "    <tr>\n",
              "      <th>30836</th>\n",
              "      <td>58714.31</td>\n",
              "      <td>58714.31</td>\n",
              "      <td>58686.00</td>\n",
              "      <td>58686.00</td>\n",
              "    </tr>\n",
              "    <tr>\n",
              "      <th>30837</th>\n",
              "      <td>58683.97</td>\n",
              "      <td>58693.43</td>\n",
              "      <td>58683.97</td>\n",
              "      <td>58685.81</td>\n",
              "    </tr>\n",
              "    <tr>\n",
              "      <th>30838</th>\n",
              "      <td>58693.43</td>\n",
              "      <td>58723.84</td>\n",
              "      <td>58693.43</td>\n",
              "      <td>58723.84</td>\n",
              "    </tr>\n",
              "    <tr>\n",
              "      <th>30839</th>\n",
              "      <td>58742.18</td>\n",
              "      <td>58770.38</td>\n",
              "      <td>58742.18</td>\n",
              "      <td>58760.59</td>\n",
              "    </tr>\n",
              "  </tbody>\n",
              "</table>\n",
              "<p>30840 rows × 4 columns</p>\n",
              "</div>"
            ],
            "text/plain": [
              "              0         1         2         3\n",
              "0      58799.01  58799.01  58730.34  58747.90\n",
              "1      58751.13  58825.89  58736.68  58825.89\n",
              "2      58814.40  58849.95  58808.56  58828.09\n",
              "3      58830.57  58849.80  58815.39  58835.62\n",
              "4      58849.61  58900.00  58849.61  58900.00\n",
              "...         ...       ...       ...       ...\n",
              "30835  58742.18  58742.18  58714.31  58714.31\n",
              "30836  58714.31  58714.31  58686.00  58686.00\n",
              "30837  58683.97  58693.43  58683.97  58685.81\n",
              "30838  58693.43  58723.84  58693.43  58723.84\n",
              "30839  58742.18  58770.38  58742.18  58760.59\n",
              "\n",
              "[30840 rows x 4 columns]"
            ]
          },
          "metadata": {},
          "execution_count": 699
        }
      ]
    },
    {
      "cell_type": "markdown",
      "metadata": {
        "id": "Y_YLg3YSEKq7"
      },
      "source": [
        "###**Skaliranje**"
      ]
    },
    {
      "cell_type": "code",
      "metadata": {
        "id": "aNDjAcGJ4KqE"
      },
      "source": [
        "scaler0 = MinMaxScaler(feature_range=(0, 1))\n",
        "scaler1 = MinMaxScaler(feature_range=(0, 1))\n",
        "scaler2 = MinMaxScaler(feature_range=(0, 1))\n",
        "scaler3 = MinMaxScaler(feature_range=(0, 1))\n",
        "\n",
        "X_train_df[0] = scaler0.fit_transform(X_train_df[0].to_numpy().reshape(-1,1))\n",
        "X_train_df[1] = scaler1.fit_transform(X_train_df[1].to_numpy().reshape(-1,1))\n",
        "X_train_df[2] = scaler2.fit_transform(X_train_df[2].to_numpy().reshape(-1,1))\n",
        "X_train_df[3] = scaler3.fit_transform(X_train_df[3].to_numpy().reshape(-1,1))\n",
        "\n",
        "X_validation_df[0] = scaler0.transform(X_validation_df[0].to_numpy().reshape(-1,1))\n",
        "X_validation_df[1] = scaler1.transform(X_validation_df[1].to_numpy().reshape(-1,1))\n",
        "X_validation_df[2] = scaler2.transform(X_validation_df[2].to_numpy().reshape(-1,1))\n",
        "X_validation_df[3] = scaler3.transform(X_validation_df[3].to_numpy().reshape(-1,1))\n",
        "\n",
        "X_test_df[0] = scaler0.transform(X_test_df[0].to_numpy().reshape(-1,1))\n",
        "X_test_df[1] = scaler1.transform(X_test_df[1].to_numpy().reshape(-1,1))\n",
        "X_test_df[2] = scaler2.transform(X_test_df[2].to_numpy().reshape(-1,1))\n",
        "X_test_df[3] = scaler3.transform(X_test_df[3].to_numpy().reshape(-1,1))"
      ],
      "execution_count": 700,
      "outputs": []
    },
    {
      "cell_type": "code",
      "metadata": {
        "id": "9IcyJmc74yO4",
        "outputId": "08aca5de-c500-410c-a561-c890ee9726af",
        "colab": {
          "base_uri": "https://localhost:8080/",
          "height": 421
        }
      },
      "source": [
        "X_train_df"
      ],
      "execution_count": 701,
      "outputs": [
        {
          "output_type": "execute_result",
          "data": {
            "text/html": [
              "<div>\n",
              "<style scoped>\n",
              "    .dataframe tbody tr th:only-of-type {\n",
              "        vertical-align: middle;\n",
              "    }\n",
              "\n",
              "    .dataframe tbody tr th {\n",
              "        vertical-align: top;\n",
              "    }\n",
              "\n",
              "    .dataframe thead th {\n",
              "        text-align: right;\n",
              "    }\n",
              "</style>\n",
              "<table border=\"1\" class=\"dataframe\">\n",
              "  <thead>\n",
              "    <tr style=\"text-align: right;\">\n",
              "      <th></th>\n",
              "      <th>0</th>\n",
              "      <th>1</th>\n",
              "      <th>2</th>\n",
              "      <th>3</th>\n",
              "    </tr>\n",
              "  </thead>\n",
              "  <tbody>\n",
              "    <tr>\n",
              "      <th>0</th>\n",
              "      <td>0.257199</td>\n",
              "      <td>0.253943</td>\n",
              "      <td>0.261410</td>\n",
              "      <td>0.261923</td>\n",
              "    </tr>\n",
              "    <tr>\n",
              "      <th>1</th>\n",
              "      <td>0.266861</td>\n",
              "      <td>0.263863</td>\n",
              "      <td>0.274694</td>\n",
              "      <td>0.277515</td>\n",
              "    </tr>\n",
              "    <tr>\n",
              "      <th>2</th>\n",
              "      <td>0.266861</td>\n",
              "      <td>0.255696</td>\n",
              "      <td>0.257918</td>\n",
              "      <td>0.254462</td>\n",
              "    </tr>\n",
              "    <tr>\n",
              "      <th>3</th>\n",
              "      <td>0.250069</td>\n",
              "      <td>0.238225</td>\n",
              "      <td>0.257918</td>\n",
              "      <td>0.251395</td>\n",
              "    </tr>\n",
              "    <tr>\n",
              "      <th>4</th>\n",
              "      <td>0.251343</td>\n",
              "      <td>0.241074</td>\n",
              "      <td>0.249263</td>\n",
              "      <td>0.243608</td>\n",
              "    </tr>\n",
              "    <tr>\n",
              "      <th>...</th>\n",
              "      <td>...</td>\n",
              "      <td>...</td>\n",
              "      <td>...</td>\n",
              "      <td>...</td>\n",
              "    </tr>\n",
              "    <tr>\n",
              "      <th>106735</th>\n",
              "      <td>0.823368</td>\n",
              "      <td>0.800907</td>\n",
              "      <td>0.827744</td>\n",
              "      <td>0.824039</td>\n",
              "    </tr>\n",
              "    <tr>\n",
              "      <th>106736</th>\n",
              "      <td>0.819435</td>\n",
              "      <td>0.797671</td>\n",
              "      <td>0.824816</td>\n",
              "      <td>0.819178</td>\n",
              "    </tr>\n",
              "    <tr>\n",
              "      <th>106737</th>\n",
              "      <td>0.816093</td>\n",
              "      <td>0.803834</td>\n",
              "      <td>0.823399</td>\n",
              "      <td>0.818138</td>\n",
              "    </tr>\n",
              "    <tr>\n",
              "      <th>106738</th>\n",
              "      <td>0.819742</td>\n",
              "      <td>0.799435</td>\n",
              "      <td>0.827044</td>\n",
              "      <td>0.823161</td>\n",
              "    </tr>\n",
              "    <tr>\n",
              "      <th>106739</th>\n",
              "      <td>0.817996</td>\n",
              "      <td>0.795273</td>\n",
              "      <td>0.823874</td>\n",
              "      <td>0.817908</td>\n",
              "    </tr>\n",
              "  </tbody>\n",
              "</table>\n",
              "<p>106740 rows × 4 columns</p>\n",
              "</div>"
            ],
            "text/plain": [
              "               0         1         2         3\n",
              "0       0.257199  0.253943  0.261410  0.261923\n",
              "1       0.266861  0.263863  0.274694  0.277515\n",
              "2       0.266861  0.255696  0.257918  0.254462\n",
              "3       0.250069  0.238225  0.257918  0.251395\n",
              "4       0.251343  0.241074  0.249263  0.243608\n",
              "...          ...       ...       ...       ...\n",
              "106735  0.823368  0.800907  0.827744  0.824039\n",
              "106736  0.819435  0.797671  0.824816  0.819178\n",
              "106737  0.816093  0.803834  0.823399  0.818138\n",
              "106738  0.819742  0.799435  0.827044  0.823161\n",
              "106739  0.817996  0.795273  0.823874  0.817908\n",
              "\n",
              "[106740 rows x 4 columns]"
            ]
          },
          "metadata": {},
          "execution_count": 701
        }
      ]
    },
    {
      "cell_type": "code",
      "metadata": {
        "id": "k8zSJsak6M52",
        "outputId": "7c646647-d789-42ce-c918-6410bef4a3a5",
        "colab": {
          "base_uri": "https://localhost:8080/",
          "height": 421
        }
      },
      "source": [
        "X_validation_df"
      ],
      "execution_count": 702,
      "outputs": [
        {
          "output_type": "execute_result",
          "data": {
            "text/html": [
              "<div>\n",
              "<style scoped>\n",
              "    .dataframe tbody tr th:only-of-type {\n",
              "        vertical-align: middle;\n",
              "    }\n",
              "\n",
              "    .dataframe tbody tr th {\n",
              "        vertical-align: top;\n",
              "    }\n",
              "\n",
              "    .dataframe thead th {\n",
              "        text-align: right;\n",
              "    }\n",
              "</style>\n",
              "<table border=\"1\" class=\"dataframe\">\n",
              "  <thead>\n",
              "    <tr style=\"text-align: right;\">\n",
              "      <th></th>\n",
              "      <th>0</th>\n",
              "      <th>1</th>\n",
              "      <th>2</th>\n",
              "      <th>3</th>\n",
              "    </tr>\n",
              "  </thead>\n",
              "  <tbody>\n",
              "    <tr>\n",
              "      <th>0</th>\n",
              "      <td>0.850685</td>\n",
              "      <td>0.883544</td>\n",
              "      <td>0.857349</td>\n",
              "      <td>0.908852</td>\n",
              "    </tr>\n",
              "    <tr>\n",
              "      <th>1</th>\n",
              "      <td>0.908081</td>\n",
              "      <td>0.905350</td>\n",
              "      <td>0.908491</td>\n",
              "      <td>0.926814</td>\n",
              "    </tr>\n",
              "    <tr>\n",
              "      <th>2</th>\n",
              "      <td>0.927641</td>\n",
              "      <td>0.926080</td>\n",
              "      <td>0.932879</td>\n",
              "      <td>0.939218</td>\n",
              "    </tr>\n",
              "    <tr>\n",
              "      <th>3</th>\n",
              "      <td>0.940568</td>\n",
              "      <td>0.956608</td>\n",
              "      <td>0.945446</td>\n",
              "      <td>0.970011</td>\n",
              "    </tr>\n",
              "    <tr>\n",
              "      <th>4</th>\n",
              "      <td>0.975476</td>\n",
              "      <td>0.947515</td>\n",
              "      <td>0.952306</td>\n",
              "      <td>0.955974</td>\n",
              "    </tr>\n",
              "    <tr>\n",
              "      <th>...</th>\n",
              "      <td>...</td>\n",
              "      <td>...</td>\n",
              "      <td>...</td>\n",
              "      <td>...</td>\n",
              "    </tr>\n",
              "    <tr>\n",
              "      <th>23935</th>\n",
              "      <td>1.160369</td>\n",
              "      <td>1.129589</td>\n",
              "      <td>1.148821</td>\n",
              "      <td>1.141691</td>\n",
              "    </tr>\n",
              "    <tr>\n",
              "      <th>23936</th>\n",
              "      <td>1.149100</td>\n",
              "      <td>1.117882</td>\n",
              "      <td>1.123966</td>\n",
              "      <td>1.125927</td>\n",
              "    </tr>\n",
              "    <tr>\n",
              "      <th>23937</th>\n",
              "      <td>1.125447</td>\n",
              "      <td>1.111063</td>\n",
              "      <td>1.120609</td>\n",
              "      <td>1.138659</td>\n",
              "    </tr>\n",
              "    <tr>\n",
              "      <th>23938</th>\n",
              "      <td>1.141801</td>\n",
              "      <td>1.110311</td>\n",
              "      <td>1.122413</td>\n",
              "      <td>1.113552</td>\n",
              "    </tr>\n",
              "    <tr>\n",
              "      <th>23939</th>\n",
              "      <td>1.117546</td>\n",
              "      <td>1.089841</td>\n",
              "      <td>1.115110</td>\n",
              "      <td>1.113328</td>\n",
              "    </tr>\n",
              "  </tbody>\n",
              "</table>\n",
              "<p>23940 rows × 4 columns</p>\n",
              "</div>"
            ],
            "text/plain": [
              "              0         1         2         3\n",
              "0      0.850685  0.883544  0.857349  0.908852\n",
              "1      0.908081  0.905350  0.908491  0.926814\n",
              "2      0.927641  0.926080  0.932879  0.939218\n",
              "3      0.940568  0.956608  0.945446  0.970011\n",
              "4      0.975476  0.947515  0.952306  0.955974\n",
              "...         ...       ...       ...       ...\n",
              "23935  1.160369  1.129589  1.148821  1.141691\n",
              "23936  1.149100  1.117882  1.123966  1.125927\n",
              "23937  1.125447  1.111063  1.120609  1.138659\n",
              "23938  1.141801  1.110311  1.122413  1.113552\n",
              "23939  1.117546  1.089841  1.115110  1.113328\n",
              "\n",
              "[23940 rows x 4 columns]"
            ]
          },
          "metadata": {},
          "execution_count": 702
        }
      ]
    },
    {
      "cell_type": "code",
      "metadata": {
        "id": "9xVt-MrH6OdI",
        "outputId": "31f85101-89ad-451d-e1c5-4c5a91702042",
        "colab": {
          "base_uri": "https://localhost:8080/",
          "height": 421
        }
      },
      "source": [
        "X_test_df"
      ],
      "execution_count": 703,
      "outputs": [
        {
          "output_type": "execute_result",
          "data": {
            "text/html": [
              "<div>\n",
              "<style scoped>\n",
              "    .dataframe tbody tr th:only-of-type {\n",
              "        vertical-align: middle;\n",
              "    }\n",
              "\n",
              "    .dataframe tbody tr th {\n",
              "        vertical-align: top;\n",
              "    }\n",
              "\n",
              "    .dataframe thead th {\n",
              "        text-align: right;\n",
              "    }\n",
              "</style>\n",
              "<table border=\"1\" class=\"dataframe\">\n",
              "  <thead>\n",
              "    <tr style=\"text-align: right;\">\n",
              "      <th></th>\n",
              "      <th>0</th>\n",
              "      <th>1</th>\n",
              "      <th>2</th>\n",
              "      <th>3</th>\n",
              "    </tr>\n",
              "  </thead>\n",
              "  <tbody>\n",
              "    <tr>\n",
              "      <th>0</th>\n",
              "      <td>1.146204</td>\n",
              "      <td>1.114620</td>\n",
              "      <td>1.132922</td>\n",
              "      <td>1.129216</td>\n",
              "    </tr>\n",
              "    <tr>\n",
              "      <th>1</th>\n",
              "      <td>1.132057</td>\n",
              "      <td>1.122394</td>\n",
              "      <td>1.134793</td>\n",
              "      <td>1.152195</td>\n",
              "    </tr>\n",
              "    <tr>\n",
              "      <th>2</th>\n",
              "      <td>1.150751</td>\n",
              "      <td>1.129352</td>\n",
              "      <td>1.156012</td>\n",
              "      <td>1.152843</td>\n",
              "    </tr>\n",
              "    <tr>\n",
              "      <th>3</th>\n",
              "      <td>1.155529</td>\n",
              "      <td>1.129308</td>\n",
              "      <td>1.158028</td>\n",
              "      <td>1.155062</td>\n",
              "    </tr>\n",
              "    <tr>\n",
              "      <th>4</th>\n",
              "      <td>1.161155</td>\n",
              "      <td>1.143826</td>\n",
              "      <td>1.168129</td>\n",
              "      <td>1.174031</td>\n",
              "    </tr>\n",
              "    <tr>\n",
              "      <th>...</th>\n",
              "      <td>...</td>\n",
              "      <td>...</td>\n",
              "      <td>...</td>\n",
              "      <td>...</td>\n",
              "    </tr>\n",
              "    <tr>\n",
              "      <th>30835</th>\n",
              "      <td>1.129412</td>\n",
              "      <td>1.098184</td>\n",
              "      <td>1.128190</td>\n",
              "      <td>1.119319</td>\n",
              "    </tr>\n",
              "    <tr>\n",
              "      <th>30836</th>\n",
              "      <td>1.121177</td>\n",
              "      <td>1.090124</td>\n",
              "      <td>1.119833</td>\n",
              "      <td>1.110977</td>\n",
              "    </tr>\n",
              "    <tr>\n",
              "      <th>30837</th>\n",
              "      <td>1.112213</td>\n",
              "      <td>1.084086</td>\n",
              "      <td>1.119234</td>\n",
              "      <td>1.110921</td>\n",
              "    </tr>\n",
              "    <tr>\n",
              "      <th>30838</th>\n",
              "      <td>1.115008</td>\n",
              "      <td>1.092880</td>\n",
              "      <td>1.122026</td>\n",
              "      <td>1.122126</td>\n",
              "    </tr>\n",
              "    <tr>\n",
              "      <th>30839</th>\n",
              "      <td>1.129412</td>\n",
              "      <td>1.106340</td>\n",
              "      <td>1.136417</td>\n",
              "      <td>1.132955</td>\n",
              "    </tr>\n",
              "  </tbody>\n",
              "</table>\n",
              "<p>30840 rows × 4 columns</p>\n",
              "</div>"
            ],
            "text/plain": [
              "              0         1         2         3\n",
              "0      1.146204  1.114620  1.132922  1.129216\n",
              "1      1.132057  1.122394  1.134793  1.152195\n",
              "2      1.150751  1.129352  1.156012  1.152843\n",
              "3      1.155529  1.129308  1.158028  1.155062\n",
              "4      1.161155  1.143826  1.168129  1.174031\n",
              "...         ...       ...       ...       ...\n",
              "30835  1.129412  1.098184  1.128190  1.119319\n",
              "30836  1.121177  1.090124  1.119833  1.110977\n",
              "30837  1.112213  1.084086  1.119234  1.110921\n",
              "30838  1.115008  1.092880  1.122026  1.122126\n",
              "30839  1.129412  1.106340  1.136417  1.132955\n",
              "\n",
              "[30840 rows x 4 columns]"
            ]
          },
          "metadata": {},
          "execution_count": 703
        }
      ]
    },
    {
      "cell_type": "code",
      "metadata": {
        "id": "xDNEOJ6W6fOF",
        "outputId": "3a9707c9-b346-4dc5-d3cd-feb3c1fe5e36",
        "colab": {
          "base_uri": "https://localhost:8080/"
        }
      },
      "source": [
        "X_train_np = X_train_df.to_numpy()\n",
        "X_validation_np = X_validation_df.to_numpy()\n",
        "X_test_np = X_test_df.to_numpy()\n",
        "\n",
        "X_train_np.shape, X_validation_np.shape, X_test_np.shape"
      ],
      "execution_count": 704,
      "outputs": [
        {
          "output_type": "execute_result",
          "data": {
            "text/plain": [
              "((106740, 4), (23940, 4), (30840, 4))"
            ]
          },
          "metadata": {},
          "execution_count": 704
        }
      ]
    },
    {
      "cell_type": "code",
      "metadata": {
        "id": "0ifKUrCh6hXx"
      },
      "source": [
        "X_train = np.array(np.split(X_train_np, 1779))"
      ],
      "execution_count": 705,
      "outputs": []
    },
    {
      "cell_type": "code",
      "metadata": {
        "id": "evlI9FWu99Xz",
        "outputId": "3fa24ce1-56f2-40a5-fb1d-df31a6621903",
        "colab": {
          "base_uri": "https://localhost:8080/"
        }
      },
      "source": [
        "X_train.shape"
      ],
      "execution_count": 706,
      "outputs": [
        {
          "output_type": "execute_result",
          "data": {
            "text/plain": [
              "(1779, 60, 4)"
            ]
          },
          "metadata": {},
          "execution_count": 706
        }
      ]
    },
    {
      "cell_type": "code",
      "metadata": {
        "id": "xOLGsLHa8zp2"
      },
      "source": [
        "X_validation = np.array(np.split(X_validation_np, 399))"
      ],
      "execution_count": 707,
      "outputs": []
    },
    {
      "cell_type": "code",
      "metadata": {
        "id": "g71d93eH947Q",
        "outputId": "8beb3bd7-5a51-47f3-fe3c-9e8bbeebfa02",
        "colab": {
          "base_uri": "https://localhost:8080/"
        }
      },
      "source": [
        "X_validation.shape"
      ],
      "execution_count": 708,
      "outputs": [
        {
          "output_type": "execute_result",
          "data": {
            "text/plain": [
              "(399, 60, 4)"
            ]
          },
          "metadata": {},
          "execution_count": 708
        }
      ]
    },
    {
      "cell_type": "code",
      "metadata": {
        "id": "HsZyWYk9-A0F"
      },
      "source": [
        "X_test = np.array(np.split(X_test_np, 514))"
      ],
      "execution_count": 709,
      "outputs": []
    },
    {
      "cell_type": "code",
      "metadata": {
        "id": "aLRsh8p8-A3E",
        "outputId": "d072b531-3f94-4319-8bdc-452736a24ebb",
        "colab": {
          "base_uri": "https://localhost:8080/"
        }
      },
      "source": [
        "X_test.shape"
      ],
      "execution_count": 710,
      "outputs": [
        {
          "output_type": "execute_result",
          "data": {
            "text/plain": [
              "(514, 60, 4)"
            ]
          },
          "metadata": {},
          "execution_count": 710
        }
      ]
    },
    {
      "cell_type": "code",
      "metadata": {
        "id": "FaSnACx2-exp",
        "outputId": "ce2cd9c6-809f-4b9e-ee41-26e3d8408cef",
        "colab": {
          "base_uri": "https://localhost:8080/"
        }
      },
      "source": [
        "X_train[1].shape"
      ],
      "execution_count": 711,
      "outputs": [
        {
          "output_type": "execute_result",
          "data": {
            "text/plain": [
              "(60, 4)"
            ]
          },
          "metadata": {},
          "execution_count": 711
        }
      ]
    },
    {
      "cell_type": "code",
      "metadata": {
        "id": "4kVVkqOWBY5N",
        "outputId": "437281ee-d490-4a90-cab9-d7a773386876",
        "colab": {
          "base_uri": "https://localhost:8080/"
        }
      },
      "source": [
        "y_train[:5]"
      ],
      "execution_count": 712,
      "outputs": [
        {
          "output_type": "execute_result",
          "data": {
            "text/plain": [
              "[55462.46, 55458.79, 55428.77, 55409.99, 55403.28]"
            ]
          },
          "metadata": {},
          "execution_count": 712
        }
      ]
    },
    {
      "cell_type": "code",
      "metadata": {
        "id": "H3aYeuVpBs3H"
      },
      "source": [
        "# Konverzija u np.array\n",
        "\n",
        "y_train = np.array(y_train)\n",
        "y_validation = np.array(y_validation)\n",
        "y_test = np.array(y_test)"
      ],
      "execution_count": 713,
      "outputs": []
    },
    {
      "cell_type": "code",
      "metadata": {
        "colab": {
          "base_uri": "https://localhost:8080/"
        },
        "id": "uJ-ULtT3y1vi",
        "outputId": "df30a0c6-9e10-418f-f3c5-2aac887347ef"
      },
      "source": [
        "# Dimenzije X_train\n",
        "\n",
        "X_train.shape, y_train.shape, X_validation.shape, y_validation.shape, X_test.shape, y_test.shape"
      ],
      "execution_count": 714,
      "outputs": [
        {
          "output_type": "execute_result",
          "data": {
            "text/plain": [
              "((1779, 60, 4), (1779,), (399, 60, 4), (399,), (514, 60, 4), (514,))"
            ]
          },
          "metadata": {},
          "execution_count": 714
        }
      ]
    },
    {
      "cell_type": "code",
      "metadata": {
        "id": "EdKLonlZ_F9Q"
      },
      "source": [
        ""
      ],
      "execution_count": 714,
      "outputs": []
    },
    {
      "cell_type": "markdown",
      "metadata": {
        "id": "v38-_t3flcLM"
      },
      "source": [
        "## **Kreiranje, kompilacija i treniranje mreze**"
      ]
    },
    {
      "cell_type": "markdown",
      "metadata": {
        "id": "HNthz4cil_oG"
      },
      "source": [
        "### **Kreiranje mreze**"
      ]
    },
    {
      "cell_type": "code",
      "metadata": {
        "id": "lfeVY4ggy3Az"
      },
      "source": [
        "# Definicija funkcije koja kreira i vraca model mreze\n",
        "\n",
        "def build_net(input_1 = X_train.shape[1], input_2 = X_train.shape[2]):\n",
        "\n",
        "  net = Sequential()\n",
        "  net.add(LSTM(units = 50, activation = 'relu', return_sequences = True, input_shape = (input_1, input_2)))\n",
        "  net.add(Dropout(0.2))\n",
        "  net.add(LSTM(units = 60, activation = 'relu', return_sequences = True))\n",
        "  net.add(Dropout(0.3))\n",
        "\n",
        "  net.add(LSTM(units = 80, activation = 'relu', return_sequences = True))\n",
        "  net.add(Dropout(0.4))\n",
        "\n",
        "  net.add(LSTM(units = 120, activation = 'relu'))\n",
        "  net.add(Dropout(0.5))\n",
        "\n",
        "  net.add(Dense(units =1))\n",
        "  print(net.summary())\n",
        "\n",
        "  return net\n"
      ],
      "execution_count": 715,
      "outputs": []
    },
    {
      "cell_type": "code",
      "metadata": {
        "colab": {
          "base_uri": "https://localhost:8080/"
        },
        "id": "1UBUjLyNh5KP",
        "outputId": "34a2f26a-b270-49d2-c784-8a1e9dcc4424"
      },
      "source": [
        "# Kreiranje modela mreze\n",
        "\n",
        "net = build_net(input_1 = X_train.shape[1], input_2 = X_train.shape[2])"
      ],
      "execution_count": 716,
      "outputs": [
        {
          "output_type": "stream",
          "name": "stdout",
          "text": [
            "Model: \"sequential_9\"\n",
            "_________________________________________________________________\n",
            "Layer (type)                 Output Shape              Param #   \n",
            "=================================================================\n",
            "lstm_33 (LSTM)               (None, 60, 50)            11000     \n",
            "_________________________________________________________________\n",
            "dropout_32 (Dropout)         (None, 60, 50)            0         \n",
            "_________________________________________________________________\n",
            "lstm_34 (LSTM)               (None, 60, 60)            26640     \n",
            "_________________________________________________________________\n",
            "dropout_33 (Dropout)         (None, 60, 60)            0         \n",
            "_________________________________________________________________\n",
            "lstm_35 (LSTM)               (None, 60, 80)            45120     \n",
            "_________________________________________________________________\n",
            "dropout_34 (Dropout)         (None, 60, 80)            0         \n",
            "_________________________________________________________________\n",
            "lstm_36 (LSTM)               (None, 120)               96480     \n",
            "_________________________________________________________________\n",
            "dropout_35 (Dropout)         (None, 120)               0         \n",
            "_________________________________________________________________\n",
            "dense_8 (Dense)              (None, 1)                 121       \n",
            "=================================================================\n",
            "Total params: 179,361\n",
            "Trainable params: 179,361\n",
            "Non-trainable params: 0\n",
            "_________________________________________________________________\n",
            "None\n"
          ]
        }
      ]
    },
    {
      "cell_type": "markdown",
      "metadata": {
        "id": "30h12bNEmP83"
      },
      "source": [
        "### **Kompilacija i treniranje mreze**"
      ]
    },
    {
      "cell_type": "code",
      "metadata": {
        "id": "W1PIqBXAb8LA"
      },
      "source": [
        "# Definicija funkcije za kompilaciju i treniranje mreze\n",
        "# Treniranje je moguce vrsiti sa ili bez validacije\n",
        "\n",
        "def compile_and_fit(optimizer, loss, metrics, X_train, y_train, epochs, batch_size, validation = 1, X_validation = None, y_validation = None, patience = 3):\n",
        "\n",
        "  net.compile(optimizer = optimizer, loss = loss, metrics = metrics)\n",
        "\n",
        "  callback = callbacks.EarlyStopping(monitor = 'loss', patience = patience)\n",
        "\n",
        "  if validation == 0: # bez validacije\n",
        "    history = net.fit(X_train, y_train, epochs = epochs, batch_size = batch_size, callbacks=[callback])\n",
        "  else: # sa validacijom\n",
        "    history = net.fit(X_train, y_train, epochs = epochs, validation_data = (X_validation, y_validation), batch_size = batch_size, callbacks=[callback])\n",
        "\n",
        "  return history, net\n"
      ],
      "execution_count": 717,
      "outputs": []
    },
    {
      "cell_type": "code",
      "metadata": {
        "colab": {
          "base_uri": "https://localhost:8080/"
        },
        "id": "VWL-DLbIlrbw",
        "outputId": "b98d5e1f-0740-4c04-b303-0f8580d6d2e3"
      },
      "source": [
        "# Kompilacija i treniranje mreze bez validacije\n",
        "\n",
        "history_no_validation, net_no_validation = compile_and_fit(optimizer = 'adam', loss = 'mean_squared_error', metrics = ['mse', 'mae'], X_train = X_train, y_train = y_train, epochs = 20, batch_size = 50, validation = 0, patience = 3)\n",
        "\n",
        "\n",
        "# Kompilacija i treniranje mreze sa validacijom\n",
        "\n",
        "history_validation, net_validation = compile_and_fit(optimizer = 'adam', loss = 'mean_squared_error', metrics = ['mse', 'mae'], X_train = X_train, y_train = y_train, epochs = 20, batch_size = 50, validation = 1, X_validation = X_validation, y_validation = y_validation, patience = 3)\n"
      ],
      "execution_count": 718,
      "outputs": [
        {
          "output_type": "stream",
          "name": "stdout",
          "text": [
            "Epoch 1/20\n",
            "36/36 [==============================] - 12s 202ms/step - loss: 8654481408.0000 - mse: 8654481408.0000 - mae: 62830.2461\n",
            "Epoch 2/20\n",
            "36/36 [==============================] - 7s 201ms/step - loss: 3340903424.0000 - mse: 3340903424.0000 - mae: 56637.1680\n",
            "Epoch 3/20\n",
            "36/36 [==============================] - 7s 200ms/step - loss: 3257620992.0000 - mse: 3257620992.0000 - mae: 57066.4336\n",
            "Epoch 4/20\n",
            "36/36 [==============================] - 7s 199ms/step - loss: 3257619200.0000 - mse: 3257619200.0000 - mae: 57066.4297\n",
            "Epoch 5/20\n",
            "36/36 [==============================] - 7s 198ms/step - loss: 3257614592.0000 - mse: 3257614592.0000 - mae: 57066.3828\n",
            "Epoch 6/20\n",
            "36/36 [==============================] - 7s 195ms/step - loss: 3153724672.0000 - mse: 3153724672.0000 - mae: 55522.0000\n",
            "Epoch 7/20\n",
            "36/36 [==============================] - 7s 196ms/step - loss: 3257548800.0000 - mse: 3257548800.0000 - mae: 57065.8047\n",
            "Epoch 8/20\n",
            "36/36 [==============================] - 7s 199ms/step - loss: 2580161024.0000 - mse: 2580161024.0000 - mae: 48618.9688\n",
            "Epoch 9/20\n",
            "36/36 [==============================] - 7s 201ms/step - loss: 2950670080.0000 - mse: 2950670080.0000 - mae: 53305.3438\n",
            "Epoch 10/20\n",
            "36/36 [==============================] - 7s 200ms/step - loss: 3257632000.0000 - mse: 3257632000.0000 - mae: 57066.5469\n",
            "Epoch 11/20\n",
            "36/36 [==============================] - 7s 197ms/step - loss: 3087741184.0000 - mse: 3087741184.0000 - mae: 54575.1797\n",
            "Epoch 1/20\n",
            "36/36 [==============================] - 12s 225ms/step - loss: 3274950144.0000 - mse: 3274950144.0000 - mae: 56980.9297 - val_loss: 2784732160.0000 - val_mse: 2784732160.0000 - val_mae: 52364.2344\n",
            "Epoch 2/20\n",
            "36/36 [==============================] - 8s 216ms/step - loss: 8668745728.0000 - mse: 8668745728.0000 - mae: 61379.2656 - val_loss: 3449352448.0000 - val_mse: 3449352448.0000 - val_mae: 58729.2734\n",
            "Epoch 3/20\n",
            "36/36 [==============================] - 7s 208ms/step - loss: 3217775616.0000 - mse: 3217775616.0000 - mae: 55841.8125 - val_loss: 3448469760.0000 - val_mse: 3448469760.0000 - val_mae: 58721.7852\n",
            "Epoch 4/20\n",
            "36/36 [==============================] - 8s 210ms/step - loss: 3257440000.0000 - mse: 3257440000.0000 - mae: 57064.8555 - val_loss: 3436462848.0000 - val_mse: 3436462848.0000 - val_mae: 58619.8906\n",
            "Epoch 5/20\n",
            "36/36 [==============================] - 8s 211ms/step - loss: 2710003200.0000 - mse: 2710003200.0000 - mae: 50315.5586 - val_loss: 963313280.0000 - val_mse: 963313280.0000 - val_mae: 24718.5820\n",
            "Epoch 6/20\n",
            "36/36 [==============================] - 7s 206ms/step - loss: 1512872576.0000 - mse: 1512872576.0000 - mae: 34277.2773 - val_loss: 552527680.0000 - val_mse: 552527680.0000 - val_mae: 18448.4922\n",
            "Epoch 7/20\n",
            "36/36 [==============================] - 8s 221ms/step - loss: 1062679296.0000 - mse: 1062679296.0000 - mae: 27342.7559 - val_loss: 1519454464.0000 - val_mse: 1519454464.0000 - val_mae: 38548.4297\n",
            "Epoch 8/20\n",
            "36/36 [==============================] - 8s 216ms/step - loss: 957440192.0000 - mse: 957440192.0000 - mae: 26511.9121 - val_loss: 565413504.0000 - val_mse: 565413504.0000 - val_mae: 22761.5996\n",
            "Epoch 9/20\n",
            "36/36 [==============================] - 7s 205ms/step - loss: 589602432.0000 - mse: 589602432.0000 - mae: 20174.9414 - val_loss: 678070144.0000 - val_mse: 678070144.0000 - val_mae: 25549.0410\n",
            "Epoch 10/20\n",
            "36/36 [==============================] - 8s 215ms/step - loss: 518893312.0000 - mse: 518893312.0000 - mae: 18860.0234 - val_loss: 266236736.0000 - val_mse: 266236736.0000 - val_mae: 15699.5898\n",
            "Epoch 11/20\n",
            "36/36 [==============================] - 8s 211ms/step - loss: 458940992.0000 - mse: 458940992.0000 - mae: 17427.2578 - val_loss: 271547904.0000 - val_mse: 271547904.0000 - val_mae: 16138.3311\n",
            "Epoch 12/20\n",
            "36/36 [==============================] - 8s 210ms/step - loss: 391337536.0000 - mse: 391337536.0000 - mae: 15950.8721 - val_loss: 237645664.0000 - val_mse: 237645664.0000 - val_mae: 15230.9600\n",
            "Epoch 13/20\n",
            "36/36 [==============================] - 8s 210ms/step - loss: 632177344.0000 - mse: 632177344.0000 - mae: 20592.3379 - val_loss: 510277184.0000 - val_mse: 510277184.0000 - val_mae: 20853.6484\n",
            "Epoch 14/20\n",
            "36/36 [==============================] - 8s 213ms/step - loss: 725665664.0000 - mse: 725665664.0000 - mae: 22281.6484 - val_loss: 292881664.0000 - val_mse: 292881664.0000 - val_mae: 15009.3213\n",
            "Epoch 15/20\n",
            "36/36 [==============================] - 8s 223ms/step - loss: 493075872.0000 - mse: 493075872.0000 - mae: 18494.8828 - val_loss: 233949760.0000 - val_mse: 233949760.0000 - val_mae: 14332.9551\n"
          ]
        }
      ]
    },
    {
      "cell_type": "code",
      "metadata": {
        "id": "QGBTTxYTrqK9"
      },
      "source": [
        ""
      ],
      "execution_count": 718,
      "outputs": []
    },
    {
      "cell_type": "markdown",
      "metadata": {
        "id": "pjo3QnGVsKpt"
      },
      "source": [
        "## **Predvidjanje**"
      ]
    },
    {
      "cell_type": "code",
      "metadata": {
        "id": "IkU6jqFNrrUZ"
      },
      "source": [
        "# Predvidjanje za mrezu treniranu bez i sa validacijom\n",
        "\n",
        "# Bez validacije\n",
        "y_predicted_no_validation = net_no_validation.predict(X_test)\n",
        "#print('Predvidjene vrednosti - bez validacije:\\n', y_predicted_no_validation)\n",
        "\n",
        "# Sa validacijom\n",
        "y_predicted_validation = net_validation.predict(X_test)\n",
        "#print('\\nPredvidjene vrednosti - sa validacijom:\\n', y_predicted_validation)"
      ],
      "execution_count": 719,
      "outputs": []
    },
    {
      "cell_type": "markdown",
      "metadata": {
        "id": "Vtwv1-mtsie5"
      },
      "source": [
        "## **Vizualizacija rezultata predvidjanja i metrika**"
      ]
    },
    {
      "cell_type": "code",
      "metadata": {
        "id": "rpuCAGCxzAat"
      },
      "source": [
        "# Vizuelni prikaz rezultata modela mreze\n",
        "\n",
        "def plot_real_vs_predicted_data(test_set, predicted_set):\n",
        "  \n",
        "  plt.plot(test_set, label='Stvarna vrednost BTC', linewidth=2)\n",
        "  plt.plot(predicted_set, label='Predvidjena vrednost BTC', linewidth=2)\n",
        "  plt.xlabel('Redni broj instance', fontsize=14)\n",
        "  plt.ylabel('Cena [USD]', fontsize=14)\n",
        "  plt.title(label = 'Vizuelni prikaz stvarne i predvidjene vrednosti BTC', fontsize=18)\n",
        "  plt.legend(loc='best', fontsize=18)\n",
        "  plt.show()\n",
        "\n",
        "  # test = test.reset_index()\n",
        "  # x = test.index\n"
      ],
      "execution_count": 720,
      "outputs": []
    },
    {
      "cell_type": "code",
      "metadata": {
        "id": "A8CBvTCvnjle"
      },
      "source": [
        ""
      ],
      "execution_count": null,
      "outputs": []
    },
    {
      "cell_type": "code",
      "metadata": {
        "colab": {
          "base_uri": "https://localhost:8080/",
          "height": 589
        },
        "id": "iEnWZYr6zAhG",
        "outputId": "ceb019da-e1e9-46f5-eb60-c4a7cb881ec7"
      },
      "source": [
        "# Plotovanje stvarne i predvidjene vrednosti\n",
        "\n",
        "# Bez validacije\n",
        "plot_real_vs_predicted_data(test_set = y_test, predicted_set = y_predicted_no_validation)\n",
        "\n",
        "# Sa validacijom\n",
        "plot_real_vs_predicted_data(y_test, y_predicted_validation)"
      ],
      "execution_count": 721,
      "outputs": [
        {
          "output_type": "display_data",
          "data": {
            "image/png": "[encoded data removed]",
            "text/plain": [
              "<Figure size 432x288 with 1 Axes>"
            ]
          },
          "metadata": {
            "needs_background": "light"
          }
        },
        {
          "output_type": "display_data",
          "data": {
            "image/png": "[encoded data removed]",
            "text/plain": [
              "<Figure size 432x288 with 1 Axes>"
            ]
          },
          "metadata": {
            "needs_background": "light"
          }
        }
      ]
    },
    {
      "cell_type": "code",
      "metadata": {
        "id": "JLp_Ems1zAja"
      },
      "source": [
        "# Vizuelni prikaz gubitka i tacnosti tokom treniranja mreze\n",
        "\n",
        "# Ukoliko je validacija nije koriscena tokom treniranja mreze,\n",
        "# onda parametar is_validation_used treba biti 0, a inace 1\n",
        "\n",
        "def plot_loss_and_mse(history_, is_validation_used):\n",
        "\n",
        "  epochs = range(len(history_.history['loss'])) # broj epoha\n",
        "\n",
        "  plt.title('Vizuelni prikaz gubitka (loss) i MSE (mse) mreze')\n",
        "\n",
        "\n",
        "  # Gubitak\n",
        "\n",
        "  plt.subplot(211)\n",
        "  \n",
        "  plt.plot(epochs, history_.history['loss'], label='Gubitak (loss) tokom treniranja')\n",
        "\n",
        "  if is_validation_used == 1:\n",
        "    plt.plot(epochs, history_.history['val_loss'], label='Gubitak (val_loss) tokom validacije')\n",
        "  \n",
        "  plt.legend()\n",
        "\n",
        "\n",
        "  # Tacnost\n",
        "\n",
        "  plt.subplot(212)\n",
        "\n",
        "  plt.plot(epochs, history_.history['mse'], label='MSE tokom treniranja')\n",
        "  \n",
        "  if is_validation_used == 1:\n",
        "    plt.plot(epochs, history_.history['val_mse'], label='MSE (val_mse) tokom validacije')\n",
        "  \n",
        "  plt.legend()\n",
        "\n",
        "  plt.show()\n"
      ],
      "execution_count": 722,
      "outputs": []
    },
    {
      "cell_type": "code",
      "metadata": {
        "colab": {
          "base_uri": "https://localhost:8080/",
          "height": 535
        },
        "id": "1BSAAKGSzAlx",
        "outputId": "16a9c3e3-14f6-4385-c412-a34ccade5740"
      },
      "source": [
        "# Plotovanje gubitka i tacnosti mreze tokom treniranja\n",
        "\n",
        "plot_loss_and_mse(history_ = history_no_validation, is_validation_used = 0)\n",
        "\n",
        "plot_loss_and_mse(history_ = history_validation, is_validation_used = 1)"
      ],
      "execution_count": 723,
      "outputs": [
        {
          "output_type": "display_data",
          "data": {
            "image/png": "[encoded data removed]",
            "text/plain": [
              "<Figure size 432x288 with 2 Axes>"
            ]
          },
          "metadata": {
            "needs_background": "light"
          }
        },
        {
          "output_type": "display_data",
          "data": {
            "image/png": "[encoded data removed]",
            "text/plain": [
              "<Figure size 432x288 with 2 Axes>"
            ]
          },
          "metadata": {
            "needs_background": "light"
          }
        }
      ]
    },
    {
      "cell_type": "code",
      "metadata": {
        "id": "rBTlwpP9y8JY"
      },
      "source": [
        "# Vizuelni prikaz MAE\n",
        "\n",
        "def plot_mae(history_):\n",
        "\n",
        "  epochs = range(len(history_.history['mae'])) # broj epoha\n",
        "  plt.title('Vizuelni prikaz MAE (mae')\n",
        "  plt.xlabel('broj epohe')\n",
        "  plt.ylabel('MAE')\n",
        "  \n",
        "  plt.plot(epochs, history_.history['mae'], label='MAE (mae) tokom treniranja')\n",
        "\n",
        "  if 'val_mae' in history_.history:\n",
        "    plt.plot(epochs, history_.history['val_mae'], label='MAE (val_mae) tokom treniranja sa validacijom')\n",
        "\n",
        "  plt.legend(loc = 'best')\n",
        "\n",
        "  plt.show()\n"
      ],
      "execution_count": 724,
      "outputs": []
    },
    {
      "cell_type": "code",
      "metadata": {
        "colab": {
          "base_uri": "https://localhost:8080/",
          "height": 295
        },
        "id": "UE6EjgvZUczz",
        "outputId": "5d6df543-3b36-4832-bd94-7db2303b178a"
      },
      "source": [
        "# MAE\n",
        "\n",
        "plot_mae(history_no_validation)"
      ],
      "execution_count": 725,
      "outputs": [
        {
          "output_type": "display_data",
          "data": {
            "image/png": "[encoded data removed]",
            "text/plain": [
              "<Figure size 432x288 with 1 Axes>"
            ]
          },
          "metadata": {
            "needs_background": "light"
          }
        }
      ]
    },
    {
      "cell_type": "code",
      "metadata": {
        "colab": {
          "base_uri": "https://localhost:8080/",
          "height": 295
        },
        "id": "7Xyxebz4UePl",
        "outputId": "5311ff57-c2db-471c-9433-9d75d5cff4f3"
      },
      "source": [
        "# MAE - sa validacijom\n",
        "\n",
        "plot_mae(history_validation)"
      ],
      "execution_count": 726,
      "outputs": [
        {
          "output_type": "display_data",
          "data": {
            "image/png": "[encoded data removed]",
            "text/plain": [
              "<Figure size 432x288 with 1 Axes>"
            ]
          },
          "metadata": {
            "needs_background": "light"
          }
        }
      ]
    },
    {
      "cell_type": "code",
      "metadata": {
        "colab": {
          "base_uri": "https://localhost:8080/"
        },
        "id": "Ui8qyCw2UiZ3",
        "outputId": "0ad034c8-5e29-4bdd-d252-d79e0ee1ff8c"
      },
      "source": [
        "# Loss, MSE, MAE nad skupom za testiranje\n",
        "\n",
        "# (za model koji pri treniranju koristi validaciju\n",
        "# i za model koji pri treniranju ne koristi validaciju)\n",
        "\n",
        "test_metrics_no_val = net_no_validation.evaluate(X_test, y_test)\n",
        "test_metrics_val = net_validation.evaluate(X_test, y_test)\n",
        "\n",
        "print('\\nMetrike prilikom testiranja - model treniran bez validacije\\n')\n",
        "print(net_no_validation.metrics_names[0], test_metrics_no_val[0])\n",
        "print(net_no_validation.metrics_names[1], test_metrics_no_val[1])\n",
        "print(net_no_validation.metrics_names[2], test_metrics_no_val[2])\n",
        "\n",
        "print('\\n\\nMetrike prilikom testiranja - model treniran sa validacijom\\n')\n",
        "print(net_validation.metrics_names[0], test_metrics_val[0])\n",
        "print(net_validation.metrics_names[1], test_metrics_val[1])\n",
        "print(net_validation.metrics_names[2], test_metrics_val[2])"
      ],
      "execution_count": 727,
      "outputs": [
        {
          "output_type": "stream",
          "name": "stdout",
          "text": [
            "17/17 [==============================] - 1s 38ms/step - loss: 182966912.0000 - mse: 182966912.0000 - mae: 13449.7344\n",
            "17/17 [==============================] - 1s 39ms/step - loss: 182966912.0000 - mse: 182966912.0000 - mae: 13449.7344\n",
            "\n",
            "Metrike prilikom testiranja - model treniran bez validacije\n",
            "\n",
            "loss 182966912.0\n",
            "mse 182966912.0\n",
            "mae 13449.734375\n",
            "\n",
            "\n",
            "Metrike prilikom testiranja - model treniran sa validacijom\n",
            "\n",
            "loss 182966912.0\n",
            "mse 182966912.0\n",
            "mae 13449.734375\n"
          ]
        }
      ]
    },
    {
      "cell_type": "code",
      "metadata": {
        "colab": {
          "base_uri": "https://localhost:8080/"
        },
        "id": "RQpYvBZyUpej",
        "outputId": "22e3fa51-7519-4bec-9b65-0d1e95a7e48b"
      },
      "source": [
        "# R2 skor nad skupom za testiranje\n",
        "from sklearn import metrics\n",
        "\n",
        "r2 = metrics.r2_score(y_predicted_no_validation, y_test)\n",
        "r2_val = metrics.r2_score(y_predicted_validation, y_test)\n",
        "\n",
        "print('R2 skor prilikom testiranja - model treniran bez validacije', r2)\n",
        "print('R2 skor prilikom testiranja - model treniran sa validacijom', r2_val)"
      ],
      "execution_count": 728,
      "outputs": [
        {
          "output_type": "stream",
          "name": "stdout",
          "text": [
            "R2 skor prilikom testiranja - model treniran bez validacije -86.4027463905458\n",
            "R2 skor prilikom testiranja - model treniran sa validacijom -86.4027463905458\n"
          ]
        }
      ]
    },
    {
      "cell_type": "code",
      "metadata": {
        "id": "wd7c20pFUryX"
      },
      "source": [
        ""
      ],
      "execution_count": 171,
      "outputs": []
    }
  ]
}