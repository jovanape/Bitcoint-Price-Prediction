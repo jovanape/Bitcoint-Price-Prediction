{
  "nbformat": 4,
  "nbformat_minor": 0,
  "metadata": {
    "colab": {
      "name": "rnn.ipynb",
      "provenance": [],
      "collapsed_sections": [],
      "include_colab_link": true
    },
    "kernelspec": {
      "name": "python3",
      "display_name": "Python 3"
    },
    "language_info": {
      "name": "python"
    }
  },
  "cells": [
    {
      "cell_type": "markdown",
      "metadata": {
        "id": "view-in-github",
        "colab_type": "text"
      },
      "source": [
        "<a href=\"https://colab.research.google.com/github/jovanape/Bitcoint-Price-Prediction/blob/main/rnn.ipynb\" target=\"_parent\"><img src=\"https://colab.research.google.com/assets/colab-badge.svg\" alt=\"Open In Colab\"/></a>"
      ]
    },
    {
      "cell_type": "markdown",
      "metadata": {
        "id": "4_6hHjWjjzos"
      },
      "source": [
        "# **Predvidjanje vrednosti Bitcoina pomocu RNN**\n",
        "\n",
        "**Korisceni atributi:** Open, High, Low, Close\n",
        "\n",
        "**Filtrirani podaci:** od 28.03.2021."
      ]
    },
    {
      "cell_type": "markdown",
      "metadata": {
        "id": "krvFQDwvkBdX"
      },
      "source": [
        "## **Ucitavanje biblioteka**"
      ]
    },
    {
      "cell_type": "code",
      "metadata": {
        "id": "iaSuiXq3HP1y"
      },
      "source": [
        "# Ucitavanje biblioteka\n",
        "\n",
        "import numpy as np \n",
        "import pandas as pd \n",
        "from matplotlib import pyplot as plt\n",
        "from sklearn.preprocessing import MinMaxScaler\n",
        "from keras.models import Sequential\n",
        "from keras.layers import Dense\n",
        "from keras.layers import LSTM\n",
        "from keras.layers import Dropout"
      ],
      "execution_count": 1,
      "outputs": []
    },
    {
      "cell_type": "markdown",
      "metadata": {
        "id": "QsGhjvltjWcA"
      },
      "source": [
        "## **Ucitavanje skupa podataka i pretprocesiranje**"
      ]
    },
    {
      "cell_type": "code",
      "metadata": {
        "colab": {
          "base_uri": "https://localhost:8080/",
          "height": 202
        },
        "id": "_r4bteeIUcND",
        "outputId": "d3ae0599-a909-4741-aa29-54848712452d"
      },
      "source": [
        "# Ucitavanje skupa podataka\n",
        "\n",
        "data = pd.read_csv('bitstampUSD_1-min_data_2012-01-01_to_2021-03-31.csv')\n",
        "data.head()"
      ],
      "execution_count": 2,
      "outputs": [
        {
          "output_type": "execute_result",
          "data": {
            "text/html": [
              "<div>\n",
              "<style scoped>\n",
              "    .dataframe tbody tr th:only-of-type {\n",
              "        vertical-align: middle;\n",
              "    }\n",
              "\n",
              "    .dataframe tbody tr th {\n",
              "        vertical-align: top;\n",
              "    }\n",
              "\n",
              "    .dataframe thead th {\n",
              "        text-align: right;\n",
              "    }\n",
              "</style>\n",
              "<table border=\"1\" class=\"dataframe\">\n",
              "  <thead>\n",
              "    <tr style=\"text-align: right;\">\n",
              "      <th></th>\n",
              "      <th>Timestamp</th>\n",
              "      <th>Open</th>\n",
              "      <th>High</th>\n",
              "      <th>Low</th>\n",
              "      <th>Close</th>\n",
              "      <th>Volume_(BTC)</th>\n",
              "      <th>Volume_(Currency)</th>\n",
              "      <th>Weighted_Price</th>\n",
              "    </tr>\n",
              "  </thead>\n",
              "  <tbody>\n",
              "    <tr>\n",
              "      <th>0</th>\n",
              "      <td>1325317920</td>\n",
              "      <td>4.39</td>\n",
              "      <td>4.39</td>\n",
              "      <td>4.39</td>\n",
              "      <td>4.39</td>\n",
              "      <td>0.455581</td>\n",
              "      <td>2.0</td>\n",
              "      <td>4.39</td>\n",
              "    </tr>\n",
              "    <tr>\n",
              "      <th>1</th>\n",
              "      <td>1325317980</td>\n",
              "      <td>NaN</td>\n",
              "      <td>NaN</td>\n",
              "      <td>NaN</td>\n",
              "      <td>NaN</td>\n",
              "      <td>NaN</td>\n",
              "      <td>NaN</td>\n",
              "      <td>NaN</td>\n",
              "    </tr>\n",
              "    <tr>\n",
              "      <th>2</th>\n",
              "      <td>1325318040</td>\n",
              "      <td>NaN</td>\n",
              "      <td>NaN</td>\n",
              "      <td>NaN</td>\n",
              "      <td>NaN</td>\n",
              "      <td>NaN</td>\n",
              "      <td>NaN</td>\n",
              "      <td>NaN</td>\n",
              "    </tr>\n",
              "    <tr>\n",
              "      <th>3</th>\n",
              "      <td>1325318100</td>\n",
              "      <td>NaN</td>\n",
              "      <td>NaN</td>\n",
              "      <td>NaN</td>\n",
              "      <td>NaN</td>\n",
              "      <td>NaN</td>\n",
              "      <td>NaN</td>\n",
              "      <td>NaN</td>\n",
              "    </tr>\n",
              "    <tr>\n",
              "      <th>4</th>\n",
              "      <td>1325318160</td>\n",
              "      <td>NaN</td>\n",
              "      <td>NaN</td>\n",
              "      <td>NaN</td>\n",
              "      <td>NaN</td>\n",
              "      <td>NaN</td>\n",
              "      <td>NaN</td>\n",
              "      <td>NaN</td>\n",
              "    </tr>\n",
              "  </tbody>\n",
              "</table>\n",
              "</div>"
            ],
            "text/plain": [
              "    Timestamp  Open  High  ...  Volume_(BTC)  Volume_(Currency)  Weighted_Price\n",
              "0  1325317920  4.39  4.39  ...      0.455581                2.0            4.39\n",
              "1  1325317980   NaN   NaN  ...           NaN                NaN             NaN\n",
              "2  1325318040   NaN   NaN  ...           NaN                NaN             NaN\n",
              "3  1325318100   NaN   NaN  ...           NaN                NaN             NaN\n",
              "4  1325318160   NaN   NaN  ...           NaN                NaN             NaN\n",
              "\n",
              "[5 rows x 8 columns]"
            ]
          },
          "metadata": {
            "tags": []
          },
          "execution_count": 2
        }
      ]
    },
    {
      "cell_type": "code",
      "metadata": {
        "colab": {
          "base_uri": "https://localhost:8080/",
          "height": 202
        },
        "id": "6I5dWQWgcziA",
        "outputId": "f61a024a-d6e5-45be-9fd5-1d6326113291"
      },
      "source": [
        "# Ciscenje podataka od NaN vrednosti\n",
        "\n",
        "data = data.dropna()\n",
        "data.head()"
      ],
      "execution_count": 3,
      "outputs": [
        {
          "output_type": "execute_result",
          "data": {
            "text/html": [
              "<div>\n",
              "<style scoped>\n",
              "    .dataframe tbody tr th:only-of-type {\n",
              "        vertical-align: middle;\n",
              "    }\n",
              "\n",
              "    .dataframe tbody tr th {\n",
              "        vertical-align: top;\n",
              "    }\n",
              "\n",
              "    .dataframe thead th {\n",
              "        text-align: right;\n",
              "    }\n",
              "</style>\n",
              "<table border=\"1\" class=\"dataframe\">\n",
              "  <thead>\n",
              "    <tr style=\"text-align: right;\">\n",
              "      <th></th>\n",
              "      <th>Timestamp</th>\n",
              "      <th>Open</th>\n",
              "      <th>High</th>\n",
              "      <th>Low</th>\n",
              "      <th>Close</th>\n",
              "      <th>Volume_(BTC)</th>\n",
              "      <th>Volume_(Currency)</th>\n",
              "      <th>Weighted_Price</th>\n",
              "    </tr>\n",
              "  </thead>\n",
              "  <tbody>\n",
              "    <tr>\n",
              "      <th>0</th>\n",
              "      <td>1325317920</td>\n",
              "      <td>4.39</td>\n",
              "      <td>4.39</td>\n",
              "      <td>4.39</td>\n",
              "      <td>4.39</td>\n",
              "      <td>0.455581</td>\n",
              "      <td>2.000000</td>\n",
              "      <td>4.390000</td>\n",
              "    </tr>\n",
              "    <tr>\n",
              "      <th>478</th>\n",
              "      <td>1325346600</td>\n",
              "      <td>4.39</td>\n",
              "      <td>4.39</td>\n",
              "      <td>4.39</td>\n",
              "      <td>4.39</td>\n",
              "      <td>48.000000</td>\n",
              "      <td>210.720000</td>\n",
              "      <td>4.390000</td>\n",
              "    </tr>\n",
              "    <tr>\n",
              "      <th>547</th>\n",
              "      <td>1325350740</td>\n",
              "      <td>4.50</td>\n",
              "      <td>4.57</td>\n",
              "      <td>4.50</td>\n",
              "      <td>4.57</td>\n",
              "      <td>37.862297</td>\n",
              "      <td>171.380338</td>\n",
              "      <td>4.526411</td>\n",
              "    </tr>\n",
              "    <tr>\n",
              "      <th>548</th>\n",
              "      <td>1325350800</td>\n",
              "      <td>4.58</td>\n",
              "      <td>4.58</td>\n",
              "      <td>4.58</td>\n",
              "      <td>4.58</td>\n",
              "      <td>9.000000</td>\n",
              "      <td>41.220000</td>\n",
              "      <td>4.580000</td>\n",
              "    </tr>\n",
              "    <tr>\n",
              "      <th>1224</th>\n",
              "      <td>1325391360</td>\n",
              "      <td>4.58</td>\n",
              "      <td>4.58</td>\n",
              "      <td>4.58</td>\n",
              "      <td>4.58</td>\n",
              "      <td>1.502000</td>\n",
              "      <td>6.879160</td>\n",
              "      <td>4.580000</td>\n",
              "    </tr>\n",
              "  </tbody>\n",
              "</table>\n",
              "</div>"
            ],
            "text/plain": [
              "       Timestamp  Open  High  ...  Volume_(BTC)  Volume_(Currency)  Weighted_Price\n",
              "0     1325317920  4.39  4.39  ...      0.455581           2.000000        4.390000\n",
              "478   1325346600  4.39  4.39  ...     48.000000         210.720000        4.390000\n",
              "547   1325350740  4.50  4.57  ...     37.862297         171.380338        4.526411\n",
              "548   1325350800  4.58  4.58  ...      9.000000          41.220000        4.580000\n",
              "1224  1325391360  4.58  4.58  ...      1.502000           6.879160        4.580000\n",
              "\n",
              "[5 rows x 8 columns]"
            ]
          },
          "metadata": {
            "tags": []
          },
          "execution_count": 3
        }
      ]
    },
    {
      "cell_type": "code",
      "metadata": {
        "colab": {
          "base_uri": "https://localhost:8080/",
          "height": 261
        },
        "id": "q2sJeCf9c0Df",
        "outputId": "37629249-3635-4927-c21a-0dd6c4cf61bc"
      },
      "source": [
        "# Kreiranje datuma\n",
        "\n",
        "data['Date'] = pd.to_datetime(data['Timestamp'], unit='s').dt.date # samo datum (bez vremena)\n",
        "\n",
        "\n",
        "# Filtriranje podataka\n",
        "\n",
        "data = data.loc[data['Date'] > pd.to_datetime('2021-03-28')]\n",
        "data.head(4)"
      ],
      "execution_count": 4,
      "outputs": [
        {
          "output_type": "execute_result",
          "data": {
            "text/html": [
              "<div>\n",
              "<style scoped>\n",
              "    .dataframe tbody tr th:only-of-type {\n",
              "        vertical-align: middle;\n",
              "    }\n",
              "\n",
              "    .dataframe tbody tr th {\n",
              "        vertical-align: top;\n",
              "    }\n",
              "\n",
              "    .dataframe thead th {\n",
              "        text-align: right;\n",
              "    }\n",
              "</style>\n",
              "<table border=\"1\" class=\"dataframe\">\n",
              "  <thead>\n",
              "    <tr style=\"text-align: right;\">\n",
              "      <th></th>\n",
              "      <th>Timestamp</th>\n",
              "      <th>Open</th>\n",
              "      <th>High</th>\n",
              "      <th>Low</th>\n",
              "      <th>Close</th>\n",
              "      <th>Volume_(BTC)</th>\n",
              "      <th>Volume_(Currency)</th>\n",
              "      <th>Weighted_Price</th>\n",
              "      <th>Date</th>\n",
              "    </tr>\n",
              "  </thead>\n",
              "  <tbody>\n",
              "    <tr>\n",
              "      <th>4854496</th>\n",
              "      <td>1616976000</td>\n",
              "      <td>55790.28</td>\n",
              "      <td>55822.98</td>\n",
              "      <td>55777.98</td>\n",
              "      <td>55804.36</td>\n",
              "      <td>1.731449</td>\n",
              "      <td>96636.546983</td>\n",
              "      <td>55812.518695</td>\n",
              "      <td>2021-03-29</td>\n",
              "    </tr>\n",
              "    <tr>\n",
              "      <th>4854497</th>\n",
              "      <td>1616976060</td>\n",
              "      <td>55822.98</td>\n",
              "      <td>55857.28</td>\n",
              "      <td>55822.98</td>\n",
              "      <td>55857.28</td>\n",
              "      <td>0.589603</td>\n",
              "      <td>32931.781301</td>\n",
              "      <td>55854.182542</td>\n",
              "      <td>2021-03-29</td>\n",
              "    </tr>\n",
              "    <tr>\n",
              "      <th>4854498</th>\n",
              "      <td>1616976120</td>\n",
              "      <td>55822.98</td>\n",
              "      <td>55829.04</td>\n",
              "      <td>55766.15</td>\n",
              "      <td>55779.04</td>\n",
              "      <td>2.729659</td>\n",
              "      <td>152263.034630</td>\n",
              "      <td>55780.964698</td>\n",
              "      <td>2021-03-29</td>\n",
              "    </tr>\n",
              "    <tr>\n",
              "      <th>4854500</th>\n",
              "      <td>1616976240</td>\n",
              "      <td>55766.15</td>\n",
              "      <td>55768.63</td>\n",
              "      <td>55766.15</td>\n",
              "      <td>55768.63</td>\n",
              "      <td>0.023738</td>\n",
              "      <td>1323.776861</td>\n",
              "      <td>55766.455065</td>\n",
              "      <td>2021-03-29</td>\n",
              "    </tr>\n",
              "  </tbody>\n",
              "</table>\n",
              "</div>"
            ],
            "text/plain": [
              "          Timestamp      Open  ...  Weighted_Price        Date\n",
              "4854496  1616976000  55790.28  ...    55812.518695  2021-03-29\n",
              "4854497  1616976060  55822.98  ...    55854.182542  2021-03-29\n",
              "4854498  1616976120  55822.98  ...    55780.964698  2021-03-29\n",
              "4854500  1616976240  55766.15  ...    55766.455065  2021-03-29\n",
              "\n",
              "[4 rows x 9 columns]"
            ]
          },
          "metadata": {
            "tags": []
          },
          "execution_count": 4
        }
      ]
    },
    {
      "cell_type": "code",
      "metadata": {
        "colab": {
          "base_uri": "https://localhost:8080/"
        },
        "id": "WsOfYGPxhOfd",
        "outputId": "b555b9b0-4a46-488b-c2ec-b68862b95cfb"
      },
      "source": [
        "# Dimenzije DataFrame-a\n",
        "\n",
        "data.shape"
      ],
      "execution_count": 5,
      "outputs": [
        {
          "output_type": "execute_result",
          "data": {
            "text/plain": [
              "(2872, 9)"
            ]
          },
          "metadata": {
            "tags": []
          },
          "execution_count": 5
        }
      ]
    },
    {
      "cell_type": "markdown",
      "metadata": {
        "id": "vKO7qcE2jowR"
      },
      "source": [
        "## **Podela skupa, vizualizacija, priprema trening skupa**\n",
        "\n"
      ]
    },
    {
      "cell_type": "markdown",
      "metadata": {
        "id": "uJHmdAZWkeLL"
      },
      "source": [
        "### **Podela skupa podataka**"
      ]
    },
    {
      "cell_type": "code",
      "metadata": {
        "id": "dhZQvDybJsOg"
      },
      "source": [
        "# Definicija funkcije za podelu podataka na train i test skup\n",
        "\n",
        "def data_split(data, test_size = 0, days_to_predict = 0):\n",
        "\n",
        "  if test_size == 0 and days_to_predict == 0:\n",
        "    print('Uneti vrednost za jedan od parametara test_size ili days_to_predict.\\n')\n",
        "    return\n",
        "  elif test_size == 0: # dato je days_to_predict\n",
        "    test_limit = len(data) - prediction_days\n",
        "  else: # dato je test_size ili oba parametra\n",
        "    test_limit = len(data) - int(test_size * len(data))\n",
        "\n",
        "  train = data[:test_limit]\n",
        "  test = data[test_limit:]\n",
        "  \n",
        "  return train, test"
      ],
      "execution_count": 6,
      "outputs": []
    },
    {
      "cell_type": "code",
      "metadata": {
        "id": "1n5kOU90PBHd"
      },
      "source": [
        "# Podela inicijalnog skupa podataka na train i test skup\n",
        "\n",
        "train, test = data_split(data, test_size = 0.2, days_to_predict = 0)"
      ],
      "execution_count": 7,
      "outputs": []
    },
    {
      "cell_type": "code",
      "metadata": {
        "colab": {
          "base_uri": "https://localhost:8080/"
        },
        "id": "juNgJZG7cnQS",
        "outputId": "0f914a96-d087-4b78-ab0d-01363365c148"
      },
      "source": [
        "# Dimenzije train i test skupa\n",
        "\n",
        "train.shape, test.shape"
      ],
      "execution_count": 8,
      "outputs": [
        {
          "output_type": "execute_result",
          "data": {
            "text/plain": [
              "((2298, 9), (574, 9))"
            ]
          },
          "metadata": {
            "tags": []
          },
          "execution_count": 8
        }
      ]
    },
    {
      "cell_type": "markdown",
      "metadata": {
        "id": "ttRI2EHVkikR"
      },
      "source": [
        "### **Vizualizacija podataka**"
      ]
    },
    {
      "cell_type": "code",
      "metadata": {
        "id": "rCH1LLR7hUWc"
      },
      "source": [
        "# Definicija funkcije za vizuelni prikaz train i test podataka\n",
        "\n",
        "def plot_data(train_data = train['Close'], test_data = test['Close']):\n",
        "\n",
        "  fig, ax = plt.subplots(1, figsize=(16, 9))\n",
        "  ax.plot(train_data, label='trening', linewidth=2)\n",
        "  ax.plot(test_data, label='test', linewidth=2)\n",
        "  ax.set_ylabel('cena [USD]', fontsize=14)\n",
        "  ax.set_title(label = 'Vizuelni prikaz skupova za trening i test', fontsize=18)\n",
        "  ax.legend(loc='best', fontsize=18)\n",
        "\n",
        "  #data = data.reset_index()\n",
        "  #x = data.index\n",
        "  #ax.set_xticks(range(87724))\n"
      ],
      "execution_count": 9,
      "outputs": []
    },
    {
      "cell_type": "code",
      "metadata": {
        "colab": {
          "base_uri": "https://localhost:8080/",
          "height": 467
        },
        "id": "vlwad6fjfGSU",
        "outputId": "6cbfe1cb-21d0-4851-b850-f29dde1d2972"
      },
      "source": [
        "# Plotovanje train i test skupa podataka\n",
        "\n",
        "plot_data(train_data = train['Close'], test_data = test['Close'])"
      ],
      "execution_count": 10,
      "outputs": [
        {
          "output_type": "display_data",
          "data": {
            "image/png": "[encoded data removed]",
            "text/plain": [
              "<Figure size 1152x648 with 1 Axes>"
            ]
          },
          "metadata": {
            "tags": [],
            "needs_background": "light"
          }
        }
      ]
    },
    {
      "cell_type": "markdown",
      "metadata": {
        "id": "dZw1y3Dxk1bt"
      },
      "source": [
        "### **Priprema trening skupa**"
      ]
    },
    {
      "cell_type": "markdown",
      "metadata": {
        "id": "vI9Ehz9mlQu2"
      },
      "source": [
        "**Filtriranje atributa train skupa**"
      ]
    },
    {
      "cell_type": "code",
      "metadata": {
        "colab": {
          "base_uri": "https://localhost:8080/",
          "height": 202
        },
        "id": "bLfZvfLHiph9",
        "outputId": "735cdb11-b431-441c-8da2-06d864468948"
      },
      "source": [
        "# Izbacivanje nepotrebnih kolona (atributa) iz train skupa\n",
        "\n",
        "train_ = train.drop(['Date', 'Volume_(BTC)', 'Volume_(Currency)', 'Weighted_Price', 'Timestamp'], axis = 1)\n",
        "train_.head()"
      ],
      "execution_count": 11,
      "outputs": [
        {
          "output_type": "execute_result",
          "data": {
            "text/html": [
              "<div>\n",
              "<style scoped>\n",
              "    .dataframe tbody tr th:only-of-type {\n",
              "        vertical-align: middle;\n",
              "    }\n",
              "\n",
              "    .dataframe tbody tr th {\n",
              "        vertical-align: top;\n",
              "    }\n",
              "\n",
              "    .dataframe thead th {\n",
              "        text-align: right;\n",
              "    }\n",
              "</style>\n",
              "<table border=\"1\" class=\"dataframe\">\n",
              "  <thead>\n",
              "    <tr style=\"text-align: right;\">\n",
              "      <th></th>\n",
              "      <th>Open</th>\n",
              "      <th>High</th>\n",
              "      <th>Low</th>\n",
              "      <th>Close</th>\n",
              "    </tr>\n",
              "  </thead>\n",
              "  <tbody>\n",
              "    <tr>\n",
              "      <th>4854496</th>\n",
              "      <td>55790.28</td>\n",
              "      <td>55822.98</td>\n",
              "      <td>55777.98</td>\n",
              "      <td>55804.36</td>\n",
              "    </tr>\n",
              "    <tr>\n",
              "      <th>4854497</th>\n",
              "      <td>55822.98</td>\n",
              "      <td>55857.28</td>\n",
              "      <td>55822.98</td>\n",
              "      <td>55857.28</td>\n",
              "    </tr>\n",
              "    <tr>\n",
              "      <th>4854498</th>\n",
              "      <td>55822.98</td>\n",
              "      <td>55829.04</td>\n",
              "      <td>55766.15</td>\n",
              "      <td>55779.04</td>\n",
              "    </tr>\n",
              "    <tr>\n",
              "      <th>4854500</th>\n",
              "      <td>55766.15</td>\n",
              "      <td>55768.63</td>\n",
              "      <td>55766.15</td>\n",
              "      <td>55768.63</td>\n",
              "    </tr>\n",
              "    <tr>\n",
              "      <th>4854501</th>\n",
              "      <td>55770.46</td>\n",
              "      <td>55778.48</td>\n",
              "      <td>55736.83</td>\n",
              "      <td>55742.20</td>\n",
              "    </tr>\n",
              "  </tbody>\n",
              "</table>\n",
              "</div>"
            ],
            "text/plain": [
              "             Open      High       Low     Close\n",
              "4854496  55790.28  55822.98  55777.98  55804.36\n",
              "4854497  55822.98  55857.28  55822.98  55857.28\n",
              "4854498  55822.98  55829.04  55766.15  55779.04\n",
              "4854500  55766.15  55768.63  55766.15  55768.63\n",
              "4854501  55770.46  55778.48  55736.83  55742.20"
            ]
          },
          "metadata": {
            "tags": []
          },
          "execution_count": 11
        }
      ]
    },
    {
      "cell_type": "code",
      "metadata": {
        "colab": {
          "base_uri": "https://localhost:8080/"
        },
        "id": "_iWrck9Mvy_W",
        "outputId": "541b0f6e-5daf-4d25-bd10-6334ba655581"
      },
      "source": [
        "# Dimenzije train skupa - pre i nakon izbacivanja atributa\n",
        "\n",
        "train.shape, train_.shape"
      ],
      "execution_count": 12,
      "outputs": [
        {
          "output_type": "execute_result",
          "data": {
            "text/plain": [
              "((2298, 9), (2298, 4))"
            ]
          },
          "metadata": {
            "tags": []
          },
          "execution_count": 12
        }
      ]
    },
    {
      "cell_type": "markdown",
      "metadata": {
        "id": "aos7IhTSlJ_c"
      },
      "source": [
        "**Skaliranje train skupa**"
      ]
    },
    {
      "cell_type": "code",
      "metadata": {
        "colab": {
          "base_uri": "https://localhost:8080/"
        },
        "id": "3F3uP_YAjuAb",
        "outputId": "824efc34-03e0-4479-b43b-95fac971d736"
      },
      "source": [
        "# Skaliranje trening skupa\n",
        "\n",
        "scaler = MinMaxScaler(feature_range=(0, 1))\n",
        "train_ = scaler.fit_transform(train_)\n",
        "train_"
      ],
      "execution_count": 13,
      "outputs": [
        {
          "output_type": "execute_result",
          "data": {
            "text/plain": [
              "array([[0.19623695, 0.19759843, 0.19855917, 0.19947492],\n",
              "       [0.20360885, 0.20531712, 0.20864901, 0.21134984],\n",
              "       [0.20360885, 0.19896214, 0.19590666, 0.19379327],\n",
              "       ...,\n",
              "       [0.87116751, 0.8639553 , 0.8525515 , 0.84805843],\n",
              "       [0.8526611 , 0.84802735, 0.84700433, 0.84788789],\n",
              "       [0.84887821, 0.86245207, 0.85042142, 0.86661356]])"
            ]
          },
          "metadata": {
            "tags": []
          },
          "execution_count": 13
        }
      ]
    },
    {
      "cell_type": "markdown",
      "metadata": {
        "id": "InbjlC2IlFqc"
      },
      "source": [
        "**Odredjivanje ciljne promenljive na train skupu**"
      ]
    },
    {
      "cell_type": "code",
      "metadata": {
        "id": "4x8ADxLLj2Gh"
      },
      "source": [
        "# Odredjivanje ciljne promenljive na train skupu\n",
        "\n",
        "X_train = []\n",
        "y_train = []\n",
        "\n",
        "for i in range(60, train_.shape[0]):\n",
        "    X_train.append(train_[i-60:i])\n",
        "    y_train.append(train_[i,0])"
      ],
      "execution_count": 14,
      "outputs": []
    },
    {
      "cell_type": "code",
      "metadata": {
        "id": "gAG1YTd6yw34"
      },
      "source": [
        "# Konverzija u np.array\n",
        "\n",
        "X_train, y_train = np.array(X_train), np.array(y_train)"
      ],
      "execution_count": 15,
      "outputs": []
    },
    {
      "cell_type": "code",
      "metadata": {
        "colab": {
          "base_uri": "https://localhost:8080/"
        },
        "id": "uJ-ULtT3y1vi",
        "outputId": "5941ad8a-bfd1-49cc-d74c-7c2731fa14f1"
      },
      "source": [
        "# Dimenzije X_train\n",
        "\n",
        "X_train.shape"
      ],
      "execution_count": 16,
      "outputs": [
        {
          "output_type": "execute_result",
          "data": {
            "text/plain": [
              "(2238, 60, 4)"
            ]
          },
          "metadata": {
            "tags": []
          },
          "execution_count": 16
        }
      ]
    },
    {
      "cell_type": "markdown",
      "metadata": {
        "id": "v38-_t3flcLM"
      },
      "source": [
        "## **Kreiranje, kompilacija i treniranje mreze**"
      ]
    },
    {
      "cell_type": "markdown",
      "metadata": {
        "id": "HNthz4cil_oG"
      },
      "source": [
        "### **Kreiranje mreze**"
      ]
    },
    {
      "cell_type": "code",
      "metadata": {
        "id": "lfeVY4ggy3Az"
      },
      "source": [
        "# Definicija funkcije koja kreira i vraca model mreze\n",
        "\n",
        "def build_net(input_1 = X_train.shape[1], input_2 = X_train.shape[2]):\n",
        "\n",
        "  net = Sequential()\n",
        "  net.add(LSTM(units = 50, activation = 'relu', return_sequences = True, input_shape = (input_1, input_2)))\n",
        "  net.add(Dropout(0.2))\n",
        "  net.add(LSTM(units = 60, activation = 'relu', return_sequences = True))\n",
        "  net.add(Dropout(0.3))\n",
        "\n",
        "  net.add(LSTM(units = 80, activation = 'relu', return_sequences = True))\n",
        "  net.add(Dropout(0.4))\n",
        "\n",
        "  net.add(LSTM(units = 120, activation = 'relu'))\n",
        "  net.add(Dropout(0.5))\n",
        "\n",
        "  net.add(Dense(units =1))\n",
        "  print(net.summary())\n",
        "\n",
        "  return net\n"
      ],
      "execution_count": 17,
      "outputs": []
    },
    {
      "cell_type": "code",
      "metadata": {
        "colab": {
          "base_uri": "https://localhost:8080/"
        },
        "id": "1UBUjLyNh5KP",
        "outputId": "d3b75c0c-9cc6-48ac-9063-249d33ace255"
      },
      "source": [
        "# Kreiranje modela mreze\n",
        "\n",
        "net = build_net(input_1 = X_train.shape[1], input_2 = X_train.shape[2])"
      ],
      "execution_count": 18,
      "outputs": [
        {
          "output_type": "stream",
          "text": [
            "Model: \"sequential\"\n",
            "_________________________________________________________________\n",
            "Layer (type)                 Output Shape              Param #   \n",
            "=================================================================\n",
            "lstm (LSTM)                  (None, 60, 50)            11000     \n",
            "_________________________________________________________________\n",
            "dropout (Dropout)            (None, 60, 50)            0         \n",
            "_________________________________________________________________\n",
            "lstm_1 (LSTM)                (None, 60, 60)            26640     \n",
            "_________________________________________________________________\n",
            "dropout_1 (Dropout)          (None, 60, 60)            0         \n",
            "_________________________________________________________________\n",
            "lstm_2 (LSTM)                (None, 60, 80)            45120     \n",
            "_________________________________________________________________\n",
            "dropout_2 (Dropout)          (None, 60, 80)            0         \n",
            "_________________________________________________________________\n",
            "lstm_3 (LSTM)                (None, 120)               96480     \n",
            "_________________________________________________________________\n",
            "dropout_3 (Dropout)          (None, 120)               0         \n",
            "_________________________________________________________________\n",
            "dense (Dense)                (None, 1)                 121       \n",
            "=================================================================\n",
            "Total params: 179,361\n",
            "Trainable params: 179,361\n",
            "Non-trainable params: 0\n",
            "_________________________________________________________________\n",
            "None\n"
          ],
          "name": "stdout"
        }
      ]
    },
    {
      "cell_type": "markdown",
      "metadata": {
        "id": "30h12bNEmP83"
      },
      "source": [
        "### **Kompilacija i treniranje mreze**"
      ]
    },
    {
      "cell_type": "code",
      "metadata": {
        "id": "W1PIqBXAb8LA"
      },
      "source": [
        "# Definicija funkcije za kompilaciju i treniranje mreze\n",
        "# Treniranje je moguce vrsiti sa ili bez validacije\n",
        "\n",
        "def compile_and_fit(optimizer = 'adam', loss = 'mean_squared_error', metrics = ['accuracy', 'mae'], X_train_ = X_train, y_train_ = y_train, epochs = 20, validation = 0.1, batch_size = 50):\n",
        "\n",
        "  net.compile(optimizer = optimizer, loss = loss, metrics = metrics)\n",
        "\n",
        "  if validation == 0:\n",
        "    history = net.fit(X_train_, y_train_, epochs = epochs, batch_size = batch_size)\n",
        "  else:\n",
        "    history = net.fit(X_train_, y_train_, epochs = epochs, validation_split = validation, batch_size = batch_size)\n",
        "\n",
        "  return history, net\n"
      ],
      "execution_count": 19,
      "outputs": []
    },
    {
      "cell_type": "code",
      "metadata": {
        "colab": {
          "base_uri": "https://localhost:8080/"
        },
        "id": "VWL-DLbIlrbw",
        "outputId": "3b93c75b-69be-4d62-95e7-a7aa735ab496"
      },
      "source": [
        "# Kompilacija i treniranje mreze sa validacijom\n",
        "\n",
        "history_validation, net_validation = compile_and_fit(optimizer = 'adam', loss = 'mean_squared_error', metrics = ['accuracy', 'mae'], X_train_ = X_train, y_train_ = y_train, epochs = 20, validation = 0.1, batch_size = 50)\n",
        "\n",
        "\n",
        "# Kompilacija i treniranje mreze bez validacije\n",
        "\n",
        "history_no_validation, net_no_validation = compile_and_fit(optimizer = 'adam', loss = 'mean_squared_error', metrics = ['accuracy', 'mae'], X_train_ = X_train, y_train_ = y_train, epochs = 20, validation = 0, batch_size = 50)\n"
      ],
      "execution_count": 20,
      "outputs": [
        {
          "output_type": "stream",
          "text": [
            "Epoch 1/20\n",
            "41/41 [==============================] - 38s 247ms/step - loss: 0.1456 - accuracy: 4.8094e-04 - mae: 0.3063 - val_loss: 0.0437 - val_accuracy: 0.0045 - val_mae: 0.2075\n",
            "Epoch 2/20\n",
            "41/41 [==============================] - 8s 194ms/step - loss: 0.0162 - accuracy: 6.0290e-05 - mae: 0.1036 - val_loss: 7.8810e-04 - val_accuracy: 0.0045 - val_mae: 0.0226\n",
            "Epoch 3/20\n",
            "41/41 [==============================] - 8s 191ms/step - loss: 0.0105 - accuracy: 0.0013 - mae: 0.0780 - val_loss: 0.0123 - val_accuracy: 0.0045 - val_mae: 0.1080\n",
            "Epoch 4/20\n",
            "41/41 [==============================] - 8s 193ms/step - loss: 0.0087 - accuracy: 0.0011 - mae: 0.0703 - val_loss: 0.0014 - val_accuracy: 0.0045 - val_mae: 0.0308\n",
            "Epoch 5/20\n",
            "41/41 [==============================] - 8s 192ms/step - loss: 0.0078 - accuracy: 9.7374e-04 - mae: 0.0667 - val_loss: 0.0050 - val_accuracy: 0.0045 - val_mae: 0.0662\n",
            "Epoch 6/20\n",
            "41/41 [==============================] - 8s 192ms/step - loss: 0.0075 - accuracy: 1.7454e-04 - mae: 0.0657 - val_loss: 0.0157 - val_accuracy: 0.0045 - val_mae: 0.1228\n",
            "Epoch 7/20\n",
            "41/41 [==============================] - 8s 193ms/step - loss: 0.0066 - accuracy: 0.0012 - mae: 0.0611 - val_loss: 0.0138 - val_accuracy: 0.0045 - val_mae: 0.1148\n",
            "Epoch 8/20\n",
            "41/41 [==============================] - 8s 193ms/step - loss: 0.0083 - accuracy: 2.4392e-04 - mae: 0.0678 - val_loss: 0.0121 - val_accuracy: 0.0045 - val_mae: 0.1072\n",
            "Epoch 9/20\n",
            "41/41 [==============================] - 8s 194ms/step - loss: 0.0067 - accuracy: 3.4784e-04 - mae: 0.0624 - val_loss: 0.0185 - val_accuracy: 0.0045 - val_mae: 0.1340\n",
            "Epoch 10/20\n",
            "41/41 [==============================] - 8s 194ms/step - loss: 0.0061 - accuracy: 8.2635e-04 - mae: 0.0593 - val_loss: 0.0266 - val_accuracy: 0.0045 - val_mae: 0.1614\n",
            "Epoch 11/20\n",
            "41/41 [==============================] - 8s 194ms/step - loss: 0.0065 - accuracy: 4.8094e-04 - mae: 0.0606 - val_loss: 0.0331 - val_accuracy: 0.0045 - val_mae: 0.1804\n",
            "Epoch 12/20\n",
            "41/41 [==============================] - 8s 193ms/step - loss: 0.0064 - accuracy: 1.7454e-04 - mae: 0.0600 - val_loss: 0.0298 - val_accuracy: 0.0045 - val_mae: 0.1711\n",
            "Epoch 13/20\n",
            "41/41 [==============================] - 8s 193ms/step - loss: 0.0069 - accuracy: 4.7759e-05 - mae: 0.0631 - val_loss: 0.0248 - val_accuracy: 0.0045 - val_mae: 0.1556\n",
            "Epoch 14/20\n",
            "41/41 [==============================] - 8s 195ms/step - loss: 0.0058 - accuracy: 1.7454e-04 - mae: 0.0575 - val_loss: 0.0270 - val_accuracy: 0.0045 - val_mae: 0.1626\n",
            "Epoch 15/20\n",
            "41/41 [==============================] - 8s 195ms/step - loss: 0.0060 - accuracy: 1.1400e-04 - mae: 0.0595 - val_loss: 0.0246 - val_accuracy: 0.0045 - val_mae: 0.1552\n",
            "Epoch 16/20\n",
            "41/41 [==============================] - 8s 195ms/step - loss: 0.0057 - accuracy: 6.6630e-04 - mae: 0.0561 - val_loss: 0.0228 - val_accuracy: 0.0045 - val_mae: 0.1493\n",
            "Epoch 17/20\n",
            "41/41 [==============================] - 8s 193ms/step - loss: 0.0057 - accuracy: 0.0012 - mae: 0.0566 - val_loss: 0.0502 - val_accuracy: 0.0045 - val_mae: 0.2229\n",
            "Epoch 18/20\n",
            "41/41 [==============================] - 8s 193ms/step - loss: 0.0062 - accuracy: 4.2316e-04 - mae: 0.0582 - val_loss: 0.0276 - val_accuracy: 0.0045 - val_mae: 0.1646\n",
            "Epoch 19/20\n",
            "41/41 [==============================] - 8s 193ms/step - loss: 0.0051 - accuracy: 3.2516e-04 - mae: 0.0537 - val_loss: 0.0269 - val_accuracy: 0.0045 - val_mae: 0.1623\n",
            "Epoch 20/20\n",
            "41/41 [==============================] - 8s 193ms/step - loss: 0.0053 - accuracy: 7.1392e-04 - mae: 0.0543 - val_loss: 0.0235 - val_accuracy: 0.0045 - val_mae: 0.1515\n",
            "Epoch 1/20\n",
            "45/45 [==============================] - 15s 190ms/step - loss: 0.0095 - accuracy: 3.6129e-04 - mae: 0.0734\n",
            "Epoch 2/20\n",
            "45/45 [==============================] - 8s 188ms/step - loss: 0.0067 - accuracy: 7.3556e-04 - mae: 0.0614\n",
            "Epoch 3/20\n",
            "45/45 [==============================] - 9s 190ms/step - loss: 0.0057 - accuracy: 1.2181e-04 - mae: 0.0572\n",
            "Epoch 4/20\n",
            "45/45 [==============================] - 9s 189ms/step - loss: 0.0060 - accuracy: 3.4522e-04 - mae: 0.0578\n",
            "Epoch 5/20\n",
            "45/45 [==============================] - 8s 188ms/step - loss: 0.0050 - accuracy: 0.0011 - mae: 0.0533\n",
            "Epoch 6/20\n",
            "45/45 [==============================] - 8s 188ms/step - loss: 0.0055 - accuracy: 0.0013 - mae: 0.0549\n",
            "Epoch 7/20\n",
            "45/45 [==============================] - 8s 188ms/step - loss: 0.0055 - accuracy: 6.3177e-04 - mae: 0.0555\n",
            "Epoch 8/20\n",
            "45/45 [==============================] - 8s 188ms/step - loss: 0.0051 - accuracy: 2.6164e-04 - mae: 0.0536\n",
            "Epoch 9/20\n",
            "45/45 [==============================] - 9s 189ms/step - loss: 0.0049 - accuracy: 9.6306e-04 - mae: 0.0524\n",
            "Epoch 10/20\n",
            "45/45 [==============================] - 9s 189ms/step - loss: 0.0048 - accuracy: 8.8878e-04 - mae: 0.0520\n",
            "Epoch 11/20\n",
            "45/45 [==============================] - 9s 190ms/step - loss: 0.0041 - accuracy: 7.9128e-04 - mae: 0.0491\n",
            "Epoch 12/20\n",
            "45/45 [==============================] - 9s 191ms/step - loss: 0.0037 - accuracy: 4.4293e-04 - mae: 0.0462\n",
            "Epoch 13/20\n",
            "45/45 [==============================] - 8s 189ms/step - loss: 0.0037 - accuracy: 9.3709e-04 - mae: 0.0472\n",
            "Epoch 14/20\n",
            "45/45 [==============================] - 8s 188ms/step - loss: 0.0040 - accuracy: 2.5203e-04 - mae: 0.0488\n",
            "Epoch 15/20\n",
            "45/45 [==============================] - 8s 188ms/step - loss: 0.0035 - accuracy: 5.1111e-04 - mae: 0.0458\n",
            "Epoch 16/20\n",
            "45/45 [==============================] - 9s 190ms/step - loss: 0.0038 - accuracy: 4.9015e-04 - mae: 0.0463\n",
            "Epoch 17/20\n",
            "45/45 [==============================] - 9s 189ms/step - loss: 0.0032 - accuracy: 3.6498e-04 - mae: 0.0441\n",
            "Epoch 18/20\n",
            "45/45 [==============================] - 9s 189ms/step - loss: 0.0035 - accuracy: 0.0012 - mae: 0.0454\n",
            "Epoch 19/20\n",
            "45/45 [==============================] - 8s 188ms/step - loss: 0.0034 - accuracy: 9.0857e-04 - mae: 0.0450\n",
            "Epoch 20/20\n",
            "45/45 [==============================] - 9s 189ms/step - loss: 0.0035 - accuracy: 0.0014 - mae: 0.0451\n"
          ],
          "name": "stdout"
        }
      ]
    },
    {
      "cell_type": "markdown",
      "metadata": {
        "id": "3wdUsbdgnIdP"
      },
      "source": [
        "## **Priprema test skupa**"
      ]
    },
    {
      "cell_type": "markdown",
      "metadata": {
        "id": "gbS6pt_LnUdP"
      },
      "source": [
        "### **Filtriranje atributa test skupa**"
      ]
    },
    {
      "cell_type": "code",
      "metadata": {
        "id": "XP-aXyi7MbNA"
      },
      "source": [
        "# Izbacivanje nepotrebnih kolona (atributa) iz test skupa\n",
        "\n",
        "test_ = test.drop(['Date', 'Volume_(BTC)', 'Volume_(Currency)', 'Weighted_Price', 'Timestamp'], axis = 1)\n"
      ],
      "execution_count": 21,
      "outputs": []
    },
    {
      "cell_type": "markdown",
      "metadata": {
        "id": "jBcsPYFgryj9"
      },
      "source": [
        "### **Skaliranje test skupa**"
      ]
    },
    {
      "cell_type": "code",
      "metadata": {
        "id": "3nS3LkG4rl0B"
      },
      "source": [
        "# Skaliranje test skupa\n",
        "\n",
        "test_ = scaler.transform(test_)"
      ],
      "execution_count": 22,
      "outputs": []
    },
    {
      "cell_type": "markdown",
      "metadata": {
        "id": "MxVP5EpOr4fL"
      },
      "source": [
        "### **Odredjivanje ciljne promenljive na test skupu**"
      ]
    },
    {
      "cell_type": "code",
      "metadata": {
        "id": "M09aM4LOrnrr"
      },
      "source": [
        "# Odredjivanje ciljne (target) promenljive na test skupu\n",
        "\n",
        "X_test = []\n",
        "y_test = []\n",
        "\n",
        "for i in range(60, test_.shape[0]):\n",
        "    X_test.append(test_[i-60:i])\n",
        "    y_test.append(test_[i,0])\n",
        "    "
      ],
      "execution_count": 23,
      "outputs": []
    },
    {
      "cell_type": "code",
      "metadata": {
        "id": "QGBTTxYTrqK9"
      },
      "source": [
        "# Konverzija u np.array\n",
        "\n",
        "X_test, y_test = np.array(X_test), np.array(y_test)"
      ],
      "execution_count": 24,
      "outputs": []
    },
    {
      "cell_type": "markdown",
      "metadata": {
        "id": "pjo3QnGVsKpt"
      },
      "source": [
        "## **Predvidjanje**"
      ]
    },
    {
      "cell_type": "code",
      "metadata": {
        "colab": {
          "base_uri": "https://localhost:8080/"
        },
        "id": "IkU6jqFNrrUZ",
        "outputId": "af3b0632-ad45-4862-cef7-12fd945fd765"
      },
      "source": [
        "# Predvidjanje za mrezu treniranu bez i sa validacijom\n",
        "\n",
        "# Bez validacije\n",
        "y_predicted_no_validation = net_no_validation.predict(X_test)\n",
        "print('Predvidjene vrednosti - bez validacije:\\n', y_predicted_no_validation)\n",
        "\n",
        "# Sa validacijom\n",
        "y_predicted_validation = net_validation.predict(X_test)\n",
        "print('\\nPredvidjene vrednosti - sa validacijom:\\n', y_predicted_validation)"
      ],
      "execution_count": 25,
      "outputs": [
        {
          "output_type": "stream",
          "text": [
            "Predvidjene vrednosti - bez validacije:\n",
            " [[0.7169548 ]\n",
            " [0.7162796 ]\n",
            " [0.7151812 ]\n",
            " [0.7138021 ]\n",
            " [0.71231747]\n",
            " [0.7108206 ]\n",
            " [0.70935774]\n",
            " [0.7079239 ]\n",
            " [0.7065059 ]\n",
            " [0.7051394 ]\n",
            " [0.70386237]\n",
            " [0.7026554 ]\n",
            " [0.70147055]\n",
            " [0.70027643]\n",
            " [0.69901377]\n",
            " [0.6976218 ]\n",
            " [0.6961418 ]\n",
            " [0.694721  ]\n",
            " [0.6934972 ]\n",
            " [0.69256204]\n",
            " [0.69197404]\n",
            " [0.6916999 ]\n",
            " [0.6916627 ]\n",
            " [0.6917404 ]\n",
            " [0.6917853 ]\n",
            " [0.69166476]\n",
            " [0.6912267 ]\n",
            " [0.69028306]\n",
            " [0.68879414]\n",
            " [0.6868263 ]\n",
            " [0.6845213 ]\n",
            " [0.68201464]\n",
            " [0.6794614 ]\n",
            " [0.6770864 ]\n",
            " [0.67510355]\n",
            " [0.6735341 ]\n",
            " [0.67241335]\n",
            " [0.6717957 ]\n",
            " [0.6716059 ]\n",
            " [0.671615  ]\n",
            " [0.6715789 ]\n",
            " [0.67133987]\n",
            " [0.67090195]\n",
            " [0.6703919 ]\n",
            " [0.6699716 ]\n",
            " [0.6698692 ]\n",
            " [0.6703353 ]\n",
            " [0.6714295 ]\n",
            " [0.67298865]\n",
            " [0.6748306 ]\n",
            " [0.6768422 ]\n",
            " [0.67891383]\n",
            " [0.6808992 ]\n",
            " [0.68272483]\n",
            " [0.68442553]\n",
            " [0.68598366]\n",
            " [0.6873334 ]\n",
            " [0.6883598 ]\n",
            " [0.68901557]\n",
            " [0.6892724 ]\n",
            " [0.6891033 ]\n",
            " [0.6885506 ]\n",
            " [0.68777806]\n",
            " [0.6869902 ]\n",
            " [0.6863977 ]\n",
            " [0.68611753]\n",
            " [0.68617725]\n",
            " [0.6865692 ]\n",
            " [0.6872109 ]\n",
            " [0.6880238 ]\n",
            " [0.6888634 ]\n",
            " [0.6895891 ]\n",
            " [0.690133  ]\n",
            " [0.6904588 ]\n",
            " [0.6905611 ]\n",
            " [0.6904975 ]\n",
            " [0.690303  ]\n",
            " [0.68994486]\n",
            " [0.6893943 ]\n",
            " [0.6887437 ]\n",
            " [0.6881111 ]\n",
            " [0.6875547 ]\n",
            " [0.6871353 ]\n",
            " [0.68696404]\n",
            " [0.6872525 ]\n",
            " [0.68810827]\n",
            " [0.68946755]\n",
            " [0.6911553 ]\n",
            " [0.69296634]\n",
            " [0.69469005]\n",
            " [0.69617426]\n",
            " [0.69729686]\n",
            " [0.6979506 ]\n",
            " [0.69809586]\n",
            " [0.6977329 ]\n",
            " [0.6970043 ]\n",
            " [0.69613314]\n",
            " [0.6953376 ]\n",
            " [0.69484   ]\n",
            " [0.6947549 ]\n",
            " [0.69504356]\n",
            " [0.69567454]\n",
            " [0.69650495]\n",
            " [0.69735044]\n",
            " [0.6980819 ]\n",
            " [0.698591  ]\n",
            " [0.69880146]\n",
            " [0.6987879 ]\n",
            " [0.6986838 ]\n",
            " [0.69856215]\n",
            " [0.6984382 ]\n",
            " [0.69829005]\n",
            " [0.6981362 ]\n",
            " [0.6980808 ]\n",
            " [0.6982498 ]\n",
            " [0.69872564]\n",
            " [0.6995904 ]\n",
            " [0.70083916]\n",
            " [0.7023736 ]\n",
            " [0.70407027]\n",
            " [0.70587456]\n",
            " [0.70771515]\n",
            " [0.70946634]\n",
            " [0.7110388 ]\n",
            " [0.7123352 ]\n",
            " [0.7132765 ]\n",
            " [0.713822  ]\n",
            " [0.713994  ]\n",
            " [0.7138443 ]\n",
            " [0.71346426]\n",
            " [0.7129513 ]\n",
            " [0.71245915]\n",
            " [0.7121189 ]\n",
            " [0.7120065 ]\n",
            " [0.712132  ]\n",
            " [0.7124685 ]\n",
            " [0.71295166]\n",
            " [0.7134825 ]\n",
            " [0.7139743 ]\n",
            " [0.7143428 ]\n",
            " [0.7145101 ]\n",
            " [0.7144624 ]\n",
            " [0.71428037]\n",
            " [0.7140442 ]\n",
            " [0.7137785 ]\n",
            " [0.7134805 ]\n",
            " [0.7131664 ]\n",
            " [0.71286654]\n",
            " [0.7126165 ]\n",
            " [0.7124153 ]\n",
            " [0.7122297 ]\n",
            " [0.71198744]\n",
            " [0.71160066]\n",
            " [0.71094126]\n",
            " [0.7099893 ]\n",
            " [0.7088095 ]\n",
            " [0.7074886 ]\n",
            " [0.70620275]\n",
            " [0.70511794]\n",
            " [0.70437264]\n",
            " [0.7040578 ]\n",
            " [0.7042829 ]\n",
            " [0.70522845]\n",
            " [0.70702505]\n",
            " [0.7097836 ]\n",
            " [0.7135826 ]\n",
            " [0.7182859 ]\n",
            " [0.7235636 ]\n",
            " [0.72902334]\n",
            " [0.73433673]\n",
            " [0.7392344 ]\n",
            " [0.7435589 ]\n",
            " [0.7472077 ]\n",
            " [0.75017   ]\n",
            " [0.75243616]\n",
            " [0.75404847]\n",
            " [0.7550719 ]\n",
            " [0.7556191 ]\n",
            " [0.75584453]\n",
            " [0.7558712 ]\n",
            " [0.7557436 ]\n",
            " [0.7555141 ]\n",
            " [0.7551776 ]\n",
            " [0.7546537 ]\n",
            " [0.7539519 ]\n",
            " [0.7531258 ]\n",
            " [0.7521647 ]\n",
            " [0.75095075]\n",
            " [0.7493419 ]\n",
            " [0.7472595 ]\n",
            " [0.74473107]\n",
            " [0.7418697 ]\n",
            " [0.73887104]\n",
            " [0.7359159 ]\n",
            " [0.73312825]\n",
            " [0.7306193 ]\n",
            " [0.728451  ]\n",
            " [0.72669667]\n",
            " [0.72542566]\n",
            " [0.72465724]\n",
            " [0.7242844 ]\n",
            " [0.7242706 ]\n",
            " [0.7245721 ]\n",
            " [0.72514033]\n",
            " [0.72595143]\n",
            " [0.7269404 ]\n",
            " [0.7279558 ]\n",
            " [0.7287881 ]\n",
            " [0.7293163 ]\n",
            " [0.7294993 ]\n",
            " [0.72929555]\n",
            " [0.7286851 ]\n",
            " [0.7277289 ]\n",
            " [0.72651285]\n",
            " [0.72516114]\n",
            " [0.72380996]\n",
            " [0.7225464 ]\n",
            " [0.72140056]\n",
            " [0.7203552 ]\n",
            " [0.7194171 ]\n",
            " [0.718671  ]\n",
            " [0.7181485 ]\n",
            " [0.7177668 ]\n",
            " [0.71747315]\n",
            " [0.71726876]\n",
            " [0.71718544]\n",
            " [0.7172085 ]\n",
            " [0.71728486]\n",
            " [0.71729326]\n",
            " [0.717116  ]\n",
            " [0.7166612 ]\n",
            " [0.71596146]\n",
            " [0.7150952 ]\n",
            " [0.71412283]\n",
            " [0.7130513 ]\n",
            " [0.7118751 ]\n",
            " [0.7106501 ]\n",
            " [0.70945305]\n",
            " [0.7083607 ]\n",
            " [0.70747644]\n",
            " [0.70687944]\n",
            " [0.70657897]\n",
            " [0.7065236 ]\n",
            " [0.7067116 ]\n",
            " [0.70715   ]\n",
            " [0.70788825]\n",
            " [0.7089744 ]\n",
            " [0.710353  ]\n",
            " [0.7119234 ]\n",
            " [0.713746  ]\n",
            " [0.71596754]\n",
            " [0.718663  ]\n",
            " [0.7217742 ]\n",
            " [0.725084  ]\n",
            " [0.72837675]\n",
            " [0.73145705]\n",
            " [0.73410577]\n",
            " [0.7361339 ]\n",
            " [0.7374538 ]\n",
            " [0.73808354]\n",
            " [0.7380926 ]\n",
            " [0.7376318 ]\n",
            " [0.73689526]\n",
            " [0.736024  ]\n",
            " [0.73511183]\n",
            " [0.73423266]\n",
            " [0.7334298 ]\n",
            " [0.7327441 ]\n",
            " [0.7321987 ]\n",
            " [0.731809  ]\n",
            " [0.73161656]\n",
            " [0.7316254 ]\n",
            " [0.73183286]\n",
            " [0.7322471 ]\n",
            " [0.7329022 ]\n",
            " [0.7339281 ]\n",
            " [0.7353746 ]\n",
            " [0.73708063]\n",
            " [0.73872393]\n",
            " [0.7399951 ]\n",
            " [0.74070954]\n",
            " [0.7407483 ]\n",
            " [0.7400696 ]\n",
            " [0.7386807 ]\n",
            " [0.7365979 ]\n",
            " [0.7338536 ]\n",
            " [0.7304816 ]\n",
            " [0.7265111 ]\n",
            " [0.7220491 ]\n",
            " [0.7172858 ]\n",
            " [0.7123567 ]\n",
            " [0.7074381 ]\n",
            " [0.7028201 ]\n",
            " [0.6988187 ]\n",
            " [0.695671  ]\n",
            " [0.69356287]\n",
            " [0.6924454 ]\n",
            " [0.69215566]\n",
            " [0.6923434 ]\n",
            " [0.69257957]\n",
            " [0.69246733]\n",
            " [0.69180274]\n",
            " [0.69057536]\n",
            " [0.6888508 ]\n",
            " [0.6866772 ]\n",
            " [0.68419576]\n",
            " [0.68167317]\n",
            " [0.679315  ]\n",
            " [0.6772003 ]\n",
            " [0.67532855]\n",
            " [0.6736164 ]\n",
            " [0.6720616 ]\n",
            " [0.6707435 ]\n",
            " [0.66968447]\n",
            " [0.66891086]\n",
            " [0.66847503]\n",
            " [0.6683971 ]\n",
            " [0.66875607]\n",
            " [0.6696407 ]\n",
            " [0.67104495]\n",
            " [0.67291987]\n",
            " [0.67521596]\n",
            " [0.6778667 ]\n",
            " [0.68072855]\n",
            " [0.6836458 ]\n",
            " [0.68646693]\n",
            " [0.6889367 ]\n",
            " [0.69094205]\n",
            " [0.69251645]\n",
            " [0.6937432 ]\n",
            " [0.6946442 ]\n",
            " [0.695229  ]\n",
            " [0.6955091 ]\n",
            " [0.6954664 ]\n",
            " [0.6951074 ]\n",
            " [0.6944814 ]\n",
            " [0.69359165]\n",
            " [0.69242513]\n",
            " [0.69106257]\n",
            " [0.6896641 ]\n",
            " [0.68839306]\n",
            " [0.6873216 ]\n",
            " [0.686454  ]\n",
            " [0.68575466]\n",
            " [0.6851994 ]\n",
            " [0.68483126]\n",
            " [0.6847102 ]\n",
            " [0.6848271 ]\n",
            " [0.68517053]\n",
            " [0.6857562 ]\n",
            " [0.68656313]\n",
            " [0.6875457 ]\n",
            " [0.68864197]\n",
            " [0.68977714]\n",
            " [0.69087666]\n",
            " [0.6918665 ]\n",
            " [0.6927073 ]\n",
            " [0.693358  ]\n",
            " [0.6937748 ]\n",
            " [0.69391775]\n",
            " [0.69374144]\n",
            " [0.69323885]\n",
            " [0.69241357]\n",
            " [0.69138217]\n",
            " [0.6903055 ]\n",
            " [0.68938303]\n",
            " [0.68876785]\n",
            " [0.6884816 ]\n",
            " [0.68847513]\n",
            " [0.6886581 ]\n",
            " [0.6889575 ]\n",
            " [0.6893246 ]\n",
            " [0.6897807 ]\n",
            " [0.6903745 ]\n",
            " [0.69110674]\n",
            " [0.69198704]\n",
            " [0.6929844 ]\n",
            " [0.6940322 ]\n",
            " [0.69500595]\n",
            " [0.69581693]\n",
            " [0.69640154]\n",
            " [0.6966739 ]\n",
            " [0.6965713 ]\n",
            " [0.6961484 ]\n",
            " [0.69550323]\n",
            " [0.694758  ]\n",
            " [0.694047  ]\n",
            " [0.6934886 ]\n",
            " [0.6931606 ]\n",
            " [0.6931548 ]\n",
            " [0.693637  ]\n",
            " [0.694626  ]\n",
            " [0.69599736]\n",
            " [0.6975457 ]\n",
            " [0.6990688 ]\n",
            " [0.7004014 ]\n",
            " [0.7014638 ]\n",
            " [0.70230174]\n",
            " [0.7029906 ]\n",
            " [0.70360655]\n",
            " [0.7041776 ]\n",
            " [0.7046251 ]\n",
            " [0.7049153 ]\n",
            " [0.7051511 ]\n",
            " [0.70543945]\n",
            " [0.7058491 ]\n",
            " [0.70641977]\n",
            " [0.7072127 ]\n",
            " [0.7082633 ]\n",
            " [0.70955896]\n",
            " [0.711058  ]\n",
            " [0.7127049 ]\n",
            " [0.71441376]\n",
            " [0.71603453]\n",
            " [0.7174051 ]\n",
            " [0.71843517]\n",
            " [0.7192093 ]\n",
            " [0.71985084]\n",
            " [0.72042036]\n",
            " [0.72092426]\n",
            " [0.7213577 ]\n",
            " [0.72170293]\n",
            " [0.72191316]\n",
            " [0.721925  ]\n",
            " [0.72171056]\n",
            " [0.72126454]\n",
            " [0.72065496]\n",
            " [0.7199106 ]\n",
            " [0.71905273]\n",
            " [0.7180902 ]\n",
            " [0.71703196]\n",
            " [0.7158717 ]\n",
            " [0.7145767 ]\n",
            " [0.7131038 ]\n",
            " [0.7114645 ]\n",
            " [0.7097796 ]\n",
            " [0.708164  ]\n",
            " [0.706674  ]\n",
            " [0.7053018 ]\n",
            " [0.7040307 ]\n",
            " [0.7028645 ]\n",
            " [0.7018715 ]\n",
            " [0.7010545 ]\n",
            " [0.70036715]\n",
            " [0.6997129 ]\n",
            " [0.6989871 ]\n",
            " [0.6981653 ]\n",
            " [0.6972514 ]\n",
            " [0.6962831 ]\n",
            " [0.69528836]\n",
            " [0.6943277 ]\n",
            " [0.6934848 ]\n",
            " [0.69280285]\n",
            " [0.6922891 ]\n",
            " [0.6919264 ]\n",
            " [0.69170415]\n",
            " [0.69155145]\n",
            " [0.6913643 ]\n",
            " [0.691097  ]\n",
            " [0.69067997]\n",
            " [0.69006634]\n",
            " [0.6892748 ]\n",
            " [0.6883004 ]\n",
            " [0.687166  ]\n",
            " [0.6859529 ]\n",
            " [0.6847929 ]\n",
            " [0.68386674]\n",
            " [0.683319  ]\n",
            " [0.6832019 ]\n",
            " [0.6835251 ]\n",
            " [0.68423396]\n",
            " [0.6852066 ]\n",
            " [0.68622446]\n",
            " [0.68707824]\n",
            " [0.6876227 ]\n",
            " [0.68779   ]\n",
            " [0.6876227 ]\n",
            " [0.68720734]\n",
            " [0.6865928 ]\n",
            " [0.68582344]\n",
            " [0.6850141 ]\n",
            " [0.6843204 ]\n",
            " [0.68389386]\n",
            " [0.6838493 ]\n",
            " [0.68425554]\n",
            " [0.685126  ]\n",
            " [0.6863747 ]\n",
            " [0.6879029 ]\n",
            " [0.6895317 ]\n",
            " [0.69110245]\n",
            " [0.69240904]\n",
            " [0.69327366]\n",
            " [0.69360876]\n",
            " [0.6933599 ]\n",
            " [0.69258976]\n",
            " [0.6914066 ]\n",
            " [0.6899396 ]\n",
            " [0.6883157 ]\n",
            " [0.68664   ]\n",
            " [0.68498635]\n",
            " [0.68341064]\n",
            " [0.6820488 ]\n",
            " [0.68105423]\n",
            " [0.6805074 ]\n",
            " [0.6803736 ]\n",
            " [0.6806133 ]\n",
            " [0.6811712 ]\n",
            " [0.6820109 ]\n",
            " [0.68313926]\n",
            " [0.6845043 ]\n",
            " [0.6859758 ]\n",
            " [0.68740165]\n",
            " [0.68870294]\n",
            " [0.689914  ]]\n",
            "\n",
            "Predvidjene vrednosti - sa validacijom:\n",
            " [[0.7169548 ]\n",
            " [0.7162796 ]\n",
            " [0.7151812 ]\n",
            " [0.7138021 ]\n",
            " [0.71231747]\n",
            " [0.7108206 ]\n",
            " [0.70935774]\n",
            " [0.7079239 ]\n",
            " [0.7065059 ]\n",
            " [0.7051394 ]\n",
            " [0.70386237]\n",
            " [0.7026554 ]\n",
            " [0.70147055]\n",
            " [0.70027643]\n",
            " [0.69901377]\n",
            " [0.6976218 ]\n",
            " [0.6961418 ]\n",
            " [0.694721  ]\n",
            " [0.6934972 ]\n",
            " [0.69256204]\n",
            " [0.69197404]\n",
            " [0.6916999 ]\n",
            " [0.6916627 ]\n",
            " [0.6917404 ]\n",
            " [0.6917853 ]\n",
            " [0.69166476]\n",
            " [0.6912267 ]\n",
            " [0.69028306]\n",
            " [0.68879414]\n",
            " [0.6868263 ]\n",
            " [0.6845213 ]\n",
            " [0.68201464]\n",
            " [0.6794614 ]\n",
            " [0.6770864 ]\n",
            " [0.67510355]\n",
            " [0.6735341 ]\n",
            " [0.67241335]\n",
            " [0.6717957 ]\n",
            " [0.6716059 ]\n",
            " [0.671615  ]\n",
            " [0.6715789 ]\n",
            " [0.67133987]\n",
            " [0.67090195]\n",
            " [0.6703919 ]\n",
            " [0.6699716 ]\n",
            " [0.6698692 ]\n",
            " [0.6703353 ]\n",
            " [0.6714295 ]\n",
            " [0.67298865]\n",
            " [0.6748306 ]\n",
            " [0.6768422 ]\n",
            " [0.67891383]\n",
            " [0.6808992 ]\n",
            " [0.68272483]\n",
            " [0.68442553]\n",
            " [0.68598366]\n",
            " [0.6873334 ]\n",
            " [0.6883598 ]\n",
            " [0.68901557]\n",
            " [0.6892724 ]\n",
            " [0.6891033 ]\n",
            " [0.6885506 ]\n",
            " [0.68777806]\n",
            " [0.6869902 ]\n",
            " [0.6863977 ]\n",
            " [0.68611753]\n",
            " [0.68617725]\n",
            " [0.6865692 ]\n",
            " [0.6872109 ]\n",
            " [0.6880238 ]\n",
            " [0.6888634 ]\n",
            " [0.6895891 ]\n",
            " [0.690133  ]\n",
            " [0.6904588 ]\n",
            " [0.6905611 ]\n",
            " [0.6904975 ]\n",
            " [0.690303  ]\n",
            " [0.68994486]\n",
            " [0.6893943 ]\n",
            " [0.6887437 ]\n",
            " [0.6881111 ]\n",
            " [0.6875547 ]\n",
            " [0.6871353 ]\n",
            " [0.68696404]\n",
            " [0.6872525 ]\n",
            " [0.68810827]\n",
            " [0.68946755]\n",
            " [0.6911553 ]\n",
            " [0.69296634]\n",
            " [0.69469005]\n",
            " [0.69617426]\n",
            " [0.69729686]\n",
            " [0.6979506 ]\n",
            " [0.69809586]\n",
            " [0.6977329 ]\n",
            " [0.6970043 ]\n",
            " [0.69613314]\n",
            " [0.6953376 ]\n",
            " [0.69484   ]\n",
            " [0.6947549 ]\n",
            " [0.69504356]\n",
            " [0.69567454]\n",
            " [0.69650495]\n",
            " [0.69735044]\n",
            " [0.6980819 ]\n",
            " [0.698591  ]\n",
            " [0.69880146]\n",
            " [0.6987879 ]\n",
            " [0.6986838 ]\n",
            " [0.69856215]\n",
            " [0.6984382 ]\n",
            " [0.69829005]\n",
            " [0.6981362 ]\n",
            " [0.6980808 ]\n",
            " [0.6982498 ]\n",
            " [0.69872564]\n",
            " [0.6995904 ]\n",
            " [0.70083916]\n",
            " [0.7023736 ]\n",
            " [0.70407027]\n",
            " [0.70587456]\n",
            " [0.70771515]\n",
            " [0.70946634]\n",
            " [0.7110388 ]\n",
            " [0.7123352 ]\n",
            " [0.7132765 ]\n",
            " [0.713822  ]\n",
            " [0.713994  ]\n",
            " [0.7138443 ]\n",
            " [0.71346426]\n",
            " [0.7129513 ]\n",
            " [0.71245915]\n",
            " [0.7121189 ]\n",
            " [0.7120065 ]\n",
            " [0.712132  ]\n",
            " [0.7124685 ]\n",
            " [0.71295166]\n",
            " [0.7134825 ]\n",
            " [0.7139743 ]\n",
            " [0.7143428 ]\n",
            " [0.7145101 ]\n",
            " [0.7144624 ]\n",
            " [0.71428037]\n",
            " [0.7140442 ]\n",
            " [0.7137785 ]\n",
            " [0.7134805 ]\n",
            " [0.7131664 ]\n",
            " [0.71286654]\n",
            " [0.7126165 ]\n",
            " [0.7124153 ]\n",
            " [0.7122297 ]\n",
            " [0.71198744]\n",
            " [0.71160066]\n",
            " [0.71094126]\n",
            " [0.7099893 ]\n",
            " [0.7088095 ]\n",
            " [0.7074886 ]\n",
            " [0.70620275]\n",
            " [0.70511794]\n",
            " [0.70437264]\n",
            " [0.7040578 ]\n",
            " [0.7042829 ]\n",
            " [0.70522845]\n",
            " [0.70702505]\n",
            " [0.7097836 ]\n",
            " [0.7135826 ]\n",
            " [0.7182859 ]\n",
            " [0.7235636 ]\n",
            " [0.72902334]\n",
            " [0.73433673]\n",
            " [0.7392344 ]\n",
            " [0.7435589 ]\n",
            " [0.7472077 ]\n",
            " [0.75017   ]\n",
            " [0.75243616]\n",
            " [0.75404847]\n",
            " [0.7550719 ]\n",
            " [0.7556191 ]\n",
            " [0.75584453]\n",
            " [0.7558712 ]\n",
            " [0.7557436 ]\n",
            " [0.7555141 ]\n",
            " [0.7551776 ]\n",
            " [0.7546537 ]\n",
            " [0.7539519 ]\n",
            " [0.7531258 ]\n",
            " [0.7521647 ]\n",
            " [0.75095075]\n",
            " [0.7493419 ]\n",
            " [0.7472595 ]\n",
            " [0.74473107]\n",
            " [0.7418697 ]\n",
            " [0.73887104]\n",
            " [0.7359159 ]\n",
            " [0.73312825]\n",
            " [0.7306193 ]\n",
            " [0.728451  ]\n",
            " [0.72669667]\n",
            " [0.72542566]\n",
            " [0.72465724]\n",
            " [0.7242844 ]\n",
            " [0.7242706 ]\n",
            " [0.7245721 ]\n",
            " [0.72514033]\n",
            " [0.72595143]\n",
            " [0.7269404 ]\n",
            " [0.7279558 ]\n",
            " [0.7287881 ]\n",
            " [0.7293163 ]\n",
            " [0.7294993 ]\n",
            " [0.72929555]\n",
            " [0.7286851 ]\n",
            " [0.7277289 ]\n",
            " [0.72651285]\n",
            " [0.72516114]\n",
            " [0.72380996]\n",
            " [0.7225464 ]\n",
            " [0.72140056]\n",
            " [0.7203552 ]\n",
            " [0.7194171 ]\n",
            " [0.718671  ]\n",
            " [0.7181485 ]\n",
            " [0.7177668 ]\n",
            " [0.71747315]\n",
            " [0.71726876]\n",
            " [0.71718544]\n",
            " [0.7172085 ]\n",
            " [0.71728486]\n",
            " [0.71729326]\n",
            " [0.717116  ]\n",
            " [0.7166612 ]\n",
            " [0.71596146]\n",
            " [0.7150952 ]\n",
            " [0.71412283]\n",
            " [0.7130513 ]\n",
            " [0.7118751 ]\n",
            " [0.7106501 ]\n",
            " [0.70945305]\n",
            " [0.7083607 ]\n",
            " [0.70747644]\n",
            " [0.70687944]\n",
            " [0.70657897]\n",
            " [0.7065236 ]\n",
            " [0.7067116 ]\n",
            " [0.70715   ]\n",
            " [0.70788825]\n",
            " [0.7089744 ]\n",
            " [0.710353  ]\n",
            " [0.7119234 ]\n",
            " [0.713746  ]\n",
            " [0.71596754]\n",
            " [0.718663  ]\n",
            " [0.7217742 ]\n",
            " [0.725084  ]\n",
            " [0.72837675]\n",
            " [0.73145705]\n",
            " [0.73410577]\n",
            " [0.7361339 ]\n",
            " [0.7374538 ]\n",
            " [0.73808354]\n",
            " [0.7380926 ]\n",
            " [0.7376318 ]\n",
            " [0.73689526]\n",
            " [0.736024  ]\n",
            " [0.73511183]\n",
            " [0.73423266]\n",
            " [0.7334298 ]\n",
            " [0.7327441 ]\n",
            " [0.7321987 ]\n",
            " [0.731809  ]\n",
            " [0.73161656]\n",
            " [0.7316254 ]\n",
            " [0.73183286]\n",
            " [0.7322471 ]\n",
            " [0.7329022 ]\n",
            " [0.7339281 ]\n",
            " [0.7353746 ]\n",
            " [0.73708063]\n",
            " [0.73872393]\n",
            " [0.7399951 ]\n",
            " [0.74070954]\n",
            " [0.7407483 ]\n",
            " [0.7400696 ]\n",
            " [0.7386807 ]\n",
            " [0.7365979 ]\n",
            " [0.7338536 ]\n",
            " [0.7304816 ]\n",
            " [0.7265111 ]\n",
            " [0.7220491 ]\n",
            " [0.7172858 ]\n",
            " [0.7123567 ]\n",
            " [0.7074381 ]\n",
            " [0.7028201 ]\n",
            " [0.6988187 ]\n",
            " [0.695671  ]\n",
            " [0.69356287]\n",
            " [0.6924454 ]\n",
            " [0.69215566]\n",
            " [0.6923434 ]\n",
            " [0.69257957]\n",
            " [0.69246733]\n",
            " [0.69180274]\n",
            " [0.69057536]\n",
            " [0.6888508 ]\n",
            " [0.6866772 ]\n",
            " [0.68419576]\n",
            " [0.68167317]\n",
            " [0.679315  ]\n",
            " [0.6772003 ]\n",
            " [0.67532855]\n",
            " [0.6736164 ]\n",
            " [0.6720616 ]\n",
            " [0.6707435 ]\n",
            " [0.66968447]\n",
            " [0.66891086]\n",
            " [0.66847503]\n",
            " [0.6683971 ]\n",
            " [0.66875607]\n",
            " [0.6696407 ]\n",
            " [0.67104495]\n",
            " [0.67291987]\n",
            " [0.67521596]\n",
            " [0.6778667 ]\n",
            " [0.68072855]\n",
            " [0.6836458 ]\n",
            " [0.68646693]\n",
            " [0.6889367 ]\n",
            " [0.69094205]\n",
            " [0.69251645]\n",
            " [0.6937432 ]\n",
            " [0.6946442 ]\n",
            " [0.695229  ]\n",
            " [0.6955091 ]\n",
            " [0.6954664 ]\n",
            " [0.6951074 ]\n",
            " [0.6944814 ]\n",
            " [0.69359165]\n",
            " [0.69242513]\n",
            " [0.69106257]\n",
            " [0.6896641 ]\n",
            " [0.68839306]\n",
            " [0.6873216 ]\n",
            " [0.686454  ]\n",
            " [0.68575466]\n",
            " [0.6851994 ]\n",
            " [0.68483126]\n",
            " [0.6847102 ]\n",
            " [0.6848271 ]\n",
            " [0.68517053]\n",
            " [0.6857562 ]\n",
            " [0.68656313]\n",
            " [0.6875457 ]\n",
            " [0.68864197]\n",
            " [0.68977714]\n",
            " [0.69087666]\n",
            " [0.6918665 ]\n",
            " [0.6927073 ]\n",
            " [0.693358  ]\n",
            " [0.6937748 ]\n",
            " [0.69391775]\n",
            " [0.69374144]\n",
            " [0.69323885]\n",
            " [0.69241357]\n",
            " [0.69138217]\n",
            " [0.6903055 ]\n",
            " [0.68938303]\n",
            " [0.68876785]\n",
            " [0.6884816 ]\n",
            " [0.68847513]\n",
            " [0.6886581 ]\n",
            " [0.6889575 ]\n",
            " [0.6893246 ]\n",
            " [0.6897807 ]\n",
            " [0.6903745 ]\n",
            " [0.69110674]\n",
            " [0.69198704]\n",
            " [0.6929844 ]\n",
            " [0.6940322 ]\n",
            " [0.69500595]\n",
            " [0.69581693]\n",
            " [0.69640154]\n",
            " [0.6966739 ]\n",
            " [0.6965713 ]\n",
            " [0.6961484 ]\n",
            " [0.69550323]\n",
            " [0.694758  ]\n",
            " [0.694047  ]\n",
            " [0.6934886 ]\n",
            " [0.6931606 ]\n",
            " [0.6931548 ]\n",
            " [0.693637  ]\n",
            " [0.694626  ]\n",
            " [0.69599736]\n",
            " [0.6975457 ]\n",
            " [0.6990688 ]\n",
            " [0.7004014 ]\n",
            " [0.7014638 ]\n",
            " [0.70230174]\n",
            " [0.7029906 ]\n",
            " [0.70360655]\n",
            " [0.7041776 ]\n",
            " [0.7046251 ]\n",
            " [0.7049153 ]\n",
            " [0.7051511 ]\n",
            " [0.70543945]\n",
            " [0.7058491 ]\n",
            " [0.70641977]\n",
            " [0.7072127 ]\n",
            " [0.7082633 ]\n",
            " [0.70955896]\n",
            " [0.711058  ]\n",
            " [0.7127049 ]\n",
            " [0.71441376]\n",
            " [0.71603453]\n",
            " [0.7174051 ]\n",
            " [0.71843517]\n",
            " [0.7192093 ]\n",
            " [0.71985084]\n",
            " [0.72042036]\n",
            " [0.72092426]\n",
            " [0.7213577 ]\n",
            " [0.72170293]\n",
            " [0.72191316]\n",
            " [0.721925  ]\n",
            " [0.72171056]\n",
            " [0.72126454]\n",
            " [0.72065496]\n",
            " [0.7199106 ]\n",
            " [0.71905273]\n",
            " [0.7180902 ]\n",
            " [0.71703196]\n",
            " [0.7158717 ]\n",
            " [0.7145767 ]\n",
            " [0.7131038 ]\n",
            " [0.7114645 ]\n",
            " [0.7097796 ]\n",
            " [0.708164  ]\n",
            " [0.706674  ]\n",
            " [0.7053018 ]\n",
            " [0.7040307 ]\n",
            " [0.7028645 ]\n",
            " [0.7018715 ]\n",
            " [0.7010545 ]\n",
            " [0.70036715]\n",
            " [0.6997129 ]\n",
            " [0.6989871 ]\n",
            " [0.6981653 ]\n",
            " [0.6972514 ]\n",
            " [0.6962831 ]\n",
            " [0.69528836]\n",
            " [0.6943277 ]\n",
            " [0.6934848 ]\n",
            " [0.69280285]\n",
            " [0.6922891 ]\n",
            " [0.6919264 ]\n",
            " [0.69170415]\n",
            " [0.69155145]\n",
            " [0.6913643 ]\n",
            " [0.691097  ]\n",
            " [0.69067997]\n",
            " [0.69006634]\n",
            " [0.6892748 ]\n",
            " [0.6883004 ]\n",
            " [0.687166  ]\n",
            " [0.6859529 ]\n",
            " [0.6847929 ]\n",
            " [0.68386674]\n",
            " [0.683319  ]\n",
            " [0.6832019 ]\n",
            " [0.6835251 ]\n",
            " [0.68423396]\n",
            " [0.6852066 ]\n",
            " [0.68622446]\n",
            " [0.68707824]\n",
            " [0.6876227 ]\n",
            " [0.68779   ]\n",
            " [0.6876227 ]\n",
            " [0.68720734]\n",
            " [0.6865928 ]\n",
            " [0.68582344]\n",
            " [0.6850141 ]\n",
            " [0.6843204 ]\n",
            " [0.68389386]\n",
            " [0.6838493 ]\n",
            " [0.68425554]\n",
            " [0.685126  ]\n",
            " [0.6863747 ]\n",
            " [0.6879029 ]\n",
            " [0.6895317 ]\n",
            " [0.69110245]\n",
            " [0.69240904]\n",
            " [0.69327366]\n",
            " [0.69360876]\n",
            " [0.6933599 ]\n",
            " [0.69258976]\n",
            " [0.6914066 ]\n",
            " [0.6899396 ]\n",
            " [0.6883157 ]\n",
            " [0.68664   ]\n",
            " [0.68498635]\n",
            " [0.68341064]\n",
            " [0.6820488 ]\n",
            " [0.68105423]\n",
            " [0.6805074 ]\n",
            " [0.6803736 ]\n",
            " [0.6806133 ]\n",
            " [0.6811712 ]\n",
            " [0.6820109 ]\n",
            " [0.68313926]\n",
            " [0.6845043 ]\n",
            " [0.6859758 ]\n",
            " [0.68740165]\n",
            " [0.68870294]\n",
            " [0.689914  ]]\n"
          ],
          "name": "stdout"
        }
      ]
    },
    {
      "cell_type": "markdown",
      "metadata": {
        "id": "Vtwv1-mtsie5"
      },
      "source": [
        "## **Vizualizacija rezultata predvidjanja i metrika**"
      ]
    },
    {
      "cell_type": "code",
      "metadata": {
        "id": "rpuCAGCxzAat"
      },
      "source": [
        "# Vizuelni prikaz rezultata modela mreze\n",
        "\n",
        "def plot_real_vs_predicted_data(test_set, predicted_set):\n",
        "\n",
        "  fig, ax = plt.subplots(1, figsize=(16, 9))\n",
        "  ax.plot(test_set, label='Stvarna vrednost BTC', linewidth=2)\n",
        "  ax.plot(predicted_set, label='Predvidjena vrednost BTC', linewidth=2)\n",
        "  ax.set_xlabel('Redni broj instance', fontsize=14)\n",
        "  ax.set_ylabel('Cena [USD]', fontsize=14)\n",
        "  ax.set_title(label = 'Vizuelni prikaz stvarne i predvidjene vrednosti BTC', fontsize=18)\n",
        "  ax.legend(loc='best', fontsize=18)\n",
        "\n",
        "  # test = test.reset_index()\n",
        "  # x = test.index\n"
      ],
      "execution_count": 27,
      "outputs": []
    },
    {
      "cell_type": "code",
      "metadata": {
        "colab": {
          "base_uri": "https://localhost:8080/",
          "height": 945
        },
        "id": "iEnWZYr6zAhG",
        "outputId": "d6da88d5-fd12-4e10-d5e8-c9a6f498577e"
      },
      "source": [
        "# Plotovanje stvarne i predvidjene vrednosti\n",
        "\n",
        "# Bez validacije\n",
        "plot_real_vs_predicted_data(test_set = y_test, predicted_set = y_predicted_no_validation)\n",
        "\n",
        "# Sa validacijom\n",
        "plot_real_vs_predicted_data(test_set = y_test, predicted_set = y_predicted_validation)"
      ],
      "execution_count": 28,
      "outputs": [
        {
          "output_type": "display_data",
          "data": {
            "image/png": "[encoded data removed]",
            "text/plain": [
              "<Figure size 1152x648 with 1 Axes>"
            ]
          },
          "metadata": {
            "tags": [],
            "needs_background": "light"
          }
        },
        {
          "output_type": "display_data",
          "data": {
            "image/png": "[encoded data removed]",
            "text/plain": [
              "<Figure size 1152x648 with 1 Axes>"
            ]
          },
          "metadata": {
            "tags": [],
            "needs_background": "light"
          }
        }
      ]
    },
    {
      "cell_type": "code",
      "metadata": {
        "id": "JLp_Ems1zAja"
      },
      "source": [
        "# Vizuelni prikaz gubitka i tacnosti tokom treniranja mreze\n",
        "\n",
        "# Ukoliko je validacija nije koriscena tokom treniranja mreze,\n",
        "# onda parametar is_validation_used treba biti 0, a inace 1\n",
        "\n",
        "def plot_loss_and_accuracy(history_, is_validation_used):\n",
        "\n",
        "  epochs = range(len(history_.history['loss'])) # broj epoha\n",
        "\n",
        "  plt.title('Vizuelni prikaz gubitka (loss) i tacnosti (accuracy) mreze')\n",
        "\n",
        "\n",
        "  # Gubitak\n",
        "\n",
        "  plt.subplot(211)\n",
        "  \n",
        "  plt.plot(epochs, history_.history['loss'], label='Gubitak (loss) tokom treniranja')\n",
        "\n",
        "  if is_validation_used == 1:\n",
        "    plt.plot(epochs, history_.history['val_loss'], label='Gubitak (val_loss) tokom validacije')\n",
        "  \n",
        "  plt.legend()\n",
        "\n",
        "\n",
        "  # Tacnost\n",
        "\n",
        "  plt.subplot(212)\n",
        "\n",
        "  plt.plot(epochs, history_.history['accuracy'], label='Tacnost (accuracy) tokom treniranja')\n",
        "  \n",
        "  if is_validation_used == 1:\n",
        "    plt.plot(epochs, history_.history['val_accuracy'], label='Tacnost (val_accuracy) tokom validacije')\n",
        "  \n",
        "  plt.legend()\n",
        "\n",
        "  plt.show()\n"
      ],
      "execution_count": 29,
      "outputs": []
    },
    {
      "cell_type": "code",
      "metadata": {
        "colab": {
          "base_uri": "https://localhost:8080/",
          "height": 513
        },
        "id": "1BSAAKGSzAlx",
        "outputId": "85f2a6c3-3e31-417e-97d2-c2edc8783707"
      },
      "source": [
        "# Plotovanje gubitka i tacnosti mreze tokom treniranja\n",
        "\n",
        "plot_loss_and_accuracy(history_ = history_no_validation, is_validation_used = 0)\n",
        "\n",
        "plot_loss_and_accuracy(history_ = history_validation, is_validation_used = 1)"
      ],
      "execution_count": 30,
      "outputs": [
        {
          "output_type": "display_data",
          "data": {
            "image/png": "[encoded data removed]",
            "text/plain": [
              "<Figure size 432x288 with 2 Axes>"
            ]
          },
          "metadata": {
            "tags": [],
            "needs_background": "light"
          }
        },
        {
          "output_type": "display_data",
          "data": {
            "image/png": "[encoded data removed]",
            "text/plain": [
              "<Figure size 432x288 with 2 Axes>"
            ]
          },
          "metadata": {
            "tags": [],
            "needs_background": "light"
          }
        }
      ]
    },
    {
      "cell_type": "code",
      "metadata": {
        "id": "rBTlwpP9y8JY"
      },
      "source": [
        "# Vizuelni prikaz MAE\n",
        "\n",
        "def plot_mae(history_):\n",
        "\n",
        "  epochs = range(len(history_.history['mae'])) # broj epoha\n",
        "  plt.title('Vizuelni prikaz MAE (mae')\n",
        "  plt.xlabel('broj epohe')\n",
        "  plt.ylabel('MAE')\n",
        "  \n",
        "  plt.plot(epochs, history_.history['mae'], label='MAE (mae) tokom treniranja')\n",
        "\n",
        "  if 'val_mae' in history_.history:\n",
        "    plt.plot(epochs, history_.history['val_mae'], label='MAE (val_mae) tokom treniranja sa validacijom')\n",
        "\n",
        "  plt.legend(loc = 'best')\n",
        "\n",
        "  plt.show()\n"
      ],
      "execution_count": 31,
      "outputs": []
    },
    {
      "cell_type": "code",
      "metadata": {
        "colab": {
          "base_uri": "https://localhost:8080/",
          "height": 295
        },
        "id": "UE6EjgvZUczz",
        "outputId": "19fb19d2-e6be-4780-c7ef-1242f3025205"
      },
      "source": [
        "# MAE\n",
        "\n",
        "plot_mae(history_no_validation)"
      ],
      "execution_count": 32,
      "outputs": [
        {
          "output_type": "display_data",
          "data": {
            "image/png": "[encoded data removed]",
            "text/plain": [
              "<Figure size 432x288 with 1 Axes>"
            ]
          },
          "metadata": {
            "tags": [],
            "needs_background": "light"
          }
        }
      ]
    },
    {
      "cell_type": "code",
      "metadata": {
        "colab": {
          "base_uri": "https://localhost:8080/",
          "height": 295
        },
        "id": "7Xyxebz4UePl",
        "outputId": "ef1a68eb-e3fd-49f0-cd89-dbe0acc83b44"
      },
      "source": [
        "# MAE - sa validacijom\n",
        "\n",
        "plot_mae(history_validation)"
      ],
      "execution_count": 33,
      "outputs": [
        {
          "output_type": "display_data",
          "data": {
            "image/png": "[encoded data removed]",
            "text/plain": [
              "<Figure size 432x288 with 1 Axes>"
            ]
          },
          "metadata": {
            "tags": [],
            "needs_background": "light"
          }
        }
      ]
    },
    {
      "cell_type": "code",
      "metadata": {
        "colab": {
          "base_uri": "https://localhost:8080/"
        },
        "id": "Ui8qyCw2UiZ3",
        "outputId": "a9d522f8-2767-4e09-b912-ff964c613f26"
      },
      "source": [
        "# Loss, accuracy, MAE nad skupom za testiranje\n",
        "\n",
        "# (za model koji pri treniranju koristi validaciju\n",
        "# i za model koji pri treniranju ne koristi validaciju)\n",
        "\n",
        "test_metrics_no_val = net_no_validation.evaluate(X_test, y_test)\n",
        "test_metrics_val = net_validation.evaluate(X_test, y_test)\n",
        "\n",
        "print('\\nMetrike prilikom testiranja - model treniran bez validacije\\n')\n",
        "print(net_no_validation.metrics_names[0], test_metrics_no_val[0])\n",
        "print(net_no_validation.metrics_names[1], test_metrics_no_val[1])\n",
        "print(net_no_validation.metrics_names[2], test_metrics_no_val[2])\n",
        "\n",
        "print('\\n\\nMetrike prilikom testiranja - model treniran sa validacijom\\n')\n",
        "print(net_validation.metrics_names[0], test_metrics_val[0])\n",
        "print(net_validation.metrics_names[1], test_metrics_val[1])\n",
        "print(net_validation.metrics_names[2], test_metrics_val[2])"
      ],
      "execution_count": 34,
      "outputs": [
        {
          "output_type": "stream",
          "text": [
            "17/17 [==============================] - 2s 36ms/step - loss: 0.0268 - accuracy: 0.0000e+00 - mae: 0.1629\n",
            "17/17 [==============================] - 1s 36ms/step - loss: 0.0268 - accuracy: 0.0000e+00 - mae: 0.1629\n",
            "\n",
            "Metrike prilikom testiranja - model treniran bez validacije\n",
            "\n",
            "loss 0.026826167479157448\n",
            "accuracy 0.0\n",
            "mae 0.1628502458333969\n",
            "\n",
            "\n",
            "Metrike prilikom testiranja - model treniran sa validacijom\n",
            "\n",
            "loss 0.026826167479157448\n",
            "accuracy 0.0\n",
            "mae 0.1628502458333969\n"
          ],
          "name": "stdout"
        }
      ]
    },
    {
      "cell_type": "code",
      "metadata": {
        "colab": {
          "base_uri": "https://localhost:8080/"
        },
        "id": "RQpYvBZyUpej",
        "outputId": "277ccb7a-052c-415b-edb4-174b35d73edc"
      },
      "source": [
        "# R2 skor nad skupom za testiranje\n",
        "from sklearn import metrics\n",
        "\n",
        "r2 = metrics.r2_score(y_predicted_no_validation, y_test)\n",
        "r2_val = metrics.r2_score(y_predicted_validation, y_test)\n",
        "\n",
        "print('R2 skor prilikom testiranja - model treniran bez validacije', r2)\n",
        "print('R2 skor prilikom testiranja - model treniran sa validacijom', r2_val)"
      ],
      "execution_count": 36,
      "outputs": [
        {
          "output_type": "stream",
          "text": [
            "R2 skor prilikom testiranja - model treniran bez validacije -69.15655926760961\n",
            "R2 skor prilikom testiranja - model treniran sa validacijom -69.15655926760961\n"
          ],
          "name": "stdout"
        }
      ]
    },
    {
      "cell_type": "code",
      "metadata": {
        "id": "wd7c20pFUryX"
      },
      "source": [
        ""
      ],
      "execution_count": 36,
      "outputs": []
    }
  ]
}