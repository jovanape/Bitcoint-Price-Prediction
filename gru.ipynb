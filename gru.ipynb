{
 "cells": [
  {
   "cell_type": "markdown",
   "metadata": {
    "colab_type": "text",
    "id": "view-in-github"
   },
   "source": [
    "<a href=\"https://colab.research.google.com/github/jovanape/Bitcoint-Price-Prediction/blob/main/gru.ipynb\" target=\"_parent\"><img src=\"https://colab.research.google.com/assets/colab-badge.svg\" alt=\"Open In Colab\"/></a>"
   ]
  },
  {
   "cell_type": "markdown",
   "metadata": {
    "id": "4_6hHjWjjzos"
   },
   "source": [
    "## **Predvidjanje vrednosti Bitcoina za DAYS_TO_PREDICT dana korišćenjem GRU (RNN)**\n",
    "\n",
    "**Korišćeni atributi:** Close\n",
    "\n",
    "**Filtrirani podaci:** od 28.03.2021.\n",
    "\n",
    "**Napomena:** Podaci koje predstavljaju vrednosti bitkoina dati su u minutima.\n",
    "\n",
    "**Koraci:**\n",
    "1. Učitavanje i pretprocesiranje podataka\n",
    "2. Podela skupa podataka na skupove za trening, validaciju i test\n",
    "3. Filtriranje kolona (atributa)\n",
    "4. Skaliranje podataka\n",
    "5. Odredjivanje ciljne promenljive\n",
    "6. Kreiranje modela mreže\n",
    "7. Kompilacija i treniranje mreže\n",
    "8. Predvidjanje\n",
    "9. Evaluacija"
   ]
  },
  {
   "cell_type": "markdown",
   "metadata": {
    "id": "krvFQDwvkBdX"
   },
   "source": [
    "## **Učitavanje biblioteka**"
   ]
  },
  {
   "cell_type": "code",
   "execution_count": 2,
   "metadata": {
    "id": "iaSuiXq3HP1y"
   },
   "outputs": [],
   "source": [
    "import numpy as np \n",
    "import pandas as pd \n",
    "import os\n",
    "\n",
    "from matplotlib import pyplot as plt\n",
    "from sklearn.preprocessing import MinMaxScaler\n",
    "from sklearn.metrics import r2_score\n",
    "from sklearn.metrics import mean_absolute_error\n",
    "from sklearn import metrics\n",
    "\n",
    "from keras.models import Sequential\n",
    "from keras.layers import Dense\n",
    "from keras.layers import LSTM\n",
    "from keras.layers import Dropout\n",
    "from keras import callbacks\n",
    "from keras.layers import Dense, Dropout, Activation, Flatten,Reshape\n",
    "from keras.layers import Conv1D, MaxPooling1D, LeakyReLU\n",
    "from keras.layers import GRU,CuDNNGRU\n",
    "from keras.callbacks import CSVLogger, ModelCheckpoint\n",
    "from keras.losses import MeanSquaredError\n",
    "\n",
    "%run Preprocessing.ipynb\n",
    "#%run Utility.ipynb"
   ]
  },
  {
   "cell_type": "markdown",
   "metadata": {
    "id": "QsGhjvltjWcA"
   },
   "source": [
    "### **Učitavanje skupa podataka i pretprocesiranje**"
   ]
  },
  {
   "cell_type": "code",
   "execution_count": 3,
   "metadata": {},
   "outputs": [],
   "source": [
    "data = preprocess_data(file_name = 'bitstampUSD_1-min_data_2012-01-01_to_2021-03-31.csv')"
   ]
  },
  {
   "cell_type": "code",
   "execution_count": 4,
   "metadata": {},
   "outputs": [],
   "source": [
    "data = filter_data(data, date_str = '2021-03-28')"
   ]
  },
  {
   "cell_type": "code",
   "execution_count": 5,
   "metadata": {
    "colab": {
     "base_uri": "https://localhost:8080/",
     "height": 205
    },
    "id": "_r4bteeIUcND",
    "outputId": "46a61af7-9c1f-4160-f478-e36c5125f2d1"
   },
   "outputs": [
    {
     "data": {
      "text/html": [
       "<div>\n",
       "<style scoped>\n",
       "    .dataframe tbody tr th:only-of-type {\n",
       "        vertical-align: middle;\n",
       "    }\n",
       "\n",
       "    .dataframe tbody tr th {\n",
       "        vertical-align: top;\n",
       "    }\n",
       "\n",
       "    .dataframe thead th {\n",
       "        text-align: right;\n",
       "    }\n",
       "</style>\n",
       "<table border=\"1\" class=\"dataframe\">\n",
       "  <thead>\n",
       "    <tr style=\"text-align: right;\">\n",
       "      <th></th>\n",
       "      <th>Timestamp</th>\n",
       "      <th>Open</th>\n",
       "      <th>High</th>\n",
       "      <th>Low</th>\n",
       "      <th>Close</th>\n",
       "      <th>Volume_(BTC)</th>\n",
       "      <th>Volume_(Currency)</th>\n",
       "      <th>Weighted_Price</th>\n",
       "      <th>Date</th>\n",
       "    </tr>\n",
       "  </thead>\n",
       "  <tbody>\n",
       "    <tr>\n",
       "      <th>4854496</th>\n",
       "      <td>1616976000</td>\n",
       "      <td>55790.28</td>\n",
       "      <td>55822.98</td>\n",
       "      <td>55777.98</td>\n",
       "      <td>55804.36</td>\n",
       "      <td>1.731449</td>\n",
       "      <td>96636.546983</td>\n",
       "      <td>55812.518695</td>\n",
       "      <td>2021-03-29</td>\n",
       "    </tr>\n",
       "    <tr>\n",
       "      <th>4854497</th>\n",
       "      <td>1616976060</td>\n",
       "      <td>55822.98</td>\n",
       "      <td>55857.28</td>\n",
       "      <td>55822.98</td>\n",
       "      <td>55857.28</td>\n",
       "      <td>0.589603</td>\n",
       "      <td>32931.781301</td>\n",
       "      <td>55854.182542</td>\n",
       "      <td>2021-03-29</td>\n",
       "    </tr>\n",
       "    <tr>\n",
       "      <th>4854498</th>\n",
       "      <td>1616976120</td>\n",
       "      <td>55822.98</td>\n",
       "      <td>55829.04</td>\n",
       "      <td>55766.15</td>\n",
       "      <td>55779.04</td>\n",
       "      <td>2.729659</td>\n",
       "      <td>152263.034630</td>\n",
       "      <td>55780.964698</td>\n",
       "      <td>2021-03-29</td>\n",
       "    </tr>\n",
       "    <tr>\n",
       "      <th>4854500</th>\n",
       "      <td>1616976240</td>\n",
       "      <td>55766.15</td>\n",
       "      <td>55768.63</td>\n",
       "      <td>55766.15</td>\n",
       "      <td>55768.63</td>\n",
       "      <td>0.023738</td>\n",
       "      <td>1323.776861</td>\n",
       "      <td>55766.455065</td>\n",
       "      <td>2021-03-29</td>\n",
       "    </tr>\n",
       "    <tr>\n",
       "      <th>4854501</th>\n",
       "      <td>1616976300</td>\n",
       "      <td>55770.46</td>\n",
       "      <td>55778.48</td>\n",
       "      <td>55736.83</td>\n",
       "      <td>55742.20</td>\n",
       "      <td>0.389067</td>\n",
       "      <td>21692.454676</td>\n",
       "      <td>55755.006032</td>\n",
       "      <td>2021-03-29</td>\n",
       "    </tr>\n",
       "  </tbody>\n",
       "</table>\n",
       "</div>"
      ],
      "text/plain": [
       "          Timestamp      Open      High       Low     Close  Volume_(BTC)  \\\n",
       "4854496  1616976000  55790.28  55822.98  55777.98  55804.36      1.731449   \n",
       "4854497  1616976060  55822.98  55857.28  55822.98  55857.28      0.589603   \n",
       "4854498  1616976120  55822.98  55829.04  55766.15  55779.04      2.729659   \n",
       "4854500  1616976240  55766.15  55768.63  55766.15  55768.63      0.023738   \n",
       "4854501  1616976300  55770.46  55778.48  55736.83  55742.20      0.389067   \n",
       "\n",
       "         Volume_(Currency)  Weighted_Price        Date  \n",
       "4854496       96636.546983    55812.518695  2021-03-29  \n",
       "4854497       32931.781301    55854.182542  2021-03-29  \n",
       "4854498      152263.034630    55780.964698  2021-03-29  \n",
       "4854500        1323.776861    55766.455065  2021-03-29  \n",
       "4854501       21692.454676    55755.006032  2021-03-29  "
      ]
     },
     "execution_count": 5,
     "metadata": {},
     "output_type": "execute_result"
    }
   ],
   "source": [
    "data.head()"
   ]
  },
  {
   "cell_type": "markdown",
   "metadata": {
    "id": "uJHmdAZWkeLL"
   },
   "source": [
    "### **Podela skupa podataka**"
   ]
  },
  {
   "cell_type": "code",
   "execution_count": 57,
   "metadata": {
    "id": "1n5kOU90PBHd"
   },
   "outputs": [],
   "source": [
    "# Podela inicijalnog skupa podataka na train i test skup\n",
    "\n",
    "train, test = data_split(data, test_size = 0.2)\n",
    "\n",
    "# Podela train skupa podataka na train i validation skup\n",
    "\n",
    "train, validation = data_split(data, test_size = 0.2)"
   ]
  },
  {
   "cell_type": "code",
   "execution_count": 58,
   "metadata": {
    "colab": {
     "base_uri": "https://localhost:8080/"
    },
    "id": "juNgJZG7cnQS",
    "outputId": "db9936f1-d786-4c46-e6dd-5cec98a088dc"
   },
   "outputs": [
    {
     "data": {
      "text/plain": [
       "((2298, 9), (574, 9), (574, 9))"
      ]
     },
     "execution_count": 58,
     "metadata": {},
     "output_type": "execute_result"
    }
   ],
   "source": [
    "# Dimenzije train, validacionog i test skupa\n",
    "\n",
    "train.shape, validation.shape, test.shape"
   ]
  },
  {
   "cell_type": "markdown",
   "metadata": {
    "id": "ttRI2EHVkikR"
   },
   "source": [
    "### **Vizualizacija podataka**"
   ]
  },
  {
   "cell_type": "code",
   "execution_count": 60,
   "metadata": {
    "colab": {
     "base_uri": "https://localhost:8080/",
     "height": 295
    },
    "id": "vlwad6fjfGSU",
    "outputId": "86265ccc-66b4-415d-e130-4ee0669a2e9a"
   },
   "outputs": [
    {
     "data": {
      "image/png": "[encoded data removed]",
      "text/plain": [
       "<Figure size 432x288 with 1 Axes>"
      ]
     },
     "metadata": {
      "needs_background": "light"
     },
     "output_type": "display_data"
    }
   ],
   "source": [
    "# Plotovanje trening skupa i validacionog skupa podataka\n",
    "\n",
    "plot_train_and_validation_data(train = train['Close'], validation = validation['Close'])"
   ]
  },
  {
   "cell_type": "markdown",
   "metadata": {
    "id": "dZw1y3Dxk1bt"
   },
   "source": [
    "### **Filtriranje kolona**"
   ]
  },
  {
   "cell_type": "code",
   "execution_count": 61,
   "metadata": {
    "colab": {
     "base_uri": "https://localhost:8080/",
     "height": 205
    },
    "id": "bLfZvfLHiph9",
    "outputId": "c80d1ed6-769e-4d8d-ff20-63539b8b464a"
   },
   "outputs": [
    {
     "data": {
      "text/html": [
       "<div>\n",
       "<style scoped>\n",
       "    .dataframe tbody tr th:only-of-type {\n",
       "        vertical-align: middle;\n",
       "    }\n",
       "\n",
       "    .dataframe tbody tr th {\n",
       "        vertical-align: top;\n",
       "    }\n",
       "\n",
       "    .dataframe thead th {\n",
       "        text-align: right;\n",
       "    }\n",
       "</style>\n",
       "<table border=\"1\" class=\"dataframe\">\n",
       "  <thead>\n",
       "    <tr style=\"text-align: right;\">\n",
       "      <th></th>\n",
       "      <th>Close</th>\n",
       "    </tr>\n",
       "  </thead>\n",
       "  <tbody>\n",
       "    <tr>\n",
       "      <th>4854496</th>\n",
       "      <td>55804.36</td>\n",
       "    </tr>\n",
       "    <tr>\n",
       "      <th>4854497</th>\n",
       "      <td>55857.28</td>\n",
       "    </tr>\n",
       "    <tr>\n",
       "      <th>4854498</th>\n",
       "      <td>55779.04</td>\n",
       "    </tr>\n",
       "    <tr>\n",
       "      <th>4854500</th>\n",
       "      <td>55768.63</td>\n",
       "    </tr>\n",
       "    <tr>\n",
       "      <th>4854501</th>\n",
       "      <td>55742.20</td>\n",
       "    </tr>\n",
       "  </tbody>\n",
       "</table>\n",
       "</div>"
      ],
      "text/plain": [
       "            Close\n",
       "4854496  55804.36\n",
       "4854497  55857.28\n",
       "4854498  55779.04\n",
       "4854500  55768.63\n",
       "4854501  55742.20"
      ]
     },
     "execution_count": 61,
     "metadata": {},
     "output_type": "execute_result"
    }
   ],
   "source": [
    "# Izbacivanje nepotrebnih kolona (atributa) iz train skupa\n",
    "\n",
    "train_ = train.drop(['Open', 'High', 'Low', 'Date', 'Volume_(BTC)', 'Volume_(Currency)', 'Weighted_Price', 'Timestamp'], axis = 1)\n",
    "train_.head()"
   ]
  },
  {
   "cell_type": "code",
   "execution_count": 62,
   "metadata": {
    "colab": {
     "base_uri": "https://localhost:8080/",
     "height": 205
    },
    "id": "EdM54eXecIhs",
    "outputId": "f9bf2b67-19ba-4d99-b78f-21d84bdf21c8"
   },
   "outputs": [
    {
     "data": {
      "text/html": [
       "<div>\n",
       "<style scoped>\n",
       "    .dataframe tbody tr th:only-of-type {\n",
       "        vertical-align: middle;\n",
       "    }\n",
       "\n",
       "    .dataframe tbody tr th {\n",
       "        vertical-align: top;\n",
       "    }\n",
       "\n",
       "    .dataframe thead th {\n",
       "        text-align: right;\n",
       "    }\n",
       "</style>\n",
       "<table border=\"1\" class=\"dataframe\">\n",
       "  <thead>\n",
       "    <tr style=\"text-align: right;\">\n",
       "      <th></th>\n",
       "      <th>Close</th>\n",
       "    </tr>\n",
       "  </thead>\n",
       "  <tbody>\n",
       "    <tr>\n",
       "      <th>4856801</th>\n",
       "      <td>58747.90</td>\n",
       "    </tr>\n",
       "    <tr>\n",
       "      <th>4856802</th>\n",
       "      <td>58825.89</td>\n",
       "    </tr>\n",
       "    <tr>\n",
       "      <th>4856803</th>\n",
       "      <td>58828.09</td>\n",
       "    </tr>\n",
       "    <tr>\n",
       "      <th>4856804</th>\n",
       "      <td>58835.62</td>\n",
       "    </tr>\n",
       "    <tr>\n",
       "      <th>4856805</th>\n",
       "      <td>58900.00</td>\n",
       "    </tr>\n",
       "  </tbody>\n",
       "</table>\n",
       "</div>"
      ],
      "text/plain": [
       "            Close\n",
       "4856801  58747.90\n",
       "4856802  58825.89\n",
       "4856803  58828.09\n",
       "4856804  58835.62\n",
       "4856805  58900.00"
      ]
     },
     "execution_count": 62,
     "metadata": {},
     "output_type": "execute_result"
    }
   ],
   "source": [
    "# Izbacivanje nepotrebnih kolona (atributa) iz validacionog skupa\n",
    "\n",
    "validation_ = validation.drop(['Low', 'High', 'Open', 'Date', 'Volume_(BTC)', 'Volume_(Currency)', 'Weighted_Price', 'Timestamp'], axis = 1)\n",
    "validation_.head()"
   ]
  },
  {
   "cell_type": "code",
   "execution_count": 63,
   "metadata": {
    "colab": {
     "base_uri": "https://localhost:8080/",
     "height": 205
    },
    "id": "iM2i4O19cIPz",
    "outputId": "9c29a950-894a-4a83-f9bb-86b4a5d393cf"
   },
   "outputs": [
    {
     "data": {
      "text/html": [
       "<div>\n",
       "<style scoped>\n",
       "    .dataframe tbody tr th:only-of-type {\n",
       "        vertical-align: middle;\n",
       "    }\n",
       "\n",
       "    .dataframe tbody tr th {\n",
       "        vertical-align: top;\n",
       "    }\n",
       "\n",
       "    .dataframe thead th {\n",
       "        text-align: right;\n",
       "    }\n",
       "</style>\n",
       "<table border=\"1\" class=\"dataframe\">\n",
       "  <thead>\n",
       "    <tr style=\"text-align: right;\">\n",
       "      <th></th>\n",
       "      <th>Close</th>\n",
       "    </tr>\n",
       "  </thead>\n",
       "  <tbody>\n",
       "    <tr>\n",
       "      <th>4856801</th>\n",
       "      <td>58747.90</td>\n",
       "    </tr>\n",
       "    <tr>\n",
       "      <th>4856802</th>\n",
       "      <td>58825.89</td>\n",
       "    </tr>\n",
       "    <tr>\n",
       "      <th>4856803</th>\n",
       "      <td>58828.09</td>\n",
       "    </tr>\n",
       "    <tr>\n",
       "      <th>4856804</th>\n",
       "      <td>58835.62</td>\n",
       "    </tr>\n",
       "    <tr>\n",
       "      <th>4856805</th>\n",
       "      <td>58900.00</td>\n",
       "    </tr>\n",
       "  </tbody>\n",
       "</table>\n",
       "</div>"
      ],
      "text/plain": [
       "            Close\n",
       "4856801  58747.90\n",
       "4856802  58825.89\n",
       "4856803  58828.09\n",
       "4856804  58835.62\n",
       "4856805  58900.00"
      ]
     },
     "execution_count": 63,
     "metadata": {},
     "output_type": "execute_result"
    }
   ],
   "source": [
    "# Izbacivanje nepotrebnih kolona (atributa) iz test skupa\n",
    "\n",
    "test_ = test.drop(['Low', 'High', 'Open', 'Date', 'Volume_(BTC)', 'Volume_(Currency)', 'Weighted_Price', 'Timestamp'], axis = 1)\n",
    "test_.head()"
   ]
  },
  {
   "cell_type": "code",
   "execution_count": 64,
   "metadata": {
    "colab": {
     "base_uri": "https://localhost:8080/"
    },
    "id": "_iWrck9Mvy_W",
    "outputId": "bd23cafc-1e70-4af8-d68c-a62144aa58a4"
   },
   "outputs": [
    {
     "data": {
      "text/plain": [
       "((2298, 9), (2298, 1))"
      ]
     },
     "execution_count": 64,
     "metadata": {},
     "output_type": "execute_result"
    }
   ],
   "source": [
    "# Dimenzije train skupa - pre i nakon izbacivanja atributa\n",
    "\n",
    "train.shape, train_.shape"
   ]
  },
  {
   "cell_type": "markdown",
   "metadata": {
    "id": "aos7IhTSlJ_c"
   },
   "source": [
    "### **Skaliranje**"
   ]
  },
  {
   "cell_type": "code",
   "execution_count": 65,
   "metadata": {
    "colab": {
     "base_uri": "https://localhost:8080/"
    },
    "id": "3F3uP_YAjuAb",
    "outputId": "cfbd0891-e95c-46aa-af9c-04c3494f07cb"
   },
   "outputs": [
    {
     "name": "stdout",
     "output_type": "stream",
     "text": [
      "[[0.19947492]\n",
      " [0.21134984]\n",
      " [0.19379327]\n",
      " ...\n",
      " [0.84805843]\n",
      " [0.84788789]\n",
      " [0.86661356]]\n",
      "[[0.85998721]\n",
      " [0.87748769]\n",
      " [0.87798135]\n",
      " [0.87967104]\n",
      " [0.89411752]\n",
      " [0.88930875]\n",
      " [0.90001683]\n",
      " [0.892365  ]\n",
      " [0.89619765]\n",
      " [0.89169631]\n",
      " [0.88706482]\n",
      " [0.883111  ]\n",
      " [0.890976  ]\n",
      " [0.88471541]\n",
      " [0.87884078]\n",
      " [0.884592  ]\n",
      " [0.89078527]\n",
      " [0.88658461]\n",
      " [0.90969494]\n",
      " [0.91040627]\n",
      " [0.91591065]\n",
      " [0.91091788]\n",
      " [0.89896891]\n",
      " [0.89149435]\n",
      " [0.890884  ]\n",
      " [0.88585758]\n",
      " [0.88617173]\n",
      " [0.88167488]\n",
      " [0.88606626]\n",
      " [0.88514625]\n",
      " [0.88289782]\n",
      " [0.88189703]\n",
      " [0.87901581]\n",
      " [0.88255226]\n",
      " [0.89066185]\n",
      " [0.89656341]\n",
      " [0.87681675]\n",
      " [0.87034523]\n",
      " [0.86045844]\n",
      " [0.87162876]\n",
      " [0.87796789]\n",
      " [0.88213264]\n",
      " [0.87951845]\n",
      " [0.88105106]\n",
      " [0.88396594]\n",
      " [0.88037115]\n",
      " [0.87892156]\n",
      " [0.88267343]\n",
      " [0.86943419]\n",
      " [0.87643304]\n",
      " [0.88933119]\n",
      " [0.88828776]\n",
      " [0.88823391]\n",
      " [0.88563543]\n",
      " [0.89429703]\n",
      " [0.88533474]\n",
      " [0.87291678]\n",
      " [0.8683571 ]\n",
      " [0.863398  ]\n",
      " [0.85969325]\n",
      " [0.85709253]\n",
      " [0.85961472]\n",
      " [0.8729841 ]\n",
      " [0.87084338]\n",
      " [0.85860494]\n",
      " [0.85842543]\n",
      " [0.85234211]\n",
      " [0.85465337]\n",
      " [0.86025424]\n",
      " [0.85728102]\n",
      " [0.85017671]\n",
      " [0.84498199]\n",
      " [0.84432676]\n",
      " [0.83374659]\n",
      " [0.8340024 ]\n",
      " [0.84706886]\n",
      " [0.85658091]\n",
      " [0.85148941]\n",
      " [0.85594139]\n",
      " [0.85805742]\n",
      " [0.84655724]\n",
      " [0.84746379]\n",
      " [0.84177316]\n",
      " [0.83427392]\n",
      " [0.83494934]\n",
      " [0.81122642]\n",
      " [0.80258951]\n",
      " [0.81296099]\n",
      " [0.80960181]\n",
      " [0.81236859]\n",
      " [0.80904532]\n",
      " [0.81518473]\n",
      " [0.82714044]\n",
      " [0.82854963]\n",
      " [0.80764734]\n",
      " [0.84068036]\n",
      " [0.83928463]\n",
      " [0.81817366]\n",
      " [0.79934701]\n",
      " [0.80447441]\n",
      " [0.80594195]\n",
      " [0.8208058 ]\n",
      " [0.82593544]\n",
      " [0.83196042]\n",
      " [0.85140414]\n",
      " [0.86046966]\n",
      " [0.83679386]\n",
      " [0.83161934]\n",
      " [0.84225112]\n",
      " [0.84900313]\n",
      " [0.84448608]\n",
      " [0.8341864 ]\n",
      " [0.85447161]\n",
      " [0.8557888 ]\n",
      " [0.84907942]\n",
      " [0.84083744]\n",
      " [0.83345937]\n",
      " [0.83519393]\n",
      " [0.82679936]\n",
      " [0.8274703 ]\n",
      " [0.83553501]\n",
      " [0.83791583]\n",
      " [0.85326213]\n",
      " [0.85962369]\n",
      " [0.84923874]\n",
      " [0.85483961]\n",
      " [0.85473864]\n",
      " [0.84827834]\n",
      " [0.85472966]\n",
      " [0.83877975]\n",
      " [0.84325192]\n",
      " [0.84264381]\n",
      " [0.8374289 ]\n",
      " [0.84438286]\n",
      " [0.84497302]\n",
      " [0.83730323]\n",
      " [0.83015853]\n",
      " [0.83051083]\n",
      " [0.85036071]\n",
      " [0.84442101]\n",
      " [0.83990845]\n",
      " [0.84867776]\n",
      " [0.85679408]\n",
      " [0.87764925]\n",
      " [0.8690774 ]\n",
      " [0.85875753]\n",
      " [0.86090722]\n",
      " [0.85545445]\n",
      " [0.85333842]\n",
      " [0.84637772]\n",
      " [0.84963816]\n",
      " [0.83956064]\n",
      " [0.84357504]\n",
      " [0.83483041]\n",
      " [0.85382535]\n",
      " [0.85306017]\n",
      " [0.86310404]\n",
      " [0.87723412]\n",
      " [0.86330151]\n",
      " [0.85788913]\n",
      " [0.86657766]\n",
      " [0.85221645]\n",
      " [0.85472966]\n",
      " [0.85590997]\n",
      " [0.84535224]\n",
      " [0.84872937]\n",
      " [0.86194392]\n",
      " [0.86769289]\n",
      " [0.85609398]\n",
      " [0.85763781]\n",
      " [0.85130766]\n",
      " [0.86270686]\n",
      " [0.87052923]\n",
      " [0.87802399]\n",
      " [0.87087256]\n",
      " [0.88913597]\n",
      " [0.87862312]\n",
      " [0.87597078]\n",
      " [0.88053495]\n",
      " [0.88796015]\n",
      " [0.88201147]\n",
      " [0.87356079]\n",
      " [0.88282602]\n",
      " [0.87258244]\n",
      " [0.86966307]\n",
      " [0.86865779]\n",
      " [0.8723199 ]\n",
      " [0.86851193]\n",
      " [0.87716905]\n",
      " [0.87394675]\n",
      " [0.8863131 ]\n",
      " [0.88440126]\n",
      " [0.88224484]\n",
      " [0.88322319]\n",
      " [0.88406467]\n",
      " [0.8768549 ]\n",
      " [0.87831794]\n",
      " [0.87550853]\n",
      " [0.87368197]\n",
      " [0.87072221]\n",
      " [0.87498345]\n",
      " [0.88004578]\n",
      " [0.87788038]\n",
      " [0.87425417]\n",
      " [0.87375826]\n",
      " [0.8740208 ]\n",
      " [0.87736427]\n",
      " [0.88193068]\n",
      " [0.87849746]\n",
      " [0.86817085]\n",
      " [0.86166568]\n",
      " [0.85909412]\n",
      " [0.844053  ]\n",
      " [0.85986155]\n",
      " [0.85668189]\n",
      " [0.85999619]\n",
      " [0.8737246 ]\n",
      " [0.87158388]\n",
      " [0.88197108]\n",
      " [0.88213264]\n",
      " [0.89616623]\n",
      " [0.91965802]\n",
      " [0.91574684]\n",
      " [0.93899629]\n",
      " [0.94585376]\n",
      " [0.93081937]\n",
      " [0.92795386]\n",
      " [0.93030327]\n",
      " [0.93306107]\n",
      " [0.92911847]\n",
      " [0.93364674]\n",
      " [0.9324395 ]\n",
      " [0.9389918 ]\n",
      " [0.92720215]\n",
      " [0.92910725]\n",
      " [0.92827699]\n",
      " [0.93483378]\n",
      " [0.93899629]\n",
      " [0.93184934]\n",
      " [0.92837348]\n",
      " [0.93136914]\n",
      " [0.91983081]\n",
      " [0.9165569 ]\n",
      " [0.92406961]\n",
      " [0.92387663]\n",
      " [0.90581292]\n",
      " [0.89721864]\n",
      " [0.87429007]\n",
      " [0.88880387]\n",
      " [0.88637144]\n",
      " [0.88367198]\n",
      " [0.89490963]\n",
      " [0.88582841]\n",
      " [0.88831918]\n",
      " [0.88749565]\n",
      " [0.89239417]\n",
      " [0.89748342]\n",
      " [0.90616971]\n",
      " [0.89446533]\n",
      " [0.89151679]\n",
      " [0.90826106]\n",
      " [0.90065186]\n",
      " [0.9079671 ]\n",
      " [0.90769559]\n",
      " [0.90389211]\n",
      " [0.8919566 ]\n",
      " [0.88258143]\n",
      " [0.89632779]\n",
      " [0.88960944]\n",
      " [0.87560727]\n",
      " [0.87820126]\n",
      " [0.88067184]\n",
      " [0.87989319]\n",
      " [0.8871456 ]\n",
      " [0.88879714]\n",
      " [0.88273626]\n",
      " [0.88043398]\n",
      " [0.87760886]\n",
      " [0.88118794]\n",
      " [0.89858295]\n",
      " [0.88417238]\n",
      " [0.87386148]\n",
      " [0.88128667]\n",
      " [0.89021755]\n",
      " [0.88582392]\n",
      " [0.88240864]\n",
      " [0.87569702]\n",
      " [0.86795095]\n",
      " [0.86813944]\n",
      " [0.86204939]\n",
      " [0.8759102 ]\n",
      " [0.86991439]\n",
      " [0.8668963 ]\n",
      " [0.85664374]\n",
      " [0.85876202]\n",
      " [0.86333965]\n",
      " [0.8672845 ]\n",
      " [0.86845583]\n",
      " [0.87959026]\n",
      " [0.87872185]\n",
      " [0.87510014]\n",
      " [0.86968551]\n",
      " [0.88488146]\n",
      " [0.88620539]\n",
      " [0.89477723]\n",
      " [0.8947907 ]\n",
      " [0.8905519 ]\n",
      " [0.88933793]\n",
      " [0.92331564]\n",
      " [0.91891752]\n",
      " [0.92656711]\n",
      " [0.9165569 ]\n",
      " [0.91337275]\n",
      " [0.91742306]\n",
      " [0.91218346]\n",
      " [0.89923145]\n",
      " [0.89830695]\n",
      " [0.89875574]\n",
      " [0.8993975 ]\n",
      " [0.89853134]\n",
      " [0.90373504]\n",
      " [0.90447329]\n",
      " [0.90006844]\n",
      " [0.89959273]\n",
      " [0.9037126 ]\n",
      " [0.89977897]\n",
      " [0.9040245 ]\n",
      " [0.90100192]\n",
      " [0.90450471]\n",
      " [0.91248191]\n",
      " [0.90728719]\n",
      " [0.91128365]\n",
      " [0.91471238]\n",
      " [0.92338072]\n",
      " [0.94323957]\n",
      " [0.92503674]\n",
      " [0.91489863]\n",
      " [0.89077405]\n",
      " [0.8978604 ]\n",
      " [0.89346902]\n",
      " [0.88325685]\n",
      " [0.88229645]\n",
      " [0.87662377]\n",
      " [0.85150961]\n",
      " [0.85370194]\n",
      " [0.83201427]\n",
      " [0.82562802]\n",
      " [0.83666371]\n",
      " [0.82732668]\n",
      " [0.82172806]\n",
      " [0.8308003 ]\n",
      " [0.85603339]\n",
      " [0.86591121]\n",
      " [0.86359546]\n",
      " [0.87167813]\n",
      " [0.85435044]\n",
      " [0.85546567]\n",
      " [0.82804923]\n",
      " [0.82072053]\n",
      " [0.80657698]\n",
      " [0.8078852 ]\n",
      " [0.82236758]\n",
      " [0.81020094]\n",
      " [0.80133739]\n",
      " [0.8171392 ]\n",
      " [0.83759495]\n",
      " [0.81316519]\n",
      " [0.81496707]\n",
      " [0.80601151]\n",
      " [0.79739928]\n",
      " [0.8198813 ]\n",
      " [0.81602621]\n",
      " [0.81631119]\n",
      " [0.82155752]\n",
      " [0.83057591]\n",
      " [0.82181781]\n",
      " [0.84754681]\n",
      " [0.84871142]\n",
      " [0.84377251]\n",
      " [0.85003085]\n",
      " [0.86154899]\n",
      " [0.86337556]\n",
      " [0.85420682]\n",
      " [0.85729673]\n",
      " [0.85089701]\n",
      " [0.83686342]\n",
      " [0.85807313]\n",
      " [0.85680755]\n",
      " [0.85705438]\n",
      " [0.84653255]\n",
      " [0.84467457]\n",
      " [0.84846907]\n",
      " [0.83767124]\n",
      " [0.84179111]\n",
      " [0.84229151]\n",
      " [0.82479328]\n",
      " [0.82807616]\n",
      " [0.84137598]\n",
      " [0.84475087]\n",
      " [0.84720125]\n",
      " [0.83360747]\n",
      " [0.8379652 ]\n",
      " [0.83487978]\n",
      " [0.84192799]\n",
      " [0.84993436]\n",
      " [0.85139292]\n",
      " [0.84603664]\n",
      " [0.85348203]\n",
      " [0.86152431]\n",
      " [0.85723614]\n",
      " [0.85639018]\n",
      " [0.85508645]\n",
      " [0.85327783]\n",
      " [0.85463766]\n",
      " [0.85073769]\n",
      " [0.85475883]\n",
      " [0.84699481]\n",
      " [0.84522658]\n",
      " [0.83964366]\n",
      " [0.83638995]\n",
      " [0.83632263]\n",
      " [0.83231496]\n",
      " [0.84130418]\n",
      " [0.84865308]\n",
      " [0.86088927]\n",
      " [0.85598402]\n",
      " [0.8484399 ]\n",
      " [0.84968529]\n",
      " [0.84841297]\n",
      " [0.84851844]\n",
      " [0.85117077]\n",
      " [0.86224461]\n",
      " [0.86174421]\n",
      " [0.85598178]\n",
      " [0.86325214]\n",
      " [0.86230744]\n",
      " [0.85818981]\n",
      " [0.84704417]\n",
      " [0.85280212]\n",
      " [0.85130766]\n",
      " [0.84260791]\n",
      " [0.83957186]\n",
      " [0.85104736]\n",
      " [0.84536122]\n",
      " [0.85233987]\n",
      " [0.85708355]\n",
      " [0.86011287]\n",
      " [0.85784874]\n",
      " [0.87167813]\n",
      " [0.88789507]\n",
      " [0.87095558]\n",
      " [0.86708479]\n",
      " [0.86239047]\n",
      " [0.86314892]\n",
      " [0.86248696]\n",
      " [0.86327682]\n",
      " [0.87329377]\n",
      " [0.87251736]\n",
      " [0.87193394]\n",
      " [0.86914023]\n",
      " [0.85098228]\n",
      " [0.86565091]\n",
      " [0.88287314]\n",
      " [0.87376724]\n",
      " [0.87472764]\n",
      " [0.88104657]\n",
      " [0.89130137]\n",
      " [0.88982486]\n",
      " [0.89032077]\n",
      " [0.89050702]\n",
      " [0.88900582]\n",
      " [0.89288335]\n",
      " [0.8805013 ]\n",
      " [0.87801726]\n",
      " [0.8823144 ]\n",
      " [0.89813192]\n",
      " [0.89788733]\n",
      " [0.89038809]\n",
      " [0.88767292]\n",
      " [0.89300452]\n",
      " [0.88710072]\n",
      " [0.88273401]\n",
      " [0.88060676]\n",
      " [0.87939503]\n",
      " [0.87673148]\n",
      " [0.88710072]\n",
      " [0.87463564]\n",
      " [0.87459301]\n",
      " [0.87064143]\n",
      " [0.86840422]\n",
      " [0.86094313]\n",
      " [0.85820328]\n",
      " [0.85129419]\n",
      " [0.85742239]\n",
      " [0.86795992]\n",
      " [0.86413176]\n",
      " [0.8572339 ]\n",
      " [0.85021037]\n",
      " [0.85372662]\n",
      " [0.85888319]\n",
      " [0.865247  ]\n",
      " [0.85433248]\n",
      " [0.84981319]\n",
      " [0.84169687]\n",
      " [0.84368724]\n",
      " [0.8481078 ]\n",
      " [0.84899415]\n",
      " [0.84437164]\n",
      " [0.84756925]\n",
      " [0.8501251 ]\n",
      " [0.85200776]\n",
      " [0.84997027]\n",
      " [0.85075565]\n",
      " [0.85057389]\n",
      " [0.85174074]\n",
      " [0.83961   ]\n",
      " [0.83845662]\n",
      " [0.84154652]\n",
      " [0.82668043]\n",
      " [0.83193349]\n",
      " [0.83420211]\n",
      " [0.82608354]\n",
      " [0.82621145]\n",
      " [0.83210179]\n",
      " [0.84252039]\n",
      " [0.85451649]\n",
      " [0.85063896]\n",
      " [0.85203469]\n",
      " [0.85035174]\n",
      " [0.85678287]\n",
      " [0.84827609]\n",
      " [0.834983  ]\n",
      " [0.83176519]\n",
      " [0.83113016]\n",
      " [0.83247877]\n",
      " [0.83390142]\n",
      " [0.83956737]\n",
      " [0.83066118]\n",
      " [0.83383411]\n",
      " [0.84337084]\n",
      " [0.84754681]\n",
      " [0.85618598]\n",
      " [0.85409687]\n",
      " [0.86011063]\n",
      " [0.85930954]\n",
      " [0.85732365]\n",
      " [0.86179134]\n",
      " [0.85028891]\n",
      " [0.85568782]\n",
      " [0.84245083]\n",
      " [0.83313624]\n",
      " [0.83632937]\n",
      " [0.82684424]\n",
      " [0.83049064]\n",
      " [0.83046371]\n",
      " [0.83046371]\n",
      " [0.83141963]\n",
      " [0.82867978]\n",
      " [0.82679936]\n",
      " [0.82679936]\n",
      " [0.84173053]\n",
      " [0.8498648 ]\n",
      " [0.84423476]\n",
      " [0.83670186]\n",
      " [0.84686914]\n",
      " [0.8492163 ]\n",
      " [0.84890215]\n",
      " [0.85820328]\n",
      " [0.85244982]\n",
      " [0.84609723]\n",
      " [0.8460546 ]\n",
      " [0.85458829]\n",
      " [0.86283477]\n",
      " [0.86678186]]\n",
      "[[0.85998721]\n",
      " [0.87748769]\n",
      " [0.87798135]\n",
      " [0.87967104]\n",
      " [0.89411752]\n",
      " [0.88930875]\n",
      " [0.90001683]\n",
      " [0.892365  ]\n",
      " [0.89619765]\n",
      " [0.89169631]\n",
      " [0.88706482]\n",
      " [0.883111  ]\n",
      " [0.890976  ]\n",
      " [0.88471541]\n",
      " [0.87884078]\n",
      " [0.884592  ]\n",
      " [0.89078527]\n",
      " [0.88658461]\n",
      " [0.90969494]\n",
      " [0.91040627]\n",
      " [0.91591065]\n",
      " [0.91091788]\n",
      " [0.89896891]\n",
      " [0.89149435]\n",
      " [0.890884  ]\n",
      " [0.88585758]\n",
      " [0.88617173]\n",
      " [0.88167488]\n",
      " [0.88606626]\n",
      " [0.88514625]\n",
      " [0.88289782]\n",
      " [0.88189703]\n",
      " [0.87901581]\n",
      " [0.88255226]\n",
      " [0.89066185]\n",
      " [0.89656341]\n",
      " [0.87681675]\n",
      " [0.87034523]\n",
      " [0.86045844]\n",
      " [0.87162876]\n",
      " [0.87796789]\n",
      " [0.88213264]\n",
      " [0.87951845]\n",
      " [0.88105106]\n",
      " [0.88396594]\n",
      " [0.88037115]\n",
      " [0.87892156]\n",
      " [0.88267343]\n",
      " [0.86943419]\n",
      " [0.87643304]\n",
      " [0.88933119]\n",
      " [0.88828776]\n",
      " [0.88823391]\n",
      " [0.88563543]\n",
      " [0.89429703]\n",
      " [0.88533474]\n",
      " [0.87291678]\n",
      " [0.8683571 ]\n",
      " [0.863398  ]\n",
      " [0.85969325]\n",
      " [0.85709253]\n",
      " [0.85961472]\n",
      " [0.8729841 ]\n",
      " [0.87084338]\n",
      " [0.85860494]\n",
      " [0.85842543]\n",
      " [0.85234211]\n",
      " [0.85465337]\n",
      " [0.86025424]\n",
      " [0.85728102]\n",
      " [0.85017671]\n",
      " [0.84498199]\n",
      " [0.84432676]\n",
      " [0.83374659]\n",
      " [0.8340024 ]\n",
      " [0.84706886]\n",
      " [0.85658091]\n",
      " [0.85148941]\n",
      " [0.85594139]\n",
      " [0.85805742]\n",
      " [0.84655724]\n",
      " [0.84746379]\n",
      " [0.84177316]\n",
      " [0.83427392]\n",
      " [0.83494934]\n",
      " [0.81122642]\n",
      " [0.80258951]\n",
      " [0.81296099]\n",
      " [0.80960181]\n",
      " [0.81236859]\n",
      " [0.80904532]\n",
      " [0.81518473]\n",
      " [0.82714044]\n",
      " [0.82854963]\n",
      " [0.80764734]\n",
      " [0.84068036]\n",
      " [0.83928463]\n",
      " [0.81817366]\n",
      " [0.79934701]\n",
      " [0.80447441]\n",
      " [0.80594195]\n",
      " [0.8208058 ]\n",
      " [0.82593544]\n",
      " [0.83196042]\n",
      " [0.85140414]\n",
      " [0.86046966]\n",
      " [0.83679386]\n",
      " [0.83161934]\n",
      " [0.84225112]\n",
      " [0.84900313]\n",
      " [0.84448608]\n",
      " [0.8341864 ]\n",
      " [0.85447161]\n",
      " [0.8557888 ]\n",
      " [0.84907942]\n",
      " [0.84083744]\n",
      " [0.83345937]\n",
      " [0.83519393]\n",
      " [0.82679936]\n",
      " [0.8274703 ]\n",
      " [0.83553501]\n",
      " [0.83791583]\n",
      " [0.85326213]\n",
      " [0.85962369]\n",
      " [0.84923874]\n",
      " [0.85483961]\n",
      " [0.85473864]\n",
      " [0.84827834]\n",
      " [0.85472966]\n",
      " [0.83877975]\n",
      " [0.84325192]\n",
      " [0.84264381]\n",
      " [0.8374289 ]\n",
      " [0.84438286]\n",
      " [0.84497302]\n",
      " [0.83730323]\n",
      " [0.83015853]\n",
      " [0.83051083]\n",
      " [0.85036071]\n",
      " [0.84442101]\n",
      " [0.83990845]\n",
      " [0.84867776]\n",
      " [0.85679408]\n",
      " [0.87764925]\n",
      " [0.8690774 ]\n",
      " [0.85875753]\n",
      " [0.86090722]\n",
      " [0.85545445]\n",
      " [0.85333842]\n",
      " [0.84637772]\n",
      " [0.84963816]\n",
      " [0.83956064]\n",
      " [0.84357504]\n",
      " [0.83483041]\n",
      " [0.85382535]\n",
      " [0.85306017]\n",
      " [0.86310404]\n",
      " [0.87723412]\n",
      " [0.86330151]\n",
      " [0.85788913]\n",
      " [0.86657766]\n",
      " [0.85221645]\n",
      " [0.85472966]\n",
      " [0.85590997]\n",
      " [0.84535224]\n",
      " [0.84872937]\n",
      " [0.86194392]\n",
      " [0.86769289]\n",
      " [0.85609398]\n",
      " [0.85763781]\n",
      " [0.85130766]\n",
      " [0.86270686]\n",
      " [0.87052923]\n",
      " [0.87802399]\n",
      " [0.87087256]\n",
      " [0.88913597]\n",
      " [0.87862312]\n",
      " [0.87597078]\n",
      " [0.88053495]\n",
      " [0.88796015]\n",
      " [0.88201147]\n",
      " [0.87356079]\n",
      " [0.88282602]\n",
      " [0.87258244]\n",
      " [0.86966307]\n",
      " [0.86865779]\n",
      " [0.8723199 ]\n",
      " [0.86851193]\n",
      " [0.87716905]\n",
      " [0.87394675]\n",
      " [0.8863131 ]\n",
      " [0.88440126]\n",
      " [0.88224484]\n",
      " [0.88322319]\n",
      " [0.88406467]\n",
      " [0.8768549 ]\n",
      " [0.87831794]\n",
      " [0.87550853]\n",
      " [0.87368197]\n",
      " [0.87072221]\n",
      " [0.87498345]\n",
      " [0.88004578]\n",
      " [0.87788038]\n",
      " [0.87425417]\n",
      " [0.87375826]\n",
      " [0.8740208 ]\n",
      " [0.87736427]\n",
      " [0.88193068]\n",
      " [0.87849746]\n",
      " [0.86817085]\n",
      " [0.86166568]\n",
      " [0.85909412]\n",
      " [0.844053  ]\n",
      " [0.85986155]\n",
      " [0.85668189]\n",
      " [0.85999619]\n",
      " [0.8737246 ]\n",
      " [0.87158388]\n",
      " [0.88197108]\n",
      " [0.88213264]\n",
      " [0.89616623]\n",
      " [0.91965802]\n",
      " [0.91574684]\n",
      " [0.93899629]\n",
      " [0.94585376]\n",
      " [0.93081937]\n",
      " [0.92795386]\n",
      " [0.93030327]\n",
      " [0.93306107]\n",
      " [0.92911847]\n",
      " [0.93364674]\n",
      " [0.9324395 ]\n",
      " [0.9389918 ]\n",
      " [0.92720215]\n",
      " [0.92910725]\n",
      " [0.92827699]\n",
      " [0.93483378]\n",
      " [0.93899629]\n",
      " [0.93184934]\n",
      " [0.92837348]\n",
      " [0.93136914]\n",
      " [0.91983081]\n",
      " [0.9165569 ]\n",
      " [0.92406961]\n",
      " [0.92387663]\n",
      " [0.90581292]\n",
      " [0.89721864]\n",
      " [0.87429007]\n",
      " [0.88880387]\n",
      " [0.88637144]\n",
      " [0.88367198]\n",
      " [0.89490963]\n",
      " [0.88582841]\n",
      " [0.88831918]\n",
      " [0.88749565]\n",
      " [0.89239417]\n",
      " [0.89748342]\n",
      " [0.90616971]\n",
      " [0.89446533]\n",
      " [0.89151679]\n",
      " [0.90826106]\n",
      " [0.90065186]\n",
      " [0.9079671 ]\n",
      " [0.90769559]\n",
      " [0.90389211]\n",
      " [0.8919566 ]\n",
      " [0.88258143]\n",
      " [0.89632779]\n",
      " [0.88960944]\n",
      " [0.87560727]\n",
      " [0.87820126]\n",
      " [0.88067184]\n",
      " [0.87989319]\n",
      " [0.8871456 ]\n",
      " [0.88879714]\n",
      " [0.88273626]\n",
      " [0.88043398]\n",
      " [0.87760886]\n",
      " [0.88118794]\n",
      " [0.89858295]\n",
      " [0.88417238]\n",
      " [0.87386148]\n",
      " [0.88128667]\n",
      " [0.89021755]\n",
      " [0.88582392]\n",
      " [0.88240864]\n",
      " [0.87569702]\n",
      " [0.86795095]\n",
      " [0.86813944]\n",
      " [0.86204939]\n",
      " [0.8759102 ]\n",
      " [0.86991439]\n",
      " [0.8668963 ]\n",
      " [0.85664374]\n",
      " [0.85876202]\n",
      " [0.86333965]\n",
      " [0.8672845 ]\n",
      " [0.86845583]\n",
      " [0.87959026]\n",
      " [0.87872185]\n",
      " [0.87510014]\n",
      " [0.86968551]\n",
      " [0.88488146]\n",
      " [0.88620539]\n",
      " [0.89477723]\n",
      " [0.8947907 ]\n",
      " [0.8905519 ]\n",
      " [0.88933793]\n",
      " [0.92331564]\n",
      " [0.91891752]\n",
      " [0.92656711]\n",
      " [0.9165569 ]\n",
      " [0.91337275]\n",
      " [0.91742306]\n",
      " [0.91218346]\n",
      " [0.89923145]\n",
      " [0.89830695]\n",
      " [0.89875574]\n",
      " [0.8993975 ]\n",
      " [0.89853134]\n",
      " [0.90373504]\n",
      " [0.90447329]\n",
      " [0.90006844]\n",
      " [0.89959273]\n",
      " [0.9037126 ]\n",
      " [0.89977897]\n",
      " [0.9040245 ]\n",
      " [0.90100192]\n",
      " [0.90450471]\n",
      " [0.91248191]\n",
      " [0.90728719]\n",
      " [0.91128365]\n",
      " [0.91471238]\n",
      " [0.92338072]\n",
      " [0.94323957]\n",
      " [0.92503674]\n",
      " [0.91489863]\n",
      " [0.89077405]\n",
      " [0.8978604 ]\n",
      " [0.89346902]\n",
      " [0.88325685]\n",
      " [0.88229645]\n",
      " [0.87662377]\n",
      " [0.85150961]\n",
      " [0.85370194]\n",
      " [0.83201427]\n",
      " [0.82562802]\n",
      " [0.83666371]\n",
      " [0.82732668]\n",
      " [0.82172806]\n",
      " [0.8308003 ]\n",
      " [0.85603339]\n",
      " [0.86591121]\n",
      " [0.86359546]\n",
      " [0.87167813]\n",
      " [0.85435044]\n",
      " [0.85546567]\n",
      " [0.82804923]\n",
      " [0.82072053]\n",
      " [0.80657698]\n",
      " [0.8078852 ]\n",
      " [0.82236758]\n",
      " [0.81020094]\n",
      " [0.80133739]\n",
      " [0.8171392 ]\n",
      " [0.83759495]\n",
      " [0.81316519]\n",
      " [0.81496707]\n",
      " [0.80601151]\n",
      " [0.79739928]\n",
      " [0.8198813 ]\n",
      " [0.81602621]\n",
      " [0.81631119]\n",
      " [0.82155752]\n",
      " [0.83057591]\n",
      " [0.82181781]\n",
      " [0.84754681]\n",
      " [0.84871142]\n",
      " [0.84377251]\n",
      " [0.85003085]\n",
      " [0.86154899]\n",
      " [0.86337556]\n",
      " [0.85420682]\n",
      " [0.85729673]\n",
      " [0.85089701]\n",
      " [0.83686342]\n",
      " [0.85807313]\n",
      " [0.85680755]\n",
      " [0.85705438]\n",
      " [0.84653255]\n",
      " [0.84467457]\n",
      " [0.84846907]\n",
      " [0.83767124]\n",
      " [0.84179111]\n",
      " [0.84229151]\n",
      " [0.82479328]\n",
      " [0.82807616]\n",
      " [0.84137598]\n",
      " [0.84475087]\n",
      " [0.84720125]\n",
      " [0.83360747]\n",
      " [0.8379652 ]\n",
      " [0.83487978]\n",
      " [0.84192799]\n",
      " [0.84993436]\n",
      " [0.85139292]\n",
      " [0.84603664]\n",
      " [0.85348203]\n",
      " [0.86152431]\n",
      " [0.85723614]\n",
      " [0.85639018]\n",
      " [0.85508645]\n",
      " [0.85327783]\n",
      " [0.85463766]\n",
      " [0.85073769]\n",
      " [0.85475883]\n",
      " [0.84699481]\n",
      " [0.84522658]\n",
      " [0.83964366]\n",
      " [0.83638995]\n",
      " [0.83632263]\n",
      " [0.83231496]\n",
      " [0.84130418]\n",
      " [0.84865308]\n",
      " [0.86088927]\n",
      " [0.85598402]\n",
      " [0.8484399 ]\n",
      " [0.84968529]\n",
      " [0.84841297]\n",
      " [0.84851844]\n",
      " [0.85117077]\n",
      " [0.86224461]\n",
      " [0.86174421]\n",
      " [0.85598178]\n",
      " [0.86325214]\n",
      " [0.86230744]\n",
      " [0.85818981]\n",
      " [0.84704417]\n",
      " [0.85280212]\n",
      " [0.85130766]\n",
      " [0.84260791]\n",
      " [0.83957186]\n",
      " [0.85104736]\n",
      " [0.84536122]\n",
      " [0.85233987]\n",
      " [0.85708355]\n",
      " [0.86011287]\n",
      " [0.85784874]\n",
      " [0.87167813]\n",
      " [0.88789507]\n",
      " [0.87095558]\n",
      " [0.86708479]\n",
      " [0.86239047]\n",
      " [0.86314892]\n",
      " [0.86248696]\n",
      " [0.86327682]\n",
      " [0.87329377]\n",
      " [0.87251736]\n",
      " [0.87193394]\n",
      " [0.86914023]\n",
      " [0.85098228]\n",
      " [0.86565091]\n",
      " [0.88287314]\n",
      " [0.87376724]\n",
      " [0.87472764]\n",
      " [0.88104657]\n",
      " [0.89130137]\n",
      " [0.88982486]\n",
      " [0.89032077]\n",
      " [0.89050702]\n",
      " [0.88900582]\n",
      " [0.89288335]\n",
      " [0.8805013 ]\n",
      " [0.87801726]\n",
      " [0.8823144 ]\n",
      " [0.89813192]\n",
      " [0.89788733]\n",
      " [0.89038809]\n",
      " [0.88767292]\n",
      " [0.89300452]\n",
      " [0.88710072]\n",
      " [0.88273401]\n",
      " [0.88060676]\n",
      " [0.87939503]\n",
      " [0.87673148]\n",
      " [0.88710072]\n",
      " [0.87463564]\n",
      " [0.87459301]\n",
      " [0.87064143]\n",
      " [0.86840422]\n",
      " [0.86094313]\n",
      " [0.85820328]\n",
      " [0.85129419]\n",
      " [0.85742239]\n",
      " [0.86795992]\n",
      " [0.86413176]\n",
      " [0.8572339 ]\n",
      " [0.85021037]\n",
      " [0.85372662]\n",
      " [0.85888319]\n",
      " [0.865247  ]\n",
      " [0.85433248]\n",
      " [0.84981319]\n",
      " [0.84169687]\n",
      " [0.84368724]\n",
      " [0.8481078 ]\n",
      " [0.84899415]\n",
      " [0.84437164]\n",
      " [0.84756925]\n",
      " [0.8501251 ]\n",
      " [0.85200776]\n",
      " [0.84997027]\n",
      " [0.85075565]\n",
      " [0.85057389]\n",
      " [0.85174074]\n",
      " [0.83961   ]\n",
      " [0.83845662]\n",
      " [0.84154652]\n",
      " [0.82668043]\n",
      " [0.83193349]\n",
      " [0.83420211]\n",
      " [0.82608354]\n",
      " [0.82621145]\n",
      " [0.83210179]\n",
      " [0.84252039]\n",
      " [0.85451649]\n",
      " [0.85063896]\n",
      " [0.85203469]\n",
      " [0.85035174]\n",
      " [0.85678287]\n",
      " [0.84827609]\n",
      " [0.834983  ]\n",
      " [0.83176519]\n",
      " [0.83113016]\n",
      " [0.83247877]\n",
      " [0.83390142]\n",
      " [0.83956737]\n",
      " [0.83066118]\n",
      " [0.83383411]\n",
      " [0.84337084]\n",
      " [0.84754681]\n",
      " [0.85618598]\n",
      " [0.85409687]\n",
      " [0.86011063]\n",
      " [0.85930954]\n",
      " [0.85732365]\n",
      " [0.86179134]\n",
      " [0.85028891]\n",
      " [0.85568782]\n",
      " [0.84245083]\n",
      " [0.83313624]\n",
      " [0.83632937]\n",
      " [0.82684424]\n",
      " [0.83049064]\n",
      " [0.83046371]\n",
      " [0.83046371]\n",
      " [0.83141963]\n",
      " [0.82867978]\n",
      " [0.82679936]\n",
      " [0.82679936]\n",
      " [0.84173053]\n",
      " [0.8498648 ]\n",
      " [0.84423476]\n",
      " [0.83670186]\n",
      " [0.84686914]\n",
      " [0.8492163 ]\n",
      " [0.84890215]\n",
      " [0.85820328]\n",
      " [0.85244982]\n",
      " [0.84609723]\n",
      " [0.8460546 ]\n",
      " [0.85458829]\n",
      " [0.86283477]\n",
      " [0.86678186]]\n"
     ]
    }
   ],
   "source": [
    "scaler = MinMaxScaler(feature_range=(0, 1))\n",
    "\n",
    "# Skaliranje trening skupa\n",
    "\n",
    "train_ = scaler.fit_transform(train_)\n",
    "print(train_)\n",
    "\n",
    "# Skaliranje validacionog skupa\n",
    "\n",
    "validation_ = scaler.transform(validation_)\n",
    "print(validation_)\n",
    "\n",
    "# Skaliranje test skupa\n",
    "\n",
    "test_ = scaler.transform(test_)\n",
    "print(test_)"
   ]
  },
  {
   "cell_type": "markdown",
   "metadata": {
    "id": "InbjlC2IlFqc"
   },
   "source": [
    "### **Odredjivanje ciljne promenljive**"
   ]
  },
  {
   "cell_type": "code",
   "execution_count": 67,
   "metadata": {
    "id": "VlSiQBEacdZX"
   },
   "outputs": [],
   "source": [
    "# Odredjivanje ciljne promenljive na train skupu\n",
    "\n",
    "X_train, y_train = determine_x_and_y(dataset = train_)\n",
    "\n",
    "\n",
    "# Odredjivanje ciljne promenljive na validacionom skupu\n",
    "\n",
    "X_validation, y_validation = determine_x_and_y(dataset = validation_)\n",
    "\n",
    "\n",
    "# Odredjivanje ciljne promenljive na test skupu\n",
    "\n",
    "X_test, y_test = determine_x_and_y(dataset = test_)"
   ]
  },
  {
   "cell_type": "code",
   "execution_count": 68,
   "metadata": {
    "id": "WrqgRP7JciW-"
   },
   "outputs": [],
   "source": [
    "# Konverzija u np.array\n",
    "\n",
    "X_train, y_train = np.array(X_train), np.array(y_train)\n",
    "X_validation, y_validation = np.array(X_validation), np.array(y_validation)\n",
    "X_test, y_test = np.array(X_test), np.array(y_test)"
   ]
  },
  {
   "cell_type": "code",
   "execution_count": 69,
   "metadata": {
    "colab": {
     "base_uri": "https://localhost:8080/"
    },
    "id": "RpddYd9bcmPY",
    "outputId": "ea13a8c7-79f8-4929-b691-756e3342efdf"
   },
   "outputs": [
    {
     "data": {
      "text/plain": [
       "(2238, 60, 1)"
      ]
     },
     "execution_count": 69,
     "metadata": {},
     "output_type": "execute_result"
    }
   ],
   "source": [
    "# Dimenzije X_train\n",
    "\n",
    "X_train.shape"
   ]
  },
  {
   "cell_type": "markdown",
   "metadata": {
    "id": "v38-_t3flcLM"
   },
   "source": [
    "### **Kreiranje, kompilacija i treniranje mreže**"
   ]
  },
  {
   "cell_type": "markdown",
   "metadata": {
    "id": "HNthz4cil_oG"
   },
   "source": [
    "**Kreiranje mreže**"
   ]
  },
  {
   "cell_type": "code",
   "execution_count": 70,
   "metadata": {
    "id": "lfeVY4ggy3Az"
   },
   "outputs": [],
   "source": [
    "# Definicija funkcije koja kreira i vraca model mreze\n",
    "\n",
    "def build_net(step_size = X_train.shape[1], units = 50, nb_features = X_train.shape[2], output_size = 16):\n",
    "\n",
    "  net = Sequential()\n",
    "  net.add(GRU(units = units, input_shape = (step_size, nb_features), return_sequences=False))\n",
    "  net.add(Activation('tanh'))\n",
    "  net.add(Dropout(0.2))\n",
    "  net.add(Dense(output_size))\n",
    "  net.add(Activation('relu'))\n",
    "  \n",
    "  print(net.summary())\n",
    "\n",
    "  return net\n"
   ]
  },
  {
   "cell_type": "code",
   "execution_count": 71,
   "metadata": {
    "id": "BVr9bj3oG-ne"
   },
   "outputs": [],
   "source": [
    "# Zadavanje parametara\n",
    "\n",
    "step_size = X_train.shape[1]\n",
    "units = 50\n",
    "nb_features = X_train.shape[2]\n",
    "output_size = 16"
   ]
  },
  {
   "cell_type": "code",
   "execution_count": 72,
   "metadata": {
    "colab": {
     "base_uri": "https://localhost:8080/"
    },
    "id": "1UBUjLyNh5KP",
    "outputId": "1a2a4232-0c51-4ad9-d473-ea45d33cef04"
   },
   "outputs": [
    {
     "name": "stdout",
     "output_type": "stream",
     "text": [
      "Model: \"sequential_2\"\n",
      "_________________________________________________________________\n",
      "Layer (type)                 Output Shape              Param #   \n",
      "=================================================================\n",
      "gru_2 (GRU)                  (None, 50)                7950      \n",
      "_________________________________________________________________\n",
      "activation_4 (Activation)    (None, 50)                0         \n",
      "_________________________________________________________________\n",
      "dropout_2 (Dropout)          (None, 50)                0         \n",
      "_________________________________________________________________\n",
      "dense_2 (Dense)              (None, 16)                816       \n",
      "_________________________________________________________________\n",
      "activation_5 (Activation)    (None, 16)                0         \n",
      "=================================================================\n",
      "Total params: 8,766\n",
      "Trainable params: 8,766\n",
      "Non-trainable params: 0\n",
      "_________________________________________________________________\n",
      "None\n"
     ]
    }
   ],
   "source": [
    "# Kreiranje modela mreze\n",
    "\n",
    "net = build_net(step_size = X_train.shape[1], units = 50, nb_features = X_train.shape[2], output_size = 16)"
   ]
  },
  {
   "cell_type": "markdown",
   "metadata": {
    "id": "30h12bNEmP83"
   },
   "source": [
    "**Kompilacija i treniranje mreže**"
   ]
  },
  {
   "cell_type": "code",
   "execution_count": 85,
   "metadata": {
    "id": "W1PIqBXAb8LA"
   },
   "outputs": [],
   "source": [
    "# Definicija funkcije za kompilaciju i treniranje mreze\n",
    "# Treniranje je moguce vrsiti sa ili bez validacije\n",
    "\n",
    "def compile_and_fit(optimizer, loss, metrics, X_train_, y_train_, epochs, validation = 1, validation_data = None, batch_size = 50, patience = 3):\n",
    "\n",
    "  net.compile(loss = loss, optimizer = optimizer, metrics = metrics)\n",
    "\n",
    "  callback = callbacks.EarlyStopping(monitor = 'loss', patience = patience)\n",
    "\n",
    "  if validation == 0:\n",
    "    history = net.fit(X_train_, y_train_, batch_size = batch_size, epochs = epochs, callbacks = [callback])\n",
    "  else:\n",
    "    history = net.fit(X_train_, y_train_, batch_size = batch_size, validation_data = validation_data, epochs = epochs, callbacks=[callback])\n",
    "\n",
    "  return history, net\n"
   ]
  },
  {
   "cell_type": "code",
   "execution_count": 83,
   "metadata": {
    "id": "nf4xzBpJ9u3K"
   },
   "outputs": [],
   "source": [
    "# zadavanje parametara\n",
    "\n",
    "output_file_name='bitcoin_close_GRU_tanh_relu_'\n",
    "batch_size = 8\n",
    "epochs = 100\n",
    "\n",
    "optimizer = 'adam'\n",
    "loss = 'mean_squared_error'\n",
    "metrics = ['mse', 'mae']\n",
    "\n",
    "patience = 3\n",
    "\n",
    "validation_data = (X_validation, y_validation)"
   ]
  },
  {
   "cell_type": "code",
   "execution_count": 86,
   "metadata": {
    "colab": {
     "base_uri": "https://localhost:8080/"
    },
    "id": "VWL-DLbIlrbw",
    "outputId": "a30749e1-271f-4fe8-a4c5-d6505f8b0b70"
   },
   "outputs": [
    {
     "name": "stdout",
     "output_type": "stream",
     "text": [
      "Treniranje sa validacijom\n",
      "\n",
      "Epoch 1/100\n",
      "280/280 [==============================] - 10s 29ms/step - loss: 5.6241e-04 - mse: 5.6241e-04 - mae: 0.0173 - val_loss: 1.5527e-04 - val_mse: 1.5527e-04 - val_mae: 0.0103\n",
      "Epoch 2/100\n",
      "280/280 [==============================] - 8s 29ms/step - loss: 5.0013e-04 - mse: 5.0013e-04 - mae: 0.0164 - val_loss: 2.0410e-04 - val_mse: 2.0410e-04 - val_mae: 0.0121\n",
      "Epoch 3/100\n",
      "280/280 [==============================] - 8s 28ms/step - loss: 5.1509e-04 - mse: 5.1509e-04 - mae: 0.0167 - val_loss: 1.0228e-04 - val_mse: 1.0228e-04 - val_mae: 0.0080\n",
      "Epoch 4/100\n",
      "280/280 [==============================] - 8s 27ms/step - loss: 5.0888e-04 - mse: 5.0888e-04 - mae: 0.0164 - val_loss: 7.9472e-05 - val_mse: 7.9472e-05 - val_mae: 0.0068\n",
      "Epoch 5/100\n",
      "280/280 [==============================] - 8s 27ms/step - loss: 5.0680e-04 - mse: 5.0680e-04 - mae: 0.0167 - val_loss: 1.2857e-04 - val_mse: 1.2857e-04 - val_mae: 0.0091\n",
      "\n",
      "Treniranje bez validacije\n",
      "\n",
      "Epoch 1/100\n",
      "280/280 [==============================] - 9s 27ms/step - loss: 5.0316e-04 - mse: 5.0316e-04 - mae: 0.0162\n",
      "Epoch 2/100\n",
      "280/280 [==============================] - 7s 27ms/step - loss: 5.2078e-04 - mse: 5.2078e-04 - mae: 0.0167\n",
      "Epoch 3/100\n",
      "280/280 [==============================] - 7s 26ms/step - loss: 5.2600e-04 - mse: 5.2600e-04 - mae: 0.0167\n",
      "Epoch 4/100\n",
      "280/280 [==============================] - 8s 28ms/step - loss: 5.0163e-04 - mse: 5.0163e-04 - mae: 0.0165\n",
      "Epoch 5/100\n",
      "280/280 [==============================] - 7s 26ms/step - loss: 4.8933e-04 - mse: 4.8933e-04 - mae: 0.0163\n",
      "Epoch 6/100\n",
      "280/280 [==============================] - 7s 26ms/step - loss: 5.3047e-04 - mse: 5.3047e-04 - mae: 0.0166\n",
      "Epoch 7/100\n",
      "280/280 [==============================] - 7s 26ms/step - loss: 5.1193e-04 - mse: 5.1193e-04 - mae: 0.0163\n",
      "Epoch 8/100\n",
      "280/280 [==============================] - 7s 26ms/step - loss: 5.1656e-04 - mse: 5.1656e-04 - mae: 0.0167\n"
     ]
    }
   ],
   "source": [
    "# Kompilacija i treniranje mreze sa validacijom\n",
    "\n",
    "print('Treniranje sa validacijom\\n')\n",
    "history_validation, net_validation = compile_and_fit(optimizer = optimizer, loss = loss, metrics = metrics, X_train_ = X_train, y_train_ = y_train, epochs = epochs, validation = 1, validation_data = validation_data, batch_size = batch_size, patience = patience)\n",
    "\n",
    "\n",
    "# Kompilacija i treniranje mreze bez validacije\n",
    "\n",
    "print('\\nTreniranje bez validacije\\n')\n",
    "history_no_validation, net_no_validation = compile_and_fit(optimizer = optimizer, loss = loss, metrics = metrics, X_train_ = X_train, y_train_ = y_train, epochs = epochs, validation = 0, batch_size = batch_size, patience = patience)\n"
   ]
  },
  {
   "cell_type": "markdown",
   "metadata": {
    "id": "pjo3QnGVsKpt"
   },
   "source": [
    "### **Predvidjanje**"
   ]
  },
  {
   "cell_type": "code",
   "execution_count": 87,
   "metadata": {
    "colab": {
     "base_uri": "https://localhost:8080/"
    },
    "id": "IkU6jqFNrrUZ",
    "outputId": "9005ec9c-d3ab-498a-b718-a0ba8b0f8e5c"
   },
   "outputs": [
    {
     "name": "stdout",
     "output_type": "stream",
     "text": [
      "Predvidjene vrednosti - bez validacije:\n",
      " [[0.8523399  0.8523395  0.8523322  ... 0.85233927 0.852334   0.85232973]\n",
      " [0.84998477 0.8499844  0.849977   ... 0.84998417 0.8499789  0.8499747 ]\n",
      " [0.8527689  0.85276866 0.85276157 ... 0.8527688  0.8527632  0.8527591 ]\n",
      " ...\n",
      " [0.83920825 0.83920664 0.8392003  ... 0.8392066  0.8392019  0.83919805]\n",
      " [0.84796345 0.8479623  0.8479565  ... 0.8479629  0.84795743 0.8479538 ]\n",
      " [0.8561382  0.8561362  0.85613084 ... 0.8561375  0.8561318  0.8561285 ]]\n",
      "\n",
      "Predvidjene vrednosti - sa validacijom:\n",
      " [[0.8523399  0.8523395  0.8523322  ... 0.85233927 0.852334   0.85232973]\n",
      " [0.84998477 0.8499844  0.849977   ... 0.84998417 0.8499789  0.8499747 ]\n",
      " [0.8527689  0.85276866 0.85276157 ... 0.8527688  0.8527632  0.8527591 ]\n",
      " ...\n",
      " [0.83920825 0.83920664 0.8392003  ... 0.8392066  0.8392019  0.83919805]\n",
      " [0.84796345 0.8479623  0.8479565  ... 0.8479629  0.84795743 0.8479538 ]\n",
      " [0.8561382  0.8561362  0.85613084 ... 0.8561375  0.8561318  0.8561285 ]]\n"
     ]
    }
   ],
   "source": [
    "# Predvidjanje za mrezu treniranu bez i sa validacijom\n",
    "\n",
    "# Bez validacije\n",
    "y_predicted_no_validation = net_no_validation.predict(X_test)\n",
    "print('Predvidjene vrednosti - bez validacije:\\n', y_predicted_no_validation)\n",
    "\n",
    "# Sa validacijom\n",
    "y_predicted_validation = net_validation.predict(X_test)\n",
    "print('\\nPredvidjene vrednosti - sa validacijom:\\n', y_predicted_validation)"
   ]
  },
  {
   "cell_type": "markdown",
   "metadata": {
    "id": "Vtwv1-mtsie5"
   },
   "source": [
    "### **Vizualizacija rezultata predvidjanja**"
   ]
  },
  {
   "cell_type": "code",
   "execution_count": 118,
   "metadata": {
    "colab": {
     "base_uri": "https://localhost:8080/",
     "height": 699
    },
    "id": "iEnWZYr6zAhG",
    "outputId": "95547eba-a38b-46ad-ff7b-4500aa35d1a3"
   },
   "outputs": [
    {
     "data": {
      "image/png": "[encoded data removed]",
      "text/plain": [
       "<Figure size 504x360 with 1 Axes>"
      ]
     },
     "metadata": {
      "needs_background": "light"
     },
     "output_type": "display_data"
    },
    {
     "data": {
      "image/png": "[encoded data removed]",
      "text/plain": [
       "<Figure size 504x360 with 1 Axes>"
      ]
     },
     "metadata": {
      "needs_background": "light"
     },
     "output_type": "display_data"
    }
   ],
   "source": [
    "# Plotovanje stvarne i predvidjene vrednosti (output = 16)\n",
    "\n",
    "test_set = scaler.inverse_transform(y_test.reshape(-1,1))\n",
    "no_validation_data = scaler.inverse_transform(y_predicted_no_validation)\n",
    "validation_data = scaler.inverse_transform(y_predicted_validation)\n",
    "\n",
    "# Bez validacije\n",
    "plot_real_vs_predicted_data(test_set = test_set, predicted_set = no_validation_data)\n",
    "\n",
    "# Sa validacijom\n",
    "plot_real_vs_predicted_data(test_set = test_set, predicted_set = validation_data)\n"
   ]
  },
  {
   "cell_type": "code",
   "execution_count": 97,
   "metadata": {
    "colab": {
     "base_uri": "https://localhost:8080/",
     "height": 283
    },
    "id": "Eb5JIRdLs86j",
    "outputId": "602aae81-458a-41dc-d326-2386df918148"
   },
   "outputs": [
    {
     "data": {
      "text/plain": [
       "[<matplotlib.lines.Line2D at 0x7fe0fc1decd0>]"
      ]
     },
     "execution_count": 97,
     "metadata": {},
     "output_type": "execute_result"
    },
    {
     "data": {
      "image/png": "[encoded data removed]",
      "text/plain": [
       "<Figure size 432x288 with 1 Axes>"
      ]
     },
     "metadata": {
      "needs_background": "light"
     },
     "output_type": "display_data"
    }
   ],
   "source": [
    "# Plotovanje stvarne vrednosti\n",
    "\n",
    "plt.plot(test_set, color = 'lime')\n",
    "#plt.plot(no_validation_data, color = 'blue')"
   ]
  },
  {
   "cell_type": "code",
   "execution_count": 98,
   "metadata": {
    "colab": {
     "base_uri": "https://localhost:8080/"
    },
    "id": "A5-wFhektBf-",
    "outputId": "7f6f4fc9-f959-4f82-a887-1547d3f0bc25"
   },
   "outputs": [
    {
     "data": {
      "text/plain": [
       "(514,)"
      ]
     },
     "execution_count": 98,
     "metadata": {},
     "output_type": "execute_result"
    }
   ],
   "source": [
    "y_test.shape"
   ]
  },
  {
   "cell_type": "code",
   "execution_count": 99,
   "metadata": {
    "colab": {
     "base_uri": "https://localhost:8080/"
    },
    "id": "3zijneJYt1ON",
    "outputId": "88d84a83-2940-4765-beda-c71c98a2431f"
   },
   "outputs": [
    {
     "data": {
      "text/plain": [
       "(514, 16)"
      ]
     },
     "execution_count": 99,
     "metadata": {},
     "output_type": "execute_result"
    }
   ],
   "source": [
    "y_predicted_no_validation.shape"
   ]
  },
  {
   "cell_type": "markdown",
   "metadata": {},
   "source": [
    "### **Vizuelni prikaz metrika**"
   ]
  },
  {
   "cell_type": "markdown",
   "metadata": {},
   "source": [
    "### **Srednja apsolutna greška**"
   ]
  },
  {
   "cell_type": "code",
   "execution_count": 103,
   "metadata": {
    "colab": {
     "base_uri": "https://localhost:8080/",
     "height": 573
    },
    "id": "B1yKvzE0fWRm",
    "outputId": "f25665ca-7103-4721-a8f0-41b157f2b15c"
   },
   "outputs": [
    {
     "data": {
      "image/png": "[encoded data removed]",
      "text/plain": [
       "<Figure size 432x288 with 1 Axes>"
      ]
     },
     "metadata": {
      "needs_background": "light"
     },
     "output_type": "display_data"
    },
    {
     "data": {
      "image/png": "[encoded data removed]",
      "text/plain": [
       "<Figure size 432x288 with 1 Axes>"
      ]
     },
     "metadata": {
      "needs_background": "light"
     },
     "output_type": "display_data"
    }
   ],
   "source": [
    "# MAE tokom treniranja mreze\n",
    "\n",
    "plot_mae(history_no_validation)\n",
    "\n",
    "\n",
    "# MAE tokom treniranja mreze sa validacijom\n",
    "\n",
    "plot_mae(history_validation)"
   ]
  },
  {
   "cell_type": "markdown",
   "metadata": {},
   "source": [
    "### **Funkcija gubitka**"
   ]
  },
  {
   "cell_type": "code",
   "execution_count": 104,
   "metadata": {
    "colab": {
     "base_uri": "https://localhost:8080/",
     "height": 573
    },
    "id": "v1na6Nakfkuo",
    "outputId": "15110cff-5440-4b10-a8b6-298b97b0b11c"
   },
   "outputs": [
    {
     "data": {
      "image/png": "[encoded data removed]",
      "text/plain": [
       "<Figure size 432x288 with 1 Axes>"
      ]
     },
     "metadata": {
      "needs_background": "light"
     },
     "output_type": "display_data"
    },
    {
     "data": {
      "image/png": "[encoded data removed]",
      "text/plain": [
       "<Figure size 432x288 with 1 Axes>"
      ]
     },
     "metadata": {
      "needs_background": "light"
     },
     "output_type": "display_data"
    }
   ],
   "source": [
    "# Loss tokom treniranja mreze\n",
    "\n",
    "plot_loss(history_no_validation)\n",
    "\n",
    "\n",
    "# Loss tokom treniranja mreze sa validacijom\n",
    "\n",
    "plot_loss(history_validation)"
   ]
  },
  {
   "cell_type": "markdown",
   "metadata": {},
   "source": [
    "### **Srednja kvadratna greška**"
   ]
  },
  {
   "cell_type": "code",
   "execution_count": 105,
   "metadata": {
    "colab": {
     "base_uri": "https://localhost:8080/",
     "height": 573
    },
    "id": "kE2ZDVIwfk2u",
    "outputId": "908a0824-c20a-4904-d83d-8a2baead5591"
   },
   "outputs": [
    {
     "data": {
      "image/png": "[encoded data removed]",
      "text/plain": [
       "<Figure size 432x288 with 1 Axes>"
      ]
     },
     "metadata": {
      "needs_background": "light"
     },
     "output_type": "display_data"
    },
    {
     "data": {
      "image/png": "[encoded data removed]",
      "text/plain": [
       "<Figure size 432x288 with 1 Axes>"
      ]
     },
     "metadata": {
      "needs_background": "light"
     },
     "output_type": "display_data"
    }
   ],
   "source": [
    "# MSE tokom treniranja mreze\n",
    "\n",
    "plot_mse(history_no_validation)\n",
    "\n",
    "# MSE tokom treniranja mreze sa validacijom\n",
    "\n",
    "plot_mse(history_validation)"
   ]
  },
  {
   "cell_type": "code",
   "execution_count": 106,
   "metadata": {
    "colab": {
     "base_uri": "https://localhost:8080/"
    },
    "id": "7qNIJcB-s7ot",
    "outputId": "dc360c21-c0b5-4fa3-a583-b5b1d45dff51"
   },
   "outputs": [
    {
     "data": {
      "text/plain": [
       "((514,), (514, 16))"
      ]
     },
     "execution_count": 106,
     "metadata": {},
     "output_type": "execute_result"
    }
   ],
   "source": [
    "# Dimenzije vektora stvarnih i vektora predvidjenih vrednosti y\n",
    "\n",
    "y_test.shape, y_predicted_no_validation.shape"
   ]
  },
  {
   "cell_type": "code",
   "execution_count": 107,
   "metadata": {
    "colab": {
     "base_uri": "https://localhost:8080/"
    },
    "id": "uWM222XDtAOC",
    "outputId": "ef4cb635-0606-43c7-a83a-4c180c1bb47e"
   },
   "outputs": [
    {
     "data": {
      "text/plain": [
       "[0.85233456,\n",
       " 0.8499794,\n",
       " 0.8527638,\n",
       " 0.8663348,\n",
       " 0.86361074,\n",
       " 0.8511909,\n",
       " 0.8512813,\n",
       " 0.8450487,\n",
       " 0.8478519,\n",
       " 0.8534925]"
      ]
     },
     "execution_count": 107,
     "metadata": {},
     "output_type": "execute_result"
    }
   ],
   "source": [
    "# Uzima se prosecna vrednost predvidjenih\n",
    "\n",
    "mean_vals = []\n",
    "\n",
    "for row in y_predicted_no_validation:\n",
    "  mean_vals.append(row.mean())\n",
    "\n",
    "mean_vals[:10]"
   ]
  },
  {
   "cell_type": "code",
   "execution_count": 108,
   "metadata": {
    "colab": {
     "base_uri": "https://localhost:8080/"
    },
    "id": "XYqQnJfPvE9x",
    "outputId": "be7c102b-991a-4fa4-9178-95b697505baf"
   },
   "outputs": [
    {
     "data": {
      "text/plain": [
       "514"
      ]
     },
     "execution_count": 108,
     "metadata": {},
     "output_type": "execute_result"
    }
   ],
   "source": [
    "# Duzina liste mean_vals\n",
    "\n",
    "len(mean_vals)"
   ]
  },
  {
   "cell_type": "code",
   "execution_count": 109,
   "metadata": {
    "colab": {
     "base_uri": "https://localhost:8080/"
    },
    "id": "wUTerg4HIIqp",
    "outputId": "5e8ccac7-a1f6-462c-d083-9b41b192b9f3"
   },
   "outputs": [
    {
     "data": {
      "text/plain": [
       "0.00013008669"
      ]
     },
     "execution_count": 109,
     "metadata": {},
     "output_type": "execute_result"
    }
   ],
   "source": [
    "# Racunanje MSE za y_predicted_no_validation\n",
    "\n",
    "mse = MeanSquaredError()\n",
    "\n",
    "mse(y_test, mean_vals).numpy()"
   ]
  },
  {
   "cell_type": "code",
   "execution_count": 110,
   "metadata": {
    "colab": {
     "base_uri": "https://localhost:8080/"
    },
    "id": "jatmP93kIEk-",
    "outputId": "3ddd8239-ca77-4cff-8bd1-ec834c2089f6"
   },
   "outputs": [
    {
     "data": {
      "text/plain": [
       "0.00013008669"
      ]
     },
     "execution_count": 110,
     "metadata": {},
     "output_type": "execute_result"
    }
   ],
   "source": [
    "# Racunanje MSE za y_predicted_validation\n",
    "\n",
    "mean_vals_ = []\n",
    "\n",
    "for row in y_predicted_validation:\n",
    "  mean_vals_.append(row.mean())\n",
    "\n",
    "mse(y_test, mean_vals_).numpy()"
   ]
  },
  {
   "cell_type": "markdown",
   "metadata": {},
   "source": [
    "### **Vizuelni prikaz stvarne i predvidjene vrednosti**"
   ]
  },
  {
   "cell_type": "code",
   "execution_count": 111,
   "metadata": {
    "colab": {
     "base_uri": "https://localhost:8080/",
     "height": 699
    },
    "id": "QK4lz3TFv4zH",
    "outputId": "a8b61b5c-0d41-48f2-a626-69af7691bbb1"
   },
   "outputs": [
    {
     "data": {
      "image/png": "[encoded data removed]",
      "text/plain": [
       "<Figure size 504x360 with 1 Axes>"
      ]
     },
     "metadata": {
      "needs_background": "light"
     },
     "output_type": "display_data"
    },
    {
     "data": {
      "image/png": "[encoded data removed]",
      "text/plain": [
       "<Figure size 504x360 with 1 Axes>"
      ]
     },
     "metadata": {
      "needs_background": "light"
     },
     "output_type": "display_data"
    }
   ],
   "source": [
    "# Plotovanje stvarne i predvidjene vrednosti (prosecne vrednosti predvidjenih)\n",
    "\n",
    "\n",
    "# Bez validacije\n",
    "\n",
    "plot_real_vs_predicted_data(test_set = y_test, predicted_set = mean_vals)\n",
    "\n",
    "\n",
    "# Sa validacijom\n",
    "\n",
    "plot_real_vs_predicted_data(test_set = y_test, predicted_set = mean_vals_)"
   ]
  },
  {
   "cell_type": "markdown",
   "metadata": {},
   "source": [
    "### **Loss, MSE, MAE**"
   ]
  },
  {
   "cell_type": "code",
   "execution_count": 112,
   "metadata": {
    "colab": {
     "base_uri": "https://localhost:8080/"
    },
    "id": "i2nWpFzuZMbx",
    "outputId": "e9fedc74-2930-47be-8788-980d2dd94247"
   },
   "outputs": [
    {
     "name": "stdout",
     "output_type": "stream",
     "text": [
      "17/17 [==============================] - 1s 10ms/step - loss: 1.3009e-04 - mse: 1.3009e-04 - mae: 0.0091\n",
      "17/17 [==============================] - 0s 9ms/step - loss: 1.3009e-04 - mse: 1.3009e-04 - mae: 0.0091\n",
      "\n",
      "Metrike prilikom testiranja - model treniran bez validacije\n",
      "\n",
      "loss 0.00013008667156100273\n",
      "mse 0.00013008667156100273\n",
      "mae 0.009137054905295372\n",
      "\n",
      "\n",
      "Metrike prilikom testiranja - model treniran sa validacijom\n",
      "\n",
      "loss 0.00013008667156100273\n",
      "mse 0.00013008667156100273\n",
      "mae 0.009137054905295372\n"
     ]
    }
   ],
   "source": [
    "# Loss, MSE, MAE nad skupom za testiranje\n",
    "\n",
    "# (za model koji pri treniranju koristi validaciju\n",
    "# i za model koji pri treniranju ne koristi validaciju)\n",
    "\n",
    "test_metrics_no_val = net_no_validation.evaluate(X_test, y_test)\n",
    "test_metrics_val = net_validation.evaluate(X_test, y_test)\n",
    "\n",
    "print('\\nMetrike prilikom testiranja - model treniran bez validacije\\n')\n",
    "print(net_no_validation.metrics_names[0], test_metrics_no_val[0])\n",
    "print(net_no_validation.metrics_names[1], test_metrics_no_val[1])\n",
    "print(net_no_validation.metrics_names[2], test_metrics_no_val[2])\n",
    "\n",
    "print('\\n\\nMetrike prilikom testiranja - model treniran sa validacijom\\n')\n",
    "print(net_validation.metrics_names[0], test_metrics_val[0])\n",
    "print(net_validation.metrics_names[1], test_metrics_val[1])\n",
    "print(net_validation.metrics_names[2], test_metrics_val[2])"
   ]
  },
  {
   "cell_type": "code",
   "execution_count": 113,
   "metadata": {
    "colab": {
     "base_uri": "https://localhost:8080/"
    },
    "id": "gcGnDX2eVil8",
    "outputId": "69994c39-3283-446a-c3fe-547e35cd1fed"
   },
   "outputs": [
    {
     "data": {
      "text/plain": [
       "((514, 16), (514,))"
      ]
     },
     "execution_count": 113,
     "metadata": {},
     "output_type": "execute_result"
    }
   ],
   "source": [
    "y_predicted_no_validation.shape, y_test.shape"
   ]
  },
  {
   "cell_type": "code",
   "execution_count": 114,
   "metadata": {
    "colab": {
     "base_uri": "https://localhost:8080/"
    },
    "id": "aqb2o3kUV2zt",
    "outputId": "e3ef4fc3-1583-4793-b18e-f6fa4757b0a6"
   },
   "outputs": [
    {
     "data": {
      "text/plain": [
       "(514, 514)"
      ]
     },
     "execution_count": 114,
     "metadata": {},
     "output_type": "execute_result"
    }
   ],
   "source": [
    "len(mean_vals), len(mean_vals_)"
   ]
  },
  {
   "cell_type": "markdown",
   "metadata": {},
   "source": [
    "### **Koeficijent determinacije (R2 skor)**"
   ]
  },
  {
   "cell_type": "code",
   "execution_count": 115,
   "metadata": {
    "colab": {
     "base_uri": "https://localhost:8080/"
    },
    "id": "KdXWzVIHZYBN",
    "outputId": "3715931d-b76e-4fcb-a7a5-06ee3039660a"
   },
   "outputs": [
    {
     "name": "stdout",
     "output_type": "stream",
     "text": [
      "R2 skor prilikom testiranja - model treniran bez validacije 0.8292359983850264\n",
      "R2 skor prilikom testiranja - model treniran sa validacijom 0.8292359983850264\n"
     ]
    }
   ],
   "source": [
    "# R2 skor nad skupom za testiranje\n",
    "\n",
    "r2 = r2_score(mean_vals, y_test)\n",
    "r2_val = r2_score(mean_vals_, y_test)\n",
    "\n",
    "print('R2 skor prilikom testiranja - model treniran bez validacije', r2)\n",
    "print('R2 skor prilikom testiranja - model treniran sa validacijom', r2_val)"
   ]
  },
  {
   "cell_type": "code",
   "execution_count": 118,
   "metadata": {
    "id": "RaYK8nlpZMgk"
   },
   "outputs": [],
   "source": []
  }
 ],
 "metadata": {
  "colab": {
   "collapsed_sections": [],
   "include_colab_link": true,
   "name": "gru.ipynb",
   "provenance": []
  },
  "kernelspec": {
   "display_name": "Python 3",
   "language": "python",
   "name": "python3"
  },
  "language_info": {
   "codemirror_mode": {
    "name": "ipython",
    "version": 3
   },
   "file_extension": ".py",
   "mimetype": "text/x-python",
   "name": "python",
   "nbconvert_exporter": "python",
   "pygments_lexer": "ipython3",
   "version": "3.9.5"
  }
 },
 "nbformat": 4,
 "nbformat_minor": 1
}
