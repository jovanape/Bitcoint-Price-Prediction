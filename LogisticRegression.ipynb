{
 "cells": [
  {
   "cell_type": "markdown",
   "id": "e673b127",
   "metadata": {},
   "source": [
    "# Logisticka regresija"
   ]
  },
  {
   "cell_type": "markdown",
   "id": "22324205",
   "metadata": {},
   "source": [
    "### Predvidjanje da li cena BTC raste/opada na kraju dana koriscenjem modela Logisticke regresije"
   ]
  },
  {
   "cell_type": "markdown",
   "id": "143087a5",
   "metadata": {},
   "source": [
    "### Ucitavanje biblioteka"
   ]
  },
  {
   "cell_type": "code",
   "execution_count": 14,
   "id": "d07270a5",
   "metadata": {},
   "outputs": [],
   "source": [
    "import pandas as pd\n",
    "import numpy as np\n",
    "import matplotlib.pyplot as plt\n",
    "%matplotlib inline\n",
    "from sklearn.model_selection import train_test_split\n",
    "from sklearn.linear_model import LogisticRegression\n",
    "from sklearn import metrics\n",
    "from sklearn.metrics import classification_report\n",
    "from sklearn.preprocessing import MinMaxScaler\n",
    "\n",
    "%run Preprocessing.ipynb\n",
    "#%run Utility.ipynb"
   ]
  },
  {
   "cell_type": "markdown",
   "id": "f997fbd9",
   "metadata": {},
   "source": [
    "### Ucitavanje skupa podataka"
   ]
  },
  {
   "cell_type": "code",
   "execution_count": 15,
   "id": "0353e4fc",
   "metadata": {},
   "outputs": [
    {
     "data": {
      "text/html": [
       "<div>\n",
       "<style scoped>\n",
       "    .dataframe tbody tr th:only-of-type {\n",
       "        vertical-align: middle;\n",
       "    }\n",
       "\n",
       "    .dataframe tbody tr th {\n",
       "        vertical-align: top;\n",
       "    }\n",
       "\n",
       "    .dataframe thead th {\n",
       "        text-align: right;\n",
       "    }\n",
       "</style>\n",
       "<table border=\"1\" class=\"dataframe\">\n",
       "  <thead>\n",
       "    <tr style=\"text-align: right;\">\n",
       "      <th></th>\n",
       "      <th>Timestamp</th>\n",
       "      <th>Open</th>\n",
       "      <th>High</th>\n",
       "      <th>Low</th>\n",
       "      <th>Close</th>\n",
       "      <th>Volume_(BTC)</th>\n",
       "      <th>Volume_(Currency)</th>\n",
       "      <th>Weighted_Price</th>\n",
       "      <th>Date</th>\n",
       "    </tr>\n",
       "  </thead>\n",
       "  <tbody>\n",
       "    <tr>\n",
       "      <th>0</th>\n",
       "      <td>1325317920</td>\n",
       "      <td>4.39</td>\n",
       "      <td>4.39</td>\n",
       "      <td>4.39</td>\n",
       "      <td>4.39</td>\n",
       "      <td>0.455581</td>\n",
       "      <td>2.000000</td>\n",
       "      <td>4.390000</td>\n",
       "      <td>2011-12-31</td>\n",
       "    </tr>\n",
       "    <tr>\n",
       "      <th>478</th>\n",
       "      <td>1325346600</td>\n",
       "      <td>4.39</td>\n",
       "      <td>4.39</td>\n",
       "      <td>4.39</td>\n",
       "      <td>4.39</td>\n",
       "      <td>48.000000</td>\n",
       "      <td>210.720000</td>\n",
       "      <td>4.390000</td>\n",
       "      <td>2011-12-31</td>\n",
       "    </tr>\n",
       "    <tr>\n",
       "      <th>547</th>\n",
       "      <td>1325350740</td>\n",
       "      <td>4.50</td>\n",
       "      <td>4.57</td>\n",
       "      <td>4.50</td>\n",
       "      <td>4.57</td>\n",
       "      <td>37.862297</td>\n",
       "      <td>171.380338</td>\n",
       "      <td>4.526411</td>\n",
       "      <td>2011-12-31</td>\n",
       "    </tr>\n",
       "    <tr>\n",
       "      <th>548</th>\n",
       "      <td>1325350800</td>\n",
       "      <td>4.58</td>\n",
       "      <td>4.58</td>\n",
       "      <td>4.58</td>\n",
       "      <td>4.58</td>\n",
       "      <td>9.000000</td>\n",
       "      <td>41.220000</td>\n",
       "      <td>4.580000</td>\n",
       "      <td>2011-12-31</td>\n",
       "    </tr>\n",
       "    <tr>\n",
       "      <th>1224</th>\n",
       "      <td>1325391360</td>\n",
       "      <td>4.58</td>\n",
       "      <td>4.58</td>\n",
       "      <td>4.58</td>\n",
       "      <td>4.58</td>\n",
       "      <td>1.502000</td>\n",
       "      <td>6.879160</td>\n",
       "      <td>4.580000</td>\n",
       "      <td>2012-01-01</td>\n",
       "    </tr>\n",
       "  </tbody>\n",
       "</table>\n",
       "</div>"
      ],
      "text/plain": [
       "       Timestamp  Open  High   Low  Close  Volume_(BTC)  Volume_(Currency)  \\\n",
       "0     1325317920  4.39  4.39  4.39   4.39      0.455581           2.000000   \n",
       "478   1325346600  4.39  4.39  4.39   4.39     48.000000         210.720000   \n",
       "547   1325350740  4.50  4.57  4.50   4.57     37.862297         171.380338   \n",
       "548   1325350800  4.58  4.58  4.58   4.58      9.000000          41.220000   \n",
       "1224  1325391360  4.58  4.58  4.58   4.58      1.502000           6.879160   \n",
       "\n",
       "      Weighted_Price        Date  \n",
       "0           4.390000  2011-12-31  \n",
       "478         4.390000  2011-12-31  \n",
       "547         4.526411  2011-12-31  \n",
       "548         4.580000  2011-12-31  \n",
       "1224        4.580000  2012-01-01  "
      ]
     },
     "execution_count": 15,
     "metadata": {},
     "output_type": "execute_result"
    }
   ],
   "source": [
    "data = preprocess_data(file_name = 'bitstampUSD_1-min_data_2012-01-01_to_2021-03-31.csv')\n",
    "data.head()"
   ]
  },
  {
   "cell_type": "code",
   "execution_count": 16,
   "id": "07d4a3fc",
   "metadata": {},
   "outputs": [
    {
     "data": {
      "text/plain": [
       "(3613769, 9)"
      ]
     },
     "execution_count": 16,
     "metadata": {},
     "output_type": "execute_result"
    }
   ],
   "source": [
    "# Dimenzije skupa podataka\n",
    "\n",
    "data.shape"
   ]
  },
  {
   "cell_type": "markdown",
   "id": "3056c161",
   "metadata": {},
   "source": [
    "### Filtriranje kolona"
   ]
  },
  {
   "cell_type": "code",
   "execution_count": 17,
   "id": "6f1e0d7d",
   "metadata": {},
   "outputs": [
    {
     "data": {
      "text/html": [
       "<div>\n",
       "<style scoped>\n",
       "    .dataframe tbody tr th:only-of-type {\n",
       "        vertical-align: middle;\n",
       "    }\n",
       "\n",
       "    .dataframe tbody tr th {\n",
       "        vertical-align: top;\n",
       "    }\n",
       "\n",
       "    .dataframe thead th {\n",
       "        text-align: right;\n",
       "    }\n",
       "</style>\n",
       "<table border=\"1\" class=\"dataframe\">\n",
       "  <thead>\n",
       "    <tr style=\"text-align: right;\">\n",
       "      <th></th>\n",
       "      <th>Timestamp</th>\n",
       "      <th>Open</th>\n",
       "      <th>High</th>\n",
       "      <th>Low</th>\n",
       "      <th>Close</th>\n",
       "      <th>Date</th>\n",
       "    </tr>\n",
       "  </thead>\n",
       "  <tbody>\n",
       "    <tr>\n",
       "      <th>0</th>\n",
       "      <td>1325317920</td>\n",
       "      <td>4.39</td>\n",
       "      <td>4.39</td>\n",
       "      <td>4.39</td>\n",
       "      <td>4.39</td>\n",
       "      <td>2011-12-31</td>\n",
       "    </tr>\n",
       "    <tr>\n",
       "      <th>478</th>\n",
       "      <td>1325346600</td>\n",
       "      <td>4.39</td>\n",
       "      <td>4.39</td>\n",
       "      <td>4.39</td>\n",
       "      <td>4.39</td>\n",
       "      <td>2011-12-31</td>\n",
       "    </tr>\n",
       "    <tr>\n",
       "      <th>547</th>\n",
       "      <td>1325350740</td>\n",
       "      <td>4.50</td>\n",
       "      <td>4.57</td>\n",
       "      <td>4.50</td>\n",
       "      <td>4.57</td>\n",
       "      <td>2011-12-31</td>\n",
       "    </tr>\n",
       "    <tr>\n",
       "      <th>548</th>\n",
       "      <td>1325350800</td>\n",
       "      <td>4.58</td>\n",
       "      <td>4.58</td>\n",
       "      <td>4.58</td>\n",
       "      <td>4.58</td>\n",
       "      <td>2011-12-31</td>\n",
       "    </tr>\n",
       "    <tr>\n",
       "      <th>1224</th>\n",
       "      <td>1325391360</td>\n",
       "      <td>4.58</td>\n",
       "      <td>4.58</td>\n",
       "      <td>4.58</td>\n",
       "      <td>4.58</td>\n",
       "      <td>2012-01-01</td>\n",
       "    </tr>\n",
       "  </tbody>\n",
       "</table>\n",
       "</div>"
      ],
      "text/plain": [
       "       Timestamp  Open  High   Low  Close        Date\n",
       "0     1325317920  4.39  4.39  4.39   4.39  2011-12-31\n",
       "478   1325346600  4.39  4.39  4.39   4.39  2011-12-31\n",
       "547   1325350740  4.50  4.57  4.50   4.57  2011-12-31\n",
       "548   1325350800  4.58  4.58  4.58   4.58  2011-12-31\n",
       "1224  1325391360  4.58  4.58  4.58   4.58  2012-01-01"
      ]
     },
     "execution_count": 17,
     "metadata": {},
     "output_type": "execute_result"
    }
   ],
   "source": [
    "data_ = data.drop(['Volume_(BTC)','Volume_(Currency)','Weighted_Price'], axis=1)\n",
    "data_.head()"
   ]
  },
  {
   "cell_type": "markdown",
   "id": "30b06a44",
   "metadata": {},
   "source": [
    "### Dodavanje kolone sa indeksom"
   ]
  },
  {
   "cell_type": "code",
   "execution_count": 18,
   "id": "e769c0b5",
   "metadata": {},
   "outputs": [],
   "source": [
    "#data_[\"row_id\"] = range(1, len(data_) + 1)"
   ]
  },
  {
   "cell_type": "code",
   "execution_count": 19,
   "id": "3388e06d",
   "metadata": {},
   "outputs": [],
   "source": [
    "#data_.set_index('row_id', inplace=True)\n",
    "#data_.head()"
   ]
  },
  {
   "cell_type": "markdown",
   "id": "1aa5ee02",
   "metadata": {},
   "source": [
    "### Razlika vrednosti na otvaranju i vrednosti na zatvaranju"
   ]
  },
  {
   "cell_type": "code",
   "execution_count": 20,
   "id": "7d75b7c6",
   "metadata": {},
   "outputs": [
    {
     "data": {
      "text/html": [
       "<div>\n",
       "<style scoped>\n",
       "    .dataframe tbody tr th:only-of-type {\n",
       "        vertical-align: middle;\n",
       "    }\n",
       "\n",
       "    .dataframe tbody tr th {\n",
       "        vertical-align: top;\n",
       "    }\n",
       "\n",
       "    .dataframe thead th {\n",
       "        text-align: right;\n",
       "    }\n",
       "</style>\n",
       "<table border=\"1\" class=\"dataframe\">\n",
       "  <thead>\n",
       "    <tr style=\"text-align: right;\">\n",
       "      <th></th>\n",
       "      <th>Timestamp</th>\n",
       "      <th>Open</th>\n",
       "      <th>High</th>\n",
       "      <th>Low</th>\n",
       "      <th>Close</th>\n",
       "      <th>Date</th>\n",
       "      <th>pos_neg</th>\n",
       "    </tr>\n",
       "  </thead>\n",
       "  <tbody>\n",
       "    <tr>\n",
       "      <th>0</th>\n",
       "      <td>1325317920</td>\n",
       "      <td>4.39</td>\n",
       "      <td>4.39</td>\n",
       "      <td>4.39</td>\n",
       "      <td>4.39</td>\n",
       "      <td>2011-12-31</td>\n",
       "      <td>0.00</td>\n",
       "    </tr>\n",
       "    <tr>\n",
       "      <th>478</th>\n",
       "      <td>1325346600</td>\n",
       "      <td>4.39</td>\n",
       "      <td>4.39</td>\n",
       "      <td>4.39</td>\n",
       "      <td>4.39</td>\n",
       "      <td>2011-12-31</td>\n",
       "      <td>0.00</td>\n",
       "    </tr>\n",
       "    <tr>\n",
       "      <th>547</th>\n",
       "      <td>1325350740</td>\n",
       "      <td>4.50</td>\n",
       "      <td>4.57</td>\n",
       "      <td>4.50</td>\n",
       "      <td>4.57</td>\n",
       "      <td>2011-12-31</td>\n",
       "      <td>0.07</td>\n",
       "    </tr>\n",
       "    <tr>\n",
       "      <th>548</th>\n",
       "      <td>1325350800</td>\n",
       "      <td>4.58</td>\n",
       "      <td>4.58</td>\n",
       "      <td>4.58</td>\n",
       "      <td>4.58</td>\n",
       "      <td>2011-12-31</td>\n",
       "      <td>0.00</td>\n",
       "    </tr>\n",
       "    <tr>\n",
       "      <th>1224</th>\n",
       "      <td>1325391360</td>\n",
       "      <td>4.58</td>\n",
       "      <td>4.58</td>\n",
       "      <td>4.58</td>\n",
       "      <td>4.58</td>\n",
       "      <td>2012-01-01</td>\n",
       "      <td>0.00</td>\n",
       "    </tr>\n",
       "  </tbody>\n",
       "</table>\n",
       "</div>"
      ],
      "text/plain": [
       "       Timestamp  Open  High   Low  Close        Date  pos_neg\n",
       "0     1325317920  4.39  4.39  4.39   4.39  2011-12-31     0.00\n",
       "478   1325346600  4.39  4.39  4.39   4.39  2011-12-31     0.00\n",
       "547   1325350740  4.50  4.57  4.50   4.57  2011-12-31     0.07\n",
       "548   1325350800  4.58  4.58  4.58   4.58  2011-12-31     0.00\n",
       "1224  1325391360  4.58  4.58  4.58   4.58  2012-01-01     0.00"
      ]
     },
     "execution_count": 20,
     "metadata": {},
     "output_type": "execute_result"
    }
   ],
   "source": [
    "# Dodavanje novog atributa (kolone) 'pos_neg' koji\n",
    "# predstavlja razliku otvarajuce i zatvarajuce\n",
    "# vrednosti (cene) bitkoina za taj dan\n",
    "\n",
    "data_['pos_neg'] = data_['Close']-data_['Open']\n",
    "data_.head()\n",
    "\n",
    "# Na osnovu prethodno dodatog atributa, moze se\n",
    "# videti da li se instanca, odnosno dan zatvorio\n",
    "# sa porastom vrednosti ili sa padom vrednosti"
   ]
  },
  {
   "cell_type": "code",
   "execution_count": 21,
   "id": "4e7d8544",
   "metadata": {},
   "outputs": [
    {
     "data": {
      "text/html": [
       "<div>\n",
       "<style scoped>\n",
       "    .dataframe tbody tr th:only-of-type {\n",
       "        vertical-align: middle;\n",
       "    }\n",
       "\n",
       "    .dataframe tbody tr th {\n",
       "        vertical-align: top;\n",
       "    }\n",
       "\n",
       "    .dataframe thead th {\n",
       "        text-align: right;\n",
       "    }\n",
       "</style>\n",
       "<table border=\"1\" class=\"dataframe\">\n",
       "  <thead>\n",
       "    <tr style=\"text-align: right;\">\n",
       "      <th></th>\n",
       "      <th>Timestamp</th>\n",
       "      <th>Open</th>\n",
       "      <th>High</th>\n",
       "      <th>Low</th>\n",
       "      <th>Close</th>\n",
       "      <th>Date</th>\n",
       "      <th>pos_neg</th>\n",
       "      <th>Up/Down</th>\n",
       "    </tr>\n",
       "  </thead>\n",
       "  <tbody>\n",
       "    <tr>\n",
       "      <th>4857372</th>\n",
       "      <td>1617148560</td>\n",
       "      <td>58714.31</td>\n",
       "      <td>58714.31</td>\n",
       "      <td>58686.00</td>\n",
       "      <td>58686.00</td>\n",
       "      <td>2021-03-30</td>\n",
       "      <td>-28.31</td>\n",
       "      <td>0</td>\n",
       "    </tr>\n",
       "    <tr>\n",
       "      <th>4857373</th>\n",
       "      <td>1617148620</td>\n",
       "      <td>58683.97</td>\n",
       "      <td>58693.43</td>\n",
       "      <td>58683.97</td>\n",
       "      <td>58685.81</td>\n",
       "      <td>2021-03-30</td>\n",
       "      <td>1.84</td>\n",
       "      <td>1</td>\n",
       "    </tr>\n",
       "    <tr>\n",
       "      <th>4857374</th>\n",
       "      <td>1617148680</td>\n",
       "      <td>58693.43</td>\n",
       "      <td>58723.84</td>\n",
       "      <td>58693.43</td>\n",
       "      <td>58723.84</td>\n",
       "      <td>2021-03-30</td>\n",
       "      <td>30.41</td>\n",
       "      <td>1</td>\n",
       "    </tr>\n",
       "    <tr>\n",
       "      <th>4857375</th>\n",
       "      <td>1617148740</td>\n",
       "      <td>58742.18</td>\n",
       "      <td>58770.38</td>\n",
       "      <td>58742.18</td>\n",
       "      <td>58760.59</td>\n",
       "      <td>2021-03-30</td>\n",
       "      <td>18.41</td>\n",
       "      <td>1</td>\n",
       "    </tr>\n",
       "    <tr>\n",
       "      <th>4857376</th>\n",
       "      <td>1617148800</td>\n",
       "      <td>58767.75</td>\n",
       "      <td>58778.18</td>\n",
       "      <td>58755.97</td>\n",
       "      <td>58778.18</td>\n",
       "      <td>2021-03-31</td>\n",
       "      <td>10.43</td>\n",
       "      <td>1</td>\n",
       "    </tr>\n",
       "  </tbody>\n",
       "</table>\n",
       "</div>"
      ],
      "text/plain": [
       "          Timestamp      Open      High       Low     Close        Date  \\\n",
       "4857372  1617148560  58714.31  58714.31  58686.00  58686.00  2021-03-30   \n",
       "4857373  1617148620  58683.97  58693.43  58683.97  58685.81  2021-03-30   \n",
       "4857374  1617148680  58693.43  58723.84  58693.43  58723.84  2021-03-30   \n",
       "4857375  1617148740  58742.18  58770.38  58742.18  58760.59  2021-03-30   \n",
       "4857376  1617148800  58767.75  58778.18  58755.97  58778.18  2021-03-31   \n",
       "\n",
       "         pos_neg  Up/Down  \n",
       "4857372   -28.31        0  \n",
       "4857373     1.84        1  \n",
       "4857374    30.41        1  \n",
       "4857375    18.41        1  \n",
       "4857376    10.43        1  "
      ]
     },
     "execution_count": 21,
     "metadata": {},
     "output_type": "execute_result"
    }
   ],
   "source": [
    "# Dodavanje novog atributa 'Up/Down' koji ce biti\n",
    "# ciljna (target) promenljiva - koju treba predvideti\n",
    "\n",
    "# Atribut 'Up/Down' je binarna kolona cije vrednosti\n",
    "# mogu biti:\n",
    "# 0 = gubitak (pad cene)\n",
    "# 1 = dobitak (rast cene)\n",
    "\n",
    "data_['Up/Down'] = np.where(data_['pos_neg']>0, 1, 0)\n",
    "data_.tail()"
   ]
  },
  {
   "cell_type": "code",
   "execution_count": 22,
   "id": "2d54dd07",
   "metadata": {},
   "outputs": [
    {
     "data": {
      "image/png": "[encoded data removed]",
      "text/plain": [
       "<Figure size 432x288 with 1 Axes>"
      ]
     },
     "metadata": {
      "needs_background": "light"
     },
     "output_type": "display_data"
    }
   ],
   "source": [
    "# Vizuelni prikaz rasta/pada cene\n",
    "\n",
    "plt.title('Vizuelni prikaz rasta/pada cene')\n",
    "plt.hist(data_['Up/Down'])\n",
    "plt.xticks(np.arange(0, 2), ['0 - pad ', '1 - rast'], rotation='horizontal')\n",
    "\n",
    "plt.show()"
   ]
  },
  {
   "cell_type": "code",
   "execution_count": 23,
   "id": "2f54af37",
   "metadata": {},
   "outputs": [
    {
     "data": {
      "text/html": [
       "<div>\n",
       "<style scoped>\n",
       "    .dataframe tbody tr th:only-of-type {\n",
       "        vertical-align: middle;\n",
       "    }\n",
       "\n",
       "    .dataframe tbody tr th {\n",
       "        vertical-align: top;\n",
       "    }\n",
       "\n",
       "    .dataframe thead th {\n",
       "        text-align: right;\n",
       "    }\n",
       "</style>\n",
       "<table border=\"1\" class=\"dataframe\">\n",
       "  <thead>\n",
       "    <tr style=\"text-align: right;\">\n",
       "      <th></th>\n",
       "      <th>Open</th>\n",
       "      <th>High</th>\n",
       "      <th>Low</th>\n",
       "      <th>Close</th>\n",
       "      <th>Date</th>\n",
       "      <th>pos_neg</th>\n",
       "      <th>Up/Down</th>\n",
       "    </tr>\n",
       "  </thead>\n",
       "  <tbody>\n",
       "    <tr>\n",
       "      <th>0</th>\n",
       "      <td>4.39</td>\n",
       "      <td>4.39</td>\n",
       "      <td>4.39</td>\n",
       "      <td>4.39</td>\n",
       "      <td>2011-12-31</td>\n",
       "      <td>0.00</td>\n",
       "      <td>0</td>\n",
       "    </tr>\n",
       "    <tr>\n",
       "      <th>478</th>\n",
       "      <td>4.39</td>\n",
       "      <td>4.39</td>\n",
       "      <td>4.39</td>\n",
       "      <td>4.39</td>\n",
       "      <td>2011-12-31</td>\n",
       "      <td>0.00</td>\n",
       "      <td>0</td>\n",
       "    </tr>\n",
       "    <tr>\n",
       "      <th>547</th>\n",
       "      <td>4.50</td>\n",
       "      <td>4.57</td>\n",
       "      <td>4.50</td>\n",
       "      <td>4.57</td>\n",
       "      <td>2011-12-31</td>\n",
       "      <td>0.07</td>\n",
       "      <td>1</td>\n",
       "    </tr>\n",
       "    <tr>\n",
       "      <th>548</th>\n",
       "      <td>4.58</td>\n",
       "      <td>4.58</td>\n",
       "      <td>4.58</td>\n",
       "      <td>4.58</td>\n",
       "      <td>2011-12-31</td>\n",
       "      <td>0.00</td>\n",
       "      <td>0</td>\n",
       "    </tr>\n",
       "    <tr>\n",
       "      <th>1224</th>\n",
       "      <td>4.58</td>\n",
       "      <td>4.58</td>\n",
       "      <td>4.58</td>\n",
       "      <td>4.58</td>\n",
       "      <td>2012-01-01</td>\n",
       "      <td>0.00</td>\n",
       "      <td>0</td>\n",
       "    </tr>\n",
       "  </tbody>\n",
       "</table>\n",
       "</div>"
      ],
      "text/plain": [
       "      Open  High   Low  Close        Date  pos_neg  Up/Down\n",
       "0     4.39  4.39  4.39   4.39  2011-12-31     0.00        0\n",
       "478   4.39  4.39  4.39   4.39  2011-12-31     0.00        0\n",
       "547   4.50  4.57  4.50   4.57  2011-12-31     0.07        1\n",
       "548   4.58  4.58  4.58   4.58  2011-12-31     0.00        0\n",
       "1224  4.58  4.58  4.58   4.58  2012-01-01     0.00        0"
      ]
     },
     "execution_count": 23,
     "metadata": {},
     "output_type": "execute_result"
    }
   ],
   "source": [
    "data_ = data_.drop('Timestamp',axis=1)\n",
    "data_.head()"
   ]
  },
  {
   "cell_type": "code",
   "execution_count": 24,
   "id": "fc966ee4",
   "metadata": {},
   "outputs": [
    {
     "data": {
      "text/plain": [
       "(3613769, 7)"
      ]
     },
     "execution_count": 24,
     "metadata": {},
     "output_type": "execute_result"
    }
   ],
   "source": [
    "data_.shape"
   ]
  },
  {
   "cell_type": "markdown",
   "id": "05a7b71b",
   "metadata": {},
   "source": [
    "### Stratifikovana podela skupa podataka na skup za treniranje i skup za testiranje u datoj razmeri."
   ]
  },
  {
   "cell_type": "code",
   "execution_count": 35,
   "id": "24a9f7d7",
   "metadata": {},
   "outputs": [],
   "source": [
    "X = data_[['Open', 'High', 'Low','Close']]\n",
    "y = data_['Up/Down']\n",
    "X_train, X_test, y_train, y_test = train_test_split(X,y, test_size=0.3, random_state=101, stratify = y)"
   ]
  },
  {
   "cell_type": "code",
   "execution_count": 36,
   "id": "c694df1c",
   "metadata": {},
   "outputs": [
    {
     "data": {
      "text/plain": [
       "((3613769,), 1396868)"
      ]
     },
     "execution_count": 36,
     "metadata": {},
     "output_type": "execute_result"
    }
   ],
   "source": [
    "# vise je ne-nula elemenata, kao sto je i ocekivano\n",
    "y.shape, np.count_nonzero(y, axis=0)"
   ]
  },
  {
   "cell_type": "code",
   "execution_count": 37,
   "id": "a2bcd38a",
   "metadata": {},
   "outputs": [
    {
     "name": "stdout",
     "output_type": "stream",
     "text": [
      "Jedinice:  977807 Nule:  1551831\n"
     ]
    }
   ],
   "source": [
    "non_zero_train = np.count_nonzero(y_train, axis=0) # ne-nula\n",
    "zero_train = y_train.shape[0] - non_zero_train # nula\n",
    "print('Jedinice: ', non_zero_train, 'Nule: ', zero_train)"
   ]
  },
  {
   "cell_type": "code",
   "execution_count": 38,
   "id": "667f58fa",
   "metadata": {},
   "outputs": [
    {
     "name": "stdout",
     "output_type": "stream",
     "text": [
      "Jedinice:  419061 Nule:  665070\n"
     ]
    }
   ],
   "source": [
    "non_zero_test = np.count_nonzero(y_test, axis=0) # ne-nula\n",
    "zero_test = y_test.shape[0] - non_zero_test # nula\n",
    "print('Jedinice: ', non_zero_test, 'Nule: ', zero_test)"
   ]
  },
  {
   "cell_type": "code",
   "execution_count": 39,
   "id": "42deed89",
   "metadata": {},
   "outputs": [
    {
     "data": {
      "image/png": "[encoded data removed]",
      "text/plain": [
       "<Figure size 432x288 with 1 Axes>"
      ]
     },
     "metadata": {
      "needs_background": "light"
     },
     "output_type": "display_data"
    }
   ],
   "source": [
    "plt.title(\"Vizuelna provera stratifikovanosti\")\n",
    "plt.xticks([0,1])\n",
    "plt.xlabel(' 0 - pad cene, 1 - rast cene')\n",
    "plt.hist([y_train, y_test], color=['orange', 'green'], label=['skup za treniranje', 'skup za testiranje'])\n",
    "plt.legend(loc='best')\n",
    "plt.show()"
   ]
  },
  {
   "cell_type": "markdown",
   "id": "1b809265",
   "metadata": {},
   "source": [
    "### Skaliranje"
   ]
  },
  {
   "cell_type": "code",
   "execution_count": 40,
   "id": "346004cb",
   "metadata": {},
   "outputs": [],
   "source": [
    "scaler = MinMaxScaler()\n",
    "X_train = scaler.fit_transform(X_train)\n",
    "X_test = scaler.transform(X_test)"
   ]
  },
  {
   "cell_type": "markdown",
   "id": "a62f1b9e",
   "metadata": {},
   "source": [
    "### Kreiranje i treniranje modela."
   ]
  },
  {
   "cell_type": "code",
   "execution_count": 41,
   "id": "3b491d27",
   "metadata": {},
   "outputs": [
    {
     "data": {
      "text/plain": [
       "LogisticRegression()"
      ]
     },
     "execution_count": 41,
     "metadata": {},
     "output_type": "execute_result"
    }
   ],
   "source": [
    "logmodel = LogisticRegression()\n",
    "logmodel.fit(X_train,y_train)"
   ]
  },
  {
   "cell_type": "markdown",
   "id": "198b32e1",
   "metadata": {},
   "source": [
    "### Predvidjanje modela."
   ]
  },
  {
   "cell_type": "code",
   "execution_count": 42,
   "id": "e2eee558",
   "metadata": {},
   "outputs": [],
   "source": [
    "predictions = logmodel.predict(X_test)\n",
    "train_predictions = logmodel.predict(X_train)"
   ]
  },
  {
   "cell_type": "markdown",
   "id": "21b8374e",
   "metadata": {},
   "source": [
    "### Tacnost na skupovima za treniranje i testiranje."
   ]
  },
  {
   "cell_type": "code",
   "execution_count": 43,
   "id": "a9b10398",
   "metadata": {},
   "outputs": [
    {
     "name": "stdout",
     "output_type": "stream",
     "text": [
      "Tacnost na skupu za treniranje: 0.6141420234832019\n",
      "Tacnost na skupu za testiranje: 0.6139571693826669\n"
     ]
    }
   ],
   "source": [
    "train_score = metrics.accuracy_score(y_train, train_predictions)\n",
    "test_score = metrics.accuracy_score(y_test, predictions)\n",
    "print(\"Tacnost na skupu za treniranje: {train}\\nTacnost na skupu za testiranje: {test}\".format(train=train_score, test=test_score))"
   ]
  },
  {
   "cell_type": "markdown",
   "id": "26b48d98",
   "metadata": {},
   "source": [
    "### Ostale mere na skupu za testiranje."
   ]
  },
  {
   "cell_type": "code",
   "execution_count": 44,
   "id": "eb2a9bcf",
   "metadata": {},
   "outputs": [
    {
     "name": "stdout",
     "output_type": "stream",
     "text": [
      "              precision    recall  f1-score   support\n",
      "\n",
      "           0       0.62      0.97      0.75    665070\n",
      "           1       0.51      0.05      0.09    419061\n",
      "\n",
      "    accuracy                           0.61   1084131\n",
      "   macro avg       0.56      0.51      0.42   1084131\n",
      "weighted avg       0.58      0.61      0.50   1084131\n",
      "\n"
     ]
    }
   ],
   "source": [
    "print(classification_report(y_test,predictions))"
   ]
  },
  {
   "cell_type": "markdown",
   "id": "de770859",
   "metadata": {},
   "source": [
    "### Matrica konfuzije."
   ]
  },
  {
   "cell_type": "code",
   "execution_count": 45,
   "id": "46849277",
   "metadata": {},
   "outputs": [
    {
     "data": {
      "text/plain": [
       "array([[644723,  20347],\n",
       "       [398174,  20887]], dtype=int64)"
      ]
     },
     "execution_count": 45,
     "metadata": {},
     "output_type": "execute_result"
    }
   ],
   "source": [
    "confusion_m = metrics.confusion_matrix(y_test, predictions)\n",
    "confusion_m"
   ]
  },
  {
   "cell_type": "code",
   "execution_count": 46,
   "id": "7cd6ec40",
   "metadata": {},
   "outputs": [
    {
     "data": {
      "text/plain": [
       "644723"
      ]
     },
     "execution_count": 46,
     "metadata": {},
     "output_type": "execute_result"
    }
   ],
   "source": [
    "tp = confusion_m[0][0]\n",
    "tp"
   ]
  },
  {
   "cell_type": "code",
   "execution_count": 47,
   "id": "907c6488",
   "metadata": {},
   "outputs": [
    {
     "data": {
      "text/plain": [
       "20347"
      ]
     },
     "execution_count": 47,
     "metadata": {},
     "output_type": "execute_result"
    }
   ],
   "source": [
    "fp = confusion_m[0][1]\n",
    "fp"
   ]
  },
  {
   "cell_type": "code",
   "execution_count": 48,
   "id": "7d14018a",
   "metadata": {},
   "outputs": [
    {
     "data": {
      "text/plain": [
       "398174"
      ]
     },
     "execution_count": 48,
     "metadata": {},
     "output_type": "execute_result"
    }
   ],
   "source": [
    "fn = confusion_m[1][0]\n",
    "fn"
   ]
  },
  {
   "cell_type": "code",
   "execution_count": 49,
   "id": "843d314c",
   "metadata": {},
   "outputs": [
    {
     "data": {
      "text/plain": [
       "20887"
      ]
     },
     "execution_count": 49,
     "metadata": {},
     "output_type": "execute_result"
    }
   ],
   "source": [
    "tn = confusion_m[1][1]\n",
    "tn"
   ]
  },
  {
   "cell_type": "markdown",
   "id": "71cd636b",
   "metadata": {},
   "source": [
    "### Analiza sigurnosti klasifikatora."
   ]
  },
  {
   "cell_type": "code",
   "execution_count": 50,
   "id": "0e1078d6",
   "metadata": {},
   "outputs": [
    {
     "data": {
      "text/plain": [
       "array([0, 0, 0, 0, 0, 0, 0, 0, 0, 0])"
      ]
     },
     "execution_count": 50,
     "metadata": {},
     "output_type": "execute_result"
    }
   ],
   "source": [
    "first_ten_predictions = predictions[0:10]\n",
    "first_ten_predictions"
   ]
  },
  {
   "cell_type": "code",
   "execution_count": 51,
   "id": "b87116f8",
   "metadata": {},
   "outputs": [
    {
     "data": {
      "text/plain": [
       "array([[0.60099368, 0.39900632],\n",
       "       [0.52790533, 0.47209467],\n",
       "       [0.64320498, 0.35679502],\n",
       "       [0.64546859, 0.35453141],\n",
       "       [0.64847595, 0.35152405],\n",
       "       [0.61097642, 0.38902358],\n",
       "       [0.64708609, 0.35291391],\n",
       "       [0.61080313, 0.38919687],\n",
       "       [0.61147395, 0.38852605],\n",
       "       [0.64690013, 0.35309987]])"
      ]
     },
     "execution_count": 51,
     "metadata": {},
     "output_type": "execute_result"
    }
   ],
   "source": [
    "# verovatnoce da instance pripadaju pozitivnoj odnosno negativnoj klasi\n",
    "predictions_probabilities = logmodel.predict_proba(X_test)\n",
    "predictions_probabilities[0:10]"
   ]
  },
  {
   "cell_type": "code",
   "execution_count": 52,
   "id": "baab4dfb",
   "metadata": {},
   "outputs": [],
   "source": [
    "logmodel_confidence = []\n",
    "\n",
    "for p in predictions_probabilities: \n",
    "    logmodel_confidence.append(np.abs(p[0]-p[1]))\n",
    "    \n",
    "logmodel_confidence = np.array(logmodel_confidence)"
   ]
  },
  {
   "cell_type": "code",
   "execution_count": 53,
   "id": "ec515527",
   "metadata": {},
   "outputs": [
    {
     "data": {
      "text/plain": [
       "array([ 928531,  704863,  703469, ...,  258271,  941290, 1031620],\n",
       "      dtype=int64)"
      ]
     },
     "execution_count": 53,
     "metadata": {},
     "output_type": "execute_result"
    }
   ],
   "source": [
    "# indeksi instanci uredjeni na osnovu sigurnosti klasifikatora u svoju odluku\n",
    "# pocev od indeksa instanci oko cije klasifikacije je klasifikator najmanje siguran\n",
    "logmodel_confidence.argsort()"
   ]
  },
  {
   "cell_type": "code",
   "execution_count": 54,
   "id": "831c8ac5",
   "metadata": {},
   "outputs": [
    {
     "data": {
      "text/plain": [
       "array([8.95593956e-06, 1.96090701e-05, 2.07362668e-05, ...,\n",
       "       5.02240550e-01, 5.10088952e-01, 5.70127445e-01])"
      ]
     },
     "execution_count": 54,
     "metadata": {},
     "output_type": "execute_result"
    }
   ],
   "source": [
    "# uredjeni niz razlike verovatnoca pocev od onih koji se\n",
    "# najmanje razlikuju ka onim koji se najvise razlikuju\n",
    "logmodel_confidence.sort()\n",
    "logmodel_confidence"
   ]
  },
  {
   "cell_type": "code",
   "execution_count": null,
   "id": "5d3d5ac0",
   "metadata": {},
   "outputs": [],
   "source": []
  }
 ],
 "metadata": {
  "kernelspec": {
   "display_name": "Python 3",
   "language": "python",
   "name": "python3"
  },
  "language_info": {
   "codemirror_mode": {
    "name": "ipython",
    "version": 3
   },
   "file_extension": ".py",
   "mimetype": "text/x-python",
   "name": "python",
   "nbconvert_exporter": "python",
   "pygments_lexer": "ipython3",
   "version": "3.9.5"
  }
 },
 "nbformat": 4,
 "nbformat_minor": 5
}
