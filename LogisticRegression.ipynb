{
 "cells": [
  {
   "cell_type": "markdown",
   "id": "e673b127",
   "metadata": {},
   "source": [
    "# Logisticka regresija"
   ]
  },
  {
   "cell_type": "markdown",
   "id": "22324205",
   "metadata": {},
   "source": [
    "### Predvidjanje da li cena bitcoina raste ili opada na kraju dana koriscenjem modela Logisticke regresije."
   ]
  },
  {
   "cell_type": "code",
   "execution_count": null,
   "id": "d07270a5",
   "metadata": {},
   "outputs": [],
   "source": [
    "import pandas as pd\n",
    "import numpy as np\n",
    "import matplotlib.pyplot as plt\n",
    "%matplotlib inline\n",
    "from sklearn.model_selection import train_test_split\n",
    "from sklearn.linear_model import LogisticRegression\n",
    "from sklearn import metrics\n",
    "from sklearn.metrics import classification_report"
   ]
  },
  {
   "cell_type": "markdown",
   "id": "f997fbd9",
   "metadata": {},
   "source": [
    "### Ucitavanje podataka"
   ]
  },
  {
   "cell_type": "code",
   "execution_count": null,
   "id": "0353e4fc",
   "metadata": {},
   "outputs": [],
   "source": [
    "data = pd.read_csv('data/bitstampUSD_1-min_data_2012-01-01_to_2021-03-31.csv')\n",
    "data.head()"
   ]
  },
  {
   "cell_type": "code",
   "execution_count": null,
   "id": "07d4a3fc",
   "metadata": {},
   "outputs": [],
   "source": [
    "data.shape"
   ]
  },
  {
   "cell_type": "markdown",
   "id": "b8dae1d8",
   "metadata": {},
   "source": [
    "### Uklanjanje redova koji sadrze NaN vrednosti."
   ]
  },
  {
   "cell_type": "code",
   "execution_count": null,
   "id": "4bf7d3cc",
   "metadata": {},
   "outputs": [],
   "source": [
    "data = data.dropna()\n",
    "data.head()"
   ]
  },
  {
   "cell_type": "markdown",
   "id": "3056c161",
   "metadata": {},
   "source": [
    "### Uklanjanje nepotrebnih kolona."
   ]
  },
  {
   "cell_type": "code",
   "execution_count": null,
   "id": "6f1e0d7d",
   "metadata": {},
   "outputs": [],
   "source": [
    "data_=data.drop(['Volume_(BTC)','Volume_(Currency)','Weighted_Price'], axis=1)\n",
    "data_.head()"
   ]
  },
  {
   "cell_type": "markdown",
   "id": "30b06a44",
   "metadata": {},
   "source": [
    "### Dodavanje kolone sa indeksom."
   ]
  },
  {
   "cell_type": "code",
   "execution_count": null,
   "id": "e769c0b5",
   "metadata": {},
   "outputs": [],
   "source": [
    "#data_[\"row_id\"]= range(1, len(data_) + 1)"
   ]
  },
  {
   "cell_type": "code",
   "execution_count": null,
   "id": "3388e06d",
   "metadata": {},
   "outputs": [],
   "source": [
    "#data_.set_index('row_id', inplace=True)\n",
    "#data_.head()"
   ]
  },
  {
   "cell_type": "markdown",
   "id": "1aa5ee02",
   "metadata": {},
   "source": [
    "### Razlika vrednosti na otvaranju i vrednosti na zatvaranju."
   ]
  },
  {
   "cell_type": "code",
   "execution_count": null,
   "id": "7d75b7c6",
   "metadata": {},
   "outputs": [],
   "source": [
    "# da li se instanca (dan, svaki dan) zatvorila\n",
    "# sa porastom vrednosti ili sa padom vrednosti\n",
    "data_['pos_neg'] = data_['Open']-data_['Close']\n",
    "data_.head()\n",
    "# kreiranje nove binarne kolone cije vrednosti mogu biti:\n",
    "# 0 = gubitak (pad cene)\n",
    "# 1 = dobitak (rast cene)\n",
    "# (to je ono sto u nastavku treba predvideti)\n",
    "data_['Up/Down'] = np.where(data_['pos_neg']>0, 0, 1)"
   ]
  },
  {
   "cell_type": "code",
   "execution_count": null,
   "id": "11da7ad0",
   "metadata": {},
   "outputs": [],
   "source": [
    "data_.head()"
   ]
  },
  {
   "cell_type": "code",
   "execution_count": null,
   "id": "2d54dd07",
   "metadata": {},
   "outputs": [],
   "source": [
    "# TODO\n",
    "plt.hist(data_['Up/Down'])"
   ]
  },
  {
   "cell_type": "code",
   "execution_count": null,
   "id": "2f54af37",
   "metadata": {},
   "outputs": [],
   "source": [
    "data_ = data_.drop('Timestamp',axis=1)\n",
    "data_.head()"
   ]
  },
  {
   "cell_type": "code",
   "execution_count": null,
   "id": "fc966ee4",
   "metadata": {},
   "outputs": [],
   "source": [
    "data_.shape"
   ]
  },
  {
   "cell_type": "code",
   "execution_count": null,
   "id": "8725f342",
   "metadata": {},
   "outputs": [],
   "source": [
    "data_.info()"
   ]
  },
  {
   "cell_type": "markdown",
   "id": "05a7b71b",
   "metadata": {},
   "source": [
    "### Stratifikovana podela skupa podataka na skup za treniranje i skup za testiranje u datoj razmeri."
   ]
  },
  {
   "cell_type": "code",
   "execution_count": null,
   "id": "24a9f7d7",
   "metadata": {},
   "outputs": [],
   "source": [
    "X = data_[['Open', 'High', 'Low','Close']]\n",
    "y = data_['Up/Down']\n",
    "X_train, X_test, y_train, y_test = train_test_split(X,y, test_size=0.3, random_state=101, stratify = y)"
   ]
  },
  {
   "cell_type": "code",
   "execution_count": null,
   "id": "c694df1c",
   "metadata": {},
   "outputs": [],
   "source": [
    "# vise je ne-nula elemenata, kao sto je i ocekivano\n",
    "y.shape, np.count_nonzero(y, axis=0)"
   ]
  },
  {
   "cell_type": "code",
   "execution_count": null,
   "id": "a2bcd38a",
   "metadata": {},
   "outputs": [],
   "source": [
    "non_zero_train = np.count_nonzero(y_train, axis=0) # ne-nula\n",
    "zero_train = y_train.shape[0] - non_zero_train # nula\n",
    "print('Jedinice: ', non_zero_train, 'Nule: ', zero_train)"
   ]
  },
  {
   "cell_type": "code",
   "execution_count": null,
   "id": "667f58fa",
   "metadata": {},
   "outputs": [],
   "source": [
    "non_zero_test = np.count_nonzero(y_test, axis=0) # ne-nula\n",
    "zero_test = y_test.shape[0] - non_zero_test # nula\n",
    "print('Jedinice: ', non_zero_test, 'Nule: ', zero_test)"
   ]
  },
  {
   "cell_type": "code",
   "execution_count": null,
   "id": "42deed89",
   "metadata": {},
   "outputs": [],
   "source": [
    "plt.title(\"Vizuelna provera stratifikovanosti\")\n",
    "plt.xticks([0,1])\n",
    "plt.xlabel(' 0 - pad cene, 1 - rast cene')\n",
    "plt.hist([y_train, y_test], color=['orange', 'green'], label=['skup za treniranje', 'skup za testiranje'])\n",
    "plt.legend(loc='best')\n",
    "plt.show()"
   ]
  },
  {
   "cell_type": "markdown",
   "id": "1b809265",
   "metadata": {},
   "source": [
    "### Sve vrednosti su u istom intervalu. Skaliranje nije potrebno. # TODO"
   ]
  },
  {
   "cell_type": "markdown",
   "id": "a62f1b9e",
   "metadata": {},
   "source": [
    "### Kreiranje i treniranje modela."
   ]
  },
  {
   "cell_type": "code",
   "execution_count": null,
   "id": "3b491d27",
   "metadata": {},
   "outputs": [],
   "source": [
    "logmodel = LogisticRegression()\n",
    "logmodel.fit(X_train,y_train)"
   ]
  },
  {
   "cell_type": "markdown",
   "id": "198b32e1",
   "metadata": {},
   "source": [
    "### Predvidjanje modela."
   ]
  },
  {
   "cell_type": "code",
   "execution_count": null,
   "id": "e2eee558",
   "metadata": {},
   "outputs": [],
   "source": [
    "predictions = logmodel.predict(X_test)\n",
    "train_predictions = logmodel.predict(X_train)"
   ]
  },
  {
   "cell_type": "markdown",
   "id": "21b8374e",
   "metadata": {},
   "source": [
    "### Tacnost na skupovima za treniranje i testiranje."
   ]
  },
  {
   "cell_type": "code",
   "execution_count": null,
   "id": "a9b10398",
   "metadata": {},
   "outputs": [],
   "source": [
    "train_score = metrics.accuracy_score(y_train, train_predictions)\n",
    "test_score = metrics.accuracy_score(y_test, predictions)\n",
    "print(\"Tacnost na skupu za treniranje: {train}\\nTacnost na skupu za testiranje: {test}\".format(train=train_score, test=test_score))"
   ]
  },
  {
   "cell_type": "markdown",
   "id": "26b48d98",
   "metadata": {},
   "source": [
    "### Ostale mere na skupu za testiranje."
   ]
  },
  {
   "cell_type": "code",
   "execution_count": null,
   "id": "eb2a9bcf",
   "metadata": {},
   "outputs": [],
   "source": [
    "print(classification_report(y_test,predictions))"
   ]
  },
  {
   "cell_type": "markdown",
   "id": "de770859",
   "metadata": {},
   "source": [
    "### Matrica konfuzije."
   ]
  },
  {
   "cell_type": "code",
   "execution_count": null,
   "id": "46849277",
   "metadata": {},
   "outputs": [],
   "source": [
    "confusion_m = metrics.confusion_matrix(y_test, predictions)\n",
    "confusion_m"
   ]
  },
  {
   "cell_type": "code",
   "execution_count": null,
   "id": "7cd6ec40",
   "metadata": {},
   "outputs": [],
   "source": [
    "tp = confusion_m[0][0]\n",
    "tp"
   ]
  },
  {
   "cell_type": "code",
   "execution_count": null,
   "id": "907c6488",
   "metadata": {},
   "outputs": [],
   "source": [
    "fp = confusion_m[0][1]\n",
    "fp"
   ]
  },
  {
   "cell_type": "code",
   "execution_count": null,
   "id": "7d14018a",
   "metadata": {},
   "outputs": [],
   "source": [
    "fn = confusion_m[1][0]\n",
    "fn"
   ]
  },
  {
   "cell_type": "code",
   "execution_count": null,
   "id": "843d314c",
   "metadata": {},
   "outputs": [],
   "source": [
    "tn = confusion_m[1][1]\n",
    "tn"
   ]
  },
  {
   "cell_type": "markdown",
   "id": "71cd636b",
   "metadata": {},
   "source": [
    "### Analiza sigurnosti klasifikatora."
   ]
  },
  {
   "cell_type": "code",
   "execution_count": null,
   "id": "0e1078d6",
   "metadata": {},
   "outputs": [],
   "source": [
    "first_ten_predictions = predictions[0:10]\n",
    "first_ten_predictions"
   ]
  },
  {
   "cell_type": "code",
   "execution_count": null,
   "id": "b87116f8",
   "metadata": {},
   "outputs": [],
   "source": [
    "# verovatnoce da instance pripadaju pozitivnoj odnosno negativnoj klasi\n",
    "predictions_probabilities = logmodel.predict_proba(X_test)\n",
    "predictions_probabilities[0:10]"
   ]
  },
  {
   "cell_type": "code",
   "execution_count": null,
   "id": "baab4dfb",
   "metadata": {},
   "outputs": [],
   "source": [
    "logmodel_confidence = []\n",
    "\n",
    "for p in predictions_probabilities: \n",
    "    logmodel_confidence.append(np.abs(p[0]-p[1]))\n",
    "    \n",
    "logmodel_confidence = np.array(logmodel_confidence)"
   ]
  },
  {
   "cell_type": "code",
   "execution_count": null,
   "id": "ec515527",
   "metadata": {},
   "outputs": [],
   "source": [
    "# indeksi instanci uredjeni na osnovu sigurnosti klasifikatora u svoju odluku\n",
    "# pocev od indeksa instanci oko cije klasifikacije je klasifikator najmanje siguran\n",
    "logmodel_confidence.argsort()"
   ]
  },
  {
   "cell_type": "code",
   "execution_count": null,
   "id": "831c8ac5",
   "metadata": {},
   "outputs": [],
   "source": [
    "# uredjeni niz razlike verovatnoca pocev od onih koji se\n",
    "# najmanje razlikuju ka onim koji se najvise razlikuju\n",
    "logmodel_confidence.sort()\n",
    "logmodel_confidence"
   ]
  },
  {
   "cell_type": "code",
   "execution_count": null,
   "id": "5d3d5ac0",
   "metadata": {},
   "outputs": [],
   "source": []
  }
 ],
 "metadata": {
  "kernelspec": {
   "display_name": "Python 3",
   "language": "python",
   "name": "python3"
  },
  "language_info": {
   "codemirror_mode": {
    "name": "ipython",
    "version": 3
   },
   "file_extension": ".py",
   "mimetype": "text/x-python",
   "name": "python",
   "nbconvert_exporter": "python",
   "pygments_lexer": "ipython3",
   "version": "3.9.5"
  }
 },
 "nbformat": 4,
 "nbformat_minor": 5
}
