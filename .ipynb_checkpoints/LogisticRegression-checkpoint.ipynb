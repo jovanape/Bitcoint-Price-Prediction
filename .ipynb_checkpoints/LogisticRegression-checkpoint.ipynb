{
 "cells": [
  {
   "cell_type": "markdown",
   "id": "e673b127",
   "metadata": {},
   "source": [
    "# Logisticka regresija"
   ]
  },
  {
   "cell_type": "markdown",
   "id": "22324205",
   "metadata": {},
   "source": [
    "### Predvidjanje da li cena bitcoina raste ili opada na kraju dana koriscenjem modela Logisticke regresije."
   ]
  },
  {
   "cell_type": "code",
   "execution_count": 1,
   "id": "d07270a5",
   "metadata": {},
   "outputs": [],
   "source": [
    "import pandas as pd\n",
    "import numpy as np\n",
    "import matplotlib.pyplot as plt\n",
    "%matplotlib inline\n",
    "from sklearn.model_selection import train_test_split\n",
    "from sklearn.linear_model import LogisticRegression\n",
    "from sklearn import metrics\n",
    "from sklearn.metrics import classification_report"
   ]
  },
  {
   "cell_type": "markdown",
   "id": "f997fbd9",
   "metadata": {},
   "source": [
    "### Ucitavanje podataka"
   ]
  },
  {
   "cell_type": "code",
   "execution_count": 2,
   "id": "0353e4fc",
   "metadata": {},
   "outputs": [
    {
     "data": {
      "text/html": [
       "<div>\n",
       "<style scoped>\n",
       "    .dataframe tbody tr th:only-of-type {\n",
       "        vertical-align: middle;\n",
       "    }\n",
       "\n",
       "    .dataframe tbody tr th {\n",
       "        vertical-align: top;\n",
       "    }\n",
       "\n",
       "    .dataframe thead th {\n",
       "        text-align: right;\n",
       "    }\n",
       "</style>\n",
       "<table border=\"1\" class=\"dataframe\">\n",
       "  <thead>\n",
       "    <tr style=\"text-align: right;\">\n",
       "      <th></th>\n",
       "      <th>Timestamp</th>\n",
       "      <th>Open</th>\n",
       "      <th>High</th>\n",
       "      <th>Low</th>\n",
       "      <th>Close</th>\n",
       "      <th>Volume_(BTC)</th>\n",
       "      <th>Volume_(Currency)</th>\n",
       "      <th>Weighted_Price</th>\n",
       "    </tr>\n",
       "  </thead>\n",
       "  <tbody>\n",
       "    <tr>\n",
       "      <th>0</th>\n",
       "      <td>1325317920</td>\n",
       "      <td>4.39</td>\n",
       "      <td>4.39</td>\n",
       "      <td>4.39</td>\n",
       "      <td>4.39</td>\n",
       "      <td>0.455581</td>\n",
       "      <td>2.0</td>\n",
       "      <td>4.39</td>\n",
       "    </tr>\n",
       "    <tr>\n",
       "      <th>1</th>\n",
       "      <td>1325317980</td>\n",
       "      <td>NaN</td>\n",
       "      <td>NaN</td>\n",
       "      <td>NaN</td>\n",
       "      <td>NaN</td>\n",
       "      <td>NaN</td>\n",
       "      <td>NaN</td>\n",
       "      <td>NaN</td>\n",
       "    </tr>\n",
       "    <tr>\n",
       "      <th>2</th>\n",
       "      <td>1325318040</td>\n",
       "      <td>NaN</td>\n",
       "      <td>NaN</td>\n",
       "      <td>NaN</td>\n",
       "      <td>NaN</td>\n",
       "      <td>NaN</td>\n",
       "      <td>NaN</td>\n",
       "      <td>NaN</td>\n",
       "    </tr>\n",
       "    <tr>\n",
       "      <th>3</th>\n",
       "      <td>1325318100</td>\n",
       "      <td>NaN</td>\n",
       "      <td>NaN</td>\n",
       "      <td>NaN</td>\n",
       "      <td>NaN</td>\n",
       "      <td>NaN</td>\n",
       "      <td>NaN</td>\n",
       "      <td>NaN</td>\n",
       "    </tr>\n",
       "    <tr>\n",
       "      <th>4</th>\n",
       "      <td>1325318160</td>\n",
       "      <td>NaN</td>\n",
       "      <td>NaN</td>\n",
       "      <td>NaN</td>\n",
       "      <td>NaN</td>\n",
       "      <td>NaN</td>\n",
       "      <td>NaN</td>\n",
       "      <td>NaN</td>\n",
       "    </tr>\n",
       "  </tbody>\n",
       "</table>\n",
       "</div>"
      ],
      "text/plain": [
       "    Timestamp  Open  High   Low  Close  Volume_(BTC)  Volume_(Currency)  \\\n",
       "0  1325317920  4.39  4.39  4.39   4.39      0.455581                2.0   \n",
       "1  1325317980   NaN   NaN   NaN    NaN           NaN                NaN   \n",
       "2  1325318040   NaN   NaN   NaN    NaN           NaN                NaN   \n",
       "3  1325318100   NaN   NaN   NaN    NaN           NaN                NaN   \n",
       "4  1325318160   NaN   NaN   NaN    NaN           NaN                NaN   \n",
       "\n",
       "   Weighted_Price  \n",
       "0            4.39  \n",
       "1             NaN  \n",
       "2             NaN  \n",
       "3             NaN  \n",
       "4             NaN  "
      ]
     },
     "execution_count": 2,
     "metadata": {},
     "output_type": "execute_result"
    }
   ],
   "source": [
    "data = pd.read_csv('data/bitstampUSD_1-min_data_2012-01-01_to_2021-03-31.csv')\n",
    "data.head()"
   ]
  },
  {
   "cell_type": "code",
   "execution_count": 3,
   "id": "07d4a3fc",
   "metadata": {},
   "outputs": [
    {
     "data": {
      "text/plain": [
       "(4857377, 8)"
      ]
     },
     "execution_count": 3,
     "metadata": {},
     "output_type": "execute_result"
    }
   ],
   "source": [
    "data.shape"
   ]
  },
  {
   "cell_type": "markdown",
   "id": "b8dae1d8",
   "metadata": {},
   "source": [
    "### Uklanjanje redova koji sadrze NaN vrednosti."
   ]
  },
  {
   "cell_type": "code",
   "execution_count": 4,
   "id": "4bf7d3cc",
   "metadata": {},
   "outputs": [
    {
     "data": {
      "text/html": [
       "<div>\n",
       "<style scoped>\n",
       "    .dataframe tbody tr th:only-of-type {\n",
       "        vertical-align: middle;\n",
       "    }\n",
       "\n",
       "    .dataframe tbody tr th {\n",
       "        vertical-align: top;\n",
       "    }\n",
       "\n",
       "    .dataframe thead th {\n",
       "        text-align: right;\n",
       "    }\n",
       "</style>\n",
       "<table border=\"1\" class=\"dataframe\">\n",
       "  <thead>\n",
       "    <tr style=\"text-align: right;\">\n",
       "      <th></th>\n",
       "      <th>Timestamp</th>\n",
       "      <th>Open</th>\n",
       "      <th>High</th>\n",
       "      <th>Low</th>\n",
       "      <th>Close</th>\n",
       "      <th>Volume_(BTC)</th>\n",
       "      <th>Volume_(Currency)</th>\n",
       "      <th>Weighted_Price</th>\n",
       "    </tr>\n",
       "  </thead>\n",
       "  <tbody>\n",
       "    <tr>\n",
       "      <th>0</th>\n",
       "      <td>1325317920</td>\n",
       "      <td>4.39</td>\n",
       "      <td>4.39</td>\n",
       "      <td>4.39</td>\n",
       "      <td>4.39</td>\n",
       "      <td>0.455581</td>\n",
       "      <td>2.000000</td>\n",
       "      <td>4.390000</td>\n",
       "    </tr>\n",
       "    <tr>\n",
       "      <th>478</th>\n",
       "      <td>1325346600</td>\n",
       "      <td>4.39</td>\n",
       "      <td>4.39</td>\n",
       "      <td>4.39</td>\n",
       "      <td>4.39</td>\n",
       "      <td>48.000000</td>\n",
       "      <td>210.720000</td>\n",
       "      <td>4.390000</td>\n",
       "    </tr>\n",
       "    <tr>\n",
       "      <th>547</th>\n",
       "      <td>1325350740</td>\n",
       "      <td>4.50</td>\n",
       "      <td>4.57</td>\n",
       "      <td>4.50</td>\n",
       "      <td>4.57</td>\n",
       "      <td>37.862297</td>\n",
       "      <td>171.380338</td>\n",
       "      <td>4.526411</td>\n",
       "    </tr>\n",
       "    <tr>\n",
       "      <th>548</th>\n",
       "      <td>1325350800</td>\n",
       "      <td>4.58</td>\n",
       "      <td>4.58</td>\n",
       "      <td>4.58</td>\n",
       "      <td>4.58</td>\n",
       "      <td>9.000000</td>\n",
       "      <td>41.220000</td>\n",
       "      <td>4.580000</td>\n",
       "    </tr>\n",
       "    <tr>\n",
       "      <th>1224</th>\n",
       "      <td>1325391360</td>\n",
       "      <td>4.58</td>\n",
       "      <td>4.58</td>\n",
       "      <td>4.58</td>\n",
       "      <td>4.58</td>\n",
       "      <td>1.502000</td>\n",
       "      <td>6.879160</td>\n",
       "      <td>4.580000</td>\n",
       "    </tr>\n",
       "  </tbody>\n",
       "</table>\n",
       "</div>"
      ],
      "text/plain": [
       "       Timestamp  Open  High   Low  Close  Volume_(BTC)  Volume_(Currency)  \\\n",
       "0     1325317920  4.39  4.39  4.39   4.39      0.455581           2.000000   \n",
       "478   1325346600  4.39  4.39  4.39   4.39     48.000000         210.720000   \n",
       "547   1325350740  4.50  4.57  4.50   4.57     37.862297         171.380338   \n",
       "548   1325350800  4.58  4.58  4.58   4.58      9.000000          41.220000   \n",
       "1224  1325391360  4.58  4.58  4.58   4.58      1.502000           6.879160   \n",
       "\n",
       "      Weighted_Price  \n",
       "0           4.390000  \n",
       "478         4.390000  \n",
       "547         4.526411  \n",
       "548         4.580000  \n",
       "1224        4.580000  "
      ]
     },
     "execution_count": 4,
     "metadata": {},
     "output_type": "execute_result"
    }
   ],
   "source": [
    "data = data.dropna()\n",
    "data.head()"
   ]
  },
  {
   "cell_type": "markdown",
   "id": "3056c161",
   "metadata": {},
   "source": [
    "### Uklanjanje nepotrebnih kolona."
   ]
  },
  {
   "cell_type": "code",
   "execution_count": 5,
   "id": "6f1e0d7d",
   "metadata": {},
   "outputs": [
    {
     "data": {
      "text/html": [
       "<div>\n",
       "<style scoped>\n",
       "    .dataframe tbody tr th:only-of-type {\n",
       "        vertical-align: middle;\n",
       "    }\n",
       "\n",
       "    .dataframe tbody tr th {\n",
       "        vertical-align: top;\n",
       "    }\n",
       "\n",
       "    .dataframe thead th {\n",
       "        text-align: right;\n",
       "    }\n",
       "</style>\n",
       "<table border=\"1\" class=\"dataframe\">\n",
       "  <thead>\n",
       "    <tr style=\"text-align: right;\">\n",
       "      <th></th>\n",
       "      <th>Timestamp</th>\n",
       "      <th>Open</th>\n",
       "      <th>High</th>\n",
       "      <th>Low</th>\n",
       "      <th>Close</th>\n",
       "    </tr>\n",
       "  </thead>\n",
       "  <tbody>\n",
       "    <tr>\n",
       "      <th>0</th>\n",
       "      <td>1325317920</td>\n",
       "      <td>4.39</td>\n",
       "      <td>4.39</td>\n",
       "      <td>4.39</td>\n",
       "      <td>4.39</td>\n",
       "    </tr>\n",
       "    <tr>\n",
       "      <th>478</th>\n",
       "      <td>1325346600</td>\n",
       "      <td>4.39</td>\n",
       "      <td>4.39</td>\n",
       "      <td>4.39</td>\n",
       "      <td>4.39</td>\n",
       "    </tr>\n",
       "    <tr>\n",
       "      <th>547</th>\n",
       "      <td>1325350740</td>\n",
       "      <td>4.50</td>\n",
       "      <td>4.57</td>\n",
       "      <td>4.50</td>\n",
       "      <td>4.57</td>\n",
       "    </tr>\n",
       "    <tr>\n",
       "      <th>548</th>\n",
       "      <td>1325350800</td>\n",
       "      <td>4.58</td>\n",
       "      <td>4.58</td>\n",
       "      <td>4.58</td>\n",
       "      <td>4.58</td>\n",
       "    </tr>\n",
       "    <tr>\n",
       "      <th>1224</th>\n",
       "      <td>1325391360</td>\n",
       "      <td>4.58</td>\n",
       "      <td>4.58</td>\n",
       "      <td>4.58</td>\n",
       "      <td>4.58</td>\n",
       "    </tr>\n",
       "  </tbody>\n",
       "</table>\n",
       "</div>"
      ],
      "text/plain": [
       "       Timestamp  Open  High   Low  Close\n",
       "0     1325317920  4.39  4.39  4.39   4.39\n",
       "478   1325346600  4.39  4.39  4.39   4.39\n",
       "547   1325350740  4.50  4.57  4.50   4.57\n",
       "548   1325350800  4.58  4.58  4.58   4.58\n",
       "1224  1325391360  4.58  4.58  4.58   4.58"
      ]
     },
     "execution_count": 5,
     "metadata": {},
     "output_type": "execute_result"
    }
   ],
   "source": [
    "data_=data.drop(['Volume_(BTC)','Volume_(Currency)','Weighted_Price'], axis=1)\n",
    "data_.head()"
   ]
  },
  {
   "cell_type": "markdown",
   "id": "30b06a44",
   "metadata": {},
   "source": [
    "### Dodavanje kolone sa indeksom."
   ]
  },
  {
   "cell_type": "code",
   "execution_count": 6,
   "id": "e769c0b5",
   "metadata": {},
   "outputs": [],
   "source": [
    "#data_[\"row_id\"]= range(1, len(data_) + 1)"
   ]
  },
  {
   "cell_type": "code",
   "execution_count": 7,
   "id": "3388e06d",
   "metadata": {},
   "outputs": [],
   "source": [
    "#data_.set_index('row_id', inplace=True)\n",
    "#data_.head()"
   ]
  },
  {
   "cell_type": "markdown",
   "id": "1aa5ee02",
   "metadata": {},
   "source": [
    "### Razlika vrednosti na otvaranju i vrednosti na zatvaranju."
   ]
  },
  {
   "cell_type": "code",
   "execution_count": 8,
   "id": "7d75b7c6",
   "metadata": {},
   "outputs": [],
   "source": [
    "# da li se instanca (dan, svaki dan) zatvorila\n",
    "# sa porastom vrednosti ili sa padom vrednosti\n",
    "data_['pos_neg'] = data_['Open']-data_['Close']\n",
    "data_.head()\n",
    "# kreiranje nove binarne kolone cije vrednosti mogu biti:\n",
    "# 0 = gubitak (pad cene)\n",
    "# 1 = dobitak (rast cene)\n",
    "# (to je ono sto u nastavku treba predvideti)\n",
    "data_['Up/Down'] = np.where(data_['pos_neg']>0, 0, 1)"
   ]
  },
  {
   "cell_type": "code",
   "execution_count": 9,
   "id": "11da7ad0",
   "metadata": {},
   "outputs": [
    {
     "data": {
      "text/html": [
       "<div>\n",
       "<style scoped>\n",
       "    .dataframe tbody tr th:only-of-type {\n",
       "        vertical-align: middle;\n",
       "    }\n",
       "\n",
       "    .dataframe tbody tr th {\n",
       "        vertical-align: top;\n",
       "    }\n",
       "\n",
       "    .dataframe thead th {\n",
       "        text-align: right;\n",
       "    }\n",
       "</style>\n",
       "<table border=\"1\" class=\"dataframe\">\n",
       "  <thead>\n",
       "    <tr style=\"text-align: right;\">\n",
       "      <th></th>\n",
       "      <th>Timestamp</th>\n",
       "      <th>Open</th>\n",
       "      <th>High</th>\n",
       "      <th>Low</th>\n",
       "      <th>Close</th>\n",
       "      <th>pos_neg</th>\n",
       "      <th>Up/Down</th>\n",
       "    </tr>\n",
       "  </thead>\n",
       "  <tbody>\n",
       "    <tr>\n",
       "      <th>0</th>\n",
       "      <td>1325317920</td>\n",
       "      <td>4.39</td>\n",
       "      <td>4.39</td>\n",
       "      <td>4.39</td>\n",
       "      <td>4.39</td>\n",
       "      <td>0.00</td>\n",
       "      <td>1</td>\n",
       "    </tr>\n",
       "    <tr>\n",
       "      <th>478</th>\n",
       "      <td>1325346600</td>\n",
       "      <td>4.39</td>\n",
       "      <td>4.39</td>\n",
       "      <td>4.39</td>\n",
       "      <td>4.39</td>\n",
       "      <td>0.00</td>\n",
       "      <td>1</td>\n",
       "    </tr>\n",
       "    <tr>\n",
       "      <th>547</th>\n",
       "      <td>1325350740</td>\n",
       "      <td>4.50</td>\n",
       "      <td>4.57</td>\n",
       "      <td>4.50</td>\n",
       "      <td>4.57</td>\n",
       "      <td>-0.07</td>\n",
       "      <td>1</td>\n",
       "    </tr>\n",
       "    <tr>\n",
       "      <th>548</th>\n",
       "      <td>1325350800</td>\n",
       "      <td>4.58</td>\n",
       "      <td>4.58</td>\n",
       "      <td>4.58</td>\n",
       "      <td>4.58</td>\n",
       "      <td>0.00</td>\n",
       "      <td>1</td>\n",
       "    </tr>\n",
       "    <tr>\n",
       "      <th>1224</th>\n",
       "      <td>1325391360</td>\n",
       "      <td>4.58</td>\n",
       "      <td>4.58</td>\n",
       "      <td>4.58</td>\n",
       "      <td>4.58</td>\n",
       "      <td>0.00</td>\n",
       "      <td>1</td>\n",
       "    </tr>\n",
       "  </tbody>\n",
       "</table>\n",
       "</div>"
      ],
      "text/plain": [
       "       Timestamp  Open  High   Low  Close  pos_neg  Up/Down\n",
       "0     1325317920  4.39  4.39  4.39   4.39     0.00        1\n",
       "478   1325346600  4.39  4.39  4.39   4.39     0.00        1\n",
       "547   1325350740  4.50  4.57  4.50   4.57    -0.07        1\n",
       "548   1325350800  4.58  4.58  4.58   4.58     0.00        1\n",
       "1224  1325391360  4.58  4.58  4.58   4.58     0.00        1"
      ]
     },
     "execution_count": 9,
     "metadata": {},
     "output_type": "execute_result"
    }
   ],
   "source": [
    "data_.head()"
   ]
  },
  {
   "cell_type": "code",
   "execution_count": 10,
   "id": "2d54dd07",
   "metadata": {},
   "outputs": [
    {
     "data": {
      "text/plain": [
       "(array([1331050.,       0.,       0.,       0.,       0.,       0.,\n",
       "              0.,       0.,       0., 2282719.]),\n",
       " array([0. , 0.1, 0.2, 0.3, 0.4, 0.5, 0.6, 0.7, 0.8, 0.9, 1. ]),\n",
       " <BarContainer object of 10 artists>)"
      ]
     },
     "execution_count": 10,
     "metadata": {},
     "output_type": "execute_result"
    },
    {
     "data": {
      "image/png": "[encoded data removed]",
      "text/plain": [
       "<Figure size 432x288 with 1 Axes>"
      ]
     },
     "metadata": {
      "needs_background": "light"
     },
     "output_type": "display_data"
    }
   ],
   "source": [
    "# TODO\n",
    "plt.hist(data_['Up/Down'])"
   ]
  },
  {
   "cell_type": "code",
   "execution_count": 11,
   "id": "2f54af37",
   "metadata": {},
   "outputs": [
    {
     "data": {
      "text/html": [
       "<div>\n",
       "<style scoped>\n",
       "    .dataframe tbody tr th:only-of-type {\n",
       "        vertical-align: middle;\n",
       "    }\n",
       "\n",
       "    .dataframe tbody tr th {\n",
       "        vertical-align: top;\n",
       "    }\n",
       "\n",
       "    .dataframe thead th {\n",
       "        text-align: right;\n",
       "    }\n",
       "</style>\n",
       "<table border=\"1\" class=\"dataframe\">\n",
       "  <thead>\n",
       "    <tr style=\"text-align: right;\">\n",
       "      <th></th>\n",
       "      <th>Open</th>\n",
       "      <th>High</th>\n",
       "      <th>Low</th>\n",
       "      <th>Close</th>\n",
       "      <th>pos_neg</th>\n",
       "      <th>Up/Down</th>\n",
       "    </tr>\n",
       "  </thead>\n",
       "  <tbody>\n",
       "    <tr>\n",
       "      <th>0</th>\n",
       "      <td>4.39</td>\n",
       "      <td>4.39</td>\n",
       "      <td>4.39</td>\n",
       "      <td>4.39</td>\n",
       "      <td>0.00</td>\n",
       "      <td>1</td>\n",
       "    </tr>\n",
       "    <tr>\n",
       "      <th>478</th>\n",
       "      <td>4.39</td>\n",
       "      <td>4.39</td>\n",
       "      <td>4.39</td>\n",
       "      <td>4.39</td>\n",
       "      <td>0.00</td>\n",
       "      <td>1</td>\n",
       "    </tr>\n",
       "    <tr>\n",
       "      <th>547</th>\n",
       "      <td>4.50</td>\n",
       "      <td>4.57</td>\n",
       "      <td>4.50</td>\n",
       "      <td>4.57</td>\n",
       "      <td>-0.07</td>\n",
       "      <td>1</td>\n",
       "    </tr>\n",
       "    <tr>\n",
       "      <th>548</th>\n",
       "      <td>4.58</td>\n",
       "      <td>4.58</td>\n",
       "      <td>4.58</td>\n",
       "      <td>4.58</td>\n",
       "      <td>0.00</td>\n",
       "      <td>1</td>\n",
       "    </tr>\n",
       "    <tr>\n",
       "      <th>1224</th>\n",
       "      <td>4.58</td>\n",
       "      <td>4.58</td>\n",
       "      <td>4.58</td>\n",
       "      <td>4.58</td>\n",
       "      <td>0.00</td>\n",
       "      <td>1</td>\n",
       "    </tr>\n",
       "  </tbody>\n",
       "</table>\n",
       "</div>"
      ],
      "text/plain": [
       "      Open  High   Low  Close  pos_neg  Up/Down\n",
       "0     4.39  4.39  4.39   4.39     0.00        1\n",
       "478   4.39  4.39  4.39   4.39     0.00        1\n",
       "547   4.50  4.57  4.50   4.57    -0.07        1\n",
       "548   4.58  4.58  4.58   4.58     0.00        1\n",
       "1224  4.58  4.58  4.58   4.58     0.00        1"
      ]
     },
     "execution_count": 11,
     "metadata": {},
     "output_type": "execute_result"
    }
   ],
   "source": [
    "data_ = data_.drop('Timestamp',axis=1)\n",
    "data_.head()"
   ]
  },
  {
   "cell_type": "code",
   "execution_count": 12,
   "id": "fc966ee4",
   "metadata": {},
   "outputs": [
    {
     "data": {
      "text/plain": [
       "(3613769, 6)"
      ]
     },
     "execution_count": 12,
     "metadata": {},
     "output_type": "execute_result"
    }
   ],
   "source": [
    "data_.shape"
   ]
  },
  {
   "cell_type": "code",
   "execution_count": 13,
   "id": "8725f342",
   "metadata": {},
   "outputs": [
    {
     "name": "stdout",
     "output_type": "stream",
     "text": [
      "<class 'pandas.core.frame.DataFrame'>\n",
      "Int64Index: 3613769 entries, 0 to 4857376\n",
      "Data columns (total 6 columns):\n",
      " #   Column   Dtype  \n",
      "---  ------   -----  \n",
      " 0   Open     float64\n",
      " 1   High     float64\n",
      " 2   Low      float64\n",
      " 3   Close    float64\n",
      " 4   pos_neg  float64\n",
      " 5   Up/Down  int32  \n",
      "dtypes: float64(5), int32(1)\n",
      "memory usage: 179.2 MB\n"
     ]
    }
   ],
   "source": [
    "data_.info()"
   ]
  },
  {
   "cell_type": "markdown",
   "id": "05a7b71b",
   "metadata": {},
   "source": [
    "### Stratifikovana podela skupa podataka na skup za treniranje i skup za testiranje u datoj razmeri."
   ]
  },
  {
   "cell_type": "code",
   "execution_count": 14,
   "id": "24a9f7d7",
   "metadata": {},
   "outputs": [],
   "source": [
    "X = data_[['Open', 'High', 'Low','Close']]\n",
    "y = data_['Up/Down']\n",
    "X_train, X_test, y_train, y_test = train_test_split(X,y, test_size=0.3, random_state=101, stratify = y)"
   ]
  },
  {
   "cell_type": "code",
   "execution_count": 15,
   "id": "c694df1c",
   "metadata": {},
   "outputs": [
    {
     "data": {
      "text/plain": [
       "((3613769,), 2282719)"
      ]
     },
     "execution_count": 15,
     "metadata": {},
     "output_type": "execute_result"
    }
   ],
   "source": [
    "# vise je ne-nula elemenata, kao sto je i ocekivano\n",
    "y.shape, np.count_nonzero(y, axis=0)"
   ]
  },
  {
   "cell_type": "code",
   "execution_count": 16,
   "id": "a2bcd38a",
   "metadata": {},
   "outputs": [
    {
     "name": "stdout",
     "output_type": "stream",
     "text": [
      "Jedinice:  1597903 Nule:  931735\n"
     ]
    }
   ],
   "source": [
    "non_zero_train = np.count_nonzero(y_train, axis=0) # ne-nula\n",
    "zero_train = y_train.shape[0] - non_zero_train # nula\n",
    "print('Jedinice: ', non_zero_train, 'Nule: ', zero_train)"
   ]
  },
  {
   "cell_type": "code",
   "execution_count": 17,
   "id": "667f58fa",
   "metadata": {},
   "outputs": [
    {
     "name": "stdout",
     "output_type": "stream",
     "text": [
      "Jedinice:  684816 Nule:  399315\n"
     ]
    }
   ],
   "source": [
    "non_zero_test = np.count_nonzero(y_test, axis=0) # ne-nula\n",
    "zero_test = y_test.shape[0] - non_zero_test # nula\n",
    "print('Jedinice: ', non_zero_test, 'Nule: ', zero_test)"
   ]
  },
  {
   "cell_type": "code",
   "execution_count": 18,
   "id": "42deed89",
   "metadata": {},
   "outputs": [
    {
     "data": {
      "image/png": "[encoded data removed]",
      "text/plain": [
       "<Figure size 432x288 with 1 Axes>"
      ]
     },
     "metadata": {
      "needs_background": "light"
     },
     "output_type": "display_data"
    }
   ],
   "source": [
    "plt.title(\"Vizuelna provera stratifikovanosti\")\n",
    "plt.xticks([0,1])\n",
    "plt.xlabel(' 0 - pad cene, 1 - rast cene')\n",
    "plt.hist([y_train, y_test], color=['orange', 'green'], label=['skup za treniranje', 'skup za testiranje'])\n",
    "plt.legend(loc='best')\n",
    "plt.show()"
   ]
  },
  {
   "cell_type": "markdown",
   "id": "1b809265",
   "metadata": {},
   "source": [
    "### Sve vrednosti su u istom intervalu. Skaliranje nije potrebno. # TODO"
   ]
  },
  {
   "cell_type": "markdown",
   "id": "a62f1b9e",
   "metadata": {},
   "source": [
    "### Kreiranje i treniranje modela."
   ]
  },
  {
   "cell_type": "code",
   "execution_count": 19,
   "id": "3b491d27",
   "metadata": {},
   "outputs": [
    {
     "name": "stderr",
     "output_type": "stream",
     "text": [
      "C:\\Python39\\lib\\site-packages\\sklearn\\linear_model\\_logistic.py:763: ConvergenceWarning: lbfgs failed to converge (status=1):\n",
      "STOP: TOTAL NO. of ITERATIONS REACHED LIMIT.\n",
      "\n",
      "Increase the number of iterations (max_iter) or scale the data as shown in:\n",
      "    https://scikit-learn.org/stable/modules/preprocessing.html\n",
      "Please also refer to the documentation for alternative solver options:\n",
      "    https://scikit-learn.org/stable/modules/linear_model.html#logistic-regression\n",
      "  n_iter_i = _check_optimize_result(\n"
     ]
    },
    {
     "data": {
      "text/plain": [
       "LogisticRegression()"
      ]
     },
     "execution_count": 19,
     "metadata": {},
     "output_type": "execute_result"
    }
   ],
   "source": [
    "logmodel = LogisticRegression()\n",
    "logmodel.fit(X_train,y_train)"
   ]
  },
  {
   "cell_type": "markdown",
   "id": "198b32e1",
   "metadata": {},
   "source": [
    "### Predvidjanje modela."
   ]
  },
  {
   "cell_type": "code",
   "execution_count": 20,
   "id": "e2eee558",
   "metadata": {},
   "outputs": [],
   "source": [
    "predictions = logmodel.predict(X_test)\n",
    "train_predictions = logmodel.predict(X_train)"
   ]
  },
  {
   "cell_type": "markdown",
   "id": "21b8374e",
   "metadata": {},
   "source": [
    "### Tacnost na skupovima za treniranje i testiranje."
   ]
  },
  {
   "cell_type": "code",
   "execution_count": 21,
   "id": "a9b10398",
   "metadata": {},
   "outputs": [
    {
     "name": "stdout",
     "output_type": "stream",
     "text": [
      "Tacnost na skupu za treniranje: 0.9799354690275842\n",
      "Tacnost na skupu za testiranje: 0.980078053297987\n"
     ]
    }
   ],
   "source": [
    "train_score = metrics.accuracy_score(y_train, train_predictions)\n",
    "test_score = metrics.accuracy_score(y_test, predictions)\n",
    "print(\"Tacnost na skupu za treniranje: {train}\\nTacnost na skupu za testiranje: {test}\".format(train=train_score, test=test_score))"
   ]
  },
  {
   "cell_type": "markdown",
   "id": "26b48d98",
   "metadata": {},
   "source": [
    "### Ostale mere na skupu za testiranje."
   ]
  },
  {
   "cell_type": "code",
   "execution_count": 22,
   "id": "eb2a9bcf",
   "metadata": {},
   "outputs": [
    {
     "name": "stdout",
     "output_type": "stream",
     "text": [
      "              precision    recall  f1-score   support\n",
      "\n",
      "           0       1.00      0.95      0.97    399315\n",
      "           1       0.97      1.00      0.98    684816\n",
      "\n",
      "    accuracy                           0.98   1084131\n",
      "   macro avg       0.98      0.97      0.98   1084131\n",
      "weighted avg       0.98      0.98      0.98   1084131\n",
      "\n"
     ]
    }
   ],
   "source": [
    "print(classification_report(y_test,predictions))"
   ]
  },
  {
   "cell_type": "markdown",
   "id": "de770859",
   "metadata": {},
   "source": [
    "### Matrica konfuzije."
   ]
  },
  {
   "cell_type": "code",
   "execution_count": 23,
   "id": "46849277",
   "metadata": {},
   "outputs": [
    {
     "data": {
      "text/plain": [
       "array([[378069,  21246],\n",
       "       [   352, 684464]], dtype=int64)"
      ]
     },
     "execution_count": 23,
     "metadata": {},
     "output_type": "execute_result"
    }
   ],
   "source": [
    "confusion_m = metrics.confusion_matrix(y_test, predictions)\n",
    "confusion_m"
   ]
  },
  {
   "cell_type": "code",
   "execution_count": 24,
   "id": "7cd6ec40",
   "metadata": {},
   "outputs": [
    {
     "data": {
      "text/plain": [
       "378069"
      ]
     },
     "execution_count": 24,
     "metadata": {},
     "output_type": "execute_result"
    }
   ],
   "source": [
    "tp = confusion_m[0][0]\n",
    "tp"
   ]
  },
  {
   "cell_type": "code",
   "execution_count": 25,
   "id": "907c6488",
   "metadata": {},
   "outputs": [
    {
     "data": {
      "text/plain": [
       "21246"
      ]
     },
     "execution_count": 25,
     "metadata": {},
     "output_type": "execute_result"
    }
   ],
   "source": [
    "fp = confusion_m[0][1]\n",
    "fp"
   ]
  },
  {
   "cell_type": "code",
   "execution_count": 26,
   "id": "7d14018a",
   "metadata": {},
   "outputs": [
    {
     "data": {
      "text/plain": [
       "352"
      ]
     },
     "execution_count": 26,
     "metadata": {},
     "output_type": "execute_result"
    }
   ],
   "source": [
    "fn = confusion_m[1][0]\n",
    "fn"
   ]
  },
  {
   "cell_type": "code",
   "execution_count": 27,
   "id": "843d314c",
   "metadata": {},
   "outputs": [
    {
     "data": {
      "text/plain": [
       "684464"
      ]
     },
     "execution_count": 27,
     "metadata": {},
     "output_type": "execute_result"
    }
   ],
   "source": [
    "tn = confusion_m[1][1]\n",
    "tn"
   ]
  },
  {
   "cell_type": "markdown",
   "id": "71cd636b",
   "metadata": {},
   "source": [
    "### Analiza sigurnosti klasifikatora."
   ]
  },
  {
   "cell_type": "code",
   "execution_count": 28,
   "id": "0e1078d6",
   "metadata": {},
   "outputs": [
    {
     "data": {
      "text/plain": [
       "array([1, 1, 1, 1, 1, 1, 1, 1, 1, 1])"
      ]
     },
     "execution_count": 28,
     "metadata": {},
     "output_type": "execute_result"
    }
   ],
   "source": [
    "first_ten_predictions = predictions[0:10]\n",
    "first_ten_predictions"
   ]
  },
  {
   "cell_type": "code",
   "execution_count": 29,
   "id": "b87116f8",
   "metadata": {},
   "outputs": [
    {
     "data": {
      "text/plain": [
       "array([[0.05415489, 0.94584511],\n",
       "       [0.05386139, 0.94613861],\n",
       "       [0.05401714, 0.94598286],\n",
       "       [0.0539037 , 0.9460963 ],\n",
       "       [0.05420745, 0.94579255],\n",
       "       [0.27431828, 0.72568172],\n",
       "       [0.05403921, 0.94596079],\n",
       "       [0.00892141, 0.99107859],\n",
       "       [0.        , 1.        ],\n",
       "       [0.05465603, 0.94534397]])"
      ]
     },
     "execution_count": 29,
     "metadata": {},
     "output_type": "execute_result"
    }
   ],
   "source": [
    "# verovatnoce da instance pripadaju pozitivnoj odnosno negativnoj klasi\n",
    "predictions_probabilities = logmodel.predict_proba(X_test)\n",
    "predictions_probabilities[0:10]"
   ]
  },
  {
   "cell_type": "code",
   "execution_count": 30,
   "id": "baab4dfb",
   "metadata": {},
   "outputs": [],
   "source": [
    "logmodel_confidence = []\n",
    "\n",
    "for p in predictions_probabilities: \n",
    "    logmodel_confidence.append(np.abs(p[0]-p[1]))\n",
    "    \n",
    "logmodel_confidence = np.array(logmodel_confidence)"
   ]
  },
  {
   "cell_type": "code",
   "execution_count": 31,
   "id": "ec515527",
   "metadata": {},
   "outputs": [
    {
     "data": {
      "text/plain": [
       "array([ 898677, 1023684,  348662, ...,  450464,  450468, 1084130],\n",
       "      dtype=int64)"
      ]
     },
     "execution_count": 31,
     "metadata": {},
     "output_type": "execute_result"
    }
   ],
   "source": [
    "# indeksi instanci uredjeni na osnovu sigurnosti klasifikatora u svoju odluku\n",
    "# pocev od indeksa instanci oko cije klasifikacije je klasifikator najmanje siguran\n",
    "logmodel_confidence.argsort()"
   ]
  },
  {
   "cell_type": "code",
   "execution_count": 32,
   "id": "831c8ac5",
   "metadata": {},
   "outputs": [
    {
     "data": {
      "text/plain": [
       "array([1.48457494e-04, 1.91676215e-04, 5.92607450e-04, ...,\n",
       "       1.00000000e+00, 1.00000000e+00, 1.00000000e+00])"
      ]
     },
     "execution_count": 32,
     "metadata": {},
     "output_type": "execute_result"
    }
   ],
   "source": [
    "# uredjeni niz razlike verovatnoca pocev od onih koji se\n",
    "# najmanje razlikuju ka onim koji se najvise razlikuju\n",
    "logmodel_confidence.sort()\n",
    "logmodel_confidence"
   ]
  },
  {
   "cell_type": "code",
   "execution_count": null,
   "id": "5d3d5ac0",
   "metadata": {},
   "outputs": [],
   "source": []
  }
 ],
 "metadata": {
  "kernelspec": {
   "display_name": "Python 3",
   "language": "python",
   "name": "python3"
  },
  "language_info": {
   "codemirror_mode": {
    "name": "ipython",
    "version": 3
   },
   "file_extension": ".py",
   "mimetype": "text/x-python",
   "name": "python",
   "nbconvert_exporter": "python",
   "pygments_lexer": "ipython3",
   "version": "3.9.5"
  }
 },
 "nbformat": 4,
 "nbformat_minor": 5
}
