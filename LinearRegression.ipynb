{
 "cells": [
  {
   "cell_type": "markdown",
   "id": "ad461639",
   "metadata": {},
   "source": [
    "## Predvidjanje vrednosti bitkoina za DAYS_TO_PREDICT dana pomocu Linearne regresije\n",
    "\n",
    "**Koraci:**\n",
    "1. Ucitavanje i pretprocesiranje podataka\n",
    "2. Prikaz zavisnosti kolona \"Open\" i \"Close\"\n",
    "3. Podela podataka\n",
    "4. Odredjivanje ciljne promenljive\n",
    "5. Skaliranje podataka\n",
    "6. Kreiranje i treniranje modela\n",
    "7. Predvidjanje modela\n",
    "8. Evaluacija modela\n",
    "9. Prikaz rezultata"
   ]
  },
  {
   "cell_type": "code",
   "execution_count": 83,
   "id": "728f8daa",
   "metadata": {},
   "outputs": [
    {
     "name": "stdout",
     "output_type": "stream",
     "text": [
      "Requirement already satisfied: seaborn in c:\\python39\\lib\\site-packages (0.11.2)\n",
      "Requirement already satisfied: numpy>=1.15 in c:\\python39\\lib\\site-packages (from seaborn) (1.20.2)\n",
      "Requirement already satisfied: matplotlib>=2.2 in c:\\python39\\lib\\site-packages (from seaborn) (3.4.2)\n",
      "Requirement already satisfied: pandas>=0.23 in c:\\python39\\lib\\site-packages (from seaborn) (1.2.4)\n",
      "Requirement already satisfied: scipy>=1.0 in c:\\python39\\lib\\site-packages (from seaborn) (1.6.3)\n",
      "Requirement already satisfied: pillow>=6.2.0 in c:\\python39\\lib\\site-packages (from matplotlib>=2.2->seaborn) (8.2.0)\n",
      "Requirement already satisfied: pyparsing>=2.2.1 in c:\\users\\jovan\\appdata\\roaming\\python\\python39\\site-packages (from matplotlib>=2.2->seaborn) (2.4.7)\n",
      "Requirement already satisfied: python-dateutil>=2.7 in c:\\users\\jovan\\appdata\\roaming\\python\\python39\\site-packages (from matplotlib>=2.2->seaborn) (2.8.1)\n",
      "Requirement already satisfied: cycler>=0.10 in c:\\python39\\lib\\site-packages (from matplotlib>=2.2->seaborn) (0.10.0)\n",
      "Requirement already satisfied: kiwisolver>=1.0.1 in c:\\python39\\lib\\site-packages (from matplotlib>=2.2->seaborn) (1.3.1)\n",
      "Requirement already satisfied: six in c:\\python39\\lib\\site-packages (from cycler>=0.10->matplotlib>=2.2->seaborn) (1.15.0)\n",
      "Requirement already satisfied: pytz>=2017.3 in c:\\python39\\lib\\site-packages (from pandas>=0.23->seaborn) (2021.1)\n",
      "Note: you may need to restart the kernel to use updated packages.\n"
     ]
    },
    {
     "name": "stderr",
     "output_type": "stream",
     "text": [
      "WARNING: Ignoring invalid distribution -ip (c:\\python39\\lib\\site-packages)\n",
      "WARNING: Ignoring invalid distribution -ip (c:\\python39\\lib\\site-packages)\n",
      "WARNING: Ignoring invalid distribution -ip (c:\\python39\\lib\\site-packages)\n",
      "WARNING: Ignoring invalid distribution -ip (c:\\python39\\lib\\site-packages)\n",
      "WARNING: Ignoring invalid distribution -ip (c:\\python39\\lib\\site-packages)\n",
      "WARNING: Ignoring invalid distribution -ip (c:\\python39\\lib\\site-packages)\n"
     ]
    }
   ],
   "source": [
    "pip install seaborn"
   ]
  },
  {
   "cell_type": "markdown",
   "id": "65ed9199",
   "metadata": {},
   "source": [
    "### Ucitavanje biblioteka"
   ]
  },
  {
   "cell_type": "code",
   "execution_count": 84,
   "id": "92a4f66d",
   "metadata": {},
   "outputs": [],
   "source": [
    "import pandas as pd\n",
    "import numpy as np\n",
    "import matplotlib.pyplot as plt\n",
    "%matplotlib inline\n",
    "from sklearn.model_selection import train_test_split\n",
    "from sklearn.linear_model import LogisticRegression\n",
    "from sklearn import metrics\n",
    "from sklearn.metrics import classification_report\n",
    "from sklearn.svm import SVR\n",
    "from sklearn.preprocessing import MinMaxScaler\n",
    "from sklearn.linear_model import LinearRegression\n",
    "from sklearn.metrics import mean_absolute_error\n",
    "from sklearn.model_selection import GridSearchCV\n",
    "from sklearn.metrics import mean_absolute_error\n",
    "from sklearn.metrics import mean_squared_error\n",
    "from sklearn.metrics import r2_score\n",
    "import seaborn as sns\n",
    "\n",
    "%run preprocessing.ipynb"
   ]
  },
  {
   "cell_type": "markdown",
   "id": "5cb5eb32",
   "metadata": {},
   "source": [
    "### Ucitavanje skupa podataka"
   ]
  },
  {
   "cell_type": "code",
   "execution_count": 85,
   "id": "318e8b5d",
   "metadata": {},
   "outputs": [],
   "source": [
    "data = preprocess_data(file_name = 'bitstampUSD_1-min_data_2012-01-01_to_2021-03-31.csv')"
   ]
  },
  {
   "cell_type": "code",
   "execution_count": 86,
   "id": "186079e7",
   "metadata": {},
   "outputs": [
    {
     "data": {
      "text/html": [
       "<div>\n",
       "<style scoped>\n",
       "    .dataframe tbody tr th:only-of-type {\n",
       "        vertical-align: middle;\n",
       "    }\n",
       "\n",
       "    .dataframe tbody tr th {\n",
       "        vertical-align: top;\n",
       "    }\n",
       "\n",
       "    .dataframe thead th {\n",
       "        text-align: right;\n",
       "    }\n",
       "</style>\n",
       "<table border=\"1\" class=\"dataframe\">\n",
       "  <thead>\n",
       "    <tr style=\"text-align: right;\">\n",
       "      <th></th>\n",
       "      <th>Timestamp</th>\n",
       "      <th>Open</th>\n",
       "      <th>High</th>\n",
       "      <th>Low</th>\n",
       "      <th>Close</th>\n",
       "      <th>Volume_(BTC)</th>\n",
       "      <th>Volume_(Currency)</th>\n",
       "      <th>Weighted_Price</th>\n",
       "      <th>Date</th>\n",
       "    </tr>\n",
       "  </thead>\n",
       "  <tbody>\n",
       "    <tr>\n",
       "      <th>0</th>\n",
       "      <td>1325317920</td>\n",
       "      <td>4.39</td>\n",
       "      <td>4.39</td>\n",
       "      <td>4.39</td>\n",
       "      <td>4.39</td>\n",
       "      <td>0.455581</td>\n",
       "      <td>2.000000</td>\n",
       "      <td>4.390000</td>\n",
       "      <td>2011-12-31</td>\n",
       "    </tr>\n",
       "    <tr>\n",
       "      <th>478</th>\n",
       "      <td>1325346600</td>\n",
       "      <td>4.39</td>\n",
       "      <td>4.39</td>\n",
       "      <td>4.39</td>\n",
       "      <td>4.39</td>\n",
       "      <td>48.000000</td>\n",
       "      <td>210.720000</td>\n",
       "      <td>4.390000</td>\n",
       "      <td>2011-12-31</td>\n",
       "    </tr>\n",
       "    <tr>\n",
       "      <th>547</th>\n",
       "      <td>1325350740</td>\n",
       "      <td>4.50</td>\n",
       "      <td>4.57</td>\n",
       "      <td>4.50</td>\n",
       "      <td>4.57</td>\n",
       "      <td>37.862297</td>\n",
       "      <td>171.380338</td>\n",
       "      <td>4.526411</td>\n",
       "      <td>2011-12-31</td>\n",
       "    </tr>\n",
       "    <tr>\n",
       "      <th>548</th>\n",
       "      <td>1325350800</td>\n",
       "      <td>4.58</td>\n",
       "      <td>4.58</td>\n",
       "      <td>4.58</td>\n",
       "      <td>4.58</td>\n",
       "      <td>9.000000</td>\n",
       "      <td>41.220000</td>\n",
       "      <td>4.580000</td>\n",
       "      <td>2011-12-31</td>\n",
       "    </tr>\n",
       "    <tr>\n",
       "      <th>1224</th>\n",
       "      <td>1325391360</td>\n",
       "      <td>4.58</td>\n",
       "      <td>4.58</td>\n",
       "      <td>4.58</td>\n",
       "      <td>4.58</td>\n",
       "      <td>1.502000</td>\n",
       "      <td>6.879160</td>\n",
       "      <td>4.580000</td>\n",
       "      <td>2012-01-01</td>\n",
       "    </tr>\n",
       "    <tr>\n",
       "      <th>...</th>\n",
       "      <td>...</td>\n",
       "      <td>...</td>\n",
       "      <td>...</td>\n",
       "      <td>...</td>\n",
       "      <td>...</td>\n",
       "      <td>...</td>\n",
       "      <td>...</td>\n",
       "      <td>...</td>\n",
       "      <td>...</td>\n",
       "    </tr>\n",
       "    <tr>\n",
       "      <th>4857372</th>\n",
       "      <td>1617148560</td>\n",
       "      <td>58714.31</td>\n",
       "      <td>58714.31</td>\n",
       "      <td>58686.00</td>\n",
       "      <td>58686.00</td>\n",
       "      <td>1.384487</td>\n",
       "      <td>81259.372187</td>\n",
       "      <td>58692.753339</td>\n",
       "      <td>2021-03-30</td>\n",
       "    </tr>\n",
       "    <tr>\n",
       "      <th>4857373</th>\n",
       "      <td>1617148620</td>\n",
       "      <td>58683.97</td>\n",
       "      <td>58693.43</td>\n",
       "      <td>58683.97</td>\n",
       "      <td>58685.81</td>\n",
       "      <td>7.294848</td>\n",
       "      <td>428158.146640</td>\n",
       "      <td>58693.226508</td>\n",
       "      <td>2021-03-30</td>\n",
       "    </tr>\n",
       "    <tr>\n",
       "      <th>4857374</th>\n",
       "      <td>1617148680</td>\n",
       "      <td>58693.43</td>\n",
       "      <td>58723.84</td>\n",
       "      <td>58693.43</td>\n",
       "      <td>58723.84</td>\n",
       "      <td>1.705682</td>\n",
       "      <td>100117.070370</td>\n",
       "      <td>58696.198496</td>\n",
       "      <td>2021-03-30</td>\n",
       "    </tr>\n",
       "    <tr>\n",
       "      <th>4857375</th>\n",
       "      <td>1617148740</td>\n",
       "      <td>58742.18</td>\n",
       "      <td>58770.38</td>\n",
       "      <td>58742.18</td>\n",
       "      <td>58760.59</td>\n",
       "      <td>0.720415</td>\n",
       "      <td>42332.958633</td>\n",
       "      <td>58761.866202</td>\n",
       "      <td>2021-03-30</td>\n",
       "    </tr>\n",
       "    <tr>\n",
       "      <th>4857376</th>\n",
       "      <td>1617148800</td>\n",
       "      <td>58767.75</td>\n",
       "      <td>58778.18</td>\n",
       "      <td>58755.97</td>\n",
       "      <td>58778.18</td>\n",
       "      <td>2.712831</td>\n",
       "      <td>159417.751000</td>\n",
       "      <td>58764.349363</td>\n",
       "      <td>2021-03-31</td>\n",
       "    </tr>\n",
       "  </tbody>\n",
       "</table>\n",
       "<p>3613769 rows × 9 columns</p>\n",
       "</div>"
      ],
      "text/plain": [
       "          Timestamp      Open      High       Low     Close  Volume_(BTC)  \\\n",
       "0        1325317920      4.39      4.39      4.39      4.39      0.455581   \n",
       "478      1325346600      4.39      4.39      4.39      4.39     48.000000   \n",
       "547      1325350740      4.50      4.57      4.50      4.57     37.862297   \n",
       "548      1325350800      4.58      4.58      4.58      4.58      9.000000   \n",
       "1224     1325391360      4.58      4.58      4.58      4.58      1.502000   \n",
       "...             ...       ...       ...       ...       ...           ...   \n",
       "4857372  1617148560  58714.31  58714.31  58686.00  58686.00      1.384487   \n",
       "4857373  1617148620  58683.97  58693.43  58683.97  58685.81      7.294848   \n",
       "4857374  1617148680  58693.43  58723.84  58693.43  58723.84      1.705682   \n",
       "4857375  1617148740  58742.18  58770.38  58742.18  58760.59      0.720415   \n",
       "4857376  1617148800  58767.75  58778.18  58755.97  58778.18      2.712831   \n",
       "\n",
       "         Volume_(Currency)  Weighted_Price        Date  \n",
       "0                 2.000000        4.390000  2011-12-31  \n",
       "478             210.720000        4.390000  2011-12-31  \n",
       "547             171.380338        4.526411  2011-12-31  \n",
       "548              41.220000        4.580000  2011-12-31  \n",
       "1224              6.879160        4.580000  2012-01-01  \n",
       "...                    ...             ...         ...  \n",
       "4857372       81259.372187    58692.753339  2021-03-30  \n",
       "4857373      428158.146640    58693.226508  2021-03-30  \n",
       "4857374      100117.070370    58696.198496  2021-03-30  \n",
       "4857375       42332.958633    58761.866202  2021-03-30  \n",
       "4857376      159417.751000    58764.349363  2021-03-31  \n",
       "\n",
       "[3613769 rows x 9 columns]"
      ]
     },
     "execution_count": 86,
     "metadata": {},
     "output_type": "execute_result"
    }
   ],
   "source": [
    "data"
   ]
  },
  {
   "cell_type": "code",
   "execution_count": 87,
   "id": "54df4787",
   "metadata": {},
   "outputs": [
    {
     "data": {
      "text/html": [
       "<div>\n",
       "<style scoped>\n",
       "    .dataframe tbody tr th:only-of-type {\n",
       "        vertical-align: middle;\n",
       "    }\n",
       "\n",
       "    .dataframe tbody tr th {\n",
       "        vertical-align: top;\n",
       "    }\n",
       "\n",
       "    .dataframe thead th {\n",
       "        text-align: right;\n",
       "    }\n",
       "</style>\n",
       "<table border=\"1\" class=\"dataframe\">\n",
       "  <thead>\n",
       "    <tr style=\"text-align: right;\">\n",
       "      <th></th>\n",
       "      <th>Timestamp</th>\n",
       "      <th>Open</th>\n",
       "      <th>High</th>\n",
       "      <th>Low</th>\n",
       "      <th>Close</th>\n",
       "      <th>Volume_(BTC)</th>\n",
       "      <th>Volume_(Currency)</th>\n",
       "      <th>Weighted_Price</th>\n",
       "    </tr>\n",
       "  </thead>\n",
       "  <tbody>\n",
       "    <tr>\n",
       "      <th>Timestamp</th>\n",
       "      <td>1.000000</td>\n",
       "      <td>0.650719</td>\n",
       "      <td>0.650644</td>\n",
       "      <td>0.650803</td>\n",
       "      <td>0.650714</td>\n",
       "      <td>-0.103926</td>\n",
       "      <td>0.228190</td>\n",
       "      <td>0.650737</td>\n",
       "    </tr>\n",
       "    <tr>\n",
       "      <th>Open</th>\n",
       "      <td>0.650719</td>\n",
       "      <td>1.000000</td>\n",
       "      <td>0.999999</td>\n",
       "      <td>0.999999</td>\n",
       "      <td>0.999999</td>\n",
       "      <td>-0.051860</td>\n",
       "      <td>0.344074</td>\n",
       "      <td>0.999999</td>\n",
       "    </tr>\n",
       "    <tr>\n",
       "      <th>High</th>\n",
       "      <td>0.650644</td>\n",
       "      <td>0.999999</td>\n",
       "      <td>1.000000</td>\n",
       "      <td>0.999998</td>\n",
       "      <td>0.999999</td>\n",
       "      <td>-0.051717</td>\n",
       "      <td>0.344498</td>\n",
       "      <td>0.999999</td>\n",
       "    </tr>\n",
       "    <tr>\n",
       "      <th>Low</th>\n",
       "      <td>0.650803</td>\n",
       "      <td>0.999999</td>\n",
       "      <td>0.999998</td>\n",
       "      <td>1.000000</td>\n",
       "      <td>0.999999</td>\n",
       "      <td>-0.052040</td>\n",
       "      <td>0.343541</td>\n",
       "      <td>1.000000</td>\n",
       "    </tr>\n",
       "    <tr>\n",
       "      <th>Close</th>\n",
       "      <td>0.650714</td>\n",
       "      <td>0.999999</td>\n",
       "      <td>0.999999</td>\n",
       "      <td>0.999999</td>\n",
       "      <td>1.000000</td>\n",
       "      <td>-0.051877</td>\n",
       "      <td>0.344036</td>\n",
       "      <td>1.000000</td>\n",
       "    </tr>\n",
       "    <tr>\n",
       "      <th>Volume_(BTC)</th>\n",
       "      <td>-0.103926</td>\n",
       "      <td>-0.051860</td>\n",
       "      <td>-0.051717</td>\n",
       "      <td>-0.052040</td>\n",
       "      <td>-0.051877</td>\n",
       "      <td>1.000000</td>\n",
       "      <td>0.352038</td>\n",
       "      <td>-0.051887</td>\n",
       "    </tr>\n",
       "    <tr>\n",
       "      <th>Volume_(Currency)</th>\n",
       "      <td>0.228190</td>\n",
       "      <td>0.344074</td>\n",
       "      <td>0.344498</td>\n",
       "      <td>0.343541</td>\n",
       "      <td>0.344036</td>\n",
       "      <td>0.352038</td>\n",
       "      <td>1.000000</td>\n",
       "      <td>0.344010</td>\n",
       "    </tr>\n",
       "    <tr>\n",
       "      <th>Weighted_Price</th>\n",
       "      <td>0.650737</td>\n",
       "      <td>0.999999</td>\n",
       "      <td>0.999999</td>\n",
       "      <td>1.000000</td>\n",
       "      <td>1.000000</td>\n",
       "      <td>-0.051887</td>\n",
       "      <td>0.344010</td>\n",
       "      <td>1.000000</td>\n",
       "    </tr>\n",
       "  </tbody>\n",
       "</table>\n",
       "</div>"
      ],
      "text/plain": [
       "                   Timestamp      Open      High       Low     Close  \\\n",
       "Timestamp           1.000000  0.650719  0.650644  0.650803  0.650714   \n",
       "Open                0.650719  1.000000  0.999999  0.999999  0.999999   \n",
       "High                0.650644  0.999999  1.000000  0.999998  0.999999   \n",
       "Low                 0.650803  0.999999  0.999998  1.000000  0.999999   \n",
       "Close               0.650714  0.999999  0.999999  0.999999  1.000000   \n",
       "Volume_(BTC)       -0.103926 -0.051860 -0.051717 -0.052040 -0.051877   \n",
       "Volume_(Currency)   0.228190  0.344074  0.344498  0.343541  0.344036   \n",
       "Weighted_Price      0.650737  0.999999  0.999999  1.000000  1.000000   \n",
       "\n",
       "                   Volume_(BTC)  Volume_(Currency)  Weighted_Price  \n",
       "Timestamp             -0.103926           0.228190        0.650737  \n",
       "Open                  -0.051860           0.344074        0.999999  \n",
       "High                  -0.051717           0.344498        0.999999  \n",
       "Low                   -0.052040           0.343541        1.000000  \n",
       "Close                 -0.051877           0.344036        1.000000  \n",
       "Volume_(BTC)           1.000000           0.352038       -0.051887  \n",
       "Volume_(Currency)      0.352038           1.000000        0.344010  \n",
       "Weighted_Price        -0.051887           0.344010        1.000000  "
      ]
     },
     "execution_count": 87,
     "metadata": {},
     "output_type": "execute_result"
    }
   ],
   "source": [
    "data.corr()"
   ]
  },
  {
   "cell_type": "code",
   "execution_count": 88,
   "id": "3d14eb20",
   "metadata": {},
   "outputs": [
    {
     "data": {
      "text/plain": [
       "Close                1.000000\n",
       "Weighted_Price       1.000000\n",
       "High                 0.999999\n",
       "Low                  0.999999\n",
       "Open                 0.999999\n",
       "Timestamp            0.650714\n",
       "Volume_(Currency)    0.344036\n",
       "Volume_(BTC)         0.051877\n",
       "Name: Close, dtype: float64"
      ]
     },
     "execution_count": 88,
     "metadata": {},
     "output_type": "execute_result"
    }
   ],
   "source": [
    "abs(data.corr())['Close'].sort_values(ascending=False)"
   ]
  },
  {
   "cell_type": "markdown",
   "id": "abe2d925",
   "metadata": {},
   "source": [
    "### **Vizuelni prikaz zavisnosti atributa Open i Close**"
   ]
  },
  {
   "cell_type": "code",
   "execution_count": 89,
   "id": "8c3fd8b6",
   "metadata": {},
   "outputs": [
    {
     "data": {
      "image/png": "[encoded data removed]",
      "text/plain": [
       "<Figure size 720x360 with 1 Axes>"
      ]
     },
     "metadata": {
      "needs_background": "light"
     },
     "output_type": "display_data"
    }
   ],
   "source": [
    "plt.figure(figsize=(10,5))\n",
    "plt.scatter(x=data['Open'], y=data['Close'])\n",
    "plt.xlabel('vrednosti atributa Open')\n",
    "plt.ylabel('vrednosti Close atributa')\n",
    "plt.title('Zavisnost Open i Close atributa')\n",
    "plt.show()"
   ]
  },
  {
   "cell_type": "code",
   "execution_count": 90,
   "id": "dfb21fa7",
   "metadata": {},
   "outputs": [
    {
     "data": {
      "text/plain": [
       "<AxesSubplot:xlabel='Open', ylabel='Close'>"
      ]
     },
     "execution_count": 90,
     "metadata": {},
     "output_type": "execute_result"
    },
    {
     "data": {
      "image/png": "[encoded data removed]",
      "text/plain": [
       "<Figure size 432x288 with 1 Axes>"
      ]
     },
     "metadata": {
      "needs_background": "light"
     },
     "output_type": "display_data"
    }
   ],
   "source": [
    "# Vizualizacija Open-Close veze (2. nacin)\n",
    "\n",
    "sns.regplot(x = data['Open'], y = data['Close'], data = data, fit_reg = False)"
   ]
  },
  {
   "cell_type": "markdown",
   "id": "45d9ac25",
   "metadata": {},
   "source": [
    "### **Podela skupa podataka**"
   ]
  },
  {
   "cell_type": "code",
   "execution_count": 91,
   "id": "5283bb71",
   "metadata": {},
   "outputs": [],
   "source": [
    "train, test = data_split(data, test_size = 0.2)"
   ]
  },
  {
   "cell_type": "markdown",
   "id": "6c7364d6",
   "metadata": {},
   "source": [
    "### **Odredjivanje ciljne promenljive**"
   ]
  },
  {
   "cell_type": "code",
   "execution_count": 92,
   "id": "beba1255",
   "metadata": {},
   "outputs": [],
   "source": [
    "# Trening skup\n",
    "\n",
    "X_train = np.array(train['Open']).reshape(-1,1) # skup atributa\n",
    "y_train = np.array(train['Close']).reshape(-1,1) # ciljna promenljiva koju treba predvideti\n",
    "\n",
    "\n",
    "# Test skup\n",
    "\n",
    "X_test = np.array(test['Open']).reshape(-1,1) # skup atributa\n",
    "y_test = np.array(test['Close']).reshape(-1,1) # ciljna promenljiva koju treba predvideti"
   ]
  },
  {
   "cell_type": "code",
   "execution_count": 93,
   "id": "a0ba24b2",
   "metadata": {},
   "outputs": [
    {
     "data": {
      "text/plain": [
       "(array([[4.39000e+00],\n",
       "        [4.39000e+00],\n",
       "        [4.50000e+00],\n",
       "        ...,\n",
       "        [9.01334e+03],\n",
       "        [9.01334e+03],\n",
       "        [9.01300e+03]]),\n",
       " array([[ 9011.74],\n",
       "        [ 9007.76],\n",
       "        [ 9010.  ],\n",
       "        ...,\n",
       "        [58693.43],\n",
       "        [58742.18],\n",
       "        [58767.75]]))"
      ]
     },
     "execution_count": 93,
     "metadata": {},
     "output_type": "execute_result"
    }
   ],
   "source": [
    "X_train, X_test"
   ]
  },
  {
   "cell_type": "code",
   "execution_count": 94,
   "id": "8c4bdbb0",
   "metadata": {},
   "outputs": [
    {
     "data": {
      "text/plain": [
       "(array([[4.39000e+00],\n",
       "        [4.39000e+00],\n",
       "        [4.57000e+00],\n",
       "        ...,\n",
       "        [9.01334e+03],\n",
       "        [9.02000e+03],\n",
       "        [9.01500e+03]]),\n",
       " array([[ 9014.99],\n",
       "        [ 9013.45],\n",
       "        [ 9007.9 ],\n",
       "        ...,\n",
       "        [58723.84],\n",
       "        [58760.59],\n",
       "        [58778.18]]))"
      ]
     },
     "execution_count": 94,
     "metadata": {},
     "output_type": "execute_result"
    }
   ],
   "source": [
    "y_train, y_test"
   ]
  },
  {
   "cell_type": "markdown",
   "id": "e9825f7d",
   "metadata": {},
   "source": [
    "### **Skaliranje podataka**"
   ]
  },
  {
   "cell_type": "code",
   "execution_count": 95,
   "id": "dba11ffe",
   "metadata": {},
   "outputs": [],
   "source": [
    "scaler = MinMaxScaler()\n",
    "X_train_scaled = scaler.fit_transform(X_train)\n",
    "X_test_scaled = scaler.transform(X_test)"
   ]
  },
  {
   "cell_type": "code",
   "execution_count": 96,
   "id": "ef5067a4",
   "metadata": {},
   "outputs": [
    {
     "data": {
      "text/plain": [
       "(array([[3.00071814e-05],\n",
       "        [3.00071814e-05],\n",
       "        [3.56017406e-05],\n",
       "        ...,\n",
       "        [4.58221866e-01],\n",
       "        [4.58221866e-01],\n",
       "        [4.58204574e-01]]),\n",
       " array([[0.45814049],\n",
       "        [0.45793807],\n",
       "        [0.45805199],\n",
       "        ...,\n",
       "        [2.98493283],\n",
       "        [2.98741224],\n",
       "        [2.98871272]]))"
      ]
     },
     "execution_count": 96,
     "metadata": {},
     "output_type": "execute_result"
    }
   ],
   "source": [
    "X_train_scaled, X_test_scaled"
   ]
  },
  {
   "cell_type": "code",
   "execution_count": 97,
   "id": "60472430",
   "metadata": {},
   "outputs": [],
   "source": [
    "y_train = y_train.reshape(len(y_train),)\n",
    "y_test = y_test.reshape(len(y_test),)"
   ]
  },
  {
   "cell_type": "markdown",
   "id": "e9958807",
   "metadata": {},
   "source": [
    "### **Kreiranje i treniranje modela**"
   ]
  },
  {
   "cell_type": "code",
   "execution_count": 98,
   "id": "56232e40",
   "metadata": {},
   "outputs": [
    {
     "name": "stdout",
     "output_type": "stream",
     "text": [
      "Intercept: 3.832\n",
      "Coefficient: 19,661.372\n"
     ]
    }
   ],
   "source": [
    "lm = LinearRegression()\n",
    "lm.fit(X_train_scaled, y_train)\n",
    "\n",
    "print(\"Intercept: {:,.3f}\".format(lm.intercept_))\n",
    "print(\"Coefficient: {:,.3f}\".format(lm.coef_[0]))"
   ]
  },
  {
   "cell_type": "markdown",
   "id": "b771fd8b",
   "metadata": {},
   "source": [
    "### **Predvidjanje modela**"
   ]
  },
  {
   "cell_type": "code",
   "execution_count": 107,
   "id": "2e39dc5f",
   "metadata": {},
   "outputs": [],
   "source": [
    "predicted = lm.predict(X_test_scaled)"
   ]
  },
  {
   "cell_type": "markdown",
   "id": "760268e0",
   "metadata": {},
   "source": [
    "### **Evaluacija modela**"
   ]
  },
  {
   "cell_type": "code",
   "execution_count": 100,
   "id": "75385b69",
   "metadata": {},
   "outputs": [
    {
     "name": "stdout",
     "output_type": "stream",
     "text": [
      "MAE: 13.462\n"
     ]
    }
   ],
   "source": [
    "# MAE (srednje apsolutne greske)\n",
    "\n",
    "mae = mean_absolute_error(y_test, predicted)\n",
    "print(\"MAE: {:,.3f}\".format(mae))"
   ]
  },
  {
   "cell_type": "code",
   "execution_count": 101,
   "id": "05566c28",
   "metadata": {},
   "outputs": [
    {
     "name": "stdout",
     "output_type": "stream",
     "text": [
      "MSE: 905.518\n"
     ]
    }
   ],
   "source": [
    "# MSE (srednje kvadratne greske)\n",
    "\n",
    "mse = mean_squared_error(y_test, predicted)\n",
    "print(\"MSE: {:,.3f}\".format(mse))"
   ]
  },
  {
   "cell_type": "code",
   "execution_count": 108,
   "id": "1f271973",
   "metadata": {},
   "outputs": [
    {
     "name": "stdout",
     "output_type": "stream",
     "text": [
      "R2 skor: 1.000\n"
     ]
    }
   ],
   "source": [
    "# Koeficijent determinacije (R2 skor)\n",
    "\n",
    "r2 = r2_score(y_test, predicted)\n",
    "print(\"R2 skor: {:,.3f}\".format(r2))"
   ]
  },
  {
   "cell_type": "markdown",
   "id": "7774170c",
   "metadata": {},
   "source": [
    "### **Vizuelni prikaz rezultata**"
   ]
  },
  {
   "cell_type": "code",
   "execution_count": 106,
   "id": "a241b0b1",
   "metadata": {},
   "outputs": [
    {
     "data": {
      "image/png": "[encoded data removed]",
      "text/plain": [
       "<Figure size 720x504 with 1 Axes>"
      ]
     },
     "metadata": {
      "needs_background": "light"
     },
     "output_type": "display_data"
    }
   ],
   "source": [
    "plt.figure(figsize=(10,7))\n",
    "plt.scatter(x=data['Open'], y=data['Close'])\n",
    "plt.plot(scaler.inverse_transform(X_test_scaled), predicted, color='red')\n",
    "plt.xlabel('vrednosti atributa Open')\n",
    "plt.ylabel('Vrednosti atributa Close')\n",
    "plt.title('Predvidjanja modela Linear Regression')\n",
    "plt.show()"
   ]
  },
  {
   "cell_type": "code",
   "execution_count": null,
   "id": "e0c18874",
   "metadata": {},
   "outputs": [],
   "source": []
  }
 ],
 "metadata": {
  "kernelspec": {
   "display_name": "Python 3",
   "language": "python",
   "name": "python3"
  },
  "language_info": {
   "codemirror_mode": {
    "name": "ipython",
    "version": 3
   },
   "file_extension": ".py",
   "mimetype": "text/x-python",
   "name": "python",
   "nbconvert_exporter": "python",
   "pygments_lexer": "ipython3",
   "version": "3.9.5"
  }
 },
 "nbformat": 4,
 "nbformat_minor": 5
}
