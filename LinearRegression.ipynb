{
 "cells": [
  {
   "cell_type": "markdown",
   "id": "ad461639",
   "metadata": {},
   "source": [
    "# Linearna regresija"
   ]
  },
  {
   "cell_type": "markdown",
   "id": "5eff8df3",
   "metadata": {},
   "source": [
    "### Ucitavanje biblioteka"
   ]
  },
  {
   "cell_type": "code",
   "execution_count": 33,
   "id": "d83ee216",
   "metadata": {},
   "outputs": [],
   "source": [
    "import pandas as pd\n",
    "import numpy as np\n",
    "import matplotlib.pyplot as plt\n",
    "%matplotlib inline\n",
    "from sklearn.model_selection import train_test_split\n",
    "from sklearn.linear_model import LogisticRegression\n",
    "from sklearn import metrics\n",
    "from sklearn.metrics import classification_report\n",
    "from sklearn.svm import SVR\n",
    "from sklearn.preprocessing import MinMaxScaler\n",
    "from sklearn.linear_model import LinearRegression\n",
    "from sklearn.metrics import mean_absolute_error\n",
    "from sklearn.model_selection import GridSearchCV\n",
    "from sklearn.metrics import mean_absolute_error"
   ]
  },
  {
   "cell_type": "markdown",
   "id": "5cb5eb32",
   "metadata": {},
   "source": [
    "### Ucitavanje skupa podataka"
   ]
  },
  {
   "cell_type": "code",
   "execution_count": 34,
   "id": "318e8b5d",
   "metadata": {},
   "outputs": [
    {
     "data": {
      "text/html": [
       "<div>\n",
       "<style scoped>\n",
       "    .dataframe tbody tr th:only-of-type {\n",
       "        vertical-align: middle;\n",
       "    }\n",
       "\n",
       "    .dataframe tbody tr th {\n",
       "        vertical-align: top;\n",
       "    }\n",
       "\n",
       "    .dataframe thead th {\n",
       "        text-align: right;\n",
       "    }\n",
       "</style>\n",
       "<table border=\"1\" class=\"dataframe\">\n",
       "  <thead>\n",
       "    <tr style=\"text-align: right;\">\n",
       "      <th></th>\n",
       "      <th>Timestamp</th>\n",
       "      <th>Open</th>\n",
       "      <th>High</th>\n",
       "      <th>Low</th>\n",
       "      <th>Close</th>\n",
       "      <th>Volume_(BTC)</th>\n",
       "      <th>Volume_(Currency)</th>\n",
       "      <th>Weighted_Price</th>\n",
       "    </tr>\n",
       "  </thead>\n",
       "  <tbody>\n",
       "    <tr>\n",
       "      <th>0</th>\n",
       "      <td>1325317920</td>\n",
       "      <td>4.39</td>\n",
       "      <td>4.39</td>\n",
       "      <td>4.39</td>\n",
       "      <td>4.39</td>\n",
       "      <td>0.455581</td>\n",
       "      <td>2.000000</td>\n",
       "      <td>4.390000</td>\n",
       "    </tr>\n",
       "    <tr>\n",
       "      <th>478</th>\n",
       "      <td>1325346600</td>\n",
       "      <td>4.39</td>\n",
       "      <td>4.39</td>\n",
       "      <td>4.39</td>\n",
       "      <td>4.39</td>\n",
       "      <td>48.000000</td>\n",
       "      <td>210.720000</td>\n",
       "      <td>4.390000</td>\n",
       "    </tr>\n",
       "    <tr>\n",
       "      <th>547</th>\n",
       "      <td>1325350740</td>\n",
       "      <td>4.50</td>\n",
       "      <td>4.57</td>\n",
       "      <td>4.50</td>\n",
       "      <td>4.57</td>\n",
       "      <td>37.862297</td>\n",
       "      <td>171.380338</td>\n",
       "      <td>4.526411</td>\n",
       "    </tr>\n",
       "    <tr>\n",
       "      <th>548</th>\n",
       "      <td>1325350800</td>\n",
       "      <td>4.58</td>\n",
       "      <td>4.58</td>\n",
       "      <td>4.58</td>\n",
       "      <td>4.58</td>\n",
       "      <td>9.000000</td>\n",
       "      <td>41.220000</td>\n",
       "      <td>4.580000</td>\n",
       "    </tr>\n",
       "    <tr>\n",
       "      <th>1224</th>\n",
       "      <td>1325391360</td>\n",
       "      <td>4.58</td>\n",
       "      <td>4.58</td>\n",
       "      <td>4.58</td>\n",
       "      <td>4.58</td>\n",
       "      <td>1.502000</td>\n",
       "      <td>6.879160</td>\n",
       "      <td>4.580000</td>\n",
       "    </tr>\n",
       "  </tbody>\n",
       "</table>\n",
       "</div>"
      ],
      "text/plain": [
       "       Timestamp  Open  High   Low  Close  Volume_(BTC)  Volume_(Currency)  \\\n",
       "0     1325317920  4.39  4.39  4.39   4.39      0.455581           2.000000   \n",
       "478   1325346600  4.39  4.39  4.39   4.39     48.000000         210.720000   \n",
       "547   1325350740  4.50  4.57  4.50   4.57     37.862297         171.380338   \n",
       "548   1325350800  4.58  4.58  4.58   4.58      9.000000          41.220000   \n",
       "1224  1325391360  4.58  4.58  4.58   4.58      1.502000           6.879160   \n",
       "\n",
       "      Weighted_Price  \n",
       "0           4.390000  \n",
       "478         4.390000  \n",
       "547         4.526411  \n",
       "548         4.580000  \n",
       "1224        4.580000  "
      ]
     },
     "execution_count": 34,
     "metadata": {},
     "output_type": "execute_result"
    }
   ],
   "source": [
    "data = pd.read_csv('data/bitstampUSD_1-min_data_2012-01-01_to_2021-03-31.csv')\n",
    "data = data.dropna()\n",
    "data.head()"
   ]
  },
  {
   "cell_type": "code",
   "execution_count": 35,
   "id": "54df4787",
   "metadata": {},
   "outputs": [
    {
     "data": {
      "text/html": [
       "<div>\n",
       "<style scoped>\n",
       "    .dataframe tbody tr th:only-of-type {\n",
       "        vertical-align: middle;\n",
       "    }\n",
       "\n",
       "    .dataframe tbody tr th {\n",
       "        vertical-align: top;\n",
       "    }\n",
       "\n",
       "    .dataframe thead th {\n",
       "        text-align: right;\n",
       "    }\n",
       "</style>\n",
       "<table border=\"1\" class=\"dataframe\">\n",
       "  <thead>\n",
       "    <tr style=\"text-align: right;\">\n",
       "      <th></th>\n",
       "      <th>Timestamp</th>\n",
       "      <th>Open</th>\n",
       "      <th>High</th>\n",
       "      <th>Low</th>\n",
       "      <th>Close</th>\n",
       "      <th>Volume_(BTC)</th>\n",
       "      <th>Volume_(Currency)</th>\n",
       "      <th>Weighted_Price</th>\n",
       "    </tr>\n",
       "  </thead>\n",
       "  <tbody>\n",
       "    <tr>\n",
       "      <th>Timestamp</th>\n",
       "      <td>1.000000</td>\n",
       "      <td>0.650719</td>\n",
       "      <td>0.650644</td>\n",
       "      <td>0.650803</td>\n",
       "      <td>0.650714</td>\n",
       "      <td>-0.103926</td>\n",
       "      <td>0.228190</td>\n",
       "      <td>0.650737</td>\n",
       "    </tr>\n",
       "    <tr>\n",
       "      <th>Open</th>\n",
       "      <td>0.650719</td>\n",
       "      <td>1.000000</td>\n",
       "      <td>0.999999</td>\n",
       "      <td>0.999999</td>\n",
       "      <td>0.999999</td>\n",
       "      <td>-0.051860</td>\n",
       "      <td>0.344074</td>\n",
       "      <td>0.999999</td>\n",
       "    </tr>\n",
       "    <tr>\n",
       "      <th>High</th>\n",
       "      <td>0.650644</td>\n",
       "      <td>0.999999</td>\n",
       "      <td>1.000000</td>\n",
       "      <td>0.999998</td>\n",
       "      <td>0.999999</td>\n",
       "      <td>-0.051717</td>\n",
       "      <td>0.344498</td>\n",
       "      <td>0.999999</td>\n",
       "    </tr>\n",
       "    <tr>\n",
       "      <th>Low</th>\n",
       "      <td>0.650803</td>\n",
       "      <td>0.999999</td>\n",
       "      <td>0.999998</td>\n",
       "      <td>1.000000</td>\n",
       "      <td>0.999999</td>\n",
       "      <td>-0.052040</td>\n",
       "      <td>0.343541</td>\n",
       "      <td>1.000000</td>\n",
       "    </tr>\n",
       "    <tr>\n",
       "      <th>Close</th>\n",
       "      <td>0.650714</td>\n",
       "      <td>0.999999</td>\n",
       "      <td>0.999999</td>\n",
       "      <td>0.999999</td>\n",
       "      <td>1.000000</td>\n",
       "      <td>-0.051877</td>\n",
       "      <td>0.344036</td>\n",
       "      <td>1.000000</td>\n",
       "    </tr>\n",
       "    <tr>\n",
       "      <th>Volume_(BTC)</th>\n",
       "      <td>-0.103926</td>\n",
       "      <td>-0.051860</td>\n",
       "      <td>-0.051717</td>\n",
       "      <td>-0.052040</td>\n",
       "      <td>-0.051877</td>\n",
       "      <td>1.000000</td>\n",
       "      <td>0.352038</td>\n",
       "      <td>-0.051887</td>\n",
       "    </tr>\n",
       "    <tr>\n",
       "      <th>Volume_(Currency)</th>\n",
       "      <td>0.228190</td>\n",
       "      <td>0.344074</td>\n",
       "      <td>0.344498</td>\n",
       "      <td>0.343541</td>\n",
       "      <td>0.344036</td>\n",
       "      <td>0.352038</td>\n",
       "      <td>1.000000</td>\n",
       "      <td>0.344010</td>\n",
       "    </tr>\n",
       "    <tr>\n",
       "      <th>Weighted_Price</th>\n",
       "      <td>0.650737</td>\n",
       "      <td>0.999999</td>\n",
       "      <td>0.999999</td>\n",
       "      <td>1.000000</td>\n",
       "      <td>1.000000</td>\n",
       "      <td>-0.051887</td>\n",
       "      <td>0.344010</td>\n",
       "      <td>1.000000</td>\n",
       "    </tr>\n",
       "  </tbody>\n",
       "</table>\n",
       "</div>"
      ],
      "text/plain": [
       "                   Timestamp      Open      High       Low     Close  \\\n",
       "Timestamp           1.000000  0.650719  0.650644  0.650803  0.650714   \n",
       "Open                0.650719  1.000000  0.999999  0.999999  0.999999   \n",
       "High                0.650644  0.999999  1.000000  0.999998  0.999999   \n",
       "Low                 0.650803  0.999999  0.999998  1.000000  0.999999   \n",
       "Close               0.650714  0.999999  0.999999  0.999999  1.000000   \n",
       "Volume_(BTC)       -0.103926 -0.051860 -0.051717 -0.052040 -0.051877   \n",
       "Volume_(Currency)   0.228190  0.344074  0.344498  0.343541  0.344036   \n",
       "Weighted_Price      0.650737  0.999999  0.999999  1.000000  1.000000   \n",
       "\n",
       "                   Volume_(BTC)  Volume_(Currency)  Weighted_Price  \n",
       "Timestamp             -0.103926           0.228190        0.650737  \n",
       "Open                  -0.051860           0.344074        0.999999  \n",
       "High                  -0.051717           0.344498        0.999999  \n",
       "Low                   -0.052040           0.343541        1.000000  \n",
       "Close                 -0.051877           0.344036        1.000000  \n",
       "Volume_(BTC)           1.000000           0.352038       -0.051887  \n",
       "Volume_(Currency)      0.352038           1.000000        0.344010  \n",
       "Weighted_Price        -0.051887           0.344010        1.000000  "
      ]
     },
     "execution_count": 35,
     "metadata": {},
     "output_type": "execute_result"
    }
   ],
   "source": [
    "data.corr()"
   ]
  },
  {
   "cell_type": "code",
   "execution_count": 36,
   "id": "3d14eb20",
   "metadata": {},
   "outputs": [
    {
     "data": {
      "text/plain": [
       "Close                1.000000\n",
       "Weighted_Price       1.000000\n",
       "High                 0.999999\n",
       "Low                  0.999999\n",
       "Open                 0.999999\n",
       "Timestamp            0.650714\n",
       "Volume_(Currency)    0.344036\n",
       "Volume_(BTC)         0.051877\n",
       "Name: Close, dtype: float64"
      ]
     },
     "execution_count": 36,
     "metadata": {},
     "output_type": "execute_result"
    }
   ],
   "source": [
    "abs(data.corr())['Close'].sort_values(ascending=False)"
   ]
  },
  {
   "cell_type": "code",
   "execution_count": 37,
   "id": "8c3fd8b6",
   "metadata": {},
   "outputs": [
    {
     "data": {
      "image/png": "[encoded data removed]",
      "text/plain": [
       "<Figure size 720x360 with 1 Axes>"
      ]
     },
     "metadata": {
      "needs_background": "light"
     },
     "output_type": "display_data"
    }
   ],
   "source": [
    "plt.figure(figsize=(10,5))\n",
    "plt.scatter(x=data['Open'], y=data['Close'])\n",
    "plt.xlabel('vrednosti atributa Open')\n",
    "plt.ylabel('vrednosti Close atributa')\n",
    "plt.title('Zavisnost Open i Close atributa')\n",
    "plt.show()"
   ]
  },
  {
   "cell_type": "code",
   "execution_count": 38,
   "id": "beba1255",
   "metadata": {},
   "outputs": [],
   "source": [
    "X = np.array(data['Open']).reshape(-1,1) # skup atributa\n",
    "y = np.array(data['Close']).reshape(-1,1) # ciljna promenljiva koju treba predvideti"
   ]
  },
  {
   "cell_type": "code",
   "execution_count": 39,
   "id": "8c4bdbb0",
   "metadata": {},
   "outputs": [
    {
     "data": {
      "text/plain": [
       "array([[4.390000e+00],\n",
       "       [4.390000e+00],\n",
       "       [4.570000e+00],\n",
       "       ...,\n",
       "       [5.872384e+04],\n",
       "       [5.876059e+04],\n",
       "       [5.877818e+04]])"
      ]
     },
     "execution_count": 39,
     "metadata": {},
     "output_type": "execute_result"
    }
   ],
   "source": [
    "y"
   ]
  },
  {
   "cell_type": "code",
   "execution_count": 40,
   "id": "60472430",
   "metadata": {},
   "outputs": [],
   "source": [
    "X_train, X_test, y_train, y_test = train_test_split(X, y, test_size=0.2, random_state=12)\n",
    "\n",
    "y_train = y_train.reshape(len(y_train),)\n",
    "y_test = y_test.reshape(len(y_test),)"
   ]
  },
  {
   "cell_type": "code",
   "execution_count": 41,
   "id": "56232e40",
   "metadata": {},
   "outputs": [
    {
     "name": "stdout",
     "output_type": "stream",
     "text": [
      "Intercept: -0.068\n",
      "Coefficient: 1.000\n",
      "MAE: 5.048\n"
     ]
    },
    {
     "data": {
      "image/png": "[encoded data removed]",
      "text/plain": [
       "<Figure size 720x504 with 1 Axes>"
      ]
     },
     "metadata": {
      "needs_background": "light"
     },
     "output_type": "display_data"
    }
   ],
   "source": [
    "# Kreiranje i treniranje modela\n",
    "\n",
    "lm = LinearRegression()\n",
    "lm.fit(X_train, y_train)\n",
    "\n",
    "print(\"Intercept: {:,.3f}\".format(lm.intercept_))\n",
    "print(\"Coefficient: {:,.3f}\".format(lm.coef_[0]))\n",
    "\n",
    "# Predvidjanje modela i racunanje MAE (srednje apsolutne greske)\n",
    "\n",
    "mae = mean_absolute_error(y_test, lm.predict(X_test))\n",
    "print(\"MAE: {:,.3f}\".format(mae))\n",
    "\n",
    "# Vizuelni prikaz rezultata\n",
    "\n",
    "plt.figure(figsize=(10,7))\n",
    "plt.scatter(x=data['Open'], y=data['Close'])\n",
    "plt.plot(X_test, lm.predict(X_test), color='red')\n",
    "plt.xlabel('vrednosti atributa Open')\n",
    "plt.ylabel('Vrednosti atributa Close')\n",
    "plt.title('Predvidjanja modela Linear Regression')\n",
    "plt.show()"
   ]
  },
  {
   "cell_type": "code",
   "execution_count": null,
   "id": "e0c18874",
   "metadata": {},
   "outputs": [],
   "source": []
  }
 ],
 "metadata": {
  "kernelspec": {
   "display_name": "Python 3",
   "language": "python",
   "name": "python3"
  },
  "language_info": {
   "codemirror_mode": {
    "name": "ipython",
    "version": 3
   },
   "file_extension": ".py",
   "mimetype": "text/x-python",
   "name": "python",
   "nbconvert_exporter": "python",
   "pygments_lexer": "ipython3",
   "version": "3.9.5"
  }
 },
 "nbformat": 4,
 "nbformat_minor": 5
}
