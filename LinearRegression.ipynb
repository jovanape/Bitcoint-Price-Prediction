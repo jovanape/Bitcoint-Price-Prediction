{
 "cells": [
  {
   "cell_type": "markdown",
   "id": "ad461639",
   "metadata": {},
   "source": [
    "# Linearna regresija"
   ]
  },
  {
   "cell_type": "markdown",
   "id": "5eff8df3",
   "metadata": {},
   "source": [
    "### Ucitavanje biblioteka"
   ]
  },
  {
   "cell_type": "code",
   "execution_count": 9,
   "id": "fc0b7ee3",
   "metadata": {},
   "outputs": [],
   "source": [
    "%run preprocessing.ipynb"
   ]
  },
  {
   "cell_type": "code",
   "execution_count": 8,
   "id": "d83ee216",
   "metadata": {},
   "outputs": [],
   "source": [
    "import pandas as pd\n",
    "import numpy as np\n",
    "import matplotlib.pyplot as plt\n",
    "%matplotlib inline\n",
    "from sklearn.model_selection import train_test_split\n",
    "from sklearn.linear_model import LogisticRegression\n",
    "from sklearn import metrics\n",
    "from sklearn.metrics import classification_report\n",
    "from sklearn.svm import SVR\n",
    "from sklearn.preprocessing import MinMaxScaler\n",
    "from sklearn.linear_model import LinearRegression\n",
    "from sklearn.metrics import mean_absolute_error\n",
    "from sklearn.model_selection import GridSearchCV\n",
    "from sklearn.metrics import mean_absolute_error"
   ]
  },
  {
   "cell_type": "markdown",
   "id": "5cb5eb32",
   "metadata": {},
   "source": [
    "### Ucitavanje skupa podataka"
   ]
  },
  {
   "cell_type": "code",
   "execution_count": 15,
   "id": "318e8b5d",
   "metadata": {},
   "outputs": [
    {
     "name": "stdout",
     "output_type": "stream",
     "text": [
      "Prvih 5 instanci skupa podataka pre sredjivanja:\n",
      "     Timestamp  Open  High   Low  Close  Volume_(BTC)  Volume_(Currency)  \\\n",
      "0  1325317920  4.39  4.39  4.39   4.39      0.455581                2.0   \n",
      "1  1325317980   NaN   NaN   NaN    NaN           NaN                NaN   \n",
      "2  1325318040   NaN   NaN   NaN    NaN           NaN                NaN   \n",
      "3  1325318100   NaN   NaN   NaN    NaN           NaN                NaN   \n",
      "4  1325318160   NaN   NaN   NaN    NaN           NaN                NaN   \n",
      "\n",
      "   Weighted_Price  \n",
      "0            4.39  \n",
      "1             NaN  \n",
      "2             NaN  \n",
      "3             NaN  \n",
      "4             NaN  \n",
      "\n",
      "Dimenzije skupa podataka pre sredjivanja:\n",
      " (4857377, 8)\n",
      "\n",
      "Prvih 5 instanci skupa podataka nakon sredjivanja:\n",
      "           Timestamp      Open      High       Low     Close  Volume_(BTC)  \\\n",
      "4854496  1616976000  55790.28  55822.98  55777.98  55804.36      1.731449   \n",
      "4854497  1616976060  55822.98  55857.28  55822.98  55857.28      0.589603   \n",
      "4854498  1616976120  55822.98  55829.04  55766.15  55779.04      2.729659   \n",
      "4854500  1616976240  55766.15  55768.63  55766.15  55768.63      0.023738   \n",
      "4854501  1616976300  55770.46  55778.48  55736.83  55742.20      0.389067   \n",
      "\n",
      "         Volume_(Currency)  Weighted_Price        Date  \n",
      "4854496       96636.546983    55812.518695  2021-03-29  \n",
      "4854497       32931.781301    55854.182542  2021-03-29  \n",
      "4854498      152263.034630    55780.964698  2021-03-29  \n",
      "4854500        1323.776861    55766.455065  2021-03-29  \n",
      "4854501       21692.454676    55755.006032  2021-03-29  \n",
      "\n",
      "Dimenzije skupa podataka nakon sredjivanja:\n",
      " (2872, 9)\n"
     ]
    }
   ],
   "source": [
    "data = preprocess_data(file_name = 'bitstampUSD_1-min_data_2012-01-01_to_2021-03-31.csv')"
   ]
  },
  {
   "cell_type": "code",
   "execution_count": 16,
   "id": "186079e7",
   "metadata": {},
   "outputs": [
    {
     "data": {
      "text/html": [
       "<div>\n",
       "<style scoped>\n",
       "    .dataframe tbody tr th:only-of-type {\n",
       "        vertical-align: middle;\n",
       "    }\n",
       "\n",
       "    .dataframe tbody tr th {\n",
       "        vertical-align: top;\n",
       "    }\n",
       "\n",
       "    .dataframe thead th {\n",
       "        text-align: right;\n",
       "    }\n",
       "</style>\n",
       "<table border=\"1\" class=\"dataframe\">\n",
       "  <thead>\n",
       "    <tr style=\"text-align: right;\">\n",
       "      <th></th>\n",
       "      <th>Timestamp</th>\n",
       "      <th>Open</th>\n",
       "      <th>High</th>\n",
       "      <th>Low</th>\n",
       "      <th>Close</th>\n",
       "      <th>Volume_(BTC)</th>\n",
       "      <th>Volume_(Currency)</th>\n",
       "      <th>Weighted_Price</th>\n",
       "      <th>Date</th>\n",
       "    </tr>\n",
       "  </thead>\n",
       "  <tbody>\n",
       "    <tr>\n",
       "      <th>4854496</th>\n",
       "      <td>1616976000</td>\n",
       "      <td>55790.28</td>\n",
       "      <td>55822.98</td>\n",
       "      <td>55777.98</td>\n",
       "      <td>55804.36</td>\n",
       "      <td>1.731449</td>\n",
       "      <td>96636.546983</td>\n",
       "      <td>55812.518695</td>\n",
       "      <td>2021-03-29</td>\n",
       "    </tr>\n",
       "    <tr>\n",
       "      <th>4854497</th>\n",
       "      <td>1616976060</td>\n",
       "      <td>55822.98</td>\n",
       "      <td>55857.28</td>\n",
       "      <td>55822.98</td>\n",
       "      <td>55857.28</td>\n",
       "      <td>0.589603</td>\n",
       "      <td>32931.781301</td>\n",
       "      <td>55854.182542</td>\n",
       "      <td>2021-03-29</td>\n",
       "    </tr>\n",
       "    <tr>\n",
       "      <th>4854498</th>\n",
       "      <td>1616976120</td>\n",
       "      <td>55822.98</td>\n",
       "      <td>55829.04</td>\n",
       "      <td>55766.15</td>\n",
       "      <td>55779.04</td>\n",
       "      <td>2.729659</td>\n",
       "      <td>152263.034630</td>\n",
       "      <td>55780.964698</td>\n",
       "      <td>2021-03-29</td>\n",
       "    </tr>\n",
       "    <tr>\n",
       "      <th>4854500</th>\n",
       "      <td>1616976240</td>\n",
       "      <td>55766.15</td>\n",
       "      <td>55768.63</td>\n",
       "      <td>55766.15</td>\n",
       "      <td>55768.63</td>\n",
       "      <td>0.023738</td>\n",
       "      <td>1323.776861</td>\n",
       "      <td>55766.455065</td>\n",
       "      <td>2021-03-29</td>\n",
       "    </tr>\n",
       "    <tr>\n",
       "      <th>4854501</th>\n",
       "      <td>1616976300</td>\n",
       "      <td>55770.46</td>\n",
       "      <td>55778.48</td>\n",
       "      <td>55736.83</td>\n",
       "      <td>55742.20</td>\n",
       "      <td>0.389067</td>\n",
       "      <td>21692.454676</td>\n",
       "      <td>55755.006032</td>\n",
       "      <td>2021-03-29</td>\n",
       "    </tr>\n",
       "    <tr>\n",
       "      <th>...</th>\n",
       "      <td>...</td>\n",
       "      <td>...</td>\n",
       "      <td>...</td>\n",
       "      <td>...</td>\n",
       "      <td>...</td>\n",
       "      <td>...</td>\n",
       "      <td>...</td>\n",
       "      <td>...</td>\n",
       "      <td>...</td>\n",
       "    </tr>\n",
       "    <tr>\n",
       "      <th>4857372</th>\n",
       "      <td>1617148560</td>\n",
       "      <td>58714.31</td>\n",
       "      <td>58714.31</td>\n",
       "      <td>58686.00</td>\n",
       "      <td>58686.00</td>\n",
       "      <td>1.384487</td>\n",
       "      <td>81259.372187</td>\n",
       "      <td>58692.753339</td>\n",
       "      <td>2021-03-30</td>\n",
       "    </tr>\n",
       "    <tr>\n",
       "      <th>4857373</th>\n",
       "      <td>1617148620</td>\n",
       "      <td>58683.97</td>\n",
       "      <td>58693.43</td>\n",
       "      <td>58683.97</td>\n",
       "      <td>58685.81</td>\n",
       "      <td>7.294848</td>\n",
       "      <td>428158.146640</td>\n",
       "      <td>58693.226508</td>\n",
       "      <td>2021-03-30</td>\n",
       "    </tr>\n",
       "    <tr>\n",
       "      <th>4857374</th>\n",
       "      <td>1617148680</td>\n",
       "      <td>58693.43</td>\n",
       "      <td>58723.84</td>\n",
       "      <td>58693.43</td>\n",
       "      <td>58723.84</td>\n",
       "      <td>1.705682</td>\n",
       "      <td>100117.070370</td>\n",
       "      <td>58696.198496</td>\n",
       "      <td>2021-03-30</td>\n",
       "    </tr>\n",
       "    <tr>\n",
       "      <th>4857375</th>\n",
       "      <td>1617148740</td>\n",
       "      <td>58742.18</td>\n",
       "      <td>58770.38</td>\n",
       "      <td>58742.18</td>\n",
       "      <td>58760.59</td>\n",
       "      <td>0.720415</td>\n",
       "      <td>42332.958633</td>\n",
       "      <td>58761.866202</td>\n",
       "      <td>2021-03-30</td>\n",
       "    </tr>\n",
       "    <tr>\n",
       "      <th>4857376</th>\n",
       "      <td>1617148800</td>\n",
       "      <td>58767.75</td>\n",
       "      <td>58778.18</td>\n",
       "      <td>58755.97</td>\n",
       "      <td>58778.18</td>\n",
       "      <td>2.712831</td>\n",
       "      <td>159417.751000</td>\n",
       "      <td>58764.349363</td>\n",
       "      <td>2021-03-31</td>\n",
       "    </tr>\n",
       "  </tbody>\n",
       "</table>\n",
       "<p>2872 rows × 9 columns</p>\n",
       "</div>"
      ],
      "text/plain": [
       "          Timestamp      Open      High       Low     Close  Volume_(BTC)  \\\n",
       "4854496  1616976000  55790.28  55822.98  55777.98  55804.36      1.731449   \n",
       "4854497  1616976060  55822.98  55857.28  55822.98  55857.28      0.589603   \n",
       "4854498  1616976120  55822.98  55829.04  55766.15  55779.04      2.729659   \n",
       "4854500  1616976240  55766.15  55768.63  55766.15  55768.63      0.023738   \n",
       "4854501  1616976300  55770.46  55778.48  55736.83  55742.20      0.389067   \n",
       "...             ...       ...       ...       ...       ...           ...   \n",
       "4857372  1617148560  58714.31  58714.31  58686.00  58686.00      1.384487   \n",
       "4857373  1617148620  58683.97  58693.43  58683.97  58685.81      7.294848   \n",
       "4857374  1617148680  58693.43  58723.84  58693.43  58723.84      1.705682   \n",
       "4857375  1617148740  58742.18  58770.38  58742.18  58760.59      0.720415   \n",
       "4857376  1617148800  58767.75  58778.18  58755.97  58778.18      2.712831   \n",
       "\n",
       "         Volume_(Currency)  Weighted_Price        Date  \n",
       "4854496       96636.546983    55812.518695  2021-03-29  \n",
       "4854497       32931.781301    55854.182542  2021-03-29  \n",
       "4854498      152263.034630    55780.964698  2021-03-29  \n",
       "4854500        1323.776861    55766.455065  2021-03-29  \n",
       "4854501       21692.454676    55755.006032  2021-03-29  \n",
       "...                    ...             ...         ...  \n",
       "4857372       81259.372187    58692.753339  2021-03-30  \n",
       "4857373      428158.146640    58693.226508  2021-03-30  \n",
       "4857374      100117.070370    58696.198496  2021-03-30  \n",
       "4857375       42332.958633    58761.866202  2021-03-30  \n",
       "4857376      159417.751000    58764.349363  2021-03-31  \n",
       "\n",
       "[2872 rows x 9 columns]"
      ]
     },
     "execution_count": 16,
     "metadata": {},
     "output_type": "execute_result"
    }
   ],
   "source": [
    "data"
   ]
  },
  {
   "cell_type": "code",
   "execution_count": 17,
   "id": "54df4787",
   "metadata": {},
   "outputs": [
    {
     "data": {
      "text/html": [
       "<div>\n",
       "<style scoped>\n",
       "    .dataframe tbody tr th:only-of-type {\n",
       "        vertical-align: middle;\n",
       "    }\n",
       "\n",
       "    .dataframe tbody tr th {\n",
       "        vertical-align: top;\n",
       "    }\n",
       "\n",
       "    .dataframe thead th {\n",
       "        text-align: right;\n",
       "    }\n",
       "</style>\n",
       "<table border=\"1\" class=\"dataframe\">\n",
       "  <thead>\n",
       "    <tr style=\"text-align: right;\">\n",
       "      <th></th>\n",
       "      <th>Timestamp</th>\n",
       "      <th>Open</th>\n",
       "      <th>High</th>\n",
       "      <th>Low</th>\n",
       "      <th>Close</th>\n",
       "      <th>Volume_(BTC)</th>\n",
       "      <th>Volume_(Currency)</th>\n",
       "      <th>Weighted_Price</th>\n",
       "    </tr>\n",
       "  </thead>\n",
       "  <tbody>\n",
       "    <tr>\n",
       "      <th>Timestamp</th>\n",
       "      <td>1.000000</td>\n",
       "      <td>0.829068</td>\n",
       "      <td>0.825744</td>\n",
       "      <td>0.831882</td>\n",
       "      <td>0.829429</td>\n",
       "      <td>-0.096817</td>\n",
       "      <td>-0.089694</td>\n",
       "      <td>0.828750</td>\n",
       "    </tr>\n",
       "    <tr>\n",
       "      <th>Open</th>\n",
       "      <td>0.829068</td>\n",
       "      <td>1.000000</td>\n",
       "      <td>0.999613</td>\n",
       "      <td>0.999682</td>\n",
       "      <td>0.999272</td>\n",
       "      <td>0.048908</td>\n",
       "      <td>0.058470</td>\n",
       "      <td>0.999693</td>\n",
       "    </tr>\n",
       "    <tr>\n",
       "      <th>High</th>\n",
       "      <td>0.825744</td>\n",
       "      <td>0.999613</td>\n",
       "      <td>1.000000</td>\n",
       "      <td>0.999546</td>\n",
       "      <td>0.999694</td>\n",
       "      <td>0.058578</td>\n",
       "      <td>0.068162</td>\n",
       "      <td>0.999841</td>\n",
       "    </tr>\n",
       "    <tr>\n",
       "      <th>Low</th>\n",
       "      <td>0.831882</td>\n",
       "      <td>0.999682</td>\n",
       "      <td>0.999546</td>\n",
       "      <td>1.000000</td>\n",
       "      <td>0.999663</td>\n",
       "      <td>0.045069</td>\n",
       "      <td>0.054626</td>\n",
       "      <td>0.999832</td>\n",
       "    </tr>\n",
       "    <tr>\n",
       "      <th>Close</th>\n",
       "      <td>0.829429</td>\n",
       "      <td>0.999272</td>\n",
       "      <td>0.999694</td>\n",
       "      <td>0.999663</td>\n",
       "      <td>1.000000</td>\n",
       "      <td>0.053523</td>\n",
       "      <td>0.063089</td>\n",
       "      <td>0.999751</td>\n",
       "    </tr>\n",
       "    <tr>\n",
       "      <th>Volume_(BTC)</th>\n",
       "      <td>-0.096817</td>\n",
       "      <td>0.048908</td>\n",
       "      <td>0.058578</td>\n",
       "      <td>0.045069</td>\n",
       "      <td>0.053523</td>\n",
       "      <td>1.000000</td>\n",
       "      <td>0.999794</td>\n",
       "      <td>0.052515</td>\n",
       "    </tr>\n",
       "    <tr>\n",
       "      <th>Volume_(Currency)</th>\n",
       "      <td>-0.089694</td>\n",
       "      <td>0.058470</td>\n",
       "      <td>0.068162</td>\n",
       "      <td>0.054626</td>\n",
       "      <td>0.063089</td>\n",
       "      <td>0.999794</td>\n",
       "      <td>1.000000</td>\n",
       "      <td>0.062102</td>\n",
       "    </tr>\n",
       "    <tr>\n",
       "      <th>Weighted_Price</th>\n",
       "      <td>0.828750</td>\n",
       "      <td>0.999693</td>\n",
       "      <td>0.999841</td>\n",
       "      <td>0.999832</td>\n",
       "      <td>0.999751</td>\n",
       "      <td>0.052515</td>\n",
       "      <td>0.062102</td>\n",
       "      <td>1.000000</td>\n",
       "    </tr>\n",
       "  </tbody>\n",
       "</table>\n",
       "</div>"
      ],
      "text/plain": [
       "                   Timestamp      Open      High       Low     Close  \\\n",
       "Timestamp           1.000000  0.829068  0.825744  0.831882  0.829429   \n",
       "Open                0.829068  1.000000  0.999613  0.999682  0.999272   \n",
       "High                0.825744  0.999613  1.000000  0.999546  0.999694   \n",
       "Low                 0.831882  0.999682  0.999546  1.000000  0.999663   \n",
       "Close               0.829429  0.999272  0.999694  0.999663  1.000000   \n",
       "Volume_(BTC)       -0.096817  0.048908  0.058578  0.045069  0.053523   \n",
       "Volume_(Currency)  -0.089694  0.058470  0.068162  0.054626  0.063089   \n",
       "Weighted_Price      0.828750  0.999693  0.999841  0.999832  0.999751   \n",
       "\n",
       "                   Volume_(BTC)  Volume_(Currency)  Weighted_Price  \n",
       "Timestamp             -0.096817          -0.089694        0.828750  \n",
       "Open                   0.048908           0.058470        0.999693  \n",
       "High                   0.058578           0.068162        0.999841  \n",
       "Low                    0.045069           0.054626        0.999832  \n",
       "Close                  0.053523           0.063089        0.999751  \n",
       "Volume_(BTC)           1.000000           0.999794        0.052515  \n",
       "Volume_(Currency)      0.999794           1.000000        0.062102  \n",
       "Weighted_Price         0.052515           0.062102        1.000000  "
      ]
     },
     "execution_count": 17,
     "metadata": {},
     "output_type": "execute_result"
    }
   ],
   "source": [
    "data.corr()"
   ]
  },
  {
   "cell_type": "code",
   "execution_count": 18,
   "id": "3d14eb20",
   "metadata": {},
   "outputs": [
    {
     "data": {
      "text/plain": [
       "Close                1.000000\n",
       "Weighted_Price       0.999751\n",
       "High                 0.999694\n",
       "Low                  0.999663\n",
       "Open                 0.999272\n",
       "Timestamp            0.829429\n",
       "Volume_(Currency)    0.063089\n",
       "Volume_(BTC)         0.053523\n",
       "Name: Close, dtype: float64"
      ]
     },
     "execution_count": 18,
     "metadata": {},
     "output_type": "execute_result"
    }
   ],
   "source": [
    "abs(data.corr())['Close'].sort_values(ascending=False)"
   ]
  },
  {
   "cell_type": "code",
   "execution_count": 19,
   "id": "8c3fd8b6",
   "metadata": {},
   "outputs": [
    {
     "data": {
      "image/png": "[encoded data removed]",
      "text/plain": [
       "<Figure size 720x360 with 1 Axes>"
      ]
     },
     "metadata": {
      "needs_background": "light"
     },
     "output_type": "display_data"
    }
   ],
   "source": [
    "plt.figure(figsize=(10,5))\n",
    "plt.scatter(x=data['Open'], y=data['Close'])\n",
    "plt.xlabel('vrednosti atributa Open')\n",
    "plt.ylabel('vrednosti Close atributa')\n",
    "plt.title('Zavisnost Open i Close atributa')\n",
    "plt.show()"
   ]
  },
  {
   "cell_type": "code",
   "execution_count": 20,
   "id": "beba1255",
   "metadata": {},
   "outputs": [],
   "source": [
    "X = np.array(data['Open']).reshape(-1,1) # skup atributa\n",
    "y = np.array(data['Close']).reshape(-1,1) # ciljna promenljiva koju treba predvideti"
   ]
  },
  {
   "cell_type": "code",
   "execution_count": 21,
   "id": "8c4bdbb0",
   "metadata": {},
   "outputs": [
    {
     "data": {
      "text/plain": [
       "array([[55804.36],\n",
       "       [55857.28],\n",
       "       [55779.04],\n",
       "       ...,\n",
       "       [58723.84],\n",
       "       [58760.59],\n",
       "       [58778.18]])"
      ]
     },
     "execution_count": 21,
     "metadata": {},
     "output_type": "execute_result"
    }
   ],
   "source": [
    "y"
   ]
  },
  {
   "cell_type": "code",
   "execution_count": 22,
   "id": "60472430",
   "metadata": {},
   "outputs": [],
   "source": [
    "X_train, X_test, y_train, y_test = train_test_split(X, y, test_size=0.2, random_state=12)\n",
    "\n",
    "y_train = y_train.reshape(len(y_train),)\n",
    "y_test = y_test.reshape(len(y_test),)"
   ]
  },
  {
   "cell_type": "code",
   "execution_count": 24,
   "id": "56232e40",
   "metadata": {},
   "outputs": [
    {
     "name": "stdout",
     "output_type": "stream",
     "text": [
      "Intercept: 70.954\n",
      "Coefficient: 0.999\n",
      "MAE: 33.077\n"
     ]
    },
    {
     "data": {
      "image/png": "[encoded data removed]",
      "text/plain": [
       "<Figure size 720x504 with 1 Axes>"
      ]
     },
     "metadata": {
      "needs_background": "light"
     },
     "output_type": "display_data"
    }
   ],
   "source": [
    "# Kreiranje i treniranje modela\n",
    "\n",
    "lm = LinearRegression()\n",
    "lm.fit(X_train, y_train)\n",
    "\n",
    "print(\"Intercept: {:,.3f}\".format(lm.intercept_))\n",
    "print(\"Coefficient: {:,.3f}\".format(lm.coef_[0]))\n",
    "\n",
    "# Predvidjanje modela i racunanje MAE (srednje apsolutne greske)\n",
    "\n",
    "mae = mean_absolute_error(y_test, lm.predict(X_test))\n",
    "print(\"MAE: {:,.3f}\".format(mae))\n",
    "\n",
    "# Vizuelni prikaz rezultata\n",
    "\n",
    "plt.figure(figsize=(10,7))\n",
    "plt.scatter(x=data['Open'], y=data['Close'])\n",
    "plt.plot(X_test, lm.predict(X_test), color='red')\n",
    "plt.xlabel('vrednosti atributa Open')\n",
    "plt.ylabel('Vrednosti atributa Close')\n",
    "plt.title('Predvidjanja modela Linear Regression')\n",
    "plt.show()"
   ]
  },
  {
   "cell_type": "code",
   "execution_count": null,
   "id": "e0c18874",
   "metadata": {},
   "outputs": [],
   "source": []
  }
 ],
 "metadata": {
  "kernelspec": {
   "display_name": "Python 3",
   "language": "python",
   "name": "python3"
  },
  "language_info": {
   "codemirror_mode": {
    "name": "ipython",
    "version": 3
   },
   "file_extension": ".py",
   "mimetype": "text/x-python",
   "name": "python",
   "nbconvert_exporter": "python",
   "pygments_lexer": "ipython3",
   "version": "3.9.5"
  }
 },
 "nbformat": 4,
 "nbformat_minor": 5
}
