{
 "cells": [
  {
   "cell_type": "markdown",
   "metadata": {
    "colab_type": "text",
    "id": "view-in-github"
   },
   "source": [
    "<a href=\"https://colab.research.google.com/github/jovanape/Bitcoint-Price-Prediction/blob/main/Utility.ipynb\" target=\"_parent\"><img src=\"https://colab.research.google.com/assets/colab-badge.svg\" alt=\"Open In Colab\"/></a>"
   ]
  },
  {
   "cell_type": "markdown",
   "metadata": {
    "id": "4_6hHjWjjzos"
   },
   "source": [
    "# **Fajl sa pomoćnim funkcijama**"
   ]
  },
  {
   "cell_type": "markdown",
   "metadata": {
    "id": "krvFQDwvkBdX"
   },
   "source": [
    "### **Učitavanje biblioteka**"
   ]
  },
  {
   "cell_type": "code",
   "execution_count": null,
   "metadata": {
    "id": "iaSuiXq3HP1y"
   },
   "outputs": [],
   "source": [
    "import numpy as np \n",
    "import pandas as pd \n",
    "from matplotlib import pyplot as plt\n",
    "from sklearn.preprocessing import MinMaxScaler\n",
    "#from keras.backend.tensorflow_backend import set_session\n",
    "#from keras.callbacks import CSVLogger, ModelCheckpoint\n",
    "#from keras.models import Sequential, Dense, Dropout, LSTM\n",
    "#import h5py\n",
    "import os\n",
    "from keras.losses import MeanSquaredError"
   ]
  },
  {
   "cell_type": "code",
   "execution_count": null,
   "metadata": {},
   "outputs": [],
   "source": [
    "DAYS_TO_PREDICT = 60"
   ]
  },
  {
   "cell_type": "markdown",
   "metadata": {
    "id": "uJHmdAZWkeLL"
   },
   "source": [
    "### **Podela skupa podataka**"
   ]
  },
  {
   "cell_type": "code",
   "execution_count": null,
   "metadata": {
    "id": "dhZQvDybJsOg"
   },
   "outputs": [],
   "source": [
    "# Definicija funkcije za podelu podataka na train i test skup\n",
    "\n",
    "def data_split(data, test_size = 0):\n",
    "\n",
    "  if test_size <= 0:\n",
    "    print('Vrednost parametra test_size mora biti strogo veca od 0.\\n')\n",
    "    return\n",
    "  else: # test_size > 0\n",
    "    test_limit = len(data) - int(test_size * len(data))\n",
    "\n",
    "  train = data[:test_limit]\n",
    "  test = data[test_limit:]\n",
    "  \n",
    "  return train, test"
   ]
  },
  {
   "cell_type": "markdown",
   "metadata": {
    "id": "ttRI2EHVkikR"
   },
   "source": [
    "### **Vizualizacija podataka**"
   ]
  },
  {
   "cell_type": "code",
   "execution_count": null,
   "metadata": {
    "id": "rCH1LLR7hUWc"
   },
   "outputs": [],
   "source": [
    "# Definicija funkcije za vizuelni prikaz train i test podataka\n",
    "\n",
    "def plot_data(train_data = train['Close'], test_data = test['Close']):\n",
    "\n",
    "  fig, ax = plt.subplots(1, figsize=(16, 9))\n",
    "  ax.plot(train_data, label='trening', linewidth=2)\n",
    "  ax.plot(test_data, label='test', linewidth=2)\n",
    "  ax.set_ylabel('cena [USD]', fontsize=14)\n",
    "  ax.set_title(label = 'Vizuelni prikaz skupova za trening i test', fontsize=18)\n",
    "  ax.legend(loc='best', fontsize=18)\n",
    "\n",
    "  #data = data.reset_index()\n",
    "  #x = data.index\n",
    "  #ax.set_xticks(range(87724))"
   ]
  },
  {
   "cell_type": "markdown",
   "metadata": {
    "id": "dZw1y3Dxk1bt"
   },
   "source": [
    "### **Filtriranje atributa datog skupa podataka**"
   ]
  },
  {
   "cell_type": "code",
   "execution_count": null,
   "metadata": {
    "id": "bLfZvfLHiph9"
   },
   "outputs": [],
   "source": [
    "# Izbacivanje nepotrebnih kolona (atributa) iz skupa dataset_\n",
    "\n",
    "def filter_data_set(dataset_):\n",
    "  new_dataset_ = dataset_.drop(['Open', 'High', 'Low', 'Date', 'Volume_(BTC)', 'Volume_(Currency)', 'Weighted_Price', 'Timestamp'], axis = 1)\n",
    "  print('Filtriran skup:\\n', new_dataset_.head())\n",
    "  print('\\nBroj atributa pre i nakon izbacivanja:\\n', dataset_.shape[1], new_dataset_.shape[1])\n",
    "  return new_dataset_"
   ]
  },
  {
   "cell_type": "markdown",
   "metadata": {
    "id": "aos7IhTSlJ_c"
   },
   "source": [
    "### **Skaliranje trening skupa**"
   ]
  },
  {
   "cell_type": "code",
   "execution_count": null,
   "metadata": {
    "colab": {
     "base_uri": "https://localhost:8080/"
    },
    "id": "3F3uP_YAjuAb",
    "outputId": "c124814b-6251-4492-cfd4-64a21378da21"
   },
   "outputs": [],
   "source": [
    "def scale_train(train_dataset):\n",
    "  scaler = MinMaxScaler(feature_range=(0, 1))\n",
    "  train_dataset = scaler.fit_transform(train_dataset)\n",
    "  return scaler, train_dataset"
   ]
  },
  {
   "cell_type": "markdown",
   "metadata": {},
   "source": [
    "### **Vizuelni prikaz trening i validacionog skupa**"
   ]
  },
  {
   "cell_type": "code",
   "execution_count": null,
   "metadata": {},
   "outputs": [],
   "source": [
    "def plot_train_and_validation_data(train, validation):\n",
    "  plt.title('Podaci za trening i validaciju')\n",
    "  plt.xlabel('vreme')\n",
    "  plt.ylabel('vrednost bitkoina')\n",
    "  plt.plot(train, c = 'lime')\n",
    "  plt.plot(validation, c = 'orchid')\n",
    "  plt.show()"
   ]
  },
  {
   "cell_type": "markdown",
   "metadata": {
    "id": "30h12bNEmP83"
   },
   "source": [
    "### **Kompilacija i treniranje mreze**"
   ]
  },
  {
   "cell_type": "code",
   "execution_count": null,
   "metadata": {
    "colab": {
     "base_uri": "https://localhost:8080/",
     "height": 253
    },
    "id": "W1PIqBXAb8LA",
    "outputId": "d55137e6-0d69-4bb1-dd1f-8f2105f524e1"
   },
   "outputs": [],
   "source": [
    "# Definicija funkcije za kompilaciju i treniranje mreze\n",
    "# Treniranje je moguce vrsiti sa ili bez validacije\n",
    "\n",
    "def compile_and_fit(net, optimizer, loss, metrics, X_train, y_train, epochs, batch_size, validation = 1, validation_data = None, patience = 3):\n",
    "\n",
    "  net.compile(optimizer = optimizer, loss = loss, metrics = metrics)\n",
    "\n",
    "  callback = callbacks.EarlyStopping(monitor = 'loss', patience = patience)\n",
    "\n",
    "  if validation == 0: # bez validacije\n",
    "    history = net.fit(X_train, y_train, epochs = epochs, batch_size = batch_size, callbacks=[callback])\n",
    "  else: # sa validacijom\n",
    "    history = net.fit(X_train, y_train, epochs = epochs, validation_data = validation_data, batch_size = batch_size, callbacks=[callback])\n",
    "\n",
    "  return history, net"
   ]
  },
  {
   "cell_type": "markdown",
   "metadata": {
    "id": "Vtwv1-mtsie5"
   },
   "source": [
    "### **Vizualizacija rezultata predvidjanja**"
   ]
  },
  {
   "cell_type": "code",
   "execution_count": null,
   "metadata": {
    "id": "rpuCAGCxzAat"
   },
   "outputs": [],
   "source": [
    "# Vizuelni prikaz rezultata modela mreze\n",
    "\n",
    "#def plot_real_vs_predicted_data(test_set, predicted_set, caption):\n",
    "#\n",
    "#  fig, ax = plt.subplots(1, figsize=(16, 9))\n",
    "#  ax.plot(test_set, label='Stvarna vrednost BTC', linewidth=2)\n",
    "#  ax.plot(predicted_set, label='Predvidjena vrednost BTC', linewidth=2)\n",
    "#  ax.set_xlabel('Timestamp', fontsize=14)\n",
    "#  ax.set_ylabel('Cena [USD]', fontsize=14)\n",
    "#  ax.set_title(label = caption, fontsize=18)\n",
    "#  ax.legend(loc='best', fontsize=18)\n",
    "\n",
    "  # test = test.reset_index()\n",
    "  # x = test.index\n",
    "\n",
    "\n",
    "def plot_real_vs_predicted_data(test_set, predicted_set):\n",
    "  \n",
    "  plt.plot(test_set, label='Stvarna vrednost BTC', linewidth=2)\n",
    "  plt.plot(predicted_set, label='Predvidjena vrednost BTC', linewidth=2)\n",
    "  plt.xlabel('Redni broj instance', fontsize=14)\n",
    "  plt.ylabel('Cena [USD]', fontsize=14)\n",
    "  plt.title(label = 'Vizuelni prikaz stvarne i predvidjene vrednosti BTC', fontsize=18)\n",
    "  plt.legend(loc='best', fontsize=18)\n",
    "  plt.show()\n",
    "\n",
    "  # test = test.reset_index()\n",
    "  # x = test.index"
   ]
  },
  {
   "cell_type": "markdown",
   "metadata": {},
   "source": [
    "### Vizuelni prikaz funkcije gubitka, MSE i MAE tokom treniranja mreze"
   ]
  },
  {
   "cell_type": "code",
   "execution_count": null,
   "metadata": {
    "id": "JLp_Ems1zAja"
   },
   "outputs": [],
   "source": [
    "# Vizuelni prikaz funkcije gubitka\n",
    "\n",
    "def plot_loss(history_):\n",
    "\n",
    "  epochs = range(len(history_.history['loss'])) # broj epoha\n",
    "\n",
    "  plt.title('Vizuelni prikaz gubitka (loss) i MSE (mse) mreze')\n",
    "\n",
    "  plt.subplot(211)\n",
    "  \n",
    "  plt.plot(epochs, history_.history['loss'], label='Gubitak (loss) tokom treniranja')\n",
    "\n",
    "  if 'val_loss' in history_.history:\n",
    "    plt.plot(epochs, history_.history['val_loss'], label='Gubitak (val_loss) tokom validacije')\n",
    "  \n",
    "  plt.legend()\n",
    "\n",
    "\n",
    "# Vizuelni prikaz MSE\n",
    "\n",
    "def plot_mse(history_):\n",
    "\n",
    "  epochs = range(len(history_.history['mse'])) # broj epoha\n",
    "\n",
    "  plt.title('Vizuelni prikaz srednjekvadratne greske (MSE) mreze')\n",
    "\n",
    "  plt.subplot(212)\n",
    "\n",
    "  plt.plot(epochs, history_.history['mse'], label='MSE (mse) tokom treniranja')\n",
    "  \n",
    "  if 'val_mse' in history_.history:\n",
    "    plt.plot(epochs, history_.history['val_mse'], label='MSE (val_mse) tokom validacije')\n",
    "  \n",
    "  plt.legend()\n",
    "\n",
    "  plt.show()\n",
    "\n",
    "\n",
    "# Vizuelni prikaz MAE\n",
    "\n",
    "def plot_mae(history_):\n",
    "\n",
    "  epochs = range(len(history_.history['mae'])) # broj epoha\n",
    "  plt.title('Vizuelni prikaz MAE (mae')\n",
    "  plt.xlabel('broj epohe')\n",
    "  plt.ylabel('MAE')\n",
    "  \n",
    "  plt.plot(epochs, history_.history['mae'], label='MAE (mae) tokom treniranja')\n",
    "\n",
    "  if 'val_mae' in history_.history:\n",
    "    plt.plot(epochs, history_.history['val_mae'], label='MAE (val_mae) tokom treniranja sa validacijom')\n",
    "\n",
    "  plt.legend(loc = 'best')\n",
    "\n",
    "  plt.show()"
   ]
  },
  {
   "cell_type": "code",
   "execution_count": null,
   "metadata": {},
   "outputs": [],
   "source": []
  }
 ],
 "metadata": {
  "colab": {
   "collapsed_sections": [],
   "include_colab_link": true,
   "name": "Utility.ipynb",
   "provenance": []
  },
  "kernelspec": {
   "display_name": "Python 3",
   "language": "python",
   "name": "python3"
  },
  "language_info": {
   "codemirror_mode": {
    "name": "ipython",
    "version": 3
   },
   "file_extension": ".py",
   "mimetype": "text/x-python",
   "name": "python",
   "nbconvert_exporter": "python",
   "pygments_lexer": "ipython3",
   "version": "3.9.5"
  }
 },
 "nbformat": 4,
 "nbformat_minor": 1
}
