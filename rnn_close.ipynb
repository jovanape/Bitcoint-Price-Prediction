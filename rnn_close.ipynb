{
  "nbformat": 4,
  "nbformat_minor": 0,
  "metadata": {
    "colab": {
      "name": "rnn_close.ipynb",
      "provenance": [],
      "collapsed_sections": [],
      "include_colab_link": true
    },
    "kernelspec": {
      "display_name": "Python 3",
      "language": "python",
      "name": "python3"
    },
    "language_info": {
      "codemirror_mode": {
        "name": "ipython",
        "version": 3
      },
      "file_extension": ".py",
      "mimetype": "text/x-python",
      "name": "python",
      "nbconvert_exporter": "python",
      "pygments_lexer": "ipython3",
      "version": "3.9.5"
    }
  },
  "cells": [
    {
      "cell_type": "markdown",
      "metadata": {
        "id": "view-in-github",
        "colab_type": "text"
      },
      "source": [
        "<a href=\"https://colab.research.google.com/github/jovanape/Bitcoint-Price-Prediction/blob/main/rnn_close.ipynb\" target=\"_parent\"><img src=\"https://colab.research.google.com/assets/colab-badge.svg\" alt=\"Open In Colab\"/></a>"
      ]
    },
    {
      "cell_type": "markdown",
      "metadata": {
        "id": "4_6hHjWjjzos"
      },
      "source": [
        "# **Predvidjanje vrednosti Bitcoina pomocu RNN**\n",
        "\n",
        "**Atributi:** Close\n",
        "\n",
        "**Filtrirani podaci:** od 28.03.2021."
      ]
    },
    {
      "cell_type": "markdown",
      "metadata": {
        "id": "krvFQDwvkBdX"
      },
      "source": [
        "## **Ucitavanje biblioteka**"
      ]
    },
    {
      "cell_type": "code",
      "metadata": {
        "id": "iaSuiXq3HP1y"
      },
      "source": [
        "# Ucitavanje biblioteka\n",
        "\n",
        "import numpy as np \n",
        "import pandas as pd \n",
        "from matplotlib import pyplot as plt\n",
        "from sklearn.preprocessing import MinMaxScaler\n",
        "from sklearn import metrics\n",
        "from keras.models import Sequential\n",
        "from keras.layers import Dense\n",
        "from keras.layers import LSTM\n",
        "from keras.layers import Dropout\n",
        "from keras import callbacks\n",
        "from sklearn.metrics import r2_score\n",
        "from sklearn.metrics import mean_absolute_error"
      ],
      "execution_count": 2,
      "outputs": []
    },
    {
      "cell_type": "markdown",
      "metadata": {
        "id": "QsGhjvltjWcA"
      },
      "source": [
        "## **Ucitavanje skupa podataka i pretprocesiranje**"
      ]
    },
    {
      "cell_type": "code",
      "metadata": {
        "id": "_r4bteeIUcND"
      },
      "source": [
        "# %run preprocessing.ipynb\n",
        "\n",
        "# data = preprocess_data(file_name = 'bitstampUSD_1-min_data_2012-01-01_to_2021-03-31.csv')"
      ],
      "execution_count": 1,
      "outputs": []
    },
    {
      "cell_type": "code",
      "metadata": {
        "id": "73oMen0eTEgY",
        "outputId": "df94d4e6-1ba4-411e-f5e5-e0df336b4e49",
        "colab": {
          "base_uri": "https://localhost:8080/",
          "height": 205
        }
      },
      "source": [
        "data = pd.read_csv('bitstampUSD_1-min_data_2012-01-01_to_2021-03-31.csv')\n",
        "data = data.dropna()\n",
        "data['Date'] = pd.to_datetime(data['Timestamp'], unit='s').dt.date # samo datum (bez vremena)\n",
        "data = data.loc[data['Date'] > pd.to_datetime('2021-03-28')]\n",
        "data.head()"
      ],
      "execution_count": 3,
      "outputs": [
        {
          "output_type": "execute_result",
          "data": {
            "text/html": [
              "<div>\n",
              "<style scoped>\n",
              "    .dataframe tbody tr th:only-of-type {\n",
              "        vertical-align: middle;\n",
              "    }\n",
              "\n",
              "    .dataframe tbody tr th {\n",
              "        vertical-align: top;\n",
              "    }\n",
              "\n",
              "    .dataframe thead th {\n",
              "        text-align: right;\n",
              "    }\n",
              "</style>\n",
              "<table border=\"1\" class=\"dataframe\">\n",
              "  <thead>\n",
              "    <tr style=\"text-align: right;\">\n",
              "      <th></th>\n",
              "      <th>Timestamp</th>\n",
              "      <th>Open</th>\n",
              "      <th>High</th>\n",
              "      <th>Low</th>\n",
              "      <th>Close</th>\n",
              "      <th>Volume_(BTC)</th>\n",
              "      <th>Volume_(Currency)</th>\n",
              "      <th>Weighted_Price</th>\n",
              "      <th>Date</th>\n",
              "    </tr>\n",
              "  </thead>\n",
              "  <tbody>\n",
              "    <tr>\n",
              "      <th>4854496</th>\n",
              "      <td>1616976000</td>\n",
              "      <td>55790.28</td>\n",
              "      <td>55822.98</td>\n",
              "      <td>55777.98</td>\n",
              "      <td>55804.36</td>\n",
              "      <td>1.731449</td>\n",
              "      <td>96636.546983</td>\n",
              "      <td>55812.518695</td>\n",
              "      <td>2021-03-29</td>\n",
              "    </tr>\n",
              "    <tr>\n",
              "      <th>4854497</th>\n",
              "      <td>1616976060</td>\n",
              "      <td>55822.98</td>\n",
              "      <td>55857.28</td>\n",
              "      <td>55822.98</td>\n",
              "      <td>55857.28</td>\n",
              "      <td>0.589603</td>\n",
              "      <td>32931.781301</td>\n",
              "      <td>55854.182542</td>\n",
              "      <td>2021-03-29</td>\n",
              "    </tr>\n",
              "    <tr>\n",
              "      <th>4854498</th>\n",
              "      <td>1616976120</td>\n",
              "      <td>55822.98</td>\n",
              "      <td>55829.04</td>\n",
              "      <td>55766.15</td>\n",
              "      <td>55779.04</td>\n",
              "      <td>2.729659</td>\n",
              "      <td>152263.034630</td>\n",
              "      <td>55780.964698</td>\n",
              "      <td>2021-03-29</td>\n",
              "    </tr>\n",
              "    <tr>\n",
              "      <th>4854500</th>\n",
              "      <td>1616976240</td>\n",
              "      <td>55766.15</td>\n",
              "      <td>55768.63</td>\n",
              "      <td>55766.15</td>\n",
              "      <td>55768.63</td>\n",
              "      <td>0.023738</td>\n",
              "      <td>1323.776861</td>\n",
              "      <td>55766.455065</td>\n",
              "      <td>2021-03-29</td>\n",
              "    </tr>\n",
              "    <tr>\n",
              "      <th>4854501</th>\n",
              "      <td>1616976300</td>\n",
              "      <td>55770.46</td>\n",
              "      <td>55778.48</td>\n",
              "      <td>55736.83</td>\n",
              "      <td>55742.20</td>\n",
              "      <td>0.389067</td>\n",
              "      <td>21692.454676</td>\n",
              "      <td>55755.006032</td>\n",
              "      <td>2021-03-29</td>\n",
              "    </tr>\n",
              "  </tbody>\n",
              "</table>\n",
              "</div>"
            ],
            "text/plain": [
              "          Timestamp      Open  ...  Weighted_Price        Date\n",
              "4854496  1616976000  55790.28  ...    55812.518695  2021-03-29\n",
              "4854497  1616976060  55822.98  ...    55854.182542  2021-03-29\n",
              "4854498  1616976120  55822.98  ...    55780.964698  2021-03-29\n",
              "4854500  1616976240  55766.15  ...    55766.455065  2021-03-29\n",
              "4854501  1616976300  55770.46  ...    55755.006032  2021-03-29\n",
              "\n",
              "[5 rows x 9 columns]"
            ]
          },
          "metadata": {},
          "execution_count": 3
        }
      ]
    },
    {
      "cell_type": "markdown",
      "metadata": {
        "id": "vKO7qcE2jowR"
      },
      "source": [
        "## **Podela skupa, vizualizacija**\n",
        "\n"
      ]
    },
    {
      "cell_type": "markdown",
      "metadata": {
        "id": "uJHmdAZWkeLL"
      },
      "source": [
        "### **Podela skupa podataka**"
      ]
    },
    {
      "cell_type": "code",
      "metadata": {
        "id": "dhZQvDybJsOg"
      },
      "source": [
        "###### DELETE\n",
        "\n",
        "def data_split(data, test_size = 0):\n",
        "\n",
        "  if test_size <= 0:\n",
        "    print('Vrednost parametra test_size mora biti strogo veca od 0.\\n')\n",
        "    return\n",
        "  else: # test_size > 0\n",
        "    test_limit = len(data) - int(test_size * len(data))\n",
        "\n",
        "  train = data[:test_limit]\n",
        "  test = data[test_limit:]\n",
        "  \n",
        "  return train, test"
      ],
      "execution_count": 4,
      "outputs": []
    },
    {
      "cell_type": "code",
      "metadata": {
        "id": "1n5kOU90PBHd"
      },
      "source": [
        "# Podela inicijalnog skupa podataka na train i test skup\n",
        "\n",
        "train, test = data_split(data, test_size = 0.2)\n",
        "\n",
        "# Podela train skupa podataka na train i validation skup\n",
        "\n",
        "train, validation = data_split(data, test_size = 0.2)"
      ],
      "execution_count": 5,
      "outputs": []
    },
    {
      "cell_type": "code",
      "metadata": {
        "colab": {
          "base_uri": "https://localhost:8080/"
        },
        "id": "juNgJZG7cnQS",
        "outputId": "9f6ccbfc-263e-455b-a445-46c22b98dba4"
      },
      "source": [
        "# Dimenzije train i test skupa\n",
        "\n",
        "train.shape, validation.shape, test.shape"
      ],
      "execution_count": 6,
      "outputs": [
        {
          "output_type": "execute_result",
          "data": {
            "text/plain": [
              "((2298, 9), (574, 9), (574, 9))"
            ]
          },
          "metadata": {},
          "execution_count": 6
        }
      ]
    },
    {
      "cell_type": "markdown",
      "metadata": {
        "id": "ttRI2EHVkikR"
      },
      "source": [
        "### **Vizualizacija podataka**"
      ]
    },
    {
      "cell_type": "code",
      "metadata": {
        "id": "rCH1LLR7hUWc"
      },
      "source": [
        "##### DELETE\n",
        "\n",
        "def plot_train_and_validation_data(train, validation):\n",
        "  plt.title('Podaci za trening i validaciju')\n",
        "  plt.xlabel('vreme')\n",
        "  plt.ylabel('vrednost bitkoina')\n",
        "  plt.plot(train, c = 'lime')\n",
        "  plt.plot(validation, c = 'orchid')\n",
        "  plt.show()"
      ],
      "execution_count": 7,
      "outputs": []
    },
    {
      "cell_type": "code",
      "metadata": {
        "colab": {
          "base_uri": "https://localhost:8080/",
          "height": 295
        },
        "id": "vlwad6fjfGSU",
        "outputId": "210dd550-4ed4-4a51-f9ba-129c4421be3e"
      },
      "source": [
        "# Plotovanje train i test skupa podataka\n",
        "\n",
        "plot_train_and_validation_data(train = train['Close'], validation = validation['Close'])"
      ],
      "execution_count": 8,
      "outputs": [
        {
          "output_type": "display_data",
          "data": {
            "image/png": "[encoded data removed]",
            "text/plain": [
              "<Figure size 432x288 with 1 Axes>"
            ]
          },
          "metadata": {
            "needs_background": "light"
          }
        }
      ]
    },
    {
      "cell_type": "markdown",
      "metadata": {
        "id": "dZw1y3Dxk1bt"
      },
      "source": [
        "## **Priprema trening skupa**"
      ]
    },
    {
      "cell_type": "markdown",
      "metadata": {
        "id": "vI9Ehz9mlQu2"
      },
      "source": [
        "## **Filtriranje atributa train skupa**"
      ]
    },
    {
      "cell_type": "code",
      "metadata": {
        "colab": {
          "base_uri": "https://localhost:8080/",
          "height": 205
        },
        "id": "bLfZvfLHiph9",
        "outputId": "19e25f24-582c-49fd-810f-865358671d53"
      },
      "source": [
        "# Izbacivanje nepotrebnih kolona (atributa) iz train skupa\n",
        "\n",
        "train_ = train.drop(['Low', 'High', 'Open', 'Date', 'Volume_(BTC)', 'Volume_(Currency)', 'Weighted_Price', 'Timestamp'], axis = 1)\n",
        "train_.head()"
      ],
      "execution_count": 9,
      "outputs": [
        {
          "output_type": "execute_result",
          "data": {
            "text/html": [
              "<div>\n",
              "<style scoped>\n",
              "    .dataframe tbody tr th:only-of-type {\n",
              "        vertical-align: middle;\n",
              "    }\n",
              "\n",
              "    .dataframe tbody tr th {\n",
              "        vertical-align: top;\n",
              "    }\n",
              "\n",
              "    .dataframe thead th {\n",
              "        text-align: right;\n",
              "    }\n",
              "</style>\n",
              "<table border=\"1\" class=\"dataframe\">\n",
              "  <thead>\n",
              "    <tr style=\"text-align: right;\">\n",
              "      <th></th>\n",
              "      <th>Close</th>\n",
              "    </tr>\n",
              "  </thead>\n",
              "  <tbody>\n",
              "    <tr>\n",
              "      <th>4854496</th>\n",
              "      <td>55804.36</td>\n",
              "    </tr>\n",
              "    <tr>\n",
              "      <th>4854497</th>\n",
              "      <td>55857.28</td>\n",
              "    </tr>\n",
              "    <tr>\n",
              "      <th>4854498</th>\n",
              "      <td>55779.04</td>\n",
              "    </tr>\n",
              "    <tr>\n",
              "      <th>4854500</th>\n",
              "      <td>55768.63</td>\n",
              "    </tr>\n",
              "    <tr>\n",
              "      <th>4854501</th>\n",
              "      <td>55742.20</td>\n",
              "    </tr>\n",
              "  </tbody>\n",
              "</table>\n",
              "</div>"
            ],
            "text/plain": [
              "            Close\n",
              "4854496  55804.36\n",
              "4854497  55857.28\n",
              "4854498  55779.04\n",
              "4854500  55768.63\n",
              "4854501  55742.20"
            ]
          },
          "metadata": {},
          "execution_count": 9
        }
      ]
    },
    {
      "cell_type": "code",
      "metadata": {
        "id": "WlPkpDtuOD9g",
        "outputId": "63c0ed7c-aa42-4a46-80b3-4ac13ac0b275",
        "colab": {
          "base_uri": "https://localhost:8080/",
          "height": 205
        }
      },
      "source": [
        "# Izbacivanje nepotrebnih kolona (atributa) iz validacionog skupa\n",
        "\n",
        "validation_ = validation.drop(['Low', 'High', 'Open', 'Date', 'Volume_(BTC)', 'Volume_(Currency)', 'Weighted_Price', 'Timestamp'], axis = 1)\n",
        "validation_.head()"
      ],
      "execution_count": 10,
      "outputs": [
        {
          "output_type": "execute_result",
          "data": {
            "text/html": [
              "<div>\n",
              "<style scoped>\n",
              "    .dataframe tbody tr th:only-of-type {\n",
              "        vertical-align: middle;\n",
              "    }\n",
              "\n",
              "    .dataframe tbody tr th {\n",
              "        vertical-align: top;\n",
              "    }\n",
              "\n",
              "    .dataframe thead th {\n",
              "        text-align: right;\n",
              "    }\n",
              "</style>\n",
              "<table border=\"1\" class=\"dataframe\">\n",
              "  <thead>\n",
              "    <tr style=\"text-align: right;\">\n",
              "      <th></th>\n",
              "      <th>Close</th>\n",
              "    </tr>\n",
              "  </thead>\n",
              "  <tbody>\n",
              "    <tr>\n",
              "      <th>4856801</th>\n",
              "      <td>58747.90</td>\n",
              "    </tr>\n",
              "    <tr>\n",
              "      <th>4856802</th>\n",
              "      <td>58825.89</td>\n",
              "    </tr>\n",
              "    <tr>\n",
              "      <th>4856803</th>\n",
              "      <td>58828.09</td>\n",
              "    </tr>\n",
              "    <tr>\n",
              "      <th>4856804</th>\n",
              "      <td>58835.62</td>\n",
              "    </tr>\n",
              "    <tr>\n",
              "      <th>4856805</th>\n",
              "      <td>58900.00</td>\n",
              "    </tr>\n",
              "  </tbody>\n",
              "</table>\n",
              "</div>"
            ],
            "text/plain": [
              "            Close\n",
              "4856801  58747.90\n",
              "4856802  58825.89\n",
              "4856803  58828.09\n",
              "4856804  58835.62\n",
              "4856805  58900.00"
            ]
          },
          "metadata": {},
          "execution_count": 10
        }
      ]
    },
    {
      "cell_type": "code",
      "metadata": {
        "id": "TxOQ_PikOSrD",
        "outputId": "1f2bf31e-5fb2-4e29-b5cb-cf9e7ba4f9d5",
        "colab": {
          "base_uri": "https://localhost:8080/",
          "height": 205
        }
      },
      "source": [
        "# Izbacivanje nepotrebnih kolona (atributa) iz test skupa\n",
        "\n",
        "test_ = test.drop(['Low', 'High', 'Open', 'Date', 'Volume_(BTC)', 'Volume_(Currency)', 'Weighted_Price', 'Timestamp'], axis = 1)\n",
        "test_.head()"
      ],
      "execution_count": 11,
      "outputs": [
        {
          "output_type": "execute_result",
          "data": {
            "text/html": [
              "<div>\n",
              "<style scoped>\n",
              "    .dataframe tbody tr th:only-of-type {\n",
              "        vertical-align: middle;\n",
              "    }\n",
              "\n",
              "    .dataframe tbody tr th {\n",
              "        vertical-align: top;\n",
              "    }\n",
              "\n",
              "    .dataframe thead th {\n",
              "        text-align: right;\n",
              "    }\n",
              "</style>\n",
              "<table border=\"1\" class=\"dataframe\">\n",
              "  <thead>\n",
              "    <tr style=\"text-align: right;\">\n",
              "      <th></th>\n",
              "      <th>Close</th>\n",
              "    </tr>\n",
              "  </thead>\n",
              "  <tbody>\n",
              "    <tr>\n",
              "      <th>4856801</th>\n",
              "      <td>58747.90</td>\n",
              "    </tr>\n",
              "    <tr>\n",
              "      <th>4856802</th>\n",
              "      <td>58825.89</td>\n",
              "    </tr>\n",
              "    <tr>\n",
              "      <th>4856803</th>\n",
              "      <td>58828.09</td>\n",
              "    </tr>\n",
              "    <tr>\n",
              "      <th>4856804</th>\n",
              "      <td>58835.62</td>\n",
              "    </tr>\n",
              "    <tr>\n",
              "      <th>4856805</th>\n",
              "      <td>58900.00</td>\n",
              "    </tr>\n",
              "  </tbody>\n",
              "</table>\n",
              "</div>"
            ],
            "text/plain": [
              "            Close\n",
              "4856801  58747.90\n",
              "4856802  58825.89\n",
              "4856803  58828.09\n",
              "4856804  58835.62\n",
              "4856805  58900.00"
            ]
          },
          "metadata": {},
          "execution_count": 11
        }
      ]
    },
    {
      "cell_type": "code",
      "metadata": {
        "colab": {
          "base_uri": "https://localhost:8080/"
        },
        "id": "_iWrck9Mvy_W",
        "outputId": "915a0a17-466b-48ef-c7c9-f30d448e3caf"
      },
      "source": [
        "# Dimenzije train skupa - pre i nakon izbacivanja atributa\n",
        "\n",
        "train.shape, train_.shape"
      ],
      "execution_count": 12,
      "outputs": [
        {
          "output_type": "execute_result",
          "data": {
            "text/plain": [
              "((2298, 9), (2298, 1))"
            ]
          },
          "metadata": {},
          "execution_count": 12
        }
      ]
    },
    {
      "cell_type": "markdown",
      "metadata": {
        "id": "aos7IhTSlJ_c"
      },
      "source": [
        "## **Skaliranje**"
      ]
    },
    {
      "cell_type": "code",
      "metadata": {
        "colab": {
          "base_uri": "https://localhost:8080/"
        },
        "id": "3F3uP_YAjuAb",
        "outputId": "9711fc63-4279-4d85-a4b9-32216dd86053"
      },
      "source": [
        "scaler = MinMaxScaler(feature_range=(0, 1))\n",
        "\n",
        "train_ = scaler.fit_transform(train_)\n",
        "print(train_)\n",
        "\n",
        "validation_ = scaler.transform(validation_)\n",
        "print(validation_)\n",
        "\n",
        "test_ = scaler.transform(test_)\n",
        "print(test_)"
      ],
      "execution_count": 13,
      "outputs": [
        {
          "output_type": "stream",
          "name": "stdout",
          "text": [
            "[[0.19947492]\n",
            " [0.21134984]\n",
            " [0.19379327]\n",
            " ...\n",
            " [0.84805843]\n",
            " [0.84788789]\n",
            " [0.86661356]]\n",
            "[[0.85998721]\n",
            " [0.87748769]\n",
            " [0.87798135]\n",
            " [0.87967104]\n",
            " [0.89411752]\n",
            " [0.88930875]\n",
            " [0.90001683]\n",
            " [0.892365  ]\n",
            " [0.89619765]\n",
            " [0.89169631]\n",
            " [0.88706482]\n",
            " [0.883111  ]\n",
            " [0.890976  ]\n",
            " [0.88471541]\n",
            " [0.87884078]\n",
            " [0.884592  ]\n",
            " [0.89078527]\n",
            " [0.88658461]\n",
            " [0.90969494]\n",
            " [0.91040627]\n",
            " [0.91591065]\n",
            " [0.91091788]\n",
            " [0.89896891]\n",
            " [0.89149435]\n",
            " [0.890884  ]\n",
            " [0.88585758]\n",
            " [0.88617173]\n",
            " [0.88167488]\n",
            " [0.88606626]\n",
            " [0.88514625]\n",
            " [0.88289782]\n",
            " [0.88189703]\n",
            " [0.87901581]\n",
            " [0.88255226]\n",
            " [0.89066185]\n",
            " [0.89656341]\n",
            " [0.87681675]\n",
            " [0.87034523]\n",
            " [0.86045844]\n",
            " [0.87162876]\n",
            " [0.87796789]\n",
            " [0.88213264]\n",
            " [0.87951845]\n",
            " [0.88105106]\n",
            " [0.88396594]\n",
            " [0.88037115]\n",
            " [0.87892156]\n",
            " [0.88267343]\n",
            " [0.86943419]\n",
            " [0.87643304]\n",
            " [0.88933119]\n",
            " [0.88828776]\n",
            " [0.88823391]\n",
            " [0.88563543]\n",
            " [0.89429703]\n",
            " [0.88533474]\n",
            " [0.87291678]\n",
            " [0.8683571 ]\n",
            " [0.863398  ]\n",
            " [0.85969325]\n",
            " [0.85709253]\n",
            " [0.85961472]\n",
            " [0.8729841 ]\n",
            " [0.87084338]\n",
            " [0.85860494]\n",
            " [0.85842543]\n",
            " [0.85234211]\n",
            " [0.85465337]\n",
            " [0.86025424]\n",
            " [0.85728102]\n",
            " [0.85017671]\n",
            " [0.84498199]\n",
            " [0.84432676]\n",
            " [0.83374659]\n",
            " [0.8340024 ]\n",
            " [0.84706886]\n",
            " [0.85658091]\n",
            " [0.85148941]\n",
            " [0.85594139]\n",
            " [0.85805742]\n",
            " [0.84655724]\n",
            " [0.84746379]\n",
            " [0.84177316]\n",
            " [0.83427392]\n",
            " [0.83494934]\n",
            " [0.81122642]\n",
            " [0.80258951]\n",
            " [0.81296099]\n",
            " [0.80960181]\n",
            " [0.81236859]\n",
            " [0.80904532]\n",
            " [0.81518473]\n",
            " [0.82714044]\n",
            " [0.82854963]\n",
            " [0.80764734]\n",
            " [0.84068036]\n",
            " [0.83928463]\n",
            " [0.81817366]\n",
            " [0.79934701]\n",
            " [0.80447441]\n",
            " [0.80594195]\n",
            " [0.8208058 ]\n",
            " [0.82593544]\n",
            " [0.83196042]\n",
            " [0.85140414]\n",
            " [0.86046966]\n",
            " [0.83679386]\n",
            " [0.83161934]\n",
            " [0.84225112]\n",
            " [0.84900313]\n",
            " [0.84448608]\n",
            " [0.8341864 ]\n",
            " [0.85447161]\n",
            " [0.8557888 ]\n",
            " [0.84907942]\n",
            " [0.84083744]\n",
            " [0.83345937]\n",
            " [0.83519393]\n",
            " [0.82679936]\n",
            " [0.8274703 ]\n",
            " [0.83553501]\n",
            " [0.83791583]\n",
            " [0.85326213]\n",
            " [0.85962369]\n",
            " [0.84923874]\n",
            " [0.85483961]\n",
            " [0.85473864]\n",
            " [0.84827834]\n",
            " [0.85472966]\n",
            " [0.83877975]\n",
            " [0.84325192]\n",
            " [0.84264381]\n",
            " [0.8374289 ]\n",
            " [0.84438286]\n",
            " [0.84497302]\n",
            " [0.83730323]\n",
            " [0.83015853]\n",
            " [0.83051083]\n",
            " [0.85036071]\n",
            " [0.84442101]\n",
            " [0.83990845]\n",
            " [0.84867776]\n",
            " [0.85679408]\n",
            " [0.87764925]\n",
            " [0.8690774 ]\n",
            " [0.85875753]\n",
            " [0.86090722]\n",
            " [0.85545445]\n",
            " [0.85333842]\n",
            " [0.84637772]\n",
            " [0.84963816]\n",
            " [0.83956064]\n",
            " [0.84357504]\n",
            " [0.83483041]\n",
            " [0.85382535]\n",
            " [0.85306017]\n",
            " [0.86310404]\n",
            " [0.87723412]\n",
            " [0.86330151]\n",
            " [0.85788913]\n",
            " [0.86657766]\n",
            " [0.85221645]\n",
            " [0.85472966]\n",
            " [0.85590997]\n",
            " [0.84535224]\n",
            " [0.84872937]\n",
            " [0.86194392]\n",
            " [0.86769289]\n",
            " [0.85609398]\n",
            " [0.85763781]\n",
            " [0.85130766]\n",
            " [0.86270686]\n",
            " [0.87052923]\n",
            " [0.87802399]\n",
            " [0.87087256]\n",
            " [0.88913597]\n",
            " [0.87862312]\n",
            " [0.87597078]\n",
            " [0.88053495]\n",
            " [0.88796015]\n",
            " [0.88201147]\n",
            " [0.87356079]\n",
            " [0.88282602]\n",
            " [0.87258244]\n",
            " [0.86966307]\n",
            " [0.86865779]\n",
            " [0.8723199 ]\n",
            " [0.86851193]\n",
            " [0.87716905]\n",
            " [0.87394675]\n",
            " [0.8863131 ]\n",
            " [0.88440126]\n",
            " [0.88224484]\n",
            " [0.88322319]\n",
            " [0.88406467]\n",
            " [0.8768549 ]\n",
            " [0.87831794]\n",
            " [0.87550853]\n",
            " [0.87368197]\n",
            " [0.87072221]\n",
            " [0.87498345]\n",
            " [0.88004578]\n",
            " [0.87788038]\n",
            " [0.87425417]\n",
            " [0.87375826]\n",
            " [0.8740208 ]\n",
            " [0.87736427]\n",
            " [0.88193068]\n",
            " [0.87849746]\n",
            " [0.86817085]\n",
            " [0.86166568]\n",
            " [0.85909412]\n",
            " [0.844053  ]\n",
            " [0.85986155]\n",
            " [0.85668189]\n",
            " [0.85999619]\n",
            " [0.8737246 ]\n",
            " [0.87158388]\n",
            " [0.88197108]\n",
            " [0.88213264]\n",
            " [0.89616623]\n",
            " [0.91965802]\n",
            " [0.91574684]\n",
            " [0.93899629]\n",
            " [0.94585376]\n",
            " [0.93081937]\n",
            " [0.92795386]\n",
            " [0.93030327]\n",
            " [0.93306107]\n",
            " [0.92911847]\n",
            " [0.93364674]\n",
            " [0.9324395 ]\n",
            " [0.9389918 ]\n",
            " [0.92720215]\n",
            " [0.92910725]\n",
            " [0.92827699]\n",
            " [0.93483378]\n",
            " [0.93899629]\n",
            " [0.93184934]\n",
            " [0.92837348]\n",
            " [0.93136914]\n",
            " [0.91983081]\n",
            " [0.9165569 ]\n",
            " [0.92406961]\n",
            " [0.92387663]\n",
            " [0.90581292]\n",
            " [0.89721864]\n",
            " [0.87429007]\n",
            " [0.88880387]\n",
            " [0.88637144]\n",
            " [0.88367198]\n",
            " [0.89490963]\n",
            " [0.88582841]\n",
            " [0.88831918]\n",
            " [0.88749565]\n",
            " [0.89239417]\n",
            " [0.89748342]\n",
            " [0.90616971]\n",
            " [0.89446533]\n",
            " [0.89151679]\n",
            " [0.90826106]\n",
            " [0.90065186]\n",
            " [0.9079671 ]\n",
            " [0.90769559]\n",
            " [0.90389211]\n",
            " [0.8919566 ]\n",
            " [0.88258143]\n",
            " [0.89632779]\n",
            " [0.88960944]\n",
            " [0.87560727]\n",
            " [0.87820126]\n",
            " [0.88067184]\n",
            " [0.87989319]\n",
            " [0.8871456 ]\n",
            " [0.88879714]\n",
            " [0.88273626]\n",
            " [0.88043398]\n",
            " [0.87760886]\n",
            " [0.88118794]\n",
            " [0.89858295]\n",
            " [0.88417238]\n",
            " [0.87386148]\n",
            " [0.88128667]\n",
            " [0.89021755]\n",
            " [0.88582392]\n",
            " [0.88240864]\n",
            " [0.87569702]\n",
            " [0.86795095]\n",
            " [0.86813944]\n",
            " [0.86204939]\n",
            " [0.8759102 ]\n",
            " [0.86991439]\n",
            " [0.8668963 ]\n",
            " [0.85664374]\n",
            " [0.85876202]\n",
            " [0.86333965]\n",
            " [0.8672845 ]\n",
            " [0.86845583]\n",
            " [0.87959026]\n",
            " [0.87872185]\n",
            " [0.87510014]\n",
            " [0.86968551]\n",
            " [0.88488146]\n",
            " [0.88620539]\n",
            " [0.89477723]\n",
            " [0.8947907 ]\n",
            " [0.8905519 ]\n",
            " [0.88933793]\n",
            " [0.92331564]\n",
            " [0.91891752]\n",
            " [0.92656711]\n",
            " [0.9165569 ]\n",
            " [0.91337275]\n",
            " [0.91742306]\n",
            " [0.91218346]\n",
            " [0.89923145]\n",
            " [0.89830695]\n",
            " [0.89875574]\n",
            " [0.8993975 ]\n",
            " [0.89853134]\n",
            " [0.90373504]\n",
            " [0.90447329]\n",
            " [0.90006844]\n",
            " [0.89959273]\n",
            " [0.9037126 ]\n",
            " [0.89977897]\n",
            " [0.9040245 ]\n",
            " [0.90100192]\n",
            " [0.90450471]\n",
            " [0.91248191]\n",
            " [0.90728719]\n",
            " [0.91128365]\n",
            " [0.91471238]\n",
            " [0.92338072]\n",
            " [0.94323957]\n",
            " [0.92503674]\n",
            " [0.91489863]\n",
            " [0.89077405]\n",
            " [0.8978604 ]\n",
            " [0.89346902]\n",
            " [0.88325685]\n",
            " [0.88229645]\n",
            " [0.87662377]\n",
            " [0.85150961]\n",
            " [0.85370194]\n",
            " [0.83201427]\n",
            " [0.82562802]\n",
            " [0.83666371]\n",
            " [0.82732668]\n",
            " [0.82172806]\n",
            " [0.8308003 ]\n",
            " [0.85603339]\n",
            " [0.86591121]\n",
            " [0.86359546]\n",
            " [0.87167813]\n",
            " [0.85435044]\n",
            " [0.85546567]\n",
            " [0.82804923]\n",
            " [0.82072053]\n",
            " [0.80657698]\n",
            " [0.8078852 ]\n",
            " [0.82236758]\n",
            " [0.81020094]\n",
            " [0.80133739]\n",
            " [0.8171392 ]\n",
            " [0.83759495]\n",
            " [0.81316519]\n",
            " [0.81496707]\n",
            " [0.80601151]\n",
            " [0.79739928]\n",
            " [0.8198813 ]\n",
            " [0.81602621]\n",
            " [0.81631119]\n",
            " [0.82155752]\n",
            " [0.83057591]\n",
            " [0.82181781]\n",
            " [0.84754681]\n",
            " [0.84871142]\n",
            " [0.84377251]\n",
            " [0.85003085]\n",
            " [0.86154899]\n",
            " [0.86337556]\n",
            " [0.85420682]\n",
            " [0.85729673]\n",
            " [0.85089701]\n",
            " [0.83686342]\n",
            " [0.85807313]\n",
            " [0.85680755]\n",
            " [0.85705438]\n",
            " [0.84653255]\n",
            " [0.84467457]\n",
            " [0.84846907]\n",
            " [0.83767124]\n",
            " [0.84179111]\n",
            " [0.84229151]\n",
            " [0.82479328]\n",
            " [0.82807616]\n",
            " [0.84137598]\n",
            " [0.84475087]\n",
            " [0.84720125]\n",
            " [0.83360747]\n",
            " [0.8379652 ]\n",
            " [0.83487978]\n",
            " [0.84192799]\n",
            " [0.84993436]\n",
            " [0.85139292]\n",
            " [0.84603664]\n",
            " [0.85348203]\n",
            " [0.86152431]\n",
            " [0.85723614]\n",
            " [0.85639018]\n",
            " [0.85508645]\n",
            " [0.85327783]\n",
            " [0.85463766]\n",
            " [0.85073769]\n",
            " [0.85475883]\n",
            " [0.84699481]\n",
            " [0.84522658]\n",
            " [0.83964366]\n",
            " [0.83638995]\n",
            " [0.83632263]\n",
            " [0.83231496]\n",
            " [0.84130418]\n",
            " [0.84865308]\n",
            " [0.86088927]\n",
            " [0.85598402]\n",
            " [0.8484399 ]\n",
            " [0.84968529]\n",
            " [0.84841297]\n",
            " [0.84851844]\n",
            " [0.85117077]\n",
            " [0.86224461]\n",
            " [0.86174421]\n",
            " [0.85598178]\n",
            " [0.86325214]\n",
            " [0.86230744]\n",
            " [0.85818981]\n",
            " [0.84704417]\n",
            " [0.85280212]\n",
            " [0.85130766]\n",
            " [0.84260791]\n",
            " [0.83957186]\n",
            " [0.85104736]\n",
            " [0.84536122]\n",
            " [0.85233987]\n",
            " [0.85708355]\n",
            " [0.86011287]\n",
            " [0.85784874]\n",
            " [0.87167813]\n",
            " [0.88789507]\n",
            " [0.87095558]\n",
            " [0.86708479]\n",
            " [0.86239047]\n",
            " [0.86314892]\n",
            " [0.86248696]\n",
            " [0.86327682]\n",
            " [0.87329377]\n",
            " [0.87251736]\n",
            " [0.87193394]\n",
            " [0.86914023]\n",
            " [0.85098228]\n",
            " [0.86565091]\n",
            " [0.88287314]\n",
            " [0.87376724]\n",
            " [0.87472764]\n",
            " [0.88104657]\n",
            " [0.89130137]\n",
            " [0.88982486]\n",
            " [0.89032077]\n",
            " [0.89050702]\n",
            " [0.88900582]\n",
            " [0.89288335]\n",
            " [0.8805013 ]\n",
            " [0.87801726]\n",
            " [0.8823144 ]\n",
            " [0.89813192]\n",
            " [0.89788733]\n",
            " [0.89038809]\n",
            " [0.88767292]\n",
            " [0.89300452]\n",
            " [0.88710072]\n",
            " [0.88273401]\n",
            " [0.88060676]\n",
            " [0.87939503]\n",
            " [0.87673148]\n",
            " [0.88710072]\n",
            " [0.87463564]\n",
            " [0.87459301]\n",
            " [0.87064143]\n",
            " [0.86840422]\n",
            " [0.86094313]\n",
            " [0.85820328]\n",
            " [0.85129419]\n",
            " [0.85742239]\n",
            " [0.86795992]\n",
            " [0.86413176]\n",
            " [0.8572339 ]\n",
            " [0.85021037]\n",
            " [0.85372662]\n",
            " [0.85888319]\n",
            " [0.865247  ]\n",
            " [0.85433248]\n",
            " [0.84981319]\n",
            " [0.84169687]\n",
            " [0.84368724]\n",
            " [0.8481078 ]\n",
            " [0.84899415]\n",
            " [0.84437164]\n",
            " [0.84756925]\n",
            " [0.8501251 ]\n",
            " [0.85200776]\n",
            " [0.84997027]\n",
            " [0.85075565]\n",
            " [0.85057389]\n",
            " [0.85174074]\n",
            " [0.83961   ]\n",
            " [0.83845662]\n",
            " [0.84154652]\n",
            " [0.82668043]\n",
            " [0.83193349]\n",
            " [0.83420211]\n",
            " [0.82608354]\n",
            " [0.82621145]\n",
            " [0.83210179]\n",
            " [0.84252039]\n",
            " [0.85451649]\n",
            " [0.85063896]\n",
            " [0.85203469]\n",
            " [0.85035174]\n",
            " [0.85678287]\n",
            " [0.84827609]\n",
            " [0.834983  ]\n",
            " [0.83176519]\n",
            " [0.83113016]\n",
            " [0.83247877]\n",
            " [0.83390142]\n",
            " [0.83956737]\n",
            " [0.83066118]\n",
            " [0.83383411]\n",
            " [0.84337084]\n",
            " [0.84754681]\n",
            " [0.85618598]\n",
            " [0.85409687]\n",
            " [0.86011063]\n",
            " [0.85930954]\n",
            " [0.85732365]\n",
            " [0.86179134]\n",
            " [0.85028891]\n",
            " [0.85568782]\n",
            " [0.84245083]\n",
            " [0.83313624]\n",
            " [0.83632937]\n",
            " [0.82684424]\n",
            " [0.83049064]\n",
            " [0.83046371]\n",
            " [0.83046371]\n",
            " [0.83141963]\n",
            " [0.82867978]\n",
            " [0.82679936]\n",
            " [0.82679936]\n",
            " [0.84173053]\n",
            " [0.8498648 ]\n",
            " [0.84423476]\n",
            " [0.83670186]\n",
            " [0.84686914]\n",
            " [0.8492163 ]\n",
            " [0.84890215]\n",
            " [0.85820328]\n",
            " [0.85244982]\n",
            " [0.84609723]\n",
            " [0.8460546 ]\n",
            " [0.85458829]\n",
            " [0.86283477]\n",
            " [0.86678186]]\n",
            "[[0.85998721]\n",
            " [0.87748769]\n",
            " [0.87798135]\n",
            " [0.87967104]\n",
            " [0.89411752]\n",
            " [0.88930875]\n",
            " [0.90001683]\n",
            " [0.892365  ]\n",
            " [0.89619765]\n",
            " [0.89169631]\n",
            " [0.88706482]\n",
            " [0.883111  ]\n",
            " [0.890976  ]\n",
            " [0.88471541]\n",
            " [0.87884078]\n",
            " [0.884592  ]\n",
            " [0.89078527]\n",
            " [0.88658461]\n",
            " [0.90969494]\n",
            " [0.91040627]\n",
            " [0.91591065]\n",
            " [0.91091788]\n",
            " [0.89896891]\n",
            " [0.89149435]\n",
            " [0.890884  ]\n",
            " [0.88585758]\n",
            " [0.88617173]\n",
            " [0.88167488]\n",
            " [0.88606626]\n",
            " [0.88514625]\n",
            " [0.88289782]\n",
            " [0.88189703]\n",
            " [0.87901581]\n",
            " [0.88255226]\n",
            " [0.89066185]\n",
            " [0.89656341]\n",
            " [0.87681675]\n",
            " [0.87034523]\n",
            " [0.86045844]\n",
            " [0.87162876]\n",
            " [0.87796789]\n",
            " [0.88213264]\n",
            " [0.87951845]\n",
            " [0.88105106]\n",
            " [0.88396594]\n",
            " [0.88037115]\n",
            " [0.87892156]\n",
            " [0.88267343]\n",
            " [0.86943419]\n",
            " [0.87643304]\n",
            " [0.88933119]\n",
            " [0.88828776]\n",
            " [0.88823391]\n",
            " [0.88563543]\n",
            " [0.89429703]\n",
            " [0.88533474]\n",
            " [0.87291678]\n",
            " [0.8683571 ]\n",
            " [0.863398  ]\n",
            " [0.85969325]\n",
            " [0.85709253]\n",
            " [0.85961472]\n",
            " [0.8729841 ]\n",
            " [0.87084338]\n",
            " [0.85860494]\n",
            " [0.85842543]\n",
            " [0.85234211]\n",
            " [0.85465337]\n",
            " [0.86025424]\n",
            " [0.85728102]\n",
            " [0.85017671]\n",
            " [0.84498199]\n",
            " [0.84432676]\n",
            " [0.83374659]\n",
            " [0.8340024 ]\n",
            " [0.84706886]\n",
            " [0.85658091]\n",
            " [0.85148941]\n",
            " [0.85594139]\n",
            " [0.85805742]\n",
            " [0.84655724]\n",
            " [0.84746379]\n",
            " [0.84177316]\n",
            " [0.83427392]\n",
            " [0.83494934]\n",
            " [0.81122642]\n",
            " [0.80258951]\n",
            " [0.81296099]\n",
            " [0.80960181]\n",
            " [0.81236859]\n",
            " [0.80904532]\n",
            " [0.81518473]\n",
            " [0.82714044]\n",
            " [0.82854963]\n",
            " [0.80764734]\n",
            " [0.84068036]\n",
            " [0.83928463]\n",
            " [0.81817366]\n",
            " [0.79934701]\n",
            " [0.80447441]\n",
            " [0.80594195]\n",
            " [0.8208058 ]\n",
            " [0.82593544]\n",
            " [0.83196042]\n",
            " [0.85140414]\n",
            " [0.86046966]\n",
            " [0.83679386]\n",
            " [0.83161934]\n",
            " [0.84225112]\n",
            " [0.84900313]\n",
            " [0.84448608]\n",
            " [0.8341864 ]\n",
            " [0.85447161]\n",
            " [0.8557888 ]\n",
            " [0.84907942]\n",
            " [0.84083744]\n",
            " [0.83345937]\n",
            " [0.83519393]\n",
            " [0.82679936]\n",
            " [0.8274703 ]\n",
            " [0.83553501]\n",
            " [0.83791583]\n",
            " [0.85326213]\n",
            " [0.85962369]\n",
            " [0.84923874]\n",
            " [0.85483961]\n",
            " [0.85473864]\n",
            " [0.84827834]\n",
            " [0.85472966]\n",
            " [0.83877975]\n",
            " [0.84325192]\n",
            " [0.84264381]\n",
            " [0.8374289 ]\n",
            " [0.84438286]\n",
            " [0.84497302]\n",
            " [0.83730323]\n",
            " [0.83015853]\n",
            " [0.83051083]\n",
            " [0.85036071]\n",
            " [0.84442101]\n",
            " [0.83990845]\n",
            " [0.84867776]\n",
            " [0.85679408]\n",
            " [0.87764925]\n",
            " [0.8690774 ]\n",
            " [0.85875753]\n",
            " [0.86090722]\n",
            " [0.85545445]\n",
            " [0.85333842]\n",
            " [0.84637772]\n",
            " [0.84963816]\n",
            " [0.83956064]\n",
            " [0.84357504]\n",
            " [0.83483041]\n",
            " [0.85382535]\n",
            " [0.85306017]\n",
            " [0.86310404]\n",
            " [0.87723412]\n",
            " [0.86330151]\n",
            " [0.85788913]\n",
            " [0.86657766]\n",
            " [0.85221645]\n",
            " [0.85472966]\n",
            " [0.85590997]\n",
            " [0.84535224]\n",
            " [0.84872937]\n",
            " [0.86194392]\n",
            " [0.86769289]\n",
            " [0.85609398]\n",
            " [0.85763781]\n",
            " [0.85130766]\n",
            " [0.86270686]\n",
            " [0.87052923]\n",
            " [0.87802399]\n",
            " [0.87087256]\n",
            " [0.88913597]\n",
            " [0.87862312]\n",
            " [0.87597078]\n",
            " [0.88053495]\n",
            " [0.88796015]\n",
            " [0.88201147]\n",
            " [0.87356079]\n",
            " [0.88282602]\n",
            " [0.87258244]\n",
            " [0.86966307]\n",
            " [0.86865779]\n",
            " [0.8723199 ]\n",
            " [0.86851193]\n",
            " [0.87716905]\n",
            " [0.87394675]\n",
            " [0.8863131 ]\n",
            " [0.88440126]\n",
            " [0.88224484]\n",
            " [0.88322319]\n",
            " [0.88406467]\n",
            " [0.8768549 ]\n",
            " [0.87831794]\n",
            " [0.87550853]\n",
            " [0.87368197]\n",
            " [0.87072221]\n",
            " [0.87498345]\n",
            " [0.88004578]\n",
            " [0.87788038]\n",
            " [0.87425417]\n",
            " [0.87375826]\n",
            " [0.8740208 ]\n",
            " [0.87736427]\n",
            " [0.88193068]\n",
            " [0.87849746]\n",
            " [0.86817085]\n",
            " [0.86166568]\n",
            " [0.85909412]\n",
            " [0.844053  ]\n",
            " [0.85986155]\n",
            " [0.85668189]\n",
            " [0.85999619]\n",
            " [0.8737246 ]\n",
            " [0.87158388]\n",
            " [0.88197108]\n",
            " [0.88213264]\n",
            " [0.89616623]\n",
            " [0.91965802]\n",
            " [0.91574684]\n",
            " [0.93899629]\n",
            " [0.94585376]\n",
            " [0.93081937]\n",
            " [0.92795386]\n",
            " [0.93030327]\n",
            " [0.93306107]\n",
            " [0.92911847]\n",
            " [0.93364674]\n",
            " [0.9324395 ]\n",
            " [0.9389918 ]\n",
            " [0.92720215]\n",
            " [0.92910725]\n",
            " [0.92827699]\n",
            " [0.93483378]\n",
            " [0.93899629]\n",
            " [0.93184934]\n",
            " [0.92837348]\n",
            " [0.93136914]\n",
            " [0.91983081]\n",
            " [0.9165569 ]\n",
            " [0.92406961]\n",
            " [0.92387663]\n",
            " [0.90581292]\n",
            " [0.89721864]\n",
            " [0.87429007]\n",
            " [0.88880387]\n",
            " [0.88637144]\n",
            " [0.88367198]\n",
            " [0.89490963]\n",
            " [0.88582841]\n",
            " [0.88831918]\n",
            " [0.88749565]\n",
            " [0.89239417]\n",
            " [0.89748342]\n",
            " [0.90616971]\n",
            " [0.89446533]\n",
            " [0.89151679]\n",
            " [0.90826106]\n",
            " [0.90065186]\n",
            " [0.9079671 ]\n",
            " [0.90769559]\n",
            " [0.90389211]\n",
            " [0.8919566 ]\n",
            " [0.88258143]\n",
            " [0.89632779]\n",
            " [0.88960944]\n",
            " [0.87560727]\n",
            " [0.87820126]\n",
            " [0.88067184]\n",
            " [0.87989319]\n",
            " [0.8871456 ]\n",
            " [0.88879714]\n",
            " [0.88273626]\n",
            " [0.88043398]\n",
            " [0.87760886]\n",
            " [0.88118794]\n",
            " [0.89858295]\n",
            " [0.88417238]\n",
            " [0.87386148]\n",
            " [0.88128667]\n",
            " [0.89021755]\n",
            " [0.88582392]\n",
            " [0.88240864]\n",
            " [0.87569702]\n",
            " [0.86795095]\n",
            " [0.86813944]\n",
            " [0.86204939]\n",
            " [0.8759102 ]\n",
            " [0.86991439]\n",
            " [0.8668963 ]\n",
            " [0.85664374]\n",
            " [0.85876202]\n",
            " [0.86333965]\n",
            " [0.8672845 ]\n",
            " [0.86845583]\n",
            " [0.87959026]\n",
            " [0.87872185]\n",
            " [0.87510014]\n",
            " [0.86968551]\n",
            " [0.88488146]\n",
            " [0.88620539]\n",
            " [0.89477723]\n",
            " [0.8947907 ]\n",
            " [0.8905519 ]\n",
            " [0.88933793]\n",
            " [0.92331564]\n",
            " [0.91891752]\n",
            " [0.92656711]\n",
            " [0.9165569 ]\n",
            " [0.91337275]\n",
            " [0.91742306]\n",
            " [0.91218346]\n",
            " [0.89923145]\n",
            " [0.89830695]\n",
            " [0.89875574]\n",
            " [0.8993975 ]\n",
            " [0.89853134]\n",
            " [0.90373504]\n",
            " [0.90447329]\n",
            " [0.90006844]\n",
            " [0.89959273]\n",
            " [0.9037126 ]\n",
            " [0.89977897]\n",
            " [0.9040245 ]\n",
            " [0.90100192]\n",
            " [0.90450471]\n",
            " [0.91248191]\n",
            " [0.90728719]\n",
            " [0.91128365]\n",
            " [0.91471238]\n",
            " [0.92338072]\n",
            " [0.94323957]\n",
            " [0.92503674]\n",
            " [0.91489863]\n",
            " [0.89077405]\n",
            " [0.8978604 ]\n",
            " [0.89346902]\n",
            " [0.88325685]\n",
            " [0.88229645]\n",
            " [0.87662377]\n",
            " [0.85150961]\n",
            " [0.85370194]\n",
            " [0.83201427]\n",
            " [0.82562802]\n",
            " [0.83666371]\n",
            " [0.82732668]\n",
            " [0.82172806]\n",
            " [0.8308003 ]\n",
            " [0.85603339]\n",
            " [0.86591121]\n",
            " [0.86359546]\n",
            " [0.87167813]\n",
            " [0.85435044]\n",
            " [0.85546567]\n",
            " [0.82804923]\n",
            " [0.82072053]\n",
            " [0.80657698]\n",
            " [0.8078852 ]\n",
            " [0.82236758]\n",
            " [0.81020094]\n",
            " [0.80133739]\n",
            " [0.8171392 ]\n",
            " [0.83759495]\n",
            " [0.81316519]\n",
            " [0.81496707]\n",
            " [0.80601151]\n",
            " [0.79739928]\n",
            " [0.8198813 ]\n",
            " [0.81602621]\n",
            " [0.81631119]\n",
            " [0.82155752]\n",
            " [0.83057591]\n",
            " [0.82181781]\n",
            " [0.84754681]\n",
            " [0.84871142]\n",
            " [0.84377251]\n",
            " [0.85003085]\n",
            " [0.86154899]\n",
            " [0.86337556]\n",
            " [0.85420682]\n",
            " [0.85729673]\n",
            " [0.85089701]\n",
            " [0.83686342]\n",
            " [0.85807313]\n",
            " [0.85680755]\n",
            " [0.85705438]\n",
            " [0.84653255]\n",
            " [0.84467457]\n",
            " [0.84846907]\n",
            " [0.83767124]\n",
            " [0.84179111]\n",
            " [0.84229151]\n",
            " [0.82479328]\n",
            " [0.82807616]\n",
            " [0.84137598]\n",
            " [0.84475087]\n",
            " [0.84720125]\n",
            " [0.83360747]\n",
            " [0.8379652 ]\n",
            " [0.83487978]\n",
            " [0.84192799]\n",
            " [0.84993436]\n",
            " [0.85139292]\n",
            " [0.84603664]\n",
            " [0.85348203]\n",
            " [0.86152431]\n",
            " [0.85723614]\n",
            " [0.85639018]\n",
            " [0.85508645]\n",
            " [0.85327783]\n",
            " [0.85463766]\n",
            " [0.85073769]\n",
            " [0.85475883]\n",
            " [0.84699481]\n",
            " [0.84522658]\n",
            " [0.83964366]\n",
            " [0.83638995]\n",
            " [0.83632263]\n",
            " [0.83231496]\n",
            " [0.84130418]\n",
            " [0.84865308]\n",
            " [0.86088927]\n",
            " [0.85598402]\n",
            " [0.8484399 ]\n",
            " [0.84968529]\n",
            " [0.84841297]\n",
            " [0.84851844]\n",
            " [0.85117077]\n",
            " [0.86224461]\n",
            " [0.86174421]\n",
            " [0.85598178]\n",
            " [0.86325214]\n",
            " [0.86230744]\n",
            " [0.85818981]\n",
            " [0.84704417]\n",
            " [0.85280212]\n",
            " [0.85130766]\n",
            " [0.84260791]\n",
            " [0.83957186]\n",
            " [0.85104736]\n",
            " [0.84536122]\n",
            " [0.85233987]\n",
            " [0.85708355]\n",
            " [0.86011287]\n",
            " [0.85784874]\n",
            " [0.87167813]\n",
            " [0.88789507]\n",
            " [0.87095558]\n",
            " [0.86708479]\n",
            " [0.86239047]\n",
            " [0.86314892]\n",
            " [0.86248696]\n",
            " [0.86327682]\n",
            " [0.87329377]\n",
            " [0.87251736]\n",
            " [0.87193394]\n",
            " [0.86914023]\n",
            " [0.85098228]\n",
            " [0.86565091]\n",
            " [0.88287314]\n",
            " [0.87376724]\n",
            " [0.87472764]\n",
            " [0.88104657]\n",
            " [0.89130137]\n",
            " [0.88982486]\n",
            " [0.89032077]\n",
            " [0.89050702]\n",
            " [0.88900582]\n",
            " [0.89288335]\n",
            " [0.8805013 ]\n",
            " [0.87801726]\n",
            " [0.8823144 ]\n",
            " [0.89813192]\n",
            " [0.89788733]\n",
            " [0.89038809]\n",
            " [0.88767292]\n",
            " [0.89300452]\n",
            " [0.88710072]\n",
            " [0.88273401]\n",
            " [0.88060676]\n",
            " [0.87939503]\n",
            " [0.87673148]\n",
            " [0.88710072]\n",
            " [0.87463564]\n",
            " [0.87459301]\n",
            " [0.87064143]\n",
            " [0.86840422]\n",
            " [0.86094313]\n",
            " [0.85820328]\n",
            " [0.85129419]\n",
            " [0.85742239]\n",
            " [0.86795992]\n",
            " [0.86413176]\n",
            " [0.8572339 ]\n",
            " [0.85021037]\n",
            " [0.85372662]\n",
            " [0.85888319]\n",
            " [0.865247  ]\n",
            " [0.85433248]\n",
            " [0.84981319]\n",
            " [0.84169687]\n",
            " [0.84368724]\n",
            " [0.8481078 ]\n",
            " [0.84899415]\n",
            " [0.84437164]\n",
            " [0.84756925]\n",
            " [0.8501251 ]\n",
            " [0.85200776]\n",
            " [0.84997027]\n",
            " [0.85075565]\n",
            " [0.85057389]\n",
            " [0.85174074]\n",
            " [0.83961   ]\n",
            " [0.83845662]\n",
            " [0.84154652]\n",
            " [0.82668043]\n",
            " [0.83193349]\n",
            " [0.83420211]\n",
            " [0.82608354]\n",
            " [0.82621145]\n",
            " [0.83210179]\n",
            " [0.84252039]\n",
            " [0.85451649]\n",
            " [0.85063896]\n",
            " [0.85203469]\n",
            " [0.85035174]\n",
            " [0.85678287]\n",
            " [0.84827609]\n",
            " [0.834983  ]\n",
            " [0.83176519]\n",
            " [0.83113016]\n",
            " [0.83247877]\n",
            " [0.83390142]\n",
            " [0.83956737]\n",
            " [0.83066118]\n",
            " [0.83383411]\n",
            " [0.84337084]\n",
            " [0.84754681]\n",
            " [0.85618598]\n",
            " [0.85409687]\n",
            " [0.86011063]\n",
            " [0.85930954]\n",
            " [0.85732365]\n",
            " [0.86179134]\n",
            " [0.85028891]\n",
            " [0.85568782]\n",
            " [0.84245083]\n",
            " [0.83313624]\n",
            " [0.83632937]\n",
            " [0.82684424]\n",
            " [0.83049064]\n",
            " [0.83046371]\n",
            " [0.83046371]\n",
            " [0.83141963]\n",
            " [0.82867978]\n",
            " [0.82679936]\n",
            " [0.82679936]\n",
            " [0.84173053]\n",
            " [0.8498648 ]\n",
            " [0.84423476]\n",
            " [0.83670186]\n",
            " [0.84686914]\n",
            " [0.8492163 ]\n",
            " [0.84890215]\n",
            " [0.85820328]\n",
            " [0.85244982]\n",
            " [0.84609723]\n",
            " [0.8460546 ]\n",
            " [0.85458829]\n",
            " [0.86283477]\n",
            " [0.86678186]]\n"
          ]
        }
      ]
    },
    {
      "cell_type": "code",
      "metadata": {
        "id": "VYkZBSkHOZiR"
      },
      "source": [
        ""
      ],
      "execution_count": null,
      "outputs": []
    },
    {
      "cell_type": "markdown",
      "metadata": {
        "id": "InbjlC2IlFqc"
      },
      "source": [
        "## **Odredjivanje ciljne promenljive**"
      ]
    },
    {
      "cell_type": "code",
      "metadata": {
        "id": "4x8ADxLLj2Gh"
      },
      "source": [
        "##### DELETE\n",
        "\n",
        "def determine_x_and_y(dataset):\n",
        "  X = []\n",
        "  y = []\n",
        "\n",
        "  df = pd.DataFrame()\n",
        "\n",
        "  for i in range(60, dataset.shape[0]):\n",
        "    X.append(dataset[i-60:i])\n",
        "    y.append(dataset[i,0])\n",
        "  \n",
        "  return X, y\n",
        "\n",
        "# train.shape = 100\n",
        "# i in (60, 100)\n",
        "# x_train.append(train[i-60:i])\n",
        "# y_train.append(train[i, 0])\n",
        "\n",
        "# i = 61\n",
        "# x_train - train[1:61]\n",
        "# y_train - train[61, 0]\n",
        "\n",
        "# i = 62\n",
        "# x_train - train[1:61] + train[2:62]\n",
        "# y_train - train[61, 0] + train[62, 0]\n",
        "\n",
        "# ...\n",
        "\n",
        "# i = 99\n",
        "# x_train - train[1:61] + train[2:62] + ... + train[33:99]\n",
        "# y_train - train[61, 0] + train[62, 0] + ... + train[99, 0]\n"
      ],
      "execution_count": 14,
      "outputs": []
    },
    {
      "cell_type": "code",
      "metadata": {
        "id": "-bVjETQ9PXIv"
      },
      "source": [
        "# Odredjivanje ciljne promenljive na train skupu\n",
        "\n",
        "X_train, y_train = determine_x_and_y(dataset = train_)\n",
        "\n",
        "\n",
        "# Odredjivanje ciljne promenljive na validacionom skupu\n",
        "\n",
        "X_validation, y_validation = determine_x_and_y(dataset = validation_)\n",
        "\n",
        "\n",
        "# Odredjivanje ciljne promenljive na test skupu\n",
        "\n",
        "X_test, y_test = determine_x_and_y(dataset = test_)"
      ],
      "execution_count": 15,
      "outputs": []
    },
    {
      "cell_type": "code",
      "metadata": {
        "id": "gAG1YTd6yw34"
      },
      "source": [
        "# Konverzija u np.array\n",
        "\n",
        "X_train, y_train = np.array(X_train), np.array(y_train)\n",
        "X_validation, y_validation = np.array(X_validation), np.array(y_validation)\n",
        "X_test, y_test = np.array(X_test), np.array(y_test)"
      ],
      "execution_count": 16,
      "outputs": []
    },
    {
      "cell_type": "code",
      "metadata": {
        "colab": {
          "base_uri": "https://localhost:8080/"
        },
        "id": "uJ-ULtT3y1vi",
        "outputId": "3b8130d1-0e79-4bfd-e7a3-75993374dbcf"
      },
      "source": [
        "# Dimenzije X_train\n",
        "\n",
        "X_train.shape"
      ],
      "execution_count": 17,
      "outputs": [
        {
          "output_type": "execute_result",
          "data": {
            "text/plain": [
              "(2238, 60, 1)"
            ]
          },
          "metadata": {},
          "execution_count": 17
        }
      ]
    },
    {
      "cell_type": "markdown",
      "metadata": {
        "id": "v38-_t3flcLM"
      },
      "source": [
        "## **Kreiranje, kompilacija i treniranje mreze**"
      ]
    },
    {
      "cell_type": "markdown",
      "metadata": {
        "id": "HNthz4cil_oG"
      },
      "source": [
        "### **Kreiranje mreze**"
      ]
    },
    {
      "cell_type": "code",
      "metadata": {
        "id": "lfeVY4ggy3Az"
      },
      "source": [
        "# Definicija funkcije koja kreira i vraca model mreze\n",
        "\n",
        "def build_net(input_1 = X_train.shape[1], input_2 = X_train.shape[2]):\n",
        "\n",
        "  net = Sequential()\n",
        "  net.add(LSTM(units = 50, activation = 'relu', return_sequences = True, input_shape = (input_1, input_2)))\n",
        "  net.add(Dropout(0.2))\n",
        "  net.add(LSTM(units = 60, activation = 'relu', return_sequences = True))\n",
        "  net.add(Dropout(0.3))\n",
        "\n",
        "  net.add(LSTM(units = 80, activation = 'relu', return_sequences = True))\n",
        "  net.add(Dropout(0.4))\n",
        "\n",
        "  net.add(LSTM(units = 120, activation = 'relu'))\n",
        "  net.add(Dropout(0.5))\n",
        "\n",
        "  net.add(Dense(units =1))\n",
        "  print(net.summary())\n",
        "\n",
        "  return net\n"
      ],
      "execution_count": 18,
      "outputs": []
    },
    {
      "cell_type": "code",
      "metadata": {
        "colab": {
          "base_uri": "https://localhost:8080/"
        },
        "id": "1UBUjLyNh5KP",
        "outputId": "5939cd28-b119-4e37-875f-18bc3a628509"
      },
      "source": [
        "# Kreiranje modela mreze\n",
        "\n",
        "net = build_net(input_1 = X_train.shape[1], input_2 = X_train.shape[2])"
      ],
      "execution_count": 19,
      "outputs": [
        {
          "output_type": "stream",
          "name": "stdout",
          "text": [
            "Model: \"sequential\"\n",
            "_________________________________________________________________\n",
            "Layer (type)                 Output Shape              Param #   \n",
            "=================================================================\n",
            "lstm (LSTM)                  (None, 60, 50)            10400     \n",
            "_________________________________________________________________\n",
            "dropout (Dropout)            (None, 60, 50)            0         \n",
            "_________________________________________________________________\n",
            "lstm_1 (LSTM)                (None, 60, 60)            26640     \n",
            "_________________________________________________________________\n",
            "dropout_1 (Dropout)          (None, 60, 60)            0         \n",
            "_________________________________________________________________\n",
            "lstm_2 (LSTM)                (None, 60, 80)            45120     \n",
            "_________________________________________________________________\n",
            "dropout_2 (Dropout)          (None, 60, 80)            0         \n",
            "_________________________________________________________________\n",
            "lstm_3 (LSTM)                (None, 120)               96480     \n",
            "_________________________________________________________________\n",
            "dropout_3 (Dropout)          (None, 120)               0         \n",
            "_________________________________________________________________\n",
            "dense (Dense)                (None, 1)                 121       \n",
            "=================================================================\n",
            "Total params: 178,761\n",
            "Trainable params: 178,761\n",
            "Non-trainable params: 0\n",
            "_________________________________________________________________\n",
            "None\n"
          ]
        }
      ]
    },
    {
      "cell_type": "markdown",
      "metadata": {
        "id": "30h12bNEmP83"
      },
      "source": [
        "### **Kompilacija i treniranje mreze**"
      ]
    },
    {
      "cell_type": "code",
      "metadata": {
        "id": "W1PIqBXAb8LA"
      },
      "source": [
        "# Definicija funkcije za kompilaciju i treniranje mreze\n",
        "# Treniranje je moguce vrsiti sa ili bez validacije\n",
        "\n",
        "def compile_and_fit(optimizer, loss, metrics, X_train_, y_train_, epochs, validation, validation_data = None, batch_size = 50, patience = 3):\n",
        "\n",
        "  net.compile(optimizer = optimizer, loss = loss, metrics = metrics)\n",
        "\n",
        "  callback = callbacks.EarlyStopping(monitor = 'loss', patience = patience)\n",
        "\n",
        "  if validation == 0:\n",
        "    history = net.fit(X_train_, y_train_, epochs = epochs, batch_size = batch_size, callbacks=[callback])\n",
        "  else:\n",
        "    history = net.fit(X_train_, y_train_, epochs = epochs, validation_data = validation_data, batch_size = batch_size, callbacks=[callback])\n",
        "\n",
        "  return history, net\n"
      ],
      "execution_count": 24,
      "outputs": []
    },
    {
      "cell_type": "code",
      "metadata": {
        "colab": {
          "base_uri": "https://localhost:8080/"
        },
        "id": "VWL-DLbIlrbw",
        "outputId": "edd51662-a53d-4b3e-a9ea-907af5029d76"
      },
      "source": [
        "# Kompilacija i treniranje mreze sa validacijom\n",
        "\n",
        "history_validation, net_validation = compile_and_fit(optimizer = 'adam', loss = 'mean_squared_error', metrics = ['mse', 'mae'], X_train_ = X_train, y_train_ = y_train, epochs = 20, validation = 1, validation_data = (X_validation, y_validation), batch_size = 50, patience=3)\n",
        "\n",
        "\n",
        "# Kompilacija i treniranje mreze bez validacije\n",
        "\n",
        "history_no_validation, net_no_validation = compile_and_fit(optimizer = 'adam', loss = 'mean_squared_error', metrics = ['mse', 'mae'], X_train_ = X_train, y_train_ = y_train, epochs = 20, validation = 0, batch_size = 50, patience=3)\n"
      ],
      "execution_count": 25,
      "outputs": [
        {
          "output_type": "stream",
          "name": "stdout",
          "text": [
            "Epoch 1/20\n",
            "45/45 [==============================] - 16s 244ms/step - loss: 0.0098 - mse: 0.0098 - mae: 0.0738 - val_loss: 0.0054 - val_mse: 0.0054 - val_mae: 0.0707\n",
            "Epoch 2/20\n",
            "45/45 [==============================] - 10s 228ms/step - loss: 0.0052 - mse: 0.0052 - mae: 0.0554 - val_loss: 0.0032 - val_mse: 0.0032 - val_mae: 0.0525\n",
            "Epoch 3/20\n",
            "45/45 [==============================] - 10s 228ms/step - loss: 0.0051 - mse: 0.0051 - mae: 0.0536 - val_loss: 0.0038 - val_mse: 0.0038 - val_mae: 0.0587\n",
            "Epoch 4/20\n",
            "45/45 [==============================] - 10s 231ms/step - loss: 0.0055 - mse: 0.0055 - mae: 0.0567 - val_loss: 0.0179 - val_mse: 0.0179 - val_mae: 0.1323\n",
            "Epoch 5/20\n",
            "45/45 [==============================] - 10s 228ms/step - loss: 0.0054 - mse: 0.0054 - mae: 0.0555 - val_loss: 0.0089 - val_mse: 0.0089 - val_mae: 0.0922\n",
            "Epoch 6/20\n",
            "45/45 [==============================] - 10s 230ms/step - loss: 0.0052 - mse: 0.0052 - mae: 0.0549 - val_loss: 0.0121 - val_mse: 0.0121 - val_mae: 0.1082\n",
            "Epoch 1/20\n",
            "45/45 [==============================] - 14s 213ms/step - loss: 0.0064 - mse: 0.0064 - mae: 0.0602\n",
            "Epoch 2/20\n",
            "45/45 [==============================] - 10s 212ms/step - loss: 0.0049 - mse: 0.0049 - mae: 0.0534\n",
            "Epoch 3/20\n",
            "45/45 [==============================] - 10s 212ms/step - loss: 0.0043 - mse: 0.0043 - mae: 0.0503\n",
            "Epoch 4/20\n",
            "45/45 [==============================] - 10s 212ms/step - loss: 0.0048 - mse: 0.0048 - mae: 0.0534\n",
            "Epoch 5/20\n",
            "45/45 [==============================] - 10s 211ms/step - loss: 0.0045 - mse: 0.0045 - mae: 0.0512\n",
            "Epoch 6/20\n",
            "45/45 [==============================] - 10s 213ms/step - loss: 0.0047 - mse: 0.0047 - mae: 0.0525\n"
          ]
        }
      ]
    },
    {
      "cell_type": "markdown",
      "metadata": {
        "id": "pjo3QnGVsKpt"
      },
      "source": [
        "## **Predvidjanje**"
      ]
    },
    {
      "cell_type": "code",
      "metadata": {
        "colab": {
          "base_uri": "https://localhost:8080/"
        },
        "id": "IkU6jqFNrrUZ",
        "outputId": "ea8a20f9-64c0-48ed-a32b-704caf6872ba"
      },
      "source": [
        "# Predvidjanje za mrezu treniranu bez i sa validacijom\n",
        "\n",
        "# Bez validacije\n",
        "y_predicted_no_validation = net_no_validation.predict(X_test)\n",
        "print('Predvidjene vrednosti (prvih 10) - bez validacije:\\n', y_predicted_no_validation[:10])\n",
        "\n",
        "# Sa validacijom\n",
        "y_predicted_validation = net_validation.predict(X_test)\n",
        "print('\\nPredvidjene vrednosti (prvih 10) - sa validacijom:\\n', y_predicted_validation[:10])"
      ],
      "execution_count": 26,
      "outputs": [
        {
          "output_type": "stream",
          "name": "stdout",
          "text": [
            "Predvidjene vrednosti (prvih 10) - bez validacije:\n",
            " [[0.7939732 ]\n",
            " [0.793577  ]\n",
            " [0.7928764 ]\n",
            " [0.7919604 ]\n",
            " [0.790928  ]\n",
            " [0.7898187 ]\n",
            " [0.7886526 ]\n",
            " [0.7874226 ]\n",
            " [0.78613263]\n",
            " [0.7848194 ]]\n",
            "\n",
            "Predvidjene vrednosti (prvih 10) - sa validacijom:\n",
            " [[0.7939732 ]\n",
            " [0.793577  ]\n",
            " [0.7928764 ]\n",
            " [0.7919604 ]\n",
            " [0.790928  ]\n",
            " [0.7898187 ]\n",
            " [0.7886526 ]\n",
            " [0.7874226 ]\n",
            " [0.78613263]\n",
            " [0.7848194 ]]\n"
          ]
        }
      ]
    },
    {
      "cell_type": "markdown",
      "metadata": {
        "id": "Vtwv1-mtsie5"
      },
      "source": [
        "## **Vizualizacija rezultata predvidjanja i metrika**"
      ]
    },
    {
      "cell_type": "markdown",
      "metadata": {
        "id": "6jO28lmsKs_i"
      },
      "source": [
        "### **Vizuelni prikaz predvidjene i stvarne vrednosti**"
      ]
    },
    {
      "cell_type": "code",
      "metadata": {
        "id": "rpuCAGCxzAat"
      },
      "source": [
        "# Vizuelni prikaz rezultata modela mreze\n",
        "\n",
        "def plot_real_vs_predicted_data(test_set, predicted_set):\n",
        "\n",
        "  fig, ax = plt.subplots(1, figsize=(7, 5))\n",
        "  ax.plot(test_set, label='Stvarna vrednost BTC', linewidth=2)\n",
        "  ax.plot(predicted_set, label='Predvidjena vrednost BTC', linewidth=2)\n",
        "  ax.set_xlabel('Redni broj instance', fontsize=14)\n",
        "  ax.set_ylabel('Cena [USD]', fontsize=14)\n",
        "  ax.set_title(label = 'Vizuelni prikaz stvarne i predvidjene vrednosti BTC', fontsize=18)\n",
        "  ax.legend(loc='best')\n",
        "\n",
        "  # test = test.reset_index()\n",
        "  # x = test.index\n"
      ],
      "execution_count": 45,
      "outputs": []
    },
    {
      "cell_type": "code",
      "metadata": {
        "id": "Y00aB5VXZmkt"
      },
      "source": [
        ""
      ],
      "execution_count": 43,
      "outputs": []
    },
    {
      "cell_type": "code",
      "metadata": {
        "colab": {
          "base_uri": "https://localhost:8080/",
          "height": 699
        },
        "id": "iEnWZYr6zAhG",
        "outputId": "1a4bd72b-ecb8-4402-ad42-0c780ed61604"
      },
      "source": [
        "# Plotovanje stvarne i predvidjene vrednosti\n",
        "\n",
        "test_set = scaler.inverse_transform(y_test.reshape(-1,1))\n",
        "no_validation_data = scaler.inverse_transform(y_predicted_no_validation.reshape(-1,1))\n",
        "validation_data = scaler.inverse_transform(y_predicted_validation.reshape(-1,1))\n",
        "\n",
        "# Bez validacije\n",
        "plot_real_vs_predicted_data(test_set = test_set, predicted_set = no_validation_data)\n",
        "\n",
        "# Sa validacijom\n",
        "plot_real_vs_predicted_data(test_set = test_set, predicted_set = validation_data)"
      ],
      "execution_count": 46,
      "outputs": [
        {
          "output_type": "display_data",
          "data": {
            "image/png": "[encoded data removed]",
            "text/plain": [
              "<Figure size 504x360 with 1 Axes>"
            ]
          },
          "metadata": {
            "needs_background": "light"
          }
        },
        {
          "output_type": "display_data",
          "data": {
            "image/png": "[encoded data removed]",
            "text/plain": [
              "<Figure size 504x360 with 1 Axes>"
            ]
          },
          "metadata": {
            "needs_background": "light"
          }
        }
      ]
    },
    {
      "cell_type": "markdown",
      "metadata": {
        "id": "3CKEFJKmCHrB"
      },
      "source": [
        "### **Vizuelni prikaz gubitka, tacnosti i srednje apsolutne greske tokom treniranja mreze (sa i bez validacije)**"
      ]
    },
    {
      "cell_type": "code",
      "metadata": {
        "id": "JLp_Ems1zAja"
      },
      "source": [
        "# Vizuelni prikaz gubitka\n",
        "\n",
        "def plot_loss(history_):\n",
        "\n",
        "  epochs = range(len(history_.history['loss'])) # broj epoha\n",
        "  plt.title('Vizuelni prikaz gubitka (loss)')\n",
        "  plt.xlabel('broj epohe')\n",
        "  plt.ylabel('gubitak')\n",
        "\n",
        "  plt.plot(epochs, history_.history['loss'], label='Gubitak (loss) tokom treniranja')\n",
        "\n",
        "  if 'val_loss' in history_.history:\n",
        "    plt.plot(epochs, history_.history['val_loss'], label='Gubitak (val_loss) tokom treniranja sa validacijom')\n",
        "\n",
        "  plt.legend(loc = 'best')\n",
        "\n",
        "  plt.show()\n"
      ],
      "execution_count": 29,
      "outputs": []
    },
    {
      "cell_type": "code",
      "metadata": {
        "id": "bYAfGLYxCCS3"
      },
      "source": [
        "# Vizuelni prikaz tacnosti\n",
        "\n",
        "def plot_mse(history_):\n",
        "\n",
        "  epochs = range(len(history_.history['mse'])) # broj epoha\n",
        "  plt.title('Vizuelni prikaz MSE (mse')\n",
        "  plt.xlabel('broj epohe')\n",
        "  plt.ylabel('tacnost')\n",
        "  \n",
        "  plt.plot(epochs, history_.history['mse'], label='MSE (mse) tokom treniranja')\n",
        "\n",
        "  if 'val_mse' in history_.history:\n",
        "    plt.plot(epochs, history_.history['val_mse'], label='MSE (val_mse) tokom treniranja sa validacijom')\n",
        "\n",
        "  plt.legend(loc = 'best')\n",
        "\n",
        "  plt.show()\n"
      ],
      "execution_count": 30,
      "outputs": []
    },
    {
      "cell_type": "code",
      "metadata": {
        "id": "RI3Z5uaxCEIi"
      },
      "source": [
        "# Vizuelni prikaz MAE\n",
        "\n",
        "def plot_mae(history_):\n",
        "\n",
        "  epochs = range(len(history_.history['mae'])) # broj epoha\n",
        "  plt.title('Vizuelni prikaz MAE (mae')\n",
        "  plt.xlabel('broj epohe')\n",
        "  plt.ylabel('MAE')\n",
        "  \n",
        "  plt.plot(epochs, history_.history['mae'], label='MAE (mae) tokom treniranja')\n",
        "\n",
        "  if 'val_mae' in history_.history:\n",
        "    plt.plot(epochs, history_.history['val_mae'], label='MAE (val_mae) tokom treniranja sa validacijom')\n",
        "\n",
        "  plt.legend(loc = 'best')\n",
        "\n",
        "  plt.show()\n"
      ],
      "execution_count": 31,
      "outputs": []
    },
    {
      "cell_type": "code",
      "metadata": {
        "colab": {
          "base_uri": "https://localhost:8080/",
          "height": 295
        },
        "id": "hSHrmcQDBQcg",
        "outputId": "1ad64af7-bf0b-4825-9129-737d71cb03dc"
      },
      "source": [
        "# MAE\n",
        "\n",
        "plot_mae(history_no_validation)"
      ],
      "execution_count": 32,
      "outputs": [
        {
          "output_type": "display_data",
          "data": {
            "image/png": "[encoded data removed]",
            "text/plain": [
              "<Figure size 432x288 with 1 Axes>"
            ]
          },
          "metadata": {
            "needs_background": "light"
          }
        }
      ]
    },
    {
      "cell_type": "code",
      "metadata": {
        "colab": {
          "base_uri": "https://localhost:8080/",
          "height": 295
        },
        "id": "_TMAcQ_yGPgX",
        "outputId": "162ee234-1174-41fd-b561-51a7c6bf44d5"
      },
      "source": [
        "# MAE - sa validacijom\n",
        "\n",
        "plot_mae(history_validation)"
      ],
      "execution_count": 33,
      "outputs": [
        {
          "output_type": "display_data",
          "data": {
            "image/png": "[encoded data removed]",
            "text/plain": [
              "<Figure size 432x288 with 1 Axes>"
            ]
          },
          "metadata": {
            "needs_background": "light"
          }
        }
      ]
    },
    {
      "cell_type": "code",
      "metadata": {
        "colab": {
          "base_uri": "https://localhost:8080/",
          "height": 295
        },
        "id": "1BSAAKGSzAlx",
        "outputId": "154950ef-619e-40ca-c02d-f799c2083857"
      },
      "source": [
        "# Loss\n",
        "\n",
        "plot_loss(history_no_validation)"
      ],
      "execution_count": 34,
      "outputs": [
        {
          "output_type": "display_data",
          "data": {
            "image/png": "[encoded data removed]",
            "text/plain": [
              "<Figure size 432x288 with 1 Axes>"
            ]
          },
          "metadata": {
            "needs_background": "light"
          }
        }
      ]
    },
    {
      "cell_type": "code",
      "metadata": {
        "colab": {
          "base_uri": "https://localhost:8080/",
          "height": 295
        },
        "id": "rBTlwpP9y8JY",
        "outputId": "1bb4b52f-a430-4bd7-db76-44e9f06bdf7a"
      },
      "source": [
        "# Loss - sa validacijom\n",
        "\n",
        "plot_loss(history_validation)"
      ],
      "execution_count": 35,
      "outputs": [
        {
          "output_type": "display_data",
          "data": {
            "image/png": "[encoded data removed]",
            "text/plain": [
              "<Figure size 432x288 with 1 Axes>"
            ]
          },
          "metadata": {
            "needs_background": "light"
          }
        }
      ]
    },
    {
      "cell_type": "code",
      "metadata": {
        "colab": {
          "base_uri": "https://localhost:8080/",
          "height": 295
        },
        "id": "L2Sp1pspGgUm",
        "outputId": "ac80db71-e3c4-4cba-a7df-52815fce21c3"
      },
      "source": [
        "# MSE\n",
        "\n",
        "plot_mse(history_no_validation)"
      ],
      "execution_count": 36,
      "outputs": [
        {
          "output_type": "display_data",
          "data": {
            "image/png": "[encoded data removed]",
            "text/plain": [
              "<Figure size 432x288 with 1 Axes>"
            ]
          },
          "metadata": {
            "needs_background": "light"
          }
        }
      ]
    },
    {
      "cell_type": "code",
      "metadata": {
        "colab": {
          "base_uri": "https://localhost:8080/",
          "height": 295
        },
        "id": "clujvWNKGkIk",
        "outputId": "125c8940-e43a-4c50-b9c3-875f870b1858"
      },
      "source": [
        "# MSE - validation\n",
        "\n",
        "plot_mse(history_validation)"
      ],
      "execution_count": 37,
      "outputs": [
        {
          "output_type": "display_data",
          "data": {
            "image/png": "[encoded data removed]",
            "text/plain": [
              "<Figure size 432x288 with 1 Axes>"
            ]
          },
          "metadata": {
            "needs_background": "light"
          }
        }
      ]
    },
    {
      "cell_type": "code",
      "metadata": {
        "colab": {
          "base_uri": "https://localhost:8080/"
        },
        "id": "aNI6MXpPmwjw",
        "outputId": "42a9b0f8-1c4a-41d9-c8dc-bccd6606112d"
      },
      "source": [
        "# Loss, MSE, MAE nad skupom za testiranje\n",
        "\n",
        "# (za model koji pri treniranju koristi validaciju\n",
        "# i za model koji pri treniranju ne koristi validaciju)\n",
        "\n",
        "test_metrics_no_val = net_no_validation.evaluate(X_test, y_test)\n",
        "test_metrics_val = net_validation.evaluate(X_test, y_test)\n",
        "\n",
        "print('\\nMetrike prilikom testiranja - model treniran bez validacije\\n')\n",
        "print(net_no_validation.metrics_names[0], test_metrics_no_val[0])\n",
        "print(net_no_validation.metrics_names[1], test_metrics_no_val[1])\n",
        "print(net_no_validation.metrics_names[2], test_metrics_no_val[2])\n",
        "\n",
        "print('\\n\\nMetrike prilikom testiranja - model treniran sa validacijom\\n')\n",
        "print(net_validation.metrics_names[0], test_metrics_val[0])\n",
        "print(net_validation.metrics_names[1], test_metrics_val[1])\n",
        "print(net_validation.metrics_names[2], test_metrics_val[2])\n"
      ],
      "execution_count": 38,
      "outputs": [
        {
          "output_type": "stream",
          "name": "stdout",
          "text": [
            "17/17 [==============================] - 1s 46ms/step - loss: 0.0075 - mse: 0.0075 - mae: 0.0845\n",
            "17/17 [==============================] - 1s 49ms/step - loss: 0.0075 - mse: 0.0075 - mae: 0.0845\n",
            "\n",
            "Metrike prilikom testiranja - model treniran bez validacije\n",
            "\n",
            "loss 0.007511357311159372\n",
            "mse 0.007511357311159372\n",
            "mae 0.08445429056882858\n",
            "\n",
            "\n",
            "Metrike prilikom testiranja - model treniran sa validacijom\n",
            "\n",
            "loss 0.007511357311159372\n",
            "mse 0.007511357311159372\n",
            "mae 0.08445429056882858\n"
          ]
        }
      ]
    },
    {
      "cell_type": "code",
      "metadata": {
        "colab": {
          "base_uri": "https://localhost:8080/"
        },
        "id": "uL91CnFawYaf",
        "outputId": "44044c08-241a-49ff-f0bf-d0aa510db67a"
      },
      "source": [
        "# R2 skor nad skupom za testiranje\n",
        "\n",
        "r2 = metrics.r2_score(y_predicted_no_validation, y_test)\n",
        "r2_val = metrics.r2_score(y_predicted_validation, y_test)\n",
        "\n",
        "print('R2 skor prilikom testiranja - model treniran bez validacije', r2)\n",
        "print('R2 skor prilikom testiranja - model treniran sa validacijom', r2_val)"
      ],
      "execution_count": 39,
      "outputs": [
        {
          "output_type": "stream",
          "name": "stdout",
          "text": [
            "R2 skor prilikom testiranja - model treniran bez validacije -14.229146521684106\n",
            "R2 skor prilikom testiranja - model treniran sa validacijom -14.229146521684106\n"
          ]
        }
      ]
    }
  ]
}