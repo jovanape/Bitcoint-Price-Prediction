{
  "nbformat": 4,
  "nbformat_minor": 0,
  "metadata": {
    "colab": {
      "name": "rnn_close.ipynb",
      "provenance": [],
      "collapsed_sections": [],
      "authorship_tag": "ABX9TyPe5PQOUVUtIeNd7B3Mq6P6",
      "include_colab_link": true
    },
    "kernelspec": {
      "name": "python3",
      "display_name": "Python 3"
    },
    "language_info": {
      "name": "python"
    }
  },
  "cells": [
    {
      "cell_type": "markdown",
      "metadata": {
        "id": "view-in-github",
        "colab_type": "text"
      },
      "source": [
        "<a href=\"https://colab.research.google.com/github/jovanape/Bitcoint-Price-Prediction/blob/main/rnn_close.ipynb\" target=\"_parent\"><img src=\"https://colab.research.google.com/assets/colab-badge.svg\" alt=\"Open In Colab\"/></a>"
      ]
    },
    {
      "cell_type": "markdown",
      "metadata": {
        "id": "4_6hHjWjjzos"
      },
      "source": [
        "# **Predvidjanje vrednosti Bitcoina pomocu RNN**"
      ]
    },
    {
      "cell_type": "markdown",
      "metadata": {
        "id": "krvFQDwvkBdX"
      },
      "source": [
        "## **Ucitavanje biblioteka**"
      ]
    },
    {
      "cell_type": "code",
      "metadata": {
        "id": "iaSuiXq3HP1y"
      },
      "source": [
        "# Ucitavanje biblioteka\n",
        "\n",
        "import numpy as np \n",
        "import pandas as pd \n",
        "from matplotlib import pyplot as plt\n",
        "from sklearn.preprocessing import MinMaxScaler\n",
        "from sklearn import metrics\n",
        "from keras.models import Sequential\n",
        "from keras.layers import Dense\n",
        "from keras.layers import LSTM\n",
        "from keras.layers import Dropout"
      ],
      "execution_count": 5,
      "outputs": []
    },
    {
      "cell_type": "markdown",
      "metadata": {
        "id": "QsGhjvltjWcA"
      },
      "source": [
        "## **Ucitavanje skupa podataka i pretprocesiranje**"
      ]
    },
    {
      "cell_type": "code",
      "metadata": {
        "colab": {
          "base_uri": "https://localhost:8080/",
          "height": 202
        },
        "id": "_r4bteeIUcND",
        "outputId": "b0798251-fbb7-48c1-9260-55b9a2f63bbe"
      },
      "source": [
        "# Ucitavanje skupa podataka\n",
        "\n",
        "data = pd.read_csv('bitstampUSD_1-min_data_2012-01-01_to_2021-03-31.csv')\n",
        "data.head()"
      ],
      "execution_count": 6,
      "outputs": [
        {
          "output_type": "execute_result",
          "data": {
            "text/html": [
              "<div>\n",
              "<style scoped>\n",
              "    .dataframe tbody tr th:only-of-type {\n",
              "        vertical-align: middle;\n",
              "    }\n",
              "\n",
              "    .dataframe tbody tr th {\n",
              "        vertical-align: top;\n",
              "    }\n",
              "\n",
              "    .dataframe thead th {\n",
              "        text-align: right;\n",
              "    }\n",
              "</style>\n",
              "<table border=\"1\" class=\"dataframe\">\n",
              "  <thead>\n",
              "    <tr style=\"text-align: right;\">\n",
              "      <th></th>\n",
              "      <th>Timestamp</th>\n",
              "      <th>Open</th>\n",
              "      <th>High</th>\n",
              "      <th>Low</th>\n",
              "      <th>Close</th>\n",
              "      <th>Volume_(BTC)</th>\n",
              "      <th>Volume_(Currency)</th>\n",
              "      <th>Weighted_Price</th>\n",
              "    </tr>\n",
              "  </thead>\n",
              "  <tbody>\n",
              "    <tr>\n",
              "      <th>0</th>\n",
              "      <td>1325317920</td>\n",
              "      <td>4.39</td>\n",
              "      <td>4.39</td>\n",
              "      <td>4.39</td>\n",
              "      <td>4.39</td>\n",
              "      <td>0.455581</td>\n",
              "      <td>2.0</td>\n",
              "      <td>4.39</td>\n",
              "    </tr>\n",
              "    <tr>\n",
              "      <th>1</th>\n",
              "      <td>1325317980</td>\n",
              "      <td>NaN</td>\n",
              "      <td>NaN</td>\n",
              "      <td>NaN</td>\n",
              "      <td>NaN</td>\n",
              "      <td>NaN</td>\n",
              "      <td>NaN</td>\n",
              "      <td>NaN</td>\n",
              "    </tr>\n",
              "    <tr>\n",
              "      <th>2</th>\n",
              "      <td>1325318040</td>\n",
              "      <td>NaN</td>\n",
              "      <td>NaN</td>\n",
              "      <td>NaN</td>\n",
              "      <td>NaN</td>\n",
              "      <td>NaN</td>\n",
              "      <td>NaN</td>\n",
              "      <td>NaN</td>\n",
              "    </tr>\n",
              "    <tr>\n",
              "      <th>3</th>\n",
              "      <td>1325318100</td>\n",
              "      <td>NaN</td>\n",
              "      <td>NaN</td>\n",
              "      <td>NaN</td>\n",
              "      <td>NaN</td>\n",
              "      <td>NaN</td>\n",
              "      <td>NaN</td>\n",
              "      <td>NaN</td>\n",
              "    </tr>\n",
              "    <tr>\n",
              "      <th>4</th>\n",
              "      <td>1325318160</td>\n",
              "      <td>NaN</td>\n",
              "      <td>NaN</td>\n",
              "      <td>NaN</td>\n",
              "      <td>NaN</td>\n",
              "      <td>NaN</td>\n",
              "      <td>NaN</td>\n",
              "      <td>NaN</td>\n",
              "    </tr>\n",
              "  </tbody>\n",
              "</table>\n",
              "</div>"
            ],
            "text/plain": [
              "    Timestamp  Open  High  ...  Volume_(BTC)  Volume_(Currency)  Weighted_Price\n",
              "0  1325317920  4.39  4.39  ...      0.455581                2.0            4.39\n",
              "1  1325317980   NaN   NaN  ...           NaN                NaN             NaN\n",
              "2  1325318040   NaN   NaN  ...           NaN                NaN             NaN\n",
              "3  1325318100   NaN   NaN  ...           NaN                NaN             NaN\n",
              "4  1325318160   NaN   NaN  ...           NaN                NaN             NaN\n",
              "\n",
              "[5 rows x 8 columns]"
            ]
          },
          "metadata": {
            "tags": []
          },
          "execution_count": 6
        }
      ]
    },
    {
      "cell_type": "code",
      "metadata": {
        "colab": {
          "base_uri": "https://localhost:8080/",
          "height": 202
        },
        "id": "6I5dWQWgcziA",
        "outputId": "68fb80ca-8b57-41dd-eb29-189e3f698fa0"
      },
      "source": [
        "# Ciscenje podataka od NaN vrednosti\n",
        "\n",
        "data = data.dropna()\n",
        "data.head()"
      ],
      "execution_count": 7,
      "outputs": [
        {
          "output_type": "execute_result",
          "data": {
            "text/html": [
              "<div>\n",
              "<style scoped>\n",
              "    .dataframe tbody tr th:only-of-type {\n",
              "        vertical-align: middle;\n",
              "    }\n",
              "\n",
              "    .dataframe tbody tr th {\n",
              "        vertical-align: top;\n",
              "    }\n",
              "\n",
              "    .dataframe thead th {\n",
              "        text-align: right;\n",
              "    }\n",
              "</style>\n",
              "<table border=\"1\" class=\"dataframe\">\n",
              "  <thead>\n",
              "    <tr style=\"text-align: right;\">\n",
              "      <th></th>\n",
              "      <th>Timestamp</th>\n",
              "      <th>Open</th>\n",
              "      <th>High</th>\n",
              "      <th>Low</th>\n",
              "      <th>Close</th>\n",
              "      <th>Volume_(BTC)</th>\n",
              "      <th>Volume_(Currency)</th>\n",
              "      <th>Weighted_Price</th>\n",
              "    </tr>\n",
              "  </thead>\n",
              "  <tbody>\n",
              "    <tr>\n",
              "      <th>0</th>\n",
              "      <td>1325317920</td>\n",
              "      <td>4.39</td>\n",
              "      <td>4.39</td>\n",
              "      <td>4.39</td>\n",
              "      <td>4.39</td>\n",
              "      <td>0.455581</td>\n",
              "      <td>2.000000</td>\n",
              "      <td>4.390000</td>\n",
              "    </tr>\n",
              "    <tr>\n",
              "      <th>478</th>\n",
              "      <td>1325346600</td>\n",
              "      <td>4.39</td>\n",
              "      <td>4.39</td>\n",
              "      <td>4.39</td>\n",
              "      <td>4.39</td>\n",
              "      <td>48.000000</td>\n",
              "      <td>210.720000</td>\n",
              "      <td>4.390000</td>\n",
              "    </tr>\n",
              "    <tr>\n",
              "      <th>547</th>\n",
              "      <td>1325350740</td>\n",
              "      <td>4.50</td>\n",
              "      <td>4.57</td>\n",
              "      <td>4.50</td>\n",
              "      <td>4.57</td>\n",
              "      <td>37.862297</td>\n",
              "      <td>171.380338</td>\n",
              "      <td>4.526411</td>\n",
              "    </tr>\n",
              "    <tr>\n",
              "      <th>548</th>\n",
              "      <td>1325350800</td>\n",
              "      <td>4.58</td>\n",
              "      <td>4.58</td>\n",
              "      <td>4.58</td>\n",
              "      <td>4.58</td>\n",
              "      <td>9.000000</td>\n",
              "      <td>41.220000</td>\n",
              "      <td>4.580000</td>\n",
              "    </tr>\n",
              "    <tr>\n",
              "      <th>1224</th>\n",
              "      <td>1325391360</td>\n",
              "      <td>4.58</td>\n",
              "      <td>4.58</td>\n",
              "      <td>4.58</td>\n",
              "      <td>4.58</td>\n",
              "      <td>1.502000</td>\n",
              "      <td>6.879160</td>\n",
              "      <td>4.580000</td>\n",
              "    </tr>\n",
              "  </tbody>\n",
              "</table>\n",
              "</div>"
            ],
            "text/plain": [
              "       Timestamp  Open  High  ...  Volume_(BTC)  Volume_(Currency)  Weighted_Price\n",
              "0     1325317920  4.39  4.39  ...      0.455581           2.000000        4.390000\n",
              "478   1325346600  4.39  4.39  ...     48.000000         210.720000        4.390000\n",
              "547   1325350740  4.50  4.57  ...     37.862297         171.380338        4.526411\n",
              "548   1325350800  4.58  4.58  ...      9.000000          41.220000        4.580000\n",
              "1224  1325391360  4.58  4.58  ...      1.502000           6.879160        4.580000\n",
              "\n",
              "[5 rows x 8 columns]"
            ]
          },
          "metadata": {
            "tags": []
          },
          "execution_count": 7
        }
      ]
    },
    {
      "cell_type": "code",
      "metadata": {
        "colab": {
          "base_uri": "https://localhost:8080/",
          "height": 261
        },
        "id": "q2sJeCf9c0Df",
        "outputId": "59dc239c-ac5f-4d09-ebdb-5b8625263f15"
      },
      "source": [
        "# Kreiranje datuma\n",
        "\n",
        "data['Date'] = pd.to_datetime(data['Timestamp'], unit='s').dt.date # samo datum (bez vremena)\n",
        "\n",
        "\n",
        "# Filtriranje podataka\n",
        "\n",
        "data = data.loc[data['Date'] > pd.to_datetime('2021-03-28')]\n",
        "data.head(4)"
      ],
      "execution_count": 8,
      "outputs": [
        {
          "output_type": "execute_result",
          "data": {
            "text/html": [
              "<div>\n",
              "<style scoped>\n",
              "    .dataframe tbody tr th:only-of-type {\n",
              "        vertical-align: middle;\n",
              "    }\n",
              "\n",
              "    .dataframe tbody tr th {\n",
              "        vertical-align: top;\n",
              "    }\n",
              "\n",
              "    .dataframe thead th {\n",
              "        text-align: right;\n",
              "    }\n",
              "</style>\n",
              "<table border=\"1\" class=\"dataframe\">\n",
              "  <thead>\n",
              "    <tr style=\"text-align: right;\">\n",
              "      <th></th>\n",
              "      <th>Timestamp</th>\n",
              "      <th>Open</th>\n",
              "      <th>High</th>\n",
              "      <th>Low</th>\n",
              "      <th>Close</th>\n",
              "      <th>Volume_(BTC)</th>\n",
              "      <th>Volume_(Currency)</th>\n",
              "      <th>Weighted_Price</th>\n",
              "      <th>Date</th>\n",
              "    </tr>\n",
              "  </thead>\n",
              "  <tbody>\n",
              "    <tr>\n",
              "      <th>4854496</th>\n",
              "      <td>1616976000</td>\n",
              "      <td>55790.28</td>\n",
              "      <td>55822.98</td>\n",
              "      <td>55777.98</td>\n",
              "      <td>55804.36</td>\n",
              "      <td>1.731449</td>\n",
              "      <td>96636.546983</td>\n",
              "      <td>55812.518695</td>\n",
              "      <td>2021-03-29</td>\n",
              "    </tr>\n",
              "    <tr>\n",
              "      <th>4854497</th>\n",
              "      <td>1616976060</td>\n",
              "      <td>55822.98</td>\n",
              "      <td>55857.28</td>\n",
              "      <td>55822.98</td>\n",
              "      <td>55857.28</td>\n",
              "      <td>0.589603</td>\n",
              "      <td>32931.781301</td>\n",
              "      <td>55854.182542</td>\n",
              "      <td>2021-03-29</td>\n",
              "    </tr>\n",
              "    <tr>\n",
              "      <th>4854498</th>\n",
              "      <td>1616976120</td>\n",
              "      <td>55822.98</td>\n",
              "      <td>55829.04</td>\n",
              "      <td>55766.15</td>\n",
              "      <td>55779.04</td>\n",
              "      <td>2.729659</td>\n",
              "      <td>152263.034630</td>\n",
              "      <td>55780.964698</td>\n",
              "      <td>2021-03-29</td>\n",
              "    </tr>\n",
              "    <tr>\n",
              "      <th>4854500</th>\n",
              "      <td>1616976240</td>\n",
              "      <td>55766.15</td>\n",
              "      <td>55768.63</td>\n",
              "      <td>55766.15</td>\n",
              "      <td>55768.63</td>\n",
              "      <td>0.023738</td>\n",
              "      <td>1323.776861</td>\n",
              "      <td>55766.455065</td>\n",
              "      <td>2021-03-29</td>\n",
              "    </tr>\n",
              "  </tbody>\n",
              "</table>\n",
              "</div>"
            ],
            "text/plain": [
              "          Timestamp      Open  ...  Weighted_Price        Date\n",
              "4854496  1616976000  55790.28  ...    55812.518695  2021-03-29\n",
              "4854497  1616976060  55822.98  ...    55854.182542  2021-03-29\n",
              "4854498  1616976120  55822.98  ...    55780.964698  2021-03-29\n",
              "4854500  1616976240  55766.15  ...    55766.455065  2021-03-29\n",
              "\n",
              "[4 rows x 9 columns]"
            ]
          },
          "metadata": {
            "tags": []
          },
          "execution_count": 8
        }
      ]
    },
    {
      "cell_type": "code",
      "metadata": {
        "colab": {
          "base_uri": "https://localhost:8080/"
        },
        "id": "WsOfYGPxhOfd",
        "outputId": "6ff6bec4-7c6a-4744-e2f9-39c3d7d88b82"
      },
      "source": [
        "# Dimenzije DataFrame-a\n",
        "\n",
        "data.shape"
      ],
      "execution_count": 9,
      "outputs": [
        {
          "output_type": "execute_result",
          "data": {
            "text/plain": [
              "(2872, 9)"
            ]
          },
          "metadata": {
            "tags": []
          },
          "execution_count": 9
        }
      ]
    },
    {
      "cell_type": "markdown",
      "metadata": {
        "id": "vKO7qcE2jowR"
      },
      "source": [
        "## **Podela skupa, vizualizacija, priprema trening skupa**\n",
        "\n"
      ]
    },
    {
      "cell_type": "markdown",
      "metadata": {
        "id": "uJHmdAZWkeLL"
      },
      "source": [
        "### **Podela skupa podataka**"
      ]
    },
    {
      "cell_type": "code",
      "metadata": {
        "id": "dhZQvDybJsOg"
      },
      "source": [
        "# Definicija funkcije za podelu podataka na train i test skup\n",
        "\n",
        "def data_split(data, test_size = 0, days_to_predict = 0):\n",
        "\n",
        "  if test_size == 0 and days_to_predict == 0:\n",
        "    print('Uneti vrednost za jedan od parametara test_size ili days_to_predict.\\n')\n",
        "    return\n",
        "  elif test_size == 0: # dato je days_to_predict\n",
        "    test_limit = len(data) - prediction_days\n",
        "  else: # dato je test_size ili oba parametra\n",
        "    test_limit = len(data) - int(test_size * len(data))\n",
        "\n",
        "  train = data[:test_limit]\n",
        "  test = data[test_limit:]\n",
        "  \n",
        "  return train, test"
      ],
      "execution_count": 10,
      "outputs": []
    },
    {
      "cell_type": "code",
      "metadata": {
        "id": "1n5kOU90PBHd"
      },
      "source": [
        "# Podela inicijalnog skupa podataka na train i test skup\n",
        "\n",
        "train, test = data_split(data, test_size = 0.2, days_to_predict = 0)"
      ],
      "execution_count": 11,
      "outputs": []
    },
    {
      "cell_type": "code",
      "metadata": {
        "colab": {
          "base_uri": "https://localhost:8080/"
        },
        "id": "juNgJZG7cnQS",
        "outputId": "015479c9-57bf-4031-fcb0-0156dcbdf92a"
      },
      "source": [
        "# Dimenzije train i test skupa\n",
        "\n",
        "train.shape, test.shape"
      ],
      "execution_count": 12,
      "outputs": [
        {
          "output_type": "execute_result",
          "data": {
            "text/plain": [
              "((2298, 9), (574, 9))"
            ]
          },
          "metadata": {
            "tags": []
          },
          "execution_count": 12
        }
      ]
    },
    {
      "cell_type": "markdown",
      "metadata": {
        "id": "ttRI2EHVkikR"
      },
      "source": [
        "### **Vizualizacija podataka**"
      ]
    },
    {
      "cell_type": "code",
      "metadata": {
        "id": "rCH1LLR7hUWc"
      },
      "source": [
        "# Definicija funkcije za vizuelni prikaz train i test podataka\n",
        "\n",
        "def plot_data(train_data = train['Close'], test_data = test['Close']):\n",
        "\n",
        "  fig, ax = plt.subplots(1, figsize=(16, 9))\n",
        "  ax.plot(train_data, label='trening', linewidth=2)\n",
        "  ax.plot(test_data, label='test', linewidth=2)\n",
        "  ax.set_ylabel('cena [USD]', fontsize=14)\n",
        "  ax.set_title(label = 'Vizuelni prikaz skupova za trening i test', fontsize=18)\n",
        "  ax.legend(loc='best', fontsize=18)\n",
        "\n",
        "  #data = data.reset_index()\n",
        "  #x = data.index\n",
        "  #ax.set_xticks(range(87724))\n"
      ],
      "execution_count": 13,
      "outputs": []
    },
    {
      "cell_type": "code",
      "metadata": {
        "colab": {
          "base_uri": "https://localhost:8080/",
          "height": 468
        },
        "id": "vlwad6fjfGSU",
        "outputId": "8a583940-4b98-45bd-e6cc-7aa9055d6825"
      },
      "source": [
        "# Plotovanje train i test skupa podataka\n",
        "\n",
        "plot_data(train_data = train['Close'], test_data = test['Close'])"
      ],
      "execution_count": 14,
      "outputs": [
        {
          "output_type": "display_data",
          "data": {
            "image/png": "[encoded data removed]",
            "text/plain": [
              "<Figure size 1152x648 with 1 Axes>"
            ]
          },
          "metadata": {
            "tags": [],
            "needs_background": "light"
          }
        }
      ]
    },
    {
      "cell_type": "markdown",
      "metadata": {
        "id": "dZw1y3Dxk1bt"
      },
      "source": [
        "### **Priprema trening skupa**"
      ]
    },
    {
      "cell_type": "markdown",
      "metadata": {
        "id": "vI9Ehz9mlQu2"
      },
      "source": [
        "**Filtriranje atributa train skupa**"
      ]
    },
    {
      "cell_type": "code",
      "metadata": {
        "colab": {
          "base_uri": "https://localhost:8080/",
          "height": 202
        },
        "id": "bLfZvfLHiph9",
        "outputId": "36394eed-02ea-40f0-c862-86690682ba9d"
      },
      "source": [
        "# Izbacivanje nepotrebnih kolona (atributa) iz train skupa\n",
        "\n",
        "train_ = train.drop(['Low', 'High', 'Open', 'Date', 'Volume_(BTC)', 'Volume_(Currency)', 'Weighted_Price', 'Timestamp'], axis = 1)\n",
        "train_.head()"
      ],
      "execution_count": 15,
      "outputs": [
        {
          "output_type": "execute_result",
          "data": {
            "text/html": [
              "<div>\n",
              "<style scoped>\n",
              "    .dataframe tbody tr th:only-of-type {\n",
              "        vertical-align: middle;\n",
              "    }\n",
              "\n",
              "    .dataframe tbody tr th {\n",
              "        vertical-align: top;\n",
              "    }\n",
              "\n",
              "    .dataframe thead th {\n",
              "        text-align: right;\n",
              "    }\n",
              "</style>\n",
              "<table border=\"1\" class=\"dataframe\">\n",
              "  <thead>\n",
              "    <tr style=\"text-align: right;\">\n",
              "      <th></th>\n",
              "      <th>Close</th>\n",
              "    </tr>\n",
              "  </thead>\n",
              "  <tbody>\n",
              "    <tr>\n",
              "      <th>4854496</th>\n",
              "      <td>55804.36</td>\n",
              "    </tr>\n",
              "    <tr>\n",
              "      <th>4854497</th>\n",
              "      <td>55857.28</td>\n",
              "    </tr>\n",
              "    <tr>\n",
              "      <th>4854498</th>\n",
              "      <td>55779.04</td>\n",
              "    </tr>\n",
              "    <tr>\n",
              "      <th>4854500</th>\n",
              "      <td>55768.63</td>\n",
              "    </tr>\n",
              "    <tr>\n",
              "      <th>4854501</th>\n",
              "      <td>55742.20</td>\n",
              "    </tr>\n",
              "  </tbody>\n",
              "</table>\n",
              "</div>"
            ],
            "text/plain": [
              "            Close\n",
              "4854496  55804.36\n",
              "4854497  55857.28\n",
              "4854498  55779.04\n",
              "4854500  55768.63\n",
              "4854501  55742.20"
            ]
          },
          "metadata": {
            "tags": []
          },
          "execution_count": 15
        }
      ]
    },
    {
      "cell_type": "code",
      "metadata": {
        "colab": {
          "base_uri": "https://localhost:8080/"
        },
        "id": "_iWrck9Mvy_W",
        "outputId": "a4ebdcd3-dae5-40c3-91e9-8b573f62a6a2"
      },
      "source": [
        "# Dimenzije train skupa - pre i nakon izbacivanja atributa\n",
        "\n",
        "train.shape, train_.shape"
      ],
      "execution_count": 16,
      "outputs": [
        {
          "output_type": "execute_result",
          "data": {
            "text/plain": [
              "((2298, 9), (2298, 1))"
            ]
          },
          "metadata": {
            "tags": []
          },
          "execution_count": 16
        }
      ]
    },
    {
      "cell_type": "markdown",
      "metadata": {
        "id": "aos7IhTSlJ_c"
      },
      "source": [
        "**Skaliranje train skupa**"
      ]
    },
    {
      "cell_type": "code",
      "metadata": {
        "colab": {
          "base_uri": "https://localhost:8080/"
        },
        "id": "3F3uP_YAjuAb",
        "outputId": "9293bc5d-eebe-4f2e-809f-fc673379aab2"
      },
      "source": [
        "# Skaliranje trening skupa\n",
        "\n",
        "scaler = MinMaxScaler(feature_range=(0, 1))\n",
        "train_ = scaler.fit_transform(train_)\n",
        "train_"
      ],
      "execution_count": 17,
      "outputs": [
        {
          "output_type": "execute_result",
          "data": {
            "text/plain": [
              "array([[0.19947492],\n",
              "       [0.21134984],\n",
              "       [0.19379327],\n",
              "       ...,\n",
              "       [0.84805843],\n",
              "       [0.84788789],\n",
              "       [0.86661356]])"
            ]
          },
          "metadata": {
            "tags": []
          },
          "execution_count": 17
        }
      ]
    },
    {
      "cell_type": "markdown",
      "metadata": {
        "id": "InbjlC2IlFqc"
      },
      "source": [
        "**Odredjivanje ciljne promenljive na train skupu**"
      ]
    },
    {
      "cell_type": "code",
      "metadata": {
        "id": "4x8ADxLLj2Gh"
      },
      "source": [
        "# Odredjivanje ciljne promenljive na train skupu\n",
        "\n",
        "X_train = []\n",
        "y_train = []\n",
        "\n",
        "for i in range(60, train_.shape[0]):\n",
        "    X_train.append(train_[i-60:i])\n",
        "    y_train.append(train_[i,0])\n",
        "\n",
        "\n",
        "# train.shape = 100\n",
        "# i in (60, 100)\n",
        "# x_train.append(train[i-60:i])\n",
        "# y_train.append(train[i, 0])\n",
        "\n",
        "# i = 61\n",
        "# x_train - train[1:61]\n",
        "# y_train - train[61, 0]\n",
        "\n",
        "# i = 62\n",
        "# x_train - train[1:61] + train[2:62]\n",
        "# y_train - train[61, 0] + train[62, 0]\n",
        "\n",
        "# ...\n",
        "\n",
        "# i = 99\n",
        "# x_train - train[1:61] + train[2:62] + ... + train[33:99]\n",
        "# y_train - train[61, 0] + train[62, 0] + ... + train[99, 0]\n"
      ],
      "execution_count": 18,
      "outputs": []
    },
    {
      "cell_type": "code",
      "metadata": {
        "id": "gAG1YTd6yw34"
      },
      "source": [
        "# Konverzija u np.array\n",
        "\n",
        "X_train, y_train = np.array(X_train), np.array(y_train)"
      ],
      "execution_count": 19,
      "outputs": []
    },
    {
      "cell_type": "code",
      "metadata": {
        "colab": {
          "base_uri": "https://localhost:8080/"
        },
        "id": "uJ-ULtT3y1vi",
        "outputId": "7e73c726-4dbd-4c19-cc9f-3ff27ecc1019"
      },
      "source": [
        "# Dimenzije X_train\n",
        "\n",
        "X_train.shape"
      ],
      "execution_count": 20,
      "outputs": [
        {
          "output_type": "execute_result",
          "data": {
            "text/plain": [
              "(2238, 60, 1)"
            ]
          },
          "metadata": {
            "tags": []
          },
          "execution_count": 20
        }
      ]
    },
    {
      "cell_type": "markdown",
      "metadata": {
        "id": "v38-_t3flcLM"
      },
      "source": [
        "## **Kreiranje, kompilacija i treniranje mreze**"
      ]
    },
    {
      "cell_type": "markdown",
      "metadata": {
        "id": "HNthz4cil_oG"
      },
      "source": [
        "### **Kreiranje mreze**"
      ]
    },
    {
      "cell_type": "code",
      "metadata": {
        "id": "lfeVY4ggy3Az"
      },
      "source": [
        "# Definicija funkcije koja kreira i vraca model mreze\n",
        "\n",
        "def build_net(input_1 = X_train.shape[1], input_2 = X_train.shape[2]):\n",
        "\n",
        "  net = Sequential()\n",
        "  net.add(LSTM(units = 50, activation = 'relu', return_sequences = True, input_shape = (input_1, input_2)))\n",
        "  net.add(Dropout(0.2))\n",
        "  net.add(LSTM(units = 60, activation = 'relu', return_sequences = True))\n",
        "  net.add(Dropout(0.3))\n",
        "\n",
        "  net.add(LSTM(units = 80, activation = 'relu', return_sequences = True))\n",
        "  net.add(Dropout(0.4))\n",
        "\n",
        "  net.add(LSTM(units = 120, activation = 'relu'))\n",
        "  net.add(Dropout(0.5))\n",
        "\n",
        "  net.add(Dense(units =1))\n",
        "  print(net.summary())\n",
        "\n",
        "  return net\n"
      ],
      "execution_count": 21,
      "outputs": []
    },
    {
      "cell_type": "code",
      "metadata": {
        "colab": {
          "base_uri": "https://localhost:8080/"
        },
        "id": "1UBUjLyNh5KP",
        "outputId": "837d98b1-8a32-4be6-8468-78157f734f4a"
      },
      "source": [
        "# Kreiranje modela mreze\n",
        "\n",
        "net = build_net(input_1 = X_train.shape[1], input_2 = X_train.shape[2])"
      ],
      "execution_count": 22,
      "outputs": [
        {
          "output_type": "stream",
          "text": [
            "Model: \"sequential\"\n",
            "_________________________________________________________________\n",
            "Layer (type)                 Output Shape              Param #   \n",
            "=================================================================\n",
            "lstm (LSTM)                  (None, 60, 50)            10400     \n",
            "_________________________________________________________________\n",
            "dropout (Dropout)            (None, 60, 50)            0         \n",
            "_________________________________________________________________\n",
            "lstm_1 (LSTM)                (None, 60, 60)            26640     \n",
            "_________________________________________________________________\n",
            "dropout_1 (Dropout)          (None, 60, 60)            0         \n",
            "_________________________________________________________________\n",
            "lstm_2 (LSTM)                (None, 60, 80)            45120     \n",
            "_________________________________________________________________\n",
            "dropout_2 (Dropout)          (None, 60, 80)            0         \n",
            "_________________________________________________________________\n",
            "lstm_3 (LSTM)                (None, 120)               96480     \n",
            "_________________________________________________________________\n",
            "dropout_3 (Dropout)          (None, 120)               0         \n",
            "_________________________________________________________________\n",
            "dense (Dense)                (None, 1)                 121       \n",
            "=================================================================\n",
            "Total params: 178,761\n",
            "Trainable params: 178,761\n",
            "Non-trainable params: 0\n",
            "_________________________________________________________________\n",
            "None\n"
          ],
          "name": "stdout"
        }
      ]
    },
    {
      "cell_type": "markdown",
      "metadata": {
        "id": "30h12bNEmP83"
      },
      "source": [
        "### **Kompilacija i treniranje mreze**"
      ]
    },
    {
      "cell_type": "code",
      "metadata": {
        "id": "W1PIqBXAb8LA"
      },
      "source": [
        "# Definicija funkcije za kompilaciju i treniranje mreze\n",
        "# Treniranje je moguce vrsiti sa ili bez validacije\n",
        "\n",
        "def compile_and_fit(optimizer = 'adam', loss = 'mean_squared_error', metrics = 'accuracy', X_train_ = X_train, y_train_ = y_train, epochs = 20, validation = 0.1, batch_size = 50):\n",
        "\n",
        "  net.compile(optimizer = optimizer, loss = loss, metrics = metrics)\n",
        "\n",
        "  if validation == 0:\n",
        "    history = net.fit(X_train_, y_train_, epochs = epochs, batch_size = batch_size)\n",
        "  else:\n",
        "    history = net.fit(X_train_, y_train_, epochs = epochs, validation_split = validation, batch_size = batch_size)\n",
        "\n",
        "  return history, net\n"
      ],
      "execution_count": 23,
      "outputs": []
    },
    {
      "cell_type": "code",
      "metadata": {
        "colab": {
          "base_uri": "https://localhost:8080/"
        },
        "id": "VWL-DLbIlrbw",
        "outputId": "d5f6afce-10cc-4f7b-8022-70ac4047a405"
      },
      "source": [
        "# Kompilacija i treniranje mreze sa validacijom\n",
        "\n",
        "history_validation, net_validation = compile_and_fit(optimizer = 'adam', loss = 'mean_squared_error', metrics = ['accuracy', 'mae'], X_train_ = X_train, y_train_ = y_train, epochs = 20, validation = 0.1, batch_size = 50)\n",
        "\n",
        "\n",
        "# Kompilacija i treniranje mreze bez validacije\n",
        "\n",
        "history_no_validation, net_no_validation = compile_and_fit(optimizer = 'adam', loss = 'mean_squared_error', metrics = ['accuracy', 'mae'], X_train_ = X_train, y_train_ = y_train, epochs = 20, validation = 0, batch_size = 50)\n"
      ],
      "execution_count": 24,
      "outputs": [
        {
          "output_type": "stream",
          "text": [
            "Epoch 1/20\n",
            "41/41 [==============================] - 38s 263ms/step - loss: 0.1739 - accuracy: 1.2843e-04 - mae: 0.3480 - val_loss: 0.0524 - val_accuracy: 0.0045 - val_mae: 0.2271\n",
            "Epoch 2/20\n",
            "41/41 [==============================] - 8s 206ms/step - loss: 0.0179 - accuracy: 0.0011 - mae: 0.1109 - val_loss: 0.0024 - val_accuracy: 0.0045 - val_mae: 0.0418\n",
            "Epoch 3/20\n",
            "41/41 [==============================] - 9s 210ms/step - loss: 0.0124 - accuracy: 9.7374e-04 - mae: 0.0881 - val_loss: 0.0060 - val_accuracy: 0.0045 - val_mae: 0.0718\n",
            "Epoch 4/20\n",
            "41/41 [==============================] - 9s 210ms/step - loss: 0.0126 - accuracy: 5.1268e-04 - mae: 0.0859 - val_loss: 0.0064 - val_accuracy: 0.0045 - val_mae: 0.0748\n",
            "Epoch 5/20\n",
            "41/41 [==============================] - 8s 207ms/step - loss: 0.0092 - accuracy: 1.7454e-04 - mae: 0.0741 - val_loss: 0.0011 - val_accuracy: 0.0045 - val_mae: 0.0255\n",
            "Epoch 6/20\n",
            "41/41 [==============================] - 9s 210ms/step - loss: 0.0093 - accuracy: 3.4784e-04 - mae: 0.0736 - val_loss: 0.0017 - val_accuracy: 0.0045 - val_mae: 0.0339\n",
            "Epoch 7/20\n",
            "41/41 [==============================] - 9s 208ms/step - loss: 0.0087 - accuracy: 1.4331e-04 - mae: 0.0701 - val_loss: 0.0012 - val_accuracy: 0.0045 - val_mae: 0.0276\n",
            "Epoch 8/20\n",
            "41/41 [==============================] - 8s 206ms/step - loss: 0.0091 - accuracy: 2.6297e-04 - mae: 0.0724 - val_loss: 0.0051 - val_accuracy: 0.0045 - val_mae: 0.0661\n",
            "Epoch 9/20\n",
            "41/41 [==============================] - 9s 209ms/step - loss: 0.0090 - accuracy: 2.6297e-04 - mae: 0.0704 - val_loss: 0.0180 - val_accuracy: 0.0045 - val_mae: 0.1315\n",
            "Epoch 10/20\n",
            "41/41 [==============================] - 9s 211ms/step - loss: 0.0081 - accuracy: 1.5867e-04 - mae: 0.0686 - val_loss: 0.0035 - val_accuracy: 0.0045 - val_mae: 0.0533\n",
            "Epoch 11/20\n",
            "41/41 [==============================] - 9s 210ms/step - loss: 0.0077 - accuracy: 3.9671e-04 - mae: 0.0668 - val_loss: 0.0192 - val_accuracy: 0.0045 - val_mae: 0.1358\n",
            "Epoch 12/20\n",
            "41/41 [==============================] - 9s 211ms/step - loss: 0.0082 - accuracy: 1.4331e-04 - mae: 0.0681 - val_loss: 0.0129 - val_accuracy: 0.0045 - val_mae: 0.1104\n",
            "Epoch 13/20\n",
            "41/41 [==============================] - 9s 212ms/step - loss: 0.0070 - accuracy: 0.0011 - mae: 0.0630 - val_loss: 0.0027 - val_accuracy: 0.0045 - val_mae: 0.0455\n",
            "Epoch 14/20\n",
            "41/41 [==============================] - 9s 209ms/step - loss: 0.0077 - accuracy: 2.4392e-04 - mae: 0.0655 - val_loss: 0.0094 - val_accuracy: 0.0045 - val_mae: 0.0933\n",
            "Epoch 15/20\n",
            "41/41 [==============================] - 9s 209ms/step - loss: 0.0062 - accuracy: 5.8333e-04 - mae: 0.0597 - val_loss: 0.0142 - val_accuracy: 0.0045 - val_mae: 0.1163\n",
            "Epoch 16/20\n",
            "41/41 [==============================] - 9s 210ms/step - loss: 0.0076 - accuracy: 6.6630e-04 - mae: 0.0647 - val_loss: 0.0072 - val_accuracy: 0.0045 - val_mae: 0.0804\n",
            "Epoch 17/20\n",
            "41/41 [==============================] - 9s 208ms/step - loss: 0.0064 - accuracy: 9.9993e-05 - mae: 0.0597 - val_loss: 0.0142 - val_accuracy: 0.0045 - val_mae: 0.1160\n",
            "Epoch 18/20\n",
            "41/41 [==============================] - 9s 210ms/step - loss: 0.0062 - accuracy: 0.0021 - mae: 0.0600 - val_loss: 0.0040 - val_accuracy: 0.0045 - val_mae: 0.0572\n",
            "Epoch 19/20\n",
            "41/41 [==============================] - 9s 211ms/step - loss: 0.0063 - accuracy: 2.6297e-04 - mae: 0.0590 - val_loss: 0.0075 - val_accuracy: 0.0045 - val_mae: 0.0827\n",
            "Epoch 20/20\n",
            "41/41 [==============================] - 9s 209ms/step - loss: 0.0061 - accuracy: 2.2561e-04 - mae: 0.0579 - val_loss: 0.0025 - val_accuracy: 0.0045 - val_mae: 0.0432\n",
            "Epoch 1/20\n",
            "45/45 [==============================] - 16s 202ms/step - loss: 0.0150 - accuracy: 0.0014 - mae: 0.0907\n",
            "Epoch 2/20\n",
            "45/45 [==============================] - 9s 202ms/step - loss: 0.0059 - accuracy: 0.0010 - mae: 0.0586\n",
            "Epoch 3/20\n",
            "45/45 [==============================] - 9s 207ms/step - loss: 0.0058 - accuracy: 7.2529e-04 - mae: 0.0566\n",
            "Epoch 4/20\n",
            "45/45 [==============================] - 9s 204ms/step - loss: 0.0067 - accuracy: 1.7683e-04 - mae: 0.0618\n",
            "Epoch 5/20\n",
            "45/45 [==============================] - 9s 203ms/step - loss: 0.0056 - accuracy: 0.0032 - mae: 0.0559\n",
            "Epoch 6/20\n",
            "45/45 [==============================] - 9s 203ms/step - loss: 0.0063 - accuracy: 0.0020 - mae: 0.0598\n",
            "Epoch 7/20\n",
            "45/45 [==============================] - 9s 201ms/step - loss: 0.0053 - accuracy: 6.0678e-04 - mae: 0.0549\n",
            "Epoch 8/20\n",
            "45/45 [==============================] - 9s 202ms/step - loss: 0.0059 - accuracy: 9.7239e-04 - mae: 0.0585\n",
            "Epoch 9/20\n",
            "45/45 [==============================] - 9s 202ms/step - loss: 0.0054 - accuracy: 1.7218e-04 - mae: 0.0545\n",
            "Epoch 10/20\n",
            "45/45 [==============================] - 9s 203ms/step - loss: 0.0065 - accuracy: 4.0437e-04 - mae: 0.0607\n",
            "Epoch 11/20\n",
            "45/45 [==============================] - 9s 203ms/step - loss: 0.0055 - accuracy: 0.0014 - mae: 0.0563\n",
            "Epoch 12/20\n",
            "45/45 [==============================] - 9s 203ms/step - loss: 0.0046 - accuracy: 3.3861e-04 - mae: 0.0517\n",
            "Epoch 13/20\n",
            "45/45 [==============================] - 9s 204ms/step - loss: 0.0047 - accuracy: 7.6839e-04 - mae: 0.0526\n",
            "Epoch 14/20\n",
            "45/45 [==============================] - 9s 202ms/step - loss: 0.0045 - accuracy: 0.0028 - mae: 0.0513\n",
            "Epoch 15/20\n",
            "45/45 [==============================] - 9s 202ms/step - loss: 0.0043 - accuracy: 0.0012 - mae: 0.0507\n",
            "Epoch 16/20\n",
            "45/45 [==============================] - 9s 202ms/step - loss: 0.0041 - accuracy: 5.2367e-04 - mae: 0.0493\n",
            "Epoch 17/20\n",
            "45/45 [==============================] - 9s 205ms/step - loss: 0.0043 - accuracy: 9.5208e-04 - mae: 0.0497\n",
            "Epoch 18/20\n",
            "45/45 [==============================] - 9s 204ms/step - loss: 0.0039 - accuracy: 3.0820e-04 - mae: 0.0463\n",
            "Epoch 19/20\n",
            "45/45 [==============================] - 9s 204ms/step - loss: 0.0041 - accuracy: 9.0673e-05 - mae: 0.0491\n",
            "Epoch 20/20\n",
            "45/45 [==============================] - 9s 207ms/step - loss: 0.0037 - accuracy: 0.0017 - mae: 0.0468\n"
          ],
          "name": "stdout"
        }
      ]
    },
    {
      "cell_type": "markdown",
      "metadata": {
        "id": "3wdUsbdgnIdP"
      },
      "source": [
        "## **Priprema test skupa**"
      ]
    },
    {
      "cell_type": "markdown",
      "metadata": {
        "id": "gbS6pt_LnUdP"
      },
      "source": [
        "### **Filtriranje atributa test skupa**"
      ]
    },
    {
      "cell_type": "code",
      "metadata": {
        "id": "XP-aXyi7MbNA"
      },
      "source": [
        "# Izbacivanje nepotrebnih kolona (atributa) iz test skupa\n",
        "\n",
        "test_ = test.drop(['Low', 'High', 'Open', 'Date', 'Volume_(BTC)', 'Volume_(Currency)', 'Weighted_Price', 'Timestamp'], axis = 1)\n"
      ],
      "execution_count": 25,
      "outputs": []
    },
    {
      "cell_type": "markdown",
      "metadata": {
        "id": "jBcsPYFgryj9"
      },
      "source": [
        "### **Skaliranje test skupa**"
      ]
    },
    {
      "cell_type": "code",
      "metadata": {
        "id": "3nS3LkG4rl0B"
      },
      "source": [
        "# Skaliranje test skupa\n",
        "\n",
        "test_ = scaler.transform(test_)"
      ],
      "execution_count": 26,
      "outputs": []
    },
    {
      "cell_type": "markdown",
      "metadata": {
        "id": "MxVP5EpOr4fL"
      },
      "source": [
        "### **Odredjivanje ciljne promenljive na test skupu**"
      ]
    },
    {
      "cell_type": "code",
      "metadata": {
        "id": "M09aM4LOrnrr"
      },
      "source": [
        "# Odredjivanje ciljne (target) promenljive na test skupu\n",
        "\n",
        "X_test = []\n",
        "y_test = []\n",
        "\n",
        "for i in range(60, test_.shape[0]):\n",
        "    X_test.append(test_[i-60:i])\n",
        "    y_test.append(test_[i,0])\n",
        "    "
      ],
      "execution_count": 27,
      "outputs": []
    },
    {
      "cell_type": "code",
      "metadata": {
        "id": "QGBTTxYTrqK9"
      },
      "source": [
        "# Konverzija u np.array\n",
        "\n",
        "X_test, y_test = np.array(X_test), np.array(y_test)"
      ],
      "execution_count": 28,
      "outputs": []
    },
    {
      "cell_type": "markdown",
      "metadata": {
        "id": "pjo3QnGVsKpt"
      },
      "source": [
        "## **Predvidjanje**"
      ]
    },
    {
      "cell_type": "code",
      "metadata": {
        "colab": {
          "base_uri": "https://localhost:8080/"
        },
        "id": "IkU6jqFNrrUZ",
        "outputId": "d59c6b4c-5eae-4ed2-d625-9f81d3ffddf9"
      },
      "source": [
        "# Predvidjanje za mrezu treniranu bez i sa validacijom\n",
        "\n",
        "# Bez validacije\n",
        "y_predicted_no_validation = net_no_validation.predict(X_test)\n",
        "print('Predvidjene vrednosti - bez validacije:\\n', y_predicted_no_validation)\n",
        "\n",
        "# Sa validacijom\n",
        "y_predicted_validation = net_validation.predict(X_test)\n",
        "print('\\nPredvidjene vrednosti - sa validacijom:\\n', y_predicted_validation)"
      ],
      "execution_count": 29,
      "outputs": [
        {
          "output_type": "stream",
          "text": [
            "Predvidjene vrednosti - bez validacije:\n",
            " [[0.84985715]\n",
            " [0.8492908 ]\n",
            " [0.84827423]\n",
            " [0.84694254]\n",
            " [0.84544164]\n",
            " [0.8438358 ]\n",
            " [0.8421654 ]\n",
            " [0.8404302 ]\n",
            " [0.8386441 ]\n",
            " [0.83686405]\n",
            " [0.835136  ]\n",
            " [0.8334594 ]\n",
            " [0.8317989 ]\n",
            " [0.83012235]\n",
            " [0.8283564 ]\n",
            " [0.82645273]\n",
            " [0.8244714 ]\n",
            " [0.8225536 ]\n",
            " [0.82080775]\n",
            " [0.8193329 ]\n",
            " [0.8182049 ]\n",
            " [0.81739515]\n",
            " [0.8168466 ]\n",
            " [0.8164622 ]\n",
            " [0.8161094 ]\n",
            " [0.81568414]\n",
            " [0.8149907 ]\n",
            " [0.81383365]\n",
            " [0.81215644]\n",
            " [0.80997235]\n",
            " [0.8073688 ]\n",
            " [0.8044518 ]\n",
            " [0.8013729 ]\n",
            " [0.7983453 ]\n",
            " [0.79556626]\n",
            " [0.7930689 ]\n",
            " [0.79100996]\n",
            " [0.7895136 ]\n",
            " [0.78852904]\n",
            " [0.78784484]\n",
            " [0.7872701 ]\n",
            " [0.78666955]\n",
            " [0.78604233]\n",
            " [0.7854596 ]\n",
            " [0.7850316 ]\n",
            " [0.784955  ]\n",
            " [0.78543246]\n",
            " [0.7864553 ]\n",
            " [0.78789663]\n",
            " [0.78965163]\n",
            " [0.7916542 ]\n",
            " [0.7938173 ]\n",
            " [0.7959938 ]\n",
            " [0.79815966]\n",
            " [0.800324  ]\n",
            " [0.8024573 ]\n",
            " [0.80447257]\n",
            " [0.80624396]\n",
            " [0.80767906]\n",
            " [0.80868155]\n",
            " [0.80920285]\n",
            " [0.80928844]\n",
            " [0.80903465]\n",
            " [0.8086348 ]\n",
            " [0.8083051 ]\n",
            " [0.8081553 ]\n",
            " [0.80826116]\n",
            " [0.8086508 ]\n",
            " [0.8092772 ]\n",
            " [0.8101031 ]\n",
            " [0.810996  ]\n",
            " [0.8118499 ]\n",
            " [0.81258357]\n",
            " [0.8131187 ]\n",
            " [0.8134457 ]\n",
            " [0.81358916]\n",
            " [0.813545  ]\n",
            " [0.81327546]\n",
            " [0.81275874]\n",
            " [0.8121082 ]\n",
            " [0.811421  ]\n",
            " [0.8107508 ]\n",
            " [0.81017685]\n",
            " [0.8098057 ]\n",
            " [0.8098323 ]\n",
            " [0.810355  ]\n",
            " [0.8113368 ]\n",
            " [0.81269175]\n",
            " [0.8142799 ]\n",
            " [0.81594765]\n",
            " [0.81752306]\n",
            " [0.81888914]\n",
            " [0.81992066]\n",
            " [0.8205608 ]\n",
            " [0.8207551 ]\n",
            " [0.820597  ]\n",
            " [0.82021004]\n",
            " [0.81976944]\n",
            " [0.8195047 ]\n",
            " [0.8195141 ]\n",
            " [0.8197927 ]\n",
            " [0.82033795]\n",
            " [0.82104486]\n",
            " [0.82181   ]\n",
            " [0.82255393]\n",
            " [0.823161  ]\n",
            " [0.8235615 ]\n",
            " [0.82379806]\n",
            " [0.8239734 ]\n",
            " [0.8241198 ]\n",
            " [0.82425547]\n",
            " [0.8243514 ]\n",
            " [0.824439  ]\n",
            " [0.82459927]\n",
            " [0.82494575]\n",
            " [0.82551885]\n",
            " [0.82641935]\n",
            " [0.8276515 ]\n",
            " [0.8291548 ]\n",
            " [0.8308669 ]\n",
            " [0.8327603 ]\n",
            " [0.83476794]\n",
            " [0.8367657 ]\n",
            " [0.8386888 ]\n",
            " [0.8404369 ]\n",
            " [0.8419127 ]\n",
            " [0.84304583]\n",
            " [0.84382546]\n",
            " [0.8442536 ]\n",
            " [0.8444038 ]\n",
            " [0.8443459 ]\n",
            " [0.8442154 ]\n",
            " [0.84412235]\n",
            " [0.84413   ]\n",
            " [0.8442723 ]\n",
            " [0.8445614 ]\n",
            " [0.84494716]\n",
            " [0.8453775 ]\n",
            " [0.84578973]\n",
            " [0.84612304]\n",
            " [0.84631884]\n",
            " [0.84636533]\n",
            " [0.8463032 ]\n",
            " [0.8461718 ]\n",
            " [0.84598535]\n",
            " [0.8457497 ]\n",
            " [0.8454713 ]\n",
            " [0.8451777 ]\n",
            " [0.844924  ]\n",
            " [0.8447369 ]\n",
            " [0.8445691 ]\n",
            " [0.844328  ]\n",
            " [0.8439229 ]\n",
            " [0.843211  ]\n",
            " [0.8421858 ]\n",
            " [0.8408801 ]\n",
            " [0.839375  ]\n",
            " [0.8378409 ]\n",
            " [0.83642685]\n",
            " [0.83530074]\n",
            " [0.8345815 ]\n",
            " [0.83440685]\n",
            " [0.834987  ]\n",
            " [0.83643013]\n",
            " [0.8388664 ]\n",
            " [0.84236264]\n",
            " [0.8467912 ]\n",
            " [0.8519159 ]\n",
            " [0.8574672 ]\n",
            " [0.8631927 ]\n",
            " [0.868843  ]\n",
            " [0.8742357 ]\n",
            " [0.87922984]\n",
            " [0.8837686 ]\n",
            " [0.8877615 ]\n",
            " [0.8911573 ]\n",
            " [0.89393634]\n",
            " [0.89615226]\n",
            " [0.8979076 ]\n",
            " [0.8992655 ]\n",
            " [0.90025884]\n",
            " [0.9009363 ]\n",
            " [0.90128046]\n",
            " [0.90126115]\n",
            " [0.90091646]\n",
            " [0.9003095 ]\n",
            " [0.89940685]\n",
            " [0.8981343 ]\n",
            " [0.8963173 ]\n",
            " [0.8939309 ]\n",
            " [0.89102197]\n",
            " [0.8876783 ]\n",
            " [0.8840878 ]\n",
            " [0.88039905]\n",
            " [0.87675494]\n",
            " [0.8732698 ]\n",
            " [0.87005943]\n",
            " [0.8672397 ]\n",
            " [0.8649408 ]\n",
            " [0.8631777 ]\n",
            " [0.8618966 ]\n",
            " [0.8611129 ]\n",
            " [0.8607845 ]\n",
            " [0.8608877 ]\n",
            " [0.86138105]\n",
            " [0.8621828 ]\n",
            " [0.863131  ]\n",
            " [0.864016  ]\n",
            " [0.86474764]\n",
            " [0.86525387]\n",
            " [0.8654198 ]\n",
            " [0.8651858 ]\n",
            " [0.86455804]\n",
            " [0.8635814 ]\n",
            " [0.86236805]\n",
            " [0.8610487 ]\n",
            " [0.859705  ]\n",
            " [0.8583812 ]\n",
            " [0.85708934]\n",
            " [0.855853  ]\n",
            " [0.8547961 ]\n",
            " [0.85394716]\n",
            " [0.85324234]\n",
            " [0.8526457 ]\n",
            " [0.8521823 ]\n",
            " [0.85185736]\n",
            " [0.851646  ]\n",
            " [0.85147864]\n",
            " [0.851245  ]\n",
            " [0.8508587 ]\n",
            " [0.8502367 ]\n",
            " [0.849416  ]\n",
            " [0.84843516]\n",
            " [0.8473255 ]\n",
            " [0.84606385]\n",
            " [0.844647  ]\n",
            " [0.84311736]\n",
            " [0.84155613]\n",
            " [0.8400515 ]\n",
            " [0.8387396 ]\n",
            " [0.83772594]\n",
            " [0.8370502 ]\n",
            " [0.83667797]\n",
            " [0.8366342 ]\n",
            " [0.8369384 ]\n",
            " [0.83763444]\n",
            " [0.83873504]\n",
            " [0.8401892 ]\n",
            " [0.8419073 ]\n",
            " [0.84398264]\n",
            " [0.8464727 ]\n",
            " [0.8494254 ]\n",
            " [0.85277086]\n",
            " [0.85637075]\n",
            " [0.86008596]\n",
            " [0.8637518 ]\n",
            " [0.867144  ]\n",
            " [0.87007445]\n",
            " [0.87242395]\n",
            " [0.8741482 ]\n",
            " [0.87525696]\n",
            " [0.8758331 ]\n",
            " [0.87599   ]\n",
            " [0.87581736]\n",
            " [0.8753942 ]\n",
            " [0.8748155 ]\n",
            " [0.87414306]\n",
            " [0.87344867]\n",
            " [0.87277347]\n",
            " [0.8721635 ]\n",
            " [0.8717001 ]\n",
            " [0.87141436]\n",
            " [0.8713341 ]\n",
            " [0.8714848 ]\n",
            " [0.87192315]\n",
            " [0.87279594]\n",
            " [0.8740973 ]\n",
            " [0.87569594]\n",
            " [0.8772877 ]\n",
            " [0.87863594]\n",
            " [0.8795573 ]\n",
            " [0.87989223]\n",
            " [0.8795601 ]\n",
            " [0.87852955]\n",
            " [0.87669575]\n",
            " [0.87404037]\n",
            " [0.8705067 ]\n",
            " [0.86608905]\n",
            " [0.86092365]\n",
            " [0.8551677 ]\n",
            " [0.84898007]\n",
            " [0.8425824 ]\n",
            " [0.83633906]\n",
            " [0.8306378 ]\n",
            " [0.82576805]\n",
            " [0.8219464 ]\n",
            " [0.8191771 ]\n",
            " [0.81736875]\n",
            " [0.8162233 ]\n",
            " [0.8153917 ]\n",
            " [0.8145041 ]\n",
            " [0.81329685]\n",
            " [0.8117069 ]\n",
            " [0.80970746]\n",
            " [0.80728215]\n",
            " [0.80454445]\n",
            " [0.8017535 ]\n",
            " [0.7990312 ]\n",
            " [0.79645693]\n",
            " [0.7940309 ]\n",
            " [0.7916892 ]\n",
            " [0.78949213]\n",
            " [0.78749806]\n",
            " [0.7857551 ]\n",
            " [0.7843205 ]\n",
            " [0.78327954]\n",
            " [0.7826395 ]\n",
            " [0.78250897]\n",
            " [0.7829726 ]\n",
            " [0.7840289 ]\n",
            " [0.7856497 ]\n",
            " [0.78782856]\n",
            " [0.79053354]\n",
            " [0.7936405 ]\n",
            " [0.79700947]\n",
            " [0.8004606 ]\n",
            " [0.8037469 ]\n",
            " [0.8067782 ]\n",
            " [0.8095171 ]\n",
            " [0.8119574 ]\n",
            " [0.8140499 ]\n",
            " [0.81574565]\n",
            " [0.81704074]\n",
            " [0.8178989 ]\n",
            " [0.81832945]\n",
            " [0.818374  ]\n",
            " [0.81799686]\n",
            " [0.8171971 ]\n",
            " [0.8160812 ]\n",
            " [0.814799  ]\n",
            " [0.8135065 ]\n",
            " [0.81225425]\n",
            " [0.8110803 ]\n",
            " [0.8099918 ]\n",
            " [0.80902463]\n",
            " [0.808255  ]\n",
            " [0.80775225]\n",
            " [0.8075257 ]\n",
            " [0.80759394]\n",
            " [0.80799955]\n",
            " [0.8087356 ]\n",
            " [0.8097578 ]\n",
            " [0.8109934 ]\n",
            " [0.8123504 ]\n",
            " [0.8137488 ]\n",
            " [0.81509966]\n",
            " [0.81635344]\n",
            " [0.81743866]\n",
            " [0.81829196]\n",
            " [0.81884456]\n",
            " [0.81904083]\n",
            " [0.81886095]\n",
            " [0.8182998 ]\n",
            " [0.8174332 ]\n",
            " [0.8164011 ]\n",
            " [0.8154091 ]\n",
            " [0.8146052 ]\n",
            " [0.81403786]\n",
            " [0.81371194]\n",
            " [0.81359684]\n",
            " [0.8136479 ]\n",
            " [0.81383306]\n",
            " [0.81418484]\n",
            " [0.81473106]\n",
            " [0.8154465 ]\n",
            " [0.8163275 ]\n",
            " [0.8173551 ]\n",
            " [0.8184745 ]\n",
            " [0.8195619 ]\n",
            " [0.82053465]\n",
            " [0.821333  ]\n",
            " [0.821876  ]\n",
            " [0.8220941 ]\n",
            " [0.8220203 ]\n",
            " [0.82168955]\n",
            " [0.8211878 ]\n",
            " [0.8206304 ]\n",
            " [0.8201354 ]\n",
            " [0.81977826]\n",
            " [0.81967545]\n",
            " [0.8200013 ]\n",
            " [0.8207794 ]\n",
            " [0.8219385 ]\n",
            " [0.82334167]\n",
            " [0.8248493 ]\n",
            " [0.8263373 ]\n",
            " [0.82771546]\n",
            " [0.82898253]\n",
            " [0.83015615]\n",
            " [0.8312535 ]\n",
            " [0.83227056]\n",
            " [0.83309394]\n",
            " [0.8337012 ]\n",
            " [0.8342015 ]\n",
            " [0.8346637 ]\n",
            " [0.8351382 ]\n",
            " [0.83568925]\n",
            " [0.8364181 ]\n",
            " [0.83738667]\n",
            " [0.83861613]\n",
            " [0.84009   ]\n",
            " [0.8417533 ]\n",
            " [0.8435573 ]\n",
            " [0.8453754 ]\n",
            " [0.84706974]\n",
            " [0.8485561 ]\n",
            " [0.8498799 ]\n",
            " [0.85111016]\n",
            " [0.85226303]\n",
            " [0.8533209 ]\n",
            " [0.8542903 ]\n",
            " [0.8551458 ]\n",
            " [0.85583776]\n",
            " [0.8563156 ]\n",
            " [0.8565439 ]\n",
            " [0.85649705]\n",
            " [0.8562357 ]\n",
            " [0.85576785]\n",
            " [0.8551041 ]\n",
            " [0.8542426 ]\n",
            " [0.85318285]\n",
            " [0.8518985 ]\n",
            " [0.8503682 ]\n",
            " [0.84856015]\n",
            " [0.84650856]\n",
            " [0.84433943]\n",
            " [0.8421685 ]\n",
            " [0.8400552 ]\n",
            " [0.8379976 ]\n",
            " [0.83600503]\n",
            " [0.8341207 ]\n",
            " [0.8324253 ]\n",
            " [0.83092743]\n",
            " [0.8295877 ]\n",
            " [0.8283155 ]\n",
            " [0.82704335]\n",
            " [0.82575685]\n",
            " [0.82447284]\n",
            " [0.8231955 ]\n",
            " [0.8219499 ]\n",
            " [0.8207793 ]\n",
            " [0.8197345 ]\n",
            " [0.8188409 ]\n",
            " [0.8181146 ]\n",
            " [0.8175557 ]\n",
            " [0.81716126]\n",
            " [0.81685203]\n",
            " [0.8165408 ]\n",
            " [0.81617707]\n",
            " [0.8156549 ]\n",
            " [0.8149238 ]\n",
            " [0.8139877 ]\n",
            " [0.8128367 ]\n",
            " [0.81148106]\n",
            " [0.80998445]\n",
            " [0.8084813 ]\n",
            " [0.80716705]\n",
            " [0.80618054]\n",
            " [0.80560714]\n",
            " [0.8054646 ]\n",
            " [0.8057599 ]\n",
            " [0.80641866]\n",
            " [0.8072659 ]\n",
            " [0.80811006]\n",
            " [0.80879354]\n",
            " [0.80922085]\n",
            " [0.80935943]\n",
            " [0.8092509 ]\n",
            " [0.8089124 ]\n",
            " [0.80838543]\n",
            " [0.80777216]\n",
            " [0.80719626]\n",
            " [0.80680615]\n",
            " [0.80669916]\n",
            " [0.8069537 ]\n",
            " [0.807595  ]\n",
            " [0.8085913 ]\n",
            " [0.80990195]\n",
            " [0.81140274]\n",
            " [0.8129912 ]\n",
            " [0.814506  ]\n",
            " [0.8157572 ]\n",
            " [0.81662154]\n",
            " [0.816988  ]\n",
            " [0.816827  ]\n",
            " [0.8161687 ]\n",
            " [0.8150848 ]\n",
            " [0.8136763 ]\n",
            " [0.81203717]\n",
            " [0.8102473 ]\n",
            " [0.8083794 ]\n",
            " [0.8065816 ]\n",
            " [0.80503356]\n",
            " [0.8038428 ]\n",
            " [0.8030167 ]\n",
            " [0.8025721 ]\n",
            " [0.80251503]\n",
            " [0.8028242 ]\n",
            " [0.80350685]\n",
            " [0.8045181 ]\n",
            " [0.80575335]\n",
            " [0.8070976 ]\n",
            " [0.808496  ]\n",
            " [0.8099592 ]]\n",
            "\n",
            "Predvidjene vrednosti - sa validacijom:\n",
            " [[0.84985715]\n",
            " [0.8492908 ]\n",
            " [0.84827423]\n",
            " [0.84694254]\n",
            " [0.84544164]\n",
            " [0.8438358 ]\n",
            " [0.8421654 ]\n",
            " [0.8404302 ]\n",
            " [0.8386441 ]\n",
            " [0.83686405]\n",
            " [0.835136  ]\n",
            " [0.8334594 ]\n",
            " [0.8317989 ]\n",
            " [0.83012235]\n",
            " [0.8283564 ]\n",
            " [0.82645273]\n",
            " [0.8244714 ]\n",
            " [0.8225536 ]\n",
            " [0.82080775]\n",
            " [0.8193329 ]\n",
            " [0.8182049 ]\n",
            " [0.81739515]\n",
            " [0.8168466 ]\n",
            " [0.8164622 ]\n",
            " [0.8161094 ]\n",
            " [0.81568414]\n",
            " [0.8149907 ]\n",
            " [0.81383365]\n",
            " [0.81215644]\n",
            " [0.80997235]\n",
            " [0.8073688 ]\n",
            " [0.8044518 ]\n",
            " [0.8013729 ]\n",
            " [0.7983453 ]\n",
            " [0.79556626]\n",
            " [0.7930689 ]\n",
            " [0.79100996]\n",
            " [0.7895136 ]\n",
            " [0.78852904]\n",
            " [0.78784484]\n",
            " [0.7872701 ]\n",
            " [0.78666955]\n",
            " [0.78604233]\n",
            " [0.7854596 ]\n",
            " [0.7850316 ]\n",
            " [0.784955  ]\n",
            " [0.78543246]\n",
            " [0.7864553 ]\n",
            " [0.78789663]\n",
            " [0.78965163]\n",
            " [0.7916542 ]\n",
            " [0.7938173 ]\n",
            " [0.7959938 ]\n",
            " [0.79815966]\n",
            " [0.800324  ]\n",
            " [0.8024573 ]\n",
            " [0.80447257]\n",
            " [0.80624396]\n",
            " [0.80767906]\n",
            " [0.80868155]\n",
            " [0.80920285]\n",
            " [0.80928844]\n",
            " [0.80903465]\n",
            " [0.8086348 ]\n",
            " [0.8083051 ]\n",
            " [0.8081553 ]\n",
            " [0.80826116]\n",
            " [0.8086508 ]\n",
            " [0.8092772 ]\n",
            " [0.8101031 ]\n",
            " [0.810996  ]\n",
            " [0.8118499 ]\n",
            " [0.81258357]\n",
            " [0.8131187 ]\n",
            " [0.8134457 ]\n",
            " [0.81358916]\n",
            " [0.813545  ]\n",
            " [0.81327546]\n",
            " [0.81275874]\n",
            " [0.8121082 ]\n",
            " [0.811421  ]\n",
            " [0.8107508 ]\n",
            " [0.81017685]\n",
            " [0.8098057 ]\n",
            " [0.8098323 ]\n",
            " [0.810355  ]\n",
            " [0.8113368 ]\n",
            " [0.81269175]\n",
            " [0.8142799 ]\n",
            " [0.81594765]\n",
            " [0.81752306]\n",
            " [0.81888914]\n",
            " [0.81992066]\n",
            " [0.8205608 ]\n",
            " [0.8207551 ]\n",
            " [0.820597  ]\n",
            " [0.82021004]\n",
            " [0.81976944]\n",
            " [0.8195047 ]\n",
            " [0.8195141 ]\n",
            " [0.8197927 ]\n",
            " [0.82033795]\n",
            " [0.82104486]\n",
            " [0.82181   ]\n",
            " [0.82255393]\n",
            " [0.823161  ]\n",
            " [0.8235615 ]\n",
            " [0.82379806]\n",
            " [0.8239734 ]\n",
            " [0.8241198 ]\n",
            " [0.82425547]\n",
            " [0.8243514 ]\n",
            " [0.824439  ]\n",
            " [0.82459927]\n",
            " [0.82494575]\n",
            " [0.82551885]\n",
            " [0.82641935]\n",
            " [0.8276515 ]\n",
            " [0.8291548 ]\n",
            " [0.8308669 ]\n",
            " [0.8327603 ]\n",
            " [0.83476794]\n",
            " [0.8367657 ]\n",
            " [0.8386888 ]\n",
            " [0.8404369 ]\n",
            " [0.8419127 ]\n",
            " [0.84304583]\n",
            " [0.84382546]\n",
            " [0.8442536 ]\n",
            " [0.8444038 ]\n",
            " [0.8443459 ]\n",
            " [0.8442154 ]\n",
            " [0.84412235]\n",
            " [0.84413   ]\n",
            " [0.8442723 ]\n",
            " [0.8445614 ]\n",
            " [0.84494716]\n",
            " [0.8453775 ]\n",
            " [0.84578973]\n",
            " [0.84612304]\n",
            " [0.84631884]\n",
            " [0.84636533]\n",
            " [0.8463032 ]\n",
            " [0.8461718 ]\n",
            " [0.84598535]\n",
            " [0.8457497 ]\n",
            " [0.8454713 ]\n",
            " [0.8451777 ]\n",
            " [0.844924  ]\n",
            " [0.8447369 ]\n",
            " [0.8445691 ]\n",
            " [0.844328  ]\n",
            " [0.8439229 ]\n",
            " [0.843211  ]\n",
            " [0.8421858 ]\n",
            " [0.8408801 ]\n",
            " [0.839375  ]\n",
            " [0.8378409 ]\n",
            " [0.83642685]\n",
            " [0.83530074]\n",
            " [0.8345815 ]\n",
            " [0.83440685]\n",
            " [0.834987  ]\n",
            " [0.83643013]\n",
            " [0.8388664 ]\n",
            " [0.84236264]\n",
            " [0.8467912 ]\n",
            " [0.8519159 ]\n",
            " [0.8574672 ]\n",
            " [0.8631927 ]\n",
            " [0.868843  ]\n",
            " [0.8742357 ]\n",
            " [0.87922984]\n",
            " [0.8837686 ]\n",
            " [0.8877615 ]\n",
            " [0.8911573 ]\n",
            " [0.89393634]\n",
            " [0.89615226]\n",
            " [0.8979076 ]\n",
            " [0.8992655 ]\n",
            " [0.90025884]\n",
            " [0.9009363 ]\n",
            " [0.90128046]\n",
            " [0.90126115]\n",
            " [0.90091646]\n",
            " [0.9003095 ]\n",
            " [0.89940685]\n",
            " [0.8981343 ]\n",
            " [0.8963173 ]\n",
            " [0.8939309 ]\n",
            " [0.89102197]\n",
            " [0.8876783 ]\n",
            " [0.8840878 ]\n",
            " [0.88039905]\n",
            " [0.87675494]\n",
            " [0.8732698 ]\n",
            " [0.87005943]\n",
            " [0.8672397 ]\n",
            " [0.8649408 ]\n",
            " [0.8631777 ]\n",
            " [0.8618966 ]\n",
            " [0.8611129 ]\n",
            " [0.8607845 ]\n",
            " [0.8608877 ]\n",
            " [0.86138105]\n",
            " [0.8621828 ]\n",
            " [0.863131  ]\n",
            " [0.864016  ]\n",
            " [0.86474764]\n",
            " [0.86525387]\n",
            " [0.8654198 ]\n",
            " [0.8651858 ]\n",
            " [0.86455804]\n",
            " [0.8635814 ]\n",
            " [0.86236805]\n",
            " [0.8610487 ]\n",
            " [0.859705  ]\n",
            " [0.8583812 ]\n",
            " [0.85708934]\n",
            " [0.855853  ]\n",
            " [0.8547961 ]\n",
            " [0.85394716]\n",
            " [0.85324234]\n",
            " [0.8526457 ]\n",
            " [0.8521823 ]\n",
            " [0.85185736]\n",
            " [0.851646  ]\n",
            " [0.85147864]\n",
            " [0.851245  ]\n",
            " [0.8508587 ]\n",
            " [0.8502367 ]\n",
            " [0.849416  ]\n",
            " [0.84843516]\n",
            " [0.8473255 ]\n",
            " [0.84606385]\n",
            " [0.844647  ]\n",
            " [0.84311736]\n",
            " [0.84155613]\n",
            " [0.8400515 ]\n",
            " [0.8387396 ]\n",
            " [0.83772594]\n",
            " [0.8370502 ]\n",
            " [0.83667797]\n",
            " [0.8366342 ]\n",
            " [0.8369384 ]\n",
            " [0.83763444]\n",
            " [0.83873504]\n",
            " [0.8401892 ]\n",
            " [0.8419073 ]\n",
            " [0.84398264]\n",
            " [0.8464727 ]\n",
            " [0.8494254 ]\n",
            " [0.85277086]\n",
            " [0.85637075]\n",
            " [0.86008596]\n",
            " [0.8637518 ]\n",
            " [0.867144  ]\n",
            " [0.87007445]\n",
            " [0.87242395]\n",
            " [0.8741482 ]\n",
            " [0.87525696]\n",
            " [0.8758331 ]\n",
            " [0.87599   ]\n",
            " [0.87581736]\n",
            " [0.8753942 ]\n",
            " [0.8748155 ]\n",
            " [0.87414306]\n",
            " [0.87344867]\n",
            " [0.87277347]\n",
            " [0.8721635 ]\n",
            " [0.8717001 ]\n",
            " [0.87141436]\n",
            " [0.8713341 ]\n",
            " [0.8714848 ]\n",
            " [0.87192315]\n",
            " [0.87279594]\n",
            " [0.8740973 ]\n",
            " [0.87569594]\n",
            " [0.8772877 ]\n",
            " [0.87863594]\n",
            " [0.8795573 ]\n",
            " [0.87989223]\n",
            " [0.8795601 ]\n",
            " [0.87852955]\n",
            " [0.87669575]\n",
            " [0.87404037]\n",
            " [0.8705067 ]\n",
            " [0.86608905]\n",
            " [0.86092365]\n",
            " [0.8551677 ]\n",
            " [0.84898007]\n",
            " [0.8425824 ]\n",
            " [0.83633906]\n",
            " [0.8306378 ]\n",
            " [0.82576805]\n",
            " [0.8219464 ]\n",
            " [0.8191771 ]\n",
            " [0.81736875]\n",
            " [0.8162233 ]\n",
            " [0.8153917 ]\n",
            " [0.8145041 ]\n",
            " [0.81329685]\n",
            " [0.8117069 ]\n",
            " [0.80970746]\n",
            " [0.80728215]\n",
            " [0.80454445]\n",
            " [0.8017535 ]\n",
            " [0.7990312 ]\n",
            " [0.79645693]\n",
            " [0.7940309 ]\n",
            " [0.7916892 ]\n",
            " [0.78949213]\n",
            " [0.78749806]\n",
            " [0.7857551 ]\n",
            " [0.7843205 ]\n",
            " [0.78327954]\n",
            " [0.7826395 ]\n",
            " [0.78250897]\n",
            " [0.7829726 ]\n",
            " [0.7840289 ]\n",
            " [0.7856497 ]\n",
            " [0.78782856]\n",
            " [0.79053354]\n",
            " [0.7936405 ]\n",
            " [0.79700947]\n",
            " [0.8004606 ]\n",
            " [0.8037469 ]\n",
            " [0.8067782 ]\n",
            " [0.8095171 ]\n",
            " [0.8119574 ]\n",
            " [0.8140499 ]\n",
            " [0.81574565]\n",
            " [0.81704074]\n",
            " [0.8178989 ]\n",
            " [0.81832945]\n",
            " [0.818374  ]\n",
            " [0.81799686]\n",
            " [0.8171971 ]\n",
            " [0.8160812 ]\n",
            " [0.814799  ]\n",
            " [0.8135065 ]\n",
            " [0.81225425]\n",
            " [0.8110803 ]\n",
            " [0.8099918 ]\n",
            " [0.80902463]\n",
            " [0.808255  ]\n",
            " [0.80775225]\n",
            " [0.8075257 ]\n",
            " [0.80759394]\n",
            " [0.80799955]\n",
            " [0.8087356 ]\n",
            " [0.8097578 ]\n",
            " [0.8109934 ]\n",
            " [0.8123504 ]\n",
            " [0.8137488 ]\n",
            " [0.81509966]\n",
            " [0.81635344]\n",
            " [0.81743866]\n",
            " [0.81829196]\n",
            " [0.81884456]\n",
            " [0.81904083]\n",
            " [0.81886095]\n",
            " [0.8182998 ]\n",
            " [0.8174332 ]\n",
            " [0.8164011 ]\n",
            " [0.8154091 ]\n",
            " [0.8146052 ]\n",
            " [0.81403786]\n",
            " [0.81371194]\n",
            " [0.81359684]\n",
            " [0.8136479 ]\n",
            " [0.81383306]\n",
            " [0.81418484]\n",
            " [0.81473106]\n",
            " [0.8154465 ]\n",
            " [0.8163275 ]\n",
            " [0.8173551 ]\n",
            " [0.8184745 ]\n",
            " [0.8195619 ]\n",
            " [0.82053465]\n",
            " [0.821333  ]\n",
            " [0.821876  ]\n",
            " [0.8220941 ]\n",
            " [0.8220203 ]\n",
            " [0.82168955]\n",
            " [0.8211878 ]\n",
            " [0.8206304 ]\n",
            " [0.8201354 ]\n",
            " [0.81977826]\n",
            " [0.81967545]\n",
            " [0.8200013 ]\n",
            " [0.8207794 ]\n",
            " [0.8219385 ]\n",
            " [0.82334167]\n",
            " [0.8248493 ]\n",
            " [0.8263373 ]\n",
            " [0.82771546]\n",
            " [0.82898253]\n",
            " [0.83015615]\n",
            " [0.8312535 ]\n",
            " [0.83227056]\n",
            " [0.83309394]\n",
            " [0.8337012 ]\n",
            " [0.8342015 ]\n",
            " [0.8346637 ]\n",
            " [0.8351382 ]\n",
            " [0.83568925]\n",
            " [0.8364181 ]\n",
            " [0.83738667]\n",
            " [0.83861613]\n",
            " [0.84009   ]\n",
            " [0.8417533 ]\n",
            " [0.8435573 ]\n",
            " [0.8453754 ]\n",
            " [0.84706974]\n",
            " [0.8485561 ]\n",
            " [0.8498799 ]\n",
            " [0.85111016]\n",
            " [0.85226303]\n",
            " [0.8533209 ]\n",
            " [0.8542903 ]\n",
            " [0.8551458 ]\n",
            " [0.85583776]\n",
            " [0.8563156 ]\n",
            " [0.8565439 ]\n",
            " [0.85649705]\n",
            " [0.8562357 ]\n",
            " [0.85576785]\n",
            " [0.8551041 ]\n",
            " [0.8542426 ]\n",
            " [0.85318285]\n",
            " [0.8518985 ]\n",
            " [0.8503682 ]\n",
            " [0.84856015]\n",
            " [0.84650856]\n",
            " [0.84433943]\n",
            " [0.8421685 ]\n",
            " [0.8400552 ]\n",
            " [0.8379976 ]\n",
            " [0.83600503]\n",
            " [0.8341207 ]\n",
            " [0.8324253 ]\n",
            " [0.83092743]\n",
            " [0.8295877 ]\n",
            " [0.8283155 ]\n",
            " [0.82704335]\n",
            " [0.82575685]\n",
            " [0.82447284]\n",
            " [0.8231955 ]\n",
            " [0.8219499 ]\n",
            " [0.8207793 ]\n",
            " [0.8197345 ]\n",
            " [0.8188409 ]\n",
            " [0.8181146 ]\n",
            " [0.8175557 ]\n",
            " [0.81716126]\n",
            " [0.81685203]\n",
            " [0.8165408 ]\n",
            " [0.81617707]\n",
            " [0.8156549 ]\n",
            " [0.8149238 ]\n",
            " [0.8139877 ]\n",
            " [0.8128367 ]\n",
            " [0.81148106]\n",
            " [0.80998445]\n",
            " [0.8084813 ]\n",
            " [0.80716705]\n",
            " [0.80618054]\n",
            " [0.80560714]\n",
            " [0.8054646 ]\n",
            " [0.8057599 ]\n",
            " [0.80641866]\n",
            " [0.8072659 ]\n",
            " [0.80811006]\n",
            " [0.80879354]\n",
            " [0.80922085]\n",
            " [0.80935943]\n",
            " [0.8092509 ]\n",
            " [0.8089124 ]\n",
            " [0.80838543]\n",
            " [0.80777216]\n",
            " [0.80719626]\n",
            " [0.80680615]\n",
            " [0.80669916]\n",
            " [0.8069537 ]\n",
            " [0.807595  ]\n",
            " [0.8085913 ]\n",
            " [0.80990195]\n",
            " [0.81140274]\n",
            " [0.8129912 ]\n",
            " [0.814506  ]\n",
            " [0.8157572 ]\n",
            " [0.81662154]\n",
            " [0.816988  ]\n",
            " [0.816827  ]\n",
            " [0.8161687 ]\n",
            " [0.8150848 ]\n",
            " [0.8136763 ]\n",
            " [0.81203717]\n",
            " [0.8102473 ]\n",
            " [0.8083794 ]\n",
            " [0.8065816 ]\n",
            " [0.80503356]\n",
            " [0.8038428 ]\n",
            " [0.8030167 ]\n",
            " [0.8025721 ]\n",
            " [0.80251503]\n",
            " [0.8028242 ]\n",
            " [0.80350685]\n",
            " [0.8045181 ]\n",
            " [0.80575335]\n",
            " [0.8070976 ]\n",
            " [0.808496  ]\n",
            " [0.8099592 ]]\n"
          ],
          "name": "stdout"
        }
      ]
    },
    {
      "cell_type": "markdown",
      "metadata": {
        "id": "Vtwv1-mtsie5"
      },
      "source": [
        "## **Vizualizacija rezultata predvidjanja i metrika**"
      ]
    },
    {
      "cell_type": "code",
      "metadata": {
        "id": "rpuCAGCxzAat"
      },
      "source": [
        "# Vizuelni prikaz rezultata modela mreze\n",
        "\n",
        "def plot_real_vs_predicted_data(test_set, predicted_set):\n",
        "\n",
        "  fig, ax = plt.subplots(1, figsize=(16, 9))\n",
        "  ax.plot(test_set, label='Stvarna vrednost BTC', linewidth=2)\n",
        "  ax.plot(predicted_set, label='Predvidjena vrednost BTC', linewidth=2)\n",
        "  ax.set_xlabel('Redni broj instance', fontsize=14)\n",
        "  ax.set_ylabel('Cena [USD]', fontsize=14)\n",
        "  ax.set_title(label = 'Vizuelni prikaz stvarne i predvidjene vrednosti BTC', fontsize=18)\n",
        "  ax.legend(loc='best', fontsize=18)\n",
        "\n",
        "  # test = test.reset_index()\n",
        "  # x = test.index\n"
      ],
      "execution_count": 30,
      "outputs": []
    },
    {
      "cell_type": "code",
      "metadata": {
        "colab": {
          "base_uri": "https://localhost:8080/",
          "height": 947
        },
        "id": "iEnWZYr6zAhG",
        "outputId": "951cb165-1a7b-4c78-f3ad-aa74490ec280"
      },
      "source": [
        "# Plotovanje stvarne i predvidjene vrednosti\n",
        "\n",
        "# Bez validacije\n",
        "plot_real_vs_predicted_data(test_set = y_test, predicted_set = y_predicted_no_validation)\n",
        "\n",
        "# Sa validacijom\n",
        "plot_real_vs_predicted_data(test_set = y_test, predicted_set = y_predicted_validation)"
      ],
      "execution_count": 31,
      "outputs": [
        {
          "output_type": "display_data",
          "data": {
            "image/png": "[encoded data removed]",
            "text/plain": [
              "<Figure size 1152x648 with 1 Axes>"
            ]
          },
          "metadata": {
            "tags": [],
            "needs_background": "light"
          }
        },
        {
          "output_type": "display_data",
          "data": {
            "image/png": "[encoded data removed]",
            "text/plain": [
              "<Figure size 1152x648 with 1 Axes>"
            ]
          },
          "metadata": {
            "tags": [],
            "needs_background": "light"
          }
        }
      ]
    },
    {
      "cell_type": "markdown",
      "metadata": {
        "id": "3CKEFJKmCHrB"
      },
      "source": [
        "### **Vizuelni prikaz gubitka, tacnosti i srednje apsolutne greske tokom treniranja mreze (sa i bez validacije)**\n",
        "\n",
        "Ukoliko je koriscena validacija tokom treniranja mreze, onda parametar is_validation_used treba biti 1, a inace 0"
      ]
    },
    {
      "cell_type": "code",
      "metadata": {
        "id": "JLp_Ems1zAja"
      },
      "source": [
        "# Vizuelni prikaz gubitka\n",
        "\n",
        "def plot_loss(history_):\n",
        "\n",
        "  epochs = range(len(history_.history['loss'])) # broj epoha\n",
        "  plt.title('Vizuelni prikaz gubitka (loss)')\n",
        "  plt.xlabel('broj epohe')\n",
        "  plt.ylabel('gubitak')\n",
        "\n",
        "  plt.plot(epochs, history_.history['loss'], label='Gubitak (loss) tokom treniranja')\n",
        "\n",
        "  if 'val_loss' in history_.history:\n",
        "    plt.plot(epochs, history_.history['val_loss'], label='Gubitak (val_loss) tokom treniranja sa validacijom')\n",
        "\n",
        "  plt.legend(loc = 'best')\n",
        "\n",
        "  plt.show()\n"
      ],
      "execution_count": 70,
      "outputs": []
    },
    {
      "cell_type": "code",
      "metadata": {
        "id": "bYAfGLYxCCS3"
      },
      "source": [
        "# Vizuelni prikaz tacnosti\n",
        "\n",
        "def plot_accuracy(history_):\n",
        "\n",
        "  epochs = range(len(history_.history['accuracy'])) # broj epoha\n",
        "  plt.title('Vizuelni prikaz tacnosti (accuracy')\n",
        "  plt.xlabel('broj epohe')\n",
        "  plt.ylabel('tacnost')\n",
        "  \n",
        "  plt.plot(epochs, history_.history['accuracy'], label='Tacnost (accuracy) tokom treniranja')\n",
        "\n",
        "  if 'val_accuracy' in history_.history:\n",
        "    plt.plot(epochs, history_.history['val_accuracy'], label='Tacnost (val_accuracy) tokom treniranja sa validacijom')\n",
        "\n",
        "  plt.legend(loc = 'best')\n",
        "\n",
        "  plt.show()\n"
      ],
      "execution_count": 69,
      "outputs": []
    },
    {
      "cell_type": "code",
      "metadata": {
        "id": "RI3Z5uaxCEIi"
      },
      "source": [
        "# Vizuelni prikaz MAE\n",
        "\n",
        "def plot_mae(history_):\n",
        "\n",
        "  epochs = range(len(history_.history['mae'])) # broj epoha\n",
        "  plt.title('Vizuelni prikaz MAE (mae')\n",
        "  plt.xlabel('broj epohe')\n",
        "  plt.ylabel('MAE')\n",
        "  \n",
        "  plt.plot(epochs, history_.history['mae'], label='MAE (mae) tokom treniranja')\n",
        "\n",
        "  if 'val_mae' in history_.history:\n",
        "    plt.plot(epochs, history_.history['val_mae'], label='MAE (val_mae) tokom treniranja sa validacijom')\n",
        "\n",
        "  plt.legend(loc = 'best')\n",
        "\n",
        "  plt.show()\n"
      ],
      "execution_count": 68,
      "outputs": []
    },
    {
      "cell_type": "code",
      "metadata": {
        "colab": {
          "base_uri": "https://localhost:8080/",
          "height": 295
        },
        "id": "hSHrmcQDBQcg",
        "outputId": "2ef88e84-6bb4-4896-a569-868d020bdbdb"
      },
      "source": [
        "# MAE\n",
        "\n",
        "plot_mae(history_no_validation)"
      ],
      "execution_count": 71,
      "outputs": [
        {
          "output_type": "display_data",
          "data": {
            "image/png": "[encoded data removed]",
            "text/plain": [
              "<Figure size 432x288 with 1 Axes>"
            ]
          },
          "metadata": {
            "tags": [],
            "needs_background": "light"
          }
        }
      ]
    },
    {
      "cell_type": "code",
      "metadata": {
        "colab": {
          "base_uri": "https://localhost:8080/",
          "height": 295
        },
        "id": "_TMAcQ_yGPgX",
        "outputId": "71d16b80-d6b8-4ff0-b8f4-0eb2e70ea36b"
      },
      "source": [
        "# MAE - sa validacijom\n",
        "\n",
        "plot_mae(history_validation)"
      ],
      "execution_count": 72,
      "outputs": [
        {
          "output_type": "display_data",
          "data": {
            "image/png": "[encoded data removed]",
            "text/plain": [
              "<Figure size 432x288 with 1 Axes>"
            ]
          },
          "metadata": {
            "tags": [],
            "needs_background": "light"
          }
        }
      ]
    },
    {
      "cell_type": "code",
      "metadata": {
        "colab": {
          "base_uri": "https://localhost:8080/",
          "height": 295
        },
        "id": "1BSAAKGSzAlx",
        "outputId": "bbbbc554-09f2-4931-a309-ec877ed0e3df"
      },
      "source": [
        "# Loss\n",
        "\n",
        "plot_loss(history_no_validation)"
      ],
      "execution_count": 73,
      "outputs": [
        {
          "output_type": "display_data",
          "data": {
            "image/png": "[encoded data removed]",
            "text/plain": [
              "<Figure size 432x288 with 1 Axes>"
            ]
          },
          "metadata": {
            "tags": [],
            "needs_background": "light"
          }
        }
      ]
    },
    {
      "cell_type": "code",
      "metadata": {
        "id": "rBTlwpP9y8JY",
        "colab": {
          "base_uri": "https://localhost:8080/",
          "height": 295
        },
        "outputId": "975d1626-0894-40e4-d186-e42598a96226"
      },
      "source": [
        "# Loss - sa validacijom\n",
        "\n",
        "plot_loss(history_validation)"
      ],
      "execution_count": 74,
      "outputs": [
        {
          "output_type": "display_data",
          "data": {
            "image/png": "[encoded data removed]",
            "text/plain": [
              "<Figure size 432x288 with 1 Axes>"
            ]
          },
          "metadata": {
            "tags": [],
            "needs_background": "light"
          }
        }
      ]
    },
    {
      "cell_type": "code",
      "metadata": {
        "colab": {
          "base_uri": "https://localhost:8080/",
          "height": 295
        },
        "id": "L2Sp1pspGgUm",
        "outputId": "d68a2d8e-60ef-41f6-f501-fbd616a48fbf"
      },
      "source": [
        "# Accuracy\n",
        "\n",
        "plot_accuracy(history_no_validation)"
      ],
      "execution_count": 75,
      "outputs": [
        {
          "output_type": "display_data",
          "data": {
            "image/png": "[encoded data removed]",
            "text/plain": [
              "<Figure size 432x288 with 1 Axes>"
            ]
          },
          "metadata": {
            "tags": [],
            "needs_background": "light"
          }
        }
      ]
    },
    {
      "cell_type": "code",
      "metadata": {
        "colab": {
          "base_uri": "https://localhost:8080/",
          "height": 295
        },
        "id": "clujvWNKGkIk",
        "outputId": "ce48733c-b514-4be8-cad6-945203b29824"
      },
      "source": [
        "# Accuracy - validation\n",
        "\n",
        "plot_accuracy(history_validation)"
      ],
      "execution_count": 76,
      "outputs": [
        {
          "output_type": "display_data",
          "data": {
            "image/png": "[encoded data removed]",
            "text/plain": [
              "<Figure size 432x288 with 1 Axes>"
            ]
          },
          "metadata": {
            "tags": [],
            "needs_background": "light"
          }
        }
      ]
    },
    {
      "cell_type": "code",
      "metadata": {
        "id": "aNI6MXpPmwjw",
        "colab": {
          "base_uri": "https://localhost:8080/"
        },
        "outputId": "5a3dd730-9a7c-4b05-80e9-90fed232f4cb"
      },
      "source": [
        "# MSE, MAE nad skupom za testiranje\n",
        "\n",
        "test_metrics_no_val = net_no_validation.evaluate(X_test, y_test)\n",
        "test_metrics_val = net_validation.evaluate(X_test, y_test)\n",
        "\n",
        "print('\\nMetrike prilikom testiranja - model treniran bez validacije\\n')\n",
        "print(net_no_validation.metrics_names[0], test_metrics_no_val[0])\n",
        "print(net_no_validation.metrics_names[1], test_metrics_no_val[1])\n",
        "print(net_no_validation.metrics_names[2], test_metrics_no_val[2])\n",
        "\n",
        "print('\\n\\nMetrike prilikom testiranja - model treniran sa validacijom\\n')\n",
        "print(net_validation.metrics_names[0], test_metrics_val[0])\n",
        "print(net_validation.metrics_names[1], test_metrics_val[1])\n",
        "print(net_validation.metrics_names[2], test_metrics_val[2])\n"
      ],
      "execution_count": 88,
      "outputs": [
        {
          "output_type": "stream",
          "text": [
            "17/17 [==============================] - 1s 41ms/step - loss: 0.0014 - accuracy: 0.0000e+00 - mae: 0.0332\n",
            "17/17 [==============================] - 1s 41ms/step - loss: 0.0014 - accuracy: 0.0000e+00 - mae: 0.0332\n",
            "\n",
            "Metrike prilikom testiranja - model treniran bez validacije\n",
            "\n",
            "loss 0.001392291160300374\n",
            "accuracy 0.0\n",
            "mae 0.03320949524641037\n",
            "\n",
            "\n",
            "Metrike prilikom testiranja - model treniran sa validacijom\n",
            "\n",
            "loss 0.001392291160300374\n",
            "accuracy 0.0\n",
            "mae 0.03320949524641037\n"
          ],
          "name": "stdout"
        }
      ]
    },
    {
      "cell_type": "code",
      "metadata": {
        "id": "uL91CnFawYaf",
        "colab": {
          "base_uri": "https://localhost:8080/"
        },
        "outputId": "a8edf75d-88f1-4411-d712-96de69ef9b0a"
      },
      "source": [
        "# R2 skor nad skupom za testiranje\n",
        "\n",
        "r2 = metrics.r2_score(y_predicted_no_validation, y_test)\n",
        "r2_val = metrics.r2_score(y_predicted_validation, y_test)\n",
        "\n",
        "print('R2 skor prilikom testiranja - model treniran bez validacije', r2)\n",
        "print('R2 skor prilikom testiranja - model treniran sa validacijom', r2_val)"
      ],
      "execution_count": 90,
      "outputs": [
        {
          "output_type": "stream",
          "text": [
            "R2 skor prilikom testiranja - model treniran bez validacije -0.9972253290580193\n",
            "R2 skor prilikom testiranja - model treniran sa validacijom -0.9972253290580193\n"
          ],
          "name": "stdout"
        }
      ]
    }
  ]
}