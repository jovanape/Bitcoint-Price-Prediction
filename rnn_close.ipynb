{
  "nbformat": 4,
  "nbformat_minor": 0,
  "metadata": {
    "colab": {
      "name": "rnn_close.ipynb",
      "provenance": [],
      "collapsed_sections": [],
      "include_colab_link": true
    },
    "kernelspec": {
      "display_name": "Python 3",
      "language": "python",
      "name": "python3"
    },
    "language_info": {
      "codemirror_mode": {
        "name": "ipython",
        "version": 3
      },
      "file_extension": ".py",
      "mimetype": "text/x-python",
      "name": "python",
      "nbconvert_exporter": "python",
      "pygments_lexer": "ipython3",
      "version": "3.9.5"
    }
  },
  "cells": [
    {
      "cell_type": "markdown",
      "metadata": {
        "id": "view-in-github",
        "colab_type": "text"
      },
      "source": [
        "<a href=\"https://colab.research.google.com/github/jovanape/Bitcoint-Price-Prediction/blob/main/rnn_close.ipynb\" target=\"_parent\"><img src=\"https://colab.research.google.com/assets/colab-badge.svg\" alt=\"Open In Colab\"/></a>"
      ]
    },
    {
      "cell_type": "markdown",
      "metadata": {
        "id": "4_6hHjWjjzos"
      },
      "source": [
        "# **Predvidjanje vrednosti Bitcoina pomocu RNN**\n",
        "\n",
        "**Atributi:** Close\n",
        "\n",
        "**Filtrirani podaci:** od 28.03.2021."
      ]
    },
    {
      "cell_type": "markdown",
      "metadata": {
        "id": "krvFQDwvkBdX"
      },
      "source": [
        "## **Ucitavanje biblioteka**"
      ]
    },
    {
      "cell_type": "code",
      "metadata": {
        "id": "iaSuiXq3HP1y"
      },
      "source": [
        "# Ucitavanje biblioteka\n",
        "\n",
        "import numpy as np \n",
        "import pandas as pd \n",
        "from matplotlib import pyplot as plt\n",
        "from sklearn.preprocessing import MinMaxScaler\n",
        "from sklearn import metrics\n",
        "from keras.models import Sequential\n",
        "from keras.layers import Dense\n",
        "from keras.layers import LSTM\n",
        "from keras.layers import Dropout\n",
        "from keras import callbacks"
      ],
      "execution_count": 14,
      "outputs": []
    },
    {
      "cell_type": "markdown",
      "metadata": {
        "id": "QsGhjvltjWcA"
      },
      "source": [
        "## **Ucitavanje skupa podataka i pretprocesiranje**"
      ]
    },
    {
      "cell_type": "code",
      "metadata": {
        "colab": {
          "base_uri": "https://localhost:8080/",
          "height": 537
        },
        "id": "_r4bteeIUcND",
        "outputId": "b449ff73-26df-494a-988a-70d01735871b"
      },
      "source": [
        "# Ucitavanje skupa podataka\n",
        "\n",
        "data = pd.read_csv('bitstampUSD_1-min_data_2012-01-01_to_2021-03-31.csv')\n",
        "data.head()"
      ],
      "execution_count": 15,
      "outputs": [
        {
          "output_type": "error",
          "ename": "ParserError",
          "evalue": "ignored",
          "traceback": [
            "\u001b[0;31m---------------------------------------------------------------------------\u001b[0m",
            "\u001b[0;31mParserError\u001b[0m                               Traceback (most recent call last)",
            "\u001b[0;32m<ipython-input-15-8fb685a6bb1d>\u001b[0m in \u001b[0;36m<module>\u001b[0;34m()\u001b[0m\n\u001b[1;32m      1\u001b[0m \u001b[0;31m# Ucitavanje skupa podataka\u001b[0m\u001b[0;34m\u001b[0m\u001b[0;34m\u001b[0m\u001b[0;34m\u001b[0m\u001b[0m\n\u001b[1;32m      2\u001b[0m \u001b[0;34m\u001b[0m\u001b[0m\n\u001b[0;32m----> 3\u001b[0;31m \u001b[0mdata\u001b[0m \u001b[0;34m=\u001b[0m \u001b[0mpd\u001b[0m\u001b[0;34m.\u001b[0m\u001b[0mread_csv\u001b[0m\u001b[0;34m(\u001b[0m\u001b[0;34m'bitstampUSD_1-min_data_2012-01-01_to_2021-03-31.csv'\u001b[0m\u001b[0;34m)\u001b[0m\u001b[0;34m\u001b[0m\u001b[0;34m\u001b[0m\u001b[0m\n\u001b[0m\u001b[1;32m      4\u001b[0m \u001b[0mdata\u001b[0m\u001b[0;34m.\u001b[0m\u001b[0mhead\u001b[0m\u001b[0;34m(\u001b[0m\u001b[0;34m)\u001b[0m\u001b[0;34m\u001b[0m\u001b[0;34m\u001b[0m\u001b[0m\n",
            "\u001b[0;32m/usr/local/lib/python3.7/dist-packages/pandas/io/parsers.py\u001b[0m in \u001b[0;36mread_csv\u001b[0;34m(filepath_or_buffer, sep, delimiter, header, names, index_col, usecols, squeeze, prefix, mangle_dupe_cols, dtype, engine, converters, true_values, false_values, skipinitialspace, skiprows, skipfooter, nrows, na_values, keep_default_na, na_filter, verbose, skip_blank_lines, parse_dates, infer_datetime_format, keep_date_col, date_parser, dayfirst, cache_dates, iterator, chunksize, compression, thousands, decimal, lineterminator, quotechar, quoting, doublequote, escapechar, comment, encoding, dialect, error_bad_lines, warn_bad_lines, delim_whitespace, low_memory, memory_map, float_precision)\u001b[0m\n\u001b[1;32m    686\u001b[0m     )\n\u001b[1;32m    687\u001b[0m \u001b[0;34m\u001b[0m\u001b[0m\n\u001b[0;32m--> 688\u001b[0;31m     \u001b[0;32mreturn\u001b[0m \u001b[0m_read\u001b[0m\u001b[0;34m(\u001b[0m\u001b[0mfilepath_or_buffer\u001b[0m\u001b[0;34m,\u001b[0m \u001b[0mkwds\u001b[0m\u001b[0;34m)\u001b[0m\u001b[0;34m\u001b[0m\u001b[0;34m\u001b[0m\u001b[0m\n\u001b[0m\u001b[1;32m    689\u001b[0m \u001b[0;34m\u001b[0m\u001b[0m\n\u001b[1;32m    690\u001b[0m \u001b[0;34m\u001b[0m\u001b[0m\n",
            "\u001b[0;32m/usr/local/lib/python3.7/dist-packages/pandas/io/parsers.py\u001b[0m in \u001b[0;36m_read\u001b[0;34m(filepath_or_buffer, kwds)\u001b[0m\n\u001b[1;32m    458\u001b[0m \u001b[0;34m\u001b[0m\u001b[0m\n\u001b[1;32m    459\u001b[0m     \u001b[0;32mtry\u001b[0m\u001b[0;34m:\u001b[0m\u001b[0;34m\u001b[0m\u001b[0;34m\u001b[0m\u001b[0m\n\u001b[0;32m--> 460\u001b[0;31m         \u001b[0mdata\u001b[0m \u001b[0;34m=\u001b[0m \u001b[0mparser\u001b[0m\u001b[0;34m.\u001b[0m\u001b[0mread\u001b[0m\u001b[0;34m(\u001b[0m\u001b[0mnrows\u001b[0m\u001b[0;34m)\u001b[0m\u001b[0;34m\u001b[0m\u001b[0;34m\u001b[0m\u001b[0m\n\u001b[0m\u001b[1;32m    461\u001b[0m     \u001b[0;32mfinally\u001b[0m\u001b[0;34m:\u001b[0m\u001b[0;34m\u001b[0m\u001b[0;34m\u001b[0m\u001b[0m\n\u001b[1;32m    462\u001b[0m         \u001b[0mparser\u001b[0m\u001b[0;34m.\u001b[0m\u001b[0mclose\u001b[0m\u001b[0;34m(\u001b[0m\u001b[0;34m)\u001b[0m\u001b[0;34m\u001b[0m\u001b[0;34m\u001b[0m\u001b[0m\n",
            "\u001b[0;32m/usr/local/lib/python3.7/dist-packages/pandas/io/parsers.py\u001b[0m in \u001b[0;36mread\u001b[0;34m(self, nrows)\u001b[0m\n\u001b[1;32m   1196\u001b[0m     \u001b[0;32mdef\u001b[0m \u001b[0mread\u001b[0m\u001b[0;34m(\u001b[0m\u001b[0mself\u001b[0m\u001b[0;34m,\u001b[0m \u001b[0mnrows\u001b[0m\u001b[0;34m=\u001b[0m\u001b[0;32mNone\u001b[0m\u001b[0;34m)\u001b[0m\u001b[0;34m:\u001b[0m\u001b[0;34m\u001b[0m\u001b[0;34m\u001b[0m\u001b[0m\n\u001b[1;32m   1197\u001b[0m         \u001b[0mnrows\u001b[0m \u001b[0;34m=\u001b[0m \u001b[0m_validate_integer\u001b[0m\u001b[0;34m(\u001b[0m\u001b[0;34m\"nrows\"\u001b[0m\u001b[0;34m,\u001b[0m \u001b[0mnrows\u001b[0m\u001b[0;34m)\u001b[0m\u001b[0;34m\u001b[0m\u001b[0;34m\u001b[0m\u001b[0m\n\u001b[0;32m-> 1198\u001b[0;31m         \u001b[0mret\u001b[0m \u001b[0;34m=\u001b[0m \u001b[0mself\u001b[0m\u001b[0;34m.\u001b[0m\u001b[0m_engine\u001b[0m\u001b[0;34m.\u001b[0m\u001b[0mread\u001b[0m\u001b[0;34m(\u001b[0m\u001b[0mnrows\u001b[0m\u001b[0;34m)\u001b[0m\u001b[0;34m\u001b[0m\u001b[0;34m\u001b[0m\u001b[0m\n\u001b[0m\u001b[1;32m   1199\u001b[0m \u001b[0;34m\u001b[0m\u001b[0m\n\u001b[1;32m   1200\u001b[0m         \u001b[0;31m# May alter columns / col_dict\u001b[0m\u001b[0;34m\u001b[0m\u001b[0;34m\u001b[0m\u001b[0;34m\u001b[0m\u001b[0m\n",
            "\u001b[0;32m/usr/local/lib/python3.7/dist-packages/pandas/io/parsers.py\u001b[0m in \u001b[0;36mread\u001b[0;34m(self, nrows)\u001b[0m\n\u001b[1;32m   2155\u001b[0m     \u001b[0;32mdef\u001b[0m \u001b[0mread\u001b[0m\u001b[0;34m(\u001b[0m\u001b[0mself\u001b[0m\u001b[0;34m,\u001b[0m \u001b[0mnrows\u001b[0m\u001b[0;34m=\u001b[0m\u001b[0;32mNone\u001b[0m\u001b[0;34m)\u001b[0m\u001b[0;34m:\u001b[0m\u001b[0;34m\u001b[0m\u001b[0;34m\u001b[0m\u001b[0m\n\u001b[1;32m   2156\u001b[0m         \u001b[0;32mtry\u001b[0m\u001b[0;34m:\u001b[0m\u001b[0;34m\u001b[0m\u001b[0;34m\u001b[0m\u001b[0m\n\u001b[0;32m-> 2157\u001b[0;31m             \u001b[0mdata\u001b[0m \u001b[0;34m=\u001b[0m \u001b[0mself\u001b[0m\u001b[0;34m.\u001b[0m\u001b[0m_reader\u001b[0m\u001b[0;34m.\u001b[0m\u001b[0mread\u001b[0m\u001b[0;34m(\u001b[0m\u001b[0mnrows\u001b[0m\u001b[0;34m)\u001b[0m\u001b[0;34m\u001b[0m\u001b[0;34m\u001b[0m\u001b[0m\n\u001b[0m\u001b[1;32m   2158\u001b[0m         \u001b[0;32mexcept\u001b[0m \u001b[0mStopIteration\u001b[0m\u001b[0;34m:\u001b[0m\u001b[0;34m\u001b[0m\u001b[0;34m\u001b[0m\u001b[0m\n\u001b[1;32m   2159\u001b[0m             \u001b[0;32mif\u001b[0m \u001b[0mself\u001b[0m\u001b[0;34m.\u001b[0m\u001b[0m_first_chunk\u001b[0m\u001b[0;34m:\u001b[0m\u001b[0;34m\u001b[0m\u001b[0;34m\u001b[0m\u001b[0m\n",
            "\u001b[0;32mpandas/_libs/parsers.pyx\u001b[0m in \u001b[0;36mpandas._libs.parsers.TextReader.read\u001b[0;34m()\u001b[0m\n",
            "\u001b[0;32mpandas/_libs/parsers.pyx\u001b[0m in \u001b[0;36mpandas._libs.parsers.TextReader._read_low_memory\u001b[0;34m()\u001b[0m\n",
            "\u001b[0;32mpandas/_libs/parsers.pyx\u001b[0m in \u001b[0;36mpandas._libs.parsers.TextReader._read_rows\u001b[0;34m()\u001b[0m\n",
            "\u001b[0;32mpandas/_libs/parsers.pyx\u001b[0m in \u001b[0;36mpandas._libs.parsers.TextReader._tokenize_rows\u001b[0;34m()\u001b[0m\n",
            "\u001b[0;32mpandas/_libs/parsers.pyx\u001b[0m in \u001b[0;36mpandas._libs.parsers.raise_parser_error\u001b[0;34m()\u001b[0m\n",
            "\u001b[0;31mParserError\u001b[0m: Error tokenizing data. C error: Expected 8 fields in line 40652, saw 9\n"
          ]
        }
      ]
    },
    {
      "cell_type": "code",
      "metadata": {
        "id": "6I5dWQWgcziA"
      },
      "source": [
        "# Ciscenje podataka od NaN vrednosti\n",
        "\n",
        "data = data.dropna()\n",
        "data.head()"
      ],
      "execution_count": null,
      "outputs": []
    },
    {
      "cell_type": "code",
      "metadata": {
        "id": "q2sJeCf9c0Df"
      },
      "source": [
        "# Kreiranje datuma\n",
        "\n",
        "data['Date'] = pd.to_datetime(data['Timestamp'], unit='s').dt.date # samo datum (bez vremena)\n",
        "\n",
        "\n",
        "# Filtriranje podataka\n",
        "\n",
        "data = data.loc[data['Date'] > pd.to_datetime('2021-03-28')]\n",
        "data.head(4)"
      ],
      "execution_count": null,
      "outputs": []
    },
    {
      "cell_type": "code",
      "metadata": {
        "id": "WsOfYGPxhOfd"
      },
      "source": [
        "# Dimenzije DataFrame-a\n",
        "\n",
        "data.shape"
      ],
      "execution_count": null,
      "outputs": []
    },
    {
      "cell_type": "markdown",
      "metadata": {
        "id": "vKO7qcE2jowR"
      },
      "source": [
        "## **Podela skupa, vizualizacija**\n",
        "\n"
      ]
    },
    {
      "cell_type": "markdown",
      "metadata": {
        "id": "uJHmdAZWkeLL"
      },
      "source": [
        "### **Podela skupa podataka**"
      ]
    },
    {
      "cell_type": "code",
      "metadata": {
        "id": "dhZQvDybJsOg"
      },
      "source": [
        "# Definicija funkcije za podelu podataka na train i test skup\n",
        "\n",
        "def data_split(data, test_size = 0, days_to_predict = 0):\n",
        "\n",
        "  if test_size == 0 and days_to_predict == 0:\n",
        "    print('Uneti vrednost za jedan od parametara test_size ili days_to_predict.\\n')\n",
        "    return\n",
        "  elif test_size == 0: # dato je days_to_predict\n",
        "    test_limit = len(data) - prediction_days\n",
        "  else: # dato je test_size ili oba parametra\n",
        "    test_limit = len(data) - int(test_size * len(data))\n",
        "\n",
        "  train = data[:test_limit]\n",
        "  test = data[test_limit:]\n",
        "  \n",
        "  return train, test"
      ],
      "execution_count": null,
      "outputs": []
    },
    {
      "cell_type": "code",
      "metadata": {
        "id": "1n5kOU90PBHd"
      },
      "source": [
        "# Podela inicijalnog skupa podataka na train i test skup\n",
        "\n",
        "train, test = data_split(data, test_size = 0.2, days_to_predict = 0)"
      ],
      "execution_count": null,
      "outputs": []
    },
    {
      "cell_type": "code",
      "metadata": {
        "id": "juNgJZG7cnQS"
      },
      "source": [
        "# Dimenzije train i test skupa\n",
        "\n",
        "train.shape, test.shape"
      ],
      "execution_count": null,
      "outputs": []
    },
    {
      "cell_type": "markdown",
      "metadata": {
        "id": "ttRI2EHVkikR"
      },
      "source": [
        "### **Vizualizacija podataka**"
      ]
    },
    {
      "cell_type": "code",
      "metadata": {
        "id": "rCH1LLR7hUWc"
      },
      "source": [
        "# Definicija funkcije za vizuelni prikaz train i test podataka\n",
        "\n",
        "def plot_data(train_data = train['Close'], test_data = test['Close']):\n",
        "\n",
        "  fig, ax = plt.subplots(1, figsize=(16, 9))\n",
        "  ax.plot(train_data, label='trening', linewidth=2)\n",
        "  ax.plot(test_data, label='test', linewidth=2)\n",
        "  ax.set_ylabel('cena [USD]', fontsize=14)\n",
        "  ax.set_title(label = 'Vizuelni prikaz skupova za trening i test', fontsize=18)\n",
        "  ax.legend(loc='best', fontsize=18)\n",
        "\n",
        "  #data = data.reset_index()\n",
        "  #x = data.index\n",
        "  #ax.set_xticks(range(87724))\n"
      ],
      "execution_count": null,
      "outputs": []
    },
    {
      "cell_type": "code",
      "metadata": {
        "id": "vlwad6fjfGSU"
      },
      "source": [
        "# Plotovanje train i test skupa podataka\n",
        "\n",
        "plot_data(train_data = train['Close'], test_data = test['Close'])"
      ],
      "execution_count": null,
      "outputs": []
    },
    {
      "cell_type": "markdown",
      "metadata": {
        "id": "dZw1y3Dxk1bt"
      },
      "source": [
        "## **Priprema trening skupa**"
      ]
    },
    {
      "cell_type": "markdown",
      "metadata": {
        "id": "vI9Ehz9mlQu2"
      },
      "source": [
        "## **Filtriranje atributa train skupa**"
      ]
    },
    {
      "cell_type": "code",
      "metadata": {
        "id": "bLfZvfLHiph9"
      },
      "source": [
        "# Izbacivanje nepotrebnih kolona (atributa) iz train skupa\n",
        "\n",
        "train_ = train.drop(['Low', 'High', 'Open', 'Date', 'Volume_(BTC)', 'Volume_(Currency)', 'Weighted_Price', 'Timestamp'], axis = 1)\n",
        "train_.head()"
      ],
      "execution_count": null,
      "outputs": []
    },
    {
      "cell_type": "code",
      "metadata": {
        "id": "_iWrck9Mvy_W"
      },
      "source": [
        "# Dimenzije train skupa - pre i nakon izbacivanja atributa\n",
        "\n",
        "train.shape, train_.shape"
      ],
      "execution_count": null,
      "outputs": []
    },
    {
      "cell_type": "markdown",
      "metadata": {
        "id": "aos7IhTSlJ_c"
      },
      "source": [
        "## **Skaliranje train skupa**"
      ]
    },
    {
      "cell_type": "code",
      "metadata": {
        "id": "3F3uP_YAjuAb"
      },
      "source": [
        "# Skaliranje trening skupa\n",
        "\n",
        "scaler = MinMaxScaler(feature_range=(0, 1))\n",
        "train_ = scaler.fit_transform(train_)\n",
        "train_"
      ],
      "execution_count": null,
      "outputs": []
    },
    {
      "cell_type": "markdown",
      "metadata": {
        "id": "InbjlC2IlFqc"
      },
      "source": [
        "## **Odredjivanje ciljne promenljive na train skupu**"
      ]
    },
    {
      "cell_type": "code",
      "metadata": {
        "id": "4x8ADxLLj2Gh"
      },
      "source": [
        "# Odredjivanje ciljne promenljive na train skupu\n",
        "\n",
        "X_train = []\n",
        "y_train = []\n",
        "\n",
        "for i in range(60, train_.shape[0]):\n",
        "    X_train.append(train_[i-60:i])\n",
        "    y_train.append(train_[i,0])\n",
        "\n",
        "\n",
        "# train.shape = 100\n",
        "# i in (60, 100)\n",
        "# x_train.append(train[i-60:i])\n",
        "# y_train.append(train[i, 0])\n",
        "\n",
        "# i = 61\n",
        "# x_train - train[1:61]\n",
        "# y_train - train[61, 0]\n",
        "\n",
        "# i = 62\n",
        "# x_train - train[1:61] + train[2:62]\n",
        "# y_train - train[61, 0] + train[62, 0]\n",
        "\n",
        "# ...\n",
        "\n",
        "# i = 99\n",
        "# x_train - train[1:61] + train[2:62] + ... + train[33:99]\n",
        "# y_train - train[61, 0] + train[62, 0] + ... + train[99, 0]\n"
      ],
      "execution_count": null,
      "outputs": []
    },
    {
      "cell_type": "code",
      "metadata": {
        "id": "gAG1YTd6yw34"
      },
      "source": [
        "# Konverzija u np.array\n",
        "\n",
        "X_train, y_train = np.array(X_train), np.array(y_train)"
      ],
      "execution_count": null,
      "outputs": []
    },
    {
      "cell_type": "code",
      "metadata": {
        "id": "uJ-ULtT3y1vi"
      },
      "source": [
        "# Dimenzije X_train\n",
        "\n",
        "X_train.shape"
      ],
      "execution_count": null,
      "outputs": []
    },
    {
      "cell_type": "markdown",
      "metadata": {
        "id": "v38-_t3flcLM"
      },
      "source": [
        "## **Kreiranje, kompilacija i treniranje mreze**"
      ]
    },
    {
      "cell_type": "markdown",
      "metadata": {
        "id": "HNthz4cil_oG"
      },
      "source": [
        "### **Kreiranje mreze**"
      ]
    },
    {
      "cell_type": "code",
      "metadata": {
        "id": "lfeVY4ggy3Az"
      },
      "source": [
        "# Definicija funkcije koja kreira i vraca model mreze\n",
        "\n",
        "def build_net(input_1 = X_train.shape[1], input_2 = X_train.shape[2]):\n",
        "\n",
        "  net = Sequential()\n",
        "  net.add(LSTM(units = 50, activation = 'relu', return_sequences = True, input_shape = (input_1, input_2)))\n",
        "  net.add(Dropout(0.2))\n",
        "  net.add(LSTM(units = 60, activation = 'relu', return_sequences = True))\n",
        "  net.add(Dropout(0.3))\n",
        "\n",
        "  net.add(LSTM(units = 80, activation = 'relu', return_sequences = True))\n",
        "  net.add(Dropout(0.4))\n",
        "\n",
        "  net.add(LSTM(units = 120, activation = 'relu'))\n",
        "  net.add(Dropout(0.5))\n",
        "\n",
        "  net.add(Dense(units =1))\n",
        "  print(net.summary())\n",
        "\n",
        "  return net\n"
      ],
      "execution_count": null,
      "outputs": []
    },
    {
      "cell_type": "code",
      "metadata": {
        "id": "1UBUjLyNh5KP"
      },
      "source": [
        "# Kreiranje modela mreze\n",
        "\n",
        "net = build_net(input_1 = X_train.shape[1], input_2 = X_train.shape[2])"
      ],
      "execution_count": null,
      "outputs": []
    },
    {
      "cell_type": "markdown",
      "metadata": {
        "id": "30h12bNEmP83"
      },
      "source": [
        "### **Kompilacija i treniranje mreze**"
      ]
    },
    {
      "cell_type": "code",
      "metadata": {
        "id": "W1PIqBXAb8LA"
      },
      "source": [
        "# Definicija funkcije za kompilaciju i treniranje mreze\n",
        "# Treniranje je moguce vrsiti sa ili bez validacije\n",
        "\n",
        "def compile_and_fit(optimizer = 'adam', loss = 'mean_squared_error', metrics = 'accuracy', X_train_ = X_train, y_train_ = y_train, epochs = 20, validation = 0.1, batch_size = 50, patience=3):\n",
        "\n",
        "  net.compile(optimizer = optimizer, loss = loss, metrics = metrics)\n",
        "\n",
        "  callback = callbacks.EarlyStopping(monitor = 'loss', patience = patience)\n",
        "\n",
        "  if validation == 0:\n",
        "    history = net.fit(X_train_, y_train_, epochs = epochs, batch_size = batch_size, callbacks=[callback])\n",
        "  else:\n",
        "    history = net.fit(X_train_, y_train_, epochs = epochs, validation_split = validation, batch_size = batch_size, callbacks=[callback])\n",
        "\n",
        "  return history, net\n"
      ],
      "execution_count": null,
      "outputs": []
    },
    {
      "cell_type": "code",
      "metadata": {
        "id": "VWL-DLbIlrbw"
      },
      "source": [
        "# Kompilacija i treniranje mreze sa validacijom\n",
        "\n",
        "history_validation, net_validation = compile_and_fit(optimizer = 'adam', loss = 'mean_squared_error', metrics = ['accuracy', 'mae'], X_train_ = X_train, y_train_ = y_train, epochs = 20, validation = 0.1, batch_size = 50, patience=3)\n",
        "\n",
        "\n",
        "# Kompilacija i treniranje mreze bez validacije\n",
        "\n",
        "history_no_validation, net_no_validation = compile_and_fit(optimizer = 'adam', loss = 'mean_squared_error', metrics = ['accuracy', 'mae'], X_train_ = X_train, y_train_ = y_train, epochs = 20, validation = 0, batch_size = 50, patience=3)\n"
      ],
      "execution_count": null,
      "outputs": []
    },
    {
      "cell_type": "markdown",
      "metadata": {
        "id": "3wdUsbdgnIdP"
      },
      "source": [
        "## **Priprema test skupa**"
      ]
    },
    {
      "cell_type": "markdown",
      "metadata": {
        "id": "gbS6pt_LnUdP"
      },
      "source": [
        "### **Filtriranje atributa test skupa**"
      ]
    },
    {
      "cell_type": "code",
      "metadata": {
        "id": "XP-aXyi7MbNA"
      },
      "source": [
        "# Izbacivanje nepotrebnih kolona (atributa) iz test skupa\n",
        "\n",
        "test_ = test.drop(['Low', 'High', 'Open', 'Date', 'Volume_(BTC)', 'Volume_(Currency)', 'Weighted_Price', 'Timestamp'], axis = 1)\n"
      ],
      "execution_count": null,
      "outputs": []
    },
    {
      "cell_type": "markdown",
      "metadata": {
        "id": "jBcsPYFgryj9"
      },
      "source": [
        "### **Skaliranje test skupa**"
      ]
    },
    {
      "cell_type": "code",
      "metadata": {
        "id": "3nS3LkG4rl0B"
      },
      "source": [
        "# Skaliranje test skupa\n",
        "\n",
        "test_ = scaler.transform(test_)"
      ],
      "execution_count": null,
      "outputs": []
    },
    {
      "cell_type": "markdown",
      "metadata": {
        "id": "MxVP5EpOr4fL"
      },
      "source": [
        "### **Odredjivanje ciljne promenljive na test skupu**"
      ]
    },
    {
      "cell_type": "code",
      "metadata": {
        "id": "M09aM4LOrnrr"
      },
      "source": [
        "# Odredjivanje ciljne (target) promenljive na test skupu\n",
        "\n",
        "X_test = []\n",
        "y_test = []\n",
        "\n",
        "for i in range(60, test_.shape[0]):\n",
        "    X_test.append(test_[i-60:i])\n",
        "    y_test.append(test_[i,0])\n",
        "    "
      ],
      "execution_count": null,
      "outputs": []
    },
    {
      "cell_type": "code",
      "metadata": {
        "id": "QGBTTxYTrqK9"
      },
      "source": [
        "# Konverzija u np.array\n",
        "\n",
        "X_test, y_test = np.array(X_test), np.array(y_test)"
      ],
      "execution_count": null,
      "outputs": []
    },
    {
      "cell_type": "markdown",
      "metadata": {
        "id": "pjo3QnGVsKpt"
      },
      "source": [
        "## **Predvidjanje**"
      ]
    },
    {
      "cell_type": "code",
      "metadata": {
        "id": "IkU6jqFNrrUZ"
      },
      "source": [
        "# Predvidjanje za mrezu treniranu bez i sa validacijom\n",
        "\n",
        "# Bez validacije\n",
        "y_predicted_no_validation = net_no_validation.predict(X_test)\n",
        "print('Predvidjene vrednosti (prvih 10) - bez validacije:\\n', y_predicted_no_validation[:10])\n",
        "\n",
        "# Sa validacijom\n",
        "y_predicted_validation = net_validation.predict(X_test)\n",
        "print('\\nPredvidjene vrednosti (prvih 10) - sa validacijom:\\n', y_predicted_validation[:10])"
      ],
      "execution_count": null,
      "outputs": []
    },
    {
      "cell_type": "markdown",
      "metadata": {
        "id": "Vtwv1-mtsie5"
      },
      "source": [
        "## **Vizualizacija rezultata predvidjanja i metrika**"
      ]
    },
    {
      "cell_type": "markdown",
      "metadata": {
        "id": "6jO28lmsKs_i"
      },
      "source": [
        "### **Vizuelni prikaz predvidjene i stvarne vrednosti**"
      ]
    },
    {
      "cell_type": "code",
      "metadata": {
        "id": "rpuCAGCxzAat"
      },
      "source": [
        "# Vizuelni prikaz rezultata modela mreze\n",
        "\n",
        "def plot_real_vs_predicted_data(test_set, predicted_set):\n",
        "\n",
        "  fig, ax = plt.subplots(1, figsize=(16, 9))\n",
        "  ax.plot(test_set, label='Stvarna vrednost BTC', linewidth=2)\n",
        "  ax.plot(predicted_set, label='Predvidjena vrednost BTC', linewidth=2)\n",
        "  ax.set_xlabel('Redni broj instance', fontsize=14)\n",
        "  ax.set_ylabel('Cena [USD]', fontsize=14)\n",
        "  ax.set_title(label = 'Vizuelni prikaz stvarne i predvidjene vrednosti BTC', fontsize=18)\n",
        "  ax.legend(loc='best', fontsize=18)\n",
        "\n",
        "  # test = test.reset_index()\n",
        "  # x = test.index\n"
      ],
      "execution_count": null,
      "outputs": []
    },
    {
      "cell_type": "code",
      "metadata": {
        "id": "iEnWZYr6zAhG"
      },
      "source": [
        "# Plotovanje stvarne i predvidjene vrednosti\n",
        "\n",
        "# Bez validacije\n",
        "plot_real_vs_predicted_data(test_set = y_test, predicted_set = y_predicted_no_validation)\n",
        "\n",
        "# Sa validacijom\n",
        "plot_real_vs_predicted_data(test_set = y_test, predicted_set = y_predicted_validation)"
      ],
      "execution_count": null,
      "outputs": []
    },
    {
      "cell_type": "markdown",
      "metadata": {
        "id": "3CKEFJKmCHrB"
      },
      "source": [
        "### **Vizuelni prikaz gubitka, tacnosti i srednje apsolutne greske tokom treniranja mreze (sa i bez validacije)**"
      ]
    },
    {
      "cell_type": "code",
      "metadata": {
        "id": "JLp_Ems1zAja"
      },
      "source": [
        "# Vizuelni prikaz gubitka\n",
        "\n",
        "def plot_loss(history_):\n",
        "\n",
        "  epochs = range(len(history_.history['loss'])) # broj epoha\n",
        "  plt.title('Vizuelni prikaz gubitka (loss)')\n",
        "  plt.xlabel('broj epohe')\n",
        "  plt.ylabel('gubitak')\n",
        "\n",
        "  plt.plot(epochs, history_.history['loss'], label='Gubitak (loss) tokom treniranja')\n",
        "\n",
        "  if 'val_loss' in history_.history:\n",
        "    plt.plot(epochs, history_.history['val_loss'], label='Gubitak (val_loss) tokom treniranja sa validacijom')\n",
        "\n",
        "  plt.legend(loc = 'best')\n",
        "\n",
        "  plt.show()\n"
      ],
      "execution_count": null,
      "outputs": []
    },
    {
      "cell_type": "code",
      "metadata": {
        "id": "bYAfGLYxCCS3"
      },
      "source": [
        "# Vizuelni prikaz tacnosti\n",
        "\n",
        "def plot_accuracy(history_):\n",
        "\n",
        "  epochs = range(len(history_.history['accuracy'])) # broj epoha\n",
        "  plt.title('Vizuelni prikaz tacnosti (accuracy')\n",
        "  plt.xlabel('broj epohe')\n",
        "  plt.ylabel('tacnost')\n",
        "  \n",
        "  plt.plot(epochs, history_.history['accuracy'], label='Tacnost (accuracy) tokom treniranja')\n",
        "\n",
        "  if 'val_accuracy' in history_.history:\n",
        "    plt.plot(epochs, history_.history['val_accuracy'], label='Tacnost (val_accuracy) tokom treniranja sa validacijom')\n",
        "\n",
        "  plt.legend(loc = 'best')\n",
        "\n",
        "  plt.show()\n"
      ],
      "execution_count": null,
      "outputs": []
    },
    {
      "cell_type": "code",
      "metadata": {
        "id": "RI3Z5uaxCEIi"
      },
      "source": [
        "# Vizuelni prikaz MAE\n",
        "\n",
        "def plot_mae(history_):\n",
        "\n",
        "  epochs = range(len(history_.history['mae'])) # broj epoha\n",
        "  plt.title('Vizuelni prikaz MAE (mae')\n",
        "  plt.xlabel('broj epohe')\n",
        "  plt.ylabel('MAE')\n",
        "  \n",
        "  plt.plot(epochs, history_.history['mae'], label='MAE (mae) tokom treniranja')\n",
        "\n",
        "  if 'val_mae' in history_.history:\n",
        "    plt.plot(epochs, history_.history['val_mae'], label='MAE (val_mae) tokom treniranja sa validacijom')\n",
        "\n",
        "  plt.legend(loc = 'best')\n",
        "\n",
        "  plt.show()\n"
      ],
      "execution_count": null,
      "outputs": []
    },
    {
      "cell_type": "code",
      "metadata": {
        "id": "hSHrmcQDBQcg"
      },
      "source": [
        "# MAE\n",
        "\n",
        "plot_mae(history_no_validation)"
      ],
      "execution_count": null,
      "outputs": []
    },
    {
      "cell_type": "code",
      "metadata": {
        "id": "_TMAcQ_yGPgX"
      },
      "source": [
        "# MAE - sa validacijom\n",
        "\n",
        "plot_mae(history_validation)"
      ],
      "execution_count": null,
      "outputs": []
    },
    {
      "cell_type": "code",
      "metadata": {
        "id": "1BSAAKGSzAlx"
      },
      "source": [
        "# Loss\n",
        "\n",
        "plot_loss(history_no_validation)"
      ],
      "execution_count": null,
      "outputs": []
    },
    {
      "cell_type": "code",
      "metadata": {
        "id": "rBTlwpP9y8JY"
      },
      "source": [
        "# Loss - sa validacijom\n",
        "\n",
        "plot_loss(history_validation)"
      ],
      "execution_count": null,
      "outputs": []
    },
    {
      "cell_type": "code",
      "metadata": {
        "id": "L2Sp1pspGgUm"
      },
      "source": [
        "# Accuracy\n",
        "\n",
        "plot_accuracy(history_no_validation)"
      ],
      "execution_count": null,
      "outputs": []
    },
    {
      "cell_type": "code",
      "metadata": {
        "id": "clujvWNKGkIk"
      },
      "source": [
        "# Accuracy - validation\n",
        "\n",
        "plot_accuracy(history_validation)"
      ],
      "execution_count": null,
      "outputs": []
    },
    {
      "cell_type": "code",
      "metadata": {
        "id": "aNI6MXpPmwjw"
      },
      "source": [
        "# Loss, accuracy, MAE nad skupom za testiranje\n",
        "\n",
        "# (za model koji pri treniranju koristi validaciju\n",
        "# i za model koji pri treniranju ne koristi validaciju)\n",
        "\n",
        "test_metrics_no_val = net_no_validation.evaluate(X_test, y_test)\n",
        "test_metrics_val = net_validation.evaluate(X_test, y_test)\n",
        "\n",
        "print('\\nMetrike prilikom testiranja - model treniran bez validacije\\n')\n",
        "print(net_no_validation.metrics_names[0], test_metrics_no_val[0])\n",
        "print(net_no_validation.metrics_names[1], test_metrics_no_val[1])\n",
        "print(net_no_validation.metrics_names[2], test_metrics_no_val[2])\n",
        "\n",
        "print('\\n\\nMetrike prilikom testiranja - model treniran sa validacijom\\n')\n",
        "print(net_validation.metrics_names[0], test_metrics_val[0])\n",
        "print(net_validation.metrics_names[1], test_metrics_val[1])\n",
        "print(net_validation.metrics_names[2], test_metrics_val[2])\n"
      ],
      "execution_count": null,
      "outputs": []
    },
    {
      "cell_type": "code",
      "metadata": {
        "id": "uL91CnFawYaf"
      },
      "source": [
        "# R2 skor nad skupom za testiranje\n",
        "\n",
        "r2 = metrics.r2_score(y_predicted_no_validation, y_test)\n",
        "r2_val = metrics.r2_score(y_predicted_validation, y_test)\n",
        "\n",
        "print('R2 skor prilikom testiranja - model treniran bez validacije', r2)\n",
        "print('R2 skor prilikom testiranja - model treniran sa validacijom', r2_val)"
      ],
      "execution_count": null,
      "outputs": []
    }
  ]
}