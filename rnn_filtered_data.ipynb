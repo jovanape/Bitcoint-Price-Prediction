{
  "nbformat": 4,
  "nbformat_minor": 0,
  "metadata": {
    "colab": {
      "name": "rnn_filtered_data.ipynb",
      "provenance": [],
      "collapsed_sections": [],
      "include_colab_link": true
    },
    "kernelspec": {
      "name": "python3",
      "display_name": "Python 3"
    },
    "language_info": {
      "name": "python"
    }
  },
  "cells": [
    {
      "cell_type": "markdown",
      "metadata": {
        "id": "view-in-github",
        "colab_type": "text"
      },
      "source": [
        "<a href=\"https://colab.research.google.com/github/jovanape/Bitcoint-Price-Prediction/blob/main/rnn_filtered_data.ipynb\" target=\"_parent\"><img src=\"https://colab.research.google.com/assets/colab-badge.svg\" alt=\"Open In Colab\"/></a>"
      ]
    },
    {
      "cell_type": "markdown",
      "metadata": {
        "id": "4_6hHjWjjzos"
      },
      "source": [
        "# **Predvidjanje vrednosti Bitcoina pomocu RNN**\n",
        "\n",
        "**Atributi:** Open, High, Low, Close\n",
        "\n",
        "**Filtrirani podaci:** od 28.11.2020."
      ]
    },
    {
      "cell_type": "markdown",
      "metadata": {
        "id": "krvFQDwvkBdX"
      },
      "source": [
        "## **Ucitavanje biblioteka**"
      ]
    },
    {
      "cell_type": "code",
      "metadata": {
        "id": "iaSuiXq3HP1y"
      },
      "source": [
        "# Ucitavanje biblioteka\n",
        "\n",
        "import numpy as np \n",
        "import pandas as pd \n",
        "from matplotlib import pyplot as plt\n",
        "from sklearn.preprocessing import MinMaxScaler\n",
        "from keras.models import Sequential\n",
        "from keras.layers import Dense\n",
        "from keras.layers import LSTM\n",
        "from keras.layers import Dropout"
      ],
      "execution_count": 1,
      "outputs": []
    },
    {
      "cell_type": "markdown",
      "metadata": {
        "id": "QsGhjvltjWcA"
      },
      "source": [
        "## **Ucitavanje skupa podataka i pretprocesiranje**"
      ]
    },
    {
      "cell_type": "code",
      "metadata": {
        "colab": {
          "base_uri": "https://localhost:8080/",
          "height": 206
        },
        "id": "_r4bteeIUcND",
        "outputId": "d53d2c36-5185-4dde-f6f2-e0db11753122"
      },
      "source": [
        "# Ucitavanje skupa podataka\n",
        "\n",
        "data = pd.read_csv('bitstampUSD_1-min_data_2012-01-01_to_2021-03-31.csv')\n",
        "data.head()"
      ],
      "execution_count": 2,
      "outputs": [
        {
          "output_type": "execute_result",
          "data": {
            "text/html": [
              "<div>\n",
              "<style scoped>\n",
              "    .dataframe tbody tr th:only-of-type {\n",
              "        vertical-align: middle;\n",
              "    }\n",
              "\n",
              "    .dataframe tbody tr th {\n",
              "        vertical-align: top;\n",
              "    }\n",
              "\n",
              "    .dataframe thead th {\n",
              "        text-align: right;\n",
              "    }\n",
              "</style>\n",
              "<table border=\"1\" class=\"dataframe\">\n",
              "  <thead>\n",
              "    <tr style=\"text-align: right;\">\n",
              "      <th></th>\n",
              "      <th>Timestamp</th>\n",
              "      <th>Open</th>\n",
              "      <th>High</th>\n",
              "      <th>Low</th>\n",
              "      <th>Close</th>\n",
              "      <th>Volume_(BTC)</th>\n",
              "      <th>Volume_(Currency)</th>\n",
              "      <th>Weighted_Price</th>\n",
              "    </tr>\n",
              "  </thead>\n",
              "  <tbody>\n",
              "    <tr>\n",
              "      <th>0</th>\n",
              "      <td>1325317920</td>\n",
              "      <td>4.39</td>\n",
              "      <td>4.39</td>\n",
              "      <td>4.39</td>\n",
              "      <td>4.39</td>\n",
              "      <td>0.455581</td>\n",
              "      <td>2.0</td>\n",
              "      <td>4.39</td>\n",
              "    </tr>\n",
              "    <tr>\n",
              "      <th>1</th>\n",
              "      <td>1325317980</td>\n",
              "      <td>NaN</td>\n",
              "      <td>NaN</td>\n",
              "      <td>NaN</td>\n",
              "      <td>NaN</td>\n",
              "      <td>NaN</td>\n",
              "      <td>NaN</td>\n",
              "      <td>NaN</td>\n",
              "    </tr>\n",
              "    <tr>\n",
              "      <th>2</th>\n",
              "      <td>1325318040</td>\n",
              "      <td>NaN</td>\n",
              "      <td>NaN</td>\n",
              "      <td>NaN</td>\n",
              "      <td>NaN</td>\n",
              "      <td>NaN</td>\n",
              "      <td>NaN</td>\n",
              "      <td>NaN</td>\n",
              "    </tr>\n",
              "    <tr>\n",
              "      <th>3</th>\n",
              "      <td>1325318100</td>\n",
              "      <td>NaN</td>\n",
              "      <td>NaN</td>\n",
              "      <td>NaN</td>\n",
              "      <td>NaN</td>\n",
              "      <td>NaN</td>\n",
              "      <td>NaN</td>\n",
              "      <td>NaN</td>\n",
              "    </tr>\n",
              "    <tr>\n",
              "      <th>4</th>\n",
              "      <td>1325318160</td>\n",
              "      <td>NaN</td>\n",
              "      <td>NaN</td>\n",
              "      <td>NaN</td>\n",
              "      <td>NaN</td>\n",
              "      <td>NaN</td>\n",
              "      <td>NaN</td>\n",
              "      <td>NaN</td>\n",
              "    </tr>\n",
              "  </tbody>\n",
              "</table>\n",
              "</div>"
            ],
            "text/plain": [
              "    Timestamp  Open  High  ...  Volume_(BTC)  Volume_(Currency)  Weighted_Price\n",
              "0  1325317920  4.39  4.39  ...      0.455581                2.0            4.39\n",
              "1  1325317980   NaN   NaN  ...           NaN                NaN             NaN\n",
              "2  1325318040   NaN   NaN  ...           NaN                NaN             NaN\n",
              "3  1325318100   NaN   NaN  ...           NaN                NaN             NaN\n",
              "4  1325318160   NaN   NaN  ...           NaN                NaN             NaN\n",
              "\n",
              "[5 rows x 8 columns]"
            ]
          },
          "metadata": {},
          "execution_count": 2
        }
      ]
    },
    {
      "cell_type": "code",
      "metadata": {
        "colab": {
          "base_uri": "https://localhost:8080/",
          "height": 206
        },
        "id": "6I5dWQWgcziA",
        "outputId": "cbefaaad-8e7d-4691-9aa6-795a1e1ec7c0"
      },
      "source": [
        "# Ciscenje podataka od NaN vrednosti\n",
        "\n",
        "data = data.dropna()\n",
        "data.head()"
      ],
      "execution_count": 3,
      "outputs": [
        {
          "output_type": "execute_result",
          "data": {
            "text/html": [
              "<div>\n",
              "<style scoped>\n",
              "    .dataframe tbody tr th:only-of-type {\n",
              "        vertical-align: middle;\n",
              "    }\n",
              "\n",
              "    .dataframe tbody tr th {\n",
              "        vertical-align: top;\n",
              "    }\n",
              "\n",
              "    .dataframe thead th {\n",
              "        text-align: right;\n",
              "    }\n",
              "</style>\n",
              "<table border=\"1\" class=\"dataframe\">\n",
              "  <thead>\n",
              "    <tr style=\"text-align: right;\">\n",
              "      <th></th>\n",
              "      <th>Timestamp</th>\n",
              "      <th>Open</th>\n",
              "      <th>High</th>\n",
              "      <th>Low</th>\n",
              "      <th>Close</th>\n",
              "      <th>Volume_(BTC)</th>\n",
              "      <th>Volume_(Currency)</th>\n",
              "      <th>Weighted_Price</th>\n",
              "    </tr>\n",
              "  </thead>\n",
              "  <tbody>\n",
              "    <tr>\n",
              "      <th>0</th>\n",
              "      <td>1325317920</td>\n",
              "      <td>4.39</td>\n",
              "      <td>4.39</td>\n",
              "      <td>4.39</td>\n",
              "      <td>4.39</td>\n",
              "      <td>0.455581</td>\n",
              "      <td>2.000000</td>\n",
              "      <td>4.390000</td>\n",
              "    </tr>\n",
              "    <tr>\n",
              "      <th>478</th>\n",
              "      <td>1325346600</td>\n",
              "      <td>4.39</td>\n",
              "      <td>4.39</td>\n",
              "      <td>4.39</td>\n",
              "      <td>4.39</td>\n",
              "      <td>48.000000</td>\n",
              "      <td>210.720000</td>\n",
              "      <td>4.390000</td>\n",
              "    </tr>\n",
              "    <tr>\n",
              "      <th>547</th>\n",
              "      <td>1325350740</td>\n",
              "      <td>4.50</td>\n",
              "      <td>4.57</td>\n",
              "      <td>4.50</td>\n",
              "      <td>4.57</td>\n",
              "      <td>37.862297</td>\n",
              "      <td>171.380338</td>\n",
              "      <td>4.526411</td>\n",
              "    </tr>\n",
              "    <tr>\n",
              "      <th>548</th>\n",
              "      <td>1325350800</td>\n",
              "      <td>4.58</td>\n",
              "      <td>4.58</td>\n",
              "      <td>4.58</td>\n",
              "      <td>4.58</td>\n",
              "      <td>9.000000</td>\n",
              "      <td>41.220000</td>\n",
              "      <td>4.580000</td>\n",
              "    </tr>\n",
              "    <tr>\n",
              "      <th>1224</th>\n",
              "      <td>1325391360</td>\n",
              "      <td>4.58</td>\n",
              "      <td>4.58</td>\n",
              "      <td>4.58</td>\n",
              "      <td>4.58</td>\n",
              "      <td>1.502000</td>\n",
              "      <td>6.879160</td>\n",
              "      <td>4.580000</td>\n",
              "    </tr>\n",
              "  </tbody>\n",
              "</table>\n",
              "</div>"
            ],
            "text/plain": [
              "       Timestamp  Open  High  ...  Volume_(BTC)  Volume_(Currency)  Weighted_Price\n",
              "0     1325317920  4.39  4.39  ...      0.455581           2.000000        4.390000\n",
              "478   1325346600  4.39  4.39  ...     48.000000         210.720000        4.390000\n",
              "547   1325350740  4.50  4.57  ...     37.862297         171.380338        4.526411\n",
              "548   1325350800  4.58  4.58  ...      9.000000          41.220000        4.580000\n",
              "1224  1325391360  4.58  4.58  ...      1.502000           6.879160        4.580000\n",
              "\n",
              "[5 rows x 8 columns]"
            ]
          },
          "metadata": {},
          "execution_count": 3
        }
      ]
    },
    {
      "cell_type": "code",
      "metadata": {
        "colab": {
          "base_uri": "https://localhost:8080/",
          "height": 264
        },
        "id": "q2sJeCf9c0Df",
        "outputId": "79a21e00-0cdb-43c9-c896-c2976c4e8a9d"
      },
      "source": [
        "# Kreiranje datuma\n",
        "\n",
        "data['Date'] = pd.to_datetime(data['Timestamp'], unit='s').dt.date # samo datum (bez vremena)\n",
        "\n",
        "\n",
        "# Filtriranje podataka\n",
        "\n",
        "data = data.loc[data['Date'] > pd.to_datetime('2020-11-28')]\n",
        "data.head(4)"
      ],
      "execution_count": 4,
      "outputs": [
        {
          "output_type": "execute_result",
          "data": {
            "text/html": [
              "<div>\n",
              "<style scoped>\n",
              "    .dataframe tbody tr th:only-of-type {\n",
              "        vertical-align: middle;\n",
              "    }\n",
              "\n",
              "    .dataframe tbody tr th {\n",
              "        vertical-align: top;\n",
              "    }\n",
              "\n",
              "    .dataframe thead th {\n",
              "        text-align: right;\n",
              "    }\n",
              "</style>\n",
              "<table border=\"1\" class=\"dataframe\">\n",
              "  <thead>\n",
              "    <tr style=\"text-align: right;\">\n",
              "      <th></th>\n",
              "      <th>Timestamp</th>\n",
              "      <th>Open</th>\n",
              "      <th>High</th>\n",
              "      <th>Low</th>\n",
              "      <th>Close</th>\n",
              "      <th>Volume_(BTC)</th>\n",
              "      <th>Volume_(Currency)</th>\n",
              "      <th>Weighted_Price</th>\n",
              "      <th>Date</th>\n",
              "    </tr>\n",
              "  </thead>\n",
              "  <tbody>\n",
              "    <tr>\n",
              "      <th>4681696</th>\n",
              "      <td>1606608000</td>\n",
              "      <td>17724.41</td>\n",
              "      <td>17724.41</td>\n",
              "      <td>17724.41</td>\n",
              "      <td>17724.41</td>\n",
              "      <td>0.016841</td>\n",
              "      <td>298.499979</td>\n",
              "      <td>17724.410000</td>\n",
              "      <td>2020-11-29</td>\n",
              "    </tr>\n",
              "    <tr>\n",
              "      <th>4681697</th>\n",
              "      <td>1606608060</td>\n",
              "      <td>17722.10</td>\n",
              "      <td>17749.65</td>\n",
              "      <td>17722.10</td>\n",
              "      <td>17749.65</td>\n",
              "      <td>2.859834</td>\n",
              "      <td>50688.152648</td>\n",
              "      <td>17724.156252</td>\n",
              "      <td>2020-11-29</td>\n",
              "    </tr>\n",
              "    <tr>\n",
              "      <th>4681698</th>\n",
              "      <td>1606608120</td>\n",
              "      <td>17763.62</td>\n",
              "      <td>17776.29</td>\n",
              "      <td>17755.76</td>\n",
              "      <td>17765.82</td>\n",
              "      <td>0.882884</td>\n",
              "      <td>15681.028780</td>\n",
              "      <td>17761.133523</td>\n",
              "      <td>2020-11-29</td>\n",
              "    </tr>\n",
              "    <tr>\n",
              "      <th>4681699</th>\n",
              "      <td>1606608180</td>\n",
              "      <td>17755.57</td>\n",
              "      <td>17755.90</td>\n",
              "      <td>17716.96</td>\n",
              "      <td>17716.96</td>\n",
              "      <td>1.407406</td>\n",
              "      <td>24977.798082</td>\n",
              "      <td>17747.400469</td>\n",
              "      <td>2020-11-29</td>\n",
              "    </tr>\n",
              "  </tbody>\n",
              "</table>\n",
              "</div>"
            ],
            "text/plain": [
              "          Timestamp      Open  ...  Weighted_Price        Date\n",
              "4681696  1606608000  17724.41  ...    17724.410000  2020-11-29\n",
              "4681697  1606608060  17722.10  ...    17724.156252  2020-11-29\n",
              "4681698  1606608120  17763.62  ...    17761.133523  2020-11-29\n",
              "4681699  1606608180  17755.57  ...    17747.400469  2020-11-29\n",
              "\n",
              "[4 rows x 9 columns]"
            ]
          },
          "metadata": {},
          "execution_count": 4
        }
      ]
    },
    {
      "cell_type": "code",
      "metadata": {
        "colab": {
          "base_uri": "https://localhost:8080/"
        },
        "id": "WsOfYGPxhOfd",
        "outputId": "32bd4446-df66-413e-9637-ae42a7428187"
      },
      "source": [
        "# Dimenzije DataFrame-a\n",
        "\n",
        "data.shape"
      ],
      "execution_count": 5,
      "outputs": [
        {
          "output_type": "execute_result",
          "data": {
            "text/plain": [
              "(175515, 9)"
            ]
          },
          "metadata": {},
          "execution_count": 5
        }
      ]
    },
    {
      "cell_type": "markdown",
      "metadata": {
        "id": "vKO7qcE2jowR"
      },
      "source": [
        "## **Podela skupa, vizualizacija, priprema trening skupa**\n",
        "\n"
      ]
    },
    {
      "cell_type": "markdown",
      "metadata": {
        "id": "uJHmdAZWkeLL"
      },
      "source": [
        "### **Podela skupa podataka**"
      ]
    },
    {
      "cell_type": "code",
      "metadata": {
        "id": "dhZQvDybJsOg"
      },
      "source": [
        "# Definicija funkcije za podelu podataka na train i test skup\n",
        "\n",
        "def data_split(data, test_size = 0, days_to_predict = 0):\n",
        "\n",
        "  if test_size == 0 and days_to_predict == 0:\n",
        "    print('Uneti vrednost za jedan od parametara test_size ili days_to_predict.\\n')\n",
        "    return\n",
        "  elif test_size == 0: # dato je days_to_predict\n",
        "    test_limit = len(data) - prediction_days\n",
        "  else: # dato je test_size ili oba parametra\n",
        "    test_limit = len(data) - int(test_size * len(data))\n",
        "\n",
        "  train = data[:test_limit]\n",
        "  test = data[test_limit:]\n",
        "  \n",
        "  return train, test"
      ],
      "execution_count": 6,
      "outputs": []
    },
    {
      "cell_type": "code",
      "metadata": {
        "id": "1n5kOU90PBHd"
      },
      "source": [
        "# Podela inicijalnog skupa podataka na train i test skup\n",
        "\n",
        "train, test = data_split(data, test_size = 0.2, days_to_predict = 0)"
      ],
      "execution_count": 7,
      "outputs": []
    },
    {
      "cell_type": "code",
      "metadata": {
        "colab": {
          "base_uri": "https://localhost:8080/"
        },
        "id": "juNgJZG7cnQS",
        "outputId": "39e5db75-3241-4749-ad6a-f385300527c3"
      },
      "source": [
        "# Dimenzije train i test skupa\n",
        "\n",
        "train.shape, test.shape"
      ],
      "execution_count": 8,
      "outputs": [
        {
          "output_type": "execute_result",
          "data": {
            "text/plain": [
              "((140412, 9), (35103, 9))"
            ]
          },
          "metadata": {},
          "execution_count": 8
        }
      ]
    },
    {
      "cell_type": "markdown",
      "metadata": {
        "id": "ttRI2EHVkikR"
      },
      "source": [
        "### **Vizualizacija podataka**"
      ]
    },
    {
      "cell_type": "code",
      "metadata": {
        "id": "rCH1LLR7hUWc"
      },
      "source": [
        "# Definicija funkcije za vizuelni prikaz train i test podataka\n",
        "\n",
        "def plot_data(train_data = train['Close'], test_data = test['Close']):\n",
        "\n",
        "  fig, ax = plt.subplots(1, figsize=(16, 9))\n",
        "  ax.plot(train_data, label='trening', linewidth=2)\n",
        "  ax.plot(test_data, label='test', linewidth=2)\n",
        "  ax.set_ylabel('cena [USD]', fontsize=14)\n",
        "  ax.set_title(label = 'Vizuelni prikaz skupova za trening i test', fontsize=18)\n",
        "  ax.legend(loc='best', fontsize=18)\n",
        "\n",
        "  #data = data.reset_index()\n",
        "  #x = data.index\n",
        "  #ax.set_xticks(range(87724))\n"
      ],
      "execution_count": 9,
      "outputs": []
    },
    {
      "cell_type": "code",
      "metadata": {
        "colab": {
          "base_uri": "https://localhost:8080/",
          "height": 473
        },
        "id": "vlwad6fjfGSU",
        "outputId": "ef0e7c9b-8c70-4312-f88a-fb21b52a4ad2"
      },
      "source": [
        "# Plotovanje train i test skupa podataka\n",
        "\n",
        "plot_data(train_data = train['Close'], test_data = test['Close'])"
      ],
      "execution_count": 10,
      "outputs": [
        {
          "output_type": "display_data",
          "data": {
            "image/png": "[encoded data removed]",
            "text/plain": [
              "<Figure size 1152x648 with 1 Axes>"
            ]
          },
          "metadata": {
            "needs_background": "light"
          }
        }
      ]
    },
    {
      "cell_type": "markdown",
      "metadata": {
        "id": "dZw1y3Dxk1bt"
      },
      "source": [
        "### **Priprema trening skupa**"
      ]
    },
    {
      "cell_type": "markdown",
      "metadata": {
        "id": "vI9Ehz9mlQu2"
      },
      "source": [
        "**Filtriranje atributa train skupa**"
      ]
    },
    {
      "cell_type": "code",
      "metadata": {
        "colab": {
          "base_uri": "https://localhost:8080/",
          "height": 206
        },
        "id": "bLfZvfLHiph9",
        "outputId": "311ec22b-bcb1-491b-b8ce-a2f686f3508f"
      },
      "source": [
        "# Izbacivanje nepotrebnih kolona (atributa) iz train skupa\n",
        "\n",
        "train_ = train.drop(['Date', 'Volume_(BTC)', 'Volume_(Currency)', 'Weighted_Price', 'Timestamp'], axis = 1)\n",
        "train_.head()"
      ],
      "execution_count": 11,
      "outputs": [
        {
          "output_type": "execute_result",
          "data": {
            "text/html": [
              "<div>\n",
              "<style scoped>\n",
              "    .dataframe tbody tr th:only-of-type {\n",
              "        vertical-align: middle;\n",
              "    }\n",
              "\n",
              "    .dataframe tbody tr th {\n",
              "        vertical-align: top;\n",
              "    }\n",
              "\n",
              "    .dataframe thead th {\n",
              "        text-align: right;\n",
              "    }\n",
              "</style>\n",
              "<table border=\"1\" class=\"dataframe\">\n",
              "  <thead>\n",
              "    <tr style=\"text-align: right;\">\n",
              "      <th></th>\n",
              "      <th>Open</th>\n",
              "      <th>High</th>\n",
              "      <th>Low</th>\n",
              "      <th>Close</th>\n",
              "    </tr>\n",
              "  </thead>\n",
              "  <tbody>\n",
              "    <tr>\n",
              "      <th>4681696</th>\n",
              "      <td>17724.41</td>\n",
              "      <td>17724.41</td>\n",
              "      <td>17724.41</td>\n",
              "      <td>17724.41</td>\n",
              "    </tr>\n",
              "    <tr>\n",
              "      <th>4681697</th>\n",
              "      <td>17722.10</td>\n",
              "      <td>17749.65</td>\n",
              "      <td>17722.10</td>\n",
              "      <td>17749.65</td>\n",
              "    </tr>\n",
              "    <tr>\n",
              "      <th>4681698</th>\n",
              "      <td>17763.62</td>\n",
              "      <td>17776.29</td>\n",
              "      <td>17755.76</td>\n",
              "      <td>17765.82</td>\n",
              "    </tr>\n",
              "    <tr>\n",
              "      <th>4681699</th>\n",
              "      <td>17755.57</td>\n",
              "      <td>17755.90</td>\n",
              "      <td>17716.96</td>\n",
              "      <td>17716.96</td>\n",
              "    </tr>\n",
              "    <tr>\n",
              "      <th>4681700</th>\n",
              "      <td>17724.70</td>\n",
              "      <td>17739.03</td>\n",
              "      <td>17724.70</td>\n",
              "      <td>17730.01</td>\n",
              "    </tr>\n",
              "  </tbody>\n",
              "</table>\n",
              "</div>"
            ],
            "text/plain": [
              "             Open      High       Low     Close\n",
              "4681696  17724.41  17724.41  17724.41  17724.41\n",
              "4681697  17722.10  17749.65  17722.10  17749.65\n",
              "4681698  17763.62  17776.29  17755.76  17765.82\n",
              "4681699  17755.57  17755.90  17716.96  17716.96\n",
              "4681700  17724.70  17739.03  17724.70  17730.01"
            ]
          },
          "metadata": {},
          "execution_count": 11
        }
      ]
    },
    {
      "cell_type": "code",
      "metadata": {
        "colab": {
          "base_uri": "https://localhost:8080/"
        },
        "id": "_iWrck9Mvy_W",
        "outputId": "62a3d12f-6d71-4bc5-932a-ded8fbb59154"
      },
      "source": [
        "# Dimenzije train skupa - pre i nakon izbacivanja atributa\n",
        "\n",
        "train.shape, train_.shape"
      ],
      "execution_count": 12,
      "outputs": [
        {
          "output_type": "execute_result",
          "data": {
            "text/plain": [
              "((140412, 9), (140412, 4))"
            ]
          },
          "metadata": {},
          "execution_count": 12
        }
      ]
    },
    {
      "cell_type": "markdown",
      "metadata": {
        "id": "aos7IhTSlJ_c"
      },
      "source": [
        "**Skaliranje train skupa**"
      ]
    },
    {
      "cell_type": "code",
      "metadata": {
        "colab": {
          "base_uri": "https://localhost:8080/"
        },
        "id": "3F3uP_YAjuAb",
        "outputId": "fffc8632-6010-4bbf-ddcf-e90d97620ff8"
      },
      "source": [
        "# Skaliranje trening skupa\n",
        "\n",
        "scaler = MinMaxScaler(feature_range=(0, 1))\n",
        "train_ = scaler.fit_transform(train_)\n",
        "train_"
      ],
      "execution_count": 13,
      "outputs": [
        {
          "output_type": "execute_result",
          "data": {
            "text/plain": [
              "array([[0.00447337, 0.00395796, 0.00464653, 0.00423064],\n",
              "       [0.00441676, 0.00457672, 0.00458991, 0.00484923],\n",
              "       [0.00543432, 0.00522981, 0.00541507, 0.00524553],\n",
              "       ...,\n",
              "       [0.73070455, 0.73145812, 0.73008939, 0.73153164],\n",
              "       [0.73138096, 0.73119017, 0.73112734, 0.73124244],\n",
              "       [0.73122191, 0.73118919, 0.73109866, 0.73049297]])"
            ]
          },
          "metadata": {},
          "execution_count": 13
        }
      ]
    },
    {
      "cell_type": "markdown",
      "metadata": {
        "id": "InbjlC2IlFqc"
      },
      "source": [
        "**Odredjivanje ciljne promenljive na train skupu**"
      ]
    },
    {
      "cell_type": "code",
      "metadata": {
        "id": "4x8ADxLLj2Gh"
      },
      "source": [
        "# Odredjivanje ciljne promenljive na train skupu\n",
        "\n",
        "X_train = []\n",
        "y_train = []\n",
        "\n",
        "for i in range(60, train_.shape[0]):\n",
        "    X_train.append(train_[i-60:i])\n",
        "    y_train.append(train_[i,0])"
      ],
      "execution_count": 14,
      "outputs": []
    },
    {
      "cell_type": "code",
      "metadata": {
        "id": "gAG1YTd6yw34"
      },
      "source": [
        "# Konverzija u np.array\n",
        "\n",
        "X_train, y_train = np.array(X_train), np.array(y_train)"
      ],
      "execution_count": 15,
      "outputs": []
    },
    {
      "cell_type": "code",
      "metadata": {
        "colab": {
          "base_uri": "https://localhost:8080/"
        },
        "id": "uJ-ULtT3y1vi",
        "outputId": "e8a1e6bb-bd2d-4c41-f719-ef6e0ac81c32"
      },
      "source": [
        "# Dimenzije X_train\n",
        "\n",
        "X_train.shape"
      ],
      "execution_count": 16,
      "outputs": [
        {
          "output_type": "execute_result",
          "data": {
            "text/plain": [
              "(140352, 60, 4)"
            ]
          },
          "metadata": {},
          "execution_count": 16
        }
      ]
    },
    {
      "cell_type": "markdown",
      "metadata": {
        "id": "v38-_t3flcLM"
      },
      "source": [
        "## **Kreiranje, kompilacija i treniranje mreze**"
      ]
    },
    {
      "cell_type": "markdown",
      "metadata": {
        "id": "HNthz4cil_oG"
      },
      "source": [
        "### **Kreiranje mreze**"
      ]
    },
    {
      "cell_type": "code",
      "metadata": {
        "id": "lfeVY4ggy3Az"
      },
      "source": [
        "# Definicija funkcije koja kreira i vraca model mreze\n",
        "\n",
        "def build_net(input_1 = X_train.shape[1], input_2 = X_train.shape[2]):\n",
        "\n",
        "  net = Sequential()\n",
        "  net.add(LSTM(units = 50, activation = 'relu', return_sequences = True, input_shape = (input_1, input_2)))\n",
        "  net.add(Dropout(0.2))\n",
        "  net.add(LSTM(units = 60, activation = 'relu', return_sequences = True))\n",
        "  net.add(Dropout(0.3))\n",
        "\n",
        "  net.add(LSTM(units = 80, activation = 'relu', return_sequences = True))\n",
        "  net.add(Dropout(0.4))\n",
        "\n",
        "  net.add(LSTM(units = 120, activation = 'relu'))\n",
        "  net.add(Dropout(0.5))\n",
        "\n",
        "  net.add(Dense(units =1))\n",
        "  print(net.summary())\n",
        "\n",
        "  return net\n"
      ],
      "execution_count": 17,
      "outputs": []
    },
    {
      "cell_type": "code",
      "metadata": {
        "colab": {
          "base_uri": "https://localhost:8080/"
        },
        "id": "1UBUjLyNh5KP",
        "outputId": "f6d9c025-038e-42dd-84ac-534dc6afa797"
      },
      "source": [
        "# Kreiranje modela mreze\n",
        "\n",
        "net = build_net(input_1 = X_train.shape[1], input_2 = X_train.shape[2])"
      ],
      "execution_count": 18,
      "outputs": [
        {
          "output_type": "stream",
          "text": [
            "Model: \"sequential\"\n",
            "_________________________________________________________________\n",
            "Layer (type)                 Output Shape              Param #   \n",
            "=================================================================\n",
            "lstm (LSTM)                  (None, 60, 50)            11000     \n",
            "_________________________________________________________________\n",
            "dropout (Dropout)            (None, 60, 50)            0         \n",
            "_________________________________________________________________\n",
            "lstm_1 (LSTM)                (None, 60, 60)            26640     \n",
            "_________________________________________________________________\n",
            "dropout_1 (Dropout)          (None, 60, 60)            0         \n",
            "_________________________________________________________________\n",
            "lstm_2 (LSTM)                (None, 60, 80)            45120     \n",
            "_________________________________________________________________\n",
            "dropout_2 (Dropout)          (None, 60, 80)            0         \n",
            "_________________________________________________________________\n",
            "lstm_3 (LSTM)                (None, 120)               96480     \n",
            "_________________________________________________________________\n",
            "dropout_3 (Dropout)          (None, 120)               0         \n",
            "_________________________________________________________________\n",
            "dense (Dense)                (None, 1)                 121       \n",
            "=================================================================\n",
            "Total params: 179,361\n",
            "Trainable params: 179,361\n",
            "Non-trainable params: 0\n",
            "_________________________________________________________________\n",
            "None\n"
          ],
          "name": "stdout"
        }
      ]
    },
    {
      "cell_type": "markdown",
      "metadata": {
        "id": "30h12bNEmP83"
      },
      "source": [
        "### **Kompilacija i treniranje mreze**"
      ]
    },
    {
      "cell_type": "code",
      "metadata": {
        "id": "W1PIqBXAb8LA"
      },
      "source": [
        "# Definicija funkcije za kompilaciju i treniranje mreze\n",
        "# Treniranje je moguce vrsiti sa ili bez validacije\n",
        "\n",
        "def compile_and_fit(optimizer = 'adam', loss = 'mean_squared_error', metrics = 'mse', X_train_ = X_train, y_train_ = y_train, epochs = 20, validation = 0.1, batch_size = 50, patience = 3):\n",
        "\n",
        "  net.compile(optimizer = optimizer, loss = loss, metrics = [metrics])\n",
        "\n",
        "  callback = tf.keras.callbacks.EarlyStopping(monitor = 'loss', patience = patience)\n",
        "  # This callback will stop the training when there is no improvement in\n",
        "  # the loss for three consecutive epochs.\n",
        "\n",
        "  if validation == 0:\n",
        "    history = net.fit(X_train_, y_train_, epochs = epochs, batch_size = batch_size, callbacks=[callback], verbose=0)\n",
        "  else:\n",
        "    history = net.fit(X_train_, y_train_, epochs = epochs, validation_split = validation, batch_size = batch_size, callbacks=[callback], verbose=0)\n",
        "\n",
        "  return history, net\n"
      ],
      "execution_count": 19,
      "outputs": []
    },
    {
      "cell_type": "code",
      "metadata": {
        "colab": {
          "base_uri": "https://localhost:8080/"
        },
        "id": "VWL-DLbIlrbw",
        "outputId": "e8ca7a65-6b0f-4166-c784-89d6f5a3cef7"
      },
      "source": [
        "# Kompilacija i treniranje mreze sa validacijom\n",
        "\n",
        "print('Treniranje sa validacijom\\n')\n",
        "history_validation, net_validation = compile_and_fit(optimizer = 'adam', loss = 'mean_squared_error', metrics = 'mse', X_train_ = X_train, y_train_ = y_train, epochs = 20, validation = 0.2, batch_size = 50, patience = 3)\n",
        "\n",
        "\n",
        "# Kompilacija i treniranje mreze bez validacije\n",
        "\n",
        "print('\\nTreniranje bez validacije\\n')\n",
        "history_no_validation, net_no_validation = compile_and_fit(optimizer = 'adam', loss = 'mean_squared_error', metrics = 'mse', X_train_ = X_train, y_train_ = y_train, epochs = 20, validation = 0, batch_size = 50, patience = 3)\n"
      ],
      "execution_count": null,
      "outputs": [
        {
          "output_type": "stream",
          "text": [
            "Treniranje sa validacijom\n",
            "\n",
            "Epoch 1/20\n",
            "2246/2246 [==============================] - 482s 212ms/step - loss: 0.0023 - mse: 0.0023 - val_loss: 0.0038 - val_mse: 0.0038\n",
            "Epoch 2/20\n",
            "2246/2246 [==============================] - 480s 214ms/step - loss: 0.0010 - mse: 0.0010 - val_loss: 0.0119 - val_mse: 0.0119\n",
            "Epoch 3/20\n",
            "2246/2246 [==============================] - 480s 214ms/step - loss: 9.8233e-04 - mse: 9.8233e-04 - val_loss: 1.5919 - val_mse: 1.5919\n",
            "Epoch 4/20\n",
            "2246/2246 [==============================] - 481s 214ms/step - loss: 9.5035e-04 - mse: 9.5035e-04 - val_loss: 1.1580 - val_mse: 1.1580\n",
            "Epoch 5/20\n",
            "2246/2246 [==============================] - 480s 214ms/step - loss: 9.2634e-04 - mse: 9.2634e-04 - val_loss: 0.5844 - val_mse: 0.5844\n",
            "Epoch 6/20\n",
            "2246/2246 [==============================] - 478s 213ms/step - loss: 9.1878e-04 - mse: 9.1878e-04 - val_loss: 0.0623 - val_mse: 0.0623\n",
            "Epoch 7/20\n",
            "2246/2246 [==============================] - 482s 215ms/step - loss: 8.9609e-04 - mse: 8.9609e-04 - val_loss: 0.0424 - val_mse: 0.0424\n",
            "Epoch 8/20\n",
            "2246/2246 [==============================] - 480s 214ms/step - loss: 8.8423e-04 - mse: 8.8423e-04 - val_loss: 0.0105 - val_mse: 0.0105\n",
            "Epoch 9/20\n",
            "2246/2246 [==============================] - 479s 213ms/step - loss: 8.8533e-04 - mse: 8.8533e-04 - val_loss: 0.0195 - val_mse: 0.0195\n",
            "Epoch 10/20\n",
            "2246/2246 [==============================] - 481s 214ms/step - loss: 8.6975e-04 - mse: 8.6975e-04 - val_loss: 0.0257 - val_mse: 0.0257\n",
            "Epoch 11/20\n",
            "2246/2246 [==============================] - 481s 214ms/step - loss: 8.6866e-04 - mse: 8.6866e-04 - val_loss: 0.0315 - val_mse: 0.0315\n",
            "Epoch 12/20\n",
            "2246/2246 [==============================] - 480s 214ms/step - loss: 8.7106e-04 - mse: 8.7106e-04 - val_loss: 0.0338 - val_mse: 0.0338\n",
            "Epoch 13/20\n",
            "2246/2246 [==============================] - 479s 213ms/step - loss: 8.6677e-04 - mse: 8.6677e-04 - val_loss: 0.0203 - val_mse: 0.0203\n",
            "Epoch 14/20\n",
            "2246/2246 [==============================] - 482s 215ms/step - loss: 8.6948e-04 - mse: 8.6948e-04 - val_loss: 0.0378 - val_mse: 0.0378\n",
            "Epoch 15/20\n",
            "2246/2246 [==============================] - 483s 215ms/step - loss: 8.6275e-04 - mse: 8.6275e-04 - val_loss: 0.0176 - val_mse: 0.0176\n",
            "Epoch 16/20\n",
            "2246/2246 [==============================] - 484s 215ms/step - loss: 8.6654e-04 - mse: 8.6654e-04 - val_loss: 0.0838 - val_mse: 0.0838\n",
            "Epoch 17/20\n",
            "2246/2246 [==============================] - 482s 214ms/step - loss: 8.6192e-04 - mse: 8.6192e-04 - val_loss: 0.0358 - val_mse: 0.0358\n",
            "Epoch 18/20\n",
            "2246/2246 [==============================] - 482s 215ms/step - loss: 8.5206e-04 - mse: 8.5206e-04 - val_loss: 0.0216 - val_mse: 0.0216\n",
            "Epoch 19/20\n",
            "2246/2246 [==============================] - 481s 214ms/step - loss: 8.6126e-04 - mse: 8.6126e-04 - val_loss: 0.0179 - val_mse: 0.0179\n",
            "Epoch 20/20\n",
            "2246/2246 [==============================] - 482s 215ms/step - loss: 8.4825e-04 - mse: 8.4825e-04 - val_loss: 0.0185 - val_mse: 0.0185\n",
            "\n",
            "Treniranje bez validacije\n",
            "\n",
            "Epoch 1/20\n",
            "2808/2808 [==============================] - 573s 203ms/step - loss: 0.0030 - mse: 0.0030\n",
            "Epoch 2/20\n",
            "2808/2808 [==============================] - 571s 203ms/step - loss: 0.0014 - mse: 0.0014\n",
            "Epoch 3/20\n",
            "2808/2808 [==============================] - 573s 204ms/step - loss: 0.0014 - mse: 0.0014\n",
            "Epoch 4/20\n",
            "1895/2808 [===================>..........] - ETA: 3:05 - loss: 0.0014 - mse: 0.0014"
          ],
          "name": "stdout"
        }
      ]
    },
    {
      "cell_type": "markdown",
      "metadata": {
        "id": "3wdUsbdgnIdP"
      },
      "source": [
        "## **Priprema test skupa**"
      ]
    },
    {
      "cell_type": "markdown",
      "metadata": {
        "id": "gbS6pt_LnUdP"
      },
      "source": [
        "### **Filtriranje atributa test skupa**"
      ]
    },
    {
      "cell_type": "code",
      "metadata": {
        "id": "XP-aXyi7MbNA"
      },
      "source": [
        "# Izbacivanje nepotrebnih kolona (atributa) iz test skupa\n",
        "\n",
        "test_ = test.drop(['Date', 'Volume_(BTC)', 'Volume_(Currency)', 'Weighted_Price', 'Timestamp'], axis = 1)\n"
      ],
      "execution_count": null,
      "outputs": []
    },
    {
      "cell_type": "markdown",
      "metadata": {
        "id": "jBcsPYFgryj9"
      },
      "source": [
        "### **Skaliranje test skupa**"
      ]
    },
    {
      "cell_type": "code",
      "metadata": {
        "id": "3nS3LkG4rl0B"
      },
      "source": [
        "# Skaliranje test skupa\n",
        "\n",
        "test_ = scaler.transform(test_)"
      ],
      "execution_count": null,
      "outputs": []
    },
    {
      "cell_type": "markdown",
      "metadata": {
        "id": "MxVP5EpOr4fL"
      },
      "source": [
        "### **Odredjivanje ciljne promenljive na test skupu**"
      ]
    },
    {
      "cell_type": "code",
      "metadata": {
        "id": "M09aM4LOrnrr"
      },
      "source": [
        "# Odredjivanje ciljne (target) promenljive na test skupu\n",
        "\n",
        "X_test = []\n",
        "y_test = []\n",
        "\n",
        "for i in range(60, test_.shape[0]):\n",
        "    X_test.append(test_[i-60:i])\n",
        "    y_test.append(test_[i,0])\n",
        "    "
      ],
      "execution_count": null,
      "outputs": []
    },
    {
      "cell_type": "code",
      "metadata": {
        "id": "QGBTTxYTrqK9"
      },
      "source": [
        "# Konverzija u np.array\n",
        "\n",
        "X_test, y_test = np.array(X_test), np.array(y_test)"
      ],
      "execution_count": null,
      "outputs": []
    },
    {
      "cell_type": "markdown",
      "metadata": {
        "id": "pjo3QnGVsKpt"
      },
      "source": [
        "## **Predvidjanje**"
      ]
    },
    {
      "cell_type": "code",
      "metadata": {
        "id": "IkU6jqFNrrUZ"
      },
      "source": [
        "# Predvidjanje za mrezu treniranu bez i sa validacijom\n",
        "\n",
        "# Bez validacije\n",
        "y_predicted_no_validation = net_no_validation.predict(X_test)\n",
        "print('Predvidjene vrednosti - bez validacije:\\n', y_predicted_no_validation)\n",
        "\n",
        "print('R2 Score: ', r2_score(y_test, y_predicted_no_validation))\n",
        "print('MAE: ', mean_absolute_error(y_test, y_predicted_no_validation))\n",
        "\n",
        "# Sa validacijom\n",
        "y_predicted_validation = net_validation.predict(X_test)\n",
        "print('\\nPredvidjene vrednosti - sa validacijom:\\n', y_predicted_validation)\n",
        "\n",
        "print('R2 Score: ', r2_score(y_test, y_predicted_validation))\n",
        "print('MAE: ', mean_absolute_error(y_test, y_predicted_validation))"
      ],
      "execution_count": null,
      "outputs": []
    },
    {
      "cell_type": "markdown",
      "metadata": {
        "id": "Vtwv1-mtsie5"
      },
      "source": [
        "## **Vizualizacija rezultata predvidjanja i metrika**"
      ]
    },
    {
      "cell_type": "code",
      "metadata": {
        "id": "rpuCAGCxzAat"
      },
      "source": [
        "# Vizuelni prikaz rezultata modela mreze\n",
        "\n",
        "def plot_real_vs_predicted_data(test_set, predicted_set):\n",
        "\n",
        "  fig, ax = plt.subplots(1, figsize=(16, 9))\n",
        "  ax.plot(test_set, label='Stvarna vrednost BTC', linewidth=2)\n",
        "  ax.plot(predicted_set, label='Predvidjena vrednost BTC', linewidth=2)\n",
        "  ax.set_xlabel('Redni broj instance', fontsize=14)\n",
        "  ax.set_ylabel('Cena [USD]', fontsize=14)\n",
        "  ax.set_title(label = 'Vizuelni prikaz stvarne i predvidjene vrednosti BTC', fontsize=18)\n",
        "  ax.legend(loc='best', fontsize=18)\n",
        "\n",
        "  # test = test.reset_index()\n",
        "  # x = test.index\n"
      ],
      "execution_count": null,
      "outputs": []
    },
    {
      "cell_type": "code",
      "metadata": {
        "id": "iEnWZYr6zAhG"
      },
      "source": [
        "# Plotovanje stvarne i predvidjene vrednosti\n",
        "\n",
        "# Bez validacije\n",
        "\n",
        "print('Bez validacije\\n')\n",
        "plot_real_vs_predicted_data(test_set = y_test, predicted_set = y_predicted_no_validation)\n",
        "\n",
        "\n",
        "# Sa validacijom\n",
        "\n",
        "print('\\nSa validacijom\\n')\n",
        "plot_real_vs_predicted_data(test_set = y_test, predicted_set = y_predicted_validation)"
      ],
      "execution_count": null,
      "outputs": []
    },
    {
      "cell_type": "code",
      "metadata": {
        "id": "JLp_Ems1zAja"
      },
      "source": [
        "# Vizuelni prikaz gubitka i MSE tokom treniranja mreze\n",
        "\n",
        "# Ukoliko je validacija nije koriscena tokom treniranja mreze,\n",
        "# onda parametar is_validation_used treba biti 0, a inace 1\n",
        "\n",
        "def plot_loss_and_mse(history_, is_validation_used):\n",
        "\n",
        "  epochs = range(len(history_.history['loss'])) # broj epoha\n",
        "\n",
        "  plt.title('Vizuelni prikaz gubitka (loss) i srednjekvadratna greska (mse) mreze')\n",
        "\n",
        "\n",
        "  # Gubitak\n",
        "\n",
        "  plt.subplot(211)\n",
        "  \n",
        "  plt.plot(epochs, history_.history['loss'], label='Gubitak (loss) tokom treniranja')\n",
        "\n",
        "  if is_validation_used == 1:\n",
        "    plt.plot(epochs, history_.history['val_loss'], label='Gubitak (val_loss) tokom validacije')\n",
        "  \n",
        "  plt.legend()\n",
        "\n",
        "\n",
        "  # MSE\n",
        "\n",
        "  plt.subplot(212)\n",
        "\n",
        "  plt.plot(epochs, history_.history['accuracy'], label='Srednjekvadratna greska (mse) tokom treniranja')\n",
        "  \n",
        "  if is_validation_used == 1:\n",
        "    plt.plot(epochs, history_.history['val_mse'], label='Srednjekvadratna greska (val_mse) tokom validacije')\n",
        "  \n",
        "  plt.legend()\n",
        "\n",
        "  plt.show()\n"
      ],
      "execution_count": null,
      "outputs": []
    },
    {
      "cell_type": "code",
      "metadata": {
        "id": "1BSAAKGSzAlx"
      },
      "source": [
        "# Plotovanje gubitka i srednjekvadratne greske mreze tokom treniranja\n",
        "\n",
        "# Bez validacije\n",
        "\n",
        "print('Bez validacije\\n')\n",
        "plot_loss_and_mse(history_ = history_no_validation, is_validation_used = 0)\n",
        "\n",
        "\n",
        "# Sa validacijom\n",
        "\n",
        "print('\\nSa validacijom\\n')\n",
        "plot_loss_and_mse(history_ = history_validation, is_validation_used = 1)"
      ],
      "execution_count": null,
      "outputs": []
    },
    {
      "cell_type": "code",
      "metadata": {
        "id": "wUTerg4HIIqp"
      },
      "source": [
        ""
      ],
      "execution_count": null,
      "outputs": []
    },
    {
      "cell_type": "code",
      "metadata": {
        "id": "jatmP93kIEk-"
      },
      "source": [
        ""
      ],
      "execution_count": null,
      "outputs": []
    }
  ]
}